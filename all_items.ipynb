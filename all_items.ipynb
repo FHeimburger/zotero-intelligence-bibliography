{
 "cells": [
  {
   "attachments": {},
   "cell_type": "markdown",
   "metadata": {},
   "source": [
    "# Importing libraries"
   ]
  },
  {
   "cell_type": "code",
   "execution_count": 45,
   "metadata": {},
   "outputs": [],
   "source": [
    "from pyzotero import zotero\n",
    "import os\n",
    "import tweepy as tw\n",
    "import pandas as pd\n",
    "import datetime\n",
    "import json, sys\n",
    "from datetime import date, timedelta  \n",
    "import datetime\n",
    "import plotly.express as px\n",
    "import pycountry\n",
    "import re\n",
    "import pandas as pd\n",
    "import requests\n",
    "import time\n",
    "from datetime import datetime, timedelta"
   ]
  },
  {
   "cell_type": "code",
   "execution_count": 46,
   "metadata": {},
   "outputs": [
    {
     "data": {
      "text/plain": [
       "2"
      ]
     },
     "execution_count": 46,
     "metadata": {},
     "output_type": "execute_result"
    }
   ],
   "source": [
    "\"# All items in the Zotero Intelligence bibliography library\".index(\"All\")"
   ]
  },
  {
   "cell_type": "code",
   "execution_count": 47,
   "metadata": {},
   "outputs": [],
   "source": [
    "library_id = '2514686'\n",
    "library_type = 'group'\n",
    "api_key = '' # api_key is only needed for private groups and libraries\n",
    "zot = zotero.Zotero(library_id, library_type)\n"
   ]
  },
  {
   "attachments": {},
   "cell_type": "markdown",
   "metadata": {},
   "source": [
    "# All items in the Zotero Intelligence bibliography library"
   ]
  },
  {
   "cell_type": "code",
   "execution_count": 48,
   "metadata": {},
   "outputs": [],
   "source": [
    "items = zot.everything(zot.top())\n",
    "\n",
    "data3=[]\n",
    "columns3=['Title','Publication type', 'Link to publication', 'Abstract', 'Zotero link', 'Date published', 'FirstName2', 'Publisher', 'Journal', 'Date added', 'Col key', 'DOI', 'Book_title']\n",
    "\n",
    "for item in items:\n",
    "    # Extracting various types of creators\n",
    "    authors = \"\"\n",
    "    if 'creators' in item['data']:\n",
    "        authors_info = item['data']['creators']\n",
    "        author_names = []\n",
    "        for author in authors_info:\n",
    "            creator_type = author.get('creatorType')\n",
    "            valid_types = ['author', 'contributor', 'editor', 'guest', 'podcaster', 'presenter', 'translator', 'programmer']\n",
    "            \n",
    "            if item['data']['itemType'] == 'bookSection' and creator_type == 'editor':\n",
    "                continue  # Skip adding 'editor' for Book chapters\n",
    "            \n",
    "            if creator_type in valid_types:\n",
    "                if 'firstName' in author and 'lastName' in author:\n",
    "                    author_names.append(author['firstName'] + ' ' + author['lastName'])\n",
    "                elif 'name' in author:\n",
    "                    author_names.append(author['name'])\n",
    "                \n",
    "        authors = ', '.join(author_names)\n",
    "        \n",
    "    data3.append((\n",
    "        item['data']['title'], \n",
    "        item['data']['itemType'], \n",
    "        item['data']['url'], \n",
    "        item['data']['abstractNote'], \n",
    "        item['links']['alternate']['href'],\n",
    "        item['data'].get('date'),\n",
    "        authors,  # Add the concatenated authors string\n",
    "        item['data'].get('publisher'),\n",
    "        item['data'].get('publicationTitle'),\n",
    "        item['data']['dateAdded'],\n",
    "        item['data']['collections'],\n",
    "        item['data'].get('DOI'),\n",
    "        item['data'].get('bookTitle')\n",
    "        ))\n",
    "# pd.set_option('display.max_colwidth', None)\n",
    "\n",
    "df = pd.DataFrame(data3, columns=columns3)\n",
    "\n",
    "mapping_types = {\n",
    "    'thesis': 'Thesis',\n",
    "    'journalArticle': 'Journal article',\n",
    "    'book': 'Book',\n",
    "    'bookSection': 'Book chapter',\n",
    "    'blogPost': 'Blog post',\n",
    "    'videoRecording': 'Video',\n",
    "    'podcast': 'Podcast',\n",
    "    'magazineArticle': 'Magazine article',\n",
    "    'webpage': 'Webpage',\n",
    "    'newspaperArticle': 'Newspaper article',\n",
    "    'report': 'Report',\n",
    "    'forumPost': 'Forum post',\n",
    "    'manuscript': 'Manuscript',\n",
    "    'document': 'Document',\n",
    "    'conferencePaper': 'Conference paper',\n",
    "    'film': 'Film',\n",
    "    'presentation': 'Presentation',\n",
    "    'audioRecording':'Podcast',\n",
    "    'preprint':'Preprint',\n",
    "    'hearing':'Hearing',\n",
    "    'computerProgram':'Computer program'\n",
    "}\n",
    "df['Publication type'] = df['Publication type'].replace(mapping_types)\n",
    "\n",
    "mapping_publisher = {\n",
    "    'Taylor & Francis Group': 'Taylor and Francis',\n",
    "    'Taylor and Francis': 'Taylor and Francis',\n",
    "    'Taylor & Francis': 'Taylor and Francis',\n",
    "    'Routledge': 'Routledge',\n",
    "    'Routledge Handbooks Online': 'Routledge',\n",
    "    'Praeger Security International': 'Praeger',\n",
    "    'Praeger': 'Praeger'\n",
    "}\n",
    "df['Publisher'] = df['Publisher'].replace(mapping_publisher)\n",
    "\n",
    "# df['Publisher'] = df['Publisher'].replace(['Taylor & Francis Group', 'Taylor and Francis', 'Taylor & Francis'], 'Taylor and Francis')\n",
    "# df['Publisher'] = df['Publisher'].replace(['Routledge', 'Routledge Handbooks Online'], 'Routledge')\n",
    "# df['Publisher'] = df['Publisher'].replace(['Praeger Security International', 'Praeger'], 'Praeger')\n",
    "\n",
    "mapping_journal = {\n",
    "    'International Journal of Intelligence and Counterintelligence': 'Intl Journal of Intelligence and Counterintelligence',\n",
    "    'International Journal of Intelligence and CounterIntelligence': 'Intl Journal of Intelligence and Counterintelligence',\n",
    "    'International Journal of Intelligence and Counter Intelligence': 'Intl Journal of Intelligence and Counterintelligence',\n",
    "    'Intelligence and national security': 'Intelligence and National Security',\n",
    "    'Intelligence and National Security': 'Intelligence and National Security',\n",
    "    'Intelligence & National Security': 'Intelligence and National Security'\n",
    "}\n",
    "\n",
    "df['Journal'] = df['Journal'].replace(mapping_journal)\n",
    "\n",
    "# df['Journal'] = df['Journal'].replace(['International Journal of Intelligence and Counterintelligence', 'International Journal of Intelligence and CounterIntelligence'], 'Intl Journal of Intelligence and Counterintelligence')\n",
    "# df['Journal'] = df['Journal'].replace(['Intelligence and national security', 'Intelligence and National Security', 'Intelligence & National Security'], 'Intelligence and National Security')"
   ]
  },
  {
   "cell_type": "code",
   "execution_count": 49,
   "metadata": {},
   "outputs": [
    {
     "data": {
      "text/html": [
       "<div>\n",
       "<style scoped>\n",
       "    .dataframe tbody tr th:only-of-type {\n",
       "        vertical-align: middle;\n",
       "    }\n",
       "\n",
       "    .dataframe tbody tr th {\n",
       "        vertical-align: top;\n",
       "    }\n",
       "\n",
       "    .dataframe thead th {\n",
       "        text-align: right;\n",
       "    }\n",
       "</style>\n",
       "<table border=\"1\" class=\"dataframe\">\n",
       "  <thead>\n",
       "    <tr style=\"text-align: right;\">\n",
       "      <th></th>\n",
       "      <th>Title</th>\n",
       "      <th>Publication type</th>\n",
       "      <th>Link to publication</th>\n",
       "      <th>Abstract</th>\n",
       "      <th>Zotero link</th>\n",
       "      <th>Date published</th>\n",
       "      <th>FirstName2</th>\n",
       "      <th>Publisher</th>\n",
       "      <th>Journal</th>\n",
       "      <th>Date added</th>\n",
       "      <th>Col key</th>\n",
       "      <th>DOI</th>\n",
       "      <th>Book_title</th>\n",
       "    </tr>\n",
       "  </thead>\n",
       "  <tbody>\n",
       "    <tr>\n",
       "      <th>1055</th>\n",
       "      <td>Intelligence Practice and Democratic Oversight</td>\n",
       "      <td>Report</td>\n",
       "      <td>https://www.dcaf.ch/intelligence-practice-and-...</td>\n",
       "      <td></td>\n",
       "      <td>https://www.zotero.org/groups/intelligence_bib...</td>\n",
       "      <td>2003-07-01</td>\n",
       "      <td>Geneva Centre for Security Sector Governance</td>\n",
       "      <td>None</td>\n",
       "      <td>None</td>\n",
       "      <td>2024-02-19T11:03:09Z</td>\n",
       "      <td>[DVEM4H4W]</td>\n",
       "      <td>None</td>\n",
       "      <td>None</td>\n",
       "    </tr>\n",
       "  </tbody>\n",
       "</table>\n",
       "</div>"
      ],
      "text/plain": [
       "                                               Title Publication type  \\\n",
       "1055  Intelligence Practice and Democratic Oversight           Report   \n",
       "\n",
       "                                    Link to publication Abstract  \\\n",
       "1055  https://www.dcaf.ch/intelligence-practice-and-...            \n",
       "\n",
       "                                            Zotero link Date published  \\\n",
       "1055  https://www.zotero.org/groups/intelligence_bib...     2003-07-01   \n",
       "\n",
       "                                        FirstName2 Publisher Journal  \\\n",
       "1055  Geneva Centre for Security Sector Governance      None    None   \n",
       "\n",
       "                Date added     Col key   DOI Book_title  \n",
       "1055  2024-02-19T11:03:09Z  [DVEM4H4W]  None       None  "
      ]
     },
     "execution_count": 49,
     "metadata": {},
     "output_type": "execute_result"
    }
   ],
   "source": [
    "df_test = df[df['Title']=='Intelligence Practice and Democratic Oversight']\n",
    "df_test"
   ]
  },
  {
   "cell_type": "code",
   "execution_count": 50,
   "metadata": {},
   "outputs": [],
   "source": [
    "# items = zot.everything(zot.top())\n",
    "\n",
    "# data3=[]\n",
    "# columns3=['Title','Publication type', 'Link to publication', 'Abstract', 'Zotero link', 'Date published', 'FirstName2', 'Publisher', 'Journal', 'Date added', 'Col key']\n",
    "\n",
    "# for item in items:\n",
    "#     # Extracting various types of creators\n",
    "#     authors = \"\"\n",
    "#     if 'creators' in item['data']:\n",
    "#         authors_info = item['data']['creators']\n",
    "#         author_names = []\n",
    "#         for author in authors_info:\n",
    "#             creator_type = author.get('creatorType')\n",
    "#             valid_types = ['author', 'contributor', 'editor', 'guest', 'podcaster']\n",
    "#             if creator_type in valid_types:  # Include all identified creator types\n",
    "#                 if 'firstName' in author and 'lastName' in author:\n",
    "#                     author_names.append(author['firstName'] + ' ' + author['lastName'])\n",
    "#                 elif 'name' in author:\n",
    "#                     author_names.append(author['name'])  # Handling cases where 'firstName' and 'lastName' are absent\n",
    "                \n",
    "#         authors = ', '.join(author_names)\n",
    "        \n",
    "#     data3.append((\n",
    "#         item['data']['title'], \n",
    "#         item['data']['itemType'], \n",
    "#         item['data']['url'], \n",
    "#         item['data']['abstractNote'], \n",
    "#         item['links']['alternate']['href'],\n",
    "#         item['data'].get('date'),\n",
    "#         authors,  # Add the concatenated authors string\n",
    "#         item['data'].get('publisher'),\n",
    "#         item['data'].get('publicationTitle'),\n",
    "#         item['data']['dateAdded'],\n",
    "#         item['data']['collections']\n",
    "#         )) \n",
    "# # pd.set_option('display.max_colwidth', None)\n",
    "\n",
    "# df = pd.DataFrame(data3, columns=columns3)\n",
    "\n",
    "# mapping_types = {\n",
    "#     'thesis': 'Thesis',\n",
    "#     'journalArticle': 'Journal article',\n",
    "#     'book': 'Book',\n",
    "#     'bookSection': 'Book chapter',\n",
    "#     'blogPost': 'Blog post',\n",
    "#     'videoRecording': 'Video',\n",
    "#     'podcast': 'Podcast',\n",
    "#     'magazineArticle': 'Magazine article',\n",
    "#     'webpage': 'Webpage',\n",
    "#     'newspaperArticle': 'Newspaper article',\n",
    "#     'report': 'Report',\n",
    "#     'forumPost': 'Forum post',\n",
    "#     'manuscript': 'Manuscript',\n",
    "#     'document': 'Document',\n",
    "#     'conferencePaper': 'Conference paper',\n",
    "#     'film': 'Film',\n",
    "#     'presentation': 'Presentation',\n",
    "#     'audioRecording':'Podcast'\n",
    "# }\n",
    "# df['Publication type'] = df['Publication type'].replace(mapping_types)\n",
    "\n",
    "# mapping_publisher = {\n",
    "#     'Taylor & Francis Group': 'Taylor and Francis',\n",
    "#     'Taylor and Francis': 'Taylor and Francis',\n",
    "#     'Taylor & Francis': 'Taylor and Francis',\n",
    "#     'Routledge': 'Routledge',\n",
    "#     'Routledge Handbooks Online': 'Routledge',\n",
    "#     'Praeger Security International': 'Praeger',\n",
    "#     'Praeger': 'Praeger'\n",
    "# }\n",
    "# df['Publisher'] = df['Publisher'].replace(mapping_publisher)\n",
    "\n",
    "# # df['Publisher'] = df['Publisher'].replace(['Taylor & Francis Group', 'Taylor and Francis', 'Taylor & Francis'], 'Taylor and Francis')\n",
    "# # df['Publisher'] = df['Publisher'].replace(['Routledge', 'Routledge Handbooks Online'], 'Routledge')\n",
    "# # df['Publisher'] = df['Publisher'].replace(['Praeger Security International', 'Praeger'], 'Praeger')\n",
    "\n",
    "# mapping_journal = {\n",
    "#     'International Journal of Intelligence and Counterintelligence': 'Intl Journal of Intelligence and Counterintelligence',\n",
    "#     'International Journal of Intelligence and CounterIntelligence': 'Intl Journal of Intelligence and Counterintelligence',\n",
    "#     'Intelligence and national security': 'Intelligence and National Security',\n",
    "#     'Intelligence and National Security': 'Intelligence and National Security',\n",
    "#     'Intelligence & National Security': 'Intelligence and National Security'\n",
    "# }\n",
    "\n",
    "# df['Journal'] = df['Journal'].replace(mapping_journal)\n",
    "\n",
    "# # df['Journal'] = df['Journal'].replace(['International Journal of Intelligence and Counterintelligence', 'International Journal of Intelligence and CounterIntelligence'], 'Intl Journal of Intelligence and Counterintelligence')\n",
    "# # df['Journal'] = df['Journal'].replace(['Intelligence and national security', 'Intelligence and National Security', 'Intelligence & National Security'], 'Intelligence and National Security')"
   ]
  },
  {
   "cell_type": "code",
   "execution_count": 51,
   "metadata": {},
   "outputs": [],
   "source": [
    "def zotero_collections2(library_id, library_type):\n",
    "    collections = zot.collections()\n",
    "    data = [(item['data']['key'], item['data']['name'], item['meta']['numItems'], item['links']['alternate']['href']) for item in collections]\n",
    "    df_collections = pd.DataFrame(data, columns=['Key', 'Name', 'Number', 'Link'])\n",
    "    return df_collections\n",
    "df_collections_2 = zotero_collections2(library_id, library_type)"
   ]
  },
  {
   "cell_type": "code",
   "execution_count": 52,
   "metadata": {},
   "outputs": [],
   "source": [
    "def duplicate_rows_by_col_key(df, df_collections):\n",
    "    # Duplicate rows based on 'Col key'\n",
    "    duplicated_rows = []\n",
    "    for index, row in df.iterrows():\n",
    "        if isinstance(row['Col key'], list):\n",
    "            for key in row['Col key']:\n",
    "                new_row = row.copy()\n",
    "                collection_info = df_collections[df_collections['Key'] == key]\n",
    "                if not collection_info.empty:\n",
    "                    new_row['Collection_Key'] = key\n",
    "                    new_row['Collection_Name'] = collection_info.iloc[0]['Name']\n",
    "                    new_row['Collection_Link'] = collection_info.iloc[0]['Link']\n",
    "                    duplicated_rows.append(new_row)\n",
    "        else:\n",
    "            key = row['Col key']\n",
    "            new_row = row.copy()\n",
    "            collection_info = df_collections[df_collections['Key'] == key]\n",
    "            if not collection_info.empty:\n",
    "                new_row['Collection_Key'] = key\n",
    "                new_row['Collection_Name'] = collection_info.iloc[0]['Name']\n",
    "                new_row['Collection_Link'] = collection_info.iloc[0]['Link']\n",
    "                duplicated_rows.append(new_row)\n",
    "\n",
    "    # Create a new DataFrame with duplicated rows\n",
    "    duplicated_df = pd.DataFrame(duplicated_rows)\n",
    "\n",
    "    return duplicated_df\n",
    "\n",
    "# Duplicating rows based on 'Col key' and collections information\n",
    "duplicated_df = duplicate_rows_by_col_key(df, df_collections_2)"
   ]
  },
  {
   "cell_type": "code",
   "execution_count": 53,
   "metadata": {},
   "outputs": [],
   "source": [
    "# day_allitems = datetime.date.today().isoformat()"
   ]
  },
  {
   "cell_type": "code",
   "execution_count": 54,
   "metadata": {},
   "outputs": [],
   "source": [
    "# df_fa = df['FirstName2']\n",
    "# df_fa = pd.DataFrame(df_fa.tolist())\n",
    "# df_fa = df_fa[0]\n",
    "# df_fa = df_fa.apply(lambda x: {} if pd.isna(x) else x)\n",
    "# df_new = pd.json_normalize(df_fa, errors='ignore') \n",
    "# df = pd.concat([df, df_new], axis=1)\n",
    "# df['firstName'] = df['firstName'].fillna('null')\n",
    "# df['lastName'] = df['lastName'].fillna('null')"
   ]
  },
  {
   "cell_type": "code",
   "execution_count": 55,
   "metadata": {},
   "outputs": [],
   "source": [
    "df.to_csv('all_items.csv')\n",
    "duplicated_df.to_csv('all_items_duplicated.csv')"
   ]
  },
  {
   "cell_type": "code",
   "execution_count": 56,
   "metadata": {},
   "outputs": [],
   "source": [
    "import psycopg2\n",
    "from sqlalchemy import create_engine\n",
    "import psycopg2.extras as extras"
   ]
  },
  {
   "attachments": {},
   "cell_type": "markdown",
   "metadata": {},
   "source": [
    "# Countries "
   ]
  },
  {
   "cell_type": "code",
   "execution_count": 57,
   "metadata": {},
   "outputs": [],
   "source": [
    "# Read the csv file into a pandas dataframe\n",
    "df = pd.read_csv('https://raw.githubusercontent.com/YusufAliOzkan/zotero-intelligence-bibliography/main/all_items.csv')\n",
    "\n",
    "# Dictionary to map non-proper country names to their proper names\n",
    "country_map = {\n",
    "    'british': 'UK',\n",
    "    'great britain': 'UK',\n",
    "    'UK' : 'UK', \n",
    "    'america' : 'United States',\n",
    "    'United States of America' : 'United States',\n",
    "    'Soviet Union': 'Russia', \n",
    "    'american' : 'United States',\n",
    "    'United States' : 'United States',\n",
    "    'russian' : 'Russia'\n",
    "    # Add more mappings as needed\n",
    "}\n",
    "\n",
    "# Find the country names in the \"title\" column of the dataframe\n",
    "found_countries = {}\n",
    "for i, row in df.iterrows():\n",
    "    title = str(row['Title']).lower()\n",
    "    for country in pycountry.countries:\n",
    "        name = country.name.lower()\n",
    "        if name in title or (name + 's') in title:  # Check for singular and plural forms of country names\n",
    "            proper_name = country.name\n",
    "            found_countries[proper_name] = found_countries.get(proper_name, 0) + 1\n",
    "    for non_proper, proper in country_map.items():\n",
    "        if non_proper in title:\n",
    "            found_countries[proper] = found_countries.get(proper, 0) + title.count(non_proper)\n",
    "\n",
    "# Create a new dataframe containing the found countries and their counts\n",
    "df_countries = pd.DataFrame({'Country': list(found_countries.keys()), 'Count': list(found_countries.values())})"
   ]
  },
  {
   "cell_type": "code",
   "execution_count": 58,
   "metadata": {},
   "outputs": [
    {
     "data": {
      "application/vnd.plotly.v1+json": {
       "config": {
        "plotlyServerURL": "https://plot.ly"
       },
       "data": [
        {
         "coloraxis": "coloraxis",
         "geo": "geo",
         "hovertemplate": "Country=%{location}<br>Count=%{z}<extra></extra>",
         "locationmode": "country names",
         "locations": [
          "Morocco",
          "United States",
          "Australia",
          "India",
          "Germany",
          "UK",
          "Georgia",
          "Serbia",
          "Ukraine",
          "China",
          "Israel",
          "Russia",
          "Ireland",
          "France",
          "Denmark",
          "Sweden",
          "Afghanistan",
          "Canada",
          "British Indian Ocean Territory",
          "United Kingdom",
          "Oman",
          "Romania",
          "Greece",
          "Spain",
          "Portugal",
          "Cuba",
          "Bahamas",
          "Jamaica",
          "El Salvador",
          "Paraguay",
          "Guatemala",
          "Costa Rica",
          "Ecuador",
          "Argentina",
          "Mexico",
          "Colombia",
          "Uruguay",
          "Peru",
          "Chile",
          "Brazil",
          "Switzerland",
          "New Zealand",
          "Austria",
          "Pakistan",
          "Indonesia",
          "Poland",
          "Iraq",
          "Sri Lanka",
          "Finland",
          "Zimbabwe",
          "Zambia",
          "Uganda",
          "Tunisia",
          "Togo",
          "Sudan",
          "South Sudan",
          "South Africa",
          "Mali",
          "Somalia",
          "Sierra Leone",
          "Seychelles",
          "Senegal",
          "Congo",
          "Niger",
          "Namibia",
          "Mozambique",
          "Mauritius",
          "Mauritania",
          "Madagascar",
          "Lesotho",
          "Kenya",
          "Guinea",
          "Guinea-Bissau",
          "Ghana",
          "Gambia",
          "Gabon",
          "Ethiopia",
          "Eswatini",
          "Eritrea",
          "Equatorial Guinea",
          "Egypt",
          "Comoros",
          "Chad",
          "Central African Republic",
          "Cameroon",
          "Cabo Verde",
          "Burundi",
          "Botswana",
          "Benin",
          "Algeria",
          "Angola",
          "Japan",
          "Norway",
          "Slovakia",
          "Croatia",
          "Lebanon",
          "Estonia",
          "Kuwait",
          "Thailand",
          "Lithuania",
          "Netherlands",
          "Albania",
          "Libya",
          "Bangladesh",
          "Jordan",
          "Bulgaria",
          "Latvia",
          "Turkey",
          "Bosnia and Herzegovina",
          "Hungary",
          "Nigeria",
          "Italy",
          "Hong Kong",
          "Haiti",
          "Cyprus",
          "Saudi Arabia",
          "Cambodia",
          "Singapore",
          "Yemen",
          "Malaysia",
          "Tajikistan",
          "Myanmar",
          "Kazakhstan",
          "Mongolia",
          "Slovenia",
          "Nicaragua",
          "Dominica",
          "Gibraltar",
          "Philippines",
          "Belgium",
          "Rwanda",
          "Antarctica",
          "North Macedonia",
          "Dominican Republic",
          "United Arab Emirates",
          "Nepal"
         ],
         "name": "",
         "type": "choropleth",
         "z": [
          5,
          690,
          79,
          60,
          83,
          470,
          3,
          5,
          125,
          79,
          150,
          149,
          36,
          49,
          7,
          12,
          20,
          69,
          1,
          20,
          69,
          28,
          11,
          15,
          4,
          41,
          1,
          1,
          2,
          1,
          4,
          2,
          3,
          6,
          8,
          10,
          2,
          5,
          9,
          29,
          7,
          20,
          12,
          16,
          11,
          11,
          65,
          3,
          6,
          2,
          1,
          4,
          4,
          1,
          7,
          4,
          24,
          12,
          2,
          1,
          1,
          1,
          8,
          4,
          2,
          2,
          1,
          1,
          1,
          1,
          4,
          4,
          1,
          4,
          1,
          1,
          2,
          1,
          1,
          1,
          28,
          1,
          1,
          1,
          1,
          1,
          1,
          1,
          1,
          7,
          2,
          111,
          11,
          12,
          1,
          9,
          1,
          2,
          5,
          3,
          11,
          10,
          6,
          15,
          6,
          4,
          4,
          16,
          4,
          3,
          3,
          12,
          4,
          2,
          10,
          4,
          2,
          6,
          5,
          3,
          1,
          2,
          1,
          1,
          1,
          1,
          2,
          3,
          2,
          6,
          1,
          1,
          1,
          1,
          1,
          1
         ]
        }
       ],
       "layout": {
        "coloraxis": {
         "colorbar": {
          "title": {
           "text": "Count"
          }
         },
         "colorscale": [
          [
           0,
           "#440154"
          ],
          [
           0.1111111111111111,
           "#482878"
          ],
          [
           0.2222222222222222,
           "#3e4989"
          ],
          [
           0.3333333333333333,
           "#31688e"
          ],
          [
           0.4444444444444444,
           "#26828e"
          ],
          [
           0.5555555555555556,
           "#1f9e89"
          ],
          [
           0.6666666666666666,
           "#35b779"
          ],
          [
           0.7777777777777778,
           "#6ece58"
          ],
          [
           0.8888888888888888,
           "#b5de2b"
          ],
          [
           1,
           "#fde725"
          ]
         ]
        },
        "geo": {
         "center": {},
         "domain": {
          "x": [
           0,
           1
          ],
          "y": [
           0,
           1
          ]
         }
        },
        "height": 700,
        "legend": {
         "tracegroupgap": 0
        },
        "template": {
         "data": {
          "bar": [
           {
            "error_x": {
             "color": "#2a3f5f"
            },
            "error_y": {
             "color": "#2a3f5f"
            },
            "marker": {
             "line": {
              "color": "#E5ECF6",
              "width": 0.5
             },
             "pattern": {
              "fillmode": "overlay",
              "size": 10,
              "solidity": 0.2
             }
            },
            "type": "bar"
           }
          ],
          "barpolar": [
           {
            "marker": {
             "line": {
              "color": "#E5ECF6",
              "width": 0.5
             },
             "pattern": {
              "fillmode": "overlay",
              "size": 10,
              "solidity": 0.2
             }
            },
            "type": "barpolar"
           }
          ],
          "carpet": [
           {
            "aaxis": {
             "endlinecolor": "#2a3f5f",
             "gridcolor": "white",
             "linecolor": "white",
             "minorgridcolor": "white",
             "startlinecolor": "#2a3f5f"
            },
            "baxis": {
             "endlinecolor": "#2a3f5f",
             "gridcolor": "white",
             "linecolor": "white",
             "minorgridcolor": "white",
             "startlinecolor": "#2a3f5f"
            },
            "type": "carpet"
           }
          ],
          "choropleth": [
           {
            "colorbar": {
             "outlinewidth": 0,
             "ticks": ""
            },
            "type": "choropleth"
           }
          ],
          "contour": [
           {
            "colorbar": {
             "outlinewidth": 0,
             "ticks": ""
            },
            "colorscale": [
             [
              0,
              "#0d0887"
             ],
             [
              0.1111111111111111,
              "#46039f"
             ],
             [
              0.2222222222222222,
              "#7201a8"
             ],
             [
              0.3333333333333333,
              "#9c179e"
             ],
             [
              0.4444444444444444,
              "#bd3786"
             ],
             [
              0.5555555555555556,
              "#d8576b"
             ],
             [
              0.6666666666666666,
              "#ed7953"
             ],
             [
              0.7777777777777778,
              "#fb9f3a"
             ],
             [
              0.8888888888888888,
              "#fdca26"
             ],
             [
              1,
              "#f0f921"
             ]
            ],
            "type": "contour"
           }
          ],
          "contourcarpet": [
           {
            "colorbar": {
             "outlinewidth": 0,
             "ticks": ""
            },
            "type": "contourcarpet"
           }
          ],
          "heatmap": [
           {
            "colorbar": {
             "outlinewidth": 0,
             "ticks": ""
            },
            "colorscale": [
             [
              0,
              "#0d0887"
             ],
             [
              0.1111111111111111,
              "#46039f"
             ],
             [
              0.2222222222222222,
              "#7201a8"
             ],
             [
              0.3333333333333333,
              "#9c179e"
             ],
             [
              0.4444444444444444,
              "#bd3786"
             ],
             [
              0.5555555555555556,
              "#d8576b"
             ],
             [
              0.6666666666666666,
              "#ed7953"
             ],
             [
              0.7777777777777778,
              "#fb9f3a"
             ],
             [
              0.8888888888888888,
              "#fdca26"
             ],
             [
              1,
              "#f0f921"
             ]
            ],
            "type": "heatmap"
           }
          ],
          "heatmapgl": [
           {
            "colorbar": {
             "outlinewidth": 0,
             "ticks": ""
            },
            "colorscale": [
             [
              0,
              "#0d0887"
             ],
             [
              0.1111111111111111,
              "#46039f"
             ],
             [
              0.2222222222222222,
              "#7201a8"
             ],
             [
              0.3333333333333333,
              "#9c179e"
             ],
             [
              0.4444444444444444,
              "#bd3786"
             ],
             [
              0.5555555555555556,
              "#d8576b"
             ],
             [
              0.6666666666666666,
              "#ed7953"
             ],
             [
              0.7777777777777778,
              "#fb9f3a"
             ],
             [
              0.8888888888888888,
              "#fdca26"
             ],
             [
              1,
              "#f0f921"
             ]
            ],
            "type": "heatmapgl"
           }
          ],
          "histogram": [
           {
            "marker": {
             "pattern": {
              "fillmode": "overlay",
              "size": 10,
              "solidity": 0.2
             }
            },
            "type": "histogram"
           }
          ],
          "histogram2d": [
           {
            "colorbar": {
             "outlinewidth": 0,
             "ticks": ""
            },
            "colorscale": [
             [
              0,
              "#0d0887"
             ],
             [
              0.1111111111111111,
              "#46039f"
             ],
             [
              0.2222222222222222,
              "#7201a8"
             ],
             [
              0.3333333333333333,
              "#9c179e"
             ],
             [
              0.4444444444444444,
              "#bd3786"
             ],
             [
              0.5555555555555556,
              "#d8576b"
             ],
             [
              0.6666666666666666,
              "#ed7953"
             ],
             [
              0.7777777777777778,
              "#fb9f3a"
             ],
             [
              0.8888888888888888,
              "#fdca26"
             ],
             [
              1,
              "#f0f921"
             ]
            ],
            "type": "histogram2d"
           }
          ],
          "histogram2dcontour": [
           {
            "colorbar": {
             "outlinewidth": 0,
             "ticks": ""
            },
            "colorscale": [
             [
              0,
              "#0d0887"
             ],
             [
              0.1111111111111111,
              "#46039f"
             ],
             [
              0.2222222222222222,
              "#7201a8"
             ],
             [
              0.3333333333333333,
              "#9c179e"
             ],
             [
              0.4444444444444444,
              "#bd3786"
             ],
             [
              0.5555555555555556,
              "#d8576b"
             ],
             [
              0.6666666666666666,
              "#ed7953"
             ],
             [
              0.7777777777777778,
              "#fb9f3a"
             ],
             [
              0.8888888888888888,
              "#fdca26"
             ],
             [
              1,
              "#f0f921"
             ]
            ],
            "type": "histogram2dcontour"
           }
          ],
          "mesh3d": [
           {
            "colorbar": {
             "outlinewidth": 0,
             "ticks": ""
            },
            "type": "mesh3d"
           }
          ],
          "parcoords": [
           {
            "line": {
             "colorbar": {
              "outlinewidth": 0,
              "ticks": ""
             }
            },
            "type": "parcoords"
           }
          ],
          "pie": [
           {
            "automargin": true,
            "type": "pie"
           }
          ],
          "scatter": [
           {
            "fillpattern": {
             "fillmode": "overlay",
             "size": 10,
             "solidity": 0.2
            },
            "type": "scatter"
           }
          ],
          "scatter3d": [
           {
            "line": {
             "colorbar": {
              "outlinewidth": 0,
              "ticks": ""
             }
            },
            "marker": {
             "colorbar": {
              "outlinewidth": 0,
              "ticks": ""
             }
            },
            "type": "scatter3d"
           }
          ],
          "scattercarpet": [
           {
            "marker": {
             "colorbar": {
              "outlinewidth": 0,
              "ticks": ""
             }
            },
            "type": "scattercarpet"
           }
          ],
          "scattergeo": [
           {
            "marker": {
             "colorbar": {
              "outlinewidth": 0,
              "ticks": ""
             }
            },
            "type": "scattergeo"
           }
          ],
          "scattergl": [
           {
            "marker": {
             "colorbar": {
              "outlinewidth": 0,
              "ticks": ""
             }
            },
            "type": "scattergl"
           }
          ],
          "scattermapbox": [
           {
            "marker": {
             "colorbar": {
              "outlinewidth": 0,
              "ticks": ""
             }
            },
            "type": "scattermapbox"
           }
          ],
          "scatterpolar": [
           {
            "marker": {
             "colorbar": {
              "outlinewidth": 0,
              "ticks": ""
             }
            },
            "type": "scatterpolar"
           }
          ],
          "scatterpolargl": [
           {
            "marker": {
             "colorbar": {
              "outlinewidth": 0,
              "ticks": ""
             }
            },
            "type": "scatterpolargl"
           }
          ],
          "scatterternary": [
           {
            "marker": {
             "colorbar": {
              "outlinewidth": 0,
              "ticks": ""
             }
            },
            "type": "scatterternary"
           }
          ],
          "surface": [
           {
            "colorbar": {
             "outlinewidth": 0,
             "ticks": ""
            },
            "colorscale": [
             [
              0,
              "#0d0887"
             ],
             [
              0.1111111111111111,
              "#46039f"
             ],
             [
              0.2222222222222222,
              "#7201a8"
             ],
             [
              0.3333333333333333,
              "#9c179e"
             ],
             [
              0.4444444444444444,
              "#bd3786"
             ],
             [
              0.5555555555555556,
              "#d8576b"
             ],
             [
              0.6666666666666666,
              "#ed7953"
             ],
             [
              0.7777777777777778,
              "#fb9f3a"
             ],
             [
              0.8888888888888888,
              "#fdca26"
             ],
             [
              1,
              "#f0f921"
             ]
            ],
            "type": "surface"
           }
          ],
          "table": [
           {
            "cells": {
             "fill": {
              "color": "#EBF0F8"
             },
             "line": {
              "color": "white"
             }
            },
            "header": {
             "fill": {
              "color": "#C8D4E3"
             },
             "line": {
              "color": "white"
             }
            },
            "type": "table"
           }
          ]
         },
         "layout": {
          "annotationdefaults": {
           "arrowcolor": "#2a3f5f",
           "arrowhead": 0,
           "arrowwidth": 1
          },
          "autotypenumbers": "strict",
          "coloraxis": {
           "colorbar": {
            "outlinewidth": 0,
            "ticks": ""
           }
          },
          "colorscale": {
           "diverging": [
            [
             0,
             "#8e0152"
            ],
            [
             0.1,
             "#c51b7d"
            ],
            [
             0.2,
             "#de77ae"
            ],
            [
             0.3,
             "#f1b6da"
            ],
            [
             0.4,
             "#fde0ef"
            ],
            [
             0.5,
             "#f7f7f7"
            ],
            [
             0.6,
             "#e6f5d0"
            ],
            [
             0.7,
             "#b8e186"
            ],
            [
             0.8,
             "#7fbc41"
            ],
            [
             0.9,
             "#4d9221"
            ],
            [
             1,
             "#276419"
            ]
           ],
           "sequential": [
            [
             0,
             "#0d0887"
            ],
            [
             0.1111111111111111,
             "#46039f"
            ],
            [
             0.2222222222222222,
             "#7201a8"
            ],
            [
             0.3333333333333333,
             "#9c179e"
            ],
            [
             0.4444444444444444,
             "#bd3786"
            ],
            [
             0.5555555555555556,
             "#d8576b"
            ],
            [
             0.6666666666666666,
             "#ed7953"
            ],
            [
             0.7777777777777778,
             "#fb9f3a"
            ],
            [
             0.8888888888888888,
             "#fdca26"
            ],
            [
             1,
             "#f0f921"
            ]
           ],
           "sequentialminus": [
            [
             0,
             "#0d0887"
            ],
            [
             0.1111111111111111,
             "#46039f"
            ],
            [
             0.2222222222222222,
             "#7201a8"
            ],
            [
             0.3333333333333333,
             "#9c179e"
            ],
            [
             0.4444444444444444,
             "#bd3786"
            ],
            [
             0.5555555555555556,
             "#d8576b"
            ],
            [
             0.6666666666666666,
             "#ed7953"
            ],
            [
             0.7777777777777778,
             "#fb9f3a"
            ],
            [
             0.8888888888888888,
             "#fdca26"
            ],
            [
             1,
             "#f0f921"
            ]
           ]
          },
          "colorway": [
           "#636efa",
           "#EF553B",
           "#00cc96",
           "#ab63fa",
           "#FFA15A",
           "#19d3f3",
           "#FF6692",
           "#B6E880",
           "#FF97FF",
           "#FECB52"
          ],
          "font": {
           "color": "#2a3f5f"
          },
          "geo": {
           "bgcolor": "white",
           "lakecolor": "white",
           "landcolor": "#E5ECF6",
           "showlakes": true,
           "showland": true,
           "subunitcolor": "white"
          },
          "hoverlabel": {
           "align": "left"
          },
          "hovermode": "closest",
          "mapbox": {
           "style": "light"
          },
          "paper_bgcolor": "white",
          "plot_bgcolor": "#E5ECF6",
          "polar": {
           "angularaxis": {
            "gridcolor": "white",
            "linecolor": "white",
            "ticks": ""
           },
           "bgcolor": "#E5ECF6",
           "radialaxis": {
            "gridcolor": "white",
            "linecolor": "white",
            "ticks": ""
           }
          },
          "scene": {
           "xaxis": {
            "backgroundcolor": "#E5ECF6",
            "gridcolor": "white",
            "gridwidth": 2,
            "linecolor": "white",
            "showbackground": true,
            "ticks": "",
            "zerolinecolor": "white"
           },
           "yaxis": {
            "backgroundcolor": "#E5ECF6",
            "gridcolor": "white",
            "gridwidth": 2,
            "linecolor": "white",
            "showbackground": true,
            "ticks": "",
            "zerolinecolor": "white"
           },
           "zaxis": {
            "backgroundcolor": "#E5ECF6",
            "gridcolor": "white",
            "gridwidth": 2,
            "linecolor": "white",
            "showbackground": true,
            "ticks": "",
            "zerolinecolor": "white"
           }
          },
          "shapedefaults": {
           "line": {
            "color": "#2a3f5f"
           }
          },
          "ternary": {
           "aaxis": {
            "gridcolor": "white",
            "linecolor": "white",
            "ticks": ""
           },
           "baxis": {
            "gridcolor": "white",
            "linecolor": "white",
            "ticks": ""
           },
           "bgcolor": "#E5ECF6",
           "caxis": {
            "gridcolor": "white",
            "linecolor": "white",
            "ticks": ""
           }
          },
          "title": {
           "x": 0.05
          },
          "xaxis": {
           "automargin": true,
           "gridcolor": "white",
           "linecolor": "white",
           "ticks": "",
           "title": {
            "standoff": 15
           },
           "zerolinecolor": "white",
           "zerolinewidth": 2
          },
          "yaxis": {
           "automargin": true,
           "gridcolor": "white",
           "linecolor": "white",
           "ticks": "",
           "title": {
            "standoff": 15
           },
           "zerolinecolor": "white",
           "zerolinewidth": 2
          }
         }
        },
        "title": {
         "text": "Country mentions in titles"
        },
        "width": 1100
       }
      }
     },
     "metadata": {},
     "output_type": "display_data"
    }
   ],
   "source": [
    "fig = px.choropleth(df_countries, locations='Country', locationmode='country names', color='Count', \n",
    "                    title='Country mentions in titles', color_continuous_scale='Viridis',\n",
    "                    width=1100, height=700) # Adjust the size of the map here\n",
    "\n",
    "# Display the map\n",
    "fig.show()"
   ]
  },
  {
   "cell_type": "code",
   "execution_count": 59,
   "metadata": {},
   "outputs": [
    {
     "data": {
      "text/html": [
       "<div>\n",
       "<style scoped>\n",
       "    .dataframe tbody tr th:only-of-type {\n",
       "        vertical-align: middle;\n",
       "    }\n",
       "\n",
       "    .dataframe tbody tr th {\n",
       "        vertical-align: top;\n",
       "    }\n",
       "\n",
       "    .dataframe thead th {\n",
       "        text-align: right;\n",
       "    }\n",
       "</style>\n",
       "<table border=\"1\" class=\"dataframe\">\n",
       "  <thead>\n",
       "    <tr style=\"text-align: right;\">\n",
       "      <th></th>\n",
       "      <th>Country</th>\n",
       "      <th>Count</th>\n",
       "    </tr>\n",
       "  </thead>\n",
       "  <tbody>\n",
       "    <tr>\n",
       "      <th>0</th>\n",
       "      <td>United States</td>\n",
       "      <td>690</td>\n",
       "    </tr>\n",
       "    <tr>\n",
       "      <th>1</th>\n",
       "      <td>UK</td>\n",
       "      <td>470</td>\n",
       "    </tr>\n",
       "    <tr>\n",
       "      <th>2</th>\n",
       "      <td>Israel</td>\n",
       "      <td>150</td>\n",
       "    </tr>\n",
       "    <tr>\n",
       "      <th>3</th>\n",
       "      <td>Russia</td>\n",
       "      <td>149</td>\n",
       "    </tr>\n",
       "    <tr>\n",
       "      <th>4</th>\n",
       "      <td>Ukraine</td>\n",
       "      <td>125</td>\n",
       "    </tr>\n",
       "    <tr>\n",
       "      <th>...</th>\n",
       "      <td>...</td>\n",
       "      <td>...</td>\n",
       "    </tr>\n",
       "    <tr>\n",
       "      <th>131</th>\n",
       "      <td>Cabo Verde</td>\n",
       "      <td>1</td>\n",
       "    </tr>\n",
       "    <tr>\n",
       "      <th>132</th>\n",
       "      <td>Burundi</td>\n",
       "      <td>1</td>\n",
       "    </tr>\n",
       "    <tr>\n",
       "      <th>133</th>\n",
       "      <td>Botswana</td>\n",
       "      <td>1</td>\n",
       "    </tr>\n",
       "    <tr>\n",
       "      <th>134</th>\n",
       "      <td>Benin</td>\n",
       "      <td>1</td>\n",
       "    </tr>\n",
       "    <tr>\n",
       "      <th>135</th>\n",
       "      <td>Nepal</td>\n",
       "      <td>1</td>\n",
       "    </tr>\n",
       "  </tbody>\n",
       "</table>\n",
       "<p>136 rows × 2 columns</p>\n",
       "</div>"
      ],
      "text/plain": [
       "           Country  Count\n",
       "0    United States    690\n",
       "1               UK    470\n",
       "2           Israel    150\n",
       "3           Russia    149\n",
       "4          Ukraine    125\n",
       "..             ...    ...\n",
       "131     Cabo Verde      1\n",
       "132        Burundi      1\n",
       "133       Botswana      1\n",
       "134          Benin      1\n",
       "135          Nepal      1\n",
       "\n",
       "[136 rows x 2 columns]"
      ]
     },
     "execution_count": 59,
     "metadata": {},
     "output_type": "execute_result"
    }
   ],
   "source": [
    "df_countries=df_countries.sort_values(by='Count', ascending=False)\n",
    "df_countries.reset_index(drop=True)"
   ]
  },
  {
   "cell_type": "code",
   "execution_count": 60,
   "metadata": {},
   "outputs": [
    {
     "data": {
      "application/vnd.plotly.v1+json": {
       "config": {
        "plotlyServerURL": "https://plot.ly"
       },
       "data": [
        {
         "coloraxis": "coloraxis",
         "geo": "geo",
         "hovertemplate": "Country=%{location}<br>Count=%{z}<extra></extra>",
         "locationmode": "country names",
         "locations": [
          "United States",
          "UK",
          "Israel",
          "Russia",
          "Ukraine",
          "Japan",
          "Germany",
          "Australia",
          "China",
          "Oman",
          "Canada",
          "Iraq",
          "India",
          "France",
          "Cuba",
          "Ireland",
          "Brazil",
          "Romania",
          "Egypt",
          "South Africa",
          "United Kingdom",
          "Afghanistan",
          "New Zealand",
          "Pakistan",
          "Turkey",
          "Bangladesh",
          "Spain",
          "Austria",
          "Slovakia",
          "Italy",
          "Mali",
          "Sweden",
          "Norway",
          "Indonesia",
          "Netherlands",
          "Poland",
          "Greece",
          "Cyprus",
          "Colombia",
          "Albania",
          "Chile",
          "Lebanon",
          "Mexico",
          "Congo",
          "Switzerland",
          "Algeria",
          "Sudan",
          "Denmark",
          "Singapore",
          "Jordan",
          "Libya",
          "Finland",
          "Argentina",
          "Belgium",
          "Yemen",
          "Thailand",
          "Morocco",
          "Serbia",
          "Peru",
          "South Sudan",
          "Kenya",
          "Portugal",
          "Bosnia and Herzegovina",
          "Guatemala",
          "Hong Kong",
          "Saudi Arabia",
          "Uganda",
          "Ghana",
          "Guinea",
          "Bulgaria",
          "Niger",
          "Latvia",
          "Tunisia",
          "Hungary",
          "Malaysia",
          "Sri Lanka",
          "Ecuador",
          "Nigeria",
          "Lithuania",
          "Gibraltar",
          "Georgia",
          "El Salvador",
          "Kuwait",
          "Costa Rica",
          "Philippines",
          "Angola",
          "Uruguay",
          "Dominica",
          "Cambodia",
          "Namibia",
          "Zimbabwe",
          "Myanmar",
          "Haiti",
          "Ethiopia",
          "Somalia",
          "Mozambique",
          "Rwanda",
          "Antarctica",
          "Nicaragua",
          "North Macedonia",
          "Tajikistan",
          "Dominican Republic",
          "United Arab Emirates",
          "Slovenia",
          "Kazakhstan",
          "Mongolia",
          "Madagascar",
          "Estonia",
          "Guinea-Bissau",
          "British Indian Ocean Territory",
          "Bahamas",
          "Jamaica",
          "Paraguay",
          "Zambia",
          "Togo",
          "Sierra Leone",
          "Seychelles",
          "Senegal",
          "Mauritius",
          "Mauritania",
          "Lesotho",
          "Gambia",
          "Croatia",
          "Gabon",
          "Eswatini",
          "Eritrea",
          "Equatorial Guinea",
          "Comoros",
          "Chad",
          "Central African Republic",
          "Cameroon",
          "Cabo Verde",
          "Burundi",
          "Botswana",
          "Benin",
          "Nepal"
         ],
         "name": "",
         "type": "choropleth",
         "z": [
          690,
          470,
          150,
          149,
          125,
          111,
          83,
          79,
          79,
          69,
          69,
          65,
          60,
          49,
          41,
          36,
          29,
          28,
          28,
          24,
          20,
          20,
          20,
          16,
          16,
          15,
          15,
          12,
          12,
          12,
          12,
          12,
          11,
          11,
          11,
          11,
          11,
          10,
          10,
          10,
          9,
          9,
          8,
          8,
          7,
          7,
          7,
          7,
          6,
          6,
          6,
          6,
          6,
          6,
          5,
          5,
          5,
          5,
          5,
          4,
          4,
          4,
          4,
          4,
          4,
          4,
          4,
          4,
          4,
          4,
          4,
          4,
          4,
          3,
          3,
          3,
          3,
          3,
          3,
          3,
          3,
          2,
          2,
          2,
          2,
          2,
          2,
          2,
          2,
          2,
          2,
          2,
          2,
          2,
          2,
          2,
          1,
          1,
          1,
          1,
          1,
          1,
          1,
          1,
          1,
          1,
          1,
          1,
          1,
          1,
          1,
          1,
          1,
          1,
          1,
          1,
          1,
          1,
          1,
          1,
          1,
          1,
          1,
          1,
          1,
          1,
          1,
          1,
          1,
          1,
          1,
          1,
          1,
          1,
          1,
          1
         ]
        }
       ],
       "layout": {
        "coloraxis": {
         "colorbar": {
          "title": {
           "text": "Count"
          }
         },
         "colorscale": [
          [
           0,
           "#440154"
          ],
          [
           0.1111111111111111,
           "#482878"
          ],
          [
           0.2222222222222222,
           "#3e4989"
          ],
          [
           0.3333333333333333,
           "#31688e"
          ],
          [
           0.4444444444444444,
           "#26828e"
          ],
          [
           0.5555555555555556,
           "#1f9e89"
          ],
          [
           0.6666666666666666,
           "#35b779"
          ],
          [
           0.7777777777777778,
           "#6ece58"
          ],
          [
           0.8888888888888888,
           "#b5de2b"
          ],
          [
           1,
           "#fde725"
          ]
         ]
        },
        "geo": {
         "center": {},
         "domain": {
          "x": [
           0,
           1
          ],
          "y": [
           0,
           1
          ]
         }
        },
        "height": 700,
        "legend": {
         "tracegroupgap": 0
        },
        "template": {
         "data": {
          "bar": [
           {
            "error_x": {
             "color": "#2a3f5f"
            },
            "error_y": {
             "color": "#2a3f5f"
            },
            "marker": {
             "line": {
              "color": "#E5ECF6",
              "width": 0.5
             },
             "pattern": {
              "fillmode": "overlay",
              "size": 10,
              "solidity": 0.2
             }
            },
            "type": "bar"
           }
          ],
          "barpolar": [
           {
            "marker": {
             "line": {
              "color": "#E5ECF6",
              "width": 0.5
             },
             "pattern": {
              "fillmode": "overlay",
              "size": 10,
              "solidity": 0.2
             }
            },
            "type": "barpolar"
           }
          ],
          "carpet": [
           {
            "aaxis": {
             "endlinecolor": "#2a3f5f",
             "gridcolor": "white",
             "linecolor": "white",
             "minorgridcolor": "white",
             "startlinecolor": "#2a3f5f"
            },
            "baxis": {
             "endlinecolor": "#2a3f5f",
             "gridcolor": "white",
             "linecolor": "white",
             "minorgridcolor": "white",
             "startlinecolor": "#2a3f5f"
            },
            "type": "carpet"
           }
          ],
          "choropleth": [
           {
            "colorbar": {
             "outlinewidth": 0,
             "ticks": ""
            },
            "type": "choropleth"
           }
          ],
          "contour": [
           {
            "colorbar": {
             "outlinewidth": 0,
             "ticks": ""
            },
            "colorscale": [
             [
              0,
              "#0d0887"
             ],
             [
              0.1111111111111111,
              "#46039f"
             ],
             [
              0.2222222222222222,
              "#7201a8"
             ],
             [
              0.3333333333333333,
              "#9c179e"
             ],
             [
              0.4444444444444444,
              "#bd3786"
             ],
             [
              0.5555555555555556,
              "#d8576b"
             ],
             [
              0.6666666666666666,
              "#ed7953"
             ],
             [
              0.7777777777777778,
              "#fb9f3a"
             ],
             [
              0.8888888888888888,
              "#fdca26"
             ],
             [
              1,
              "#f0f921"
             ]
            ],
            "type": "contour"
           }
          ],
          "contourcarpet": [
           {
            "colorbar": {
             "outlinewidth": 0,
             "ticks": ""
            },
            "type": "contourcarpet"
           }
          ],
          "heatmap": [
           {
            "colorbar": {
             "outlinewidth": 0,
             "ticks": ""
            },
            "colorscale": [
             [
              0,
              "#0d0887"
             ],
             [
              0.1111111111111111,
              "#46039f"
             ],
             [
              0.2222222222222222,
              "#7201a8"
             ],
             [
              0.3333333333333333,
              "#9c179e"
             ],
             [
              0.4444444444444444,
              "#bd3786"
             ],
             [
              0.5555555555555556,
              "#d8576b"
             ],
             [
              0.6666666666666666,
              "#ed7953"
             ],
             [
              0.7777777777777778,
              "#fb9f3a"
             ],
             [
              0.8888888888888888,
              "#fdca26"
             ],
             [
              1,
              "#f0f921"
             ]
            ],
            "type": "heatmap"
           }
          ],
          "heatmapgl": [
           {
            "colorbar": {
             "outlinewidth": 0,
             "ticks": ""
            },
            "colorscale": [
             [
              0,
              "#0d0887"
             ],
             [
              0.1111111111111111,
              "#46039f"
             ],
             [
              0.2222222222222222,
              "#7201a8"
             ],
             [
              0.3333333333333333,
              "#9c179e"
             ],
             [
              0.4444444444444444,
              "#bd3786"
             ],
             [
              0.5555555555555556,
              "#d8576b"
             ],
             [
              0.6666666666666666,
              "#ed7953"
             ],
             [
              0.7777777777777778,
              "#fb9f3a"
             ],
             [
              0.8888888888888888,
              "#fdca26"
             ],
             [
              1,
              "#f0f921"
             ]
            ],
            "type": "heatmapgl"
           }
          ],
          "histogram": [
           {
            "marker": {
             "pattern": {
              "fillmode": "overlay",
              "size": 10,
              "solidity": 0.2
             }
            },
            "type": "histogram"
           }
          ],
          "histogram2d": [
           {
            "colorbar": {
             "outlinewidth": 0,
             "ticks": ""
            },
            "colorscale": [
             [
              0,
              "#0d0887"
             ],
             [
              0.1111111111111111,
              "#46039f"
             ],
             [
              0.2222222222222222,
              "#7201a8"
             ],
             [
              0.3333333333333333,
              "#9c179e"
             ],
             [
              0.4444444444444444,
              "#bd3786"
             ],
             [
              0.5555555555555556,
              "#d8576b"
             ],
             [
              0.6666666666666666,
              "#ed7953"
             ],
             [
              0.7777777777777778,
              "#fb9f3a"
             ],
             [
              0.8888888888888888,
              "#fdca26"
             ],
             [
              1,
              "#f0f921"
             ]
            ],
            "type": "histogram2d"
           }
          ],
          "histogram2dcontour": [
           {
            "colorbar": {
             "outlinewidth": 0,
             "ticks": ""
            },
            "colorscale": [
             [
              0,
              "#0d0887"
             ],
             [
              0.1111111111111111,
              "#46039f"
             ],
             [
              0.2222222222222222,
              "#7201a8"
             ],
             [
              0.3333333333333333,
              "#9c179e"
             ],
             [
              0.4444444444444444,
              "#bd3786"
             ],
             [
              0.5555555555555556,
              "#d8576b"
             ],
             [
              0.6666666666666666,
              "#ed7953"
             ],
             [
              0.7777777777777778,
              "#fb9f3a"
             ],
             [
              0.8888888888888888,
              "#fdca26"
             ],
             [
              1,
              "#f0f921"
             ]
            ],
            "type": "histogram2dcontour"
           }
          ],
          "mesh3d": [
           {
            "colorbar": {
             "outlinewidth": 0,
             "ticks": ""
            },
            "type": "mesh3d"
           }
          ],
          "parcoords": [
           {
            "line": {
             "colorbar": {
              "outlinewidth": 0,
              "ticks": ""
             }
            },
            "type": "parcoords"
           }
          ],
          "pie": [
           {
            "automargin": true,
            "type": "pie"
           }
          ],
          "scatter": [
           {
            "fillpattern": {
             "fillmode": "overlay",
             "size": 10,
             "solidity": 0.2
            },
            "type": "scatter"
           }
          ],
          "scatter3d": [
           {
            "line": {
             "colorbar": {
              "outlinewidth": 0,
              "ticks": ""
             }
            },
            "marker": {
             "colorbar": {
              "outlinewidth": 0,
              "ticks": ""
             }
            },
            "type": "scatter3d"
           }
          ],
          "scattercarpet": [
           {
            "marker": {
             "colorbar": {
              "outlinewidth": 0,
              "ticks": ""
             }
            },
            "type": "scattercarpet"
           }
          ],
          "scattergeo": [
           {
            "marker": {
             "colorbar": {
              "outlinewidth": 0,
              "ticks": ""
             }
            },
            "type": "scattergeo"
           }
          ],
          "scattergl": [
           {
            "marker": {
             "colorbar": {
              "outlinewidth": 0,
              "ticks": ""
             }
            },
            "type": "scattergl"
           }
          ],
          "scattermapbox": [
           {
            "marker": {
             "colorbar": {
              "outlinewidth": 0,
              "ticks": ""
             }
            },
            "type": "scattermapbox"
           }
          ],
          "scatterpolar": [
           {
            "marker": {
             "colorbar": {
              "outlinewidth": 0,
              "ticks": ""
             }
            },
            "type": "scatterpolar"
           }
          ],
          "scatterpolargl": [
           {
            "marker": {
             "colorbar": {
              "outlinewidth": 0,
              "ticks": ""
             }
            },
            "type": "scatterpolargl"
           }
          ],
          "scatterternary": [
           {
            "marker": {
             "colorbar": {
              "outlinewidth": 0,
              "ticks": ""
             }
            },
            "type": "scatterternary"
           }
          ],
          "surface": [
           {
            "colorbar": {
             "outlinewidth": 0,
             "ticks": ""
            },
            "colorscale": [
             [
              0,
              "#0d0887"
             ],
             [
              0.1111111111111111,
              "#46039f"
             ],
             [
              0.2222222222222222,
              "#7201a8"
             ],
             [
              0.3333333333333333,
              "#9c179e"
             ],
             [
              0.4444444444444444,
              "#bd3786"
             ],
             [
              0.5555555555555556,
              "#d8576b"
             ],
             [
              0.6666666666666666,
              "#ed7953"
             ],
             [
              0.7777777777777778,
              "#fb9f3a"
             ],
             [
              0.8888888888888888,
              "#fdca26"
             ],
             [
              1,
              "#f0f921"
             ]
            ],
            "type": "surface"
           }
          ],
          "table": [
           {
            "cells": {
             "fill": {
              "color": "#EBF0F8"
             },
             "line": {
              "color": "white"
             }
            },
            "header": {
             "fill": {
              "color": "#C8D4E3"
             },
             "line": {
              "color": "white"
             }
            },
            "type": "table"
           }
          ]
         },
         "layout": {
          "annotationdefaults": {
           "arrowcolor": "#2a3f5f",
           "arrowhead": 0,
           "arrowwidth": 1
          },
          "autotypenumbers": "strict",
          "coloraxis": {
           "colorbar": {
            "outlinewidth": 0,
            "ticks": ""
           }
          },
          "colorscale": {
           "diverging": [
            [
             0,
             "#8e0152"
            ],
            [
             0.1,
             "#c51b7d"
            ],
            [
             0.2,
             "#de77ae"
            ],
            [
             0.3,
             "#f1b6da"
            ],
            [
             0.4,
             "#fde0ef"
            ],
            [
             0.5,
             "#f7f7f7"
            ],
            [
             0.6,
             "#e6f5d0"
            ],
            [
             0.7,
             "#b8e186"
            ],
            [
             0.8,
             "#7fbc41"
            ],
            [
             0.9,
             "#4d9221"
            ],
            [
             1,
             "#276419"
            ]
           ],
           "sequential": [
            [
             0,
             "#0d0887"
            ],
            [
             0.1111111111111111,
             "#46039f"
            ],
            [
             0.2222222222222222,
             "#7201a8"
            ],
            [
             0.3333333333333333,
             "#9c179e"
            ],
            [
             0.4444444444444444,
             "#bd3786"
            ],
            [
             0.5555555555555556,
             "#d8576b"
            ],
            [
             0.6666666666666666,
             "#ed7953"
            ],
            [
             0.7777777777777778,
             "#fb9f3a"
            ],
            [
             0.8888888888888888,
             "#fdca26"
            ],
            [
             1,
             "#f0f921"
            ]
           ],
           "sequentialminus": [
            [
             0,
             "#0d0887"
            ],
            [
             0.1111111111111111,
             "#46039f"
            ],
            [
             0.2222222222222222,
             "#7201a8"
            ],
            [
             0.3333333333333333,
             "#9c179e"
            ],
            [
             0.4444444444444444,
             "#bd3786"
            ],
            [
             0.5555555555555556,
             "#d8576b"
            ],
            [
             0.6666666666666666,
             "#ed7953"
            ],
            [
             0.7777777777777778,
             "#fb9f3a"
            ],
            [
             0.8888888888888888,
             "#fdca26"
            ],
            [
             1,
             "#f0f921"
            ]
           ]
          },
          "colorway": [
           "#636efa",
           "#EF553B",
           "#00cc96",
           "#ab63fa",
           "#FFA15A",
           "#19d3f3",
           "#FF6692",
           "#B6E880",
           "#FF97FF",
           "#FECB52"
          ],
          "font": {
           "color": "#2a3f5f"
          },
          "geo": {
           "bgcolor": "white",
           "lakecolor": "white",
           "landcolor": "#E5ECF6",
           "showlakes": true,
           "showland": true,
           "subunitcolor": "white"
          },
          "hoverlabel": {
           "align": "left"
          },
          "hovermode": "closest",
          "mapbox": {
           "style": "light"
          },
          "paper_bgcolor": "white",
          "plot_bgcolor": "#E5ECF6",
          "polar": {
           "angularaxis": {
            "gridcolor": "white",
            "linecolor": "white",
            "ticks": ""
           },
           "bgcolor": "#E5ECF6",
           "radialaxis": {
            "gridcolor": "white",
            "linecolor": "white",
            "ticks": ""
           }
          },
          "scene": {
           "xaxis": {
            "backgroundcolor": "#E5ECF6",
            "gridcolor": "white",
            "gridwidth": 2,
            "linecolor": "white",
            "showbackground": true,
            "ticks": "",
            "zerolinecolor": "white"
           },
           "yaxis": {
            "backgroundcolor": "#E5ECF6",
            "gridcolor": "white",
            "gridwidth": 2,
            "linecolor": "white",
            "showbackground": true,
            "ticks": "",
            "zerolinecolor": "white"
           },
           "zaxis": {
            "backgroundcolor": "#E5ECF6",
            "gridcolor": "white",
            "gridwidth": 2,
            "linecolor": "white",
            "showbackground": true,
            "ticks": "",
            "zerolinecolor": "white"
           }
          },
          "shapedefaults": {
           "line": {
            "color": "#2a3f5f"
           }
          },
          "ternary": {
           "aaxis": {
            "gridcolor": "white",
            "linecolor": "white",
            "ticks": ""
           },
           "baxis": {
            "gridcolor": "white",
            "linecolor": "white",
            "ticks": ""
           },
           "bgcolor": "#E5ECF6",
           "caxis": {
            "gridcolor": "white",
            "linecolor": "white",
            "ticks": ""
           }
          },
          "title": {
           "x": 0.05
          },
          "xaxis": {
           "automargin": true,
           "gridcolor": "white",
           "linecolor": "white",
           "ticks": "",
           "title": {
            "standoff": 15
           },
           "zerolinecolor": "white",
           "zerolinewidth": 2
          },
          "yaxis": {
           "automargin": true,
           "gridcolor": "white",
           "linecolor": "white",
           "ticks": "",
           "title": {
            "standoff": 15
           },
           "zerolinecolor": "white",
           "zerolinewidth": 2
          }
         }
        },
        "title": {
         "text": "Country mentions in titles"
        },
        "width": 1100
       }
      }
     },
     "metadata": {},
     "output_type": "display_data"
    }
   ],
   "source": [
    "fig = px.choropleth(df_countries, locations='Country', locationmode='country names', color='Count', \n",
    "                    title='Country mentions in titles', color_continuous_scale='Viridis',\n",
    "                    width=1100, height=700) # Adjust the size of the map here\n",
    "\n",
    "# Display the map\n",
    "fig.show()"
   ]
  },
  {
   "cell_type": "code",
   "execution_count": 61,
   "metadata": {},
   "outputs": [],
   "source": [
    "df_countries.to_csv('countries.csv',index=False)"
   ]
  },
  {
   "attachments": {},
   "cell_type": "markdown",
   "metadata": {},
   "source": [
    "# NER analysis"
   ]
  },
  {
   "cell_type": "code",
   "execution_count": 62,
   "metadata": {},
   "outputs": [],
   "source": [
    "import spacy\n",
    "import nltk\n",
    "import ast\n",
    "from spacy.pipeline import EntityRecognizer"
   ]
  },
  {
   "cell_type": "code",
   "execution_count": 63,
   "metadata": {},
   "outputs": [
    {
     "name": "stderr",
     "output_type": "stream",
     "text": [
      "[nltk_data] Downloading package punkt to\n",
      "[nltk_data]     C:\\Users\\yaozk\\AppData\\Roaming\\nltk_data...\n",
      "[nltk_data]   Package punkt is already up-to-date!\n",
      "[nltk_data] Downloading package averaged_perceptron_tagger to\n",
      "[nltk_data]     C:\\Users\\yaozk\\AppData\\Roaming\\nltk_data...\n",
      "[nltk_data]   Package averaged_perceptron_tagger is already up-to-\n",
      "[nltk_data]       date!\n",
      "[nltk_data] Downloading package maxent_ne_chunker to\n",
      "[nltk_data]     C:\\Users\\yaozk\\AppData\\Roaming\\nltk_data...\n",
      "[nltk_data]   Package maxent_ne_chunker is already up-to-date!\n",
      "[nltk_data] Downloading package words to\n",
      "[nltk_data]     C:\\Users\\yaozk\\AppData\\Roaming\\nltk_data...\n",
      "[nltk_data]   Package words is already up-to-date!\n",
      "c:\\Users\\yaozk\\AppData\\Local\\Programs\\Python\\Python310\\lib\\site-packages\\spacy\\util.py:865: UserWarning:\n",
      "\n",
      "[W095] Model 'en_core_web_sm' (3.5.0) was trained with spaCy v3.5 and may not be 100% compatible with the current version (3.4.1). If you see errors or degraded performance, download a newer compatible model or retrain your custom model with the current spaCy version. For more details and available updates, run: python -m spacy validate\n",
      "\n"
     ]
    }
   ],
   "source": [
    "nltk.download('punkt')\n",
    "nltk.download('averaged_perceptron_tagger')\n",
    "nltk.download('maxent_ne_chunker')\n",
    "nltk.download('words')\n",
    "df = pd.read_csv('https://raw.githubusercontent.com/YusufAliOzkan/zotero-intelligence-bibliography/main/all_items.csv')\n",
    "nlp = spacy.load(\"en_core_web_sm\")\n",
    "ruler = nlp.add_pipe(\"entity_ruler\")\n",
    "patterns = [{\"label\": \"ORG\", \"pattern\": \"MI6\"}]\n",
    "ruler.add_patterns(patterns)"
   ]
  },
  {
   "cell_type": "code",
   "execution_count": 64,
   "metadata": {},
   "outputs": [],
   "source": [
    "def extract_entities(text):\n",
    "    doc = nlp(text)\n",
    "    orgs = []\n",
    "    gpes = []\n",
    "    people = []\n",
    "    for entity in doc.ents:\n",
    "        if entity.label_ == 'ORG':\n",
    "            orgs.append(entity.text)\n",
    "        elif entity.label_ == 'GPE':\n",
    "            gpes.append(entity.text)\n",
    "        elif entity.label_ == 'PERSON':\n",
    "            people.append(entity.text)\n",
    "    return pd.Series({'ORG': orgs, 'GPE': gpes, 'PERSON': people})"
   ]
  },
  {
   "cell_type": "code",
   "execution_count": 65,
   "metadata": {},
   "outputs": [],
   "source": [
    "df_title = df[['Title']].copy()\n",
    "df_title = df_title.rename(columns={'Title':'Text'})\n",
    "df_abstract = df[['Abstract']].copy()\n",
    "df_abstract = df_abstract.rename(columns={'Abstract':'Text'})\n",
    "df_one = pd.concat([df_title, df_abstract], ignore_index=True)\n",
    "df_one['Text'] = df_one['Text'].fillna('')"
   ]
  },
  {
   "cell_type": "code",
   "execution_count": 66,
   "metadata": {},
   "outputs": [],
   "source": [
    "df_one = pd.concat([df_one[['Text']], df_one['Text'].apply(extract_entities)], axis=1)\n",
    "df_one = df_one.explode('GPE').reset_index(drop=True)\n",
    "df_one = df_one.explode('ORG').reset_index(drop=True)\n",
    "df_one = df_one.explode('PERSON').reset_index(drop=True)"
   ]
  },
  {
   "cell_type": "code",
   "execution_count": 67,
   "metadata": {},
   "outputs": [
    {
     "data": {
      "text/html": [
       "<div>\n",
       "<style scoped>\n",
       "    .dataframe tbody tr th:only-of-type {\n",
       "        vertical-align: middle;\n",
       "    }\n",
       "\n",
       "    .dataframe tbody tr th {\n",
       "        vertical-align: top;\n",
       "    }\n",
       "\n",
       "    .dataframe thead th {\n",
       "        text-align: right;\n",
       "    }\n",
       "</style>\n",
       "<table border=\"1\" class=\"dataframe\">\n",
       "  <thead>\n",
       "    <tr style=\"text-align: right;\">\n",
       "      <th></th>\n",
       "      <th>GPE</th>\n",
       "      <th>count</th>\n",
       "    </tr>\n",
       "  </thead>\n",
       "  <tbody>\n",
       "    <tr>\n",
       "      <th>0</th>\n",
       "      <td>USA</td>\n",
       "      <td>1471</td>\n",
       "    </tr>\n",
       "    <tr>\n",
       "      <th>1</th>\n",
       "      <td>UK</td>\n",
       "      <td>759</td>\n",
       "    </tr>\n",
       "    <tr>\n",
       "      <th>2</th>\n",
       "      <td>Russia</td>\n",
       "      <td>556</td>\n",
       "    </tr>\n",
       "    <tr>\n",
       "      <th>3</th>\n",
       "      <td>Germany</td>\n",
       "      <td>228</td>\n",
       "    </tr>\n",
       "    <tr>\n",
       "      <th>4</th>\n",
       "      <td>Ukraine</td>\n",
       "      <td>225</td>\n",
       "    </tr>\n",
       "    <tr>\n",
       "      <th>5</th>\n",
       "      <td>Israel</td>\n",
       "      <td>185</td>\n",
       "    </tr>\n",
       "    <tr>\n",
       "      <th>6</th>\n",
       "      <td>China</td>\n",
       "      <td>173</td>\n",
       "    </tr>\n",
       "    <tr>\n",
       "      <th>7</th>\n",
       "      <td>France</td>\n",
       "      <td>153</td>\n",
       "    </tr>\n",
       "    <tr>\n",
       "      <th>8</th>\n",
       "      <td>Canada</td>\n",
       "      <td>148</td>\n",
       "    </tr>\n",
       "    <tr>\n",
       "      <th>9</th>\n",
       "      <td>Iraq</td>\n",
       "      <td>136</td>\n",
       "    </tr>\n",
       "    <tr>\n",
       "      <th>10</th>\n",
       "      <td>London</td>\n",
       "      <td>133</td>\n",
       "    </tr>\n",
       "    <tr>\n",
       "      <th>11</th>\n",
       "      <td>Australia</td>\n",
       "      <td>112</td>\n",
       "    </tr>\n",
       "    <tr>\n",
       "      <th>12</th>\n",
       "      <td>Moscow</td>\n",
       "      <td>103</td>\n",
       "    </tr>\n",
       "    <tr>\n",
       "      <th>13</th>\n",
       "      <td>Washington</td>\n",
       "      <td>101</td>\n",
       "    </tr>\n",
       "    <tr>\n",
       "      <th>14</th>\n",
       "      <td>Japan</td>\n",
       "      <td>98</td>\n",
       "    </tr>\n",
       "  </tbody>\n",
       "</table>\n",
       "</div>"
      ],
      "text/plain": [
       "           GPE  count\n",
       "0          USA   1471\n",
       "1           UK    759\n",
       "2       Russia    556\n",
       "3      Germany    228\n",
       "4      Ukraine    225\n",
       "5       Israel    185\n",
       "6        China    173\n",
       "7       France    153\n",
       "8       Canada    148\n",
       "9         Iraq    136\n",
       "10      London    133\n",
       "11   Australia    112\n",
       "12      Moscow    103\n",
       "13  Washington    101\n",
       "14       Japan     98"
      ]
     },
     "execution_count": 67,
     "metadata": {},
     "output_type": "execute_result"
    }
   ],
   "source": [
    "df_one_g = df_one.copy()\n",
    "df_one_g = df_one[['Text', 'GPE']]\n",
    "# df_one_g = df_one_g.fillna('')\n",
    "df_one_g = df_one_g.drop_duplicates(subset=['Text', 'GPE'])\n",
    "\n",
    "gpe_counts = df_one_g['GPE'].value_counts().reset_index()\n",
    "gpe_counts.columns = ['GPE', 'count']\n",
    "\n",
    "# pd.options.display.max_rows = None\n",
    "\n",
    "\n",
    "mapping_locations = {\n",
    "    'the United States': 'USA',\n",
    "    'The United States': 'USA',\n",
    "    'US': 'USA',\n",
    "    'U.S.': 'USA',\n",
    "    'United States' : 'USA',\n",
    "    'America' : 'USA',\n",
    "    'the United States of America' : 'USA',\n",
    "    'Britain' : 'UK',\n",
    "    'the United Kingdom': 'UK',\n",
    "    'U.K.' : 'UK',\n",
    "    'Global Britain' : 'UK',\n",
    "    'United Kingdom' : 'UK', \n",
    "    'the Soviet Union' : 'Russia',\n",
    "    'The Soviet Union' : 'Russia',\n",
    "    'USSR' : 'Russia',\n",
    "    'Ukraine - Perspective' : 'Ukraine',\n",
    "    'Ukrainian' : 'Ukraine',\n",
    "    'Great Britain' : 'UK',\n",
    "    'Ottoman Empire' : 'Turkey'\n",
    "}\n",
    "gpe_counts['GPE'] =gpe_counts['GPE'].replace(mapping_locations)\n",
    "gpe_counts = gpe_counts.groupby('GPE').sum().reset_index()\n",
    "gpe_counts.sort_values('count', ascending=False, inplace=True)\n",
    "gpe_counts = gpe_counts.reset_index(drop=True)\n",
    "gpe_counts.head(15)"
   ]
  },
  {
   "cell_type": "code",
   "execution_count": 68,
   "metadata": {},
   "outputs": [
    {
     "data": {
      "text/html": [
       "<div>\n",
       "<style scoped>\n",
       "    .dataframe tbody tr th:only-of-type {\n",
       "        vertical-align: middle;\n",
       "    }\n",
       "\n",
       "    .dataframe tbody tr th {\n",
       "        vertical-align: top;\n",
       "    }\n",
       "\n",
       "    .dataframe thead th {\n",
       "        text-align: right;\n",
       "    }\n",
       "</style>\n",
       "<table border=\"1\" class=\"dataframe\">\n",
       "  <thead>\n",
       "    <tr style=\"text-align: right;\">\n",
       "      <th></th>\n",
       "      <th>PERSON</th>\n",
       "      <th>count</th>\n",
       "    </tr>\n",
       "  </thead>\n",
       "  <tbody>\n",
       "    <tr>\n",
       "      <th>0</th>\n",
       "      <td>Adolf Hitler</td>\n",
       "      <td>89</td>\n",
       "    </tr>\n",
       "    <tr>\n",
       "      <th>1</th>\n",
       "      <td>Vladimir Putin</td>\n",
       "      <td>78</td>\n",
       "    </tr>\n",
       "    <tr>\n",
       "      <th>2</th>\n",
       "      <td>Winston Churchill</td>\n",
       "      <td>57</td>\n",
       "    </tr>\n",
       "    <tr>\n",
       "      <th>3</th>\n",
       "      <td>Andrew Hammond</td>\n",
       "      <td>53</td>\n",
       "    </tr>\n",
       "    <tr>\n",
       "      <th>4</th>\n",
       "      <td>Stalin</td>\n",
       "      <td>43</td>\n",
       "    </tr>\n",
       "    <tr>\n",
       "      <th>5</th>\n",
       "      <td>James Bond</td>\n",
       "      <td>30</td>\n",
       "    </tr>\n",
       "    <tr>\n",
       "      <th>6</th>\n",
       "      <td>Eisenhower</td>\n",
       "      <td>29</td>\n",
       "    </tr>\n",
       "    <tr>\n",
       "      <th>7</th>\n",
       "      <td>Bush</td>\n",
       "      <td>28</td>\n",
       "    </tr>\n",
       "    <tr>\n",
       "      <th>8</th>\n",
       "      <td>Mujibur Rahman</td>\n",
       "      <td>28</td>\n",
       "    </tr>\n",
       "    <tr>\n",
       "      <th>9</th>\n",
       "      <td>John le Carré</td>\n",
       "      <td>26</td>\n",
       "    </tr>\n",
       "    <tr>\n",
       "      <th>10</th>\n",
       "      <td>Andrew</td>\n",
       "      <td>20</td>\n",
       "    </tr>\n",
       "    <tr>\n",
       "      <th>11</th>\n",
       "      <td>Reagan</td>\n",
       "      <td>20</td>\n",
       "    </tr>\n",
       "    <tr>\n",
       "      <th>12</th>\n",
       "      <td>Kennedy</td>\n",
       "      <td>19</td>\n",
       "    </tr>\n",
       "    <tr>\n",
       "      <th>13</th>\n",
       "      <td>Roosevelt</td>\n",
       "      <td>18</td>\n",
       "    </tr>\n",
       "    <tr>\n",
       "      <th>14</th>\n",
       "      <td>Brexit</td>\n",
       "      <td>18</td>\n",
       "    </tr>\n",
       "  </tbody>\n",
       "</table>\n",
       "</div>"
      ],
      "text/plain": [
       "               PERSON  count\n",
       "0        Adolf Hitler     89\n",
       "1      Vladimir Putin     78\n",
       "2   Winston Churchill     57\n",
       "3      Andrew Hammond     53\n",
       "4              Stalin     43\n",
       "5          James Bond     30\n",
       "6          Eisenhower     29\n",
       "7                Bush     28\n",
       "8      Mujibur Rahman     28\n",
       "9       John le Carré     26\n",
       "10             Andrew     20\n",
       "11             Reagan     20\n",
       "12            Kennedy     19\n",
       "13          Roosevelt     18\n",
       "14             Brexit     18"
      ]
     },
     "execution_count": 68,
     "metadata": {},
     "output_type": "execute_result"
    }
   ],
   "source": [
    "df_one_p = df_one.copy()\n",
    "df_one_p = df_one[['Text', 'PERSON']]\n",
    "# df_one_p = df_one_g.fillna('')\n",
    "df_one_p = df_one_p.drop_duplicates(subset=['Text', 'PERSON'])\n",
    "\n",
    "person_counts = df_one_p['PERSON'].value_counts().reset_index()\n",
    "person_counts.columns = ['PERSON', 'count']\n",
    "\n",
    "mapping_person = {\n",
    "    'Putin' : 'Vladimir Putin',\n",
    "    'Vladimir Putin' : 'Vladimir Putin',\n",
    "    'Churchill' : 'Winston Churchill',\n",
    "    'Hitler' : 'Adolf Hitler',\n",
    "    'Biden' : 'Joe Biden',\n",
    "    \"John le Carré’s\" : \"John le Carré\"\n",
    "}\n",
    "\n",
    "person_counts['PERSON'] =person_counts['PERSON'].replace(mapping_person)\n",
    "person_counts = person_counts.groupby('PERSON').sum().reset_index()\n",
    "person_counts.sort_values('count', ascending=False, inplace=True)\n",
    "\n",
    "remove_person = ['MI6', 'Twitter', 'GRU'\n",
    "          ]\n",
    "person_counts = person_counts[~person_counts['PERSON'].isin(remove_person)]\n",
    "person_counts = person_counts.reset_index(drop=True)\n",
    "\n",
    "person_counts.head(15)"
   ]
  },
  {
   "cell_type": "code",
   "execution_count": 69,
   "metadata": {},
   "outputs": [
    {
     "data": {
      "text/html": [
       "<div>\n",
       "<style scoped>\n",
       "    .dataframe tbody tr th:only-of-type {\n",
       "        vertical-align: middle;\n",
       "    }\n",
       "\n",
       "    .dataframe tbody tr th {\n",
       "        vertical-align: top;\n",
       "    }\n",
       "\n",
       "    .dataframe thead th {\n",
       "        text-align: right;\n",
       "    }\n",
       "</style>\n",
       "<table border=\"1\" class=\"dataframe\">\n",
       "  <thead>\n",
       "    <tr style=\"text-align: right;\">\n",
       "      <th></th>\n",
       "      <th>ORG</th>\n",
       "      <th>count</th>\n",
       "    </tr>\n",
       "  </thead>\n",
       "  <tbody>\n",
       "    <tr>\n",
       "      <th>0</th>\n",
       "      <td>CIA</td>\n",
       "      <td>744</td>\n",
       "    </tr>\n",
       "    <tr>\n",
       "      <th>1</th>\n",
       "      <td>KGB</td>\n",
       "      <td>151</td>\n",
       "    </tr>\n",
       "    <tr>\n",
       "      <th>2</th>\n",
       "      <td>FBI</td>\n",
       "      <td>108</td>\n",
       "    </tr>\n",
       "    <tr>\n",
       "      <th>3</th>\n",
       "      <td>Allied</td>\n",
       "      <td>103</td>\n",
       "    </tr>\n",
       "    <tr>\n",
       "      <th>4</th>\n",
       "      <td>Congress</td>\n",
       "      <td>78</td>\n",
       "    </tr>\n",
       "    <tr>\n",
       "      <th>5</th>\n",
       "      <td>SIS</td>\n",
       "      <td>69</td>\n",
       "    </tr>\n",
       "    <tr>\n",
       "      <th>6</th>\n",
       "      <td>SOE</td>\n",
       "      <td>67</td>\n",
       "    </tr>\n",
       "    <tr>\n",
       "      <th>7</th>\n",
       "      <td>the Intelligence Community</td>\n",
       "      <td>65</td>\n",
       "    </tr>\n",
       "    <tr>\n",
       "      <th>8</th>\n",
       "      <td>NATO</td>\n",
       "      <td>64</td>\n",
       "    </tr>\n",
       "    <tr>\n",
       "      <th>9</th>\n",
       "      <td>EU</td>\n",
       "      <td>58</td>\n",
       "    </tr>\n",
       "    <tr>\n",
       "      <th>10</th>\n",
       "      <td>OSS</td>\n",
       "      <td>56</td>\n",
       "    </tr>\n",
       "    <tr>\n",
       "      <th>11</th>\n",
       "      <td>NSA</td>\n",
       "      <td>48</td>\n",
       "    </tr>\n",
       "    <tr>\n",
       "      <th>12</th>\n",
       "      <td>British Intelligence</td>\n",
       "      <td>48</td>\n",
       "    </tr>\n",
       "    <tr>\n",
       "      <th>13</th>\n",
       "      <td>AI</td>\n",
       "      <td>44</td>\n",
       "    </tr>\n",
       "    <tr>\n",
       "      <th>14</th>\n",
       "      <td>Hamas</td>\n",
       "      <td>40</td>\n",
       "    </tr>\n",
       "  </tbody>\n",
       "</table>\n",
       "</div>"
      ],
      "text/plain": [
       "                           ORG  count\n",
       "0                          CIA    744\n",
       "1                          KGB    151\n",
       "2                          FBI    108\n",
       "3                       Allied    103\n",
       "4                     Congress     78\n",
       "5                          SIS     69\n",
       "6                          SOE     67\n",
       "7   the Intelligence Community     65\n",
       "8                         NATO     64\n",
       "9                           EU     58\n",
       "10                         OSS     56\n",
       "11                         NSA     48\n",
       "12        British Intelligence     48\n",
       "13                          AI     44\n",
       "14                       Hamas     40"
      ]
     },
     "execution_count": 69,
     "metadata": {},
     "output_type": "execute_result"
    }
   ],
   "source": [
    "df_one_o = df_one.copy()\n",
    "df_one_o = df_one[['Text', 'ORG']]\n",
    "# df_one_p = df_one_g.fillna('')\n",
    "df_one_o = df_one_o.drop_duplicates(subset=['Text', 'ORG'])\n",
    "\n",
    "org_counts = df_one_o['ORG'].value_counts().reset_index()\n",
    "org_counts.columns = ['ORG', 'count']\n",
    "\n",
    "mapping_organisations = {\n",
    "    'The British Secret Intelligence Service' : 'SIS',\n",
    "    'the British Secret Intelligence Service' : 'SIS',\n",
    "    'The Joint Intelligence Committee' : 'Joint Intelligence Committee',\n",
    "    'the Joint Intelligence Committee' : 'Joint Intelligence Committee',\n",
    "    'Joint Intelligence Committee' : 'Joint Intelligence Committee',\n",
    "    'the Joint Intelligence Committee - History' : 'Joint Intelligence Committee',\n",
    "    'Central Intelligence Agency' : 'CIA',\n",
    "    'the Central Intelligence Agency' : 'CIA',\n",
    "    'the Foreign Office' : 'Foreign Office',\n",
    "    'Schar School' : 'Schar School of Policy and Government',\n",
    "    'the Secret Intelligence Service' : 'SIS',\n",
    "    \"George Mason University's\" : \"George Mason University\",\n",
    "    'JIC' : 'Joint Intelligence Committee'\n",
    "}\n",
    "org_counts['ORG'] =org_counts['ORG'].replace(mapping_organisations)\n",
    "org_counts = org_counts.groupby('ORG').sum().reset_index()\n",
    "org_counts.sort_values('count', ascending=False, inplace=True)\n",
    "\n",
    "remove_orgs = ['Intelligence', 'Kremlin', 'Ultra', 'International Security', 'Intelligence Studies', 'Intelligence Analysis', 'OSINT']\n",
    "org_counts = org_counts[~org_counts['ORG'].isin(remove_orgs)]\n",
    "org_counts = org_counts.reset_index(drop=True)\n",
    "\n",
    "org_counts.head(15)"
   ]
  },
  {
   "cell_type": "code",
   "execution_count": 70,
   "metadata": {},
   "outputs": [],
   "source": [
    "gpe_counts.head(15).to_csv('gpe.csv')\n",
    "person_counts.head(15).to_csv('person.csv')\n",
    "org_counts.head(15).to_csv('org.csv')"
   ]
  },
  {
   "cell_type": "code",
   "execution_count": 71,
   "metadata": {},
   "outputs": [
    {
     "data": {
      "text/html": [
       "<div>\n",
       "<style scoped>\n",
       "    .dataframe tbody tr th:only-of-type {\n",
       "        vertical-align: middle;\n",
       "    }\n",
       "\n",
       "    .dataframe tbody tr th {\n",
       "        vertical-align: top;\n",
       "    }\n",
       "\n",
       "    .dataframe thead th {\n",
       "        text-align: right;\n",
       "    }\n",
       "</style>\n",
       "<table border=\"1\" class=\"dataframe\">\n",
       "  <thead>\n",
       "    <tr style=\"text-align: right;\">\n",
       "      <th></th>\n",
       "      <th>Unnamed: 0</th>\n",
       "      <th>Title</th>\n",
       "      <th>Publication type</th>\n",
       "      <th>Link to publication</th>\n",
       "      <th>Abstract</th>\n",
       "      <th>Zotero link</th>\n",
       "      <th>Date published</th>\n",
       "      <th>FirstName2</th>\n",
       "      <th>Publisher</th>\n",
       "      <th>Journal</th>\n",
       "      <th>Date added</th>\n",
       "      <th>Col key</th>\n",
       "      <th>DOI</th>\n",
       "      <th>Book_title</th>\n",
       "    </tr>\n",
       "  </thead>\n",
       "  <tbody>\n",
       "    <tr>\n",
       "      <th>0</th>\n",
       "      <td>0</td>\n",
       "      <td>THE ACTIVITY OF THE MILITARY INTELLIGENCE DIRE...</td>\n",
       "      <td>Journal article</td>\n",
       "      <td>https://www.ceeol.com/search/article-detail?id...</td>\n",
       "      <td>In 2014, the General Staff and the Military In...</td>\n",
       "      <td>https://www.zotero.org/groups/intelligence_bib...</td>\n",
       "      <td>2014</td>\n",
       "      <td>Cristian Iulian Dincovici</td>\n",
       "      <td>NaN</td>\n",
       "      <td>Romanian Military Thinking</td>\n",
       "      <td>2024-06-29T12:17:56Z</td>\n",
       "      <td>['AZ3BZ9BR']</td>\n",
       "      <td>NaN</td>\n",
       "      <td>NaN</td>\n",
       "    </tr>\n",
       "    <tr>\n",
       "      <th>1</th>\n",
       "      <td>1</td>\n",
       "      <td>THE RISE OF OPEN-SOURCE INTELLIGENCE IN THE RU...</td>\n",
       "      <td>Conference paper</td>\n",
       "      <td>https://www.ceeol.com/search/chapter-detail?id...</td>\n",
       "      <td>Open-source intelligence (OSINT) benefited sig...</td>\n",
       "      <td>https://www.zotero.org/groups/intelligence_bib...</td>\n",
       "      <td>2023</td>\n",
       "      <td>Gabriel Popescu, Sorin Carpen</td>\n",
       "      <td>Carol I National Defence University Publishing...</td>\n",
       "      <td>NaN</td>\n",
       "      <td>2024-06-29T12:15:18Z</td>\n",
       "      <td>['LXMU5UXP', 'Y959U28A']</td>\n",
       "      <td>NaN</td>\n",
       "      <td>NaN</td>\n",
       "    </tr>\n",
       "    <tr>\n",
       "      <th>2</th>\n",
       "      <td>2</td>\n",
       "      <td>Our People’s War: Home Intelligence Reports an...</td>\n",
       "      <td>Book</td>\n",
       "      <td>https://www.bloomsbury.com/uk/our-peoples-war-...</td>\n",
       "      <td>What was the mood of the British people during...</td>\n",
       "      <td>https://www.zotero.org/groups/intelligence_bib...</td>\n",
       "      <td>2024-10-17</td>\n",
       "      <td>Jeremy A. Crang</td>\n",
       "      <td>Bloomsbury</td>\n",
       "      <td>NaN</td>\n",
       "      <td>2024-06-29T12:12:42Z</td>\n",
       "      <td>['SCCGXHMZ']</td>\n",
       "      <td>NaN</td>\n",
       "      <td>NaN</td>\n",
       "    </tr>\n",
       "    <tr>\n",
       "      <th>3</th>\n",
       "      <td>3</td>\n",
       "      <td>The Open Conversation on African Intelligence</td>\n",
       "      <td>Book chapter</td>\n",
       "      <td>NaN</td>\n",
       "      <td>This chapter advances several conclusive remar...</td>\n",
       "      <td>https://www.zotero.org/groups/intelligence_bib...</td>\n",
       "      <td>2024-08-08</td>\n",
       "      <td>Tshepo Gwatiwa</td>\n",
       "      <td>Routledge</td>\n",
       "      <td>NaN</td>\n",
       "      <td>2024-06-29T12:10:57Z</td>\n",
       "      <td>['AZ3BZ9BR']</td>\n",
       "      <td>NaN</td>\n",
       "      <td>Contemporary Intelligence in Africa</td>\n",
       "    </tr>\n",
       "    <tr>\n",
       "      <th>4</th>\n",
       "      <td>4</td>\n",
       "      <td>Intelligence in Wildlife Protected Areas in Su...</td>\n",
       "      <td>Book chapter</td>\n",
       "      <td>NaN</td>\n",
       "      <td>Approximately 17% of land and 7% of marine are...</td>\n",
       "      <td>https://www.zotero.org/groups/intelligence_bib...</td>\n",
       "      <td>2024-08-08</td>\n",
       "      <td>Katherine C. Snow</td>\n",
       "      <td>Routledge</td>\n",
       "      <td>NaN</td>\n",
       "      <td>2024-06-29T12:10:24Z</td>\n",
       "      <td>['AZ3BZ9BR']</td>\n",
       "      <td>NaN</td>\n",
       "      <td>Contemporary Intelligence in Africa</td>\n",
       "    </tr>\n",
       "    <tr>\n",
       "      <th>...</th>\n",
       "      <td>...</td>\n",
       "      <td>...</td>\n",
       "      <td>...</td>\n",
       "      <td>...</td>\n",
       "      <td>...</td>\n",
       "      <td>...</td>\n",
       "      <td>...</td>\n",
       "      <td>...</td>\n",
       "      <td>...</td>\n",
       "      <td>...</td>\n",
       "      <td>...</td>\n",
       "      <td>...</td>\n",
       "      <td>...</td>\n",
       "      <td>...</td>\n",
       "    </tr>\n",
       "    <tr>\n",
       "      <th>6945</th>\n",
       "      <td>6945</td>\n",
       "      <td>The Uses and Limits of Intelligence</td>\n",
       "      <td>Book</td>\n",
       "      <td>https://doi.org/10.4324/9781351302128</td>\n",
       "      <td>NaN</td>\n",
       "      <td>https://www.zotero.org/groups/intelligence_bib...</td>\n",
       "      <td>2017</td>\n",
       "      <td>Walter Laqueur</td>\n",
       "      <td>Routledge</td>\n",
       "      <td>NaN</td>\n",
       "      <td>2020-06-05T10:17:21Z</td>\n",
       "      <td>['HCN8YFI8', 'DVEM4H4W']</td>\n",
       "      <td>NaN</td>\n",
       "      <td>NaN</td>\n",
       "    </tr>\n",
       "    <tr>\n",
       "      <th>6946</th>\n",
       "      <td>6946</td>\n",
       "      <td>Analyzing Intelligence: Origins, Obstacles, an...</td>\n",
       "      <td>Book</td>\n",
       "      <td>NaN</td>\n",
       "      <td>NaN</td>\n",
       "      <td>https://www.zotero.org/groups/intelligence_bib...</td>\n",
       "      <td>2008</td>\n",
       "      <td>Roger Z. George, James B. Bruce</td>\n",
       "      <td>Georgetown University Press</td>\n",
       "      <td>NaN</td>\n",
       "      <td>2020-06-05T10:17:21Z</td>\n",
       "      <td>['HCN8YFI8']</td>\n",
       "      <td>NaN</td>\n",
       "      <td>NaN</td>\n",
       "    </tr>\n",
       "    <tr>\n",
       "      <th>6947</th>\n",
       "      <td>6947</td>\n",
       "      <td>Intelligence Services in the Information Age</td>\n",
       "      <td>Book</td>\n",
       "      <td>https://doi.org/10.4324/9780203479667</td>\n",
       "      <td>NaN</td>\n",
       "      <td>https://www.zotero.org/groups/intelligence_bib...</td>\n",
       "      <td>2013</td>\n",
       "      <td>Michael Herman</td>\n",
       "      <td>Routledge</td>\n",
       "      <td>NaN</td>\n",
       "      <td>2020-06-05T10:17:21Z</td>\n",
       "      <td>['HCN8YFI8']</td>\n",
       "      <td>NaN</td>\n",
       "      <td>NaN</td>\n",
       "    </tr>\n",
       "    <tr>\n",
       "      <th>6948</th>\n",
       "      <td>6948</td>\n",
       "      <td>Intelligence and Government in Britain and the...</td>\n",
       "      <td>Book</td>\n",
       "      <td>NaN</td>\n",
       "      <td>NaN</td>\n",
       "      <td>https://www.zotero.org/groups/intelligence_bib...</td>\n",
       "      <td>2012</td>\n",
       "      <td>Philip H.J. Davies</td>\n",
       "      <td>Praeger</td>\n",
       "      <td>NaN</td>\n",
       "      <td>2020-06-05T10:17:21Z</td>\n",
       "      <td>['HCN8YFI8', 'DVEM4H4W']</td>\n",
       "      <td>NaN</td>\n",
       "      <td>NaN</td>\n",
       "    </tr>\n",
       "    <tr>\n",
       "      <th>6949</th>\n",
       "      <td>6949</td>\n",
       "      <td>Intelligence and Government in Britain and the...</td>\n",
       "      <td>Book</td>\n",
       "      <td>NaN</td>\n",
       "      <td>NaN</td>\n",
       "      <td>https://www.zotero.org/groups/intelligence_bib...</td>\n",
       "      <td>2012</td>\n",
       "      <td>Philip H.J. Davies</td>\n",
       "      <td>Praeger</td>\n",
       "      <td>NaN</td>\n",
       "      <td>2020-06-05T10:17:21Z</td>\n",
       "      <td>['HCN8YFI8', 'DVEM4H4W']</td>\n",
       "      <td>NaN</td>\n",
       "      <td>NaN</td>\n",
       "    </tr>\n",
       "  </tbody>\n",
       "</table>\n",
       "<p>6950 rows × 14 columns</p>\n",
       "</div>"
      ],
      "text/plain": [
       "      Unnamed: 0                                              Title  \\\n",
       "0              0  THE ACTIVITY OF THE MILITARY INTELLIGENCE DIRE...   \n",
       "1              1  THE RISE OF OPEN-SOURCE INTELLIGENCE IN THE RU...   \n",
       "2              2  Our People’s War: Home Intelligence Reports an...   \n",
       "3              3      The Open Conversation on African Intelligence   \n",
       "4              4  Intelligence in Wildlife Protected Areas in Su...   \n",
       "...          ...                                                ...   \n",
       "6945        6945                The Uses and Limits of Intelligence   \n",
       "6946        6946  Analyzing Intelligence: Origins, Obstacles, an...   \n",
       "6947        6947       Intelligence Services in the Information Age   \n",
       "6948        6948  Intelligence and Government in Britain and the...   \n",
       "6949        6949  Intelligence and Government in Britain and the...   \n",
       "\n",
       "      Publication type                                Link to publication  \\\n",
       "0      Journal article  https://www.ceeol.com/search/article-detail?id...   \n",
       "1     Conference paper  https://www.ceeol.com/search/chapter-detail?id...   \n",
       "2                 Book  https://www.bloomsbury.com/uk/our-peoples-war-...   \n",
       "3         Book chapter                                                NaN   \n",
       "4         Book chapter                                                NaN   \n",
       "...                ...                                                ...   \n",
       "6945              Book              https://doi.org/10.4324/9781351302128   \n",
       "6946              Book                                                NaN   \n",
       "6947              Book              https://doi.org/10.4324/9780203479667   \n",
       "6948              Book                                                NaN   \n",
       "6949              Book                                                NaN   \n",
       "\n",
       "                                               Abstract  \\\n",
       "0     In 2014, the General Staff and the Military In...   \n",
       "1     Open-source intelligence (OSINT) benefited sig...   \n",
       "2     What was the mood of the British people during...   \n",
       "3     This chapter advances several conclusive remar...   \n",
       "4     Approximately 17% of land and 7% of marine are...   \n",
       "...                                                 ...   \n",
       "6945                                                NaN   \n",
       "6946                                                NaN   \n",
       "6947                                                NaN   \n",
       "6948                                                NaN   \n",
       "6949                                                NaN   \n",
       "\n",
       "                                            Zotero link Date published  \\\n",
       "0     https://www.zotero.org/groups/intelligence_bib...           2014   \n",
       "1     https://www.zotero.org/groups/intelligence_bib...           2023   \n",
       "2     https://www.zotero.org/groups/intelligence_bib...     2024-10-17   \n",
       "3     https://www.zotero.org/groups/intelligence_bib...     2024-08-08   \n",
       "4     https://www.zotero.org/groups/intelligence_bib...     2024-08-08   \n",
       "...                                                 ...            ...   \n",
       "6945  https://www.zotero.org/groups/intelligence_bib...           2017   \n",
       "6946  https://www.zotero.org/groups/intelligence_bib...           2008   \n",
       "6947  https://www.zotero.org/groups/intelligence_bib...           2013   \n",
       "6948  https://www.zotero.org/groups/intelligence_bib...           2012   \n",
       "6949  https://www.zotero.org/groups/intelligence_bib...           2012   \n",
       "\n",
       "                           FirstName2  \\\n",
       "0           Cristian Iulian Dincovici   \n",
       "1       Gabriel Popescu, Sorin Carpen   \n",
       "2                     Jeremy A. Crang   \n",
       "3                      Tshepo Gwatiwa   \n",
       "4                   Katherine C. Snow   \n",
       "...                               ...   \n",
       "6945                   Walter Laqueur   \n",
       "6946  Roger Z. George, James B. Bruce   \n",
       "6947                   Michael Herman   \n",
       "6948               Philip H.J. Davies   \n",
       "6949               Philip H.J. Davies   \n",
       "\n",
       "                                              Publisher  \\\n",
       "0                                                   NaN   \n",
       "1     Carol I National Defence University Publishing...   \n",
       "2                                            Bloomsbury   \n",
       "3                                             Routledge   \n",
       "4                                             Routledge   \n",
       "...                                                 ...   \n",
       "6945                                          Routledge   \n",
       "6946                        Georgetown University Press   \n",
       "6947                                          Routledge   \n",
       "6948                                            Praeger   \n",
       "6949                                            Praeger   \n",
       "\n",
       "                         Journal            Date added  \\\n",
       "0     Romanian Military Thinking  2024-06-29T12:17:56Z   \n",
       "1                            NaN  2024-06-29T12:15:18Z   \n",
       "2                            NaN  2024-06-29T12:12:42Z   \n",
       "3                            NaN  2024-06-29T12:10:57Z   \n",
       "4                            NaN  2024-06-29T12:10:24Z   \n",
       "...                          ...                   ...   \n",
       "6945                         NaN  2020-06-05T10:17:21Z   \n",
       "6946                         NaN  2020-06-05T10:17:21Z   \n",
       "6947                         NaN  2020-06-05T10:17:21Z   \n",
       "6948                         NaN  2020-06-05T10:17:21Z   \n",
       "6949                         NaN  2020-06-05T10:17:21Z   \n",
       "\n",
       "                       Col key  DOI                           Book_title  \n",
       "0                 ['AZ3BZ9BR']  NaN                                  NaN  \n",
       "1     ['LXMU5UXP', 'Y959U28A']  NaN                                  NaN  \n",
       "2                 ['SCCGXHMZ']  NaN                                  NaN  \n",
       "3                 ['AZ3BZ9BR']  NaN  Contemporary Intelligence in Africa  \n",
       "4                 ['AZ3BZ9BR']  NaN  Contemporary Intelligence in Africa  \n",
       "...                        ...  ...                                  ...  \n",
       "6945  ['HCN8YFI8', 'DVEM4H4W']  NaN                                  NaN  \n",
       "6946              ['HCN8YFI8']  NaN                                  NaN  \n",
       "6947              ['HCN8YFI8']  NaN                                  NaN  \n",
       "6948  ['HCN8YFI8', 'DVEM4H4W']  NaN                                  NaN  \n",
       "6949  ['HCN8YFI8', 'DVEM4H4W']  NaN                                  NaN  \n",
       "\n",
       "[6950 rows x 14 columns]"
      ]
     },
     "execution_count": 71,
     "metadata": {},
     "output_type": "execute_result"
    }
   ],
   "source": [
    "test = pd.read_csv('all_items.csv')\n",
    "test"
   ]
  },
  {
   "cell_type": "markdown",
   "metadata": {},
   "source": [
    "# Retrieving citation count and open access status"
   ]
  },
  {
   "cell_type": "code",
   "execution_count": 72,
   "metadata": {},
   "outputs": [
    {
     "name": "stdout",
     "output_type": "stream",
     "text": [
      "This part will be refreshed every Wednesday!\n"
     ]
    },
    {
     "data": {
      "text/html": [
       "<div>\n",
       "<style scoped>\n",
       "    .dataframe tbody tr th:only-of-type {\n",
       "        vertical-align: middle;\n",
       "    }\n",
       "\n",
       "    .dataframe tbody tr th {\n",
       "        vertical-align: top;\n",
       "    }\n",
       "\n",
       "    .dataframe thead th {\n",
       "        text-align: right;\n",
       "    }\n",
       "</style>\n",
       "<table border=\"1\" class=\"dataframe\">\n",
       "  <thead>\n",
       "    <tr style=\"text-align: right;\">\n",
       "      <th></th>\n",
       "      <th>Unnamed: 0</th>\n",
       "      <th>Title</th>\n",
       "      <th>Publication type</th>\n",
       "      <th>Link to publication</th>\n",
       "      <th>Abstract</th>\n",
       "      <th>Zotero link</th>\n",
       "      <th>Date published</th>\n",
       "      <th>FirstName2</th>\n",
       "      <th>Publisher</th>\n",
       "      <th>Journal</th>\n",
       "      <th>Date added</th>\n",
       "      <th>Col key</th>\n",
       "      <th>DOI</th>\n",
       "      <th>Book_title</th>\n",
       "    </tr>\n",
       "  </thead>\n",
       "  <tbody>\n",
       "    <tr>\n",
       "      <th>0</th>\n",
       "      <td>0</td>\n",
       "      <td>THE ACTIVITY OF THE MILITARY INTELLIGENCE DIRE...</td>\n",
       "      <td>Journal article</td>\n",
       "      <td>https://www.ceeol.com/search/article-detail?id...</td>\n",
       "      <td>In 2014, the General Staff and the Military In...</td>\n",
       "      <td>https://www.zotero.org/groups/intelligence_bib...</td>\n",
       "      <td>2014</td>\n",
       "      <td>Cristian Iulian Dincovici</td>\n",
       "      <td>NaN</td>\n",
       "      <td>Romanian Military Thinking</td>\n",
       "      <td>2024-06-29T12:17:56Z</td>\n",
       "      <td>['AZ3BZ9BR']</td>\n",
       "      <td>NaN</td>\n",
       "      <td>NaN</td>\n",
       "    </tr>\n",
       "    <tr>\n",
       "      <th>1</th>\n",
       "      <td>1</td>\n",
       "      <td>THE RISE OF OPEN-SOURCE INTELLIGENCE IN THE RU...</td>\n",
       "      <td>Conference paper</td>\n",
       "      <td>https://www.ceeol.com/search/chapter-detail?id...</td>\n",
       "      <td>Open-source intelligence (OSINT) benefited sig...</td>\n",
       "      <td>https://www.zotero.org/groups/intelligence_bib...</td>\n",
       "      <td>2023</td>\n",
       "      <td>Gabriel Popescu, Sorin Carpen</td>\n",
       "      <td>Carol I National Defence University Publishing...</td>\n",
       "      <td>NaN</td>\n",
       "      <td>2024-06-29T12:15:18Z</td>\n",
       "      <td>['LXMU5UXP', 'Y959U28A']</td>\n",
       "      <td>NaN</td>\n",
       "      <td>NaN</td>\n",
       "    </tr>\n",
       "    <tr>\n",
       "      <th>2</th>\n",
       "      <td>2</td>\n",
       "      <td>Our People’s War: Home Intelligence Reports an...</td>\n",
       "      <td>Book</td>\n",
       "      <td>https://www.bloomsbury.com/uk/our-peoples-war-...</td>\n",
       "      <td>What was the mood of the British people during...</td>\n",
       "      <td>https://www.zotero.org/groups/intelligence_bib...</td>\n",
       "      <td>2024-10-17</td>\n",
       "      <td>Jeremy A. Crang</td>\n",
       "      <td>Bloomsbury</td>\n",
       "      <td>NaN</td>\n",
       "      <td>2024-06-29T12:12:42Z</td>\n",
       "      <td>['SCCGXHMZ']</td>\n",
       "      <td>NaN</td>\n",
       "      <td>NaN</td>\n",
       "    </tr>\n",
       "    <tr>\n",
       "      <th>3</th>\n",
       "      <td>3</td>\n",
       "      <td>The Open Conversation on African Intelligence</td>\n",
       "      <td>Book chapter</td>\n",
       "      <td>NaN</td>\n",
       "      <td>This chapter advances several conclusive remar...</td>\n",
       "      <td>https://www.zotero.org/groups/intelligence_bib...</td>\n",
       "      <td>2024-08-08</td>\n",
       "      <td>Tshepo Gwatiwa</td>\n",
       "      <td>Routledge</td>\n",
       "      <td>NaN</td>\n",
       "      <td>2024-06-29T12:10:57Z</td>\n",
       "      <td>['AZ3BZ9BR']</td>\n",
       "      <td>NaN</td>\n",
       "      <td>Contemporary Intelligence in Africa</td>\n",
       "    </tr>\n",
       "    <tr>\n",
       "      <th>4</th>\n",
       "      <td>4</td>\n",
       "      <td>Intelligence in Wildlife Protected Areas in Su...</td>\n",
       "      <td>Book chapter</td>\n",
       "      <td>NaN</td>\n",
       "      <td>Approximately 17% of land and 7% of marine are...</td>\n",
       "      <td>https://www.zotero.org/groups/intelligence_bib...</td>\n",
       "      <td>2024-08-08</td>\n",
       "      <td>Katherine C. Snow</td>\n",
       "      <td>Routledge</td>\n",
       "      <td>NaN</td>\n",
       "      <td>2024-06-29T12:10:24Z</td>\n",
       "      <td>['AZ3BZ9BR']</td>\n",
       "      <td>NaN</td>\n",
       "      <td>Contemporary Intelligence in Africa</td>\n",
       "    </tr>\n",
       "    <tr>\n",
       "      <th>...</th>\n",
       "      <td>...</td>\n",
       "      <td>...</td>\n",
       "      <td>...</td>\n",
       "      <td>...</td>\n",
       "      <td>...</td>\n",
       "      <td>...</td>\n",
       "      <td>...</td>\n",
       "      <td>...</td>\n",
       "      <td>...</td>\n",
       "      <td>...</td>\n",
       "      <td>...</td>\n",
       "      <td>...</td>\n",
       "      <td>...</td>\n",
       "      <td>...</td>\n",
       "    </tr>\n",
       "    <tr>\n",
       "      <th>6945</th>\n",
       "      <td>6945</td>\n",
       "      <td>The Uses and Limits of Intelligence</td>\n",
       "      <td>Book</td>\n",
       "      <td>https://doi.org/10.4324/9781351302128</td>\n",
       "      <td>NaN</td>\n",
       "      <td>https://www.zotero.org/groups/intelligence_bib...</td>\n",
       "      <td>2017</td>\n",
       "      <td>Walter Laqueur</td>\n",
       "      <td>Routledge</td>\n",
       "      <td>NaN</td>\n",
       "      <td>2020-06-05T10:17:21Z</td>\n",
       "      <td>['HCN8YFI8', 'DVEM4H4W']</td>\n",
       "      <td>NaN</td>\n",
       "      <td>NaN</td>\n",
       "    </tr>\n",
       "    <tr>\n",
       "      <th>6946</th>\n",
       "      <td>6946</td>\n",
       "      <td>Analyzing Intelligence: Origins, Obstacles, an...</td>\n",
       "      <td>Book</td>\n",
       "      <td>NaN</td>\n",
       "      <td>NaN</td>\n",
       "      <td>https://www.zotero.org/groups/intelligence_bib...</td>\n",
       "      <td>2008</td>\n",
       "      <td>Roger Z. George, James B. Bruce</td>\n",
       "      <td>Georgetown University Press</td>\n",
       "      <td>NaN</td>\n",
       "      <td>2020-06-05T10:17:21Z</td>\n",
       "      <td>['HCN8YFI8']</td>\n",
       "      <td>NaN</td>\n",
       "      <td>NaN</td>\n",
       "    </tr>\n",
       "    <tr>\n",
       "      <th>6947</th>\n",
       "      <td>6947</td>\n",
       "      <td>Intelligence Services in the Information Age</td>\n",
       "      <td>Book</td>\n",
       "      <td>https://doi.org/10.4324/9780203479667</td>\n",
       "      <td>NaN</td>\n",
       "      <td>https://www.zotero.org/groups/intelligence_bib...</td>\n",
       "      <td>2013</td>\n",
       "      <td>Michael Herman</td>\n",
       "      <td>Routledge</td>\n",
       "      <td>NaN</td>\n",
       "      <td>2020-06-05T10:17:21Z</td>\n",
       "      <td>['HCN8YFI8']</td>\n",
       "      <td>NaN</td>\n",
       "      <td>NaN</td>\n",
       "    </tr>\n",
       "    <tr>\n",
       "      <th>6948</th>\n",
       "      <td>6948</td>\n",
       "      <td>Intelligence and Government in Britain and the...</td>\n",
       "      <td>Book</td>\n",
       "      <td>NaN</td>\n",
       "      <td>NaN</td>\n",
       "      <td>https://www.zotero.org/groups/intelligence_bib...</td>\n",
       "      <td>2012</td>\n",
       "      <td>Philip H.J. Davies</td>\n",
       "      <td>Praeger</td>\n",
       "      <td>NaN</td>\n",
       "      <td>2020-06-05T10:17:21Z</td>\n",
       "      <td>['HCN8YFI8', 'DVEM4H4W']</td>\n",
       "      <td>NaN</td>\n",
       "      <td>NaN</td>\n",
       "    </tr>\n",
       "    <tr>\n",
       "      <th>6949</th>\n",
       "      <td>6949</td>\n",
       "      <td>Intelligence and Government in Britain and the...</td>\n",
       "      <td>Book</td>\n",
       "      <td>NaN</td>\n",
       "      <td>NaN</td>\n",
       "      <td>https://www.zotero.org/groups/intelligence_bib...</td>\n",
       "      <td>2012</td>\n",
       "      <td>Philip H.J. Davies</td>\n",
       "      <td>Praeger</td>\n",
       "      <td>NaN</td>\n",
       "      <td>2020-06-05T10:17:21Z</td>\n",
       "      <td>['HCN8YFI8', 'DVEM4H4W']</td>\n",
       "      <td>NaN</td>\n",
       "      <td>NaN</td>\n",
       "    </tr>\n",
       "  </tbody>\n",
       "</table>\n",
       "<p>6950 rows × 14 columns</p>\n",
       "</div>"
      ],
      "text/plain": [
       "      Unnamed: 0                                              Title  \\\n",
       "0              0  THE ACTIVITY OF THE MILITARY INTELLIGENCE DIRE...   \n",
       "1              1  THE RISE OF OPEN-SOURCE INTELLIGENCE IN THE RU...   \n",
       "2              2  Our People’s War: Home Intelligence Reports an...   \n",
       "3              3      The Open Conversation on African Intelligence   \n",
       "4              4  Intelligence in Wildlife Protected Areas in Su...   \n",
       "...          ...                                                ...   \n",
       "6945        6945                The Uses and Limits of Intelligence   \n",
       "6946        6946  Analyzing Intelligence: Origins, Obstacles, an...   \n",
       "6947        6947       Intelligence Services in the Information Age   \n",
       "6948        6948  Intelligence and Government in Britain and the...   \n",
       "6949        6949  Intelligence and Government in Britain and the...   \n",
       "\n",
       "      Publication type                                Link to publication  \\\n",
       "0      Journal article  https://www.ceeol.com/search/article-detail?id...   \n",
       "1     Conference paper  https://www.ceeol.com/search/chapter-detail?id...   \n",
       "2                 Book  https://www.bloomsbury.com/uk/our-peoples-war-...   \n",
       "3         Book chapter                                                NaN   \n",
       "4         Book chapter                                                NaN   \n",
       "...                ...                                                ...   \n",
       "6945              Book              https://doi.org/10.4324/9781351302128   \n",
       "6946              Book                                                NaN   \n",
       "6947              Book              https://doi.org/10.4324/9780203479667   \n",
       "6948              Book                                                NaN   \n",
       "6949              Book                                                NaN   \n",
       "\n",
       "                                               Abstract  \\\n",
       "0     In 2014, the General Staff and the Military In...   \n",
       "1     Open-source intelligence (OSINT) benefited sig...   \n",
       "2     What was the mood of the British people during...   \n",
       "3     This chapter advances several conclusive remar...   \n",
       "4     Approximately 17% of land and 7% of marine are...   \n",
       "...                                                 ...   \n",
       "6945                                                NaN   \n",
       "6946                                                NaN   \n",
       "6947                                                NaN   \n",
       "6948                                                NaN   \n",
       "6949                                                NaN   \n",
       "\n",
       "                                            Zotero link Date published  \\\n",
       "0     https://www.zotero.org/groups/intelligence_bib...           2014   \n",
       "1     https://www.zotero.org/groups/intelligence_bib...           2023   \n",
       "2     https://www.zotero.org/groups/intelligence_bib...     2024-10-17   \n",
       "3     https://www.zotero.org/groups/intelligence_bib...     2024-08-08   \n",
       "4     https://www.zotero.org/groups/intelligence_bib...     2024-08-08   \n",
       "...                                                 ...            ...   \n",
       "6945  https://www.zotero.org/groups/intelligence_bib...           2017   \n",
       "6946  https://www.zotero.org/groups/intelligence_bib...           2008   \n",
       "6947  https://www.zotero.org/groups/intelligence_bib...           2013   \n",
       "6948  https://www.zotero.org/groups/intelligence_bib...           2012   \n",
       "6949  https://www.zotero.org/groups/intelligence_bib...           2012   \n",
       "\n",
       "                           FirstName2  \\\n",
       "0           Cristian Iulian Dincovici   \n",
       "1       Gabriel Popescu, Sorin Carpen   \n",
       "2                     Jeremy A. Crang   \n",
       "3                      Tshepo Gwatiwa   \n",
       "4                   Katherine C. Snow   \n",
       "...                               ...   \n",
       "6945                   Walter Laqueur   \n",
       "6946  Roger Z. George, James B. Bruce   \n",
       "6947                   Michael Herman   \n",
       "6948               Philip H.J. Davies   \n",
       "6949               Philip H.J. Davies   \n",
       "\n",
       "                                              Publisher  \\\n",
       "0                                                   NaN   \n",
       "1     Carol I National Defence University Publishing...   \n",
       "2                                            Bloomsbury   \n",
       "3                                             Routledge   \n",
       "4                                             Routledge   \n",
       "...                                                 ...   \n",
       "6945                                          Routledge   \n",
       "6946                        Georgetown University Press   \n",
       "6947                                          Routledge   \n",
       "6948                                            Praeger   \n",
       "6949                                            Praeger   \n",
       "\n",
       "                         Journal            Date added  \\\n",
       "0     Romanian Military Thinking  2024-06-29T12:17:56Z   \n",
       "1                            NaN  2024-06-29T12:15:18Z   \n",
       "2                            NaN  2024-06-29T12:12:42Z   \n",
       "3                            NaN  2024-06-29T12:10:57Z   \n",
       "4                            NaN  2024-06-29T12:10:24Z   \n",
       "...                          ...                   ...   \n",
       "6945                         NaN  2020-06-05T10:17:21Z   \n",
       "6946                         NaN  2020-06-05T10:17:21Z   \n",
       "6947                         NaN  2020-06-05T10:17:21Z   \n",
       "6948                         NaN  2020-06-05T10:17:21Z   \n",
       "6949                         NaN  2020-06-05T10:17:21Z   \n",
       "\n",
       "                       Col key  DOI                           Book_title  \n",
       "0                 ['AZ3BZ9BR']  NaN                                  NaN  \n",
       "1     ['LXMU5UXP', 'Y959U28A']  NaN                                  NaN  \n",
       "2                 ['SCCGXHMZ']  NaN                                  NaN  \n",
       "3                 ['AZ3BZ9BR']  NaN  Contemporary Intelligence in Africa  \n",
       "4                 ['AZ3BZ9BR']  NaN  Contemporary Intelligence in Africa  \n",
       "...                        ...  ...                                  ...  \n",
       "6945  ['HCN8YFI8', 'DVEM4H4W']  NaN                                  NaN  \n",
       "6946              ['HCN8YFI8']  NaN                                  NaN  \n",
       "6947              ['HCN8YFI8']  NaN                                  NaN  \n",
       "6948  ['HCN8YFI8', 'DVEM4H4W']  NaN                                  NaN  \n",
       "6949  ['HCN8YFI8', 'DVEM4H4W']  NaN                                  NaN  \n",
       "\n",
       "[6950 rows x 14 columns]"
      ]
     },
     "execution_count": 72,
     "metadata": {},
     "output_type": "execute_result"
    }
   ],
   "source": [
    "df_doi = pd.read_csv('all_items.csv')\n",
    "if datetime.today().weekday() == 6:\n",
    "\n",
    "    df_doi = df_doi[['Zotero link', 'DOI']].dropna()\n",
    "    df_doi = df_doi.drop(df_doi[df_doi['DOI'] == ''].index)\n",
    "    df_doi = df_doi.reset_index(drop=True)\n",
    "    df_doi['DOI'] = df_doi['DOI'].str.replace('https://doi.org/', '')\n",
    "\n",
    "    def fetch_article_metadata(doi):\n",
    "        base_url = 'https://api.openalex.org/works/https://doi.org/'\n",
    "        response = requests.get(base_url + doi)\n",
    "        if response.status_code == 200:\n",
    "            data = response.json()\n",
    "            counts_by_year = data.get('counts_by_year', [])\n",
    "            if counts_by_year:\n",
    "                first_citation_year = min(entry.get('year') for entry in data['counts_by_year'])\n",
    "            else:\n",
    "                first_citation_year = None\n",
    "            if data.get('counts_by_year'):\n",
    "                last_citation_year = max(entry.get('year') for entry in data['counts_by_year'])\n",
    "            else:\n",
    "                last_citation_year = None\n",
    "    \n",
    "            article_metadata = {\n",
    "                'ID': data.get('id'),\n",
    "                'Citation': data.get('cited_by_count'),\n",
    "                'OA status': data.get('open_access', {}).get('is_oa'),\n",
    "                'Citation_list': data.get('cited_by_api_url'),\n",
    "                'First_citation_year': first_citation_year,\n",
    "                'Last_citation_year':last_citation_year,\n",
    "                'Publication_year':data.get('publication_year'),\n",
    "                'OA_link':data.get('open_access', {}).get('oa_url')\n",
    "            }\n",
    "            return article_metadata\n",
    "        else:\n",
    "            return {'ID': None, 'Citation': None, 'OA status': None, 'First_citation_year': None, 'Last_citation_year':None, 'Publication_year' : None, 'OA_link':None}\n",
    "    df_doi['ID'] = None\n",
    "    df_doi['Citation'] = None\n",
    "    df_doi['OA status'] = None\n",
    "    df_doi['Citation_list'] = None\n",
    "    df_doi['First_citation_year'] = None\n",
    "    df_doi['Last_citation_year']=None\n",
    "    df_doi['Publication_year'] = None\n",
    "    df_doi['OA_link'] = None\n",
    "\n",
    "    # Iterate over each row in the DataFrame\n",
    "    for index, row in df_doi.iterrows():\n",
    "        doi = row['DOI']\n",
    "        article_metadata = fetch_article_metadata(doi)\n",
    "        if article_metadata:\n",
    "            # Update DataFrame with fetched information\n",
    "            df_doi.at[index, 'ID'] = article_metadata['ID']\n",
    "            df_doi.at[index, 'Citation'] = article_metadata['Citation']\n",
    "            df_doi.at[index, 'OA status'] = article_metadata['OA status']\n",
    "            df_doi.at[index, 'First_citation_year'] = article_metadata['First_citation_year']\n",
    "            df_doi.at[index, 'Last_citation_year'] = article_metadata['Last_citation_year']\n",
    "            if 'Citation_list' in article_metadata:\n",
    "                df_doi.at[index, 'Citation_list'] = article_metadata['Citation_list']\n",
    "            else:\n",
    "                # Set to None if key is not found\n",
    "                df_doi.at[index, 'Citation_list'] = None\n",
    "            df_doi.at[index, 'Publication_year'] = article_metadata['Publication_year']\n",
    "            if 'OA_link' in article_metadata:\n",
    "                df_doi.at[index, 'OA_link'] = article_metadata['OA_link']\n",
    "            else:\n",
    "                # Set to None if key is not found\n",
    "                df_doi.at[index, 'OA_link'] = None\n",
    "\n",
    "    # Calculate the difference between First_citation_year and Publication_year\n",
    "    df_doi['Year_difference'] = df_doi['First_citation_year'] - df_doi['Publication_year']\n",
    "    df_doi.to_csv('citations.csv')\n",
    "else:\n",
    "    print('This part will be refreshed every Wednesday!')\n",
    "df_doi"
   ]
  },
  {
   "cell_type": "code",
   "execution_count": 73,
   "metadata": {},
   "outputs": [],
   "source": [
    "# ## Remove after the first successful retrieval 2024-02-18\n",
    "\n",
    "# df_doi = pd.read_csv('all_items.csv')\n",
    "# if datetime.today().weekday() == 3:\n",
    "\n",
    "#     df_doi = df_doi[['Zotero link', 'DOI']].dropna()\n",
    "#     df_doi = df_doi.drop(df_doi[df_doi['DOI'] == ''].index)\n",
    "#     df_doi = df_doi.reset_index(drop=True)\n",
    "#     df_doi['DOI'] = df_doi['DOI'].str.replace('https://doi.org/', '')\n",
    "\n",
    "#     def fetch_article_metadata(doi):\n",
    "#         base_url = 'https://api.openalex.org/works/https://doi.org/'\n",
    "#         response = requests.get(base_url + doi)\n",
    "#         if response.status_code == 200:\n",
    "#             data = response.json()\n",
    "#             counts_by_year = data.get('counts_by_year', [])\n",
    "#             if counts_by_year:\n",
    "#                 first_citation_year = min(entry.get('year') for entry in data['counts_by_year'])\n",
    "#             else:\n",
    "#                 first_citation_year = None\n",
    "#             article_metadata = {\n",
    "#                 'ID': data.get('id'),\n",
    "#                 'Citation': data.get('cited_by_count'),\n",
    "#                 'OA status': data.get('open_access', {}).get('is_oa'),\n",
    "#                 'Citation_list': data.get('cited_by_api_url'),\n",
    "#                 'First_citation_year': first_citation_year,\n",
    "#                 'Publication_year':data.get('publication_year')\n",
    "#             }\n",
    "#             return article_metadata\n",
    "#         else:\n",
    "#             return {'ID': None, 'Citation': None, 'OA status': None, 'First_citation_year': None, 'Publication_year' : None}\n",
    "#     df_doi['ID'] = None\n",
    "#     df_doi['Citation'] = None\n",
    "#     df_doi['OA status'] = None\n",
    "#     df_doi['Citation_list'] = None\n",
    "#     df_doi['First_citation_year'] = None\n",
    "#     df_doi['Publication_year'] = None\n",
    "\n",
    "#     # Iterate over each row in the DataFrame\n",
    "#     for index, row in df_doi.iterrows():\n",
    "#         doi = row['DOI']\n",
    "#         article_metadata = fetch_article_metadata(doi)\n",
    "#         if article_metadata:\n",
    "#             # Update DataFrame with fetched information\n",
    "#             df_doi.at[index, 'ID'] = article_metadata['ID']\n",
    "#             df_doi.at[index, 'Citation'] = article_metadata['Citation']\n",
    "#             df_doi.at[index, 'OA status'] = article_metadata['OA status']\n",
    "#             df_doi.at[index, 'First_citation_year'] = article_metadata['First_citation_year']\n",
    "#             if 'Citation_list' in article_metadata:\n",
    "#                 df_doi.at[index, 'Citation_list'] = article_metadata['Citation_list']\n",
    "#             else:\n",
    "#                 # Set to None if key is not found\n",
    "#                 df_doi.at[index, 'Citation_list'] = None\n",
    "#             df_doi.at[index, 'Publication_year'] = article_metadata['Publication_year']\n",
    "\n",
    "#     # Calculate the difference between First_citation_year and Publication_year\n",
    "#     df_doi['Year_difference'] = df_doi['First_citation_year'] - df_doi['Publication_year']\n",
    "#     df_doi.to_csv('citations.csv')\n",
    "# else:\n",
    "#     print('This part will be refreshed every Wednesday!')\n",
    "# df_doi"
   ]
  },
  {
   "cell_type": "code",
   "execution_count": 74,
   "metadata": {},
   "outputs": [],
   "source": [
    "# ## Retrieving citation and open access status without first ciation year\n",
    "# df_doi = pd.read_csv('all_items.csv')\n",
    "# # df_doi = df_doi.head(10)\n",
    "# if datetime.today().weekday() == 5:\n",
    "\n",
    "#     df_doi = df_doi[['Zotero link', 'DOI']].dropna()\n",
    "#     df_doi = df_doi.drop(df_doi[df_doi['DOI']==''].index)\n",
    "#     df_doi = df_doi.reset_index(drop=True)\n",
    "#     df_doi['DOI'] = df_doi['DOI'].str.replace('https://doi.org/', '')\n",
    "#     df_doi\n",
    "\n",
    "#     def fetch_article_metadata(doi):\n",
    "#         base_url = 'https://api.openalex.org/works/https://doi.org/'\n",
    "#         response = requests.get(base_url + doi)\n",
    "#         if response.status_code == 200:\n",
    "#             data = response.json()\n",
    "#             article_metadata = {\n",
    "#                 'ID': data.get('id'),\n",
    "#                 'Citation': data.get('cited_by_count'),\n",
    "#                 'OA status': data.get('open_access', {}).get('is_oa'),\n",
    "#                 'Citation_list':data.get('cited_by_api_url')\n",
    "#             }\n",
    "#             return article_metadata\n",
    "#         else:\n",
    "#             return {'ID': None, 'Citation': None, 'OA status': None}\n",
    "\n",
    "#     df_doi['ID'] = None\n",
    "#     df_doi['Citation'] = None\n",
    "#     df_doi['OA status'] = None\n",
    "#     df_doi['Citation_list'] = None\n",
    "\n",
    "#     # Iterate over each row in the DataFrame\n",
    "#     for index, row in df_doi.iterrows():\n",
    "#         doi = row['DOI']\n",
    "#         article_metadata = fetch_article_metadata(doi)\n",
    "#         if article_metadata:\n",
    "#             # Update DataFrame with fetched information\n",
    "#             df_doi.at[index, 'ID'] = article_metadata['ID']\n",
    "#             df_doi.at[index, 'Citation'] = article_metadata['Citation']\n",
    "#             df_doi.at[index, 'OA status'] = article_metadata['OA status']\n",
    "#             if 'Citation_list' in article_metadata:\n",
    "#                 df_doi.at[index, 'Citation_list'] = article_metadata['Citation_list']\n",
    "#             else:\n",
    "#                 # Set to None if key is not found\n",
    "#                 df_doi.at[index, 'Citation_list'] = None\n",
    "#     df_doi\n",
    "#     df_doi.to_csv('citations.csv')\n",
    "# else:\n",
    "#     print('This part will be refreshed every Wednesday!')"
   ]
  },
  {
   "cell_type": "code",
   "execution_count": 75,
   "metadata": {},
   "outputs": [
    {
     "data": {
      "text/html": [
       "<div>\n",
       "<style scoped>\n",
       "    .dataframe tbody tr th:only-of-type {\n",
       "        vertical-align: middle;\n",
       "    }\n",
       "\n",
       "    .dataframe tbody tr th {\n",
       "        vertical-align: top;\n",
       "    }\n",
       "\n",
       "    .dataframe thead th {\n",
       "        text-align: right;\n",
       "    }\n",
       "</style>\n",
       "<table border=\"1\" class=\"dataframe\">\n",
       "  <thead>\n",
       "    <tr style=\"text-align: right;\">\n",
       "      <th></th>\n",
       "      <th>Unnamed: 0</th>\n",
       "      <th>Title</th>\n",
       "      <th>Publication type</th>\n",
       "      <th>Link to publication</th>\n",
       "      <th>Abstract</th>\n",
       "      <th>Zotero link</th>\n",
       "      <th>Date published</th>\n",
       "      <th>FirstName2</th>\n",
       "      <th>Publisher</th>\n",
       "      <th>Journal</th>\n",
       "      <th>Date added</th>\n",
       "      <th>Col key</th>\n",
       "      <th>DOI</th>\n",
       "      <th>Book_title</th>\n",
       "    </tr>\n",
       "  </thead>\n",
       "  <tbody>\n",
       "    <tr>\n",
       "      <th>0</th>\n",
       "      <td>0</td>\n",
       "      <td>THE ACTIVITY OF THE MILITARY INTELLIGENCE DIRE...</td>\n",
       "      <td>Journal article</td>\n",
       "      <td>https://www.ceeol.com/search/article-detail?id...</td>\n",
       "      <td>In 2014, the General Staff and the Military In...</td>\n",
       "      <td>https://www.zotero.org/groups/intelligence_bib...</td>\n",
       "      <td>2014</td>\n",
       "      <td>Cristian Iulian Dincovici</td>\n",
       "      <td>NaN</td>\n",
       "      <td>Romanian Military Thinking</td>\n",
       "      <td>2024-06-29T12:17:56Z</td>\n",
       "      <td>['AZ3BZ9BR']</td>\n",
       "      <td>NaN</td>\n",
       "      <td>NaN</td>\n",
       "    </tr>\n",
       "    <tr>\n",
       "      <th>1</th>\n",
       "      <td>1</td>\n",
       "      <td>THE RISE OF OPEN-SOURCE INTELLIGENCE IN THE RU...</td>\n",
       "      <td>Conference paper</td>\n",
       "      <td>https://www.ceeol.com/search/chapter-detail?id...</td>\n",
       "      <td>Open-source intelligence (OSINT) benefited sig...</td>\n",
       "      <td>https://www.zotero.org/groups/intelligence_bib...</td>\n",
       "      <td>2023</td>\n",
       "      <td>Gabriel Popescu, Sorin Carpen</td>\n",
       "      <td>Carol I National Defence University Publishing...</td>\n",
       "      <td>NaN</td>\n",
       "      <td>2024-06-29T12:15:18Z</td>\n",
       "      <td>['LXMU5UXP', 'Y959U28A']</td>\n",
       "      <td>NaN</td>\n",
       "      <td>NaN</td>\n",
       "    </tr>\n",
       "    <tr>\n",
       "      <th>2</th>\n",
       "      <td>2</td>\n",
       "      <td>Our People’s War: Home Intelligence Reports an...</td>\n",
       "      <td>Book</td>\n",
       "      <td>https://www.bloomsbury.com/uk/our-peoples-war-...</td>\n",
       "      <td>What was the mood of the British people during...</td>\n",
       "      <td>https://www.zotero.org/groups/intelligence_bib...</td>\n",
       "      <td>2024-10-17</td>\n",
       "      <td>Jeremy A. Crang</td>\n",
       "      <td>Bloomsbury</td>\n",
       "      <td>NaN</td>\n",
       "      <td>2024-06-29T12:12:42Z</td>\n",
       "      <td>['SCCGXHMZ']</td>\n",
       "      <td>NaN</td>\n",
       "      <td>NaN</td>\n",
       "    </tr>\n",
       "    <tr>\n",
       "      <th>3</th>\n",
       "      <td>3</td>\n",
       "      <td>The Open Conversation on African Intelligence</td>\n",
       "      <td>Book chapter</td>\n",
       "      <td>NaN</td>\n",
       "      <td>This chapter advances several conclusive remar...</td>\n",
       "      <td>https://www.zotero.org/groups/intelligence_bib...</td>\n",
       "      <td>2024-08-08</td>\n",
       "      <td>Tshepo Gwatiwa</td>\n",
       "      <td>Routledge</td>\n",
       "      <td>NaN</td>\n",
       "      <td>2024-06-29T12:10:57Z</td>\n",
       "      <td>['AZ3BZ9BR']</td>\n",
       "      <td>NaN</td>\n",
       "      <td>Contemporary Intelligence in Africa</td>\n",
       "    </tr>\n",
       "    <tr>\n",
       "      <th>4</th>\n",
       "      <td>4</td>\n",
       "      <td>Intelligence in Wildlife Protected Areas in Su...</td>\n",
       "      <td>Book chapter</td>\n",
       "      <td>NaN</td>\n",
       "      <td>Approximately 17% of land and 7% of marine are...</td>\n",
       "      <td>https://www.zotero.org/groups/intelligence_bib...</td>\n",
       "      <td>2024-08-08</td>\n",
       "      <td>Katherine C. Snow</td>\n",
       "      <td>Routledge</td>\n",
       "      <td>NaN</td>\n",
       "      <td>2024-06-29T12:10:24Z</td>\n",
       "      <td>['AZ3BZ9BR']</td>\n",
       "      <td>NaN</td>\n",
       "      <td>Contemporary Intelligence in Africa</td>\n",
       "    </tr>\n",
       "    <tr>\n",
       "      <th>...</th>\n",
       "      <td>...</td>\n",
       "      <td>...</td>\n",
       "      <td>...</td>\n",
       "      <td>...</td>\n",
       "      <td>...</td>\n",
       "      <td>...</td>\n",
       "      <td>...</td>\n",
       "      <td>...</td>\n",
       "      <td>...</td>\n",
       "      <td>...</td>\n",
       "      <td>...</td>\n",
       "      <td>...</td>\n",
       "      <td>...</td>\n",
       "      <td>...</td>\n",
       "    </tr>\n",
       "    <tr>\n",
       "      <th>6945</th>\n",
       "      <td>6945</td>\n",
       "      <td>The Uses and Limits of Intelligence</td>\n",
       "      <td>Book</td>\n",
       "      <td>https://doi.org/10.4324/9781351302128</td>\n",
       "      <td>NaN</td>\n",
       "      <td>https://www.zotero.org/groups/intelligence_bib...</td>\n",
       "      <td>2017</td>\n",
       "      <td>Walter Laqueur</td>\n",
       "      <td>Routledge</td>\n",
       "      <td>NaN</td>\n",
       "      <td>2020-06-05T10:17:21Z</td>\n",
       "      <td>['HCN8YFI8', 'DVEM4H4W']</td>\n",
       "      <td>NaN</td>\n",
       "      <td>NaN</td>\n",
       "    </tr>\n",
       "    <tr>\n",
       "      <th>6946</th>\n",
       "      <td>6946</td>\n",
       "      <td>Analyzing Intelligence: Origins, Obstacles, an...</td>\n",
       "      <td>Book</td>\n",
       "      <td>NaN</td>\n",
       "      <td>NaN</td>\n",
       "      <td>https://www.zotero.org/groups/intelligence_bib...</td>\n",
       "      <td>2008</td>\n",
       "      <td>Roger Z. George, James B. Bruce</td>\n",
       "      <td>Georgetown University Press</td>\n",
       "      <td>NaN</td>\n",
       "      <td>2020-06-05T10:17:21Z</td>\n",
       "      <td>['HCN8YFI8']</td>\n",
       "      <td>NaN</td>\n",
       "      <td>NaN</td>\n",
       "    </tr>\n",
       "    <tr>\n",
       "      <th>6947</th>\n",
       "      <td>6947</td>\n",
       "      <td>Intelligence Services in the Information Age</td>\n",
       "      <td>Book</td>\n",
       "      <td>https://doi.org/10.4324/9780203479667</td>\n",
       "      <td>NaN</td>\n",
       "      <td>https://www.zotero.org/groups/intelligence_bib...</td>\n",
       "      <td>2013</td>\n",
       "      <td>Michael Herman</td>\n",
       "      <td>Routledge</td>\n",
       "      <td>NaN</td>\n",
       "      <td>2020-06-05T10:17:21Z</td>\n",
       "      <td>['HCN8YFI8']</td>\n",
       "      <td>NaN</td>\n",
       "      <td>NaN</td>\n",
       "    </tr>\n",
       "    <tr>\n",
       "      <th>6948</th>\n",
       "      <td>6948</td>\n",
       "      <td>Intelligence and Government in Britain and the...</td>\n",
       "      <td>Book</td>\n",
       "      <td>NaN</td>\n",
       "      <td>NaN</td>\n",
       "      <td>https://www.zotero.org/groups/intelligence_bib...</td>\n",
       "      <td>2012</td>\n",
       "      <td>Philip H.J. Davies</td>\n",
       "      <td>Praeger</td>\n",
       "      <td>NaN</td>\n",
       "      <td>2020-06-05T10:17:21Z</td>\n",
       "      <td>['HCN8YFI8', 'DVEM4H4W']</td>\n",
       "      <td>NaN</td>\n",
       "      <td>NaN</td>\n",
       "    </tr>\n",
       "    <tr>\n",
       "      <th>6949</th>\n",
       "      <td>6949</td>\n",
       "      <td>Intelligence and Government in Britain and the...</td>\n",
       "      <td>Book</td>\n",
       "      <td>NaN</td>\n",
       "      <td>NaN</td>\n",
       "      <td>https://www.zotero.org/groups/intelligence_bib...</td>\n",
       "      <td>2012</td>\n",
       "      <td>Philip H.J. Davies</td>\n",
       "      <td>Praeger</td>\n",
       "      <td>NaN</td>\n",
       "      <td>2020-06-05T10:17:21Z</td>\n",
       "      <td>['HCN8YFI8', 'DVEM4H4W']</td>\n",
       "      <td>NaN</td>\n",
       "      <td>NaN</td>\n",
       "    </tr>\n",
       "  </tbody>\n",
       "</table>\n",
       "<p>6950 rows × 14 columns</p>\n",
       "</div>"
      ],
      "text/plain": [
       "      Unnamed: 0                                              Title  \\\n",
       "0              0  THE ACTIVITY OF THE MILITARY INTELLIGENCE DIRE...   \n",
       "1              1  THE RISE OF OPEN-SOURCE INTELLIGENCE IN THE RU...   \n",
       "2              2  Our People’s War: Home Intelligence Reports an...   \n",
       "3              3      The Open Conversation on African Intelligence   \n",
       "4              4  Intelligence in Wildlife Protected Areas in Su...   \n",
       "...          ...                                                ...   \n",
       "6945        6945                The Uses and Limits of Intelligence   \n",
       "6946        6946  Analyzing Intelligence: Origins, Obstacles, an...   \n",
       "6947        6947       Intelligence Services in the Information Age   \n",
       "6948        6948  Intelligence and Government in Britain and the...   \n",
       "6949        6949  Intelligence and Government in Britain and the...   \n",
       "\n",
       "      Publication type                                Link to publication  \\\n",
       "0      Journal article  https://www.ceeol.com/search/article-detail?id...   \n",
       "1     Conference paper  https://www.ceeol.com/search/chapter-detail?id...   \n",
       "2                 Book  https://www.bloomsbury.com/uk/our-peoples-war-...   \n",
       "3         Book chapter                                                NaN   \n",
       "4         Book chapter                                                NaN   \n",
       "...                ...                                                ...   \n",
       "6945              Book              https://doi.org/10.4324/9781351302128   \n",
       "6946              Book                                                NaN   \n",
       "6947              Book              https://doi.org/10.4324/9780203479667   \n",
       "6948              Book                                                NaN   \n",
       "6949              Book                                                NaN   \n",
       "\n",
       "                                               Abstract  \\\n",
       "0     In 2014, the General Staff and the Military In...   \n",
       "1     Open-source intelligence (OSINT) benefited sig...   \n",
       "2     What was the mood of the British people during...   \n",
       "3     This chapter advances several conclusive remar...   \n",
       "4     Approximately 17% of land and 7% of marine are...   \n",
       "...                                                 ...   \n",
       "6945                                                NaN   \n",
       "6946                                                NaN   \n",
       "6947                                                NaN   \n",
       "6948                                                NaN   \n",
       "6949                                                NaN   \n",
       "\n",
       "                                            Zotero link Date published  \\\n",
       "0     https://www.zotero.org/groups/intelligence_bib...           2014   \n",
       "1     https://www.zotero.org/groups/intelligence_bib...           2023   \n",
       "2     https://www.zotero.org/groups/intelligence_bib...     2024-10-17   \n",
       "3     https://www.zotero.org/groups/intelligence_bib...     2024-08-08   \n",
       "4     https://www.zotero.org/groups/intelligence_bib...     2024-08-08   \n",
       "...                                                 ...            ...   \n",
       "6945  https://www.zotero.org/groups/intelligence_bib...           2017   \n",
       "6946  https://www.zotero.org/groups/intelligence_bib...           2008   \n",
       "6947  https://www.zotero.org/groups/intelligence_bib...           2013   \n",
       "6948  https://www.zotero.org/groups/intelligence_bib...           2012   \n",
       "6949  https://www.zotero.org/groups/intelligence_bib...           2012   \n",
       "\n",
       "                           FirstName2  \\\n",
       "0           Cristian Iulian Dincovici   \n",
       "1       Gabriel Popescu, Sorin Carpen   \n",
       "2                     Jeremy A. Crang   \n",
       "3                      Tshepo Gwatiwa   \n",
       "4                   Katherine C. Snow   \n",
       "...                               ...   \n",
       "6945                   Walter Laqueur   \n",
       "6946  Roger Z. George, James B. Bruce   \n",
       "6947                   Michael Herman   \n",
       "6948               Philip H.J. Davies   \n",
       "6949               Philip H.J. Davies   \n",
       "\n",
       "                                              Publisher  \\\n",
       "0                                                   NaN   \n",
       "1     Carol I National Defence University Publishing...   \n",
       "2                                            Bloomsbury   \n",
       "3                                             Routledge   \n",
       "4                                             Routledge   \n",
       "...                                                 ...   \n",
       "6945                                          Routledge   \n",
       "6946                        Georgetown University Press   \n",
       "6947                                          Routledge   \n",
       "6948                                            Praeger   \n",
       "6949                                            Praeger   \n",
       "\n",
       "                         Journal            Date added  \\\n",
       "0     Romanian Military Thinking  2024-06-29T12:17:56Z   \n",
       "1                            NaN  2024-06-29T12:15:18Z   \n",
       "2                            NaN  2024-06-29T12:12:42Z   \n",
       "3                            NaN  2024-06-29T12:10:57Z   \n",
       "4                            NaN  2024-06-29T12:10:24Z   \n",
       "...                          ...                   ...   \n",
       "6945                         NaN  2020-06-05T10:17:21Z   \n",
       "6946                         NaN  2020-06-05T10:17:21Z   \n",
       "6947                         NaN  2020-06-05T10:17:21Z   \n",
       "6948                         NaN  2020-06-05T10:17:21Z   \n",
       "6949                         NaN  2020-06-05T10:17:21Z   \n",
       "\n",
       "                       Col key  DOI                           Book_title  \n",
       "0                 ['AZ3BZ9BR']  NaN                                  NaN  \n",
       "1     ['LXMU5UXP', 'Y959U28A']  NaN                                  NaN  \n",
       "2                 ['SCCGXHMZ']  NaN                                  NaN  \n",
       "3                 ['AZ3BZ9BR']  NaN  Contemporary Intelligence in Africa  \n",
       "4                 ['AZ3BZ9BR']  NaN  Contemporary Intelligence in Africa  \n",
       "...                        ...  ...                                  ...  \n",
       "6945  ['HCN8YFI8', 'DVEM4H4W']  NaN                                  NaN  \n",
       "6946              ['HCN8YFI8']  NaN                                  NaN  \n",
       "6947              ['HCN8YFI8']  NaN                                  NaN  \n",
       "6948  ['HCN8YFI8', 'DVEM4H4W']  NaN                                  NaN  \n",
       "6949  ['HCN8YFI8', 'DVEM4H4W']  NaN                                  NaN  \n",
       "\n",
       "[6950 rows x 14 columns]"
      ]
     },
     "execution_count": 75,
     "metadata": {},
     "output_type": "execute_result"
    }
   ],
   "source": [
    "df_doi"
   ]
  },
  {
   "cell_type": "code",
   "execution_count": 76,
   "metadata": {},
   "outputs": [
    {
     "data": {
      "text/html": [
       "<div>\n",
       "<style scoped>\n",
       "    .dataframe tbody tr th:only-of-type {\n",
       "        vertical-align: middle;\n",
       "    }\n",
       "\n",
       "    .dataframe tbody tr th {\n",
       "        vertical-align: top;\n",
       "    }\n",
       "\n",
       "    .dataframe thead th {\n",
       "        text-align: right;\n",
       "    }\n",
       "</style>\n",
       "<table border=\"1\" class=\"dataframe\">\n",
       "  <thead>\n",
       "    <tr style=\"text-align: right;\">\n",
       "      <th></th>\n",
       "      <th>Zotero link</th>\n",
       "      <th>DOI</th>\n",
       "      <th>ID</th>\n",
       "      <th>Citation</th>\n",
       "      <th>OA status</th>\n",
       "      <th>Citation_list</th>\n",
       "      <th>First_citation_year</th>\n",
       "      <th>Last_citation_year</th>\n",
       "      <th>Publication_year</th>\n",
       "      <th>OA_link</th>\n",
       "      <th>Year_difference</th>\n",
       "    </tr>\n",
       "  </thead>\n",
       "  <tbody>\n",
       "    <tr>\n",
       "      <th>0</th>\n",
       "      <td>https://www.zotero.org/groups/intelligence_bib...</td>\n",
       "      <td>10.1080/18335330.2024.2367500</td>\n",
       "      <td>https://openalex.org/W4399750706</td>\n",
       "      <td>0.0</td>\n",
       "      <td>False</td>\n",
       "      <td>https://api.openalex.org/works?filter=cites:W4...</td>\n",
       "      <td>NaN</td>\n",
       "      <td>NaN</td>\n",
       "      <td>2024.0</td>\n",
       "      <td>NaN</td>\n",
       "      <td>NaN</td>\n",
       "    </tr>\n",
       "    <tr>\n",
       "      <th>1</th>\n",
       "      <td>https://www.zotero.org/groups/intelligence_bib...</td>\n",
       "      <td>10.1093/ejil/chn055</td>\n",
       "      <td>https://openalex.org/W2096291625</td>\n",
       "      <td>36.0</td>\n",
       "      <td>True</td>\n",
       "      <td>https://api.openalex.org/works?filter=cites:W2...</td>\n",
       "      <td>2012.0</td>\n",
       "      <td>2023.0</td>\n",
       "      <td>2008.0</td>\n",
       "      <td>https://academic.oup.com/ejil/article-pdf/19/5...</td>\n",
       "      <td>4.0</td>\n",
       "    </tr>\n",
       "    <tr>\n",
       "      <th>2</th>\n",
       "      <td>https://www.zotero.org/groups/intelligence_bib...</td>\n",
       "      <td>10.34190/eccws.23.1.2231</td>\n",
       "      <td>https://openalex.org/W4399920757</td>\n",
       "      <td>0.0</td>\n",
       "      <td>True</td>\n",
       "      <td>https://api.openalex.org/works?filter=cites:W4...</td>\n",
       "      <td>NaN</td>\n",
       "      <td>NaN</td>\n",
       "      <td>2024.0</td>\n",
       "      <td>https://papers.academic-conferences.org/index....</td>\n",
       "      <td>NaN</td>\n",
       "    </tr>\n",
       "    <tr>\n",
       "      <th>3</th>\n",
       "      <td>https://www.zotero.org/groups/intelligence_bib...</td>\n",
       "      <td>10.1080/14702436.2024.2303084</td>\n",
       "      <td>https://openalex.org/W4396846861</td>\n",
       "      <td>0.0</td>\n",
       "      <td>True</td>\n",
       "      <td>https://api.openalex.org/works?filter=cites:W4...</td>\n",
       "      <td>NaN</td>\n",
       "      <td>NaN</td>\n",
       "      <td>2024.0</td>\n",
       "      <td>https://www.tandfonline.com/doi/pdf/10.1080/14...</td>\n",
       "      <td>NaN</td>\n",
       "    </tr>\n",
       "    <tr>\n",
       "      <th>4</th>\n",
       "      <td>https://www.zotero.org/groups/intelligence_bib...</td>\n",
       "      <td>10.1080/08850607.2024.2358802</td>\n",
       "      <td>https://openalex.org/W4399734510</td>\n",
       "      <td>0.0</td>\n",
       "      <td>True</td>\n",
       "      <td>https://api.openalex.org/works?filter=cites:W4...</td>\n",
       "      <td>NaN</td>\n",
       "      <td>NaN</td>\n",
       "      <td>2024.0</td>\n",
       "      <td>https://www.tandfonline.com/doi/pdf/10.1080/08...</td>\n",
       "      <td>NaN</td>\n",
       "    </tr>\n",
       "    <tr>\n",
       "      <th>...</th>\n",
       "      <td>...</td>\n",
       "      <td>...</td>\n",
       "      <td>...</td>\n",
       "      <td>...</td>\n",
       "      <td>...</td>\n",
       "      <td>...</td>\n",
       "      <td>...</td>\n",
       "      <td>...</td>\n",
       "      <td>...</td>\n",
       "      <td>...</td>\n",
       "      <td>...</td>\n",
       "    </tr>\n",
       "    <tr>\n",
       "      <th>3610</th>\n",
       "      <td>https://www.zotero.org/groups/intelligence_bib...</td>\n",
       "      <td>10.1177/1755088217712069</td>\n",
       "      <td>https://openalex.org/W2612406272</td>\n",
       "      <td>6.0</td>\n",
       "      <td>True</td>\n",
       "      <td>https://api.openalex.org/works?filter=cites:W2...</td>\n",
       "      <td>2019.0</td>\n",
       "      <td>2024.0</td>\n",
       "      <td>2017.0</td>\n",
       "      <td>https://journals.sagepub.com/doi/pdf/10.1177/1...</td>\n",
       "      <td>2.0</td>\n",
       "    </tr>\n",
       "    <tr>\n",
       "      <th>3611</th>\n",
       "      <td>https://www.zotero.org/groups/intelligence_bib...</td>\n",
       "      <td>10.1080/08850607.2019.1660951</td>\n",
       "      <td>https://openalex.org/W2996219269</td>\n",
       "      <td>5.0</td>\n",
       "      <td>False</td>\n",
       "      <td>https://api.openalex.org/works?filter=cites:W2...</td>\n",
       "      <td>2021.0</td>\n",
       "      <td>2023.0</td>\n",
       "      <td>2019.0</td>\n",
       "      <td>NaN</td>\n",
       "      <td>2.0</td>\n",
       "    </tr>\n",
       "    <tr>\n",
       "      <th>3612</th>\n",
       "      <td>https://www.zotero.org/groups/intelligence_bib...</td>\n",
       "      <td>10.1080/08850607.2012.705186</td>\n",
       "      <td>https://openalex.org/W2033999438</td>\n",
       "      <td>26.0</td>\n",
       "      <td>False</td>\n",
       "      <td>https://api.openalex.org/works?filter=cites:W2...</td>\n",
       "      <td>2013.0</td>\n",
       "      <td>2022.0</td>\n",
       "      <td>2013.0</td>\n",
       "      <td>NaN</td>\n",
       "      <td>0.0</td>\n",
       "    </tr>\n",
       "    <tr>\n",
       "      <th>3613</th>\n",
       "      <td>https://www.zotero.org/groups/intelligence_bib...</td>\n",
       "      <td>10.1080/08850607.2020.1748993</td>\n",
       "      <td>https://openalex.org/W3022421216</td>\n",
       "      <td>1.0</td>\n",
       "      <td>False</td>\n",
       "      <td>https://api.openalex.org/works?filter=cites:W3...</td>\n",
       "      <td>2024.0</td>\n",
       "      <td>2024.0</td>\n",
       "      <td>2020.0</td>\n",
       "      <td>NaN</td>\n",
       "      <td>4.0</td>\n",
       "    </tr>\n",
       "    <tr>\n",
       "      <th>3614</th>\n",
       "      <td>https://www.zotero.org/groups/intelligence_bib...</td>\n",
       "      <td>10.1080/0268452042000302949</td>\n",
       "      <td>https://openalex.org/W2069639133</td>\n",
       "      <td>64.0</td>\n",
       "      <td>False</td>\n",
       "      <td>https://api.openalex.org/works?filter=cites:W2...</td>\n",
       "      <td>2012.0</td>\n",
       "      <td>2024.0</td>\n",
       "      <td>2004.0</td>\n",
       "      <td>NaN</td>\n",
       "      <td>8.0</td>\n",
       "    </tr>\n",
       "  </tbody>\n",
       "</table>\n",
       "<p>3615 rows × 11 columns</p>\n",
       "</div>"
      ],
      "text/plain": [
       "                                            Zotero link  \\\n",
       "0     https://www.zotero.org/groups/intelligence_bib...   \n",
       "1     https://www.zotero.org/groups/intelligence_bib...   \n",
       "2     https://www.zotero.org/groups/intelligence_bib...   \n",
       "3     https://www.zotero.org/groups/intelligence_bib...   \n",
       "4     https://www.zotero.org/groups/intelligence_bib...   \n",
       "...                                                 ...   \n",
       "3610  https://www.zotero.org/groups/intelligence_bib...   \n",
       "3611  https://www.zotero.org/groups/intelligence_bib...   \n",
       "3612  https://www.zotero.org/groups/intelligence_bib...   \n",
       "3613  https://www.zotero.org/groups/intelligence_bib...   \n",
       "3614  https://www.zotero.org/groups/intelligence_bib...   \n",
       "\n",
       "                                DOI                                ID  \\\n",
       "0     10.1080/18335330.2024.2367500  https://openalex.org/W4399750706   \n",
       "1               10.1093/ejil/chn055  https://openalex.org/W2096291625   \n",
       "2          10.34190/eccws.23.1.2231  https://openalex.org/W4399920757   \n",
       "3     10.1080/14702436.2024.2303084  https://openalex.org/W4396846861   \n",
       "4     10.1080/08850607.2024.2358802  https://openalex.org/W4399734510   \n",
       "...                             ...                               ...   \n",
       "3610       10.1177/1755088217712069  https://openalex.org/W2612406272   \n",
       "3611  10.1080/08850607.2019.1660951  https://openalex.org/W2996219269   \n",
       "3612   10.1080/08850607.2012.705186  https://openalex.org/W2033999438   \n",
       "3613  10.1080/08850607.2020.1748993  https://openalex.org/W3022421216   \n",
       "3614    10.1080/0268452042000302949  https://openalex.org/W2069639133   \n",
       "\n",
       "      Citation OA status                                      Citation_list  \\\n",
       "0          0.0     False  https://api.openalex.org/works?filter=cites:W4...   \n",
       "1         36.0      True  https://api.openalex.org/works?filter=cites:W2...   \n",
       "2          0.0      True  https://api.openalex.org/works?filter=cites:W4...   \n",
       "3          0.0      True  https://api.openalex.org/works?filter=cites:W4...   \n",
       "4          0.0      True  https://api.openalex.org/works?filter=cites:W4...   \n",
       "...        ...       ...                                                ...   \n",
       "3610       6.0      True  https://api.openalex.org/works?filter=cites:W2...   \n",
       "3611       5.0     False  https://api.openalex.org/works?filter=cites:W2...   \n",
       "3612      26.0     False  https://api.openalex.org/works?filter=cites:W2...   \n",
       "3613       1.0     False  https://api.openalex.org/works?filter=cites:W3...   \n",
       "3614      64.0     False  https://api.openalex.org/works?filter=cites:W2...   \n",
       "\n",
       "      First_citation_year  Last_citation_year  Publication_year  \\\n",
       "0                     NaN                 NaN            2024.0   \n",
       "1                  2012.0              2023.0            2008.0   \n",
       "2                     NaN                 NaN            2024.0   \n",
       "3                     NaN                 NaN            2024.0   \n",
       "4                     NaN                 NaN            2024.0   \n",
       "...                   ...                 ...               ...   \n",
       "3610               2019.0              2024.0            2017.0   \n",
       "3611               2021.0              2023.0            2019.0   \n",
       "3612               2013.0              2022.0            2013.0   \n",
       "3613               2024.0              2024.0            2020.0   \n",
       "3614               2012.0              2024.0            2004.0   \n",
       "\n",
       "                                                OA_link  Year_difference  \n",
       "0                                                   NaN              NaN  \n",
       "1     https://academic.oup.com/ejil/article-pdf/19/5...              4.0  \n",
       "2     https://papers.academic-conferences.org/index....              NaN  \n",
       "3     https://www.tandfonline.com/doi/pdf/10.1080/14...              NaN  \n",
       "4     https://www.tandfonline.com/doi/pdf/10.1080/08...              NaN  \n",
       "...                                                 ...              ...  \n",
       "3610  https://journals.sagepub.com/doi/pdf/10.1177/1...              2.0  \n",
       "3611                                                NaN              2.0  \n",
       "3612                                                NaN              0.0  \n",
       "3613                                                NaN              4.0  \n",
       "3614                                                NaN              8.0  \n",
       "\n",
       "[3615 rows x 11 columns]"
      ]
     },
     "execution_count": 76,
     "metadata": {},
     "output_type": "execute_result"
    }
   ],
   "source": [
    "df_doi_2 = pd.read_csv('citations.csv', usecols=lambda column: column != 'Unnamed: 0')\n",
    "df_doi_2"
   ]
  },
  {
   "cell_type": "code",
   "execution_count": 77,
   "metadata": {},
   "outputs": [],
   "source": [
    "df_1 = pd.read_csv('all_items.csv', usecols=lambda column: column != 'Unnamed: 0')\n",
    "df_doi_1 = pd.read_csv('citations.csv', usecols=lambda column: column != 'Unnamed: 0')\n",
    "df_doi_1 = df_doi_1.drop(columns=['DOI'])\n",
    "df_1 = pd.merge(df_1, df_doi_1, on='Zotero link', how='left')\n",
    "df_1.to_csv('all_items.csv')"
   ]
  },
  {
   "cell_type": "code",
   "execution_count": 78,
   "metadata": {},
   "outputs": [],
   "source": [
    "df_2 = pd.read_csv('all_items_duplicated.csv', usecols=lambda column: column != 'Unnamed: 0')\n",
    "df_doi_2 = pd.read_csv('citations.csv', usecols=lambda column: column != 'Unnamed: 0')\n",
    "df_doi_2 = df_doi_2.drop(columns=['DOI'])\n",
    "df_2 = pd.merge(df_2, df_doi_2, on='Zotero link', how='left')\n",
    "df_2.to_csv('all_items_duplicated.csv')"
   ]
  },
  {
   "cell_type": "code",
   "execution_count": 79,
   "metadata": {},
   "outputs": [
    {
     "data": {
      "text/html": [
       "<div>\n",
       "<style scoped>\n",
       "    .dataframe tbody tr th:only-of-type {\n",
       "        vertical-align: middle;\n",
       "    }\n",
       "\n",
       "    .dataframe tbody tr th {\n",
       "        vertical-align: top;\n",
       "    }\n",
       "\n",
       "    .dataframe thead th {\n",
       "        text-align: right;\n",
       "    }\n",
       "</style>\n",
       "<table border=\"1\" class=\"dataframe\">\n",
       "  <thead>\n",
       "    <tr style=\"text-align: right;\">\n",
       "      <th></th>\n",
       "      <th>Unnamed: 0</th>\n",
       "      <th>Title</th>\n",
       "      <th>Publication type</th>\n",
       "      <th>Link to publication</th>\n",
       "      <th>Abstract</th>\n",
       "      <th>Zotero link</th>\n",
       "      <th>Date published</th>\n",
       "      <th>FirstName2</th>\n",
       "      <th>Publisher</th>\n",
       "      <th>Journal</th>\n",
       "      <th>...</th>\n",
       "      <th>Collection_Link</th>\n",
       "      <th>ID</th>\n",
       "      <th>Citation</th>\n",
       "      <th>OA status</th>\n",
       "      <th>Citation_list</th>\n",
       "      <th>First_citation_year</th>\n",
       "      <th>Last_citation_year</th>\n",
       "      <th>Publication_year</th>\n",
       "      <th>OA_link</th>\n",
       "      <th>Year_difference</th>\n",
       "    </tr>\n",
       "  </thead>\n",
       "  <tbody>\n",
       "    <tr>\n",
       "      <th>0</th>\n",
       "      <td>0</td>\n",
       "      <td>THE ACTIVITY OF THE MILITARY INTELLIGENCE DIRE...</td>\n",
       "      <td>Journal article</td>\n",
       "      <td>https://www.ceeol.com/search/article-detail?id...</td>\n",
       "      <td>In 2014, the General Staff and the Military In...</td>\n",
       "      <td>https://www.zotero.org/groups/intelligence_bib...</td>\n",
       "      <td>2014</td>\n",
       "      <td>Cristian Iulian Dincovici</td>\n",
       "      <td>NaN</td>\n",
       "      <td>Romanian Military Thinking</td>\n",
       "      <td>...</td>\n",
       "      <td>https://www.zotero.org/groups/intelligence_bib...</td>\n",
       "      <td>NaN</td>\n",
       "      <td>NaN</td>\n",
       "      <td>NaN</td>\n",
       "      <td>NaN</td>\n",
       "      <td>NaN</td>\n",
       "      <td>NaN</td>\n",
       "      <td>NaN</td>\n",
       "      <td>NaN</td>\n",
       "      <td>NaN</td>\n",
       "    </tr>\n",
       "    <tr>\n",
       "      <th>1</th>\n",
       "      <td>1</td>\n",
       "      <td>THE RISE OF OPEN-SOURCE INTELLIGENCE IN THE RU...</td>\n",
       "      <td>Conference paper</td>\n",
       "      <td>https://www.ceeol.com/search/chapter-detail?id...</td>\n",
       "      <td>Open-source intelligence (OSINT) benefited sig...</td>\n",
       "      <td>https://www.zotero.org/groups/intelligence_bib...</td>\n",
       "      <td>2023</td>\n",
       "      <td>Gabriel Popescu, Sorin Carpen</td>\n",
       "      <td>Carol I National Defence University Publishing...</td>\n",
       "      <td>NaN</td>\n",
       "      <td>...</td>\n",
       "      <td>https://www.zotero.org/groups/intelligence_bib...</td>\n",
       "      <td>NaN</td>\n",
       "      <td>NaN</td>\n",
       "      <td>NaN</td>\n",
       "      <td>NaN</td>\n",
       "      <td>NaN</td>\n",
       "      <td>NaN</td>\n",
       "      <td>NaN</td>\n",
       "      <td>NaN</td>\n",
       "      <td>NaN</td>\n",
       "    </tr>\n",
       "    <tr>\n",
       "      <th>2</th>\n",
       "      <td>2</td>\n",
       "      <td>THE RISE OF OPEN-SOURCE INTELLIGENCE IN THE RU...</td>\n",
       "      <td>Conference paper</td>\n",
       "      <td>https://www.ceeol.com/search/chapter-detail?id...</td>\n",
       "      <td>Open-source intelligence (OSINT) benefited sig...</td>\n",
       "      <td>https://www.zotero.org/groups/intelligence_bib...</td>\n",
       "      <td>2023</td>\n",
       "      <td>Gabriel Popescu, Sorin Carpen</td>\n",
       "      <td>Carol I National Defence University Publishing...</td>\n",
       "      <td>NaN</td>\n",
       "      <td>...</td>\n",
       "      <td>https://www.zotero.org/groups/intelligence_bib...</td>\n",
       "      <td>NaN</td>\n",
       "      <td>NaN</td>\n",
       "      <td>NaN</td>\n",
       "      <td>NaN</td>\n",
       "      <td>NaN</td>\n",
       "      <td>NaN</td>\n",
       "      <td>NaN</td>\n",
       "      <td>NaN</td>\n",
       "      <td>NaN</td>\n",
       "    </tr>\n",
       "    <tr>\n",
       "      <th>3</th>\n",
       "      <td>3</td>\n",
       "      <td>Our People’s War: Home Intelligence Reports an...</td>\n",
       "      <td>Book</td>\n",
       "      <td>https://www.bloomsbury.com/uk/our-peoples-war-...</td>\n",
       "      <td>What was the mood of the British people during...</td>\n",
       "      <td>https://www.zotero.org/groups/intelligence_bib...</td>\n",
       "      <td>2024-10-17</td>\n",
       "      <td>Jeremy A. Crang</td>\n",
       "      <td>Bloomsbury</td>\n",
       "      <td>NaN</td>\n",
       "      <td>...</td>\n",
       "      <td>https://www.zotero.org/groups/intelligence_bib...</td>\n",
       "      <td>NaN</td>\n",
       "      <td>NaN</td>\n",
       "      <td>NaN</td>\n",
       "      <td>NaN</td>\n",
       "      <td>NaN</td>\n",
       "      <td>NaN</td>\n",
       "      <td>NaN</td>\n",
       "      <td>NaN</td>\n",
       "      <td>NaN</td>\n",
       "    </tr>\n",
       "    <tr>\n",
       "      <th>4</th>\n",
       "      <td>4</td>\n",
       "      <td>The Open Conversation on African Intelligence</td>\n",
       "      <td>Book chapter</td>\n",
       "      <td>NaN</td>\n",
       "      <td>This chapter advances several conclusive remar...</td>\n",
       "      <td>https://www.zotero.org/groups/intelligence_bib...</td>\n",
       "      <td>2024-08-08</td>\n",
       "      <td>Tshepo Gwatiwa</td>\n",
       "      <td>Routledge</td>\n",
       "      <td>NaN</td>\n",
       "      <td>...</td>\n",
       "      <td>https://www.zotero.org/groups/intelligence_bib...</td>\n",
       "      <td>NaN</td>\n",
       "      <td>NaN</td>\n",
       "      <td>NaN</td>\n",
       "      <td>NaN</td>\n",
       "      <td>NaN</td>\n",
       "      <td>NaN</td>\n",
       "      <td>NaN</td>\n",
       "      <td>NaN</td>\n",
       "      <td>NaN</td>\n",
       "    </tr>\n",
       "    <tr>\n",
       "      <th>...</th>\n",
       "      <td>...</td>\n",
       "      <td>...</td>\n",
       "      <td>...</td>\n",
       "      <td>...</td>\n",
       "      <td>...</td>\n",
       "      <td>...</td>\n",
       "      <td>...</td>\n",
       "      <td>...</td>\n",
       "      <td>...</td>\n",
       "      <td>...</td>\n",
       "      <td>...</td>\n",
       "      <td>...</td>\n",
       "      <td>...</td>\n",
       "      <td>...</td>\n",
       "      <td>...</td>\n",
       "      <td>...</td>\n",
       "      <td>...</td>\n",
       "      <td>...</td>\n",
       "      <td>...</td>\n",
       "      <td>...</td>\n",
       "      <td>...</td>\n",
       "    </tr>\n",
       "    <tr>\n",
       "      <th>10382</th>\n",
       "      <td>10382</td>\n",
       "      <td>Intelligence Services in the Information Age</td>\n",
       "      <td>Book</td>\n",
       "      <td>https://doi.org/10.4324/9780203479667</td>\n",
       "      <td>NaN</td>\n",
       "      <td>https://www.zotero.org/groups/intelligence_bib...</td>\n",
       "      <td>2013</td>\n",
       "      <td>Michael Herman</td>\n",
       "      <td>Routledge</td>\n",
       "      <td>NaN</td>\n",
       "      <td>...</td>\n",
       "      <td>https://www.zotero.org/groups/intelligence_bib...</td>\n",
       "      <td>NaN</td>\n",
       "      <td>NaN</td>\n",
       "      <td>NaN</td>\n",
       "      <td>NaN</td>\n",
       "      <td>NaN</td>\n",
       "      <td>NaN</td>\n",
       "      <td>NaN</td>\n",
       "      <td>NaN</td>\n",
       "      <td>NaN</td>\n",
       "    </tr>\n",
       "    <tr>\n",
       "      <th>10383</th>\n",
       "      <td>10383</td>\n",
       "      <td>Intelligence and Government in Britain and the...</td>\n",
       "      <td>Book</td>\n",
       "      <td>NaN</td>\n",
       "      <td>NaN</td>\n",
       "      <td>https://www.zotero.org/groups/intelligence_bib...</td>\n",
       "      <td>2012</td>\n",
       "      <td>Philip H.J. Davies</td>\n",
       "      <td>Praeger</td>\n",
       "      <td>NaN</td>\n",
       "      <td>...</td>\n",
       "      <td>https://www.zotero.org/groups/intelligence_bib...</td>\n",
       "      <td>NaN</td>\n",
       "      <td>NaN</td>\n",
       "      <td>NaN</td>\n",
       "      <td>NaN</td>\n",
       "      <td>NaN</td>\n",
       "      <td>NaN</td>\n",
       "      <td>NaN</td>\n",
       "      <td>NaN</td>\n",
       "      <td>NaN</td>\n",
       "    </tr>\n",
       "    <tr>\n",
       "      <th>10384</th>\n",
       "      <td>10384</td>\n",
       "      <td>Intelligence and Government in Britain and the...</td>\n",
       "      <td>Book</td>\n",
       "      <td>NaN</td>\n",
       "      <td>NaN</td>\n",
       "      <td>https://www.zotero.org/groups/intelligence_bib...</td>\n",
       "      <td>2012</td>\n",
       "      <td>Philip H.J. Davies</td>\n",
       "      <td>Praeger</td>\n",
       "      <td>NaN</td>\n",
       "      <td>...</td>\n",
       "      <td>https://www.zotero.org/groups/intelligence_bib...</td>\n",
       "      <td>NaN</td>\n",
       "      <td>NaN</td>\n",
       "      <td>NaN</td>\n",
       "      <td>NaN</td>\n",
       "      <td>NaN</td>\n",
       "      <td>NaN</td>\n",
       "      <td>NaN</td>\n",
       "      <td>NaN</td>\n",
       "      <td>NaN</td>\n",
       "    </tr>\n",
       "    <tr>\n",
       "      <th>10385</th>\n",
       "      <td>10385</td>\n",
       "      <td>Intelligence and Government in Britain and the...</td>\n",
       "      <td>Book</td>\n",
       "      <td>NaN</td>\n",
       "      <td>NaN</td>\n",
       "      <td>https://www.zotero.org/groups/intelligence_bib...</td>\n",
       "      <td>2012</td>\n",
       "      <td>Philip H.J. Davies</td>\n",
       "      <td>Praeger</td>\n",
       "      <td>NaN</td>\n",
       "      <td>...</td>\n",
       "      <td>https://www.zotero.org/groups/intelligence_bib...</td>\n",
       "      <td>NaN</td>\n",
       "      <td>NaN</td>\n",
       "      <td>NaN</td>\n",
       "      <td>NaN</td>\n",
       "      <td>NaN</td>\n",
       "      <td>NaN</td>\n",
       "      <td>NaN</td>\n",
       "      <td>NaN</td>\n",
       "      <td>NaN</td>\n",
       "    </tr>\n",
       "    <tr>\n",
       "      <th>10386</th>\n",
       "      <td>10386</td>\n",
       "      <td>Intelligence and Government in Britain and the...</td>\n",
       "      <td>Book</td>\n",
       "      <td>NaN</td>\n",
       "      <td>NaN</td>\n",
       "      <td>https://www.zotero.org/groups/intelligence_bib...</td>\n",
       "      <td>2012</td>\n",
       "      <td>Philip H.J. Davies</td>\n",
       "      <td>Praeger</td>\n",
       "      <td>NaN</td>\n",
       "      <td>...</td>\n",
       "      <td>https://www.zotero.org/groups/intelligence_bib...</td>\n",
       "      <td>NaN</td>\n",
       "      <td>NaN</td>\n",
       "      <td>NaN</td>\n",
       "      <td>NaN</td>\n",
       "      <td>NaN</td>\n",
       "      <td>NaN</td>\n",
       "      <td>NaN</td>\n",
       "      <td>NaN</td>\n",
       "      <td>NaN</td>\n",
       "    </tr>\n",
       "  </tbody>\n",
       "</table>\n",
       "<p>10387 rows × 26 columns</p>\n",
       "</div>"
      ],
      "text/plain": [
       "       Unnamed: 0                                              Title  \\\n",
       "0               0  THE ACTIVITY OF THE MILITARY INTELLIGENCE DIRE...   \n",
       "1               1  THE RISE OF OPEN-SOURCE INTELLIGENCE IN THE RU...   \n",
       "2               2  THE RISE OF OPEN-SOURCE INTELLIGENCE IN THE RU...   \n",
       "3               3  Our People’s War: Home Intelligence Reports an...   \n",
       "4               4      The Open Conversation on African Intelligence   \n",
       "...           ...                                                ...   \n",
       "10382       10382       Intelligence Services in the Information Age   \n",
       "10383       10383  Intelligence and Government in Britain and the...   \n",
       "10384       10384  Intelligence and Government in Britain and the...   \n",
       "10385       10385  Intelligence and Government in Britain and the...   \n",
       "10386       10386  Intelligence and Government in Britain and the...   \n",
       "\n",
       "       Publication type                                Link to publication  \\\n",
       "0       Journal article  https://www.ceeol.com/search/article-detail?id...   \n",
       "1      Conference paper  https://www.ceeol.com/search/chapter-detail?id...   \n",
       "2      Conference paper  https://www.ceeol.com/search/chapter-detail?id...   \n",
       "3                  Book  https://www.bloomsbury.com/uk/our-peoples-war-...   \n",
       "4          Book chapter                                                NaN   \n",
       "...                 ...                                                ...   \n",
       "10382              Book              https://doi.org/10.4324/9780203479667   \n",
       "10383              Book                                                NaN   \n",
       "10384              Book                                                NaN   \n",
       "10385              Book                                                NaN   \n",
       "10386              Book                                                NaN   \n",
       "\n",
       "                                                Abstract  \\\n",
       "0      In 2014, the General Staff and the Military In...   \n",
       "1      Open-source intelligence (OSINT) benefited sig...   \n",
       "2      Open-source intelligence (OSINT) benefited sig...   \n",
       "3      What was the mood of the British people during...   \n",
       "4      This chapter advances several conclusive remar...   \n",
       "...                                                  ...   \n",
       "10382                                                NaN   \n",
       "10383                                                NaN   \n",
       "10384                                                NaN   \n",
       "10385                                                NaN   \n",
       "10386                                                NaN   \n",
       "\n",
       "                                             Zotero link Date published  \\\n",
       "0      https://www.zotero.org/groups/intelligence_bib...           2014   \n",
       "1      https://www.zotero.org/groups/intelligence_bib...           2023   \n",
       "2      https://www.zotero.org/groups/intelligence_bib...           2023   \n",
       "3      https://www.zotero.org/groups/intelligence_bib...     2024-10-17   \n",
       "4      https://www.zotero.org/groups/intelligence_bib...     2024-08-08   \n",
       "...                                                  ...            ...   \n",
       "10382  https://www.zotero.org/groups/intelligence_bib...           2013   \n",
       "10383  https://www.zotero.org/groups/intelligence_bib...           2012   \n",
       "10384  https://www.zotero.org/groups/intelligence_bib...           2012   \n",
       "10385  https://www.zotero.org/groups/intelligence_bib...           2012   \n",
       "10386  https://www.zotero.org/groups/intelligence_bib...           2012   \n",
       "\n",
       "                          FirstName2  \\\n",
       "0          Cristian Iulian Dincovici   \n",
       "1      Gabriel Popescu, Sorin Carpen   \n",
       "2      Gabriel Popescu, Sorin Carpen   \n",
       "3                    Jeremy A. Crang   \n",
       "4                     Tshepo Gwatiwa   \n",
       "...                              ...   \n",
       "10382                 Michael Herman   \n",
       "10383             Philip H.J. Davies   \n",
       "10384             Philip H.J. Davies   \n",
       "10385             Philip H.J. Davies   \n",
       "10386             Philip H.J. Davies   \n",
       "\n",
       "                                               Publisher  \\\n",
       "0                                                    NaN   \n",
       "1      Carol I National Defence University Publishing...   \n",
       "2      Carol I National Defence University Publishing...   \n",
       "3                                             Bloomsbury   \n",
       "4                                              Routledge   \n",
       "...                                                  ...   \n",
       "10382                                          Routledge   \n",
       "10383                                            Praeger   \n",
       "10384                                            Praeger   \n",
       "10385                                            Praeger   \n",
       "10386                                            Praeger   \n",
       "\n",
       "                          Journal  ...  \\\n",
       "0      Romanian Military Thinking  ...   \n",
       "1                             NaN  ...   \n",
       "2                             NaN  ...   \n",
       "3                             NaN  ...   \n",
       "4                             NaN  ...   \n",
       "...                           ...  ...   \n",
       "10382                         NaN  ...   \n",
       "10383                         NaN  ...   \n",
       "10384                         NaN  ...   \n",
       "10385                         NaN  ...   \n",
       "10386                         NaN  ...   \n",
       "\n",
       "                                         Collection_Link   ID Citation  \\\n",
       "0      https://www.zotero.org/groups/intelligence_bib...  NaN      NaN   \n",
       "1      https://www.zotero.org/groups/intelligence_bib...  NaN      NaN   \n",
       "2      https://www.zotero.org/groups/intelligence_bib...  NaN      NaN   \n",
       "3      https://www.zotero.org/groups/intelligence_bib...  NaN      NaN   \n",
       "4      https://www.zotero.org/groups/intelligence_bib...  NaN      NaN   \n",
       "...                                                  ...  ...      ...   \n",
       "10382  https://www.zotero.org/groups/intelligence_bib...  NaN      NaN   \n",
       "10383  https://www.zotero.org/groups/intelligence_bib...  NaN      NaN   \n",
       "10384  https://www.zotero.org/groups/intelligence_bib...  NaN      NaN   \n",
       "10385  https://www.zotero.org/groups/intelligence_bib...  NaN      NaN   \n",
       "10386  https://www.zotero.org/groups/intelligence_bib...  NaN      NaN   \n",
       "\n",
       "      OA status Citation_list First_citation_year Last_citation_year  \\\n",
       "0           NaN           NaN                 NaN                NaN   \n",
       "1           NaN           NaN                 NaN                NaN   \n",
       "2           NaN           NaN                 NaN                NaN   \n",
       "3           NaN           NaN                 NaN                NaN   \n",
       "4           NaN           NaN                 NaN                NaN   \n",
       "...         ...           ...                 ...                ...   \n",
       "10382       NaN           NaN                 NaN                NaN   \n",
       "10383       NaN           NaN                 NaN                NaN   \n",
       "10384       NaN           NaN                 NaN                NaN   \n",
       "10385       NaN           NaN                 NaN                NaN   \n",
       "10386       NaN           NaN                 NaN                NaN   \n",
       "\n",
       "      Publication_year  OA_link Year_difference  \n",
       "0                  NaN      NaN             NaN  \n",
       "1                  NaN      NaN             NaN  \n",
       "2                  NaN      NaN             NaN  \n",
       "3                  NaN      NaN             NaN  \n",
       "4                  NaN      NaN             NaN  \n",
       "...                ...      ...             ...  \n",
       "10382              NaN      NaN             NaN  \n",
       "10383              NaN      NaN             NaN  \n",
       "10384              NaN      NaN             NaN  \n",
       "10385              NaN      NaN             NaN  \n",
       "10386              NaN      NaN             NaN  \n",
       "\n",
       "[10387 rows x 26 columns]"
      ]
     },
     "execution_count": 79,
     "metadata": {},
     "output_type": "execute_result"
    }
   ],
   "source": [
    "df_2 = pd.read_csv('all_items_duplicated.csv')\n",
    "df_2"
   ]
  },
  {
   "cell_type": "code",
   "execution_count": 80,
   "metadata": {},
   "outputs": [
    {
     "data": {
      "text/html": [
       "<div>\n",
       "<style scoped>\n",
       "    .dataframe tbody tr th:only-of-type {\n",
       "        vertical-align: middle;\n",
       "    }\n",
       "\n",
       "    .dataframe tbody tr th {\n",
       "        vertical-align: top;\n",
       "    }\n",
       "\n",
       "    .dataframe thead th {\n",
       "        text-align: right;\n",
       "    }\n",
       "</style>\n",
       "<table border=\"1\" class=\"dataframe\">\n",
       "  <thead>\n",
       "    <tr style=\"text-align: right;\">\n",
       "      <th></th>\n",
       "      <th>Unnamed: 0</th>\n",
       "      <th>Title</th>\n",
       "      <th>Publication type</th>\n",
       "      <th>Link to publication</th>\n",
       "      <th>Abstract</th>\n",
       "      <th>Zotero link</th>\n",
       "      <th>Date published</th>\n",
       "      <th>FirstName2</th>\n",
       "      <th>Publisher</th>\n",
       "      <th>Journal</th>\n",
       "      <th>...</th>\n",
       "      <th>Collection_Link</th>\n",
       "      <th>ID</th>\n",
       "      <th>Citation</th>\n",
       "      <th>OA status</th>\n",
       "      <th>Citation_list</th>\n",
       "      <th>First_citation_year</th>\n",
       "      <th>Last_citation_year</th>\n",
       "      <th>Publication_year</th>\n",
       "      <th>OA_link</th>\n",
       "      <th>Year_difference</th>\n",
       "    </tr>\n",
       "  </thead>\n",
       "  <tbody>\n",
       "    <tr>\n",
       "      <th>7732</th>\n",
       "      <td>7732</td>\n",
       "      <td>Modeling an Intelligence Analysis Profession o...</td>\n",
       "      <td>Journal article</td>\n",
       "      <td>https://doi.org/10.1080/08850600600829882</td>\n",
       "      <td>NaN</td>\n",
       "      <td>https://www.zotero.org/groups/intelligence_bib...</td>\n",
       "      <td>2006-12-01</td>\n",
       "      <td>Stephen Marrin, Jonathan D. Clemente</td>\n",
       "      <td>NaN</td>\n",
       "      <td>Intl Journal of Intelligence and Counterintell...</td>\n",
       "      <td>...</td>\n",
       "      <td>https://www.zotero.org/groups/intelligence_bib...</td>\n",
       "      <td>https://openalex.org/W2074061346</td>\n",
       "      <td>16.0</td>\n",
       "      <td>True</td>\n",
       "      <td>https://api.openalex.org/works?filter=cites:W2...</td>\n",
       "      <td>2012.0</td>\n",
       "      <td>2023.0</td>\n",
       "      <td>2006.0</td>\n",
       "      <td>http://www.stuart-hall.com/ftp/IJIC--Vol19No4-...</td>\n",
       "      <td>6.0</td>\n",
       "    </tr>\n",
       "  </tbody>\n",
       "</table>\n",
       "<p>1 rows × 26 columns</p>\n",
       "</div>"
      ],
      "text/plain": [
       "      Unnamed: 0                                              Title  \\\n",
       "7732        7732  Modeling an Intelligence Analysis Profession o...   \n",
       "\n",
       "     Publication type                        Link to publication Abstract  \\\n",
       "7732  Journal article  https://doi.org/10.1080/08850600600829882      NaN   \n",
       "\n",
       "                                            Zotero link Date published  \\\n",
       "7732  https://www.zotero.org/groups/intelligence_bib...     2006-12-01   \n",
       "\n",
       "                                FirstName2 Publisher  \\\n",
       "7732  Stephen Marrin, Jonathan D. Clemente       NaN   \n",
       "\n",
       "                                                Journal  ...  \\\n",
       "7732  Intl Journal of Intelligence and Counterintell...  ...   \n",
       "\n",
       "                                        Collection_Link  \\\n",
       "7732  https://www.zotero.org/groups/intelligence_bib...   \n",
       "\n",
       "                                    ID Citation OA status  \\\n",
       "7732  https://openalex.org/W2074061346     16.0      True   \n",
       "\n",
       "                                          Citation_list First_citation_year  \\\n",
       "7732  https://api.openalex.org/works?filter=cites:W2...              2012.0   \n",
       "\n",
       "     Last_citation_year Publication_year  \\\n",
       "7732             2023.0           2006.0   \n",
       "\n",
       "                                                OA_link Year_difference  \n",
       "7732  http://www.stuart-hall.com/ftp/IJIC--Vol19No4-...             6.0  \n",
       "\n",
       "[1 rows x 26 columns]"
      ]
     },
     "execution_count": 80,
     "metadata": {},
     "output_type": "execute_result"
    }
   ],
   "source": [
    "ttt = df_2[df_2['DOI']=='10.1080/08850600600829882']\n",
    "ttt"
   ]
  },
  {
   "cell_type": "code",
   "execution_count": 81,
   "metadata": {},
   "outputs": [],
   "source": [
    "# df_zotero_id = df_2[['Zotero link']].copy()\n",
    "# df_zotero_id['Zotero link'] = df_zotero_id['Zotero link'].str.replace(\n",
    "#     'https://www.zotero.org/groups/intelligence_bibliography/items/', ''\n",
    "# )\n",
    "# df_zotero_id = df_zotero_id.drop_duplicates(subset='Zotero link').reset_index(drop=True)\n",
    "# df_zotero_id = df_zotero_id.rename(columns={'Zotero link':'zotero_item_key'})\n",
    "# # df_zotero_id = df_zotero_id.head(100)\n",
    "# df_zotero_id"
   ]
  },
  {
   "cell_type": "code",
   "execution_count": 82,
   "metadata": {},
   "outputs": [
    {
     "name": "stderr",
     "output_type": "stream",
     "text": [
      "C:\\Users\\yaozk\\AppData\\Local\\Temp\\ipykernel_50828\\1839613883.py:4: FutureWarning:\n",
      "\n",
      "The default value of regex will change from True to False in a future version.\n",
      "\n"
     ]
    },
    {
     "data": {
      "text/html": [
       "<div>\n",
       "<style scoped>\n",
       "    .dataframe tbody tr th:only-of-type {\n",
       "        vertical-align: middle;\n",
       "    }\n",
       "\n",
       "    .dataframe tbody tr th {\n",
       "        vertical-align: top;\n",
       "    }\n",
       "\n",
       "    .dataframe thead th {\n",
       "        text-align: right;\n",
       "    }\n",
       "</style>\n",
       "<table border=\"1\" class=\"dataframe\">\n",
       "  <thead>\n",
       "    <tr style=\"text-align: right;\">\n",
       "      <th></th>\n",
       "      <th>zotero_item_key</th>\n",
       "    </tr>\n",
       "  </thead>\n",
       "  <tbody>\n",
       "    <tr>\n",
       "      <th>0</th>\n",
       "      <td>5QVERNJ2</td>\n",
       "    </tr>\n",
       "    <tr>\n",
       "      <th>1</th>\n",
       "      <td>LRRET9A3</td>\n",
       "    </tr>\n",
       "    <tr>\n",
       "      <th>2</th>\n",
       "      <td>B5AIIKYR</td>\n",
       "    </tr>\n",
       "    <tr>\n",
       "      <th>3</th>\n",
       "      <td>FERRWPQY</td>\n",
       "    </tr>\n",
       "    <tr>\n",
       "      <th>4</th>\n",
       "      <td>ZMBRAKD3</td>\n",
       "    </tr>\n",
       "    <tr>\n",
       "      <th>5</th>\n",
       "      <td>NBK32L47</td>\n",
       "    </tr>\n",
       "    <tr>\n",
       "      <th>6</th>\n",
       "      <td>JQ93VW6Q</td>\n",
       "    </tr>\n",
       "    <tr>\n",
       "      <th>7</th>\n",
       "      <td>VJARFZ97</td>\n",
       "    </tr>\n",
       "    <tr>\n",
       "      <th>8</th>\n",
       "      <td>Q57WK7EG</td>\n",
       "    </tr>\n",
       "    <tr>\n",
       "      <th>9</th>\n",
       "      <td>P7J96JJV</td>\n",
       "    </tr>\n",
       "    <tr>\n",
       "      <th>10</th>\n",
       "      <td>PWQYZXNZ</td>\n",
       "    </tr>\n",
       "    <tr>\n",
       "      <th>11</th>\n",
       "      <td>55H986IS</td>\n",
       "    </tr>\n",
       "    <tr>\n",
       "      <th>12</th>\n",
       "      <td>62VVNYWL</td>\n",
       "    </tr>\n",
       "    <tr>\n",
       "      <th>13</th>\n",
       "      <td>NK4GPI3L</td>\n",
       "    </tr>\n",
       "    <tr>\n",
       "      <th>14</th>\n",
       "      <td>S97SSVR2</td>\n",
       "    </tr>\n",
       "    <tr>\n",
       "      <th>15</th>\n",
       "      <td>WJKS2Z6T</td>\n",
       "    </tr>\n",
       "    <tr>\n",
       "      <th>16</th>\n",
       "      <td>2LMKZRU3</td>\n",
       "    </tr>\n",
       "    <tr>\n",
       "      <th>17</th>\n",
       "      <td>YVIDFR8I</td>\n",
       "    </tr>\n",
       "  </tbody>\n",
       "</table>\n",
       "</div>"
      ],
      "text/plain": [
       "   zotero_item_key\n",
       "0         5QVERNJ2\n",
       "1         LRRET9A3\n",
       "2         B5AIIKYR\n",
       "3         FERRWPQY\n",
       "4         ZMBRAKD3\n",
       "5         NBK32L47\n",
       "6         JQ93VW6Q\n",
       "7         VJARFZ97\n",
       "8         Q57WK7EG\n",
       "9         P7J96JJV\n",
       "10        PWQYZXNZ\n",
       "11        55H986IS\n",
       "12        62VVNYWL\n",
       "13        NK4GPI3L\n",
       "14        S97SSVR2\n",
       "15        WJKS2Z6T\n",
       "16        2LMKZRU3\n",
       "17        YVIDFR8I"
      ]
     },
     "execution_count": 82,
     "metadata": {},
     "output_type": "execute_result"
    }
   ],
   "source": [
    "df_zotero_id = pd.read_csv('https://raw.githubusercontent.com/yusufaliozkan/zotero-intelligence-bibliography/main/zotero_citation_format.csv')\n",
    "df_all = pd.read_csv('all_items.csv')\n",
    "df_all = df_all[['Zotero link']]\n",
    "df_all['zotero_item_key'] = df_all['Zotero link'].str.replace('https://www.zotero.org/groups/intelligence_bibliography/items/', '')\n",
    "df_all = df_all.drop_duplicates()\n",
    "df_not_zotero_id = df_all[~df_all['zotero_item_key'].isin(df_zotero_id['zotero_item_key'])]\n",
    "df_not_zotero_id = df_not_zotero_id[['zotero_item_key']].reset_index(drop=True)\n",
    "df_not_zotero_id"
   ]
  },
  {
   "cell_type": "code",
   "execution_count": 83,
   "metadata": {},
   "outputs": [
    {
     "data": {
      "text/html": [
       "<div>\n",
       "<style scoped>\n",
       "    .dataframe tbody tr th:only-of-type {\n",
       "        vertical-align: middle;\n",
       "    }\n",
       "\n",
       "    .dataframe tbody tr th {\n",
       "        vertical-align: top;\n",
       "    }\n",
       "\n",
       "    .dataframe thead th {\n",
       "        text-align: right;\n",
       "    }\n",
       "</style>\n",
       "<table border=\"1\" class=\"dataframe\">\n",
       "  <thead>\n",
       "    <tr style=\"text-align: right;\">\n",
       "      <th></th>\n",
       "      <th>zotero_item_key</th>\n",
       "      <th>bibliography</th>\n",
       "    </tr>\n",
       "  </thead>\n",
       "  <tbody>\n",
       "    <tr>\n",
       "      <th>0</th>\n",
       "      <td>5QVERNJ2</td>\n",
       "      <td>&lt;?xml version=\"1.0\"?&gt;\\n&lt;div class=\"csl-bib-bod...</td>\n",
       "    </tr>\n",
       "    <tr>\n",
       "      <th>1</th>\n",
       "      <td>LRRET9A3</td>\n",
       "      <td>&lt;?xml version=\"1.0\"?&gt;\\n&lt;div class=\"csl-bib-bod...</td>\n",
       "    </tr>\n",
       "    <tr>\n",
       "      <th>2</th>\n",
       "      <td>B5AIIKYR</td>\n",
       "      <td>&lt;?xml version=\"1.0\"?&gt;\\n&lt;div class=\"csl-bib-bod...</td>\n",
       "    </tr>\n",
       "    <tr>\n",
       "      <th>3</th>\n",
       "      <td>FERRWPQY</td>\n",
       "      <td>&lt;?xml version=\"1.0\"?&gt;\\n&lt;div class=\"csl-bib-bod...</td>\n",
       "    </tr>\n",
       "    <tr>\n",
       "      <th>4</th>\n",
       "      <td>ZMBRAKD3</td>\n",
       "      <td>&lt;?xml version=\"1.0\"?&gt;\\n&lt;div class=\"csl-bib-bod...</td>\n",
       "    </tr>\n",
       "    <tr>\n",
       "      <th>5</th>\n",
       "      <td>NBK32L47</td>\n",
       "      <td>&lt;?xml version=\"1.0\"?&gt;\\n&lt;div class=\"csl-bib-bod...</td>\n",
       "    </tr>\n",
       "    <tr>\n",
       "      <th>6</th>\n",
       "      <td>JQ93VW6Q</td>\n",
       "      <td>&lt;?xml version=\"1.0\"?&gt;\\n&lt;div class=\"csl-bib-bod...</td>\n",
       "    </tr>\n",
       "    <tr>\n",
       "      <th>7</th>\n",
       "      <td>VJARFZ97</td>\n",
       "      <td>&lt;?xml version=\"1.0\"?&gt;\\n&lt;div class=\"csl-bib-bod...</td>\n",
       "    </tr>\n",
       "    <tr>\n",
       "      <th>8</th>\n",
       "      <td>Q57WK7EG</td>\n",
       "      <td>&lt;?xml version=\"1.0\"?&gt;\\n&lt;div class=\"csl-bib-bod...</td>\n",
       "    </tr>\n",
       "    <tr>\n",
       "      <th>9</th>\n",
       "      <td>P7J96JJV</td>\n",
       "      <td>&lt;?xml version=\"1.0\"?&gt;\\n&lt;div class=\"csl-bib-bod...</td>\n",
       "    </tr>\n",
       "    <tr>\n",
       "      <th>10</th>\n",
       "      <td>PWQYZXNZ</td>\n",
       "      <td>&lt;?xml version=\"1.0\"?&gt;\\n&lt;div class=\"csl-bib-bod...</td>\n",
       "    </tr>\n",
       "    <tr>\n",
       "      <th>11</th>\n",
       "      <td>55H986IS</td>\n",
       "      <td>&lt;?xml version=\"1.0\"?&gt;\\n&lt;div class=\"csl-bib-bod...</td>\n",
       "    </tr>\n",
       "    <tr>\n",
       "      <th>12</th>\n",
       "      <td>62VVNYWL</td>\n",
       "      <td>&lt;?xml version=\"1.0\"?&gt;\\n&lt;div class=\"csl-bib-bod...</td>\n",
       "    </tr>\n",
       "    <tr>\n",
       "      <th>13</th>\n",
       "      <td>NK4GPI3L</td>\n",
       "      <td>&lt;?xml version=\"1.0\"?&gt;\\n&lt;div class=\"csl-bib-bod...</td>\n",
       "    </tr>\n",
       "    <tr>\n",
       "      <th>14</th>\n",
       "      <td>S97SSVR2</td>\n",
       "      <td>&lt;?xml version=\"1.0\"?&gt;\\n&lt;div class=\"csl-bib-bod...</td>\n",
       "    </tr>\n",
       "    <tr>\n",
       "      <th>15</th>\n",
       "      <td>WJKS2Z6T</td>\n",
       "      <td>&lt;?xml version=\"1.0\"?&gt;\\n&lt;div class=\"csl-bib-bod...</td>\n",
       "    </tr>\n",
       "    <tr>\n",
       "      <th>16</th>\n",
       "      <td>2LMKZRU3</td>\n",
       "      <td>&lt;?xml version=\"1.0\"?&gt;\\n&lt;div class=\"csl-bib-bod...</td>\n",
       "    </tr>\n",
       "    <tr>\n",
       "      <th>17</th>\n",
       "      <td>YVIDFR8I</td>\n",
       "      <td>&lt;?xml version=\"1.0\"?&gt;\\n&lt;div class=\"csl-bib-bod...</td>\n",
       "    </tr>\n",
       "  </tbody>\n",
       "</table>\n",
       "</div>"
      ],
      "text/plain": [
       "   zotero_item_key                                       bibliography\n",
       "0         5QVERNJ2  <?xml version=\"1.0\"?>\\n<div class=\"csl-bib-bod...\n",
       "1         LRRET9A3  <?xml version=\"1.0\"?>\\n<div class=\"csl-bib-bod...\n",
       "2         B5AIIKYR  <?xml version=\"1.0\"?>\\n<div class=\"csl-bib-bod...\n",
       "3         FERRWPQY  <?xml version=\"1.0\"?>\\n<div class=\"csl-bib-bod...\n",
       "4         ZMBRAKD3  <?xml version=\"1.0\"?>\\n<div class=\"csl-bib-bod...\n",
       "5         NBK32L47  <?xml version=\"1.0\"?>\\n<div class=\"csl-bib-bod...\n",
       "6         JQ93VW6Q  <?xml version=\"1.0\"?>\\n<div class=\"csl-bib-bod...\n",
       "7         VJARFZ97  <?xml version=\"1.0\"?>\\n<div class=\"csl-bib-bod...\n",
       "8         Q57WK7EG  <?xml version=\"1.0\"?>\\n<div class=\"csl-bib-bod...\n",
       "9         P7J96JJV  <?xml version=\"1.0\"?>\\n<div class=\"csl-bib-bod...\n",
       "10        PWQYZXNZ  <?xml version=\"1.0\"?>\\n<div class=\"csl-bib-bod...\n",
       "11        55H986IS  <?xml version=\"1.0\"?>\\n<div class=\"csl-bib-bod...\n",
       "12        62VVNYWL  <?xml version=\"1.0\"?>\\n<div class=\"csl-bib-bod...\n",
       "13        NK4GPI3L  <?xml version=\"1.0\"?>\\n<div class=\"csl-bib-bod...\n",
       "14        S97SSVR2  <?xml version=\"1.0\"?>\\n<div class=\"csl-bib-bod...\n",
       "15        WJKS2Z6T  <?xml version=\"1.0\"?>\\n<div class=\"csl-bib-bod...\n",
       "16        2LMKZRU3  <?xml version=\"1.0\"?>\\n<div class=\"csl-bib-bod...\n",
       "17        YVIDFR8I  <?xml version=\"1.0\"?>\\n<div class=\"csl-bib-bod..."
      ]
     },
     "execution_count": 83,
     "metadata": {},
     "output_type": "execute_result"
    }
   ],
   "source": [
    "user_id = '2514686'\n",
    "\n",
    "# Base URL for Zotero API\n",
    "base_url = 'https://api.zotero.org'\n",
    "\n",
    "# Initialize an empty string to accumulate bibliographies\n",
    "all_bibliographies = \"\"\n",
    "\n",
    "# List to store bibliographies\n",
    "bibliographies = []\n",
    "\n",
    "# Iterate through each item key in the DataFrame\n",
    "for item_key in df_not_zotero_id['zotero_item_key']:\n",
    "    # Endpoint to get item bibliography\n",
    "    endpoint = f'/groups/{user_id}/items/{item_key}'\n",
    "\n",
    "    # Parameters for the request\n",
    "    params = {\n",
    "        'format': 'bib',\n",
    "        'linkwrap': 1\n",
    "    }\n",
    "\n",
    "    # Make GET request to Zotero API\n",
    "    response = requests.get(base_url + endpoint, params=params)\n",
    "\n",
    "    # Check if request was successful\n",
    "    if response.status_code == 200:\n",
    "        bibliography = response.text.strip()  # Strip any leading/trailing whitespace\n",
    "        bibliographies.append(bibliography)\n",
    "        all_bibliographies += f'<p>{bibliography}</p><br><br>'  # Append bibliography with two newlines for separation\n",
    "    else:\n",
    "        error_message = f'Error fetching bibliography for item {item_key}: Status Code {response.status_code}'\n",
    "        bibliographies.append(error_message)\n",
    "        all_bibliographies += f'<p>{error_message}</p><br><br>'\n",
    "\n",
    "# Add bibliographies to the original DataFrame\n",
    "df_not_zotero_id['bibliography'] = bibliography\n",
    "df_not_zotero_id"
   ]
  },
  {
   "cell_type": "code",
   "execution_count": 84,
   "metadata": {},
   "outputs": [
    {
     "data": {
      "text/plain": [
       "['<?xml version=\"1.0\"?>\\n<div class=\"csl-bib-body\" style=\"line-height: 1.35; padding-left: 1em; text-indent:-1em;\">\\n  <div class=\"csl-entry\">Dincovici, Cristian Iulian. &#x201C;THE ACTIVITY OF THE MILITARY INTELLIGENCE DIRECTORATE IN THE LAST DECADE - ADJUSTMENT AND RESPONSE TO THE CHALLENGES OF THE NEW SECURITY ENVIRONMENT - [ROMANIA].&#x201D; <i>Romanian Military Thinking</i>, no. 3 (2014): 11&#x2013;15. <a href=\"https://www.ceeol.com/search/article-detail?id=1247496\">https://www.ceeol.com/search/article-detail?id=1247496</a>.</div>\\n</div>',\n",
       " '<?xml version=\"1.0\"?>\\n<div class=\"csl-bib-body\" style=\"line-height: 1.35; padding-left: 1em; text-indent:-1em;\">\\n  <div class=\"csl-entry\">Popescu, Gabriel, and Sorin Carpen. &#x201C;THE RISE OF OPEN-SOURCE INTELLIGENCE IN THE RUSSIA-UKRAINE WAR.&#x201D; In <i>PROCEEDINGS OF THE INTERNATIONAL SCIENTIFIC CONFERENCE STRATEGIES XXI. VOLUME XIX</i>, 142&#x2013;48. Carol I National Defence University Publishing House, 2023. <a href=\"https://www.ceeol.com/search/chapter-detail?id=1244830\">https://www.ceeol.com/search/chapter-detail?id=1244830</a>.</div>\\n</div>',\n",
       " '<?xml version=\"1.0\"?>\\n<div class=\"csl-bib-body\" style=\"line-height: 1.35; padding-left: 1em; text-indent:-1em;\">\\n  <div class=\"csl-entry\">Crang, Jeremy A. <i>Our People&#x2019;s War: Home Intelligence Reports and the Monitoring of British Morale, June 1941-December 1944</i>. London: Bloomsbury, 2024. <a href=\"https://www.bloomsbury.com/uk/our-peoples-war-9781350335028/\">https://www.bloomsbury.com/uk/our-peoples-war-9781350335028/</a>.</div>\\n</div>',\n",
       " '<?xml version=\"1.0\"?>\\n<div class=\"csl-bib-body\" style=\"line-height: 1.35; padding-left: 1em; text-indent:-1em;\">\\n  <div class=\"csl-entry\">Gwatiwa, Tshepo. &#x201C;The Open Conversation on African Intelligence.&#x201D; In <i>Contemporary Intelligence in Africa</i>, edited by Tshepo Gwatiwa. London: Routledge, 2024.</div>\\n</div>',\n",
       " '<?xml version=\"1.0\"?>\\n<div class=\"csl-bib-body\" style=\"line-height: 1.35; padding-left: 1em; text-indent:-1em;\">\\n  <div class=\"csl-entry\">Snow, Katherine C. &#x201C;Intelligence in Wildlife Protected Areas in Sub-Saharan Africa: Clashing Contemporary Practices and a Prospective Future Paradigm for Biocentric Strategic Environmental Intelligence (BISEINT).&#x201D; In <i>Contemporary Intelligence in Africa</i>, edited by Tshepo Gwatiwa. London: Routledge, 2024.</div>\\n</div>',\n",
       " '<?xml version=\"1.0\"?>\\n<div class=\"csl-bib-body\" style=\"line-height: 1.35; padding-left: 1em; text-indent:-1em;\">\\n  <div class=\"csl-entry\">Raji, Gbolahan Ayodamola. &#x201C;Private Security Intelligence in West Africa: Corporate and Private Sector Intelligence in Nigeria.&#x201D; In <i>Contemporary Intelligence in Africa</i>, edited by Tshepo Gwatiwa. London: Routledge, 2024.</div>\\n</div>',\n",
       " '<?xml version=\"1.0\"?>\\n<div class=\"csl-bib-body\" style=\"line-height: 1.35; padding-left: 1em; text-indent:-1em;\">\\n  <div class=\"csl-entry\">Mafura, Tapiwa. &#x201C;The Media and Security Intelligence in Africa: A Complicated Relationship.&#x201D; In <i>Contemporary Intelligence in Africa</i>, edited by Tshepo Gwatiwa. London: Routledge, 2024.</div>\\n</div>',\n",
       " '<?xml version=\"1.0\"?>\\n<div class=\"csl-bib-body\" style=\"line-height: 1.35; padding-left: 1em; text-indent:-1em;\">\\n  <div class=\"csl-entry\">Madzima, Jackson. &#x201C;Sharpening the Use of Financial Intelligence to Combat Complex Crimes in Southern Africa.&#x201D; In <i>Contemporary Intelligence in Africa</i>, edited by Tshepo Gwatiwa. London: Routledge, 2024.</div>\\n</div>',\n",
       " '<?xml version=\"1.0\"?>\\n<div class=\"csl-bib-body\" style=\"line-height: 1.35; padding-left: 1em; text-indent:-1em;\">\\n  <div class=\"csl-entry\">Asiimwe, Solomon Muchwa, and Tshepo Gwatiwa. &#x201C;Law Enforcement Intelligence in Uganda.&#x201D; In <i>Contemporary Intelligence in Africa</i>. London: Routledge, 2024.</div>\\n</div>',\n",
       " '<?xml version=\"1.0\"?>\\n<div class=\"csl-bib-body\" style=\"line-height: 1.35; padding-left: 1em; text-indent:-1em;\">\\n  <div class=\"csl-entry\">Manganello, Tony. &#x201C;From Counterinsurgency to Counterterrorism: The Development of Kenya&#x2019;s National Intelligence Enterprise.&#x201D; In <i>Contemporary Intelligence in Africa</i>, edited by Tshepo Gwatiwa. London: Routledge, 2024. <a href=\"https://www.taylorfrancis.com/chapters/edit/10.4324/9781003365105-12/counterinsurgency-counterterrorism-tony-manganello?context=ubx&amp;refId=cad45062-555a-4851-83f4-5e324d384a88\">https://www.taylorfrancis.com/chapters/edit/10.4324/9781003365105-12/counterinsurgency-counterterrorism-tony-manganello?context=ubx&amp;refId=cad45062-555a-4851-83f4-5e324d384a88</a>.</div>\\n</div>',\n",
       " '<?xml version=\"1.0\"?>\\n<div class=\"csl-bib-body\" style=\"line-height: 1.35; padding-left: 1em; text-indent:-1em;\">\\n  <div class=\"csl-entry\">Duvenage, Dalene. &#x201C;The Professionalisation of Intelligence in Africa.&#x201D; In <i>Contemporary Intelligence in Africa</i>, edited by Tshepo Gwatiwa. London: Routledge, 2024.</div>\\n</div>',\n",
       " '<?xml version=\"1.0\"?>\\n<div class=\"csl-bib-body\" style=\"line-height: 1.35; padding-left: 1em; text-indent:-1em;\">\\n  <div class=\"csl-entry\">Musole, Tr&#xE9;sor Maheshe, and Jean Paul Mushagalusa Rwabashi. &#x201C;Towards Humanisation of the Intelligence and Security Services in the Democratic Republic of the Congo.&#x201D; In <i>Contemporary Intelligence in Africa</i>, edited by Tshepo Gwatiwa. London: Routledge, 2024.</div>\\n</div>',\n",
       " '<?xml version=\"1.0\"?>\\n<div class=\"csl-bib-body\" style=\"line-height: 1.35; padding-left: 1em; text-indent:-1em;\">\\n  <div class=\"csl-entry\">Kheyre, Zakarie Ahmed Nor. &#x201C;Rebuilding National Intelligence in Post-Conflict Africa: Case of Somalia.&#x201D; In <i>Contemporary Intelligence in Africa</i>, edited by Tshepo Gwatiwa. London: Routledge, 2024.</div>\\n</div>',\n",
       " '<?xml version=\"1.0\"?>\\n<div class=\"csl-bib-body\" style=\"line-height: 1.35; padding-left: 1em; text-indent:-1em;\">\\n  <div class=\"csl-entry\">Alemika, Etannibi E. O. &#x201C;Intelligence Services and National Security in Nigeria.&#x201D; In <i>Contemporary Intelligence in Africa</i>, edited by Tshepo Gwatiwa. London: Routledge, 2024.</div>\\n</div>',\n",
       " '<?xml version=\"1.0\"?>\\n<div class=\"csl-bib-body\" style=\"line-height: 1.35; padding-left: 1em; text-indent:-1em;\">\\n  <div class=\"csl-entry\">Ateku, Abdul-Jalilu. &#x201C;Intelligence and Countering Terrorism in the &#x2018;Ungoverned Spaces&#x2019; in the Sahel Region.&#x201D; In <i>Contemporary Intelligence in Africa</i>, edited by Tshepo Gwatiwa. London: Routledge, 2024.</div>\\n</div>',\n",
       " '<?xml version=\"1.0\"?>\\n<div class=\"csl-bib-body\" style=\"line-height: 1.35; padding-left: 1em; text-indent:-1em;\">\\n  <div class=\"csl-entry\">Obuobi, Patrick Peprah. &#x201C;Intelligence and Counterterrorism in Ghana.&#x201D; In <i>Contemporary Intelligence in Africa</i>, edited by Tshepo Gwatiwa. London: Routledge, 2024. <a href=\"https://www.taylorfrancis.com/chapters/edit/10.4324/9781003365105-6/intelligence-counterterrorism-ghana-patrick-peprah-obuobi?context=ubx&amp;refId=af672f54-5325-400b-9b50-2e13bdc739c8\">https://www.taylorfrancis.com/chapters/edit/10.4324/9781003365105-6/intelligence-counterterrorism-ghana-patrick-peprah-obuobi?context=ubx&amp;refId=af672f54-5325-400b-9b50-2e13bdc739c8</a>.</div>\\n</div>',\n",
       " '<?xml version=\"1.0\"?>\\n<div class=\"csl-bib-body\" style=\"line-height: 1.35; padding-left: 1em; text-indent:-1em;\">\\n  <div class=\"csl-entry\">Gwatiwa, Tshepo. &#x201C;Intelligence Personalisation and Politicisation in African Democracies and Hybrid Systems.&#x201D; In <i>Contemporary Intelligence in Africa</i>, edited by Tshepo Gwatiwa. London: Routledge, 2024. <a href=\"https://www.taylorfrancis.com/chapters/edit/10.4324/9781003365105-3/intelligence-personalisation-politicisation-african-democracies-hybrid-systems-tshepo-gwatiwa?context=ubx&amp;refId=e8ac227b-15de-4355-b8ec-661ed056d7f0\">https://www.taylorfrancis.com/chapters/edit/10.4324/9781003365105-3/intelligence-personalisation-politicisation-african-democracies-hybrid-systems-tshepo-gwatiwa?context=ubx&amp;refId=e8ac227b-15de-4355-b8ec-661ed056d7f0</a>.</div>\\n</div>',\n",
       " '<?xml version=\"1.0\"?>\\n<div class=\"csl-bib-body\" style=\"line-height: 1.35; padding-left: 1em; text-indent:-1em;\">\\n  <div class=\"csl-entry\">D&#x2019;Ago&#xF4;t, Majak. &#x201C;Intelligence Operations During the Transition in the Sudan.&#x201D; In <i>Contemporary Intelligence in Africa</i>, edited by Tshepo Gwatiwa. London: Routledge, 2024. <a href=\"https://www.taylorfrancis.com/chapters/edit/10.4324/9781003365105-5/intelligence-operations-transition-sudan-majak-ago%C3%B4t?context=ubx&amp;refId=f574c229-b0a3-4b8f-88ce-db485ddf8cb6\">https://www.taylorfrancis.com/chapters/edit/10.4324/9781003365105-5/intelligence-operations-transition-sudan-majak-ago%C3%B4t?context=ubx&amp;refId=f574c229-b0a3-4b8f-88ce-db485ddf8cb6</a>.</div>\\n</div>']"
      ]
     },
     "execution_count": 84,
     "metadata": {},
     "output_type": "execute_result"
    }
   ],
   "source": [
    "bibliographies"
   ]
  },
  {
   "cell_type": "code",
   "execution_count": 85,
   "metadata": {},
   "outputs": [
    {
     "data": {
      "text/html": [
       "<div>\n",
       "<style scoped>\n",
       "    .dataframe tbody tr th:only-of-type {\n",
       "        vertical-align: middle;\n",
       "    }\n",
       "\n",
       "    .dataframe tbody tr th {\n",
       "        vertical-align: top;\n",
       "    }\n",
       "\n",
       "    .dataframe thead th {\n",
       "        text-align: right;\n",
       "    }\n",
       "</style>\n",
       "<table border=\"1\" class=\"dataframe\">\n",
       "  <thead>\n",
       "    <tr style=\"text-align: right;\">\n",
       "      <th></th>\n",
       "      <th>zotero_item_key</th>\n",
       "      <th>bibliography</th>\n",
       "    </tr>\n",
       "  </thead>\n",
       "  <tbody>\n",
       "    <tr>\n",
       "      <th>0</th>\n",
       "      <td>MM95S3LQ</td>\n",
       "      <td>&lt;?xml version=\"1.0\"?&gt;\\n&lt;div class=\"csl-bib-bod...</td>\n",
       "    </tr>\n",
       "    <tr>\n",
       "      <th>1</th>\n",
       "      <td>AN5YI8EM</td>\n",
       "      <td>&lt;?xml version=\"1.0\"?&gt;\\n&lt;div class=\"csl-bib-bod...</td>\n",
       "    </tr>\n",
       "    <tr>\n",
       "      <th>2</th>\n",
       "      <td>UYS2PIFQ</td>\n",
       "      <td>&lt;?xml version=\"1.0\"?&gt;\\n&lt;div class=\"csl-bib-bod...</td>\n",
       "    </tr>\n",
       "    <tr>\n",
       "      <th>3</th>\n",
       "      <td>55Z2ZJDM</td>\n",
       "      <td>&lt;?xml version=\"1.0\"?&gt;\\n&lt;div class=\"csl-bib-bod...</td>\n",
       "    </tr>\n",
       "    <tr>\n",
       "      <th>4</th>\n",
       "      <td>GMC4REMY</td>\n",
       "      <td>&lt;?xml version=\"1.0\"?&gt;\\n&lt;div class=\"csl-bib-bod...</td>\n",
       "    </tr>\n",
       "    <tr>\n",
       "      <th>...</th>\n",
       "      <td>...</td>\n",
       "      <td>...</td>\n",
       "    </tr>\n",
       "    <tr>\n",
       "      <th>6948</th>\n",
       "      <td>NK4GPI3L</td>\n",
       "      <td>&lt;?xml version=\"1.0\"?&gt;\\n&lt;div class=\"csl-bib-bod...</td>\n",
       "    </tr>\n",
       "    <tr>\n",
       "      <th>6949</th>\n",
       "      <td>S97SSVR2</td>\n",
       "      <td>&lt;?xml version=\"1.0\"?&gt;\\n&lt;div class=\"csl-bib-bod...</td>\n",
       "    </tr>\n",
       "    <tr>\n",
       "      <th>6950</th>\n",
       "      <td>WJKS2Z6T</td>\n",
       "      <td>&lt;?xml version=\"1.0\"?&gt;\\n&lt;div class=\"csl-bib-bod...</td>\n",
       "    </tr>\n",
       "    <tr>\n",
       "      <th>6951</th>\n",
       "      <td>2LMKZRU3</td>\n",
       "      <td>&lt;?xml version=\"1.0\"?&gt;\\n&lt;div class=\"csl-bib-bod...</td>\n",
       "    </tr>\n",
       "    <tr>\n",
       "      <th>6952</th>\n",
       "      <td>YVIDFR8I</td>\n",
       "      <td>&lt;?xml version=\"1.0\"?&gt;\\n&lt;div class=\"csl-bib-bod...</td>\n",
       "    </tr>\n",
       "  </tbody>\n",
       "</table>\n",
       "<p>6953 rows × 2 columns</p>\n",
       "</div>"
      ],
      "text/plain": [
       "     zotero_item_key                                       bibliography\n",
       "0           MM95S3LQ  <?xml version=\"1.0\"?>\\n<div class=\"csl-bib-bod...\n",
       "1           AN5YI8EM  <?xml version=\"1.0\"?>\\n<div class=\"csl-bib-bod...\n",
       "2           UYS2PIFQ  <?xml version=\"1.0\"?>\\n<div class=\"csl-bib-bod...\n",
       "3           55Z2ZJDM  <?xml version=\"1.0\"?>\\n<div class=\"csl-bib-bod...\n",
       "4           GMC4REMY  <?xml version=\"1.0\"?>\\n<div class=\"csl-bib-bod...\n",
       "...              ...                                                ...\n",
       "6948        NK4GPI3L  <?xml version=\"1.0\"?>\\n<div class=\"csl-bib-bod...\n",
       "6949        S97SSVR2  <?xml version=\"1.0\"?>\\n<div class=\"csl-bib-bod...\n",
       "6950        WJKS2Z6T  <?xml version=\"1.0\"?>\\n<div class=\"csl-bib-bod...\n",
       "6951        2LMKZRU3  <?xml version=\"1.0\"?>\\n<div class=\"csl-bib-bod...\n",
       "6952        YVIDFR8I  <?xml version=\"1.0\"?>\\n<div class=\"csl-bib-bod...\n",
       "\n",
       "[6953 rows x 2 columns]"
      ]
     },
     "execution_count": 85,
     "metadata": {},
     "output_type": "execute_result"
    }
   ],
   "source": [
    "df_zotero_id = pd.read_csv('https://raw.githubusercontent.com/yusufaliozkan/zotero-intelligence-bibliography/main/zotero_citation_format.csv', index_col=False)\n",
    "df_zotero_id = df_zotero_id.drop(columns={'Unnamed: 0'})\n",
    "df_zotero_id = pd.concat([df_zotero_id, df_not_zotero_id]).reset_index(drop=True)\n",
    "df_zotero_id"
   ]
  },
  {
   "cell_type": "code",
   "execution_count": 86,
   "metadata": {},
   "outputs": [],
   "source": [
    "df_zotero_id.to_csv('zotero_citation_format.csv')"
   ]
  }
 ],
 "metadata": {
  "kernelspec": {
   "display_name": "Python 3.10.6 64-bit",
   "language": "python",
   "name": "python3"
  },
  "language_info": {
   "codemirror_mode": {
    "name": "ipython",
    "version": 3
   },
   "file_extension": ".py",
   "mimetype": "text/x-python",
   "name": "python",
   "nbconvert_exporter": "python",
   "pygments_lexer": "ipython3",
   "version": "3.10.6"
  },
  "vscode": {
   "interpreter": {
    "hash": "ad80e88e3d0f45253c4e09d27534efe22e9bb02b1c82d05b21d80e484bb90b14"
   }
  }
 },
 "nbformat": 4,
 "nbformat_minor": 2
}
