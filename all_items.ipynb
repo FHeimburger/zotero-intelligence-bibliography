{
 "cells": [
  {
   "attachments": {},
   "cell_type": "markdown",
   "metadata": {},
   "source": [
    "# Importing libraries"
   ]
  },
  {
   "cell_type": "code",
   "execution_count": 109,
   "metadata": {},
   "outputs": [],
   "source": [
    "from pyzotero import zotero\n",
    "import os\n",
    "import tweepy as tw\n",
    "import pandas as pd\n",
    "import datetime\n",
    "import json, sys\n",
    "from datetime import date, timedelta  \n",
    "import datetime\n",
    "import plotly.express as px\n",
    "import pycountry\n",
    "import re\n",
    "import pandas as pd\n",
    "import requests\n",
    "import time\n",
    "from datetime import datetime, timedelta"
   ]
  },
  {
   "cell_type": "code",
   "execution_count": 110,
   "metadata": {},
   "outputs": [
    {
     "data": {
      "text/plain": [
       "2"
      ]
     },
     "execution_count": 110,
     "metadata": {},
     "output_type": "execute_result"
    }
   ],
   "source": [
    "\"# All items in the Zotero Intelligence bibliography library\".index(\"All\")"
   ]
  },
  {
   "cell_type": "code",
   "execution_count": 111,
   "metadata": {},
   "outputs": [],
   "source": [
    "library_id = '2514686'\n",
    "library_type = 'group'\n",
    "api_key = '' # api_key is only needed for private groups and libraries\n",
    "zot = zotero.Zotero(library_id, library_type)\n"
   ]
  },
  {
   "attachments": {},
   "cell_type": "markdown",
   "metadata": {},
   "source": [
    "# All items in the Zotero Intelligence bibliography library"
   ]
  },
  {
   "cell_type": "code",
   "execution_count": 112,
   "metadata": {},
   "outputs": [],
   "source": [
    "items = zot.everything(zot.top())\n",
    "\n",
    "data3=[]\n",
    "columns3=['Title','Publication type', 'Link to publication', 'Abstract', 'Zotero link', 'Date published', 'FirstName2', 'Publisher', 'Journal', 'Date added', 'Col key', 'DOI']\n",
    "\n",
    "for item in items:\n",
    "    # Extracting various types of creators\n",
    "    authors = \"\"\n",
    "    if 'creators' in item['data']:\n",
    "        authors_info = item['data']['creators']\n",
    "        author_names = []\n",
    "        for author in authors_info:\n",
    "            creator_type = author.get('creatorType')\n",
    "            valid_types = ['author', 'contributor', 'editor', 'guest', 'podcaster', 'presenter', 'translator']\n",
    "            \n",
    "            if item['data']['itemType'] == 'bookSection' and creator_type == 'editor':\n",
    "                continue  # Skip adding 'editor' for Book chapters\n",
    "            \n",
    "            if creator_type in valid_types:\n",
    "                if 'firstName' in author and 'lastName' in author:\n",
    "                    author_names.append(author['firstName'] + ' ' + author['lastName'])\n",
    "                elif 'name' in author:\n",
    "                    author_names.append(author['name'])\n",
    "                \n",
    "        authors = ', '.join(author_names)\n",
    "        \n",
    "    data3.append((\n",
    "        item['data']['title'], \n",
    "        item['data']['itemType'], \n",
    "        item['data']['url'], \n",
    "        item['data']['abstractNote'], \n",
    "        item['links']['alternate']['href'],\n",
    "        item['data'].get('date'),\n",
    "        authors,  # Add the concatenated authors string\n",
    "        item['data'].get('publisher'),\n",
    "        item['data'].get('publicationTitle'),\n",
    "        item['data']['dateAdded'],\n",
    "        item['data']['collections'],\n",
    "        item['data'].get('DOI')\n",
    "        ))\n",
    "# pd.set_option('display.max_colwidth', None)\n",
    "\n",
    "df = pd.DataFrame(data3, columns=columns3)\n",
    "\n",
    "mapping_types = {\n",
    "    'thesis': 'Thesis',\n",
    "    'journalArticle': 'Journal article',\n",
    "    'book': 'Book',\n",
    "    'bookSection': 'Book chapter',\n",
    "    'blogPost': 'Blog post',\n",
    "    'videoRecording': 'Video',\n",
    "    'podcast': 'Podcast',\n",
    "    'magazineArticle': 'Magazine article',\n",
    "    'webpage': 'Webpage',\n",
    "    'newspaperArticle': 'Newspaper article',\n",
    "    'report': 'Report',\n",
    "    'forumPost': 'Forum post',\n",
    "    'manuscript': 'Manuscript',\n",
    "    'document': 'Document',\n",
    "    'conferencePaper': 'Conference paper',\n",
    "    'film': 'Film',\n",
    "    'presentation': 'Presentation',\n",
    "    'audioRecording':'Podcast',\n",
    "    'preprint':'Preprint',\n",
    "    'hearing':'Hearing'\n",
    "}\n",
    "df['Publication type'] = df['Publication type'].replace(mapping_types)\n",
    "\n",
    "mapping_publisher = {\n",
    "    'Taylor & Francis Group': 'Taylor and Francis',\n",
    "    'Taylor and Francis': 'Taylor and Francis',\n",
    "    'Taylor & Francis': 'Taylor and Francis',\n",
    "    'Routledge': 'Routledge',\n",
    "    'Routledge Handbooks Online': 'Routledge',\n",
    "    'Praeger Security International': 'Praeger',\n",
    "    'Praeger': 'Praeger'\n",
    "}\n",
    "df['Publisher'] = df['Publisher'].replace(mapping_publisher)\n",
    "\n",
    "# df['Publisher'] = df['Publisher'].replace(['Taylor & Francis Group', 'Taylor and Francis', 'Taylor & Francis'], 'Taylor and Francis')\n",
    "# df['Publisher'] = df['Publisher'].replace(['Routledge', 'Routledge Handbooks Online'], 'Routledge')\n",
    "# df['Publisher'] = df['Publisher'].replace(['Praeger Security International', 'Praeger'], 'Praeger')\n",
    "\n",
    "mapping_journal = {\n",
    "    'International Journal of Intelligence and Counterintelligence': 'Intl Journal of Intelligence and Counterintelligence',\n",
    "    'International Journal of Intelligence and CounterIntelligence': 'Intl Journal of Intelligence and Counterintelligence',\n",
    "    'International Journal of Intelligence and Counter Intelligence': 'Intl Journal of Intelligence and Counterintelligence',\n",
    "    'Intelligence and national security': 'Intelligence and National Security',\n",
    "    'Intelligence and National Security': 'Intelligence and National Security',\n",
    "    'Intelligence & National Security': 'Intelligence and National Security'\n",
    "}\n",
    "\n",
    "df['Journal'] = df['Journal'].replace(mapping_journal)\n",
    "\n",
    "# df['Journal'] = df['Journal'].replace(['International Journal of Intelligence and Counterintelligence', 'International Journal of Intelligence and CounterIntelligence'], 'Intl Journal of Intelligence and Counterintelligence')\n",
    "# df['Journal'] = df['Journal'].replace(['Intelligence and national security', 'Intelligence and National Security', 'Intelligence & National Security'], 'Intelligence and National Security')"
   ]
  },
  {
   "cell_type": "code",
   "execution_count": 113,
   "metadata": {},
   "outputs": [
    {
     "data": {
      "text/html": [
       "<div>\n",
       "<style scoped>\n",
       "    .dataframe tbody tr th:only-of-type {\n",
       "        vertical-align: middle;\n",
       "    }\n",
       "\n",
       "    .dataframe tbody tr th {\n",
       "        vertical-align: top;\n",
       "    }\n",
       "\n",
       "    .dataframe thead th {\n",
       "        text-align: right;\n",
       "    }\n",
       "</style>\n",
       "<table border=\"1\" class=\"dataframe\">\n",
       "  <thead>\n",
       "    <tr style=\"text-align: right;\">\n",
       "      <th></th>\n",
       "      <th>Title</th>\n",
       "      <th>Publication type</th>\n",
       "      <th>Link to publication</th>\n",
       "      <th>Abstract</th>\n",
       "      <th>Zotero link</th>\n",
       "      <th>Date published</th>\n",
       "      <th>FirstName2</th>\n",
       "      <th>Publisher</th>\n",
       "      <th>Journal</th>\n",
       "      <th>Date added</th>\n",
       "      <th>Col key</th>\n",
       "      <th>DOI</th>\n",
       "    </tr>\n",
       "  </thead>\n",
       "  <tbody>\n",
       "    <tr>\n",
       "      <th>329</th>\n",
       "      <td>Intelligence Practice and Democratic Oversight</td>\n",
       "      <td>Report</td>\n",
       "      <td>https://www.dcaf.ch/intelligence-practice-and-...</td>\n",
       "      <td></td>\n",
       "      <td>https://www.zotero.org/groups/intelligence_bib...</td>\n",
       "      <td>2003-07-01</td>\n",
       "      <td>Geneva Centre for Security Sector Governance</td>\n",
       "      <td>None</td>\n",
       "      <td>None</td>\n",
       "      <td>2024-02-19T11:03:09Z</td>\n",
       "      <td>[DVEM4H4W]</td>\n",
       "      <td>None</td>\n",
       "    </tr>\n",
       "  </tbody>\n",
       "</table>\n",
       "</div>"
      ],
      "text/plain": [
       "                                              Title Publication type  \\\n",
       "329  Intelligence Practice and Democratic Oversight           Report   \n",
       "\n",
       "                                   Link to publication Abstract  \\\n",
       "329  https://www.dcaf.ch/intelligence-practice-and-...            \n",
       "\n",
       "                                           Zotero link Date published  \\\n",
       "329  https://www.zotero.org/groups/intelligence_bib...     2003-07-01   \n",
       "\n",
       "                                       FirstName2 Publisher Journal  \\\n",
       "329  Geneva Centre for Security Sector Governance      None    None   \n",
       "\n",
       "               Date added     Col key   DOI  \n",
       "329  2024-02-19T11:03:09Z  [DVEM4H4W]  None  "
      ]
     },
     "execution_count": 113,
     "metadata": {},
     "output_type": "execute_result"
    }
   ],
   "source": [
    "df_test = df[df['Title']=='Intelligence Practice and Democratic Oversight']\n",
    "df_test"
   ]
  },
  {
   "cell_type": "code",
   "execution_count": 114,
   "metadata": {},
   "outputs": [],
   "source": [
    "# items = zot.everything(zot.top())\n",
    "\n",
    "# data3=[]\n",
    "# columns3=['Title','Publication type', 'Link to publication', 'Abstract', 'Zotero link', 'Date published', 'FirstName2', 'Publisher', 'Journal', 'Date added', 'Col key']\n",
    "\n",
    "# for item in items:\n",
    "#     # Extracting various types of creators\n",
    "#     authors = \"\"\n",
    "#     if 'creators' in item['data']:\n",
    "#         authors_info = item['data']['creators']\n",
    "#         author_names = []\n",
    "#         for author in authors_info:\n",
    "#             creator_type = author.get('creatorType')\n",
    "#             valid_types = ['author', 'contributor', 'editor', 'guest', 'podcaster']\n",
    "#             if creator_type in valid_types:  # Include all identified creator types\n",
    "#                 if 'firstName' in author and 'lastName' in author:\n",
    "#                     author_names.append(author['firstName'] + ' ' + author['lastName'])\n",
    "#                 elif 'name' in author:\n",
    "#                     author_names.append(author['name'])  # Handling cases where 'firstName' and 'lastName' are absent\n",
    "                \n",
    "#         authors = ', '.join(author_names)\n",
    "        \n",
    "#     data3.append((\n",
    "#         item['data']['title'], \n",
    "#         item['data']['itemType'], \n",
    "#         item['data']['url'], \n",
    "#         item['data']['abstractNote'], \n",
    "#         item['links']['alternate']['href'],\n",
    "#         item['data'].get('date'),\n",
    "#         authors,  # Add the concatenated authors string\n",
    "#         item['data'].get('publisher'),\n",
    "#         item['data'].get('publicationTitle'),\n",
    "#         item['data']['dateAdded'],\n",
    "#         item['data']['collections']\n",
    "#         )) \n",
    "# # pd.set_option('display.max_colwidth', None)\n",
    "\n",
    "# df = pd.DataFrame(data3, columns=columns3)\n",
    "\n",
    "# mapping_types = {\n",
    "#     'thesis': 'Thesis',\n",
    "#     'journalArticle': 'Journal article',\n",
    "#     'book': 'Book',\n",
    "#     'bookSection': 'Book chapter',\n",
    "#     'blogPost': 'Blog post',\n",
    "#     'videoRecording': 'Video',\n",
    "#     'podcast': 'Podcast',\n",
    "#     'magazineArticle': 'Magazine article',\n",
    "#     'webpage': 'Webpage',\n",
    "#     'newspaperArticle': 'Newspaper article',\n",
    "#     'report': 'Report',\n",
    "#     'forumPost': 'Forum post',\n",
    "#     'manuscript': 'Manuscript',\n",
    "#     'document': 'Document',\n",
    "#     'conferencePaper': 'Conference paper',\n",
    "#     'film': 'Film',\n",
    "#     'presentation': 'Presentation',\n",
    "#     'audioRecording':'Podcast'\n",
    "# }\n",
    "# df['Publication type'] = df['Publication type'].replace(mapping_types)\n",
    "\n",
    "# mapping_publisher = {\n",
    "#     'Taylor & Francis Group': 'Taylor and Francis',\n",
    "#     'Taylor and Francis': 'Taylor and Francis',\n",
    "#     'Taylor & Francis': 'Taylor and Francis',\n",
    "#     'Routledge': 'Routledge',\n",
    "#     'Routledge Handbooks Online': 'Routledge',\n",
    "#     'Praeger Security International': 'Praeger',\n",
    "#     'Praeger': 'Praeger'\n",
    "# }\n",
    "# df['Publisher'] = df['Publisher'].replace(mapping_publisher)\n",
    "\n",
    "# # df['Publisher'] = df['Publisher'].replace(['Taylor & Francis Group', 'Taylor and Francis', 'Taylor & Francis'], 'Taylor and Francis')\n",
    "# # df['Publisher'] = df['Publisher'].replace(['Routledge', 'Routledge Handbooks Online'], 'Routledge')\n",
    "# # df['Publisher'] = df['Publisher'].replace(['Praeger Security International', 'Praeger'], 'Praeger')\n",
    "\n",
    "# mapping_journal = {\n",
    "#     'International Journal of Intelligence and Counterintelligence': 'Intl Journal of Intelligence and Counterintelligence',\n",
    "#     'International Journal of Intelligence and CounterIntelligence': 'Intl Journal of Intelligence and Counterintelligence',\n",
    "#     'Intelligence and national security': 'Intelligence and National Security',\n",
    "#     'Intelligence and National Security': 'Intelligence and National Security',\n",
    "#     'Intelligence & National Security': 'Intelligence and National Security'\n",
    "# }\n",
    "\n",
    "# df['Journal'] = df['Journal'].replace(mapping_journal)\n",
    "\n",
    "# # df['Journal'] = df['Journal'].replace(['International Journal of Intelligence and Counterintelligence', 'International Journal of Intelligence and CounterIntelligence'], 'Intl Journal of Intelligence and Counterintelligence')\n",
    "# # df['Journal'] = df['Journal'].replace(['Intelligence and national security', 'Intelligence and National Security', 'Intelligence & National Security'], 'Intelligence and National Security')"
   ]
  },
  {
   "cell_type": "code",
   "execution_count": 115,
   "metadata": {},
   "outputs": [],
   "source": [
    "def zotero_collections2(library_id, library_type):\n",
    "    collections = zot.collections()\n",
    "    data = [(item['data']['key'], item['data']['name'], item['meta']['numItems'], item['links']['alternate']['href']) for item in collections]\n",
    "    df_collections = pd.DataFrame(data, columns=['Key', 'Name', 'Number', 'Link'])\n",
    "    return df_collections\n",
    "df_collections_2 = zotero_collections2(library_id, library_type)"
   ]
  },
  {
   "cell_type": "code",
   "execution_count": 116,
   "metadata": {},
   "outputs": [],
   "source": [
    "def duplicate_rows_by_col_key(df, df_collections):\n",
    "    # Duplicate rows based on 'Col key'\n",
    "    duplicated_rows = []\n",
    "    for index, row in df.iterrows():\n",
    "        if isinstance(row['Col key'], list):\n",
    "            for key in row['Col key']:\n",
    "                new_row = row.copy()\n",
    "                collection_info = df_collections[df_collections['Key'] == key]\n",
    "                if not collection_info.empty:\n",
    "                    new_row['Collection_Key'] = key\n",
    "                    new_row['Collection_Name'] = collection_info.iloc[0]['Name']\n",
    "                    new_row['Collection_Link'] = collection_info.iloc[0]['Link']\n",
    "                    duplicated_rows.append(new_row)\n",
    "        else:\n",
    "            key = row['Col key']\n",
    "            new_row = row.copy()\n",
    "            collection_info = df_collections[df_collections['Key'] == key]\n",
    "            if not collection_info.empty:\n",
    "                new_row['Collection_Key'] = key\n",
    "                new_row['Collection_Name'] = collection_info.iloc[0]['Name']\n",
    "                new_row['Collection_Link'] = collection_info.iloc[0]['Link']\n",
    "                duplicated_rows.append(new_row)\n",
    "\n",
    "    # Create a new DataFrame with duplicated rows\n",
    "    duplicated_df = pd.DataFrame(duplicated_rows)\n",
    "\n",
    "    return duplicated_df\n",
    "\n",
    "# Duplicating rows based on 'Col key' and collections information\n",
    "duplicated_df = duplicate_rows_by_col_key(df, df_collections_2)"
   ]
  },
  {
   "cell_type": "code",
   "execution_count": 117,
   "metadata": {},
   "outputs": [],
   "source": [
    "# day_allitems = datetime.date.today().isoformat()"
   ]
  },
  {
   "cell_type": "code",
   "execution_count": 118,
   "metadata": {},
   "outputs": [],
   "source": [
    "# df_fa = df['FirstName2']\n",
    "# df_fa = pd.DataFrame(df_fa.tolist())\n",
    "# df_fa = df_fa[0]\n",
    "# df_fa = df_fa.apply(lambda x: {} if pd.isna(x) else x)\n",
    "# df_new = pd.json_normalize(df_fa, errors='ignore') \n",
    "# df = pd.concat([df, df_new], axis=1)\n",
    "# df['firstName'] = df['firstName'].fillna('null')\n",
    "# df['lastName'] = df['lastName'].fillna('null')"
   ]
  },
  {
   "cell_type": "code",
   "execution_count": 119,
   "metadata": {},
   "outputs": [],
   "source": [
    "df.to_csv('all_items.csv')\n",
    "duplicated_df.to_csv('all_items_duplicated.csv')"
   ]
  },
  {
   "cell_type": "code",
   "execution_count": 120,
   "metadata": {},
   "outputs": [],
   "source": [
    "import psycopg2\n",
    "from sqlalchemy import create_engine\n",
    "import psycopg2.extras as extras"
   ]
  },
  {
   "attachments": {},
   "cell_type": "markdown",
   "metadata": {},
   "source": [
    "# Countries "
   ]
  },
  {
   "cell_type": "code",
   "execution_count": 121,
   "metadata": {},
   "outputs": [],
   "source": [
    "# Read the csv file into a pandas dataframe\n",
    "df = pd.read_csv('https://raw.githubusercontent.com/YusufAliOzkan/zotero-intelligence-bibliography/main/all_items.csv')\n",
    "\n",
    "# Dictionary to map non-proper country names to their proper names\n",
    "country_map = {\n",
    "    'british': 'UK',\n",
    "    'great britain': 'UK',\n",
    "    'UK' : 'UK', \n",
    "    'america' : 'United States',\n",
    "    'United States of America' : 'United States',\n",
    "    'Soviet Union': 'Russia', \n",
    "    'american' : 'United States',\n",
    "    'United States' : 'United States',\n",
    "    'russian' : 'Russia'\n",
    "    # Add more mappings as needed\n",
    "}\n",
    "\n",
    "# Find the country names in the \"title\" column of the dataframe\n",
    "found_countries = {}\n",
    "for i, row in df.iterrows():\n",
    "    title = str(row['Title']).lower()\n",
    "    for country in pycountry.countries:\n",
    "        name = country.name.lower()\n",
    "        if name in title or (name + 's') in title:  # Check for singular and plural forms of country names\n",
    "            proper_name = country.name\n",
    "            found_countries[proper_name] = found_countries.get(proper_name, 0) + 1\n",
    "    for non_proper, proper in country_map.items():\n",
    "        if non_proper in title:\n",
    "            found_countries[proper] = found_countries.get(proper, 0) + title.count(non_proper)\n",
    "\n",
    "# Create a new dataframe containing the found countries and their counts\n",
    "df_countries = pd.DataFrame({'Country': list(found_countries.keys()), 'Count': list(found_countries.values())})"
   ]
  },
  {
   "cell_type": "code",
   "execution_count": 122,
   "metadata": {},
   "outputs": [
    {
     "data": {
      "application/vnd.plotly.v1+json": {
       "config": {
        "plotlyServerURL": "https://plot.ly"
       },
       "data": [
        {
         "coloraxis": "coloraxis",
         "geo": "geo",
         "hovertemplate": "Country=%{location}<br>Count=%{z}<extra></extra>",
         "locationmode": "country names",
         "locations": [
          "Russia",
          "United States",
          "Japan",
          "Germany",
          "UK",
          "Spain",
          "Oman",
          "Romania",
          "Slovakia",
          "Israel",
          "Ukraine",
          "Croatia",
          "China",
          "Indonesia",
          "Canada",
          "Australia",
          "India",
          "Afghanistan",
          "Norway",
          "South Africa",
          "Cuba",
          "Lebanon",
          "Ireland",
          "Estonia",
          "Guatemala",
          "Iraq",
          "Kuwait",
          "Chile",
          "Thailand",
          "United Kingdom",
          "Lithuania",
          "Mexico",
          "Netherlands",
          "New Zealand",
          "Egypt",
          "Albania",
          "Congo",
          "Libya",
          "Kenya",
          "Bangladesh",
          "Jordan",
          "Bulgaria",
          "Mali",
          "Sweden",
          "Costa Rica",
          "France",
          "Switzerland",
          "Latvia",
          "Brazil",
          "Poland",
          "Pakistan",
          "Austria",
          "Denmark",
          "El Salvador",
          "Turkey",
          "Bosnia and Herzegovina",
          "Hungary",
          "Niger",
          "Nigeria",
          "Italy",
          "Hong Kong",
          "Uganda",
          "Sudan",
          "Haiti",
          "Cyprus",
          "Saudi Arabia",
          "Cambodia",
          "Algeria",
          "Singapore",
          "Yemen",
          "Zimbabwe",
          "Malaysia",
          "Greece",
          "Tajikistan",
          "Myanmar",
          "Sri Lanka",
          "Kazakhstan",
          "Tunisia",
          "Serbia",
          "Ghana",
          "Colombia",
          "Peru",
          "Namibia",
          "Mongolia",
          "Slovenia",
          "Portugal",
          "Nicaragua",
          "Argentina",
          "Ecuador",
          "Ethiopia",
          "Dominica",
          "Morocco",
          "Guinea",
          "Georgia",
          "Gibraltar",
          "Finland",
          "Philippines",
          "Belgium",
          "Mozambique",
          "Rwanda",
          "Antarctica",
          "South Sudan",
          "Angola",
          "North Macedonia",
          "Dominican Republic",
          "Somalia",
          "United Arab Emirates",
          "Uruguay",
          "Nepal"
         ],
         "name": "",
         "type": "choropleth",
         "z": [
          129,
          633,
          107,
          74,
          446,
          13,
          64,
          25,
          12,
          140,
          103,
          1,
          69,
          9,
          64,
          69,
          51,
          17,
          10,
          23,
          37,
          9,
          34,
          1,
          3,
          64,
          2,
          8,
          5,
          19,
          3,
          7,
          11,
          18,
          26,
          10,
          6,
          6,
          2,
          15,
          6,
          4,
          10,
          11,
          1,
          45,
          6,
          4,
          28,
          10,
          15,
          10,
          6,
          1,
          16,
          4,
          3,
          3,
          3,
          12,
          4,
          3,
          5,
          2,
          10,
          4,
          2,
          6,
          6,
          5,
          1,
          3,
          7,
          1,
          2,
          2,
          1,
          3,
          4,
          3,
          8,
          4,
          1,
          1,
          1,
          3,
          1,
          5,
          2,
          1,
          2,
          3,
          2,
          2,
          3,
          5,
          2,
          6,
          1,
          1,
          1,
          3,
          1,
          1,
          1,
          1,
          1,
          1,
          1
         ]
        }
       ],
       "layout": {
        "coloraxis": {
         "colorbar": {
          "title": {
           "text": "Count"
          }
         },
         "colorscale": [
          [
           0,
           "#440154"
          ],
          [
           0.1111111111111111,
           "#482878"
          ],
          [
           0.2222222222222222,
           "#3e4989"
          ],
          [
           0.3333333333333333,
           "#31688e"
          ],
          [
           0.4444444444444444,
           "#26828e"
          ],
          [
           0.5555555555555556,
           "#1f9e89"
          ],
          [
           0.6666666666666666,
           "#35b779"
          ],
          [
           0.7777777777777778,
           "#6ece58"
          ],
          [
           0.8888888888888888,
           "#b5de2b"
          ],
          [
           1,
           "#fde725"
          ]
         ]
        },
        "geo": {
         "center": {},
         "domain": {
          "x": [
           0,
           1
          ],
          "y": [
           0,
           1
          ]
         }
        },
        "height": 700,
        "legend": {
         "tracegroupgap": 0
        },
        "template": {
         "data": {
          "bar": [
           {
            "error_x": {
             "color": "#2a3f5f"
            },
            "error_y": {
             "color": "#2a3f5f"
            },
            "marker": {
             "line": {
              "color": "#E5ECF6",
              "width": 0.5
             },
             "pattern": {
              "fillmode": "overlay",
              "size": 10,
              "solidity": 0.2
             }
            },
            "type": "bar"
           }
          ],
          "barpolar": [
           {
            "marker": {
             "line": {
              "color": "#E5ECF6",
              "width": 0.5
             },
             "pattern": {
              "fillmode": "overlay",
              "size": 10,
              "solidity": 0.2
             }
            },
            "type": "barpolar"
           }
          ],
          "carpet": [
           {
            "aaxis": {
             "endlinecolor": "#2a3f5f",
             "gridcolor": "white",
             "linecolor": "white",
             "minorgridcolor": "white",
             "startlinecolor": "#2a3f5f"
            },
            "baxis": {
             "endlinecolor": "#2a3f5f",
             "gridcolor": "white",
             "linecolor": "white",
             "minorgridcolor": "white",
             "startlinecolor": "#2a3f5f"
            },
            "type": "carpet"
           }
          ],
          "choropleth": [
           {
            "colorbar": {
             "outlinewidth": 0,
             "ticks": ""
            },
            "type": "choropleth"
           }
          ],
          "contour": [
           {
            "colorbar": {
             "outlinewidth": 0,
             "ticks": ""
            },
            "colorscale": [
             [
              0,
              "#0d0887"
             ],
             [
              0.1111111111111111,
              "#46039f"
             ],
             [
              0.2222222222222222,
              "#7201a8"
             ],
             [
              0.3333333333333333,
              "#9c179e"
             ],
             [
              0.4444444444444444,
              "#bd3786"
             ],
             [
              0.5555555555555556,
              "#d8576b"
             ],
             [
              0.6666666666666666,
              "#ed7953"
             ],
             [
              0.7777777777777778,
              "#fb9f3a"
             ],
             [
              0.8888888888888888,
              "#fdca26"
             ],
             [
              1,
              "#f0f921"
             ]
            ],
            "type": "contour"
           }
          ],
          "contourcarpet": [
           {
            "colorbar": {
             "outlinewidth": 0,
             "ticks": ""
            },
            "type": "contourcarpet"
           }
          ],
          "heatmap": [
           {
            "colorbar": {
             "outlinewidth": 0,
             "ticks": ""
            },
            "colorscale": [
             [
              0,
              "#0d0887"
             ],
             [
              0.1111111111111111,
              "#46039f"
             ],
             [
              0.2222222222222222,
              "#7201a8"
             ],
             [
              0.3333333333333333,
              "#9c179e"
             ],
             [
              0.4444444444444444,
              "#bd3786"
             ],
             [
              0.5555555555555556,
              "#d8576b"
             ],
             [
              0.6666666666666666,
              "#ed7953"
             ],
             [
              0.7777777777777778,
              "#fb9f3a"
             ],
             [
              0.8888888888888888,
              "#fdca26"
             ],
             [
              1,
              "#f0f921"
             ]
            ],
            "type": "heatmap"
           }
          ],
          "heatmapgl": [
           {
            "colorbar": {
             "outlinewidth": 0,
             "ticks": ""
            },
            "colorscale": [
             [
              0,
              "#0d0887"
             ],
             [
              0.1111111111111111,
              "#46039f"
             ],
             [
              0.2222222222222222,
              "#7201a8"
             ],
             [
              0.3333333333333333,
              "#9c179e"
             ],
             [
              0.4444444444444444,
              "#bd3786"
             ],
             [
              0.5555555555555556,
              "#d8576b"
             ],
             [
              0.6666666666666666,
              "#ed7953"
             ],
             [
              0.7777777777777778,
              "#fb9f3a"
             ],
             [
              0.8888888888888888,
              "#fdca26"
             ],
             [
              1,
              "#f0f921"
             ]
            ],
            "type": "heatmapgl"
           }
          ],
          "histogram": [
           {
            "marker": {
             "pattern": {
              "fillmode": "overlay",
              "size": 10,
              "solidity": 0.2
             }
            },
            "type": "histogram"
           }
          ],
          "histogram2d": [
           {
            "colorbar": {
             "outlinewidth": 0,
             "ticks": ""
            },
            "colorscale": [
             [
              0,
              "#0d0887"
             ],
             [
              0.1111111111111111,
              "#46039f"
             ],
             [
              0.2222222222222222,
              "#7201a8"
             ],
             [
              0.3333333333333333,
              "#9c179e"
             ],
             [
              0.4444444444444444,
              "#bd3786"
             ],
             [
              0.5555555555555556,
              "#d8576b"
             ],
             [
              0.6666666666666666,
              "#ed7953"
             ],
             [
              0.7777777777777778,
              "#fb9f3a"
             ],
             [
              0.8888888888888888,
              "#fdca26"
             ],
             [
              1,
              "#f0f921"
             ]
            ],
            "type": "histogram2d"
           }
          ],
          "histogram2dcontour": [
           {
            "colorbar": {
             "outlinewidth": 0,
             "ticks": ""
            },
            "colorscale": [
             [
              0,
              "#0d0887"
             ],
             [
              0.1111111111111111,
              "#46039f"
             ],
             [
              0.2222222222222222,
              "#7201a8"
             ],
             [
              0.3333333333333333,
              "#9c179e"
             ],
             [
              0.4444444444444444,
              "#bd3786"
             ],
             [
              0.5555555555555556,
              "#d8576b"
             ],
             [
              0.6666666666666666,
              "#ed7953"
             ],
             [
              0.7777777777777778,
              "#fb9f3a"
             ],
             [
              0.8888888888888888,
              "#fdca26"
             ],
             [
              1,
              "#f0f921"
             ]
            ],
            "type": "histogram2dcontour"
           }
          ],
          "mesh3d": [
           {
            "colorbar": {
             "outlinewidth": 0,
             "ticks": ""
            },
            "type": "mesh3d"
           }
          ],
          "parcoords": [
           {
            "line": {
             "colorbar": {
              "outlinewidth": 0,
              "ticks": ""
             }
            },
            "type": "parcoords"
           }
          ],
          "pie": [
           {
            "automargin": true,
            "type": "pie"
           }
          ],
          "scatter": [
           {
            "fillpattern": {
             "fillmode": "overlay",
             "size": 10,
             "solidity": 0.2
            },
            "type": "scatter"
           }
          ],
          "scatter3d": [
           {
            "line": {
             "colorbar": {
              "outlinewidth": 0,
              "ticks": ""
             }
            },
            "marker": {
             "colorbar": {
              "outlinewidth": 0,
              "ticks": ""
             }
            },
            "type": "scatter3d"
           }
          ],
          "scattercarpet": [
           {
            "marker": {
             "colorbar": {
              "outlinewidth": 0,
              "ticks": ""
             }
            },
            "type": "scattercarpet"
           }
          ],
          "scattergeo": [
           {
            "marker": {
             "colorbar": {
              "outlinewidth": 0,
              "ticks": ""
             }
            },
            "type": "scattergeo"
           }
          ],
          "scattergl": [
           {
            "marker": {
             "colorbar": {
              "outlinewidth": 0,
              "ticks": ""
             }
            },
            "type": "scattergl"
           }
          ],
          "scattermapbox": [
           {
            "marker": {
             "colorbar": {
              "outlinewidth": 0,
              "ticks": ""
             }
            },
            "type": "scattermapbox"
           }
          ],
          "scatterpolar": [
           {
            "marker": {
             "colorbar": {
              "outlinewidth": 0,
              "ticks": ""
             }
            },
            "type": "scatterpolar"
           }
          ],
          "scatterpolargl": [
           {
            "marker": {
             "colorbar": {
              "outlinewidth": 0,
              "ticks": ""
             }
            },
            "type": "scatterpolargl"
           }
          ],
          "scatterternary": [
           {
            "marker": {
             "colorbar": {
              "outlinewidth": 0,
              "ticks": ""
             }
            },
            "type": "scatterternary"
           }
          ],
          "surface": [
           {
            "colorbar": {
             "outlinewidth": 0,
             "ticks": ""
            },
            "colorscale": [
             [
              0,
              "#0d0887"
             ],
             [
              0.1111111111111111,
              "#46039f"
             ],
             [
              0.2222222222222222,
              "#7201a8"
             ],
             [
              0.3333333333333333,
              "#9c179e"
             ],
             [
              0.4444444444444444,
              "#bd3786"
             ],
             [
              0.5555555555555556,
              "#d8576b"
             ],
             [
              0.6666666666666666,
              "#ed7953"
             ],
             [
              0.7777777777777778,
              "#fb9f3a"
             ],
             [
              0.8888888888888888,
              "#fdca26"
             ],
             [
              1,
              "#f0f921"
             ]
            ],
            "type": "surface"
           }
          ],
          "table": [
           {
            "cells": {
             "fill": {
              "color": "#EBF0F8"
             },
             "line": {
              "color": "white"
             }
            },
            "header": {
             "fill": {
              "color": "#C8D4E3"
             },
             "line": {
              "color": "white"
             }
            },
            "type": "table"
           }
          ]
         },
         "layout": {
          "annotationdefaults": {
           "arrowcolor": "#2a3f5f",
           "arrowhead": 0,
           "arrowwidth": 1
          },
          "autotypenumbers": "strict",
          "coloraxis": {
           "colorbar": {
            "outlinewidth": 0,
            "ticks": ""
           }
          },
          "colorscale": {
           "diverging": [
            [
             0,
             "#8e0152"
            ],
            [
             0.1,
             "#c51b7d"
            ],
            [
             0.2,
             "#de77ae"
            ],
            [
             0.3,
             "#f1b6da"
            ],
            [
             0.4,
             "#fde0ef"
            ],
            [
             0.5,
             "#f7f7f7"
            ],
            [
             0.6,
             "#e6f5d0"
            ],
            [
             0.7,
             "#b8e186"
            ],
            [
             0.8,
             "#7fbc41"
            ],
            [
             0.9,
             "#4d9221"
            ],
            [
             1,
             "#276419"
            ]
           ],
           "sequential": [
            [
             0,
             "#0d0887"
            ],
            [
             0.1111111111111111,
             "#46039f"
            ],
            [
             0.2222222222222222,
             "#7201a8"
            ],
            [
             0.3333333333333333,
             "#9c179e"
            ],
            [
             0.4444444444444444,
             "#bd3786"
            ],
            [
             0.5555555555555556,
             "#d8576b"
            ],
            [
             0.6666666666666666,
             "#ed7953"
            ],
            [
             0.7777777777777778,
             "#fb9f3a"
            ],
            [
             0.8888888888888888,
             "#fdca26"
            ],
            [
             1,
             "#f0f921"
            ]
           ],
           "sequentialminus": [
            [
             0,
             "#0d0887"
            ],
            [
             0.1111111111111111,
             "#46039f"
            ],
            [
             0.2222222222222222,
             "#7201a8"
            ],
            [
             0.3333333333333333,
             "#9c179e"
            ],
            [
             0.4444444444444444,
             "#bd3786"
            ],
            [
             0.5555555555555556,
             "#d8576b"
            ],
            [
             0.6666666666666666,
             "#ed7953"
            ],
            [
             0.7777777777777778,
             "#fb9f3a"
            ],
            [
             0.8888888888888888,
             "#fdca26"
            ],
            [
             1,
             "#f0f921"
            ]
           ]
          },
          "colorway": [
           "#636efa",
           "#EF553B",
           "#00cc96",
           "#ab63fa",
           "#FFA15A",
           "#19d3f3",
           "#FF6692",
           "#B6E880",
           "#FF97FF",
           "#FECB52"
          ],
          "font": {
           "color": "#2a3f5f"
          },
          "geo": {
           "bgcolor": "white",
           "lakecolor": "white",
           "landcolor": "#E5ECF6",
           "showlakes": true,
           "showland": true,
           "subunitcolor": "white"
          },
          "hoverlabel": {
           "align": "left"
          },
          "hovermode": "closest",
          "mapbox": {
           "style": "light"
          },
          "paper_bgcolor": "white",
          "plot_bgcolor": "#E5ECF6",
          "polar": {
           "angularaxis": {
            "gridcolor": "white",
            "linecolor": "white",
            "ticks": ""
           },
           "bgcolor": "#E5ECF6",
           "radialaxis": {
            "gridcolor": "white",
            "linecolor": "white",
            "ticks": ""
           }
          },
          "scene": {
           "xaxis": {
            "backgroundcolor": "#E5ECF6",
            "gridcolor": "white",
            "gridwidth": 2,
            "linecolor": "white",
            "showbackground": true,
            "ticks": "",
            "zerolinecolor": "white"
           },
           "yaxis": {
            "backgroundcolor": "#E5ECF6",
            "gridcolor": "white",
            "gridwidth": 2,
            "linecolor": "white",
            "showbackground": true,
            "ticks": "",
            "zerolinecolor": "white"
           },
           "zaxis": {
            "backgroundcolor": "#E5ECF6",
            "gridcolor": "white",
            "gridwidth": 2,
            "linecolor": "white",
            "showbackground": true,
            "ticks": "",
            "zerolinecolor": "white"
           }
          },
          "shapedefaults": {
           "line": {
            "color": "#2a3f5f"
           }
          },
          "ternary": {
           "aaxis": {
            "gridcolor": "white",
            "linecolor": "white",
            "ticks": ""
           },
           "baxis": {
            "gridcolor": "white",
            "linecolor": "white",
            "ticks": ""
           },
           "bgcolor": "#E5ECF6",
           "caxis": {
            "gridcolor": "white",
            "linecolor": "white",
            "ticks": ""
           }
          },
          "title": {
           "x": 0.05
          },
          "xaxis": {
           "automargin": true,
           "gridcolor": "white",
           "linecolor": "white",
           "ticks": "",
           "title": {
            "standoff": 15
           },
           "zerolinecolor": "white",
           "zerolinewidth": 2
          },
          "yaxis": {
           "automargin": true,
           "gridcolor": "white",
           "linecolor": "white",
           "ticks": "",
           "title": {
            "standoff": 15
           },
           "zerolinecolor": "white",
           "zerolinewidth": 2
          }
         }
        },
        "title": {
         "text": "Country mentions in titles"
        },
        "width": 1100
       }
      }
     },
     "metadata": {},
     "output_type": "display_data"
    }
   ],
   "source": [
    "fig = px.choropleth(df_countries, locations='Country', locationmode='country names', color='Count', \n",
    "                    title='Country mentions in titles', color_continuous_scale='Viridis',\n",
    "                    width=1100, height=700) # Adjust the size of the map here\n",
    "\n",
    "# Display the map\n",
    "fig.show()"
   ]
  },
  {
   "cell_type": "code",
   "execution_count": 123,
   "metadata": {},
   "outputs": [
    {
     "data": {
      "text/html": [
       "<div>\n",
       "<style scoped>\n",
       "    .dataframe tbody tr th:only-of-type {\n",
       "        vertical-align: middle;\n",
       "    }\n",
       "\n",
       "    .dataframe tbody tr th {\n",
       "        vertical-align: top;\n",
       "    }\n",
       "\n",
       "    .dataframe thead th {\n",
       "        text-align: right;\n",
       "    }\n",
       "</style>\n",
       "<table border=\"1\" class=\"dataframe\">\n",
       "  <thead>\n",
       "    <tr style=\"text-align: right;\">\n",
       "      <th></th>\n",
       "      <th>Country</th>\n",
       "      <th>Count</th>\n",
       "    </tr>\n",
       "  </thead>\n",
       "  <tbody>\n",
       "    <tr>\n",
       "      <th>0</th>\n",
       "      <td>United States</td>\n",
       "      <td>633</td>\n",
       "    </tr>\n",
       "    <tr>\n",
       "      <th>1</th>\n",
       "      <td>UK</td>\n",
       "      <td>446</td>\n",
       "    </tr>\n",
       "    <tr>\n",
       "      <th>2</th>\n",
       "      <td>Israel</td>\n",
       "      <td>140</td>\n",
       "    </tr>\n",
       "    <tr>\n",
       "      <th>3</th>\n",
       "      <td>Russia</td>\n",
       "      <td>129</td>\n",
       "    </tr>\n",
       "    <tr>\n",
       "      <th>4</th>\n",
       "      <td>Japan</td>\n",
       "      <td>107</td>\n",
       "    </tr>\n",
       "    <tr>\n",
       "      <th>...</th>\n",
       "      <td>...</td>\n",
       "      <td>...</td>\n",
       "    </tr>\n",
       "    <tr>\n",
       "      <th>104</th>\n",
       "      <td>Ethiopia</td>\n",
       "      <td>1</td>\n",
       "    </tr>\n",
       "    <tr>\n",
       "      <th>105</th>\n",
       "      <td>Nicaragua</td>\n",
       "      <td>1</td>\n",
       "    </tr>\n",
       "    <tr>\n",
       "      <th>106</th>\n",
       "      <td>Kazakhstan</td>\n",
       "      <td>1</td>\n",
       "    </tr>\n",
       "    <tr>\n",
       "      <th>107</th>\n",
       "      <td>Slovenia</td>\n",
       "      <td>1</td>\n",
       "    </tr>\n",
       "    <tr>\n",
       "      <th>108</th>\n",
       "      <td>Nepal</td>\n",
       "      <td>1</td>\n",
       "    </tr>\n",
       "  </tbody>\n",
       "</table>\n",
       "<p>109 rows × 2 columns</p>\n",
       "</div>"
      ],
      "text/plain": [
       "           Country  Count\n",
       "0    United States    633\n",
       "1               UK    446\n",
       "2           Israel    140\n",
       "3           Russia    129\n",
       "4            Japan    107\n",
       "..             ...    ...\n",
       "104       Ethiopia      1\n",
       "105      Nicaragua      1\n",
       "106     Kazakhstan      1\n",
       "107       Slovenia      1\n",
       "108          Nepal      1\n",
       "\n",
       "[109 rows x 2 columns]"
      ]
     },
     "execution_count": 123,
     "metadata": {},
     "output_type": "execute_result"
    }
   ],
   "source": [
    "df_countries=df_countries.sort_values(by='Count', ascending=False)\n",
    "df_countries.reset_index(drop=True)"
   ]
  },
  {
   "cell_type": "code",
   "execution_count": 124,
   "metadata": {},
   "outputs": [
    {
     "data": {
      "application/vnd.plotly.v1+json": {
       "config": {
        "plotlyServerURL": "https://plot.ly"
       },
       "data": [
        {
         "coloraxis": "coloraxis",
         "geo": "geo",
         "hovertemplate": "Country=%{location}<br>Count=%{z}<extra></extra>",
         "locationmode": "country names",
         "locations": [
          "United States",
          "UK",
          "Israel",
          "Russia",
          "Japan",
          "Ukraine",
          "Germany",
          "Australia",
          "China",
          "Canada",
          "Oman",
          "Iraq",
          "India",
          "France",
          "Cuba",
          "Ireland",
          "Brazil",
          "Egypt",
          "Romania",
          "South Africa",
          "United Kingdom",
          "New Zealand",
          "Afghanistan",
          "Turkey",
          "Pakistan",
          "Bangladesh",
          "Spain",
          "Slovakia",
          "Italy",
          "Sweden",
          "Netherlands",
          "Cyprus",
          "Poland",
          "Mali",
          "Austria",
          "Albania",
          "Norway",
          "Indonesia",
          "Lebanon",
          "Chile",
          "Colombia",
          "Mexico",
          "Greece",
          "Switzerland",
          "Algeria",
          "Singapore",
          "Denmark",
          "Congo",
          "Libya",
          "Jordan",
          "Belgium",
          "Argentina",
          "Yemen",
          "Thailand",
          "Finland",
          "Sudan",
          "Serbia",
          "Saudi Arabia",
          "Hong Kong",
          "Latvia",
          "Bosnia and Herzegovina",
          "Bulgaria",
          "Peru",
          "Nigeria",
          "Uganda",
          "Ghana",
          "Tunisia",
          "Portugal",
          "South Sudan",
          "Malaysia",
          "Morocco",
          "Gibraltar",
          "Lithuania",
          "Hungary",
          "Niger",
          "Guatemala",
          "Dominica",
          "Ecuador",
          "Guinea",
          "Georgia",
          "Philippines",
          "Cambodia",
          "Kenya",
          "Sri Lanka",
          "Myanmar",
          "Kuwait",
          "Haiti",
          "Namibia",
          "Uruguay",
          "United Arab Emirates",
          "Somalia",
          "Dominican Republic",
          "North Macedonia",
          "Angola",
          "Antarctica",
          "Rwanda",
          "Mozambique",
          "Croatia",
          "Costa Rica",
          "Mongolia",
          "El Salvador",
          "Estonia",
          "Zimbabwe",
          "Tajikistan",
          "Ethiopia",
          "Nicaragua",
          "Kazakhstan",
          "Slovenia",
          "Nepal"
         ],
         "name": "",
         "type": "choropleth",
         "z": [
          633,
          446,
          140,
          129,
          107,
          103,
          74,
          69,
          69,
          64,
          64,
          64,
          51,
          45,
          37,
          34,
          28,
          26,
          25,
          23,
          19,
          18,
          17,
          16,
          15,
          15,
          13,
          12,
          12,
          11,
          11,
          10,
          10,
          10,
          10,
          10,
          10,
          9,
          9,
          8,
          8,
          7,
          7,
          6,
          6,
          6,
          6,
          6,
          6,
          6,
          6,
          5,
          5,
          5,
          5,
          5,
          4,
          4,
          4,
          4,
          4,
          4,
          4,
          3,
          3,
          3,
          3,
          3,
          3,
          3,
          3,
          3,
          3,
          3,
          3,
          3,
          2,
          2,
          2,
          2,
          2,
          2,
          2,
          2,
          2,
          2,
          2,
          1,
          1,
          1,
          1,
          1,
          1,
          1,
          1,
          1,
          1,
          1,
          1,
          1,
          1,
          1,
          1,
          1,
          1,
          1,
          1,
          1,
          1
         ]
        }
       ],
       "layout": {
        "coloraxis": {
         "colorbar": {
          "title": {
           "text": "Count"
          }
         },
         "colorscale": [
          [
           0,
           "#440154"
          ],
          [
           0.1111111111111111,
           "#482878"
          ],
          [
           0.2222222222222222,
           "#3e4989"
          ],
          [
           0.3333333333333333,
           "#31688e"
          ],
          [
           0.4444444444444444,
           "#26828e"
          ],
          [
           0.5555555555555556,
           "#1f9e89"
          ],
          [
           0.6666666666666666,
           "#35b779"
          ],
          [
           0.7777777777777778,
           "#6ece58"
          ],
          [
           0.8888888888888888,
           "#b5de2b"
          ],
          [
           1,
           "#fde725"
          ]
         ]
        },
        "geo": {
         "center": {},
         "domain": {
          "x": [
           0,
           1
          ],
          "y": [
           0,
           1
          ]
         }
        },
        "height": 700,
        "legend": {
         "tracegroupgap": 0
        },
        "template": {
         "data": {
          "bar": [
           {
            "error_x": {
             "color": "#2a3f5f"
            },
            "error_y": {
             "color": "#2a3f5f"
            },
            "marker": {
             "line": {
              "color": "#E5ECF6",
              "width": 0.5
             },
             "pattern": {
              "fillmode": "overlay",
              "size": 10,
              "solidity": 0.2
             }
            },
            "type": "bar"
           }
          ],
          "barpolar": [
           {
            "marker": {
             "line": {
              "color": "#E5ECF6",
              "width": 0.5
             },
             "pattern": {
              "fillmode": "overlay",
              "size": 10,
              "solidity": 0.2
             }
            },
            "type": "barpolar"
           }
          ],
          "carpet": [
           {
            "aaxis": {
             "endlinecolor": "#2a3f5f",
             "gridcolor": "white",
             "linecolor": "white",
             "minorgridcolor": "white",
             "startlinecolor": "#2a3f5f"
            },
            "baxis": {
             "endlinecolor": "#2a3f5f",
             "gridcolor": "white",
             "linecolor": "white",
             "minorgridcolor": "white",
             "startlinecolor": "#2a3f5f"
            },
            "type": "carpet"
           }
          ],
          "choropleth": [
           {
            "colorbar": {
             "outlinewidth": 0,
             "ticks": ""
            },
            "type": "choropleth"
           }
          ],
          "contour": [
           {
            "colorbar": {
             "outlinewidth": 0,
             "ticks": ""
            },
            "colorscale": [
             [
              0,
              "#0d0887"
             ],
             [
              0.1111111111111111,
              "#46039f"
             ],
             [
              0.2222222222222222,
              "#7201a8"
             ],
             [
              0.3333333333333333,
              "#9c179e"
             ],
             [
              0.4444444444444444,
              "#bd3786"
             ],
             [
              0.5555555555555556,
              "#d8576b"
             ],
             [
              0.6666666666666666,
              "#ed7953"
             ],
             [
              0.7777777777777778,
              "#fb9f3a"
             ],
             [
              0.8888888888888888,
              "#fdca26"
             ],
             [
              1,
              "#f0f921"
             ]
            ],
            "type": "contour"
           }
          ],
          "contourcarpet": [
           {
            "colorbar": {
             "outlinewidth": 0,
             "ticks": ""
            },
            "type": "contourcarpet"
           }
          ],
          "heatmap": [
           {
            "colorbar": {
             "outlinewidth": 0,
             "ticks": ""
            },
            "colorscale": [
             [
              0,
              "#0d0887"
             ],
             [
              0.1111111111111111,
              "#46039f"
             ],
             [
              0.2222222222222222,
              "#7201a8"
             ],
             [
              0.3333333333333333,
              "#9c179e"
             ],
             [
              0.4444444444444444,
              "#bd3786"
             ],
             [
              0.5555555555555556,
              "#d8576b"
             ],
             [
              0.6666666666666666,
              "#ed7953"
             ],
             [
              0.7777777777777778,
              "#fb9f3a"
             ],
             [
              0.8888888888888888,
              "#fdca26"
             ],
             [
              1,
              "#f0f921"
             ]
            ],
            "type": "heatmap"
           }
          ],
          "heatmapgl": [
           {
            "colorbar": {
             "outlinewidth": 0,
             "ticks": ""
            },
            "colorscale": [
             [
              0,
              "#0d0887"
             ],
             [
              0.1111111111111111,
              "#46039f"
             ],
             [
              0.2222222222222222,
              "#7201a8"
             ],
             [
              0.3333333333333333,
              "#9c179e"
             ],
             [
              0.4444444444444444,
              "#bd3786"
             ],
             [
              0.5555555555555556,
              "#d8576b"
             ],
             [
              0.6666666666666666,
              "#ed7953"
             ],
             [
              0.7777777777777778,
              "#fb9f3a"
             ],
             [
              0.8888888888888888,
              "#fdca26"
             ],
             [
              1,
              "#f0f921"
             ]
            ],
            "type": "heatmapgl"
           }
          ],
          "histogram": [
           {
            "marker": {
             "pattern": {
              "fillmode": "overlay",
              "size": 10,
              "solidity": 0.2
             }
            },
            "type": "histogram"
           }
          ],
          "histogram2d": [
           {
            "colorbar": {
             "outlinewidth": 0,
             "ticks": ""
            },
            "colorscale": [
             [
              0,
              "#0d0887"
             ],
             [
              0.1111111111111111,
              "#46039f"
             ],
             [
              0.2222222222222222,
              "#7201a8"
             ],
             [
              0.3333333333333333,
              "#9c179e"
             ],
             [
              0.4444444444444444,
              "#bd3786"
             ],
             [
              0.5555555555555556,
              "#d8576b"
             ],
             [
              0.6666666666666666,
              "#ed7953"
             ],
             [
              0.7777777777777778,
              "#fb9f3a"
             ],
             [
              0.8888888888888888,
              "#fdca26"
             ],
             [
              1,
              "#f0f921"
             ]
            ],
            "type": "histogram2d"
           }
          ],
          "histogram2dcontour": [
           {
            "colorbar": {
             "outlinewidth": 0,
             "ticks": ""
            },
            "colorscale": [
             [
              0,
              "#0d0887"
             ],
             [
              0.1111111111111111,
              "#46039f"
             ],
             [
              0.2222222222222222,
              "#7201a8"
             ],
             [
              0.3333333333333333,
              "#9c179e"
             ],
             [
              0.4444444444444444,
              "#bd3786"
             ],
             [
              0.5555555555555556,
              "#d8576b"
             ],
             [
              0.6666666666666666,
              "#ed7953"
             ],
             [
              0.7777777777777778,
              "#fb9f3a"
             ],
             [
              0.8888888888888888,
              "#fdca26"
             ],
             [
              1,
              "#f0f921"
             ]
            ],
            "type": "histogram2dcontour"
           }
          ],
          "mesh3d": [
           {
            "colorbar": {
             "outlinewidth": 0,
             "ticks": ""
            },
            "type": "mesh3d"
           }
          ],
          "parcoords": [
           {
            "line": {
             "colorbar": {
              "outlinewidth": 0,
              "ticks": ""
             }
            },
            "type": "parcoords"
           }
          ],
          "pie": [
           {
            "automargin": true,
            "type": "pie"
           }
          ],
          "scatter": [
           {
            "fillpattern": {
             "fillmode": "overlay",
             "size": 10,
             "solidity": 0.2
            },
            "type": "scatter"
           }
          ],
          "scatter3d": [
           {
            "line": {
             "colorbar": {
              "outlinewidth": 0,
              "ticks": ""
             }
            },
            "marker": {
             "colorbar": {
              "outlinewidth": 0,
              "ticks": ""
             }
            },
            "type": "scatter3d"
           }
          ],
          "scattercarpet": [
           {
            "marker": {
             "colorbar": {
              "outlinewidth": 0,
              "ticks": ""
             }
            },
            "type": "scattercarpet"
           }
          ],
          "scattergeo": [
           {
            "marker": {
             "colorbar": {
              "outlinewidth": 0,
              "ticks": ""
             }
            },
            "type": "scattergeo"
           }
          ],
          "scattergl": [
           {
            "marker": {
             "colorbar": {
              "outlinewidth": 0,
              "ticks": ""
             }
            },
            "type": "scattergl"
           }
          ],
          "scattermapbox": [
           {
            "marker": {
             "colorbar": {
              "outlinewidth": 0,
              "ticks": ""
             }
            },
            "type": "scattermapbox"
           }
          ],
          "scatterpolar": [
           {
            "marker": {
             "colorbar": {
              "outlinewidth": 0,
              "ticks": ""
             }
            },
            "type": "scatterpolar"
           }
          ],
          "scatterpolargl": [
           {
            "marker": {
             "colorbar": {
              "outlinewidth": 0,
              "ticks": ""
             }
            },
            "type": "scatterpolargl"
           }
          ],
          "scatterternary": [
           {
            "marker": {
             "colorbar": {
              "outlinewidth": 0,
              "ticks": ""
             }
            },
            "type": "scatterternary"
           }
          ],
          "surface": [
           {
            "colorbar": {
             "outlinewidth": 0,
             "ticks": ""
            },
            "colorscale": [
             [
              0,
              "#0d0887"
             ],
             [
              0.1111111111111111,
              "#46039f"
             ],
             [
              0.2222222222222222,
              "#7201a8"
             ],
             [
              0.3333333333333333,
              "#9c179e"
             ],
             [
              0.4444444444444444,
              "#bd3786"
             ],
             [
              0.5555555555555556,
              "#d8576b"
             ],
             [
              0.6666666666666666,
              "#ed7953"
             ],
             [
              0.7777777777777778,
              "#fb9f3a"
             ],
             [
              0.8888888888888888,
              "#fdca26"
             ],
             [
              1,
              "#f0f921"
             ]
            ],
            "type": "surface"
           }
          ],
          "table": [
           {
            "cells": {
             "fill": {
              "color": "#EBF0F8"
             },
             "line": {
              "color": "white"
             }
            },
            "header": {
             "fill": {
              "color": "#C8D4E3"
             },
             "line": {
              "color": "white"
             }
            },
            "type": "table"
           }
          ]
         },
         "layout": {
          "annotationdefaults": {
           "arrowcolor": "#2a3f5f",
           "arrowhead": 0,
           "arrowwidth": 1
          },
          "autotypenumbers": "strict",
          "coloraxis": {
           "colorbar": {
            "outlinewidth": 0,
            "ticks": ""
           }
          },
          "colorscale": {
           "diverging": [
            [
             0,
             "#8e0152"
            ],
            [
             0.1,
             "#c51b7d"
            ],
            [
             0.2,
             "#de77ae"
            ],
            [
             0.3,
             "#f1b6da"
            ],
            [
             0.4,
             "#fde0ef"
            ],
            [
             0.5,
             "#f7f7f7"
            ],
            [
             0.6,
             "#e6f5d0"
            ],
            [
             0.7,
             "#b8e186"
            ],
            [
             0.8,
             "#7fbc41"
            ],
            [
             0.9,
             "#4d9221"
            ],
            [
             1,
             "#276419"
            ]
           ],
           "sequential": [
            [
             0,
             "#0d0887"
            ],
            [
             0.1111111111111111,
             "#46039f"
            ],
            [
             0.2222222222222222,
             "#7201a8"
            ],
            [
             0.3333333333333333,
             "#9c179e"
            ],
            [
             0.4444444444444444,
             "#bd3786"
            ],
            [
             0.5555555555555556,
             "#d8576b"
            ],
            [
             0.6666666666666666,
             "#ed7953"
            ],
            [
             0.7777777777777778,
             "#fb9f3a"
            ],
            [
             0.8888888888888888,
             "#fdca26"
            ],
            [
             1,
             "#f0f921"
            ]
           ],
           "sequentialminus": [
            [
             0,
             "#0d0887"
            ],
            [
             0.1111111111111111,
             "#46039f"
            ],
            [
             0.2222222222222222,
             "#7201a8"
            ],
            [
             0.3333333333333333,
             "#9c179e"
            ],
            [
             0.4444444444444444,
             "#bd3786"
            ],
            [
             0.5555555555555556,
             "#d8576b"
            ],
            [
             0.6666666666666666,
             "#ed7953"
            ],
            [
             0.7777777777777778,
             "#fb9f3a"
            ],
            [
             0.8888888888888888,
             "#fdca26"
            ],
            [
             1,
             "#f0f921"
            ]
           ]
          },
          "colorway": [
           "#636efa",
           "#EF553B",
           "#00cc96",
           "#ab63fa",
           "#FFA15A",
           "#19d3f3",
           "#FF6692",
           "#B6E880",
           "#FF97FF",
           "#FECB52"
          ],
          "font": {
           "color": "#2a3f5f"
          },
          "geo": {
           "bgcolor": "white",
           "lakecolor": "white",
           "landcolor": "#E5ECF6",
           "showlakes": true,
           "showland": true,
           "subunitcolor": "white"
          },
          "hoverlabel": {
           "align": "left"
          },
          "hovermode": "closest",
          "mapbox": {
           "style": "light"
          },
          "paper_bgcolor": "white",
          "plot_bgcolor": "#E5ECF6",
          "polar": {
           "angularaxis": {
            "gridcolor": "white",
            "linecolor": "white",
            "ticks": ""
           },
           "bgcolor": "#E5ECF6",
           "radialaxis": {
            "gridcolor": "white",
            "linecolor": "white",
            "ticks": ""
           }
          },
          "scene": {
           "xaxis": {
            "backgroundcolor": "#E5ECF6",
            "gridcolor": "white",
            "gridwidth": 2,
            "linecolor": "white",
            "showbackground": true,
            "ticks": "",
            "zerolinecolor": "white"
           },
           "yaxis": {
            "backgroundcolor": "#E5ECF6",
            "gridcolor": "white",
            "gridwidth": 2,
            "linecolor": "white",
            "showbackground": true,
            "ticks": "",
            "zerolinecolor": "white"
           },
           "zaxis": {
            "backgroundcolor": "#E5ECF6",
            "gridcolor": "white",
            "gridwidth": 2,
            "linecolor": "white",
            "showbackground": true,
            "ticks": "",
            "zerolinecolor": "white"
           }
          },
          "shapedefaults": {
           "line": {
            "color": "#2a3f5f"
           }
          },
          "ternary": {
           "aaxis": {
            "gridcolor": "white",
            "linecolor": "white",
            "ticks": ""
           },
           "baxis": {
            "gridcolor": "white",
            "linecolor": "white",
            "ticks": ""
           },
           "bgcolor": "#E5ECF6",
           "caxis": {
            "gridcolor": "white",
            "linecolor": "white",
            "ticks": ""
           }
          },
          "title": {
           "x": 0.05
          },
          "xaxis": {
           "automargin": true,
           "gridcolor": "white",
           "linecolor": "white",
           "ticks": "",
           "title": {
            "standoff": 15
           },
           "zerolinecolor": "white",
           "zerolinewidth": 2
          },
          "yaxis": {
           "automargin": true,
           "gridcolor": "white",
           "linecolor": "white",
           "ticks": "",
           "title": {
            "standoff": 15
           },
           "zerolinecolor": "white",
           "zerolinewidth": 2
          }
         }
        },
        "title": {
         "text": "Country mentions in titles"
        },
        "width": 1100
       }
      }
     },
     "metadata": {},
     "output_type": "display_data"
    }
   ],
   "source": [
    "fig = px.choropleth(df_countries, locations='Country', locationmode='country names', color='Count', \n",
    "                    title='Country mentions in titles', color_continuous_scale='Viridis',\n",
    "                    width=1100, height=700) # Adjust the size of the map here\n",
    "\n",
    "# Display the map\n",
    "fig.show()"
   ]
  },
  {
   "cell_type": "code",
   "execution_count": 125,
   "metadata": {},
   "outputs": [],
   "source": [
    "df_countries.to_csv('countries.csv',index=False)"
   ]
  },
  {
   "attachments": {},
   "cell_type": "markdown",
   "metadata": {},
   "source": [
    "# NER analysis"
   ]
  },
  {
   "cell_type": "code",
   "execution_count": 126,
   "metadata": {},
   "outputs": [],
   "source": [
    "import spacy\n",
    "import nltk\n",
    "import ast\n",
    "from spacy.pipeline import EntityRecognizer"
   ]
  },
  {
   "cell_type": "code",
   "execution_count": 127,
   "metadata": {},
   "outputs": [
    {
     "name": "stderr",
     "output_type": "stream",
     "text": [
      "[nltk_data] Downloading package punkt to\n",
      "[nltk_data]     C:\\Users\\yaozk\\AppData\\Roaming\\nltk_data...\n",
      "[nltk_data]   Package punkt is already up-to-date!\n",
      "[nltk_data] Downloading package averaged_perceptron_tagger to\n",
      "[nltk_data]     C:\\Users\\yaozk\\AppData\\Roaming\\nltk_data...\n",
      "[nltk_data]   Package averaged_perceptron_tagger is already up-to-\n",
      "[nltk_data]       date!\n",
      "[nltk_data] Downloading package maxent_ne_chunker to\n",
      "[nltk_data]     C:\\Users\\yaozk\\AppData\\Roaming\\nltk_data...\n",
      "[nltk_data]   Package maxent_ne_chunker is already up-to-date!\n",
      "[nltk_data] Downloading package words to\n",
      "[nltk_data]     C:\\Users\\yaozk\\AppData\\Roaming\\nltk_data...\n",
      "[nltk_data]   Package words is already up-to-date!\n",
      "c:\\Users\\yaozk\\AppData\\Local\\Programs\\Python\\Python310\\lib\\site-packages\\spacy\\util.py:865: UserWarning:\n",
      "\n",
      "[W095] Model 'en_core_web_sm' (3.5.0) was trained with spaCy v3.5 and may not be 100% compatible with the current version (3.4.1). If you see errors or degraded performance, download a newer compatible model or retrain your custom model with the current spaCy version. For more details and available updates, run: python -m spacy validate\n",
      "\n"
     ]
    }
   ],
   "source": [
    "nltk.download('punkt')\n",
    "nltk.download('averaged_perceptron_tagger')\n",
    "nltk.download('maxent_ne_chunker')\n",
    "nltk.download('words')\n",
    "df = pd.read_csv('https://raw.githubusercontent.com/YusufAliOzkan/zotero-intelligence-bibliography/main/all_items.csv')\n",
    "nlp = spacy.load(\"en_core_web_sm\")\n",
    "ruler = nlp.add_pipe(\"entity_ruler\")\n",
    "patterns = [{\"label\": \"ORG\", \"pattern\": \"MI6\"}]\n",
    "ruler.add_patterns(patterns)"
   ]
  },
  {
   "cell_type": "code",
   "execution_count": 128,
   "metadata": {},
   "outputs": [],
   "source": [
    "def extract_entities(text):\n",
    "    doc = nlp(text)\n",
    "    orgs = []\n",
    "    gpes = []\n",
    "    people = []\n",
    "    for entity in doc.ents:\n",
    "        if entity.label_ == 'ORG':\n",
    "            orgs.append(entity.text)\n",
    "        elif entity.label_ == 'GPE':\n",
    "            gpes.append(entity.text)\n",
    "        elif entity.label_ == 'PERSON':\n",
    "            people.append(entity.text)\n",
    "    return pd.Series({'ORG': orgs, 'GPE': gpes, 'PERSON': people})"
   ]
  },
  {
   "cell_type": "code",
   "execution_count": 129,
   "metadata": {},
   "outputs": [],
   "source": [
    "df_title = df[['Title']].copy()\n",
    "df_title = df_title.rename(columns={'Title':'Text'})\n",
    "df_abstract = df[['Abstract']].copy()\n",
    "df_abstract = df_abstract.rename(columns={'Abstract':'Text'})\n",
    "df_one = pd.concat([df_title, df_abstract], ignore_index=True)\n",
    "df_one['Text'] = df_one['Text'].fillna('')"
   ]
  },
  {
   "cell_type": "code",
   "execution_count": 130,
   "metadata": {},
   "outputs": [],
   "source": [
    "df_one = pd.concat([df_one[['Text']], df_one['Text'].apply(extract_entities)], axis=1)\n",
    "df_one = df_one.explode('GPE').reset_index(drop=True)\n",
    "df_one = df_one.explode('ORG').reset_index(drop=True)\n",
    "df_one = df_one.explode('PERSON').reset_index(drop=True)"
   ]
  },
  {
   "cell_type": "code",
   "execution_count": 131,
   "metadata": {},
   "outputs": [
    {
     "data": {
      "text/html": [
       "<div>\n",
       "<style scoped>\n",
       "    .dataframe tbody tr th:only-of-type {\n",
       "        vertical-align: middle;\n",
       "    }\n",
       "\n",
       "    .dataframe tbody tr th {\n",
       "        vertical-align: top;\n",
       "    }\n",
       "\n",
       "    .dataframe thead th {\n",
       "        text-align: right;\n",
       "    }\n",
       "</style>\n",
       "<table border=\"1\" class=\"dataframe\">\n",
       "  <thead>\n",
       "    <tr style=\"text-align: right;\">\n",
       "      <th></th>\n",
       "      <th>GPE</th>\n",
       "      <th>count</th>\n",
       "    </tr>\n",
       "  </thead>\n",
       "  <tbody>\n",
       "    <tr>\n",
       "      <th>0</th>\n",
       "      <td>USA</td>\n",
       "      <td>1313</td>\n",
       "    </tr>\n",
       "    <tr>\n",
       "      <th>1</th>\n",
       "      <td>UK</td>\n",
       "      <td>679</td>\n",
       "    </tr>\n",
       "    <tr>\n",
       "      <th>2</th>\n",
       "      <td>Russia</td>\n",
       "      <td>474</td>\n",
       "    </tr>\n",
       "    <tr>\n",
       "      <th>3</th>\n",
       "      <td>Germany</td>\n",
       "      <td>200</td>\n",
       "    </tr>\n",
       "    <tr>\n",
       "      <th>4</th>\n",
       "      <td>Ukraine</td>\n",
       "      <td>186</td>\n",
       "    </tr>\n",
       "    <tr>\n",
       "      <th>5</th>\n",
       "      <td>Israel</td>\n",
       "      <td>177</td>\n",
       "    </tr>\n",
       "    <tr>\n",
       "      <th>6</th>\n",
       "      <td>China</td>\n",
       "      <td>150</td>\n",
       "    </tr>\n",
       "    <tr>\n",
       "      <th>7</th>\n",
       "      <td>France</td>\n",
       "      <td>140</td>\n",
       "    </tr>\n",
       "    <tr>\n",
       "      <th>8</th>\n",
       "      <td>Canada</td>\n",
       "      <td>134</td>\n",
       "    </tr>\n",
       "    <tr>\n",
       "      <th>9</th>\n",
       "      <td>Iraq</td>\n",
       "      <td>131</td>\n",
       "    </tr>\n",
       "    <tr>\n",
       "      <th>10</th>\n",
       "      <td>London</td>\n",
       "      <td>124</td>\n",
       "    </tr>\n",
       "    <tr>\n",
       "      <th>11</th>\n",
       "      <td>Australia</td>\n",
       "      <td>96</td>\n",
       "    </tr>\n",
       "    <tr>\n",
       "      <th>12</th>\n",
       "      <td>Japan</td>\n",
       "      <td>95</td>\n",
       "    </tr>\n",
       "    <tr>\n",
       "      <th>13</th>\n",
       "      <td>Washington</td>\n",
       "      <td>91</td>\n",
       "    </tr>\n",
       "    <tr>\n",
       "      <th>14</th>\n",
       "      <td>Moscow</td>\n",
       "      <td>87</td>\n",
       "    </tr>\n",
       "  </tbody>\n",
       "</table>\n",
       "</div>"
      ],
      "text/plain": [
       "           GPE  count\n",
       "0          USA   1313\n",
       "1           UK    679\n",
       "2       Russia    474\n",
       "3      Germany    200\n",
       "4      Ukraine    186\n",
       "5       Israel    177\n",
       "6        China    150\n",
       "7       France    140\n",
       "8       Canada    134\n",
       "9         Iraq    131\n",
       "10      London    124\n",
       "11   Australia     96\n",
       "12       Japan     95\n",
       "13  Washington     91\n",
       "14      Moscow     87"
      ]
     },
     "execution_count": 131,
     "metadata": {},
     "output_type": "execute_result"
    }
   ],
   "source": [
    "df_one_g = df_one.copy()\n",
    "df_one_g = df_one[['Text', 'GPE']]\n",
    "# df_one_g = df_one_g.fillna('')\n",
    "df_one_g = df_one_g.drop_duplicates(subset=['Text', 'GPE'])\n",
    "\n",
    "gpe_counts = df_one_g['GPE'].value_counts().reset_index()\n",
    "gpe_counts.columns = ['GPE', 'count']\n",
    "\n",
    "# pd.options.display.max_rows = None\n",
    "\n",
    "\n",
    "mapping_locations = {\n",
    "    'the United States': 'USA',\n",
    "    'The United States': 'USA',\n",
    "    'US': 'USA',\n",
    "    'U.S.': 'USA',\n",
    "    'United States' : 'USA',\n",
    "    'America' : 'USA',\n",
    "    'the United States of America' : 'USA',\n",
    "    'Britain' : 'UK',\n",
    "    'the United Kingdom': 'UK',\n",
    "    'U.K.' : 'UK',\n",
    "    'Global Britain' : 'UK',\n",
    "    'United Kingdom' : 'UK', \n",
    "    'the Soviet Union' : 'Russia',\n",
    "    'The Soviet Union' : 'Russia',\n",
    "    'USSR' : 'Russia',\n",
    "    'Ukraine - Perspective' : 'Ukraine',\n",
    "    'Ukrainian' : 'Ukraine',\n",
    "    'Great Britain' : 'UK',\n",
    "    'Ottoman Empire' : 'Turkey'\n",
    "}\n",
    "gpe_counts['GPE'] =gpe_counts['GPE'].replace(mapping_locations)\n",
    "gpe_counts = gpe_counts.groupby('GPE').sum().reset_index()\n",
    "gpe_counts.sort_values('count', ascending=False, inplace=True)\n",
    "gpe_counts = gpe_counts.reset_index(drop=True)\n",
    "gpe_counts.head(15)"
   ]
  },
  {
   "cell_type": "code",
   "execution_count": 132,
   "metadata": {},
   "outputs": [
    {
     "data": {
      "text/html": [
       "<div>\n",
       "<style scoped>\n",
       "    .dataframe tbody tr th:only-of-type {\n",
       "        vertical-align: middle;\n",
       "    }\n",
       "\n",
       "    .dataframe tbody tr th {\n",
       "        vertical-align: top;\n",
       "    }\n",
       "\n",
       "    .dataframe thead th {\n",
       "        text-align: right;\n",
       "    }\n",
       "</style>\n",
       "<table border=\"1\" class=\"dataframe\">\n",
       "  <thead>\n",
       "    <tr style=\"text-align: right;\">\n",
       "      <th></th>\n",
       "      <th>PERSON</th>\n",
       "      <th>count</th>\n",
       "    </tr>\n",
       "  </thead>\n",
       "  <tbody>\n",
       "    <tr>\n",
       "      <th>0</th>\n",
       "      <td>Adolf Hitler</td>\n",
       "      <td>82</td>\n",
       "    </tr>\n",
       "    <tr>\n",
       "      <th>1</th>\n",
       "      <td>Vladimir Putin</td>\n",
       "      <td>69</td>\n",
       "    </tr>\n",
       "    <tr>\n",
       "      <th>2</th>\n",
       "      <td>Winston Churchill</td>\n",
       "      <td>49</td>\n",
       "    </tr>\n",
       "    <tr>\n",
       "      <th>3</th>\n",
       "      <td>Stalin</td>\n",
       "      <td>39</td>\n",
       "    </tr>\n",
       "    <tr>\n",
       "      <th>4</th>\n",
       "      <td>Eisenhower</td>\n",
       "      <td>29</td>\n",
       "    </tr>\n",
       "    <tr>\n",
       "      <th>5</th>\n",
       "      <td>Mujibur Rahman</td>\n",
       "      <td>28</td>\n",
       "    </tr>\n",
       "    <tr>\n",
       "      <th>6</th>\n",
       "      <td>Bush</td>\n",
       "      <td>27</td>\n",
       "    </tr>\n",
       "    <tr>\n",
       "      <th>7</th>\n",
       "      <td>John le Carré</td>\n",
       "      <td>24</td>\n",
       "    </tr>\n",
       "    <tr>\n",
       "      <th>8</th>\n",
       "      <td>James Bond</td>\n",
       "      <td>24</td>\n",
       "    </tr>\n",
       "    <tr>\n",
       "      <th>9</th>\n",
       "      <td>Brexit</td>\n",
       "      <td>18</td>\n",
       "    </tr>\n",
       "    <tr>\n",
       "      <th>10</th>\n",
       "      <td>Kennedy</td>\n",
       "      <td>17</td>\n",
       "    </tr>\n",
       "    <tr>\n",
       "      <th>11</th>\n",
       "      <td>Reagan</td>\n",
       "      <td>17</td>\n",
       "    </tr>\n",
       "    <tr>\n",
       "      <th>12</th>\n",
       "      <td>Roosevelt</td>\n",
       "      <td>16</td>\n",
       "    </tr>\n",
       "    <tr>\n",
       "      <th>13</th>\n",
       "      <td>Edward Snowden</td>\n",
       "      <td>15</td>\n",
       "    </tr>\n",
       "    <tr>\n",
       "      <th>14</th>\n",
       "      <td>Truman</td>\n",
       "      <td>15</td>\n",
       "    </tr>\n",
       "  </tbody>\n",
       "</table>\n",
       "</div>"
      ],
      "text/plain": [
       "               PERSON  count\n",
       "0        Adolf Hitler     82\n",
       "1      Vladimir Putin     69\n",
       "2   Winston Churchill     49\n",
       "3              Stalin     39\n",
       "4          Eisenhower     29\n",
       "5      Mujibur Rahman     28\n",
       "6                Bush     27\n",
       "7       John le Carré     24\n",
       "8          James Bond     24\n",
       "9              Brexit     18\n",
       "10            Kennedy     17\n",
       "11             Reagan     17\n",
       "12          Roosevelt     16\n",
       "13     Edward Snowden     15\n",
       "14             Truman     15"
      ]
     },
     "execution_count": 132,
     "metadata": {},
     "output_type": "execute_result"
    }
   ],
   "source": [
    "df_one_p = df_one.copy()\n",
    "df_one_p = df_one[['Text', 'PERSON']]\n",
    "# df_one_p = df_one_g.fillna('')\n",
    "df_one_p = df_one_p.drop_duplicates(subset=['Text', 'PERSON'])\n",
    "\n",
    "person_counts = df_one_p['PERSON'].value_counts().reset_index()\n",
    "person_counts.columns = ['PERSON', 'count']\n",
    "\n",
    "mapping_person = {\n",
    "    'Putin' : 'Vladimir Putin',\n",
    "    'Vladimir Putin' : 'Vladimir Putin',\n",
    "    'Churchill' : 'Winston Churchill',\n",
    "    'Hitler' : 'Adolf Hitler',\n",
    "    'Biden' : 'Joe Biden',\n",
    "    \"John le Carré’s\" : \"John le Carré\"\n",
    "}\n",
    "\n",
    "person_counts['PERSON'] =person_counts['PERSON'].replace(mapping_person)\n",
    "person_counts = person_counts.groupby('PERSON').sum().reset_index()\n",
    "person_counts.sort_values('count', ascending=False, inplace=True)\n",
    "\n",
    "remove_person = ['MI6', 'Twitter', 'GRU'\n",
    "          ]\n",
    "person_counts = person_counts[~person_counts['PERSON'].isin(remove_person)]\n",
    "person_counts = person_counts.reset_index(drop=True)\n",
    "\n",
    "person_counts.head(15)"
   ]
  },
  {
   "cell_type": "code",
   "execution_count": 133,
   "metadata": {},
   "outputs": [
    {
     "data": {
      "text/html": [
       "<div>\n",
       "<style scoped>\n",
       "    .dataframe tbody tr th:only-of-type {\n",
       "        vertical-align: middle;\n",
       "    }\n",
       "\n",
       "    .dataframe tbody tr th {\n",
       "        vertical-align: top;\n",
       "    }\n",
       "\n",
       "    .dataframe thead th {\n",
       "        text-align: right;\n",
       "    }\n",
       "</style>\n",
       "<table border=\"1\" class=\"dataframe\">\n",
       "  <thead>\n",
       "    <tr style=\"text-align: right;\">\n",
       "      <th></th>\n",
       "      <th>ORG</th>\n",
       "      <th>count</th>\n",
       "    </tr>\n",
       "  </thead>\n",
       "  <tbody>\n",
       "    <tr>\n",
       "      <th>0</th>\n",
       "      <td>CIA</td>\n",
       "      <td>663</td>\n",
       "    </tr>\n",
       "    <tr>\n",
       "      <th>1</th>\n",
       "      <td>KGB</td>\n",
       "      <td>132</td>\n",
       "    </tr>\n",
       "    <tr>\n",
       "      <th>2</th>\n",
       "      <td>FBI</td>\n",
       "      <td>93</td>\n",
       "    </tr>\n",
       "    <tr>\n",
       "      <th>3</th>\n",
       "      <td>Allied</td>\n",
       "      <td>90</td>\n",
       "    </tr>\n",
       "    <tr>\n",
       "      <th>4</th>\n",
       "      <td>Congress</td>\n",
       "      <td>70</td>\n",
       "    </tr>\n",
       "    <tr>\n",
       "      <th>5</th>\n",
       "      <td>SIS</td>\n",
       "      <td>65</td>\n",
       "    </tr>\n",
       "    <tr>\n",
       "      <th>6</th>\n",
       "      <td>SOE</td>\n",
       "      <td>63</td>\n",
       "    </tr>\n",
       "    <tr>\n",
       "      <th>7</th>\n",
       "      <td>the Intelligence Community</td>\n",
       "      <td>61</td>\n",
       "    </tr>\n",
       "    <tr>\n",
       "      <th>8</th>\n",
       "      <td>NATO</td>\n",
       "      <td>55</td>\n",
       "    </tr>\n",
       "    <tr>\n",
       "      <th>9</th>\n",
       "      <td>OSS</td>\n",
       "      <td>53</td>\n",
       "    </tr>\n",
       "    <tr>\n",
       "      <th>10</th>\n",
       "      <td>EU</td>\n",
       "      <td>49</td>\n",
       "    </tr>\n",
       "    <tr>\n",
       "      <th>11</th>\n",
       "      <td>NSA</td>\n",
       "      <td>43</td>\n",
       "    </tr>\n",
       "    <tr>\n",
       "      <th>12</th>\n",
       "      <td>British Intelligence</td>\n",
       "      <td>42</td>\n",
       "    </tr>\n",
       "    <tr>\n",
       "      <th>13</th>\n",
       "      <td>Joint Intelligence Committee</td>\n",
       "      <td>35</td>\n",
       "    </tr>\n",
       "    <tr>\n",
       "      <th>14</th>\n",
       "      <td>Hamas</td>\n",
       "      <td>32</td>\n",
       "    </tr>\n",
       "  </tbody>\n",
       "</table>\n",
       "</div>"
      ],
      "text/plain": [
       "                             ORG  count\n",
       "0                            CIA    663\n",
       "1                            KGB    132\n",
       "2                            FBI     93\n",
       "3                         Allied     90\n",
       "4                       Congress     70\n",
       "5                            SIS     65\n",
       "6                            SOE     63\n",
       "7     the Intelligence Community     61\n",
       "8                           NATO     55\n",
       "9                            OSS     53\n",
       "10                            EU     49\n",
       "11                           NSA     43\n",
       "12          British Intelligence     42\n",
       "13  Joint Intelligence Committee     35\n",
       "14                         Hamas     32"
      ]
     },
     "execution_count": 133,
     "metadata": {},
     "output_type": "execute_result"
    }
   ],
   "source": [
    "df_one_o = df_one.copy()\n",
    "df_one_o = df_one[['Text', 'ORG']]\n",
    "# df_one_p = df_one_g.fillna('')\n",
    "df_one_o = df_one_o.drop_duplicates(subset=['Text', 'ORG'])\n",
    "\n",
    "org_counts = df_one_o['ORG'].value_counts().reset_index()\n",
    "org_counts.columns = ['ORG', 'count']\n",
    "\n",
    "mapping_organisations = {\n",
    "    'The British Secret Intelligence Service' : 'SIS',\n",
    "    'the British Secret Intelligence Service' : 'SIS',\n",
    "    'The Joint Intelligence Committee' : 'Joint Intelligence Committee',\n",
    "    'the Joint Intelligence Committee' : 'Joint Intelligence Committee',\n",
    "    'Joint Intelligence Committee' : 'Joint Intelligence Committee',\n",
    "    'the Joint Intelligence Committee - History' : 'Joint Intelligence Committee',\n",
    "    'Central Intelligence Agency' : 'CIA',\n",
    "    'the Central Intelligence Agency' : 'CIA',\n",
    "    'the Foreign Office' : 'Foreign Office',\n",
    "    'Schar School' : 'Schar School of Policy and Government',\n",
    "    'the Secret Intelligence Service' : 'SIS',\n",
    "    \"George Mason University's\" : \"George Mason University\",\n",
    "    'JIC' : 'Joint Intelligence Committee'\n",
    "}\n",
    "org_counts['ORG'] =org_counts['ORG'].replace(mapping_organisations)\n",
    "org_counts = org_counts.groupby('ORG').sum().reset_index()\n",
    "org_counts.sort_values('count', ascending=False, inplace=True)\n",
    "\n",
    "remove_orgs = ['Intelligence', 'Kremlin', 'Ultra', 'International Security', 'Intelligence Studies', 'Intelligence Analysis', 'OSINT']\n",
    "org_counts = org_counts[~org_counts['ORG'].isin(remove_orgs)]\n",
    "org_counts = org_counts.reset_index(drop=True)\n",
    "\n",
    "org_counts.head(15)"
   ]
  },
  {
   "cell_type": "code",
   "execution_count": 134,
   "metadata": {},
   "outputs": [],
   "source": [
    "gpe_counts.head(15).to_csv('gpe.csv')\n",
    "person_counts.head(15).to_csv('person.csv')\n",
    "org_counts.head(15).to_csv('org.csv')"
   ]
  },
  {
   "cell_type": "code",
   "execution_count": 135,
   "metadata": {},
   "outputs": [
    {
     "data": {
      "text/html": [
       "<div>\n",
       "<style scoped>\n",
       "    .dataframe tbody tr th:only-of-type {\n",
       "        vertical-align: middle;\n",
       "    }\n",
       "\n",
       "    .dataframe tbody tr th {\n",
       "        vertical-align: top;\n",
       "    }\n",
       "\n",
       "    .dataframe thead th {\n",
       "        text-align: right;\n",
       "    }\n",
       "</style>\n",
       "<table border=\"1\" class=\"dataframe\">\n",
       "  <thead>\n",
       "    <tr style=\"text-align: right;\">\n",
       "      <th></th>\n",
       "      <th>Unnamed: 0</th>\n",
       "      <th>Title</th>\n",
       "      <th>Publication type</th>\n",
       "      <th>Link to publication</th>\n",
       "      <th>Abstract</th>\n",
       "      <th>Zotero link</th>\n",
       "      <th>Date published</th>\n",
       "      <th>FirstName2</th>\n",
       "      <th>Publisher</th>\n",
       "      <th>Journal</th>\n",
       "      <th>Date added</th>\n",
       "      <th>Col key</th>\n",
       "      <th>DOI</th>\n",
       "    </tr>\n",
       "  </thead>\n",
       "  <tbody>\n",
       "    <tr>\n",
       "      <th>0</th>\n",
       "      <td>0</td>\n",
       "      <td>Espionage, Secrecy, and Institutional Moral Re...</td>\n",
       "      <td>Journal article</td>\n",
       "      <td>https://doi.org/10.1007/s11572-024-09718-7</td>\n",
       "      <td>Cecile Fabre’s Through a Glass Darkly offers a...</td>\n",
       "      <td>https://www.zotero.org/groups/intelligence_bib...</td>\n",
       "      <td>2024-02-24</td>\n",
       "      <td>Steven Ratner</td>\n",
       "      <td>NaN</td>\n",
       "      <td>Criminal Law and Philosophy</td>\n",
       "      <td>2024-02-26T23:30:38Z</td>\n",
       "      <td>['DVEM4H4W']</td>\n",
       "      <td>10.1007/s11572-024-09718-7</td>\n",
       "    </tr>\n",
       "    <tr>\n",
       "      <th>1</th>\n",
       "      <td>1</td>\n",
       "      <td>Identification-imitation-amplification: unders...</td>\n",
       "      <td>Journal article</td>\n",
       "      <td>https://doi.org/10.1080/02684527.2023.2300933</td>\n",
       "      <td>Cyber-enabled influence campaigns sit at the n...</td>\n",
       "      <td>https://www.zotero.org/groups/intelligence_bib...</td>\n",
       "      <td>2024-02-22</td>\n",
       "      <td>Jelena Vićić, Richard Harknett</td>\n",
       "      <td>NaN</td>\n",
       "      <td>Intelligence and National Security</td>\n",
       "      <td>2024-02-26T23:29:50Z</td>\n",
       "      <td>['8XXD789V']</td>\n",
       "      <td>10.1080/02684527.2023.2300933</td>\n",
       "    </tr>\n",
       "    <tr>\n",
       "      <th>2</th>\n",
       "      <td>2</td>\n",
       "      <td>Intelligence in international society: An Engl...</td>\n",
       "      <td>Journal article</td>\n",
       "      <td>https://durham-repository.worktribe.com/output...</td>\n",
       "      <td>Despite the recent prominence of intelligence ...</td>\n",
       "      <td>https://www.zotero.org/groups/intelligence_bib...</td>\n",
       "      <td>2024-02-22</td>\n",
       "      <td>John Williams</td>\n",
       "      <td>NaN</td>\n",
       "      <td>Global Policy</td>\n",
       "      <td>2024-02-26T23:27:24Z</td>\n",
       "      <td>['T92JK7A5']</td>\n",
       "      <td>NaN</td>\n",
       "    </tr>\n",
       "    <tr>\n",
       "      <th>3</th>\n",
       "      <td>3</td>\n",
       "      <td>Combating disinformation in modern conflict re...</td>\n",
       "      <td>Thesis</td>\n",
       "      <td>https://nla.brage.unit.no/nla-xmlui/handle/112...</td>\n",
       "      <td>This thesis examines how international media a...</td>\n",
       "      <td>https://www.zotero.org/groups/intelligence_bib...</td>\n",
       "      <td>2023</td>\n",
       "      <td>Daniel Kudakwashe Mpala</td>\n",
       "      <td>NaN</td>\n",
       "      <td>NaN</td>\n",
       "      <td>2024-02-26T23:25:16Z</td>\n",
       "      <td>['LXMU5UXP', 'Y959U28A']</td>\n",
       "      <td>NaN</td>\n",
       "    </tr>\n",
       "    <tr>\n",
       "      <th>4</th>\n",
       "      <td>4</td>\n",
       "      <td>The Book Cipher System of the Wehrmacht</td>\n",
       "      <td>Journal article</td>\n",
       "      <td>https://doi.org/10.1080/0161-119591883926</td>\n",
       "      <td>Explanation of an German Army hand cipher syst...</td>\n",
       "      <td>https://www.zotero.org/groups/intelligence_bib...</td>\n",
       "      <td>1995-07-01</td>\n",
       "      <td>Michael van der Meulen</td>\n",
       "      <td>NaN</td>\n",
       "      <td>Cryptologia</td>\n",
       "      <td>2024-02-26T15:10:01Z</td>\n",
       "      <td>['T92JK7A5', 'SCCGXHMZ', 'AZ3BZ9BR']</td>\n",
       "      <td>10.1080/0161-119591883926</td>\n",
       "    </tr>\n",
       "    <tr>\n",
       "      <th>...</th>\n",
       "      <td>...</td>\n",
       "      <td>...</td>\n",
       "      <td>...</td>\n",
       "      <td>...</td>\n",
       "      <td>...</td>\n",
       "      <td>...</td>\n",
       "      <td>...</td>\n",
       "      <td>...</td>\n",
       "      <td>...</td>\n",
       "      <td>...</td>\n",
       "      <td>...</td>\n",
       "      <td>...</td>\n",
       "      <td>...</td>\n",
       "    </tr>\n",
       "    <tr>\n",
       "      <th>6287</th>\n",
       "      <td>6287</td>\n",
       "      <td>Analyzing Intelligence: Origins, Obstacles, an...</td>\n",
       "      <td>Book</td>\n",
       "      <td>NaN</td>\n",
       "      <td>NaN</td>\n",
       "      <td>https://www.zotero.org/groups/intelligence_bib...</td>\n",
       "      <td>2008</td>\n",
       "      <td>Roger Z. George, James B. Bruce</td>\n",
       "      <td>Georgetown University Press</td>\n",
       "      <td>NaN</td>\n",
       "      <td>2020-06-05T10:17:21Z</td>\n",
       "      <td>['HCN8YFI8']</td>\n",
       "      <td>NaN</td>\n",
       "    </tr>\n",
       "    <tr>\n",
       "      <th>6288</th>\n",
       "      <td>6288</td>\n",
       "      <td>Intelligence Services in the Information Age</td>\n",
       "      <td>Book</td>\n",
       "      <td>https://doi.org/10.4324/9780203479667</td>\n",
       "      <td>NaN</td>\n",
       "      <td>https://www.zotero.org/groups/intelligence_bib...</td>\n",
       "      <td>2013</td>\n",
       "      <td>Michael Herman</td>\n",
       "      <td>Routledge</td>\n",
       "      <td>NaN</td>\n",
       "      <td>2020-06-05T10:17:21Z</td>\n",
       "      <td>['HCN8YFI8']</td>\n",
       "      <td>NaN</td>\n",
       "    </tr>\n",
       "    <tr>\n",
       "      <th>6289</th>\n",
       "      <td>6289</td>\n",
       "      <td>Intelligence and Government in Britain and the...</td>\n",
       "      <td>Book</td>\n",
       "      <td>NaN</td>\n",
       "      <td>NaN</td>\n",
       "      <td>https://www.zotero.org/groups/intelligence_bib...</td>\n",
       "      <td>2012</td>\n",
       "      <td>Philip H.J. Davies</td>\n",
       "      <td>Praeger</td>\n",
       "      <td>NaN</td>\n",
       "      <td>2020-06-05T10:17:21Z</td>\n",
       "      <td>['HCN8YFI8', 'DVEM4H4W']</td>\n",
       "      <td>NaN</td>\n",
       "    </tr>\n",
       "    <tr>\n",
       "      <th>6290</th>\n",
       "      <td>6290</td>\n",
       "      <td>Silent Warfare: Understanding the World of Int...</td>\n",
       "      <td>Book</td>\n",
       "      <td>NaN</td>\n",
       "      <td>NaN</td>\n",
       "      <td>https://www.zotero.org/groups/intelligence_bib...</td>\n",
       "      <td>2002</td>\n",
       "      <td>Abram N. Shulsky, Gary Schmitt</td>\n",
       "      <td>Potomac Books</td>\n",
       "      <td>NaN</td>\n",
       "      <td>2020-06-05T10:17:21Z</td>\n",
       "      <td>['HCN8YFI8', 'DVEM4H4W']</td>\n",
       "      <td>NaN</td>\n",
       "    </tr>\n",
       "    <tr>\n",
       "      <th>6291</th>\n",
       "      <td>6291</td>\n",
       "      <td>Intelligence and Government in Britain and the...</td>\n",
       "      <td>Book</td>\n",
       "      <td>NaN</td>\n",
       "      <td>NaN</td>\n",
       "      <td>https://www.zotero.org/groups/intelligence_bib...</td>\n",
       "      <td>2012</td>\n",
       "      <td>Philip H.J. Davies</td>\n",
       "      <td>Praeger</td>\n",
       "      <td>NaN</td>\n",
       "      <td>2020-06-05T10:17:21Z</td>\n",
       "      <td>['HCN8YFI8', 'DVEM4H4W']</td>\n",
       "      <td>NaN</td>\n",
       "    </tr>\n",
       "  </tbody>\n",
       "</table>\n",
       "<p>6292 rows × 13 columns</p>\n",
       "</div>"
      ],
      "text/plain": [
       "      Unnamed: 0                                              Title  \\\n",
       "0              0  Espionage, Secrecy, and Institutional Moral Re...   \n",
       "1              1  Identification-imitation-amplification: unders...   \n",
       "2              2  Intelligence in international society: An Engl...   \n",
       "3              3  Combating disinformation in modern conflict re...   \n",
       "4              4            The Book Cipher System of the Wehrmacht   \n",
       "...          ...                                                ...   \n",
       "6287        6287  Analyzing Intelligence: Origins, Obstacles, an...   \n",
       "6288        6288       Intelligence Services in the Information Age   \n",
       "6289        6289  Intelligence and Government in Britain and the...   \n",
       "6290        6290  Silent Warfare: Understanding the World of Int...   \n",
       "6291        6291  Intelligence and Government in Britain and the...   \n",
       "\n",
       "     Publication type                                Link to publication  \\\n",
       "0     Journal article         https://doi.org/10.1007/s11572-024-09718-7   \n",
       "1     Journal article      https://doi.org/10.1080/02684527.2023.2300933   \n",
       "2     Journal article  https://durham-repository.worktribe.com/output...   \n",
       "3              Thesis  https://nla.brage.unit.no/nla-xmlui/handle/112...   \n",
       "4     Journal article          https://doi.org/10.1080/0161-119591883926   \n",
       "...               ...                                                ...   \n",
       "6287             Book                                                NaN   \n",
       "6288             Book              https://doi.org/10.4324/9780203479667   \n",
       "6289             Book                                                NaN   \n",
       "6290             Book                                                NaN   \n",
       "6291             Book                                                NaN   \n",
       "\n",
       "                                               Abstract  \\\n",
       "0     Cecile Fabre’s Through a Glass Darkly offers a...   \n",
       "1     Cyber-enabled influence campaigns sit at the n...   \n",
       "2     Despite the recent prominence of intelligence ...   \n",
       "3     This thesis examines how international media a...   \n",
       "4     Explanation of an German Army hand cipher syst...   \n",
       "...                                                 ...   \n",
       "6287                                                NaN   \n",
       "6288                                                NaN   \n",
       "6289                                                NaN   \n",
       "6290                                                NaN   \n",
       "6291                                                NaN   \n",
       "\n",
       "                                            Zotero link Date published  \\\n",
       "0     https://www.zotero.org/groups/intelligence_bib...     2024-02-24   \n",
       "1     https://www.zotero.org/groups/intelligence_bib...     2024-02-22   \n",
       "2     https://www.zotero.org/groups/intelligence_bib...     2024-02-22   \n",
       "3     https://www.zotero.org/groups/intelligence_bib...           2023   \n",
       "4     https://www.zotero.org/groups/intelligence_bib...     1995-07-01   \n",
       "...                                                 ...            ...   \n",
       "6287  https://www.zotero.org/groups/intelligence_bib...           2008   \n",
       "6288  https://www.zotero.org/groups/intelligence_bib...           2013   \n",
       "6289  https://www.zotero.org/groups/intelligence_bib...           2012   \n",
       "6290  https://www.zotero.org/groups/intelligence_bib...           2002   \n",
       "6291  https://www.zotero.org/groups/intelligence_bib...           2012   \n",
       "\n",
       "                           FirstName2                    Publisher  \\\n",
       "0                       Steven Ratner                          NaN   \n",
       "1      Jelena Vićić, Richard Harknett                          NaN   \n",
       "2                       John Williams                          NaN   \n",
       "3             Daniel Kudakwashe Mpala                          NaN   \n",
       "4              Michael van der Meulen                          NaN   \n",
       "...                               ...                          ...   \n",
       "6287  Roger Z. George, James B. Bruce  Georgetown University Press   \n",
       "6288                   Michael Herman                    Routledge   \n",
       "6289               Philip H.J. Davies                      Praeger   \n",
       "6290   Abram N. Shulsky, Gary Schmitt                Potomac Books   \n",
       "6291               Philip H.J. Davies                      Praeger   \n",
       "\n",
       "                                 Journal            Date added  \\\n",
       "0            Criminal Law and Philosophy  2024-02-26T23:30:38Z   \n",
       "1     Intelligence and National Security  2024-02-26T23:29:50Z   \n",
       "2                          Global Policy  2024-02-26T23:27:24Z   \n",
       "3                                    NaN  2024-02-26T23:25:16Z   \n",
       "4                            Cryptologia  2024-02-26T15:10:01Z   \n",
       "...                                  ...                   ...   \n",
       "6287                                 NaN  2020-06-05T10:17:21Z   \n",
       "6288                                 NaN  2020-06-05T10:17:21Z   \n",
       "6289                                 NaN  2020-06-05T10:17:21Z   \n",
       "6290                                 NaN  2020-06-05T10:17:21Z   \n",
       "6291                                 NaN  2020-06-05T10:17:21Z   \n",
       "\n",
       "                                   Col key                            DOI  \n",
       "0                             ['DVEM4H4W']     10.1007/s11572-024-09718-7  \n",
       "1                             ['8XXD789V']  10.1080/02684527.2023.2300933  \n",
       "2                             ['T92JK7A5']                            NaN  \n",
       "3                 ['LXMU5UXP', 'Y959U28A']                            NaN  \n",
       "4     ['T92JK7A5', 'SCCGXHMZ', 'AZ3BZ9BR']      10.1080/0161-119591883926  \n",
       "...                                    ...                            ...  \n",
       "6287                          ['HCN8YFI8']                            NaN  \n",
       "6288                          ['HCN8YFI8']                            NaN  \n",
       "6289              ['HCN8YFI8', 'DVEM4H4W']                            NaN  \n",
       "6290              ['HCN8YFI8', 'DVEM4H4W']                            NaN  \n",
       "6291              ['HCN8YFI8', 'DVEM4H4W']                            NaN  \n",
       "\n",
       "[6292 rows x 13 columns]"
      ]
     },
     "execution_count": 135,
     "metadata": {},
     "output_type": "execute_result"
    }
   ],
   "source": [
    "test = pd.read_csv('all_items.csv')\n",
    "test"
   ]
  },
  {
   "cell_type": "markdown",
   "metadata": {},
   "source": [
    "# Retrieving citation count and open access status"
   ]
  },
  {
   "cell_type": "code",
   "execution_count": 136,
   "metadata": {},
   "outputs": [
    {
     "name": "stdout",
     "output_type": "stream",
     "text": [
      "This part will be refreshed every Wednesday!\n"
     ]
    },
    {
     "data": {
      "text/html": [
       "<div>\n",
       "<style scoped>\n",
       "    .dataframe tbody tr th:only-of-type {\n",
       "        vertical-align: middle;\n",
       "    }\n",
       "\n",
       "    .dataframe tbody tr th {\n",
       "        vertical-align: top;\n",
       "    }\n",
       "\n",
       "    .dataframe thead th {\n",
       "        text-align: right;\n",
       "    }\n",
       "</style>\n",
       "<table border=\"1\" class=\"dataframe\">\n",
       "  <thead>\n",
       "    <tr style=\"text-align: right;\">\n",
       "      <th></th>\n",
       "      <th>Unnamed: 0</th>\n",
       "      <th>Title</th>\n",
       "      <th>Publication type</th>\n",
       "      <th>Link to publication</th>\n",
       "      <th>Abstract</th>\n",
       "      <th>Zotero link</th>\n",
       "      <th>Date published</th>\n",
       "      <th>FirstName2</th>\n",
       "      <th>Publisher</th>\n",
       "      <th>Journal</th>\n",
       "      <th>Date added</th>\n",
       "      <th>Col key</th>\n",
       "      <th>DOI</th>\n",
       "    </tr>\n",
       "  </thead>\n",
       "  <tbody>\n",
       "    <tr>\n",
       "      <th>0</th>\n",
       "      <td>0</td>\n",
       "      <td>Espionage, Secrecy, and Institutional Moral Re...</td>\n",
       "      <td>Journal article</td>\n",
       "      <td>https://doi.org/10.1007/s11572-024-09718-7</td>\n",
       "      <td>Cecile Fabre’s Through a Glass Darkly offers a...</td>\n",
       "      <td>https://www.zotero.org/groups/intelligence_bib...</td>\n",
       "      <td>2024-02-24</td>\n",
       "      <td>Steven Ratner</td>\n",
       "      <td>NaN</td>\n",
       "      <td>Criminal Law and Philosophy</td>\n",
       "      <td>2024-02-26T23:30:38Z</td>\n",
       "      <td>['DVEM4H4W']</td>\n",
       "      <td>10.1007/s11572-024-09718-7</td>\n",
       "    </tr>\n",
       "    <tr>\n",
       "      <th>1</th>\n",
       "      <td>1</td>\n",
       "      <td>Identification-imitation-amplification: unders...</td>\n",
       "      <td>Journal article</td>\n",
       "      <td>https://doi.org/10.1080/02684527.2023.2300933</td>\n",
       "      <td>Cyber-enabled influence campaigns sit at the n...</td>\n",
       "      <td>https://www.zotero.org/groups/intelligence_bib...</td>\n",
       "      <td>2024-02-22</td>\n",
       "      <td>Jelena Vićić, Richard Harknett</td>\n",
       "      <td>NaN</td>\n",
       "      <td>Intelligence and National Security</td>\n",
       "      <td>2024-02-26T23:29:50Z</td>\n",
       "      <td>['8XXD789V']</td>\n",
       "      <td>10.1080/02684527.2023.2300933</td>\n",
       "    </tr>\n",
       "    <tr>\n",
       "      <th>2</th>\n",
       "      <td>2</td>\n",
       "      <td>Intelligence in international society: An Engl...</td>\n",
       "      <td>Journal article</td>\n",
       "      <td>https://durham-repository.worktribe.com/output...</td>\n",
       "      <td>Despite the recent prominence of intelligence ...</td>\n",
       "      <td>https://www.zotero.org/groups/intelligence_bib...</td>\n",
       "      <td>2024-02-22</td>\n",
       "      <td>John Williams</td>\n",
       "      <td>NaN</td>\n",
       "      <td>Global Policy</td>\n",
       "      <td>2024-02-26T23:27:24Z</td>\n",
       "      <td>['T92JK7A5']</td>\n",
       "      <td>NaN</td>\n",
       "    </tr>\n",
       "    <tr>\n",
       "      <th>3</th>\n",
       "      <td>3</td>\n",
       "      <td>Combating disinformation in modern conflict re...</td>\n",
       "      <td>Thesis</td>\n",
       "      <td>https://nla.brage.unit.no/nla-xmlui/handle/112...</td>\n",
       "      <td>This thesis examines how international media a...</td>\n",
       "      <td>https://www.zotero.org/groups/intelligence_bib...</td>\n",
       "      <td>2023</td>\n",
       "      <td>Daniel Kudakwashe Mpala</td>\n",
       "      <td>NaN</td>\n",
       "      <td>NaN</td>\n",
       "      <td>2024-02-26T23:25:16Z</td>\n",
       "      <td>['LXMU5UXP', 'Y959U28A']</td>\n",
       "      <td>NaN</td>\n",
       "    </tr>\n",
       "    <tr>\n",
       "      <th>4</th>\n",
       "      <td>4</td>\n",
       "      <td>The Book Cipher System of the Wehrmacht</td>\n",
       "      <td>Journal article</td>\n",
       "      <td>https://doi.org/10.1080/0161-119591883926</td>\n",
       "      <td>Explanation of an German Army hand cipher syst...</td>\n",
       "      <td>https://www.zotero.org/groups/intelligence_bib...</td>\n",
       "      <td>1995-07-01</td>\n",
       "      <td>Michael van der Meulen</td>\n",
       "      <td>NaN</td>\n",
       "      <td>Cryptologia</td>\n",
       "      <td>2024-02-26T15:10:01Z</td>\n",
       "      <td>['T92JK7A5', 'SCCGXHMZ', 'AZ3BZ9BR']</td>\n",
       "      <td>10.1080/0161-119591883926</td>\n",
       "    </tr>\n",
       "    <tr>\n",
       "      <th>...</th>\n",
       "      <td>...</td>\n",
       "      <td>...</td>\n",
       "      <td>...</td>\n",
       "      <td>...</td>\n",
       "      <td>...</td>\n",
       "      <td>...</td>\n",
       "      <td>...</td>\n",
       "      <td>...</td>\n",
       "      <td>...</td>\n",
       "      <td>...</td>\n",
       "      <td>...</td>\n",
       "      <td>...</td>\n",
       "      <td>...</td>\n",
       "    </tr>\n",
       "    <tr>\n",
       "      <th>6287</th>\n",
       "      <td>6287</td>\n",
       "      <td>Analyzing Intelligence: Origins, Obstacles, an...</td>\n",
       "      <td>Book</td>\n",
       "      <td>NaN</td>\n",
       "      <td>NaN</td>\n",
       "      <td>https://www.zotero.org/groups/intelligence_bib...</td>\n",
       "      <td>2008</td>\n",
       "      <td>Roger Z. George, James B. Bruce</td>\n",
       "      <td>Georgetown University Press</td>\n",
       "      <td>NaN</td>\n",
       "      <td>2020-06-05T10:17:21Z</td>\n",
       "      <td>['HCN8YFI8']</td>\n",
       "      <td>NaN</td>\n",
       "    </tr>\n",
       "    <tr>\n",
       "      <th>6288</th>\n",
       "      <td>6288</td>\n",
       "      <td>Intelligence Services in the Information Age</td>\n",
       "      <td>Book</td>\n",
       "      <td>https://doi.org/10.4324/9780203479667</td>\n",
       "      <td>NaN</td>\n",
       "      <td>https://www.zotero.org/groups/intelligence_bib...</td>\n",
       "      <td>2013</td>\n",
       "      <td>Michael Herman</td>\n",
       "      <td>Routledge</td>\n",
       "      <td>NaN</td>\n",
       "      <td>2020-06-05T10:17:21Z</td>\n",
       "      <td>['HCN8YFI8']</td>\n",
       "      <td>NaN</td>\n",
       "    </tr>\n",
       "    <tr>\n",
       "      <th>6289</th>\n",
       "      <td>6289</td>\n",
       "      <td>Intelligence and Government in Britain and the...</td>\n",
       "      <td>Book</td>\n",
       "      <td>NaN</td>\n",
       "      <td>NaN</td>\n",
       "      <td>https://www.zotero.org/groups/intelligence_bib...</td>\n",
       "      <td>2012</td>\n",
       "      <td>Philip H.J. Davies</td>\n",
       "      <td>Praeger</td>\n",
       "      <td>NaN</td>\n",
       "      <td>2020-06-05T10:17:21Z</td>\n",
       "      <td>['HCN8YFI8', 'DVEM4H4W']</td>\n",
       "      <td>NaN</td>\n",
       "    </tr>\n",
       "    <tr>\n",
       "      <th>6290</th>\n",
       "      <td>6290</td>\n",
       "      <td>Silent Warfare: Understanding the World of Int...</td>\n",
       "      <td>Book</td>\n",
       "      <td>NaN</td>\n",
       "      <td>NaN</td>\n",
       "      <td>https://www.zotero.org/groups/intelligence_bib...</td>\n",
       "      <td>2002</td>\n",
       "      <td>Abram N. Shulsky, Gary Schmitt</td>\n",
       "      <td>Potomac Books</td>\n",
       "      <td>NaN</td>\n",
       "      <td>2020-06-05T10:17:21Z</td>\n",
       "      <td>['HCN8YFI8', 'DVEM4H4W']</td>\n",
       "      <td>NaN</td>\n",
       "    </tr>\n",
       "    <tr>\n",
       "      <th>6291</th>\n",
       "      <td>6291</td>\n",
       "      <td>Intelligence and Government in Britain and the...</td>\n",
       "      <td>Book</td>\n",
       "      <td>NaN</td>\n",
       "      <td>NaN</td>\n",
       "      <td>https://www.zotero.org/groups/intelligence_bib...</td>\n",
       "      <td>2012</td>\n",
       "      <td>Philip H.J. Davies</td>\n",
       "      <td>Praeger</td>\n",
       "      <td>NaN</td>\n",
       "      <td>2020-06-05T10:17:21Z</td>\n",
       "      <td>['HCN8YFI8', 'DVEM4H4W']</td>\n",
       "      <td>NaN</td>\n",
       "    </tr>\n",
       "  </tbody>\n",
       "</table>\n",
       "<p>6292 rows × 13 columns</p>\n",
       "</div>"
      ],
      "text/plain": [
       "      Unnamed: 0                                              Title  \\\n",
       "0              0  Espionage, Secrecy, and Institutional Moral Re...   \n",
       "1              1  Identification-imitation-amplification: unders...   \n",
       "2              2  Intelligence in international society: An Engl...   \n",
       "3              3  Combating disinformation in modern conflict re...   \n",
       "4              4            The Book Cipher System of the Wehrmacht   \n",
       "...          ...                                                ...   \n",
       "6287        6287  Analyzing Intelligence: Origins, Obstacles, an...   \n",
       "6288        6288       Intelligence Services in the Information Age   \n",
       "6289        6289  Intelligence and Government in Britain and the...   \n",
       "6290        6290  Silent Warfare: Understanding the World of Int...   \n",
       "6291        6291  Intelligence and Government in Britain and the...   \n",
       "\n",
       "     Publication type                                Link to publication  \\\n",
       "0     Journal article         https://doi.org/10.1007/s11572-024-09718-7   \n",
       "1     Journal article      https://doi.org/10.1080/02684527.2023.2300933   \n",
       "2     Journal article  https://durham-repository.worktribe.com/output...   \n",
       "3              Thesis  https://nla.brage.unit.no/nla-xmlui/handle/112...   \n",
       "4     Journal article          https://doi.org/10.1080/0161-119591883926   \n",
       "...               ...                                                ...   \n",
       "6287             Book                                                NaN   \n",
       "6288             Book              https://doi.org/10.4324/9780203479667   \n",
       "6289             Book                                                NaN   \n",
       "6290             Book                                                NaN   \n",
       "6291             Book                                                NaN   \n",
       "\n",
       "                                               Abstract  \\\n",
       "0     Cecile Fabre’s Through a Glass Darkly offers a...   \n",
       "1     Cyber-enabled influence campaigns sit at the n...   \n",
       "2     Despite the recent prominence of intelligence ...   \n",
       "3     This thesis examines how international media a...   \n",
       "4     Explanation of an German Army hand cipher syst...   \n",
       "...                                                 ...   \n",
       "6287                                                NaN   \n",
       "6288                                                NaN   \n",
       "6289                                                NaN   \n",
       "6290                                                NaN   \n",
       "6291                                                NaN   \n",
       "\n",
       "                                            Zotero link Date published  \\\n",
       "0     https://www.zotero.org/groups/intelligence_bib...     2024-02-24   \n",
       "1     https://www.zotero.org/groups/intelligence_bib...     2024-02-22   \n",
       "2     https://www.zotero.org/groups/intelligence_bib...     2024-02-22   \n",
       "3     https://www.zotero.org/groups/intelligence_bib...           2023   \n",
       "4     https://www.zotero.org/groups/intelligence_bib...     1995-07-01   \n",
       "...                                                 ...            ...   \n",
       "6287  https://www.zotero.org/groups/intelligence_bib...           2008   \n",
       "6288  https://www.zotero.org/groups/intelligence_bib...           2013   \n",
       "6289  https://www.zotero.org/groups/intelligence_bib...           2012   \n",
       "6290  https://www.zotero.org/groups/intelligence_bib...           2002   \n",
       "6291  https://www.zotero.org/groups/intelligence_bib...           2012   \n",
       "\n",
       "                           FirstName2                    Publisher  \\\n",
       "0                       Steven Ratner                          NaN   \n",
       "1      Jelena Vićić, Richard Harknett                          NaN   \n",
       "2                       John Williams                          NaN   \n",
       "3             Daniel Kudakwashe Mpala                          NaN   \n",
       "4              Michael van der Meulen                          NaN   \n",
       "...                               ...                          ...   \n",
       "6287  Roger Z. George, James B. Bruce  Georgetown University Press   \n",
       "6288                   Michael Herman                    Routledge   \n",
       "6289               Philip H.J. Davies                      Praeger   \n",
       "6290   Abram N. Shulsky, Gary Schmitt                Potomac Books   \n",
       "6291               Philip H.J. Davies                      Praeger   \n",
       "\n",
       "                                 Journal            Date added  \\\n",
       "0            Criminal Law and Philosophy  2024-02-26T23:30:38Z   \n",
       "1     Intelligence and National Security  2024-02-26T23:29:50Z   \n",
       "2                          Global Policy  2024-02-26T23:27:24Z   \n",
       "3                                    NaN  2024-02-26T23:25:16Z   \n",
       "4                            Cryptologia  2024-02-26T15:10:01Z   \n",
       "...                                  ...                   ...   \n",
       "6287                                 NaN  2020-06-05T10:17:21Z   \n",
       "6288                                 NaN  2020-06-05T10:17:21Z   \n",
       "6289                                 NaN  2020-06-05T10:17:21Z   \n",
       "6290                                 NaN  2020-06-05T10:17:21Z   \n",
       "6291                                 NaN  2020-06-05T10:17:21Z   \n",
       "\n",
       "                                   Col key                            DOI  \n",
       "0                             ['DVEM4H4W']     10.1007/s11572-024-09718-7  \n",
       "1                             ['8XXD789V']  10.1080/02684527.2023.2300933  \n",
       "2                             ['T92JK7A5']                            NaN  \n",
       "3                 ['LXMU5UXP', 'Y959U28A']                            NaN  \n",
       "4     ['T92JK7A5', 'SCCGXHMZ', 'AZ3BZ9BR']      10.1080/0161-119591883926  \n",
       "...                                    ...                            ...  \n",
       "6287                          ['HCN8YFI8']                            NaN  \n",
       "6288                          ['HCN8YFI8']                            NaN  \n",
       "6289              ['HCN8YFI8', 'DVEM4H4W']                            NaN  \n",
       "6290              ['HCN8YFI8', 'DVEM4H4W']                            NaN  \n",
       "6291              ['HCN8YFI8', 'DVEM4H4W']                            NaN  \n",
       "\n",
       "[6292 rows x 13 columns]"
      ]
     },
     "execution_count": 136,
     "metadata": {},
     "output_type": "execute_result"
    }
   ],
   "source": [
    "df_doi = pd.read_csv('all_items.csv')\n",
    "if datetime.today().weekday() == 2:\n",
    "\n",
    "    df_doi = df_doi[['Zotero link', 'DOI']].dropna()\n",
    "    df_doi = df_doi.drop(df_doi[df_doi['DOI'] == ''].index)\n",
    "    df_doi = df_doi.reset_index(drop=True)\n",
    "    df_doi['DOI'] = df_doi['DOI'].str.replace('https://doi.org/', '')\n",
    "\n",
    "    def fetch_article_metadata(doi):\n",
    "        base_url = 'https://api.openalex.org/works/https://doi.org/'\n",
    "        response = requests.get(base_url + doi)\n",
    "        if response.status_code == 200:\n",
    "            data = response.json()\n",
    "            counts_by_year = data.get('counts_by_year', [])\n",
    "            if counts_by_year:\n",
    "                first_citation_year = min(entry.get('year') for entry in data['counts_by_year'])\n",
    "            else:\n",
    "                first_citation_year = None\n",
    "            if data.get('counts_by_year'):\n",
    "                last_citation_year = max(entry.get('year') for entry in data['counts_by_year'])\n",
    "            else:\n",
    "                last_citation_year = None\n",
    "    \n",
    "            article_metadata = {\n",
    "                'ID': data.get('id'),\n",
    "                'Citation': data.get('cited_by_count'),\n",
    "                'OA status': data.get('open_access', {}).get('is_oa'),\n",
    "                'Citation_list': data.get('cited_by_api_url'),\n",
    "                'First_citation_year': first_citation_year,\n",
    "                'Last_citation_year':last_citation_year,\n",
    "                'Publication_year':data.get('publication_year')\n",
    "            }\n",
    "            return article_metadata\n",
    "        else:\n",
    "            return {'ID': None, 'Citation': None, 'OA status': None, 'First_citation_year': None, 'Last_citation_year':None, 'Publication_year' : None}\n",
    "    df_doi['ID'] = None\n",
    "    df_doi['Citation'] = None\n",
    "    df_doi['OA status'] = None\n",
    "    df_doi['Citation_list'] = None\n",
    "    df_doi['First_citation_year'] = None\n",
    "    df_doi['Last_citation_year']=None\n",
    "    df_doi['Publication_year'] = None\n",
    "\n",
    "    # Iterate over each row in the DataFrame\n",
    "    for index, row in df_doi.iterrows():\n",
    "        doi = row['DOI']\n",
    "        article_metadata = fetch_article_metadata(doi)\n",
    "        if article_metadata:\n",
    "            # Update DataFrame with fetched information\n",
    "            df_doi.at[index, 'ID'] = article_metadata['ID']\n",
    "            df_doi.at[index, 'Citation'] = article_metadata['Citation']\n",
    "            df_doi.at[index, 'OA status'] = article_metadata['OA status']\n",
    "            df_doi.at[index, 'First_citation_year'] = article_metadata['First_citation_year']\n",
    "            df_doi.at[index, 'Last_citation_year'] = article_metadata['Last_citation_year']\n",
    "            if 'Citation_list' in article_metadata:\n",
    "                df_doi.at[index, 'Citation_list'] = article_metadata['Citation_list']\n",
    "            else:\n",
    "                # Set to None if key is not found\n",
    "                df_doi.at[index, 'Citation_list'] = None\n",
    "            df_doi.at[index, 'Publication_year'] = article_metadata['Publication_year']\n",
    "\n",
    "    # Calculate the difference between First_citation_year and Publication_year\n",
    "    df_doi['Year_difference'] = df_doi['First_citation_year'] - df_doi['Publication_year']\n",
    "    df_doi.to_csv('citations.csv')\n",
    "else:\n",
    "    print('This part will be refreshed every Wednesday!')\n",
    "df_doi"
   ]
  },
  {
   "cell_type": "code",
   "execution_count": 137,
   "metadata": {},
   "outputs": [],
   "source": [
    "# ## Remove after the first successful retrieval 2024-02-18\n",
    "\n",
    "# df_doi = pd.read_csv('all_items.csv')\n",
    "# if datetime.today().weekday() == 3:\n",
    "\n",
    "#     df_doi = df_doi[['Zotero link', 'DOI']].dropna()\n",
    "#     df_doi = df_doi.drop(df_doi[df_doi['DOI'] == ''].index)\n",
    "#     df_doi = df_doi.reset_index(drop=True)\n",
    "#     df_doi['DOI'] = df_doi['DOI'].str.replace('https://doi.org/', '')\n",
    "\n",
    "#     def fetch_article_metadata(doi):\n",
    "#         base_url = 'https://api.openalex.org/works/https://doi.org/'\n",
    "#         response = requests.get(base_url + doi)\n",
    "#         if response.status_code == 200:\n",
    "#             data = response.json()\n",
    "#             counts_by_year = data.get('counts_by_year', [])\n",
    "#             if counts_by_year:\n",
    "#                 first_citation_year = min(entry.get('year') for entry in data['counts_by_year'])\n",
    "#             else:\n",
    "#                 first_citation_year = None\n",
    "#             article_metadata = {\n",
    "#                 'ID': data.get('id'),\n",
    "#                 'Citation': data.get('cited_by_count'),\n",
    "#                 'OA status': data.get('open_access', {}).get('is_oa'),\n",
    "#                 'Citation_list': data.get('cited_by_api_url'),\n",
    "#                 'First_citation_year': first_citation_year,\n",
    "#                 'Publication_year':data.get('publication_year')\n",
    "#             }\n",
    "#             return article_metadata\n",
    "#         else:\n",
    "#             return {'ID': None, 'Citation': None, 'OA status': None, 'First_citation_year': None, 'Publication_year' : None}\n",
    "#     df_doi['ID'] = None\n",
    "#     df_doi['Citation'] = None\n",
    "#     df_doi['OA status'] = None\n",
    "#     df_doi['Citation_list'] = None\n",
    "#     df_doi['First_citation_year'] = None\n",
    "#     df_doi['Publication_year'] = None\n",
    "\n",
    "#     # Iterate over each row in the DataFrame\n",
    "#     for index, row in df_doi.iterrows():\n",
    "#         doi = row['DOI']\n",
    "#         article_metadata = fetch_article_metadata(doi)\n",
    "#         if article_metadata:\n",
    "#             # Update DataFrame with fetched information\n",
    "#             df_doi.at[index, 'ID'] = article_metadata['ID']\n",
    "#             df_doi.at[index, 'Citation'] = article_metadata['Citation']\n",
    "#             df_doi.at[index, 'OA status'] = article_metadata['OA status']\n",
    "#             df_doi.at[index, 'First_citation_year'] = article_metadata['First_citation_year']\n",
    "#             if 'Citation_list' in article_metadata:\n",
    "#                 df_doi.at[index, 'Citation_list'] = article_metadata['Citation_list']\n",
    "#             else:\n",
    "#                 # Set to None if key is not found\n",
    "#                 df_doi.at[index, 'Citation_list'] = None\n",
    "#             df_doi.at[index, 'Publication_year'] = article_metadata['Publication_year']\n",
    "\n",
    "#     # Calculate the difference between First_citation_year and Publication_year\n",
    "#     df_doi['Year_difference'] = df_doi['First_citation_year'] - df_doi['Publication_year']\n",
    "#     df_doi.to_csv('citations.csv')\n",
    "# else:\n",
    "#     print('This part will be refreshed every Wednesday!')\n",
    "# df_doi"
   ]
  },
  {
   "cell_type": "code",
   "execution_count": 138,
   "metadata": {},
   "outputs": [],
   "source": [
    "# ## Retrieving citation and open access status without first ciation year\n",
    "# df_doi = pd.read_csv('all_items.csv')\n",
    "# # df_doi = df_doi.head(10)\n",
    "# if datetime.today().weekday() == 5:\n",
    "\n",
    "#     df_doi = df_doi[['Zotero link', 'DOI']].dropna()\n",
    "#     df_doi = df_doi.drop(df_doi[df_doi['DOI']==''].index)\n",
    "#     df_doi = df_doi.reset_index(drop=True)\n",
    "#     df_doi['DOI'] = df_doi['DOI'].str.replace('https://doi.org/', '')\n",
    "#     df_doi\n",
    "\n",
    "#     def fetch_article_metadata(doi):\n",
    "#         base_url = 'https://api.openalex.org/works/https://doi.org/'\n",
    "#         response = requests.get(base_url + doi)\n",
    "#         if response.status_code == 200:\n",
    "#             data = response.json()\n",
    "#             article_metadata = {\n",
    "#                 'ID': data.get('id'),\n",
    "#                 'Citation': data.get('cited_by_count'),\n",
    "#                 'OA status': data.get('open_access', {}).get('is_oa'),\n",
    "#                 'Citation_list':data.get('cited_by_api_url')\n",
    "#             }\n",
    "#             return article_metadata\n",
    "#         else:\n",
    "#             return {'ID': None, 'Citation': None, 'OA status': None}\n",
    "\n",
    "#     df_doi['ID'] = None\n",
    "#     df_doi['Citation'] = None\n",
    "#     df_doi['OA status'] = None\n",
    "#     df_doi['Citation_list'] = None\n",
    "\n",
    "#     # Iterate over each row in the DataFrame\n",
    "#     for index, row in df_doi.iterrows():\n",
    "#         doi = row['DOI']\n",
    "#         article_metadata = fetch_article_metadata(doi)\n",
    "#         if article_metadata:\n",
    "#             # Update DataFrame with fetched information\n",
    "#             df_doi.at[index, 'ID'] = article_metadata['ID']\n",
    "#             df_doi.at[index, 'Citation'] = article_metadata['Citation']\n",
    "#             df_doi.at[index, 'OA status'] = article_metadata['OA status']\n",
    "#             if 'Citation_list' in article_metadata:\n",
    "#                 df_doi.at[index, 'Citation_list'] = article_metadata['Citation_list']\n",
    "#             else:\n",
    "#                 # Set to None if key is not found\n",
    "#                 df_doi.at[index, 'Citation_list'] = None\n",
    "#     df_doi\n",
    "#     df_doi.to_csv('citations.csv')\n",
    "# else:\n",
    "#     print('This part will be refreshed every Wednesday!')"
   ]
  },
  {
   "cell_type": "code",
   "execution_count": 139,
   "metadata": {},
   "outputs": [
    {
     "data": {
      "text/html": [
       "<div>\n",
       "<style scoped>\n",
       "    .dataframe tbody tr th:only-of-type {\n",
       "        vertical-align: middle;\n",
       "    }\n",
       "\n",
       "    .dataframe tbody tr th {\n",
       "        vertical-align: top;\n",
       "    }\n",
       "\n",
       "    .dataframe thead th {\n",
       "        text-align: right;\n",
       "    }\n",
       "</style>\n",
       "<table border=\"1\" class=\"dataframe\">\n",
       "  <thead>\n",
       "    <tr style=\"text-align: right;\">\n",
       "      <th></th>\n",
       "      <th>Unnamed: 0</th>\n",
       "      <th>Title</th>\n",
       "      <th>Publication type</th>\n",
       "      <th>Link to publication</th>\n",
       "      <th>Abstract</th>\n",
       "      <th>Zotero link</th>\n",
       "      <th>Date published</th>\n",
       "      <th>FirstName2</th>\n",
       "      <th>Publisher</th>\n",
       "      <th>Journal</th>\n",
       "      <th>Date added</th>\n",
       "      <th>Col key</th>\n",
       "      <th>DOI</th>\n",
       "    </tr>\n",
       "  </thead>\n",
       "  <tbody>\n",
       "    <tr>\n",
       "      <th>0</th>\n",
       "      <td>0</td>\n",
       "      <td>Espionage, Secrecy, and Institutional Moral Re...</td>\n",
       "      <td>Journal article</td>\n",
       "      <td>https://doi.org/10.1007/s11572-024-09718-7</td>\n",
       "      <td>Cecile Fabre’s Through a Glass Darkly offers a...</td>\n",
       "      <td>https://www.zotero.org/groups/intelligence_bib...</td>\n",
       "      <td>2024-02-24</td>\n",
       "      <td>Steven Ratner</td>\n",
       "      <td>NaN</td>\n",
       "      <td>Criminal Law and Philosophy</td>\n",
       "      <td>2024-02-26T23:30:38Z</td>\n",
       "      <td>['DVEM4H4W']</td>\n",
       "      <td>10.1007/s11572-024-09718-7</td>\n",
       "    </tr>\n",
       "    <tr>\n",
       "      <th>1</th>\n",
       "      <td>1</td>\n",
       "      <td>Identification-imitation-amplification: unders...</td>\n",
       "      <td>Journal article</td>\n",
       "      <td>https://doi.org/10.1080/02684527.2023.2300933</td>\n",
       "      <td>Cyber-enabled influence campaigns sit at the n...</td>\n",
       "      <td>https://www.zotero.org/groups/intelligence_bib...</td>\n",
       "      <td>2024-02-22</td>\n",
       "      <td>Jelena Vićić, Richard Harknett</td>\n",
       "      <td>NaN</td>\n",
       "      <td>Intelligence and National Security</td>\n",
       "      <td>2024-02-26T23:29:50Z</td>\n",
       "      <td>['8XXD789V']</td>\n",
       "      <td>10.1080/02684527.2023.2300933</td>\n",
       "    </tr>\n",
       "    <tr>\n",
       "      <th>2</th>\n",
       "      <td>2</td>\n",
       "      <td>Intelligence in international society: An Engl...</td>\n",
       "      <td>Journal article</td>\n",
       "      <td>https://durham-repository.worktribe.com/output...</td>\n",
       "      <td>Despite the recent prominence of intelligence ...</td>\n",
       "      <td>https://www.zotero.org/groups/intelligence_bib...</td>\n",
       "      <td>2024-02-22</td>\n",
       "      <td>John Williams</td>\n",
       "      <td>NaN</td>\n",
       "      <td>Global Policy</td>\n",
       "      <td>2024-02-26T23:27:24Z</td>\n",
       "      <td>['T92JK7A5']</td>\n",
       "      <td>NaN</td>\n",
       "    </tr>\n",
       "    <tr>\n",
       "      <th>3</th>\n",
       "      <td>3</td>\n",
       "      <td>Combating disinformation in modern conflict re...</td>\n",
       "      <td>Thesis</td>\n",
       "      <td>https://nla.brage.unit.no/nla-xmlui/handle/112...</td>\n",
       "      <td>This thesis examines how international media a...</td>\n",
       "      <td>https://www.zotero.org/groups/intelligence_bib...</td>\n",
       "      <td>2023</td>\n",
       "      <td>Daniel Kudakwashe Mpala</td>\n",
       "      <td>NaN</td>\n",
       "      <td>NaN</td>\n",
       "      <td>2024-02-26T23:25:16Z</td>\n",
       "      <td>['LXMU5UXP', 'Y959U28A']</td>\n",
       "      <td>NaN</td>\n",
       "    </tr>\n",
       "    <tr>\n",
       "      <th>4</th>\n",
       "      <td>4</td>\n",
       "      <td>The Book Cipher System of the Wehrmacht</td>\n",
       "      <td>Journal article</td>\n",
       "      <td>https://doi.org/10.1080/0161-119591883926</td>\n",
       "      <td>Explanation of an German Army hand cipher syst...</td>\n",
       "      <td>https://www.zotero.org/groups/intelligence_bib...</td>\n",
       "      <td>1995-07-01</td>\n",
       "      <td>Michael van der Meulen</td>\n",
       "      <td>NaN</td>\n",
       "      <td>Cryptologia</td>\n",
       "      <td>2024-02-26T15:10:01Z</td>\n",
       "      <td>['T92JK7A5', 'SCCGXHMZ', 'AZ3BZ9BR']</td>\n",
       "      <td>10.1080/0161-119591883926</td>\n",
       "    </tr>\n",
       "    <tr>\n",
       "      <th>...</th>\n",
       "      <td>...</td>\n",
       "      <td>...</td>\n",
       "      <td>...</td>\n",
       "      <td>...</td>\n",
       "      <td>...</td>\n",
       "      <td>...</td>\n",
       "      <td>...</td>\n",
       "      <td>...</td>\n",
       "      <td>...</td>\n",
       "      <td>...</td>\n",
       "      <td>...</td>\n",
       "      <td>...</td>\n",
       "      <td>...</td>\n",
       "    </tr>\n",
       "    <tr>\n",
       "      <th>6287</th>\n",
       "      <td>6287</td>\n",
       "      <td>Analyzing Intelligence: Origins, Obstacles, an...</td>\n",
       "      <td>Book</td>\n",
       "      <td>NaN</td>\n",
       "      <td>NaN</td>\n",
       "      <td>https://www.zotero.org/groups/intelligence_bib...</td>\n",
       "      <td>2008</td>\n",
       "      <td>Roger Z. George, James B. Bruce</td>\n",
       "      <td>Georgetown University Press</td>\n",
       "      <td>NaN</td>\n",
       "      <td>2020-06-05T10:17:21Z</td>\n",
       "      <td>['HCN8YFI8']</td>\n",
       "      <td>NaN</td>\n",
       "    </tr>\n",
       "    <tr>\n",
       "      <th>6288</th>\n",
       "      <td>6288</td>\n",
       "      <td>Intelligence Services in the Information Age</td>\n",
       "      <td>Book</td>\n",
       "      <td>https://doi.org/10.4324/9780203479667</td>\n",
       "      <td>NaN</td>\n",
       "      <td>https://www.zotero.org/groups/intelligence_bib...</td>\n",
       "      <td>2013</td>\n",
       "      <td>Michael Herman</td>\n",
       "      <td>Routledge</td>\n",
       "      <td>NaN</td>\n",
       "      <td>2020-06-05T10:17:21Z</td>\n",
       "      <td>['HCN8YFI8']</td>\n",
       "      <td>NaN</td>\n",
       "    </tr>\n",
       "    <tr>\n",
       "      <th>6289</th>\n",
       "      <td>6289</td>\n",
       "      <td>Intelligence and Government in Britain and the...</td>\n",
       "      <td>Book</td>\n",
       "      <td>NaN</td>\n",
       "      <td>NaN</td>\n",
       "      <td>https://www.zotero.org/groups/intelligence_bib...</td>\n",
       "      <td>2012</td>\n",
       "      <td>Philip H.J. Davies</td>\n",
       "      <td>Praeger</td>\n",
       "      <td>NaN</td>\n",
       "      <td>2020-06-05T10:17:21Z</td>\n",
       "      <td>['HCN8YFI8', 'DVEM4H4W']</td>\n",
       "      <td>NaN</td>\n",
       "    </tr>\n",
       "    <tr>\n",
       "      <th>6290</th>\n",
       "      <td>6290</td>\n",
       "      <td>Silent Warfare: Understanding the World of Int...</td>\n",
       "      <td>Book</td>\n",
       "      <td>NaN</td>\n",
       "      <td>NaN</td>\n",
       "      <td>https://www.zotero.org/groups/intelligence_bib...</td>\n",
       "      <td>2002</td>\n",
       "      <td>Abram N. Shulsky, Gary Schmitt</td>\n",
       "      <td>Potomac Books</td>\n",
       "      <td>NaN</td>\n",
       "      <td>2020-06-05T10:17:21Z</td>\n",
       "      <td>['HCN8YFI8', 'DVEM4H4W']</td>\n",
       "      <td>NaN</td>\n",
       "    </tr>\n",
       "    <tr>\n",
       "      <th>6291</th>\n",
       "      <td>6291</td>\n",
       "      <td>Intelligence and Government in Britain and the...</td>\n",
       "      <td>Book</td>\n",
       "      <td>NaN</td>\n",
       "      <td>NaN</td>\n",
       "      <td>https://www.zotero.org/groups/intelligence_bib...</td>\n",
       "      <td>2012</td>\n",
       "      <td>Philip H.J. Davies</td>\n",
       "      <td>Praeger</td>\n",
       "      <td>NaN</td>\n",
       "      <td>2020-06-05T10:17:21Z</td>\n",
       "      <td>['HCN8YFI8', 'DVEM4H4W']</td>\n",
       "      <td>NaN</td>\n",
       "    </tr>\n",
       "  </tbody>\n",
       "</table>\n",
       "<p>6292 rows × 13 columns</p>\n",
       "</div>"
      ],
      "text/plain": [
       "      Unnamed: 0                                              Title  \\\n",
       "0              0  Espionage, Secrecy, and Institutional Moral Re...   \n",
       "1              1  Identification-imitation-amplification: unders...   \n",
       "2              2  Intelligence in international society: An Engl...   \n",
       "3              3  Combating disinformation in modern conflict re...   \n",
       "4              4            The Book Cipher System of the Wehrmacht   \n",
       "...          ...                                                ...   \n",
       "6287        6287  Analyzing Intelligence: Origins, Obstacles, an...   \n",
       "6288        6288       Intelligence Services in the Information Age   \n",
       "6289        6289  Intelligence and Government in Britain and the...   \n",
       "6290        6290  Silent Warfare: Understanding the World of Int...   \n",
       "6291        6291  Intelligence and Government in Britain and the...   \n",
       "\n",
       "     Publication type                                Link to publication  \\\n",
       "0     Journal article         https://doi.org/10.1007/s11572-024-09718-7   \n",
       "1     Journal article      https://doi.org/10.1080/02684527.2023.2300933   \n",
       "2     Journal article  https://durham-repository.worktribe.com/output...   \n",
       "3              Thesis  https://nla.brage.unit.no/nla-xmlui/handle/112...   \n",
       "4     Journal article          https://doi.org/10.1080/0161-119591883926   \n",
       "...               ...                                                ...   \n",
       "6287             Book                                                NaN   \n",
       "6288             Book              https://doi.org/10.4324/9780203479667   \n",
       "6289             Book                                                NaN   \n",
       "6290             Book                                                NaN   \n",
       "6291             Book                                                NaN   \n",
       "\n",
       "                                               Abstract  \\\n",
       "0     Cecile Fabre’s Through a Glass Darkly offers a...   \n",
       "1     Cyber-enabled influence campaigns sit at the n...   \n",
       "2     Despite the recent prominence of intelligence ...   \n",
       "3     This thesis examines how international media a...   \n",
       "4     Explanation of an German Army hand cipher syst...   \n",
       "...                                                 ...   \n",
       "6287                                                NaN   \n",
       "6288                                                NaN   \n",
       "6289                                                NaN   \n",
       "6290                                                NaN   \n",
       "6291                                                NaN   \n",
       "\n",
       "                                            Zotero link Date published  \\\n",
       "0     https://www.zotero.org/groups/intelligence_bib...     2024-02-24   \n",
       "1     https://www.zotero.org/groups/intelligence_bib...     2024-02-22   \n",
       "2     https://www.zotero.org/groups/intelligence_bib...     2024-02-22   \n",
       "3     https://www.zotero.org/groups/intelligence_bib...           2023   \n",
       "4     https://www.zotero.org/groups/intelligence_bib...     1995-07-01   \n",
       "...                                                 ...            ...   \n",
       "6287  https://www.zotero.org/groups/intelligence_bib...           2008   \n",
       "6288  https://www.zotero.org/groups/intelligence_bib...           2013   \n",
       "6289  https://www.zotero.org/groups/intelligence_bib...           2012   \n",
       "6290  https://www.zotero.org/groups/intelligence_bib...           2002   \n",
       "6291  https://www.zotero.org/groups/intelligence_bib...           2012   \n",
       "\n",
       "                           FirstName2                    Publisher  \\\n",
       "0                       Steven Ratner                          NaN   \n",
       "1      Jelena Vićić, Richard Harknett                          NaN   \n",
       "2                       John Williams                          NaN   \n",
       "3             Daniel Kudakwashe Mpala                          NaN   \n",
       "4              Michael van der Meulen                          NaN   \n",
       "...                               ...                          ...   \n",
       "6287  Roger Z. George, James B. Bruce  Georgetown University Press   \n",
       "6288                   Michael Herman                    Routledge   \n",
       "6289               Philip H.J. Davies                      Praeger   \n",
       "6290   Abram N. Shulsky, Gary Schmitt                Potomac Books   \n",
       "6291               Philip H.J. Davies                      Praeger   \n",
       "\n",
       "                                 Journal            Date added  \\\n",
       "0            Criminal Law and Philosophy  2024-02-26T23:30:38Z   \n",
       "1     Intelligence and National Security  2024-02-26T23:29:50Z   \n",
       "2                          Global Policy  2024-02-26T23:27:24Z   \n",
       "3                                    NaN  2024-02-26T23:25:16Z   \n",
       "4                            Cryptologia  2024-02-26T15:10:01Z   \n",
       "...                                  ...                   ...   \n",
       "6287                                 NaN  2020-06-05T10:17:21Z   \n",
       "6288                                 NaN  2020-06-05T10:17:21Z   \n",
       "6289                                 NaN  2020-06-05T10:17:21Z   \n",
       "6290                                 NaN  2020-06-05T10:17:21Z   \n",
       "6291                                 NaN  2020-06-05T10:17:21Z   \n",
       "\n",
       "                                   Col key                            DOI  \n",
       "0                             ['DVEM4H4W']     10.1007/s11572-024-09718-7  \n",
       "1                             ['8XXD789V']  10.1080/02684527.2023.2300933  \n",
       "2                             ['T92JK7A5']                            NaN  \n",
       "3                 ['LXMU5UXP', 'Y959U28A']                            NaN  \n",
       "4     ['T92JK7A5', 'SCCGXHMZ', 'AZ3BZ9BR']      10.1080/0161-119591883926  \n",
       "...                                    ...                            ...  \n",
       "6287                          ['HCN8YFI8']                            NaN  \n",
       "6288                          ['HCN8YFI8']                            NaN  \n",
       "6289              ['HCN8YFI8', 'DVEM4H4W']                            NaN  \n",
       "6290              ['HCN8YFI8', 'DVEM4H4W']                            NaN  \n",
       "6291              ['HCN8YFI8', 'DVEM4H4W']                            NaN  \n",
       "\n",
       "[6292 rows x 13 columns]"
      ]
     },
     "execution_count": 139,
     "metadata": {},
     "output_type": "execute_result"
    }
   ],
   "source": [
    "df_doi"
   ]
  },
  {
   "cell_type": "code",
   "execution_count": 140,
   "metadata": {},
   "outputs": [
    {
     "data": {
      "text/html": [
       "<div>\n",
       "<style scoped>\n",
       "    .dataframe tbody tr th:only-of-type {\n",
       "        vertical-align: middle;\n",
       "    }\n",
       "\n",
       "    .dataframe tbody tr th {\n",
       "        vertical-align: top;\n",
       "    }\n",
       "\n",
       "    .dataframe thead th {\n",
       "        text-align: right;\n",
       "    }\n",
       "</style>\n",
       "<table border=\"1\" class=\"dataframe\">\n",
       "  <thead>\n",
       "    <tr style=\"text-align: right;\">\n",
       "      <th></th>\n",
       "      <th>Zotero link</th>\n",
       "      <th>DOI</th>\n",
       "      <th>ID</th>\n",
       "      <th>Citation</th>\n",
       "      <th>OA status</th>\n",
       "      <th>Citation_list</th>\n",
       "      <th>First_citation_year</th>\n",
       "      <th>Last_citation_year</th>\n",
       "      <th>Publication_year</th>\n",
       "      <th>Year_difference</th>\n",
       "    </tr>\n",
       "  </thead>\n",
       "  <tbody>\n",
       "    <tr>\n",
       "      <th>0</th>\n",
       "      <td>https://www.zotero.org/groups/intelligence_bib...</td>\n",
       "      <td>10.1080/0161-110191889789</td>\n",
       "      <td>https://openalex.org/W2168866004</td>\n",
       "      <td>2.0</td>\n",
       "      <td>False</td>\n",
       "      <td>https://api.openalex.org/works?filter=cites:W2...</td>\n",
       "      <td>2015.0</td>\n",
       "      <td>2019.0</td>\n",
       "      <td>2001.0</td>\n",
       "      <td>14.0</td>\n",
       "    </tr>\n",
       "    <tr>\n",
       "      <th>1</th>\n",
       "      <td>https://www.zotero.org/groups/intelligence_bib...</td>\n",
       "      <td>10.1080/0161-110191889770</td>\n",
       "      <td>https://openalex.org/W2085197524</td>\n",
       "      <td>0.0</td>\n",
       "      <td>False</td>\n",
       "      <td>https://api.openalex.org/works?filter=cites:W2...</td>\n",
       "      <td>NaN</td>\n",
       "      <td>NaN</td>\n",
       "      <td>2001.0</td>\n",
       "      <td>NaN</td>\n",
       "    </tr>\n",
       "    <tr>\n",
       "      <th>2</th>\n",
       "      <td>https://www.zotero.org/groups/intelligence_bib...</td>\n",
       "      <td>10.1080/0161-110191889752</td>\n",
       "      <td>https://openalex.org/W2009156160</td>\n",
       "      <td>1.0</td>\n",
       "      <td>False</td>\n",
       "      <td>https://api.openalex.org/works?filter=cites:W2...</td>\n",
       "      <td>2015.0</td>\n",
       "      <td>2015.0</td>\n",
       "      <td>2001.0</td>\n",
       "      <td>14.0</td>\n",
       "    </tr>\n",
       "    <tr>\n",
       "      <th>3</th>\n",
       "      <td>https://www.zotero.org/groups/intelligence_bib...</td>\n",
       "      <td>10.1080/0161-110191889824</td>\n",
       "      <td>https://openalex.org/W2112525828</td>\n",
       "      <td>2.0</td>\n",
       "      <td>False</td>\n",
       "      <td>https://api.openalex.org/works?filter=cites:W2...</td>\n",
       "      <td>2015.0</td>\n",
       "      <td>2015.0</td>\n",
       "      <td>2001.0</td>\n",
       "      <td>14.0</td>\n",
       "    </tr>\n",
       "    <tr>\n",
       "      <th>4</th>\n",
       "      <td>https://www.zotero.org/groups/intelligence_bib...</td>\n",
       "      <td>10.1080/0161-110191889815</td>\n",
       "      <td>https://openalex.org/W2089666224</td>\n",
       "      <td>0.0</td>\n",
       "      <td>False</td>\n",
       "      <td>https://api.openalex.org/works?filter=cites:W2...</td>\n",
       "      <td>NaN</td>\n",
       "      <td>NaN</td>\n",
       "      <td>2001.0</td>\n",
       "      <td>NaN</td>\n",
       "    </tr>\n",
       "    <tr>\n",
       "      <th>...</th>\n",
       "      <td>...</td>\n",
       "      <td>...</td>\n",
       "      <td>...</td>\n",
       "      <td>...</td>\n",
       "      <td>...</td>\n",
       "      <td>...</td>\n",
       "      <td>...</td>\n",
       "      <td>...</td>\n",
       "      <td>...</td>\n",
       "      <td>...</td>\n",
       "    </tr>\n",
       "    <tr>\n",
       "      <th>3399</th>\n",
       "      <td>https://www.zotero.org/groups/intelligence_bib...</td>\n",
       "      <td>10.1177/1755088217712069</td>\n",
       "      <td>https://openalex.org/W2612406272</td>\n",
       "      <td>4.0</td>\n",
       "      <td>True</td>\n",
       "      <td>https://api.openalex.org/works?filter=cites:W2...</td>\n",
       "      <td>2019.0</td>\n",
       "      <td>2022.0</td>\n",
       "      <td>2017.0</td>\n",
       "      <td>2.0</td>\n",
       "    </tr>\n",
       "    <tr>\n",
       "      <th>3400</th>\n",
       "      <td>https://www.zotero.org/groups/intelligence_bib...</td>\n",
       "      <td>10.1080/08850607.2019.1660951</td>\n",
       "      <td>https://openalex.org/W2996219269</td>\n",
       "      <td>5.0</td>\n",
       "      <td>False</td>\n",
       "      <td>https://api.openalex.org/works?filter=cites:W2...</td>\n",
       "      <td>2021.0</td>\n",
       "      <td>2023.0</td>\n",
       "      <td>2019.0</td>\n",
       "      <td>2.0</td>\n",
       "    </tr>\n",
       "    <tr>\n",
       "      <th>3401</th>\n",
       "      <td>https://www.zotero.org/groups/intelligence_bib...</td>\n",
       "      <td>10.1080/08850607.2012.705186</td>\n",
       "      <td>https://openalex.org/W2033999438</td>\n",
       "      <td>26.0</td>\n",
       "      <td>False</td>\n",
       "      <td>https://api.openalex.org/works?filter=cites:W2...</td>\n",
       "      <td>2013.0</td>\n",
       "      <td>2022.0</td>\n",
       "      <td>2013.0</td>\n",
       "      <td>0.0</td>\n",
       "    </tr>\n",
       "    <tr>\n",
       "      <th>3402</th>\n",
       "      <td>https://www.zotero.org/groups/intelligence_bib...</td>\n",
       "      <td>10.1080/08850607.2020.1748993</td>\n",
       "      <td>https://openalex.org/W3022421216</td>\n",
       "      <td>0.0</td>\n",
       "      <td>False</td>\n",
       "      <td>https://api.openalex.org/works?filter=cites:W3...</td>\n",
       "      <td>NaN</td>\n",
       "      <td>NaN</td>\n",
       "      <td>2020.0</td>\n",
       "      <td>NaN</td>\n",
       "    </tr>\n",
       "    <tr>\n",
       "      <th>3403</th>\n",
       "      <td>https://www.zotero.org/groups/intelligence_bib...</td>\n",
       "      <td>10.1080/0268452042000302949</td>\n",
       "      <td>https://openalex.org/W2069639133</td>\n",
       "      <td>40.0</td>\n",
       "      <td>False</td>\n",
       "      <td>https://api.openalex.org/works?filter=cites:W2...</td>\n",
       "      <td>2012.0</td>\n",
       "      <td>2023.0</td>\n",
       "      <td>2004.0</td>\n",
       "      <td>8.0</td>\n",
       "    </tr>\n",
       "  </tbody>\n",
       "</table>\n",
       "<p>3404 rows × 10 columns</p>\n",
       "</div>"
      ],
      "text/plain": [
       "                                            Zotero link  \\\n",
       "0     https://www.zotero.org/groups/intelligence_bib...   \n",
       "1     https://www.zotero.org/groups/intelligence_bib...   \n",
       "2     https://www.zotero.org/groups/intelligence_bib...   \n",
       "3     https://www.zotero.org/groups/intelligence_bib...   \n",
       "4     https://www.zotero.org/groups/intelligence_bib...   \n",
       "...                                                 ...   \n",
       "3399  https://www.zotero.org/groups/intelligence_bib...   \n",
       "3400  https://www.zotero.org/groups/intelligence_bib...   \n",
       "3401  https://www.zotero.org/groups/intelligence_bib...   \n",
       "3402  https://www.zotero.org/groups/intelligence_bib...   \n",
       "3403  https://www.zotero.org/groups/intelligence_bib...   \n",
       "\n",
       "                                DOI                                ID  \\\n",
       "0         10.1080/0161-110191889789  https://openalex.org/W2168866004   \n",
       "1         10.1080/0161-110191889770  https://openalex.org/W2085197524   \n",
       "2         10.1080/0161-110191889752  https://openalex.org/W2009156160   \n",
       "3         10.1080/0161-110191889824  https://openalex.org/W2112525828   \n",
       "4         10.1080/0161-110191889815  https://openalex.org/W2089666224   \n",
       "...                             ...                               ...   \n",
       "3399       10.1177/1755088217712069  https://openalex.org/W2612406272   \n",
       "3400  10.1080/08850607.2019.1660951  https://openalex.org/W2996219269   \n",
       "3401   10.1080/08850607.2012.705186  https://openalex.org/W2033999438   \n",
       "3402  10.1080/08850607.2020.1748993  https://openalex.org/W3022421216   \n",
       "3403    10.1080/0268452042000302949  https://openalex.org/W2069639133   \n",
       "\n",
       "      Citation OA status                                      Citation_list  \\\n",
       "0          2.0     False  https://api.openalex.org/works?filter=cites:W2...   \n",
       "1          0.0     False  https://api.openalex.org/works?filter=cites:W2...   \n",
       "2          1.0     False  https://api.openalex.org/works?filter=cites:W2...   \n",
       "3          2.0     False  https://api.openalex.org/works?filter=cites:W2...   \n",
       "4          0.0     False  https://api.openalex.org/works?filter=cites:W2...   \n",
       "...        ...       ...                                                ...   \n",
       "3399       4.0      True  https://api.openalex.org/works?filter=cites:W2...   \n",
       "3400       5.0     False  https://api.openalex.org/works?filter=cites:W2...   \n",
       "3401      26.0     False  https://api.openalex.org/works?filter=cites:W2...   \n",
       "3402       0.0     False  https://api.openalex.org/works?filter=cites:W3...   \n",
       "3403      40.0     False  https://api.openalex.org/works?filter=cites:W2...   \n",
       "\n",
       "      First_citation_year  Last_citation_year  Publication_year  \\\n",
       "0                  2015.0              2019.0            2001.0   \n",
       "1                     NaN                 NaN            2001.0   \n",
       "2                  2015.0              2015.0            2001.0   \n",
       "3                  2015.0              2015.0            2001.0   \n",
       "4                     NaN                 NaN            2001.0   \n",
       "...                   ...                 ...               ...   \n",
       "3399               2019.0              2022.0            2017.0   \n",
       "3400               2021.0              2023.0            2019.0   \n",
       "3401               2013.0              2022.0            2013.0   \n",
       "3402                  NaN                 NaN            2020.0   \n",
       "3403               2012.0              2023.0            2004.0   \n",
       "\n",
       "      Year_difference  \n",
       "0                14.0  \n",
       "1                 NaN  \n",
       "2                14.0  \n",
       "3                14.0  \n",
       "4                 NaN  \n",
       "...               ...  \n",
       "3399              2.0  \n",
       "3400              2.0  \n",
       "3401              0.0  \n",
       "3402              NaN  \n",
       "3403              8.0  \n",
       "\n",
       "[3404 rows x 10 columns]"
      ]
     },
     "execution_count": 140,
     "metadata": {},
     "output_type": "execute_result"
    }
   ],
   "source": [
    "df_doi_2 = pd.read_csv('citations.csv', usecols=lambda column: column != 'Unnamed: 0')\n",
    "df_doi_2"
   ]
  },
  {
   "cell_type": "code",
   "execution_count": 141,
   "metadata": {},
   "outputs": [],
   "source": [
    "df_1 = pd.read_csv('all_items.csv', usecols=lambda column: column != 'Unnamed: 0')\n",
    "df_doi_1 = pd.read_csv('citations.csv', usecols=lambda column: column != 'Unnamed: 0')\n",
    "df_doi_1 = df_doi_1.drop(columns=['DOI'])\n",
    "df_1 = pd.merge(df_1, df_doi_1, on='Zotero link', how='left')\n",
    "df_1.to_csv('all_items.csv')"
   ]
  },
  {
   "cell_type": "code",
   "execution_count": 142,
   "metadata": {},
   "outputs": [],
   "source": [
    "df_2 = pd.read_csv('all_items_duplicated.csv', usecols=lambda column: column != 'Unnamed: 0')\n",
    "df_doi_2 = pd.read_csv('citations.csv', usecols=lambda column: column != 'Unnamed: 0')\n",
    "df_doi_2 = df_doi_2.drop(columns=['DOI'])\n",
    "df_2 = pd.merge(df_2, df_doi_2, on='Zotero link', how='left')\n",
    "df_2.to_csv('all_items_duplicated.csv')"
   ]
  },
  {
   "cell_type": "code",
   "execution_count": 143,
   "metadata": {},
   "outputs": [
    {
     "data": {
      "text/html": [
       "<div>\n",
       "<style scoped>\n",
       "    .dataframe tbody tr th:only-of-type {\n",
       "        vertical-align: middle;\n",
       "    }\n",
       "\n",
       "    .dataframe tbody tr th {\n",
       "        vertical-align: top;\n",
       "    }\n",
       "\n",
       "    .dataframe thead th {\n",
       "        text-align: right;\n",
       "    }\n",
       "</style>\n",
       "<table border=\"1\" class=\"dataframe\">\n",
       "  <thead>\n",
       "    <tr style=\"text-align: right;\">\n",
       "      <th></th>\n",
       "      <th>Unnamed: 0</th>\n",
       "      <th>Title</th>\n",
       "      <th>Publication type</th>\n",
       "      <th>Link to publication</th>\n",
       "      <th>Abstract</th>\n",
       "      <th>Zotero link</th>\n",
       "      <th>Date published</th>\n",
       "      <th>FirstName2</th>\n",
       "      <th>Publisher</th>\n",
       "      <th>Journal</th>\n",
       "      <th>...</th>\n",
       "      <th>Collection_Name</th>\n",
       "      <th>Collection_Link</th>\n",
       "      <th>ID</th>\n",
       "      <th>Citation</th>\n",
       "      <th>OA status</th>\n",
       "      <th>Citation_list</th>\n",
       "      <th>First_citation_year</th>\n",
       "      <th>Last_citation_year</th>\n",
       "      <th>Publication_year</th>\n",
       "      <th>Year_difference</th>\n",
       "    </tr>\n",
       "  </thead>\n",
       "  <tbody>\n",
       "    <tr>\n",
       "      <th>0</th>\n",
       "      <td>0</td>\n",
       "      <td>Espionage, Secrecy, and Institutional Moral Re...</td>\n",
       "      <td>Journal article</td>\n",
       "      <td>https://doi.org/10.1007/s11572-024-09718-7</td>\n",
       "      <td>Cecile Fabre’s Through a Glass Darkly offers a...</td>\n",
       "      <td>https://www.zotero.org/groups/intelligence_bib...</td>\n",
       "      <td>2024-02-24</td>\n",
       "      <td>Steven Ratner</td>\n",
       "      <td>NaN</td>\n",
       "      <td>Criminal Law and Philosophy</td>\n",
       "      <td>...</td>\n",
       "      <td>06 Accountability, oversight, and ethics</td>\n",
       "      <td>https://www.zotero.org/groups/intelligence_bib...</td>\n",
       "      <td>NaN</td>\n",
       "      <td>NaN</td>\n",
       "      <td>NaN</td>\n",
       "      <td>NaN</td>\n",
       "      <td>NaN</td>\n",
       "      <td>NaN</td>\n",
       "      <td>NaN</td>\n",
       "      <td>NaN</td>\n",
       "    </tr>\n",
       "    <tr>\n",
       "      <th>1</th>\n",
       "      <td>1</td>\n",
       "      <td>Identification-imitation-amplification: unders...</td>\n",
       "      <td>Journal article</td>\n",
       "      <td>https://doi.org/10.1080/02684527.2023.2300933</td>\n",
       "      <td>Cyber-enabled influence campaigns sit at the n...</td>\n",
       "      <td>https://www.zotero.org/groups/intelligence_bib...</td>\n",
       "      <td>2024-02-22</td>\n",
       "      <td>Jelena Vićić, Richard Harknett</td>\n",
       "      <td>NaN</td>\n",
       "      <td>Intelligence and National Security</td>\n",
       "      <td>...</td>\n",
       "      <td>10 Intelligence and cybersphere</td>\n",
       "      <td>https://www.zotero.org/groups/intelligence_bib...</td>\n",
       "      <td>NaN</td>\n",
       "      <td>NaN</td>\n",
       "      <td>NaN</td>\n",
       "      <td>NaN</td>\n",
       "      <td>NaN</td>\n",
       "      <td>NaN</td>\n",
       "      <td>NaN</td>\n",
       "      <td>NaN</td>\n",
       "    </tr>\n",
       "    <tr>\n",
       "      <th>2</th>\n",
       "      <td>2</td>\n",
       "      <td>Intelligence in international society: An Engl...</td>\n",
       "      <td>Journal article</td>\n",
       "      <td>https://durham-repository.worktribe.com/output...</td>\n",
       "      <td>Despite the recent prominence of intelligence ...</td>\n",
       "      <td>https://www.zotero.org/groups/intelligence_bib...</td>\n",
       "      <td>2024-02-22</td>\n",
       "      <td>John Williams</td>\n",
       "      <td>NaN</td>\n",
       "      <td>Global Policy</td>\n",
       "      <td>...</td>\n",
       "      <td>07.2 SIGINT</td>\n",
       "      <td>https://www.zotero.org/groups/intelligence_bib...</td>\n",
       "      <td>NaN</td>\n",
       "      <td>NaN</td>\n",
       "      <td>NaN</td>\n",
       "      <td>NaN</td>\n",
       "      <td>NaN</td>\n",
       "      <td>NaN</td>\n",
       "      <td>NaN</td>\n",
       "      <td>NaN</td>\n",
       "    </tr>\n",
       "    <tr>\n",
       "      <th>3</th>\n",
       "      <td>3</td>\n",
       "      <td>Combating disinformation in modern conflict re...</td>\n",
       "      <td>Thesis</td>\n",
       "      <td>https://nla.brage.unit.no/nla-xmlui/handle/112...</td>\n",
       "      <td>This thesis examines how international media a...</td>\n",
       "      <td>https://www.zotero.org/groups/intelligence_bib...</td>\n",
       "      <td>2023</td>\n",
       "      <td>Daniel Kudakwashe Mpala</td>\n",
       "      <td>NaN</td>\n",
       "      <td>NaN</td>\n",
       "      <td>...</td>\n",
       "      <td>07.4 OSINT - SOCMINT</td>\n",
       "      <td>https://www.zotero.org/groups/intelligence_bib...</td>\n",
       "      <td>NaN</td>\n",
       "      <td>NaN</td>\n",
       "      <td>NaN</td>\n",
       "      <td>NaN</td>\n",
       "      <td>NaN</td>\n",
       "      <td>NaN</td>\n",
       "      <td>NaN</td>\n",
       "      <td>NaN</td>\n",
       "    </tr>\n",
       "    <tr>\n",
       "      <th>4</th>\n",
       "      <td>4</td>\n",
       "      <td>Combating disinformation in modern conflict re...</td>\n",
       "      <td>Thesis</td>\n",
       "      <td>https://nla.brage.unit.no/nla-xmlui/handle/112...</td>\n",
       "      <td>This thesis examines how international media a...</td>\n",
       "      <td>https://www.zotero.org/groups/intelligence_bib...</td>\n",
       "      <td>2023</td>\n",
       "      <td>Daniel Kudakwashe Mpala</td>\n",
       "      <td>NaN</td>\n",
       "      <td>NaN</td>\n",
       "      <td>...</td>\n",
       "      <td>98.1 War in Ukraine</td>\n",
       "      <td>https://www.zotero.org/groups/intelligence_bib...</td>\n",
       "      <td>NaN</td>\n",
       "      <td>NaN</td>\n",
       "      <td>NaN</td>\n",
       "      <td>NaN</td>\n",
       "      <td>NaN</td>\n",
       "      <td>NaN</td>\n",
       "      <td>NaN</td>\n",
       "      <td>NaN</td>\n",
       "    </tr>\n",
       "    <tr>\n",
       "      <th>...</th>\n",
       "      <td>...</td>\n",
       "      <td>...</td>\n",
       "      <td>...</td>\n",
       "      <td>...</td>\n",
       "      <td>...</td>\n",
       "      <td>...</td>\n",
       "      <td>...</td>\n",
       "      <td>...</td>\n",
       "      <td>...</td>\n",
       "      <td>...</td>\n",
       "      <td>...</td>\n",
       "      <td>...</td>\n",
       "      <td>...</td>\n",
       "      <td>...</td>\n",
       "      <td>...</td>\n",
       "      <td>...</td>\n",
       "      <td>...</td>\n",
       "      <td>...</td>\n",
       "      <td>...</td>\n",
       "      <td>...</td>\n",
       "      <td>...</td>\n",
       "    </tr>\n",
       "    <tr>\n",
       "      <th>9428</th>\n",
       "      <td>9428</td>\n",
       "      <td>Intelligence and Government in Britain and the...</td>\n",
       "      <td>Book</td>\n",
       "      <td>NaN</td>\n",
       "      <td>NaN</td>\n",
       "      <td>https://www.zotero.org/groups/intelligence_bib...</td>\n",
       "      <td>2012</td>\n",
       "      <td>Philip H.J. Davies</td>\n",
       "      <td>Praeger</td>\n",
       "      <td>NaN</td>\n",
       "      <td>...</td>\n",
       "      <td>06 Accountability, oversight, and ethics</td>\n",
       "      <td>https://www.zotero.org/groups/intelligence_bib...</td>\n",
       "      <td>NaN</td>\n",
       "      <td>NaN</td>\n",
       "      <td>NaN</td>\n",
       "      <td>NaN</td>\n",
       "      <td>NaN</td>\n",
       "      <td>NaN</td>\n",
       "      <td>NaN</td>\n",
       "      <td>NaN</td>\n",
       "    </tr>\n",
       "    <tr>\n",
       "      <th>9429</th>\n",
       "      <td>9429</td>\n",
       "      <td>Silent Warfare: Understanding the World of Int...</td>\n",
       "      <td>Book</td>\n",
       "      <td>NaN</td>\n",
       "      <td>NaN</td>\n",
       "      <td>https://www.zotero.org/groups/intelligence_bib...</td>\n",
       "      <td>2002</td>\n",
       "      <td>Abram N. Shulsky, Gary Schmitt</td>\n",
       "      <td>Potomac Books</td>\n",
       "      <td>NaN</td>\n",
       "      <td>...</td>\n",
       "      <td>02 Intelligence studies</td>\n",
       "      <td>https://www.zotero.org/groups/intelligence_bib...</td>\n",
       "      <td>NaN</td>\n",
       "      <td>NaN</td>\n",
       "      <td>NaN</td>\n",
       "      <td>NaN</td>\n",
       "      <td>NaN</td>\n",
       "      <td>NaN</td>\n",
       "      <td>NaN</td>\n",
       "      <td>NaN</td>\n",
       "    </tr>\n",
       "    <tr>\n",
       "      <th>9430</th>\n",
       "      <td>9430</td>\n",
       "      <td>Silent Warfare: Understanding the World of Int...</td>\n",
       "      <td>Book</td>\n",
       "      <td>NaN</td>\n",
       "      <td>NaN</td>\n",
       "      <td>https://www.zotero.org/groups/intelligence_bib...</td>\n",
       "      <td>2002</td>\n",
       "      <td>Abram N. Shulsky, Gary Schmitt</td>\n",
       "      <td>Potomac Books</td>\n",
       "      <td>NaN</td>\n",
       "      <td>...</td>\n",
       "      <td>06 Accountability, oversight, and ethics</td>\n",
       "      <td>https://www.zotero.org/groups/intelligence_bib...</td>\n",
       "      <td>NaN</td>\n",
       "      <td>NaN</td>\n",
       "      <td>NaN</td>\n",
       "      <td>NaN</td>\n",
       "      <td>NaN</td>\n",
       "      <td>NaN</td>\n",
       "      <td>NaN</td>\n",
       "      <td>NaN</td>\n",
       "    </tr>\n",
       "    <tr>\n",
       "      <th>9431</th>\n",
       "      <td>9431</td>\n",
       "      <td>Intelligence and Government in Britain and the...</td>\n",
       "      <td>Book</td>\n",
       "      <td>NaN</td>\n",
       "      <td>NaN</td>\n",
       "      <td>https://www.zotero.org/groups/intelligence_bib...</td>\n",
       "      <td>2012</td>\n",
       "      <td>Philip H.J. Davies</td>\n",
       "      <td>Praeger</td>\n",
       "      <td>NaN</td>\n",
       "      <td>...</td>\n",
       "      <td>02 Intelligence studies</td>\n",
       "      <td>https://www.zotero.org/groups/intelligence_bib...</td>\n",
       "      <td>NaN</td>\n",
       "      <td>NaN</td>\n",
       "      <td>NaN</td>\n",
       "      <td>NaN</td>\n",
       "      <td>NaN</td>\n",
       "      <td>NaN</td>\n",
       "      <td>NaN</td>\n",
       "      <td>NaN</td>\n",
       "    </tr>\n",
       "    <tr>\n",
       "      <th>9432</th>\n",
       "      <td>9432</td>\n",
       "      <td>Intelligence and Government in Britain and the...</td>\n",
       "      <td>Book</td>\n",
       "      <td>NaN</td>\n",
       "      <td>NaN</td>\n",
       "      <td>https://www.zotero.org/groups/intelligence_bib...</td>\n",
       "      <td>2012</td>\n",
       "      <td>Philip H.J. Davies</td>\n",
       "      <td>Praeger</td>\n",
       "      <td>NaN</td>\n",
       "      <td>...</td>\n",
       "      <td>06 Accountability, oversight, and ethics</td>\n",
       "      <td>https://www.zotero.org/groups/intelligence_bib...</td>\n",
       "      <td>NaN</td>\n",
       "      <td>NaN</td>\n",
       "      <td>NaN</td>\n",
       "      <td>NaN</td>\n",
       "      <td>NaN</td>\n",
       "      <td>NaN</td>\n",
       "      <td>NaN</td>\n",
       "      <td>NaN</td>\n",
       "    </tr>\n",
       "  </tbody>\n",
       "</table>\n",
       "<p>9433 rows × 24 columns</p>\n",
       "</div>"
      ],
      "text/plain": [
       "      Unnamed: 0                                              Title  \\\n",
       "0              0  Espionage, Secrecy, and Institutional Moral Re...   \n",
       "1              1  Identification-imitation-amplification: unders...   \n",
       "2              2  Intelligence in international society: An Engl...   \n",
       "3              3  Combating disinformation in modern conflict re...   \n",
       "4              4  Combating disinformation in modern conflict re...   \n",
       "...          ...                                                ...   \n",
       "9428        9428  Intelligence and Government in Britain and the...   \n",
       "9429        9429  Silent Warfare: Understanding the World of Int...   \n",
       "9430        9430  Silent Warfare: Understanding the World of Int...   \n",
       "9431        9431  Intelligence and Government in Britain and the...   \n",
       "9432        9432  Intelligence and Government in Britain and the...   \n",
       "\n",
       "     Publication type                                Link to publication  \\\n",
       "0     Journal article         https://doi.org/10.1007/s11572-024-09718-7   \n",
       "1     Journal article      https://doi.org/10.1080/02684527.2023.2300933   \n",
       "2     Journal article  https://durham-repository.worktribe.com/output...   \n",
       "3              Thesis  https://nla.brage.unit.no/nla-xmlui/handle/112...   \n",
       "4              Thesis  https://nla.brage.unit.no/nla-xmlui/handle/112...   \n",
       "...               ...                                                ...   \n",
       "9428             Book                                                NaN   \n",
       "9429             Book                                                NaN   \n",
       "9430             Book                                                NaN   \n",
       "9431             Book                                                NaN   \n",
       "9432             Book                                                NaN   \n",
       "\n",
       "                                               Abstract  \\\n",
       "0     Cecile Fabre’s Through a Glass Darkly offers a...   \n",
       "1     Cyber-enabled influence campaigns sit at the n...   \n",
       "2     Despite the recent prominence of intelligence ...   \n",
       "3     This thesis examines how international media a...   \n",
       "4     This thesis examines how international media a...   \n",
       "...                                                 ...   \n",
       "9428                                                NaN   \n",
       "9429                                                NaN   \n",
       "9430                                                NaN   \n",
       "9431                                                NaN   \n",
       "9432                                                NaN   \n",
       "\n",
       "                                            Zotero link Date published  \\\n",
       "0     https://www.zotero.org/groups/intelligence_bib...     2024-02-24   \n",
       "1     https://www.zotero.org/groups/intelligence_bib...     2024-02-22   \n",
       "2     https://www.zotero.org/groups/intelligence_bib...     2024-02-22   \n",
       "3     https://www.zotero.org/groups/intelligence_bib...           2023   \n",
       "4     https://www.zotero.org/groups/intelligence_bib...           2023   \n",
       "...                                                 ...            ...   \n",
       "9428  https://www.zotero.org/groups/intelligence_bib...           2012   \n",
       "9429  https://www.zotero.org/groups/intelligence_bib...           2002   \n",
       "9430  https://www.zotero.org/groups/intelligence_bib...           2002   \n",
       "9431  https://www.zotero.org/groups/intelligence_bib...           2012   \n",
       "9432  https://www.zotero.org/groups/intelligence_bib...           2012   \n",
       "\n",
       "                          FirstName2      Publisher  \\\n",
       "0                      Steven Ratner            NaN   \n",
       "1     Jelena Vićić, Richard Harknett            NaN   \n",
       "2                      John Williams            NaN   \n",
       "3            Daniel Kudakwashe Mpala            NaN   \n",
       "4            Daniel Kudakwashe Mpala            NaN   \n",
       "...                              ...            ...   \n",
       "9428              Philip H.J. Davies        Praeger   \n",
       "9429  Abram N. Shulsky, Gary Schmitt  Potomac Books   \n",
       "9430  Abram N. Shulsky, Gary Schmitt  Potomac Books   \n",
       "9431              Philip H.J. Davies        Praeger   \n",
       "9432              Philip H.J. Davies        Praeger   \n",
       "\n",
       "                                 Journal  ...  \\\n",
       "0            Criminal Law and Philosophy  ...   \n",
       "1     Intelligence and National Security  ...   \n",
       "2                          Global Policy  ...   \n",
       "3                                    NaN  ...   \n",
       "4                                    NaN  ...   \n",
       "...                                  ...  ...   \n",
       "9428                                 NaN  ...   \n",
       "9429                                 NaN  ...   \n",
       "9430                                 NaN  ...   \n",
       "9431                                 NaN  ...   \n",
       "9432                                 NaN  ...   \n",
       "\n",
       "                               Collection_Name  \\\n",
       "0     06 Accountability, oversight, and ethics   \n",
       "1              10 Intelligence and cybersphere   \n",
       "2                                  07.2 SIGINT   \n",
       "3                         07.4 OSINT - SOCMINT   \n",
       "4                          98.1 War in Ukraine   \n",
       "...                                        ...   \n",
       "9428  06 Accountability, oversight, and ethics   \n",
       "9429                   02 Intelligence studies   \n",
       "9430  06 Accountability, oversight, and ethics   \n",
       "9431                   02 Intelligence studies   \n",
       "9432  06 Accountability, oversight, and ethics   \n",
       "\n",
       "                                        Collection_Link   ID Citation  \\\n",
       "0     https://www.zotero.org/groups/intelligence_bib...  NaN      NaN   \n",
       "1     https://www.zotero.org/groups/intelligence_bib...  NaN      NaN   \n",
       "2     https://www.zotero.org/groups/intelligence_bib...  NaN      NaN   \n",
       "3     https://www.zotero.org/groups/intelligence_bib...  NaN      NaN   \n",
       "4     https://www.zotero.org/groups/intelligence_bib...  NaN      NaN   \n",
       "...                                                 ...  ...      ...   \n",
       "9428  https://www.zotero.org/groups/intelligence_bib...  NaN      NaN   \n",
       "9429  https://www.zotero.org/groups/intelligence_bib...  NaN      NaN   \n",
       "9430  https://www.zotero.org/groups/intelligence_bib...  NaN      NaN   \n",
       "9431  https://www.zotero.org/groups/intelligence_bib...  NaN      NaN   \n",
       "9432  https://www.zotero.org/groups/intelligence_bib...  NaN      NaN   \n",
       "\n",
       "     OA status Citation_list First_citation_year  Last_citation_year  \\\n",
       "0          NaN           NaN                 NaN                 NaN   \n",
       "1          NaN           NaN                 NaN                 NaN   \n",
       "2          NaN           NaN                 NaN                 NaN   \n",
       "3          NaN           NaN                 NaN                 NaN   \n",
       "4          NaN           NaN                 NaN                 NaN   \n",
       "...        ...           ...                 ...                 ...   \n",
       "9428       NaN           NaN                 NaN                 NaN   \n",
       "9429       NaN           NaN                 NaN                 NaN   \n",
       "9430       NaN           NaN                 NaN                 NaN   \n",
       "9431       NaN           NaN                 NaN                 NaN   \n",
       "9432       NaN           NaN                 NaN                 NaN   \n",
       "\n",
       "     Publication_year Year_difference  \n",
       "0                 NaN             NaN  \n",
       "1                 NaN             NaN  \n",
       "2                 NaN             NaN  \n",
       "3                 NaN             NaN  \n",
       "4                 NaN             NaN  \n",
       "...               ...             ...  \n",
       "9428              NaN             NaN  \n",
       "9429              NaN             NaN  \n",
       "9430              NaN             NaN  \n",
       "9431              NaN             NaN  \n",
       "9432              NaN             NaN  \n",
       "\n",
       "[9433 rows x 24 columns]"
      ]
     },
     "execution_count": 143,
     "metadata": {},
     "output_type": "execute_result"
    }
   ],
   "source": [
    "df_2 = pd.read_csv('all_items_duplicated.csv')\n",
    "df_2"
   ]
  },
  {
   "cell_type": "code",
   "execution_count": 144,
   "metadata": {},
   "outputs": [
    {
     "data": {
      "text/html": [
       "<div>\n",
       "<style scoped>\n",
       "    .dataframe tbody tr th:only-of-type {\n",
       "        vertical-align: middle;\n",
       "    }\n",
       "\n",
       "    .dataframe tbody tr th {\n",
       "        vertical-align: top;\n",
       "    }\n",
       "\n",
       "    .dataframe thead th {\n",
       "        text-align: right;\n",
       "    }\n",
       "</style>\n",
       "<table border=\"1\" class=\"dataframe\">\n",
       "  <thead>\n",
       "    <tr style=\"text-align: right;\">\n",
       "      <th></th>\n",
       "      <th>Unnamed: 0</th>\n",
       "      <th>Title</th>\n",
       "      <th>Publication type</th>\n",
       "      <th>Link to publication</th>\n",
       "      <th>Abstract</th>\n",
       "      <th>Zotero link</th>\n",
       "      <th>Date published</th>\n",
       "      <th>FirstName2</th>\n",
       "      <th>Publisher</th>\n",
       "      <th>Journal</th>\n",
       "      <th>...</th>\n",
       "      <th>Collection_Name</th>\n",
       "      <th>Collection_Link</th>\n",
       "      <th>ID</th>\n",
       "      <th>Citation</th>\n",
       "      <th>OA status</th>\n",
       "      <th>Citation_list</th>\n",
       "      <th>First_citation_year</th>\n",
       "      <th>Last_citation_year</th>\n",
       "      <th>Publication_year</th>\n",
       "      <th>Year_difference</th>\n",
       "    </tr>\n",
       "  </thead>\n",
       "  <tbody>\n",
       "    <tr>\n",
       "      <th>9414</th>\n",
       "      <td>9414</td>\n",
       "      <td>Diplomatic Spying: How Useful Is It?</td>\n",
       "      <td>Journal article</td>\n",
       "      <td>https://doi.org/10.1080/08850607.2020.1748993</td>\n",
       "      <td>NaN</td>\n",
       "      <td>https://www.zotero.org/groups/intelligence_bib...</td>\n",
       "      <td>April 30, 2020</td>\n",
       "      <td>John A. Gentry</td>\n",
       "      <td>NaN</td>\n",
       "      <td>Intl Journal of Intelligence and Counterintell...</td>\n",
       "      <td>...</td>\n",
       "      <td>02 Intelligence studies</td>\n",
       "      <td>https://www.zotero.org/groups/intelligence_bib...</td>\n",
       "      <td>https://openalex.org/W3022421216</td>\n",
       "      <td>0.0</td>\n",
       "      <td>False</td>\n",
       "      <td>https://api.openalex.org/works?filter=cites:W3...</td>\n",
       "      <td>NaN</td>\n",
       "      <td>NaN</td>\n",
       "      <td>2020.0</td>\n",
       "      <td>NaN</td>\n",
       "    </tr>\n",
       "  </tbody>\n",
       "</table>\n",
       "<p>1 rows × 24 columns</p>\n",
       "</div>"
      ],
      "text/plain": [
       "      Unnamed: 0                                 Title Publication type  \\\n",
       "9414        9414  Diplomatic Spying: How Useful Is It?  Journal article   \n",
       "\n",
       "                                Link to publication Abstract  \\\n",
       "9414  https://doi.org/10.1080/08850607.2020.1748993      NaN   \n",
       "\n",
       "                                            Zotero link  Date published  \\\n",
       "9414  https://www.zotero.org/groups/intelligence_bib...  April 30, 2020   \n",
       "\n",
       "          FirstName2 Publisher  \\\n",
       "9414  John A. Gentry       NaN   \n",
       "\n",
       "                                                Journal  ...  \\\n",
       "9414  Intl Journal of Intelligence and Counterintell...  ...   \n",
       "\n",
       "              Collection_Name  \\\n",
       "9414  02 Intelligence studies   \n",
       "\n",
       "                                        Collection_Link  \\\n",
       "9414  https://www.zotero.org/groups/intelligence_bib...   \n",
       "\n",
       "                                    ID Citation OA status  \\\n",
       "9414  https://openalex.org/W3022421216      0.0     False   \n",
       "\n",
       "                                          Citation_list First_citation_year  \\\n",
       "9414  https://api.openalex.org/works?filter=cites:W3...                 NaN   \n",
       "\n",
       "      Last_citation_year Publication_year Year_difference  \n",
       "9414                 NaN           2020.0             NaN  \n",
       "\n",
       "[1 rows x 24 columns]"
      ]
     },
     "execution_count": 144,
     "metadata": {},
     "output_type": "execute_result"
    }
   ],
   "source": [
    "ttt = df_2[df_2['DOI']=='10.1080/08850607.2020.1748993']\n",
    "ttt"
   ]
  }
 ],
 "metadata": {
  "kernelspec": {
   "display_name": "Python 3.10.6 64-bit",
   "language": "python",
   "name": "python3"
  },
  "language_info": {
   "codemirror_mode": {
    "name": "ipython",
    "version": 3
   },
   "file_extension": ".py",
   "mimetype": "text/x-python",
   "name": "python",
   "nbconvert_exporter": "python",
   "pygments_lexer": "ipython3",
   "version": "3.10.6"
  },
  "vscode": {
   "interpreter": {
    "hash": "ad80e88e3d0f45253c4e09d27534efe22e9bb02b1c82d05b21d80e484bb90b14"
   }
  }
 },
 "nbformat": 4,
 "nbformat_minor": 2
}
