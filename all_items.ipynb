{
 "cells": [
  {
   "attachments": {},
   "cell_type": "markdown",
   "metadata": {},
   "source": [
    "# Importing libraries"
   ]
  },
  {
   "cell_type": "code",
   "execution_count": 145,
   "metadata": {},
   "outputs": [],
   "source": [
    "from pyzotero import zotero\n",
    "import os\n",
    "import tweepy as tw\n",
    "import pandas as pd\n",
    "import datetime\n",
    "import json, sys\n",
    "from datetime import date, timedelta  \n",
    "import datetime\n",
    "import plotly.express as px\n",
    "import pycountry\n",
    "import re\n",
    "import pandas as pd\n",
    "import requests\n",
    "import time\n",
    "from datetime import datetime, timedelta"
   ]
  },
  {
   "cell_type": "code",
   "execution_count": 146,
   "metadata": {},
   "outputs": [
    {
     "data": {
      "text/plain": [
       "2"
      ]
     },
     "execution_count": 146,
     "metadata": {},
     "output_type": "execute_result"
    }
   ],
   "source": [
    "\"# All items in the Zotero Intelligence bibliography library\".index(\"All\")"
   ]
  },
  {
   "cell_type": "code",
   "execution_count": 147,
   "metadata": {},
   "outputs": [],
   "source": [
    "library_id = '2514686'\n",
    "library_type = 'group'\n",
    "api_key = '' # api_key is only needed for private groups and libraries\n",
    "zot = zotero.Zotero(library_id, library_type)\n"
   ]
  },
  {
   "attachments": {},
   "cell_type": "markdown",
   "metadata": {},
   "source": [
    "# All items in the Zotero Intelligence bibliography library"
   ]
  },
  {
   "cell_type": "code",
   "execution_count": 148,
   "metadata": {},
   "outputs": [],
   "source": [
    "items = zot.everything(zot.top())\n",
    "\n",
    "data3=[]\n",
    "columns3=['Title','Publication type', 'Link to publication', 'Abstract', 'Zotero link', 'Date published', 'FirstName2', 'Publisher', 'Journal', 'Date added', 'Col key', 'DOI']\n",
    "\n",
    "for item in items:\n",
    "    # Extracting various types of creators\n",
    "    authors = \"\"\n",
    "    if 'creators' in item['data']:\n",
    "        authors_info = item['data']['creators']\n",
    "        author_names = []\n",
    "        for author in authors_info:\n",
    "            creator_type = author.get('creatorType')\n",
    "            valid_types = ['author', 'contributor', 'editor', 'guest', 'podcaster', 'presenter', 'translator']\n",
    "            \n",
    "            if item['data']['itemType'] == 'bookSection' and creator_type == 'editor':\n",
    "                continue  # Skip adding 'editor' for Book chapters\n",
    "            \n",
    "            if creator_type in valid_types:\n",
    "                if 'firstName' in author and 'lastName' in author:\n",
    "                    author_names.append(author['firstName'] + ' ' + author['lastName'])\n",
    "                elif 'name' in author:\n",
    "                    author_names.append(author['name'])\n",
    "                \n",
    "        authors = ', '.join(author_names)\n",
    "        \n",
    "    data3.append((\n",
    "        item['data']['title'], \n",
    "        item['data']['itemType'], \n",
    "        item['data']['url'], \n",
    "        item['data']['abstractNote'], \n",
    "        item['links']['alternate']['href'],\n",
    "        item['data'].get('date'),\n",
    "        authors,  # Add the concatenated authors string\n",
    "        item['data'].get('publisher'),\n",
    "        item['data'].get('publicationTitle'),\n",
    "        item['data']['dateAdded'],\n",
    "        item['data']['collections'],\n",
    "        item['data'].get('DOI')\n",
    "        ))\n",
    "# pd.set_option('display.max_colwidth', None)\n",
    "\n",
    "df = pd.DataFrame(data3, columns=columns3)\n",
    "\n",
    "mapping_types = {\n",
    "    'thesis': 'Thesis',\n",
    "    'journalArticle': 'Journal article',\n",
    "    'book': 'Book',\n",
    "    'bookSection': 'Book chapter',\n",
    "    'blogPost': 'Blog post',\n",
    "    'videoRecording': 'Video',\n",
    "    'podcast': 'Podcast',\n",
    "    'magazineArticle': 'Magazine article',\n",
    "    'webpage': 'Webpage',\n",
    "    'newspaperArticle': 'Newspaper article',\n",
    "    'report': 'Report',\n",
    "    'forumPost': 'Forum post',\n",
    "    'manuscript': 'Manuscript',\n",
    "    'document': 'Document',\n",
    "    'conferencePaper': 'Conference paper',\n",
    "    'film': 'Film',\n",
    "    'presentation': 'Presentation',\n",
    "    'audioRecording':'Podcast',\n",
    "    'preprint':'Preprint',\n",
    "    'hearing':'Hearing'\n",
    "}\n",
    "df['Publication type'] = df['Publication type'].replace(mapping_types)\n",
    "\n",
    "mapping_publisher = {\n",
    "    'Taylor & Francis Group': 'Taylor and Francis',\n",
    "    'Taylor and Francis': 'Taylor and Francis',\n",
    "    'Taylor & Francis': 'Taylor and Francis',\n",
    "    'Routledge': 'Routledge',\n",
    "    'Routledge Handbooks Online': 'Routledge',\n",
    "    'Praeger Security International': 'Praeger',\n",
    "    'Praeger': 'Praeger'\n",
    "}\n",
    "df['Publisher'] = df['Publisher'].replace(mapping_publisher)\n",
    "\n",
    "# df['Publisher'] = df['Publisher'].replace(['Taylor & Francis Group', 'Taylor and Francis', 'Taylor & Francis'], 'Taylor and Francis')\n",
    "# df['Publisher'] = df['Publisher'].replace(['Routledge', 'Routledge Handbooks Online'], 'Routledge')\n",
    "# df['Publisher'] = df['Publisher'].replace(['Praeger Security International', 'Praeger'], 'Praeger')\n",
    "\n",
    "mapping_journal = {\n",
    "    'International Journal of Intelligence and Counterintelligence': 'Intl Journal of Intelligence and Counterintelligence',\n",
    "    'International Journal of Intelligence and CounterIntelligence': 'Intl Journal of Intelligence and Counterintelligence',\n",
    "    'International Journal of Intelligence and Counter Intelligence': 'Intl Journal of Intelligence and Counterintelligence',\n",
    "    'Intelligence and national security': 'Intelligence and National Security',\n",
    "    'Intelligence and National Security': 'Intelligence and National Security',\n",
    "    'Intelligence & National Security': 'Intelligence and National Security'\n",
    "}\n",
    "\n",
    "df['Journal'] = df['Journal'].replace(mapping_journal)\n",
    "\n",
    "# df['Journal'] = df['Journal'].replace(['International Journal of Intelligence and Counterintelligence', 'International Journal of Intelligence and CounterIntelligence'], 'Intl Journal of Intelligence and Counterintelligence')\n",
    "# df['Journal'] = df['Journal'].replace(['Intelligence and national security', 'Intelligence and National Security', 'Intelligence & National Security'], 'Intelligence and National Security')"
   ]
  },
  {
   "cell_type": "code",
   "execution_count": 149,
   "metadata": {},
   "outputs": [
    {
     "data": {
      "text/html": [
       "<div>\n",
       "<style scoped>\n",
       "    .dataframe tbody tr th:only-of-type {\n",
       "        vertical-align: middle;\n",
       "    }\n",
       "\n",
       "    .dataframe tbody tr th {\n",
       "        vertical-align: top;\n",
       "    }\n",
       "\n",
       "    .dataframe thead th {\n",
       "        text-align: right;\n",
       "    }\n",
       "</style>\n",
       "<table border=\"1\" class=\"dataframe\">\n",
       "  <thead>\n",
       "    <tr style=\"text-align: right;\">\n",
       "      <th></th>\n",
       "      <th>Title</th>\n",
       "      <th>Publication type</th>\n",
       "      <th>Link to publication</th>\n",
       "      <th>Abstract</th>\n",
       "      <th>Zotero link</th>\n",
       "      <th>Date published</th>\n",
       "      <th>FirstName2</th>\n",
       "      <th>Publisher</th>\n",
       "      <th>Journal</th>\n",
       "      <th>Date added</th>\n",
       "      <th>Col key</th>\n",
       "      <th>DOI</th>\n",
       "    </tr>\n",
       "  </thead>\n",
       "  <tbody>\n",
       "    <tr>\n",
       "      <th>160</th>\n",
       "      <td>Intelligence Practice and Democratic Oversight</td>\n",
       "      <td>Report</td>\n",
       "      <td>https://www.dcaf.ch/intelligence-practice-and-...</td>\n",
       "      <td></td>\n",
       "      <td>https://www.zotero.org/groups/intelligence_bib...</td>\n",
       "      <td>2003-07-01</td>\n",
       "      <td>Geneva Centre for Security Sector Governance</td>\n",
       "      <td>None</td>\n",
       "      <td>None</td>\n",
       "      <td>2024-02-19T11:03:09Z</td>\n",
       "      <td>[DVEM4H4W]</td>\n",
       "      <td>None</td>\n",
       "    </tr>\n",
       "  </tbody>\n",
       "</table>\n",
       "</div>"
      ],
      "text/plain": [
       "                                              Title Publication type  \\\n",
       "160  Intelligence Practice and Democratic Oversight           Report   \n",
       "\n",
       "                                   Link to publication Abstract  \\\n",
       "160  https://www.dcaf.ch/intelligence-practice-and-...            \n",
       "\n",
       "                                           Zotero link Date published  \\\n",
       "160  https://www.zotero.org/groups/intelligence_bib...     2003-07-01   \n",
       "\n",
       "                                       FirstName2 Publisher Journal  \\\n",
       "160  Geneva Centre for Security Sector Governance      None    None   \n",
       "\n",
       "               Date added     Col key   DOI  \n",
       "160  2024-02-19T11:03:09Z  [DVEM4H4W]  None  "
      ]
     },
     "execution_count": 149,
     "metadata": {},
     "output_type": "execute_result"
    }
   ],
   "source": [
    "df_test = df[df['Title']=='Intelligence Practice and Democratic Oversight']\n",
    "df_test"
   ]
  },
  {
   "cell_type": "code",
   "execution_count": 150,
   "metadata": {},
   "outputs": [],
   "source": [
    "# items = zot.everything(zot.top())\n",
    "\n",
    "# data3=[]\n",
    "# columns3=['Title','Publication type', 'Link to publication', 'Abstract', 'Zotero link', 'Date published', 'FirstName2', 'Publisher', 'Journal', 'Date added', 'Col key']\n",
    "\n",
    "# for item in items:\n",
    "#     # Extracting various types of creators\n",
    "#     authors = \"\"\n",
    "#     if 'creators' in item['data']:\n",
    "#         authors_info = item['data']['creators']\n",
    "#         author_names = []\n",
    "#         for author in authors_info:\n",
    "#             creator_type = author.get('creatorType')\n",
    "#             valid_types = ['author', 'contributor', 'editor', 'guest', 'podcaster']\n",
    "#             if creator_type in valid_types:  # Include all identified creator types\n",
    "#                 if 'firstName' in author and 'lastName' in author:\n",
    "#                     author_names.append(author['firstName'] + ' ' + author['lastName'])\n",
    "#                 elif 'name' in author:\n",
    "#                     author_names.append(author['name'])  # Handling cases where 'firstName' and 'lastName' are absent\n",
    "                \n",
    "#         authors = ', '.join(author_names)\n",
    "        \n",
    "#     data3.append((\n",
    "#         item['data']['title'], \n",
    "#         item['data']['itemType'], \n",
    "#         item['data']['url'], \n",
    "#         item['data']['abstractNote'], \n",
    "#         item['links']['alternate']['href'],\n",
    "#         item['data'].get('date'),\n",
    "#         authors,  # Add the concatenated authors string\n",
    "#         item['data'].get('publisher'),\n",
    "#         item['data'].get('publicationTitle'),\n",
    "#         item['data']['dateAdded'],\n",
    "#         item['data']['collections']\n",
    "#         )) \n",
    "# # pd.set_option('display.max_colwidth', None)\n",
    "\n",
    "# df = pd.DataFrame(data3, columns=columns3)\n",
    "\n",
    "# mapping_types = {\n",
    "#     'thesis': 'Thesis',\n",
    "#     'journalArticle': 'Journal article',\n",
    "#     'book': 'Book',\n",
    "#     'bookSection': 'Book chapter',\n",
    "#     'blogPost': 'Blog post',\n",
    "#     'videoRecording': 'Video',\n",
    "#     'podcast': 'Podcast',\n",
    "#     'magazineArticle': 'Magazine article',\n",
    "#     'webpage': 'Webpage',\n",
    "#     'newspaperArticle': 'Newspaper article',\n",
    "#     'report': 'Report',\n",
    "#     'forumPost': 'Forum post',\n",
    "#     'manuscript': 'Manuscript',\n",
    "#     'document': 'Document',\n",
    "#     'conferencePaper': 'Conference paper',\n",
    "#     'film': 'Film',\n",
    "#     'presentation': 'Presentation',\n",
    "#     'audioRecording':'Podcast'\n",
    "# }\n",
    "# df['Publication type'] = df['Publication type'].replace(mapping_types)\n",
    "\n",
    "# mapping_publisher = {\n",
    "#     'Taylor & Francis Group': 'Taylor and Francis',\n",
    "#     'Taylor and Francis': 'Taylor and Francis',\n",
    "#     'Taylor & Francis': 'Taylor and Francis',\n",
    "#     'Routledge': 'Routledge',\n",
    "#     'Routledge Handbooks Online': 'Routledge',\n",
    "#     'Praeger Security International': 'Praeger',\n",
    "#     'Praeger': 'Praeger'\n",
    "# }\n",
    "# df['Publisher'] = df['Publisher'].replace(mapping_publisher)\n",
    "\n",
    "# # df['Publisher'] = df['Publisher'].replace(['Taylor & Francis Group', 'Taylor and Francis', 'Taylor & Francis'], 'Taylor and Francis')\n",
    "# # df['Publisher'] = df['Publisher'].replace(['Routledge', 'Routledge Handbooks Online'], 'Routledge')\n",
    "# # df['Publisher'] = df['Publisher'].replace(['Praeger Security International', 'Praeger'], 'Praeger')\n",
    "\n",
    "# mapping_journal = {\n",
    "#     'International Journal of Intelligence and Counterintelligence': 'Intl Journal of Intelligence and Counterintelligence',\n",
    "#     'International Journal of Intelligence and CounterIntelligence': 'Intl Journal of Intelligence and Counterintelligence',\n",
    "#     'Intelligence and national security': 'Intelligence and National Security',\n",
    "#     'Intelligence and National Security': 'Intelligence and National Security',\n",
    "#     'Intelligence & National Security': 'Intelligence and National Security'\n",
    "# }\n",
    "\n",
    "# df['Journal'] = df['Journal'].replace(mapping_journal)\n",
    "\n",
    "# # df['Journal'] = df['Journal'].replace(['International Journal of Intelligence and Counterintelligence', 'International Journal of Intelligence and CounterIntelligence'], 'Intl Journal of Intelligence and Counterintelligence')\n",
    "# # df['Journal'] = df['Journal'].replace(['Intelligence and national security', 'Intelligence and National Security', 'Intelligence & National Security'], 'Intelligence and National Security')"
   ]
  },
  {
   "cell_type": "code",
   "execution_count": 151,
   "metadata": {},
   "outputs": [],
   "source": [
    "def zotero_collections2(library_id, library_type):\n",
    "    collections = zot.collections()\n",
    "    data = [(item['data']['key'], item['data']['name'], item['meta']['numItems'], item['links']['alternate']['href']) for item in collections]\n",
    "    df_collections = pd.DataFrame(data, columns=['Key', 'Name', 'Number', 'Link'])\n",
    "    return df_collections\n",
    "df_collections_2 = zotero_collections2(library_id, library_type)"
   ]
  },
  {
   "cell_type": "code",
   "execution_count": 152,
   "metadata": {},
   "outputs": [],
   "source": [
    "def duplicate_rows_by_col_key(df, df_collections):\n",
    "    # Duplicate rows based on 'Col key'\n",
    "    duplicated_rows = []\n",
    "    for index, row in df.iterrows():\n",
    "        if isinstance(row['Col key'], list):\n",
    "            for key in row['Col key']:\n",
    "                new_row = row.copy()\n",
    "                collection_info = df_collections[df_collections['Key'] == key]\n",
    "                if not collection_info.empty:\n",
    "                    new_row['Collection_Key'] = key\n",
    "                    new_row['Collection_Name'] = collection_info.iloc[0]['Name']\n",
    "                    new_row['Collection_Link'] = collection_info.iloc[0]['Link']\n",
    "                    duplicated_rows.append(new_row)\n",
    "        else:\n",
    "            key = row['Col key']\n",
    "            new_row = row.copy()\n",
    "            collection_info = df_collections[df_collections['Key'] == key]\n",
    "            if not collection_info.empty:\n",
    "                new_row['Collection_Key'] = key\n",
    "                new_row['Collection_Name'] = collection_info.iloc[0]['Name']\n",
    "                new_row['Collection_Link'] = collection_info.iloc[0]['Link']\n",
    "                duplicated_rows.append(new_row)\n",
    "\n",
    "    # Create a new DataFrame with duplicated rows\n",
    "    duplicated_df = pd.DataFrame(duplicated_rows)\n",
    "\n",
    "    return duplicated_df\n",
    "\n",
    "# Duplicating rows based on 'Col key' and collections information\n",
    "duplicated_df = duplicate_rows_by_col_key(df, df_collections_2)"
   ]
  },
  {
   "cell_type": "code",
   "execution_count": 153,
   "metadata": {},
   "outputs": [],
   "source": [
    "# day_allitems = datetime.date.today().isoformat()"
   ]
  },
  {
   "cell_type": "code",
   "execution_count": 154,
   "metadata": {},
   "outputs": [],
   "source": [
    "# df_fa = df['FirstName2']\n",
    "# df_fa = pd.DataFrame(df_fa.tolist())\n",
    "# df_fa = df_fa[0]\n",
    "# df_fa = df_fa.apply(lambda x: {} if pd.isna(x) else x)\n",
    "# df_new = pd.json_normalize(df_fa, errors='ignore') \n",
    "# df = pd.concat([df, df_new], axis=1)\n",
    "# df['firstName'] = df['firstName'].fillna('null')\n",
    "# df['lastName'] = df['lastName'].fillna('null')"
   ]
  },
  {
   "cell_type": "code",
   "execution_count": 155,
   "metadata": {},
   "outputs": [],
   "source": [
    "df.to_csv('all_items.csv')\n",
    "duplicated_df.to_csv('all_items_duplicated.csv')"
   ]
  },
  {
   "cell_type": "code",
   "execution_count": 156,
   "metadata": {},
   "outputs": [],
   "source": [
    "import psycopg2\n",
    "from sqlalchemy import create_engine\n",
    "import psycopg2.extras as extras"
   ]
  },
  {
   "attachments": {},
   "cell_type": "markdown",
   "metadata": {},
   "source": [
    "# Countries "
   ]
  },
  {
   "cell_type": "code",
   "execution_count": 157,
   "metadata": {},
   "outputs": [],
   "source": [
    "# Read the csv file into a pandas dataframe\n",
    "df = pd.read_csv('https://raw.githubusercontent.com/YusufAliOzkan/zotero-intelligence-bibliography/main/all_items.csv')\n",
    "\n",
    "# Dictionary to map non-proper country names to their proper names\n",
    "country_map = {\n",
    "    'british': 'UK',\n",
    "    'great britain': 'UK',\n",
    "    'UK' : 'UK', \n",
    "    'america' : 'United States',\n",
    "    'United States of America' : 'United States',\n",
    "    'Soviet Union': 'Russia', \n",
    "    'american' : 'United States',\n",
    "    'United States' : 'United States',\n",
    "    'russian' : 'Russia'\n",
    "    # Add more mappings as needed\n",
    "}\n",
    "\n",
    "# Find the country names in the \"title\" column of the dataframe\n",
    "found_countries = {}\n",
    "for i, row in df.iterrows():\n",
    "    title = str(row['Title']).lower()\n",
    "    for country in pycountry.countries:\n",
    "        name = country.name.lower()\n",
    "        if name in title or (name + 's') in title:  # Check for singular and plural forms of country names\n",
    "            proper_name = country.name\n",
    "            found_countries[proper_name] = found_countries.get(proper_name, 0) + 1\n",
    "    for non_proper, proper in country_map.items():\n",
    "        if non_proper in title:\n",
    "            found_countries[proper] = found_countries.get(proper, 0) + title.count(non_proper)\n",
    "\n",
    "# Create a new dataframe containing the found countries and their counts\n",
    "df_countries = pd.DataFrame({'Country': list(found_countries.keys()), 'Count': list(found_countries.values())})"
   ]
  },
  {
   "cell_type": "code",
   "execution_count": 158,
   "metadata": {},
   "outputs": [
    {
     "data": {
      "application/vnd.plotly.v1+json": {
       "config": {
        "plotlyServerURL": "https://plot.ly"
       },
       "data": [
        {
         "coloraxis": "coloraxis",
         "geo": "geo",
         "hovertemplate": "Country=%{location}<br>Count=%{z}<extra></extra>",
         "locationmode": "country names",
         "locations": [
          "UK",
          "Germany",
          "United States",
          "China",
          "Indonesia",
          "Canada",
          "Australia",
          "India",
          "Russia",
          "Afghanistan",
          "Norway",
          "South Africa",
          "Cuba",
          "Lebanon",
          "Ireland",
          "Estonia",
          "Israel",
          "Guatemala",
          "Japan",
          "Iraq",
          "Kuwait",
          "Ukraine",
          "Oman",
          "Romania",
          "Slovakia",
          "Chile",
          "Thailand",
          "United Kingdom",
          "Lithuania",
          "Mexico",
          "Netherlands",
          "New Zealand",
          "Egypt",
          "Albania",
          "Congo",
          "Libya",
          "Kenya",
          "Bangladesh",
          "Jordan",
          "Bulgaria",
          "Mali",
          "Sweden",
          "Costa Rica",
          "France",
          "Switzerland",
          "Latvia",
          "Brazil",
          "Poland",
          "Pakistan",
          "Austria",
          "Denmark",
          "Spain",
          "El Salvador",
          "Turkey",
          "Bosnia and Herzegovina",
          "Hungary",
          "Niger",
          "Nigeria",
          "Italy",
          "Hong Kong",
          "Uganda",
          "Sudan",
          "Haiti",
          "Cyprus",
          "Saudi Arabia",
          "Cambodia",
          "Algeria",
          "Singapore",
          "Yemen",
          "Zimbabwe",
          "Malaysia",
          "Greece",
          "Tajikistan",
          "Myanmar",
          "Sri Lanka",
          "Kazakhstan",
          "Tunisia",
          "Serbia",
          "Ghana",
          "Colombia",
          "Peru",
          "Namibia",
          "Mongolia",
          "Slovenia",
          "Portugal",
          "Nicaragua",
          "Argentina",
          "Ecuador",
          "Ethiopia",
          "Dominica",
          "Morocco",
          "Guinea",
          "Georgia",
          "Gibraltar",
          "Finland",
          "Philippines",
          "Belgium",
          "Mozambique",
          "Rwanda",
          "Antarctica",
          "South Sudan",
          "Angola",
          "North Macedonia",
          "Dominican Republic",
          "Somalia",
          "United Arab Emirates",
          "Uruguay",
          "Nepal"
         ],
         "name": "",
         "type": "choropleth",
         "z": [
          443,
          73,
          622,
          69,
          9,
          64,
          69,
          51,
          127,
          17,
          10,
          23,
          37,
          9,
          34,
          1,
          139,
          3,
          102,
          64,
          2,
          102,
          59,
          24,
          11,
          8,
          5,
          19,
          3,
          7,
          11,
          18,
          26,
          10,
          6,
          6,
          2,
          15,
          6,
          4,
          10,
          11,
          1,
          45,
          6,
          4,
          28,
          10,
          15,
          10,
          6,
          12,
          1,
          16,
          4,
          3,
          3,
          3,
          12,
          4,
          3,
          5,
          2,
          10,
          4,
          2,
          6,
          6,
          5,
          1,
          3,
          7,
          1,
          2,
          2,
          1,
          3,
          4,
          3,
          8,
          4,
          1,
          1,
          1,
          3,
          1,
          5,
          2,
          1,
          2,
          3,
          2,
          2,
          3,
          5,
          2,
          6,
          1,
          1,
          1,
          3,
          1,
          1,
          1,
          1,
          1,
          1,
          1
         ]
        }
       ],
       "layout": {
        "coloraxis": {
         "colorbar": {
          "title": {
           "text": "Count"
          }
         },
         "colorscale": [
          [
           0,
           "#440154"
          ],
          [
           0.1111111111111111,
           "#482878"
          ],
          [
           0.2222222222222222,
           "#3e4989"
          ],
          [
           0.3333333333333333,
           "#31688e"
          ],
          [
           0.4444444444444444,
           "#26828e"
          ],
          [
           0.5555555555555556,
           "#1f9e89"
          ],
          [
           0.6666666666666666,
           "#35b779"
          ],
          [
           0.7777777777777778,
           "#6ece58"
          ],
          [
           0.8888888888888888,
           "#b5de2b"
          ],
          [
           1,
           "#fde725"
          ]
         ]
        },
        "geo": {
         "center": {},
         "domain": {
          "x": [
           0,
           1
          ],
          "y": [
           0,
           1
          ]
         }
        },
        "height": 700,
        "legend": {
         "tracegroupgap": 0
        },
        "template": {
         "data": {
          "bar": [
           {
            "error_x": {
             "color": "#2a3f5f"
            },
            "error_y": {
             "color": "#2a3f5f"
            },
            "marker": {
             "line": {
              "color": "#E5ECF6",
              "width": 0.5
             },
             "pattern": {
              "fillmode": "overlay",
              "size": 10,
              "solidity": 0.2
             }
            },
            "type": "bar"
           }
          ],
          "barpolar": [
           {
            "marker": {
             "line": {
              "color": "#E5ECF6",
              "width": 0.5
             },
             "pattern": {
              "fillmode": "overlay",
              "size": 10,
              "solidity": 0.2
             }
            },
            "type": "barpolar"
           }
          ],
          "carpet": [
           {
            "aaxis": {
             "endlinecolor": "#2a3f5f",
             "gridcolor": "white",
             "linecolor": "white",
             "minorgridcolor": "white",
             "startlinecolor": "#2a3f5f"
            },
            "baxis": {
             "endlinecolor": "#2a3f5f",
             "gridcolor": "white",
             "linecolor": "white",
             "minorgridcolor": "white",
             "startlinecolor": "#2a3f5f"
            },
            "type": "carpet"
           }
          ],
          "choropleth": [
           {
            "colorbar": {
             "outlinewidth": 0,
             "ticks": ""
            },
            "type": "choropleth"
           }
          ],
          "contour": [
           {
            "colorbar": {
             "outlinewidth": 0,
             "ticks": ""
            },
            "colorscale": [
             [
              0,
              "#0d0887"
             ],
             [
              0.1111111111111111,
              "#46039f"
             ],
             [
              0.2222222222222222,
              "#7201a8"
             ],
             [
              0.3333333333333333,
              "#9c179e"
             ],
             [
              0.4444444444444444,
              "#bd3786"
             ],
             [
              0.5555555555555556,
              "#d8576b"
             ],
             [
              0.6666666666666666,
              "#ed7953"
             ],
             [
              0.7777777777777778,
              "#fb9f3a"
             ],
             [
              0.8888888888888888,
              "#fdca26"
             ],
             [
              1,
              "#f0f921"
             ]
            ],
            "type": "contour"
           }
          ],
          "contourcarpet": [
           {
            "colorbar": {
             "outlinewidth": 0,
             "ticks": ""
            },
            "type": "contourcarpet"
           }
          ],
          "heatmap": [
           {
            "colorbar": {
             "outlinewidth": 0,
             "ticks": ""
            },
            "colorscale": [
             [
              0,
              "#0d0887"
             ],
             [
              0.1111111111111111,
              "#46039f"
             ],
             [
              0.2222222222222222,
              "#7201a8"
             ],
             [
              0.3333333333333333,
              "#9c179e"
             ],
             [
              0.4444444444444444,
              "#bd3786"
             ],
             [
              0.5555555555555556,
              "#d8576b"
             ],
             [
              0.6666666666666666,
              "#ed7953"
             ],
             [
              0.7777777777777778,
              "#fb9f3a"
             ],
             [
              0.8888888888888888,
              "#fdca26"
             ],
             [
              1,
              "#f0f921"
             ]
            ],
            "type": "heatmap"
           }
          ],
          "heatmapgl": [
           {
            "colorbar": {
             "outlinewidth": 0,
             "ticks": ""
            },
            "colorscale": [
             [
              0,
              "#0d0887"
             ],
             [
              0.1111111111111111,
              "#46039f"
             ],
             [
              0.2222222222222222,
              "#7201a8"
             ],
             [
              0.3333333333333333,
              "#9c179e"
             ],
             [
              0.4444444444444444,
              "#bd3786"
             ],
             [
              0.5555555555555556,
              "#d8576b"
             ],
             [
              0.6666666666666666,
              "#ed7953"
             ],
             [
              0.7777777777777778,
              "#fb9f3a"
             ],
             [
              0.8888888888888888,
              "#fdca26"
             ],
             [
              1,
              "#f0f921"
             ]
            ],
            "type": "heatmapgl"
           }
          ],
          "histogram": [
           {
            "marker": {
             "pattern": {
              "fillmode": "overlay",
              "size": 10,
              "solidity": 0.2
             }
            },
            "type": "histogram"
           }
          ],
          "histogram2d": [
           {
            "colorbar": {
             "outlinewidth": 0,
             "ticks": ""
            },
            "colorscale": [
             [
              0,
              "#0d0887"
             ],
             [
              0.1111111111111111,
              "#46039f"
             ],
             [
              0.2222222222222222,
              "#7201a8"
             ],
             [
              0.3333333333333333,
              "#9c179e"
             ],
             [
              0.4444444444444444,
              "#bd3786"
             ],
             [
              0.5555555555555556,
              "#d8576b"
             ],
             [
              0.6666666666666666,
              "#ed7953"
             ],
             [
              0.7777777777777778,
              "#fb9f3a"
             ],
             [
              0.8888888888888888,
              "#fdca26"
             ],
             [
              1,
              "#f0f921"
             ]
            ],
            "type": "histogram2d"
           }
          ],
          "histogram2dcontour": [
           {
            "colorbar": {
             "outlinewidth": 0,
             "ticks": ""
            },
            "colorscale": [
             [
              0,
              "#0d0887"
             ],
             [
              0.1111111111111111,
              "#46039f"
             ],
             [
              0.2222222222222222,
              "#7201a8"
             ],
             [
              0.3333333333333333,
              "#9c179e"
             ],
             [
              0.4444444444444444,
              "#bd3786"
             ],
             [
              0.5555555555555556,
              "#d8576b"
             ],
             [
              0.6666666666666666,
              "#ed7953"
             ],
             [
              0.7777777777777778,
              "#fb9f3a"
             ],
             [
              0.8888888888888888,
              "#fdca26"
             ],
             [
              1,
              "#f0f921"
             ]
            ],
            "type": "histogram2dcontour"
           }
          ],
          "mesh3d": [
           {
            "colorbar": {
             "outlinewidth": 0,
             "ticks": ""
            },
            "type": "mesh3d"
           }
          ],
          "parcoords": [
           {
            "line": {
             "colorbar": {
              "outlinewidth": 0,
              "ticks": ""
             }
            },
            "type": "parcoords"
           }
          ],
          "pie": [
           {
            "automargin": true,
            "type": "pie"
           }
          ],
          "scatter": [
           {
            "fillpattern": {
             "fillmode": "overlay",
             "size": 10,
             "solidity": 0.2
            },
            "type": "scatter"
           }
          ],
          "scatter3d": [
           {
            "line": {
             "colorbar": {
              "outlinewidth": 0,
              "ticks": ""
             }
            },
            "marker": {
             "colorbar": {
              "outlinewidth": 0,
              "ticks": ""
             }
            },
            "type": "scatter3d"
           }
          ],
          "scattercarpet": [
           {
            "marker": {
             "colorbar": {
              "outlinewidth": 0,
              "ticks": ""
             }
            },
            "type": "scattercarpet"
           }
          ],
          "scattergeo": [
           {
            "marker": {
             "colorbar": {
              "outlinewidth": 0,
              "ticks": ""
             }
            },
            "type": "scattergeo"
           }
          ],
          "scattergl": [
           {
            "marker": {
             "colorbar": {
              "outlinewidth": 0,
              "ticks": ""
             }
            },
            "type": "scattergl"
           }
          ],
          "scattermapbox": [
           {
            "marker": {
             "colorbar": {
              "outlinewidth": 0,
              "ticks": ""
             }
            },
            "type": "scattermapbox"
           }
          ],
          "scatterpolar": [
           {
            "marker": {
             "colorbar": {
              "outlinewidth": 0,
              "ticks": ""
             }
            },
            "type": "scatterpolar"
           }
          ],
          "scatterpolargl": [
           {
            "marker": {
             "colorbar": {
              "outlinewidth": 0,
              "ticks": ""
             }
            },
            "type": "scatterpolargl"
           }
          ],
          "scatterternary": [
           {
            "marker": {
             "colorbar": {
              "outlinewidth": 0,
              "ticks": ""
             }
            },
            "type": "scatterternary"
           }
          ],
          "surface": [
           {
            "colorbar": {
             "outlinewidth": 0,
             "ticks": ""
            },
            "colorscale": [
             [
              0,
              "#0d0887"
             ],
             [
              0.1111111111111111,
              "#46039f"
             ],
             [
              0.2222222222222222,
              "#7201a8"
             ],
             [
              0.3333333333333333,
              "#9c179e"
             ],
             [
              0.4444444444444444,
              "#bd3786"
             ],
             [
              0.5555555555555556,
              "#d8576b"
             ],
             [
              0.6666666666666666,
              "#ed7953"
             ],
             [
              0.7777777777777778,
              "#fb9f3a"
             ],
             [
              0.8888888888888888,
              "#fdca26"
             ],
             [
              1,
              "#f0f921"
             ]
            ],
            "type": "surface"
           }
          ],
          "table": [
           {
            "cells": {
             "fill": {
              "color": "#EBF0F8"
             },
             "line": {
              "color": "white"
             }
            },
            "header": {
             "fill": {
              "color": "#C8D4E3"
             },
             "line": {
              "color": "white"
             }
            },
            "type": "table"
           }
          ]
         },
         "layout": {
          "annotationdefaults": {
           "arrowcolor": "#2a3f5f",
           "arrowhead": 0,
           "arrowwidth": 1
          },
          "autotypenumbers": "strict",
          "coloraxis": {
           "colorbar": {
            "outlinewidth": 0,
            "ticks": ""
           }
          },
          "colorscale": {
           "diverging": [
            [
             0,
             "#8e0152"
            ],
            [
             0.1,
             "#c51b7d"
            ],
            [
             0.2,
             "#de77ae"
            ],
            [
             0.3,
             "#f1b6da"
            ],
            [
             0.4,
             "#fde0ef"
            ],
            [
             0.5,
             "#f7f7f7"
            ],
            [
             0.6,
             "#e6f5d0"
            ],
            [
             0.7,
             "#b8e186"
            ],
            [
             0.8,
             "#7fbc41"
            ],
            [
             0.9,
             "#4d9221"
            ],
            [
             1,
             "#276419"
            ]
           ],
           "sequential": [
            [
             0,
             "#0d0887"
            ],
            [
             0.1111111111111111,
             "#46039f"
            ],
            [
             0.2222222222222222,
             "#7201a8"
            ],
            [
             0.3333333333333333,
             "#9c179e"
            ],
            [
             0.4444444444444444,
             "#bd3786"
            ],
            [
             0.5555555555555556,
             "#d8576b"
            ],
            [
             0.6666666666666666,
             "#ed7953"
            ],
            [
             0.7777777777777778,
             "#fb9f3a"
            ],
            [
             0.8888888888888888,
             "#fdca26"
            ],
            [
             1,
             "#f0f921"
            ]
           ],
           "sequentialminus": [
            [
             0,
             "#0d0887"
            ],
            [
             0.1111111111111111,
             "#46039f"
            ],
            [
             0.2222222222222222,
             "#7201a8"
            ],
            [
             0.3333333333333333,
             "#9c179e"
            ],
            [
             0.4444444444444444,
             "#bd3786"
            ],
            [
             0.5555555555555556,
             "#d8576b"
            ],
            [
             0.6666666666666666,
             "#ed7953"
            ],
            [
             0.7777777777777778,
             "#fb9f3a"
            ],
            [
             0.8888888888888888,
             "#fdca26"
            ],
            [
             1,
             "#f0f921"
            ]
           ]
          },
          "colorway": [
           "#636efa",
           "#EF553B",
           "#00cc96",
           "#ab63fa",
           "#FFA15A",
           "#19d3f3",
           "#FF6692",
           "#B6E880",
           "#FF97FF",
           "#FECB52"
          ],
          "font": {
           "color": "#2a3f5f"
          },
          "geo": {
           "bgcolor": "white",
           "lakecolor": "white",
           "landcolor": "#E5ECF6",
           "showlakes": true,
           "showland": true,
           "subunitcolor": "white"
          },
          "hoverlabel": {
           "align": "left"
          },
          "hovermode": "closest",
          "mapbox": {
           "style": "light"
          },
          "paper_bgcolor": "white",
          "plot_bgcolor": "#E5ECF6",
          "polar": {
           "angularaxis": {
            "gridcolor": "white",
            "linecolor": "white",
            "ticks": ""
           },
           "bgcolor": "#E5ECF6",
           "radialaxis": {
            "gridcolor": "white",
            "linecolor": "white",
            "ticks": ""
           }
          },
          "scene": {
           "xaxis": {
            "backgroundcolor": "#E5ECF6",
            "gridcolor": "white",
            "gridwidth": 2,
            "linecolor": "white",
            "showbackground": true,
            "ticks": "",
            "zerolinecolor": "white"
           },
           "yaxis": {
            "backgroundcolor": "#E5ECF6",
            "gridcolor": "white",
            "gridwidth": 2,
            "linecolor": "white",
            "showbackground": true,
            "ticks": "",
            "zerolinecolor": "white"
           },
           "zaxis": {
            "backgroundcolor": "#E5ECF6",
            "gridcolor": "white",
            "gridwidth": 2,
            "linecolor": "white",
            "showbackground": true,
            "ticks": "",
            "zerolinecolor": "white"
           }
          },
          "shapedefaults": {
           "line": {
            "color": "#2a3f5f"
           }
          },
          "ternary": {
           "aaxis": {
            "gridcolor": "white",
            "linecolor": "white",
            "ticks": ""
           },
           "baxis": {
            "gridcolor": "white",
            "linecolor": "white",
            "ticks": ""
           },
           "bgcolor": "#E5ECF6",
           "caxis": {
            "gridcolor": "white",
            "linecolor": "white",
            "ticks": ""
           }
          },
          "title": {
           "x": 0.05
          },
          "xaxis": {
           "automargin": true,
           "gridcolor": "white",
           "linecolor": "white",
           "ticks": "",
           "title": {
            "standoff": 15
           },
           "zerolinecolor": "white",
           "zerolinewidth": 2
          },
          "yaxis": {
           "automargin": true,
           "gridcolor": "white",
           "linecolor": "white",
           "ticks": "",
           "title": {
            "standoff": 15
           },
           "zerolinecolor": "white",
           "zerolinewidth": 2
          }
         }
        },
        "title": {
         "text": "Country mentions in titles"
        },
        "width": 1100
       }
      }
     },
     "metadata": {},
     "output_type": "display_data"
    }
   ],
   "source": [
    "fig = px.choropleth(df_countries, locations='Country', locationmode='country names', color='Count', \n",
    "                    title='Country mentions in titles', color_continuous_scale='Viridis',\n",
    "                    width=1100, height=700) # Adjust the size of the map here\n",
    "\n",
    "# Display the map\n",
    "fig.show()"
   ]
  },
  {
   "cell_type": "code",
   "execution_count": 159,
   "metadata": {},
   "outputs": [
    {
     "data": {
      "text/html": [
       "<div>\n",
       "<style scoped>\n",
       "    .dataframe tbody tr th:only-of-type {\n",
       "        vertical-align: middle;\n",
       "    }\n",
       "\n",
       "    .dataframe tbody tr th {\n",
       "        vertical-align: top;\n",
       "    }\n",
       "\n",
       "    .dataframe thead th {\n",
       "        text-align: right;\n",
       "    }\n",
       "</style>\n",
       "<table border=\"1\" class=\"dataframe\">\n",
       "  <thead>\n",
       "    <tr style=\"text-align: right;\">\n",
       "      <th></th>\n",
       "      <th>Country</th>\n",
       "      <th>Count</th>\n",
       "    </tr>\n",
       "  </thead>\n",
       "  <tbody>\n",
       "    <tr>\n",
       "      <th>0</th>\n",
       "      <td>United States</td>\n",
       "      <td>622</td>\n",
       "    </tr>\n",
       "    <tr>\n",
       "      <th>1</th>\n",
       "      <td>UK</td>\n",
       "      <td>443</td>\n",
       "    </tr>\n",
       "    <tr>\n",
       "      <th>2</th>\n",
       "      <td>Israel</td>\n",
       "      <td>139</td>\n",
       "    </tr>\n",
       "    <tr>\n",
       "      <th>3</th>\n",
       "      <td>Russia</td>\n",
       "      <td>127</td>\n",
       "    </tr>\n",
       "    <tr>\n",
       "      <th>4</th>\n",
       "      <td>Ukraine</td>\n",
       "      <td>102</td>\n",
       "    </tr>\n",
       "    <tr>\n",
       "      <th>...</th>\n",
       "      <td>...</td>\n",
       "      <td>...</td>\n",
       "    </tr>\n",
       "    <tr>\n",
       "      <th>103</th>\n",
       "      <td>El Salvador</td>\n",
       "      <td>1</td>\n",
       "    </tr>\n",
       "    <tr>\n",
       "      <th>104</th>\n",
       "      <td>Zimbabwe</td>\n",
       "      <td>1</td>\n",
       "    </tr>\n",
       "    <tr>\n",
       "      <th>105</th>\n",
       "      <td>Costa Rica</td>\n",
       "      <td>1</td>\n",
       "    </tr>\n",
       "    <tr>\n",
       "      <th>106</th>\n",
       "      <td>Kazakhstan</td>\n",
       "      <td>1</td>\n",
       "    </tr>\n",
       "    <tr>\n",
       "      <th>107</th>\n",
       "      <td>Nepal</td>\n",
       "      <td>1</td>\n",
       "    </tr>\n",
       "  </tbody>\n",
       "</table>\n",
       "<p>108 rows × 2 columns</p>\n",
       "</div>"
      ],
      "text/plain": [
       "           Country  Count\n",
       "0    United States    622\n",
       "1               UK    443\n",
       "2           Israel    139\n",
       "3           Russia    127\n",
       "4          Ukraine    102\n",
       "..             ...    ...\n",
       "103    El Salvador      1\n",
       "104       Zimbabwe      1\n",
       "105     Costa Rica      1\n",
       "106     Kazakhstan      1\n",
       "107          Nepal      1\n",
       "\n",
       "[108 rows x 2 columns]"
      ]
     },
     "execution_count": 159,
     "metadata": {},
     "output_type": "execute_result"
    }
   ],
   "source": [
    "df_countries=df_countries.sort_values(by='Count', ascending=False)\n",
    "df_countries.reset_index(drop=True)"
   ]
  },
  {
   "cell_type": "code",
   "execution_count": 160,
   "metadata": {},
   "outputs": [
    {
     "data": {
      "application/vnd.plotly.v1+json": {
       "config": {
        "plotlyServerURL": "https://plot.ly"
       },
       "data": [
        {
         "coloraxis": "coloraxis",
         "geo": "geo",
         "hovertemplate": "Country=%{location}<br>Count=%{z}<extra></extra>",
         "locationmode": "country names",
         "locations": [
          "United States",
          "UK",
          "Israel",
          "Russia",
          "Ukraine",
          "Japan",
          "Germany",
          "China",
          "Australia",
          "Canada",
          "Iraq",
          "Oman",
          "India",
          "France",
          "Cuba",
          "Ireland",
          "Brazil",
          "Egypt",
          "Romania",
          "South Africa",
          "United Kingdom",
          "New Zealand",
          "Afghanistan",
          "Turkey",
          "Pakistan",
          "Bangladesh",
          "Spain",
          "Italy",
          "Netherlands",
          "Slovakia",
          "Sweden",
          "Cyprus",
          "Albania",
          "Austria",
          "Norway",
          "Poland",
          "Mali",
          "Indonesia",
          "Lebanon",
          "Colombia",
          "Chile",
          "Greece",
          "Mexico",
          "Belgium",
          "Singapore",
          "Algeria",
          "Switzerland",
          "Jordan",
          "Libya",
          "Congo",
          "Denmark",
          "Argentina",
          "Finland",
          "Yemen",
          "Sudan",
          "Thailand",
          "Serbia",
          "Saudi Arabia",
          "Peru",
          "Bosnia and Herzegovina",
          "Hong Kong",
          "Latvia",
          "Bulgaria",
          "Uganda",
          "Tunisia",
          "South Sudan",
          "Guatemala",
          "Gibraltar",
          "Morocco",
          "Lithuania",
          "Ghana",
          "Portugal",
          "Hungary",
          "Nigeria",
          "Niger",
          "Malaysia",
          "Haiti",
          "Georgia",
          "Guinea",
          "Myanmar",
          "Dominica",
          "Ecuador",
          "Kuwait",
          "Cambodia",
          "Kenya",
          "Sri Lanka",
          "Philippines",
          "Mozambique",
          "Antarctica",
          "Angola",
          "North Macedonia",
          "Rwanda",
          "Dominican Republic",
          "Somalia",
          "United Arab Emirates",
          "Uruguay",
          "Tajikistan",
          "Estonia",
          "Ethiopia",
          "Nicaragua",
          "Slovenia",
          "Mongolia",
          "Namibia",
          "El Salvador",
          "Zimbabwe",
          "Costa Rica",
          "Kazakhstan",
          "Nepal"
         ],
         "name": "",
         "type": "choropleth",
         "z": [
          622,
          443,
          139,
          127,
          102,
          102,
          73,
          69,
          69,
          64,
          64,
          59,
          51,
          45,
          37,
          34,
          28,
          26,
          24,
          23,
          19,
          18,
          17,
          16,
          15,
          15,
          12,
          12,
          11,
          11,
          11,
          10,
          10,
          10,
          10,
          10,
          10,
          9,
          9,
          8,
          8,
          7,
          7,
          6,
          6,
          6,
          6,
          6,
          6,
          6,
          6,
          5,
          5,
          5,
          5,
          5,
          4,
          4,
          4,
          4,
          4,
          4,
          4,
          3,
          3,
          3,
          3,
          3,
          3,
          3,
          3,
          3,
          3,
          3,
          3,
          3,
          2,
          2,
          2,
          2,
          2,
          2,
          2,
          2,
          2,
          2,
          2,
          1,
          1,
          1,
          1,
          1,
          1,
          1,
          1,
          1,
          1,
          1,
          1,
          1,
          1,
          1,
          1,
          1,
          1,
          1,
          1,
          1
         ]
        }
       ],
       "layout": {
        "coloraxis": {
         "colorbar": {
          "title": {
           "text": "Count"
          }
         },
         "colorscale": [
          [
           0,
           "#440154"
          ],
          [
           0.1111111111111111,
           "#482878"
          ],
          [
           0.2222222222222222,
           "#3e4989"
          ],
          [
           0.3333333333333333,
           "#31688e"
          ],
          [
           0.4444444444444444,
           "#26828e"
          ],
          [
           0.5555555555555556,
           "#1f9e89"
          ],
          [
           0.6666666666666666,
           "#35b779"
          ],
          [
           0.7777777777777778,
           "#6ece58"
          ],
          [
           0.8888888888888888,
           "#b5de2b"
          ],
          [
           1,
           "#fde725"
          ]
         ]
        },
        "geo": {
         "center": {},
         "domain": {
          "x": [
           0,
           1
          ],
          "y": [
           0,
           1
          ]
         }
        },
        "height": 700,
        "legend": {
         "tracegroupgap": 0
        },
        "template": {
         "data": {
          "bar": [
           {
            "error_x": {
             "color": "#2a3f5f"
            },
            "error_y": {
             "color": "#2a3f5f"
            },
            "marker": {
             "line": {
              "color": "#E5ECF6",
              "width": 0.5
             },
             "pattern": {
              "fillmode": "overlay",
              "size": 10,
              "solidity": 0.2
             }
            },
            "type": "bar"
           }
          ],
          "barpolar": [
           {
            "marker": {
             "line": {
              "color": "#E5ECF6",
              "width": 0.5
             },
             "pattern": {
              "fillmode": "overlay",
              "size": 10,
              "solidity": 0.2
             }
            },
            "type": "barpolar"
           }
          ],
          "carpet": [
           {
            "aaxis": {
             "endlinecolor": "#2a3f5f",
             "gridcolor": "white",
             "linecolor": "white",
             "minorgridcolor": "white",
             "startlinecolor": "#2a3f5f"
            },
            "baxis": {
             "endlinecolor": "#2a3f5f",
             "gridcolor": "white",
             "linecolor": "white",
             "minorgridcolor": "white",
             "startlinecolor": "#2a3f5f"
            },
            "type": "carpet"
           }
          ],
          "choropleth": [
           {
            "colorbar": {
             "outlinewidth": 0,
             "ticks": ""
            },
            "type": "choropleth"
           }
          ],
          "contour": [
           {
            "colorbar": {
             "outlinewidth": 0,
             "ticks": ""
            },
            "colorscale": [
             [
              0,
              "#0d0887"
             ],
             [
              0.1111111111111111,
              "#46039f"
             ],
             [
              0.2222222222222222,
              "#7201a8"
             ],
             [
              0.3333333333333333,
              "#9c179e"
             ],
             [
              0.4444444444444444,
              "#bd3786"
             ],
             [
              0.5555555555555556,
              "#d8576b"
             ],
             [
              0.6666666666666666,
              "#ed7953"
             ],
             [
              0.7777777777777778,
              "#fb9f3a"
             ],
             [
              0.8888888888888888,
              "#fdca26"
             ],
             [
              1,
              "#f0f921"
             ]
            ],
            "type": "contour"
           }
          ],
          "contourcarpet": [
           {
            "colorbar": {
             "outlinewidth": 0,
             "ticks": ""
            },
            "type": "contourcarpet"
           }
          ],
          "heatmap": [
           {
            "colorbar": {
             "outlinewidth": 0,
             "ticks": ""
            },
            "colorscale": [
             [
              0,
              "#0d0887"
             ],
             [
              0.1111111111111111,
              "#46039f"
             ],
             [
              0.2222222222222222,
              "#7201a8"
             ],
             [
              0.3333333333333333,
              "#9c179e"
             ],
             [
              0.4444444444444444,
              "#bd3786"
             ],
             [
              0.5555555555555556,
              "#d8576b"
             ],
             [
              0.6666666666666666,
              "#ed7953"
             ],
             [
              0.7777777777777778,
              "#fb9f3a"
             ],
             [
              0.8888888888888888,
              "#fdca26"
             ],
             [
              1,
              "#f0f921"
             ]
            ],
            "type": "heatmap"
           }
          ],
          "heatmapgl": [
           {
            "colorbar": {
             "outlinewidth": 0,
             "ticks": ""
            },
            "colorscale": [
             [
              0,
              "#0d0887"
             ],
             [
              0.1111111111111111,
              "#46039f"
             ],
             [
              0.2222222222222222,
              "#7201a8"
             ],
             [
              0.3333333333333333,
              "#9c179e"
             ],
             [
              0.4444444444444444,
              "#bd3786"
             ],
             [
              0.5555555555555556,
              "#d8576b"
             ],
             [
              0.6666666666666666,
              "#ed7953"
             ],
             [
              0.7777777777777778,
              "#fb9f3a"
             ],
             [
              0.8888888888888888,
              "#fdca26"
             ],
             [
              1,
              "#f0f921"
             ]
            ],
            "type": "heatmapgl"
           }
          ],
          "histogram": [
           {
            "marker": {
             "pattern": {
              "fillmode": "overlay",
              "size": 10,
              "solidity": 0.2
             }
            },
            "type": "histogram"
           }
          ],
          "histogram2d": [
           {
            "colorbar": {
             "outlinewidth": 0,
             "ticks": ""
            },
            "colorscale": [
             [
              0,
              "#0d0887"
             ],
             [
              0.1111111111111111,
              "#46039f"
             ],
             [
              0.2222222222222222,
              "#7201a8"
             ],
             [
              0.3333333333333333,
              "#9c179e"
             ],
             [
              0.4444444444444444,
              "#bd3786"
             ],
             [
              0.5555555555555556,
              "#d8576b"
             ],
             [
              0.6666666666666666,
              "#ed7953"
             ],
             [
              0.7777777777777778,
              "#fb9f3a"
             ],
             [
              0.8888888888888888,
              "#fdca26"
             ],
             [
              1,
              "#f0f921"
             ]
            ],
            "type": "histogram2d"
           }
          ],
          "histogram2dcontour": [
           {
            "colorbar": {
             "outlinewidth": 0,
             "ticks": ""
            },
            "colorscale": [
             [
              0,
              "#0d0887"
             ],
             [
              0.1111111111111111,
              "#46039f"
             ],
             [
              0.2222222222222222,
              "#7201a8"
             ],
             [
              0.3333333333333333,
              "#9c179e"
             ],
             [
              0.4444444444444444,
              "#bd3786"
             ],
             [
              0.5555555555555556,
              "#d8576b"
             ],
             [
              0.6666666666666666,
              "#ed7953"
             ],
             [
              0.7777777777777778,
              "#fb9f3a"
             ],
             [
              0.8888888888888888,
              "#fdca26"
             ],
             [
              1,
              "#f0f921"
             ]
            ],
            "type": "histogram2dcontour"
           }
          ],
          "mesh3d": [
           {
            "colorbar": {
             "outlinewidth": 0,
             "ticks": ""
            },
            "type": "mesh3d"
           }
          ],
          "parcoords": [
           {
            "line": {
             "colorbar": {
              "outlinewidth": 0,
              "ticks": ""
             }
            },
            "type": "parcoords"
           }
          ],
          "pie": [
           {
            "automargin": true,
            "type": "pie"
           }
          ],
          "scatter": [
           {
            "fillpattern": {
             "fillmode": "overlay",
             "size": 10,
             "solidity": 0.2
            },
            "type": "scatter"
           }
          ],
          "scatter3d": [
           {
            "line": {
             "colorbar": {
              "outlinewidth": 0,
              "ticks": ""
             }
            },
            "marker": {
             "colorbar": {
              "outlinewidth": 0,
              "ticks": ""
             }
            },
            "type": "scatter3d"
           }
          ],
          "scattercarpet": [
           {
            "marker": {
             "colorbar": {
              "outlinewidth": 0,
              "ticks": ""
             }
            },
            "type": "scattercarpet"
           }
          ],
          "scattergeo": [
           {
            "marker": {
             "colorbar": {
              "outlinewidth": 0,
              "ticks": ""
             }
            },
            "type": "scattergeo"
           }
          ],
          "scattergl": [
           {
            "marker": {
             "colorbar": {
              "outlinewidth": 0,
              "ticks": ""
             }
            },
            "type": "scattergl"
           }
          ],
          "scattermapbox": [
           {
            "marker": {
             "colorbar": {
              "outlinewidth": 0,
              "ticks": ""
             }
            },
            "type": "scattermapbox"
           }
          ],
          "scatterpolar": [
           {
            "marker": {
             "colorbar": {
              "outlinewidth": 0,
              "ticks": ""
             }
            },
            "type": "scatterpolar"
           }
          ],
          "scatterpolargl": [
           {
            "marker": {
             "colorbar": {
              "outlinewidth": 0,
              "ticks": ""
             }
            },
            "type": "scatterpolargl"
           }
          ],
          "scatterternary": [
           {
            "marker": {
             "colorbar": {
              "outlinewidth": 0,
              "ticks": ""
             }
            },
            "type": "scatterternary"
           }
          ],
          "surface": [
           {
            "colorbar": {
             "outlinewidth": 0,
             "ticks": ""
            },
            "colorscale": [
             [
              0,
              "#0d0887"
             ],
             [
              0.1111111111111111,
              "#46039f"
             ],
             [
              0.2222222222222222,
              "#7201a8"
             ],
             [
              0.3333333333333333,
              "#9c179e"
             ],
             [
              0.4444444444444444,
              "#bd3786"
             ],
             [
              0.5555555555555556,
              "#d8576b"
             ],
             [
              0.6666666666666666,
              "#ed7953"
             ],
             [
              0.7777777777777778,
              "#fb9f3a"
             ],
             [
              0.8888888888888888,
              "#fdca26"
             ],
             [
              1,
              "#f0f921"
             ]
            ],
            "type": "surface"
           }
          ],
          "table": [
           {
            "cells": {
             "fill": {
              "color": "#EBF0F8"
             },
             "line": {
              "color": "white"
             }
            },
            "header": {
             "fill": {
              "color": "#C8D4E3"
             },
             "line": {
              "color": "white"
             }
            },
            "type": "table"
           }
          ]
         },
         "layout": {
          "annotationdefaults": {
           "arrowcolor": "#2a3f5f",
           "arrowhead": 0,
           "arrowwidth": 1
          },
          "autotypenumbers": "strict",
          "coloraxis": {
           "colorbar": {
            "outlinewidth": 0,
            "ticks": ""
           }
          },
          "colorscale": {
           "diverging": [
            [
             0,
             "#8e0152"
            ],
            [
             0.1,
             "#c51b7d"
            ],
            [
             0.2,
             "#de77ae"
            ],
            [
             0.3,
             "#f1b6da"
            ],
            [
             0.4,
             "#fde0ef"
            ],
            [
             0.5,
             "#f7f7f7"
            ],
            [
             0.6,
             "#e6f5d0"
            ],
            [
             0.7,
             "#b8e186"
            ],
            [
             0.8,
             "#7fbc41"
            ],
            [
             0.9,
             "#4d9221"
            ],
            [
             1,
             "#276419"
            ]
           ],
           "sequential": [
            [
             0,
             "#0d0887"
            ],
            [
             0.1111111111111111,
             "#46039f"
            ],
            [
             0.2222222222222222,
             "#7201a8"
            ],
            [
             0.3333333333333333,
             "#9c179e"
            ],
            [
             0.4444444444444444,
             "#bd3786"
            ],
            [
             0.5555555555555556,
             "#d8576b"
            ],
            [
             0.6666666666666666,
             "#ed7953"
            ],
            [
             0.7777777777777778,
             "#fb9f3a"
            ],
            [
             0.8888888888888888,
             "#fdca26"
            ],
            [
             1,
             "#f0f921"
            ]
           ],
           "sequentialminus": [
            [
             0,
             "#0d0887"
            ],
            [
             0.1111111111111111,
             "#46039f"
            ],
            [
             0.2222222222222222,
             "#7201a8"
            ],
            [
             0.3333333333333333,
             "#9c179e"
            ],
            [
             0.4444444444444444,
             "#bd3786"
            ],
            [
             0.5555555555555556,
             "#d8576b"
            ],
            [
             0.6666666666666666,
             "#ed7953"
            ],
            [
             0.7777777777777778,
             "#fb9f3a"
            ],
            [
             0.8888888888888888,
             "#fdca26"
            ],
            [
             1,
             "#f0f921"
            ]
           ]
          },
          "colorway": [
           "#636efa",
           "#EF553B",
           "#00cc96",
           "#ab63fa",
           "#FFA15A",
           "#19d3f3",
           "#FF6692",
           "#B6E880",
           "#FF97FF",
           "#FECB52"
          ],
          "font": {
           "color": "#2a3f5f"
          },
          "geo": {
           "bgcolor": "white",
           "lakecolor": "white",
           "landcolor": "#E5ECF6",
           "showlakes": true,
           "showland": true,
           "subunitcolor": "white"
          },
          "hoverlabel": {
           "align": "left"
          },
          "hovermode": "closest",
          "mapbox": {
           "style": "light"
          },
          "paper_bgcolor": "white",
          "plot_bgcolor": "#E5ECF6",
          "polar": {
           "angularaxis": {
            "gridcolor": "white",
            "linecolor": "white",
            "ticks": ""
           },
           "bgcolor": "#E5ECF6",
           "radialaxis": {
            "gridcolor": "white",
            "linecolor": "white",
            "ticks": ""
           }
          },
          "scene": {
           "xaxis": {
            "backgroundcolor": "#E5ECF6",
            "gridcolor": "white",
            "gridwidth": 2,
            "linecolor": "white",
            "showbackground": true,
            "ticks": "",
            "zerolinecolor": "white"
           },
           "yaxis": {
            "backgroundcolor": "#E5ECF6",
            "gridcolor": "white",
            "gridwidth": 2,
            "linecolor": "white",
            "showbackground": true,
            "ticks": "",
            "zerolinecolor": "white"
           },
           "zaxis": {
            "backgroundcolor": "#E5ECF6",
            "gridcolor": "white",
            "gridwidth": 2,
            "linecolor": "white",
            "showbackground": true,
            "ticks": "",
            "zerolinecolor": "white"
           }
          },
          "shapedefaults": {
           "line": {
            "color": "#2a3f5f"
           }
          },
          "ternary": {
           "aaxis": {
            "gridcolor": "white",
            "linecolor": "white",
            "ticks": ""
           },
           "baxis": {
            "gridcolor": "white",
            "linecolor": "white",
            "ticks": ""
           },
           "bgcolor": "#E5ECF6",
           "caxis": {
            "gridcolor": "white",
            "linecolor": "white",
            "ticks": ""
           }
          },
          "title": {
           "x": 0.05
          },
          "xaxis": {
           "automargin": true,
           "gridcolor": "white",
           "linecolor": "white",
           "ticks": "",
           "title": {
            "standoff": 15
           },
           "zerolinecolor": "white",
           "zerolinewidth": 2
          },
          "yaxis": {
           "automargin": true,
           "gridcolor": "white",
           "linecolor": "white",
           "ticks": "",
           "title": {
            "standoff": 15
           },
           "zerolinecolor": "white",
           "zerolinewidth": 2
          }
         }
        },
        "title": {
         "text": "Country mentions in titles"
        },
        "width": 1100
       }
      }
     },
     "metadata": {},
     "output_type": "display_data"
    }
   ],
   "source": [
    "fig = px.choropleth(df_countries, locations='Country', locationmode='country names', color='Count', \n",
    "                    title='Country mentions in titles', color_continuous_scale='Viridis',\n",
    "                    width=1100, height=700) # Adjust the size of the map here\n",
    "\n",
    "# Display the map\n",
    "fig.show()"
   ]
  },
  {
   "cell_type": "code",
   "execution_count": 161,
   "metadata": {},
   "outputs": [],
   "source": [
    "df_countries.to_csv('countries.csv',index=False)"
   ]
  },
  {
   "attachments": {},
   "cell_type": "markdown",
   "metadata": {},
   "source": [
    "# NER analysis"
   ]
  },
  {
   "cell_type": "code",
   "execution_count": 162,
   "metadata": {},
   "outputs": [],
   "source": [
    "import spacy\n",
    "import nltk\n",
    "import ast\n",
    "from spacy.pipeline import EntityRecognizer"
   ]
  },
  {
   "cell_type": "code",
   "execution_count": 163,
   "metadata": {},
   "outputs": [
    {
     "name": "stderr",
     "output_type": "stream",
     "text": [
      "[nltk_data] Downloading package punkt to\n",
      "[nltk_data]     C:\\Users\\yaozk\\AppData\\Roaming\\nltk_data...\n",
      "[nltk_data]   Package punkt is already up-to-date!\n",
      "[nltk_data] Downloading package averaged_perceptron_tagger to\n",
      "[nltk_data]     C:\\Users\\yaozk\\AppData\\Roaming\\nltk_data...\n",
      "[nltk_data]   Package averaged_perceptron_tagger is already up-to-\n",
      "[nltk_data]       date!\n",
      "[nltk_data] Downloading package maxent_ne_chunker to\n",
      "[nltk_data]     C:\\Users\\yaozk\\AppData\\Roaming\\nltk_data...\n",
      "[nltk_data]   Package maxent_ne_chunker is already up-to-date!\n",
      "[nltk_data] Downloading package words to\n",
      "[nltk_data]     C:\\Users\\yaozk\\AppData\\Roaming\\nltk_data...\n",
      "[nltk_data]   Package words is already up-to-date!\n",
      "c:\\Users\\yaozk\\AppData\\Local\\Programs\\Python\\Python310\\lib\\site-packages\\spacy\\util.py:865: UserWarning:\n",
      "\n",
      "[W095] Model 'en_core_web_sm' (3.5.0) was trained with spaCy v3.5 and may not be 100% compatible with the current version (3.4.1). If you see errors or degraded performance, download a newer compatible model or retrain your custom model with the current spaCy version. For more details and available updates, run: python -m spacy validate\n",
      "\n"
     ]
    }
   ],
   "source": [
    "nltk.download('punkt')\n",
    "nltk.download('averaged_perceptron_tagger')\n",
    "nltk.download('maxent_ne_chunker')\n",
    "nltk.download('words')\n",
    "df = pd.read_csv('https://raw.githubusercontent.com/YusufAliOzkan/zotero-intelligence-bibliography/main/all_items.csv')\n",
    "nlp = spacy.load(\"en_core_web_sm\")\n",
    "ruler = nlp.add_pipe(\"entity_ruler\")\n",
    "patterns = [{\"label\": \"ORG\", \"pattern\": \"MI6\"}]\n",
    "ruler.add_patterns(patterns)"
   ]
  },
  {
   "cell_type": "code",
   "execution_count": 164,
   "metadata": {},
   "outputs": [],
   "source": [
    "def extract_entities(text):\n",
    "    doc = nlp(text)\n",
    "    orgs = []\n",
    "    gpes = []\n",
    "    people = []\n",
    "    for entity in doc.ents:\n",
    "        if entity.label_ == 'ORG':\n",
    "            orgs.append(entity.text)\n",
    "        elif entity.label_ == 'GPE':\n",
    "            gpes.append(entity.text)\n",
    "        elif entity.label_ == 'PERSON':\n",
    "            people.append(entity.text)\n",
    "    return pd.Series({'ORG': orgs, 'GPE': gpes, 'PERSON': people})"
   ]
  },
  {
   "cell_type": "code",
   "execution_count": 165,
   "metadata": {},
   "outputs": [],
   "source": [
    "df_title = df[['Title']].copy()\n",
    "df_title = df_title.rename(columns={'Title':'Text'})\n",
    "df_abstract = df[['Abstract']].copy()\n",
    "df_abstract = df_abstract.rename(columns={'Abstract':'Text'})\n",
    "df_one = pd.concat([df_title, df_abstract], ignore_index=True)\n",
    "df_one['Text'] = df_one['Text'].fillna('')"
   ]
  },
  {
   "cell_type": "code",
   "execution_count": 166,
   "metadata": {},
   "outputs": [],
   "source": [
    "df_one = pd.concat([df_one[['Text']], df_one['Text'].apply(extract_entities)], axis=1)\n",
    "df_one = df_one.explode('GPE').reset_index(drop=True)\n",
    "df_one = df_one.explode('ORG').reset_index(drop=True)\n",
    "df_one = df_one.explode('PERSON').reset_index(drop=True)"
   ]
  },
  {
   "cell_type": "code",
   "execution_count": 167,
   "metadata": {},
   "outputs": [
    {
     "data": {
      "text/html": [
       "<div>\n",
       "<style scoped>\n",
       "    .dataframe tbody tr th:only-of-type {\n",
       "        vertical-align: middle;\n",
       "    }\n",
       "\n",
       "    .dataframe tbody tr th {\n",
       "        vertical-align: top;\n",
       "    }\n",
       "\n",
       "    .dataframe thead th {\n",
       "        text-align: right;\n",
       "    }\n",
       "</style>\n",
       "<table border=\"1\" class=\"dataframe\">\n",
       "  <thead>\n",
       "    <tr style=\"text-align: right;\">\n",
       "      <th></th>\n",
       "      <th>GPE</th>\n",
       "      <th>count</th>\n",
       "    </tr>\n",
       "  </thead>\n",
       "  <tbody>\n",
       "    <tr>\n",
       "      <th>0</th>\n",
       "      <td>USA</td>\n",
       "      <td>1277</td>\n",
       "    </tr>\n",
       "    <tr>\n",
       "      <th>1</th>\n",
       "      <td>UK</td>\n",
       "      <td>668</td>\n",
       "    </tr>\n",
       "    <tr>\n",
       "      <th>2</th>\n",
       "      <td>Russia</td>\n",
       "      <td>467</td>\n",
       "    </tr>\n",
       "    <tr>\n",
       "      <th>3</th>\n",
       "      <td>Germany</td>\n",
       "      <td>191</td>\n",
       "    </tr>\n",
       "    <tr>\n",
       "      <th>4</th>\n",
       "      <td>Ukraine</td>\n",
       "      <td>183</td>\n",
       "    </tr>\n",
       "    <tr>\n",
       "      <th>5</th>\n",
       "      <td>Israel</td>\n",
       "      <td>176</td>\n",
       "    </tr>\n",
       "    <tr>\n",
       "      <th>6</th>\n",
       "      <td>China</td>\n",
       "      <td>146</td>\n",
       "    </tr>\n",
       "    <tr>\n",
       "      <th>7</th>\n",
       "      <td>France</td>\n",
       "      <td>138</td>\n",
       "    </tr>\n",
       "    <tr>\n",
       "      <th>8</th>\n",
       "      <td>Canada</td>\n",
       "      <td>134</td>\n",
       "    </tr>\n",
       "    <tr>\n",
       "      <th>9</th>\n",
       "      <td>Iraq</td>\n",
       "      <td>130</td>\n",
       "    </tr>\n",
       "    <tr>\n",
       "      <th>10</th>\n",
       "      <td>London</td>\n",
       "      <td>122</td>\n",
       "    </tr>\n",
       "    <tr>\n",
       "      <th>11</th>\n",
       "      <td>Australia</td>\n",
       "      <td>94</td>\n",
       "    </tr>\n",
       "    <tr>\n",
       "      <th>12</th>\n",
       "      <td>Japan</td>\n",
       "      <td>92</td>\n",
       "    </tr>\n",
       "    <tr>\n",
       "      <th>13</th>\n",
       "      <td>Washington</td>\n",
       "      <td>88</td>\n",
       "    </tr>\n",
       "    <tr>\n",
       "      <th>14</th>\n",
       "      <td>Moscow</td>\n",
       "      <td>87</td>\n",
       "    </tr>\n",
       "  </tbody>\n",
       "</table>\n",
       "</div>"
      ],
      "text/plain": [
       "           GPE  count\n",
       "0          USA   1277\n",
       "1           UK    668\n",
       "2       Russia    467\n",
       "3      Germany    191\n",
       "4      Ukraine    183\n",
       "5       Israel    176\n",
       "6        China    146\n",
       "7       France    138\n",
       "8       Canada    134\n",
       "9         Iraq    130\n",
       "10      London    122\n",
       "11   Australia     94\n",
       "12       Japan     92\n",
       "13  Washington     88\n",
       "14      Moscow     87"
      ]
     },
     "execution_count": 167,
     "metadata": {},
     "output_type": "execute_result"
    }
   ],
   "source": [
    "df_one_g = df_one.copy()\n",
    "df_one_g = df_one[['Text', 'GPE']]\n",
    "# df_one_g = df_one_g.fillna('')\n",
    "df_one_g = df_one_g.drop_duplicates(subset=['Text', 'GPE'])\n",
    "\n",
    "gpe_counts = df_one_g['GPE'].value_counts().reset_index()\n",
    "gpe_counts.columns = ['GPE', 'count']\n",
    "\n",
    "# pd.options.display.max_rows = None\n",
    "\n",
    "\n",
    "mapping_locations = {\n",
    "    'the United States': 'USA',\n",
    "    'The United States': 'USA',\n",
    "    'US': 'USA',\n",
    "    'U.S.': 'USA',\n",
    "    'United States' : 'USA',\n",
    "    'America' : 'USA',\n",
    "    'the United States of America' : 'USA',\n",
    "    'Britain' : 'UK',\n",
    "    'the United Kingdom': 'UK',\n",
    "    'U.K.' : 'UK',\n",
    "    'Global Britain' : 'UK',\n",
    "    'United Kingdom' : 'UK', \n",
    "    'the Soviet Union' : 'Russia',\n",
    "    'The Soviet Union' : 'Russia',\n",
    "    'USSR' : 'Russia',\n",
    "    'Ukraine - Perspective' : 'Ukraine',\n",
    "    'Ukrainian' : 'Ukraine',\n",
    "    'Great Britain' : 'UK',\n",
    "    'Ottoman Empire' : 'Turkey'\n",
    "}\n",
    "gpe_counts['GPE'] =gpe_counts['GPE'].replace(mapping_locations)\n",
    "gpe_counts = gpe_counts.groupby('GPE').sum().reset_index()\n",
    "gpe_counts.sort_values('count', ascending=False, inplace=True)\n",
    "gpe_counts = gpe_counts.reset_index(drop=True)\n",
    "gpe_counts.head(15)"
   ]
  },
  {
   "cell_type": "code",
   "execution_count": 168,
   "metadata": {},
   "outputs": [
    {
     "data": {
      "text/html": [
       "<div>\n",
       "<style scoped>\n",
       "    .dataframe tbody tr th:only-of-type {\n",
       "        vertical-align: middle;\n",
       "    }\n",
       "\n",
       "    .dataframe tbody tr th {\n",
       "        vertical-align: top;\n",
       "    }\n",
       "\n",
       "    .dataframe thead th {\n",
       "        text-align: right;\n",
       "    }\n",
       "</style>\n",
       "<table border=\"1\" class=\"dataframe\">\n",
       "  <thead>\n",
       "    <tr style=\"text-align: right;\">\n",
       "      <th></th>\n",
       "      <th>PERSON</th>\n",
       "      <th>count</th>\n",
       "    </tr>\n",
       "  </thead>\n",
       "  <tbody>\n",
       "    <tr>\n",
       "      <th>0</th>\n",
       "      <td>Adolf Hitler</td>\n",
       "      <td>79</td>\n",
       "    </tr>\n",
       "    <tr>\n",
       "      <th>1</th>\n",
       "      <td>Vladimir Putin</td>\n",
       "      <td>69</td>\n",
       "    </tr>\n",
       "    <tr>\n",
       "      <th>2</th>\n",
       "      <td>Winston Churchill</td>\n",
       "      <td>47</td>\n",
       "    </tr>\n",
       "    <tr>\n",
       "      <th>3</th>\n",
       "      <td>Stalin</td>\n",
       "      <td>39</td>\n",
       "    </tr>\n",
       "    <tr>\n",
       "      <th>4</th>\n",
       "      <td>Eisenhower</td>\n",
       "      <td>28</td>\n",
       "    </tr>\n",
       "    <tr>\n",
       "      <th>5</th>\n",
       "      <td>Mujibur Rahman</td>\n",
       "      <td>28</td>\n",
       "    </tr>\n",
       "    <tr>\n",
       "      <th>6</th>\n",
       "      <td>Bush</td>\n",
       "      <td>27</td>\n",
       "    </tr>\n",
       "    <tr>\n",
       "      <th>7</th>\n",
       "      <td>James Bond</td>\n",
       "      <td>24</td>\n",
       "    </tr>\n",
       "    <tr>\n",
       "      <th>8</th>\n",
       "      <td>John le Carré</td>\n",
       "      <td>24</td>\n",
       "    </tr>\n",
       "    <tr>\n",
       "      <th>9</th>\n",
       "      <td>Brexit</td>\n",
       "      <td>18</td>\n",
       "    </tr>\n",
       "    <tr>\n",
       "      <th>10</th>\n",
       "      <td>Reagan</td>\n",
       "      <td>17</td>\n",
       "    </tr>\n",
       "    <tr>\n",
       "      <th>11</th>\n",
       "      <td>Kennedy</td>\n",
       "      <td>17</td>\n",
       "    </tr>\n",
       "    <tr>\n",
       "      <th>12</th>\n",
       "      <td>Truman</td>\n",
       "      <td>15</td>\n",
       "    </tr>\n",
       "    <tr>\n",
       "      <th>13</th>\n",
       "      <td>Roosevelt</td>\n",
       "      <td>15</td>\n",
       "    </tr>\n",
       "    <tr>\n",
       "      <th>14</th>\n",
       "      <td>Edward Snowden</td>\n",
       "      <td>14</td>\n",
       "    </tr>\n",
       "  </tbody>\n",
       "</table>\n",
       "</div>"
      ],
      "text/plain": [
       "               PERSON  count\n",
       "0        Adolf Hitler     79\n",
       "1      Vladimir Putin     69\n",
       "2   Winston Churchill     47\n",
       "3              Stalin     39\n",
       "4          Eisenhower     28\n",
       "5      Mujibur Rahman     28\n",
       "6                Bush     27\n",
       "7          James Bond     24\n",
       "8       John le Carré     24\n",
       "9              Brexit     18\n",
       "10             Reagan     17\n",
       "11            Kennedy     17\n",
       "12             Truman     15\n",
       "13          Roosevelt     15\n",
       "14     Edward Snowden     14"
      ]
     },
     "execution_count": 168,
     "metadata": {},
     "output_type": "execute_result"
    }
   ],
   "source": [
    "df_one_p = df_one.copy()\n",
    "df_one_p = df_one[['Text', 'PERSON']]\n",
    "# df_one_p = df_one_g.fillna('')\n",
    "df_one_p = df_one_p.drop_duplicates(subset=['Text', 'PERSON'])\n",
    "\n",
    "person_counts = df_one_p['PERSON'].value_counts().reset_index()\n",
    "person_counts.columns = ['PERSON', 'count']\n",
    "\n",
    "mapping_person = {\n",
    "    'Putin' : 'Vladimir Putin',\n",
    "    'Vladimir Putin' : 'Vladimir Putin',\n",
    "    'Churchill' : 'Winston Churchill',\n",
    "    'Hitler' : 'Adolf Hitler',\n",
    "    'Biden' : 'Joe Biden',\n",
    "    \"John le Carré’s\" : \"John le Carré\"\n",
    "}\n",
    "\n",
    "person_counts['PERSON'] =person_counts['PERSON'].replace(mapping_person)\n",
    "person_counts = person_counts.groupby('PERSON').sum().reset_index()\n",
    "person_counts.sort_values('count', ascending=False, inplace=True)\n",
    "\n",
    "remove_person = ['MI6', 'Twitter', 'GRU'\n",
    "          ]\n",
    "person_counts = person_counts[~person_counts['PERSON'].isin(remove_person)]\n",
    "person_counts = person_counts.reset_index(drop=True)\n",
    "\n",
    "person_counts.head(15)"
   ]
  },
  {
   "cell_type": "code",
   "execution_count": 169,
   "metadata": {},
   "outputs": [
    {
     "data": {
      "text/html": [
       "<div>\n",
       "<style scoped>\n",
       "    .dataframe tbody tr th:only-of-type {\n",
       "        vertical-align: middle;\n",
       "    }\n",
       "\n",
       "    .dataframe tbody tr th {\n",
       "        vertical-align: top;\n",
       "    }\n",
       "\n",
       "    .dataframe thead th {\n",
       "        text-align: right;\n",
       "    }\n",
       "</style>\n",
       "<table border=\"1\" class=\"dataframe\">\n",
       "  <thead>\n",
       "    <tr style=\"text-align: right;\">\n",
       "      <th></th>\n",
       "      <th>ORG</th>\n",
       "      <th>count</th>\n",
       "    </tr>\n",
       "  </thead>\n",
       "  <tbody>\n",
       "    <tr>\n",
       "      <th>0</th>\n",
       "      <td>CIA</td>\n",
       "      <td>663</td>\n",
       "    </tr>\n",
       "    <tr>\n",
       "      <th>1</th>\n",
       "      <td>KGB</td>\n",
       "      <td>132</td>\n",
       "    </tr>\n",
       "    <tr>\n",
       "      <th>2</th>\n",
       "      <td>FBI</td>\n",
       "      <td>92</td>\n",
       "    </tr>\n",
       "    <tr>\n",
       "      <th>3</th>\n",
       "      <td>Allied</td>\n",
       "      <td>83</td>\n",
       "    </tr>\n",
       "    <tr>\n",
       "      <th>4</th>\n",
       "      <td>Congress</td>\n",
       "      <td>69</td>\n",
       "    </tr>\n",
       "    <tr>\n",
       "      <th>5</th>\n",
       "      <td>SIS</td>\n",
       "      <td>63</td>\n",
       "    </tr>\n",
       "    <tr>\n",
       "      <th>6</th>\n",
       "      <td>SOE</td>\n",
       "      <td>61</td>\n",
       "    </tr>\n",
       "    <tr>\n",
       "      <th>7</th>\n",
       "      <td>the Intelligence Community</td>\n",
       "      <td>61</td>\n",
       "    </tr>\n",
       "    <tr>\n",
       "      <th>8</th>\n",
       "      <td>NATO</td>\n",
       "      <td>55</td>\n",
       "    </tr>\n",
       "    <tr>\n",
       "      <th>9</th>\n",
       "      <td>OSS</td>\n",
       "      <td>53</td>\n",
       "    </tr>\n",
       "    <tr>\n",
       "      <th>10</th>\n",
       "      <td>EU</td>\n",
       "      <td>49</td>\n",
       "    </tr>\n",
       "    <tr>\n",
       "      <th>11</th>\n",
       "      <td>British Intelligence</td>\n",
       "      <td>42</td>\n",
       "    </tr>\n",
       "    <tr>\n",
       "      <th>12</th>\n",
       "      <td>Joint Intelligence Committee</td>\n",
       "      <td>35</td>\n",
       "    </tr>\n",
       "    <tr>\n",
       "      <th>13</th>\n",
       "      <td>NSA</td>\n",
       "      <td>33</td>\n",
       "    </tr>\n",
       "    <tr>\n",
       "      <th>14</th>\n",
       "      <td>Mossad</td>\n",
       "      <td>32</td>\n",
       "    </tr>\n",
       "  </tbody>\n",
       "</table>\n",
       "</div>"
      ],
      "text/plain": [
       "                             ORG  count\n",
       "0                            CIA    663\n",
       "1                            KGB    132\n",
       "2                            FBI     92\n",
       "3                         Allied     83\n",
       "4                       Congress     69\n",
       "5                            SIS     63\n",
       "6                            SOE     61\n",
       "7     the Intelligence Community     61\n",
       "8                           NATO     55\n",
       "9                            OSS     53\n",
       "10                            EU     49\n",
       "11          British Intelligence     42\n",
       "12  Joint Intelligence Committee     35\n",
       "13                           NSA     33\n",
       "14                        Mossad     32"
      ]
     },
     "execution_count": 169,
     "metadata": {},
     "output_type": "execute_result"
    }
   ],
   "source": [
    "df_one_o = df_one.copy()\n",
    "df_one_o = df_one[['Text', 'ORG']]\n",
    "# df_one_p = df_one_g.fillna('')\n",
    "df_one_o = df_one_o.drop_duplicates(subset=['Text', 'ORG'])\n",
    "\n",
    "org_counts = df_one_o['ORG'].value_counts().reset_index()\n",
    "org_counts.columns = ['ORG', 'count']\n",
    "\n",
    "mapping_organisations = {\n",
    "    'The British Secret Intelligence Service' : 'SIS',\n",
    "    'the British Secret Intelligence Service' : 'SIS',\n",
    "    'The Joint Intelligence Committee' : 'Joint Intelligence Committee',\n",
    "    'the Joint Intelligence Committee' : 'Joint Intelligence Committee',\n",
    "    'Joint Intelligence Committee' : 'Joint Intelligence Committee',\n",
    "    'the Joint Intelligence Committee - History' : 'Joint Intelligence Committee',\n",
    "    'Central Intelligence Agency' : 'CIA',\n",
    "    'the Central Intelligence Agency' : 'CIA',\n",
    "    'the Foreign Office' : 'Foreign Office',\n",
    "    'Schar School' : 'Schar School of Policy and Government',\n",
    "    'the Secret Intelligence Service' : 'SIS',\n",
    "    \"George Mason University's\" : \"George Mason University\",\n",
    "    'JIC' : 'Joint Intelligence Committee'\n",
    "}\n",
    "org_counts['ORG'] =org_counts['ORG'].replace(mapping_organisations)\n",
    "org_counts = org_counts.groupby('ORG').sum().reset_index()\n",
    "org_counts.sort_values('count', ascending=False, inplace=True)\n",
    "\n",
    "remove_orgs = ['Intelligence', 'Kremlin', 'Ultra', 'International Security', 'Intelligence Studies', 'Intelligence Analysis', 'OSINT']\n",
    "org_counts = org_counts[~org_counts['ORG'].isin(remove_orgs)]\n",
    "org_counts = org_counts.reset_index(drop=True)\n",
    "\n",
    "org_counts.head(15)"
   ]
  },
  {
   "cell_type": "code",
   "execution_count": 170,
   "metadata": {},
   "outputs": [],
   "source": [
    "gpe_counts.head(15).to_csv('gpe.csv')\n",
    "person_counts.head(15).to_csv('person.csv')\n",
    "org_counts.head(15).to_csv('org.csv')"
   ]
  },
  {
   "cell_type": "code",
   "execution_count": 171,
   "metadata": {},
   "outputs": [
    {
     "data": {
      "text/html": [
       "<div>\n",
       "<style scoped>\n",
       "    .dataframe tbody tr th:only-of-type {\n",
       "        vertical-align: middle;\n",
       "    }\n",
       "\n",
       "    .dataframe tbody tr th {\n",
       "        vertical-align: top;\n",
       "    }\n",
       "\n",
       "    .dataframe thead th {\n",
       "        text-align: right;\n",
       "    }\n",
       "</style>\n",
       "<table border=\"1\" class=\"dataframe\">\n",
       "  <thead>\n",
       "    <tr style=\"text-align: right;\">\n",
       "      <th></th>\n",
       "      <th>Unnamed: 0</th>\n",
       "      <th>Title</th>\n",
       "      <th>Publication type</th>\n",
       "      <th>Link to publication</th>\n",
       "      <th>Abstract</th>\n",
       "      <th>Zotero link</th>\n",
       "      <th>Date published</th>\n",
       "      <th>FirstName2</th>\n",
       "      <th>Publisher</th>\n",
       "      <th>Journal</th>\n",
       "      <th>Date added</th>\n",
       "      <th>Col key</th>\n",
       "      <th>DOI</th>\n",
       "    </tr>\n",
       "  </thead>\n",
       "  <tbody>\n",
       "    <tr>\n",
       "      <th>0</th>\n",
       "      <td>0</td>\n",
       "      <td>Military Intelligence as a Dual Professional I...</td>\n",
       "      <td>Journal article</td>\n",
       "      <td>https://doi.org/10.1080/08850607.2023.2292944</td>\n",
       "      <td>NaN</td>\n",
       "      <td>https://www.zotero.org/groups/intelligence_bib...</td>\n",
       "      <td>2024-01-03</td>\n",
       "      <td>Jack Duffield</td>\n",
       "      <td>NaN</td>\n",
       "      <td>Intl Journal of Intelligence and Counterintell...</td>\n",
       "      <td>2024-02-23T01:15:15Z</td>\n",
       "      <td>['7R9UG9WU']</td>\n",
       "      <td>10.1080/08850607.2023.2292944</td>\n",
       "    </tr>\n",
       "    <tr>\n",
       "      <th>1</th>\n",
       "      <td>1</td>\n",
       "      <td>Intelligence and operational warning: lessons ...</td>\n",
       "      <td>Journal article</td>\n",
       "      <td>https://doi.org/10.1080/18335330.2024.2319128</td>\n",
       "      <td>This paper examines the challenges of operatio...</td>\n",
       "      <td>https://www.zotero.org/groups/intelligence_bib...</td>\n",
       "      <td>2024-02-21</td>\n",
       "      <td>Mike Fowler</td>\n",
       "      <td>NaN</td>\n",
       "      <td>Journal of Policing, Intelligence and Counter ...</td>\n",
       "      <td>2024-02-23T01:03:16Z</td>\n",
       "      <td>['Y959U28A']</td>\n",
       "      <td>10.1080/18335330.2024.2319128</td>\n",
       "    </tr>\n",
       "    <tr>\n",
       "      <th>2</th>\n",
       "      <td>2</td>\n",
       "      <td>British Secret Service Activity in Khorassan, ...</td>\n",
       "      <td>Journal article</td>\n",
       "      <td>https://www.cambridge.org/core/journals/histor...</td>\n",
       "      <td>When great powers quarrel their lesser neighbo...</td>\n",
       "      <td>https://www.zotero.org/groups/intelligence_bib...</td>\n",
       "      <td>1984/09</td>\n",
       "      <td>L. P. Morris</td>\n",
       "      <td>NaN</td>\n",
       "      <td>The Historical Journal</td>\n",
       "      <td>2024-02-22T22:52:38Z</td>\n",
       "      <td>['9DTPTK46']</td>\n",
       "      <td>10.1017/S0018246X0001801X</td>\n",
       "    </tr>\n",
       "    <tr>\n",
       "      <th>3</th>\n",
       "      <td>3</td>\n",
       "      <td>WEHRMACHT PERCEPTIONS OF MASS VIOLENCE IN CROA...</td>\n",
       "      <td>Journal article</td>\n",
       "      <td>https://www.cambridge.org/core/journals/histor...</td>\n",
       "      <td>During the Second World War, the Independent S...</td>\n",
       "      <td>https://www.zotero.org/groups/intelligence_bib...</td>\n",
       "      <td>2001/12</td>\n",
       "      <td>Jonathan E. Gumz</td>\n",
       "      <td>NaN</td>\n",
       "      <td>The Historical Journal</td>\n",
       "      <td>2024-02-22T22:51:36Z</td>\n",
       "      <td>['SCCGXHMZ']</td>\n",
       "      <td>10.1017/S0018246X01001996</td>\n",
       "    </tr>\n",
       "    <tr>\n",
       "      <th>4</th>\n",
       "      <td>4</td>\n",
       "      <td>READING THE RUNES? THE UNITED STATES AND THE M...</td>\n",
       "      <td>Journal article</td>\n",
       "      <td>https://www.cambridge.org/core/journals/histor...</td>\n",
       "      <td>The aftermath of Hosni Mubarak's forced abdica...</td>\n",
       "      <td>https://www.zotero.org/groups/intelligence_bib...</td>\n",
       "      <td>2013/09</td>\n",
       "      <td>Martyn Frampton, Ehud Rosen</td>\n",
       "      <td>NaN</td>\n",
       "      <td>The Historical Journal</td>\n",
       "      <td>2024-02-22T22:49:52Z</td>\n",
       "      <td>['WHBCJ8GW']</td>\n",
       "      <td>10.1017/S0018246X13000150</td>\n",
       "    </tr>\n",
       "    <tr>\n",
       "      <th>...</th>\n",
       "      <td>...</td>\n",
       "      <td>...</td>\n",
       "      <td>...</td>\n",
       "      <td>...</td>\n",
       "      <td>...</td>\n",
       "      <td>...</td>\n",
       "      <td>...</td>\n",
       "      <td>...</td>\n",
       "      <td>...</td>\n",
       "      <td>...</td>\n",
       "      <td>...</td>\n",
       "      <td>...</td>\n",
       "      <td>...</td>\n",
       "    </tr>\n",
       "    <tr>\n",
       "      <th>6122</th>\n",
       "      <td>6122</td>\n",
       "      <td>Analyzing Intelligence: Origins, Obstacles, an...</td>\n",
       "      <td>Book</td>\n",
       "      <td>NaN</td>\n",
       "      <td>NaN</td>\n",
       "      <td>https://www.zotero.org/groups/intelligence_bib...</td>\n",
       "      <td>2008</td>\n",
       "      <td>Roger Z. George, James B. Bruce</td>\n",
       "      <td>Georgetown University Press</td>\n",
       "      <td>NaN</td>\n",
       "      <td>2020-06-05T10:17:21Z</td>\n",
       "      <td>['HCN8YFI8']</td>\n",
       "      <td>NaN</td>\n",
       "    </tr>\n",
       "    <tr>\n",
       "      <th>6123</th>\n",
       "      <td>6123</td>\n",
       "      <td>Intelligence Services in the Information Age</td>\n",
       "      <td>Book</td>\n",
       "      <td>https://doi.org/10.4324/9780203479667</td>\n",
       "      <td>NaN</td>\n",
       "      <td>https://www.zotero.org/groups/intelligence_bib...</td>\n",
       "      <td>2013</td>\n",
       "      <td>Michael Herman</td>\n",
       "      <td>Routledge</td>\n",
       "      <td>NaN</td>\n",
       "      <td>2020-06-05T10:17:21Z</td>\n",
       "      <td>['HCN8YFI8']</td>\n",
       "      <td>NaN</td>\n",
       "    </tr>\n",
       "    <tr>\n",
       "      <th>6124</th>\n",
       "      <td>6124</td>\n",
       "      <td>Intelligence and Government in Britain and the...</td>\n",
       "      <td>Book</td>\n",
       "      <td>NaN</td>\n",
       "      <td>NaN</td>\n",
       "      <td>https://www.zotero.org/groups/intelligence_bib...</td>\n",
       "      <td>2012</td>\n",
       "      <td>Philip H.J. Davies</td>\n",
       "      <td>Praeger</td>\n",
       "      <td>NaN</td>\n",
       "      <td>2020-06-05T10:17:21Z</td>\n",
       "      <td>['HCN8YFI8', 'DVEM4H4W']</td>\n",
       "      <td>NaN</td>\n",
       "    </tr>\n",
       "    <tr>\n",
       "      <th>6125</th>\n",
       "      <td>6125</td>\n",
       "      <td>Silent Warfare: Understanding the World of Int...</td>\n",
       "      <td>Book</td>\n",
       "      <td>NaN</td>\n",
       "      <td>NaN</td>\n",
       "      <td>https://www.zotero.org/groups/intelligence_bib...</td>\n",
       "      <td>2002</td>\n",
       "      <td>Abram N. Shulsky, Gary Schmitt</td>\n",
       "      <td>Potomac Books</td>\n",
       "      <td>NaN</td>\n",
       "      <td>2020-06-05T10:17:21Z</td>\n",
       "      <td>['HCN8YFI8', 'DVEM4H4W']</td>\n",
       "      <td>NaN</td>\n",
       "    </tr>\n",
       "    <tr>\n",
       "      <th>6126</th>\n",
       "      <td>6126</td>\n",
       "      <td>Intelligence and Government in Britain and the...</td>\n",
       "      <td>Book</td>\n",
       "      <td>NaN</td>\n",
       "      <td>NaN</td>\n",
       "      <td>https://www.zotero.org/groups/intelligence_bib...</td>\n",
       "      <td>2012</td>\n",
       "      <td>Philip H.J. Davies</td>\n",
       "      <td>Praeger</td>\n",
       "      <td>NaN</td>\n",
       "      <td>2020-06-05T10:17:21Z</td>\n",
       "      <td>['HCN8YFI8', 'DVEM4H4W']</td>\n",
       "      <td>NaN</td>\n",
       "    </tr>\n",
       "  </tbody>\n",
       "</table>\n",
       "<p>6127 rows × 13 columns</p>\n",
       "</div>"
      ],
      "text/plain": [
       "      Unnamed: 0                                              Title  \\\n",
       "0              0  Military Intelligence as a Dual Professional I...   \n",
       "1              1  Intelligence and operational warning: lessons ...   \n",
       "2              2  British Secret Service Activity in Khorassan, ...   \n",
       "3              3  WEHRMACHT PERCEPTIONS OF MASS VIOLENCE IN CROA...   \n",
       "4              4  READING THE RUNES? THE UNITED STATES AND THE M...   \n",
       "...          ...                                                ...   \n",
       "6122        6122  Analyzing Intelligence: Origins, Obstacles, an...   \n",
       "6123        6123       Intelligence Services in the Information Age   \n",
       "6124        6124  Intelligence and Government in Britain and the...   \n",
       "6125        6125  Silent Warfare: Understanding the World of Int...   \n",
       "6126        6126  Intelligence and Government in Britain and the...   \n",
       "\n",
       "     Publication type                                Link to publication  \\\n",
       "0     Journal article      https://doi.org/10.1080/08850607.2023.2292944   \n",
       "1     Journal article      https://doi.org/10.1080/18335330.2024.2319128   \n",
       "2     Journal article  https://www.cambridge.org/core/journals/histor...   \n",
       "3     Journal article  https://www.cambridge.org/core/journals/histor...   \n",
       "4     Journal article  https://www.cambridge.org/core/journals/histor...   \n",
       "...               ...                                                ...   \n",
       "6122             Book                                                NaN   \n",
       "6123             Book              https://doi.org/10.4324/9780203479667   \n",
       "6124             Book                                                NaN   \n",
       "6125             Book                                                NaN   \n",
       "6126             Book                                                NaN   \n",
       "\n",
       "                                               Abstract  \\\n",
       "0                                                   NaN   \n",
       "1     This paper examines the challenges of operatio...   \n",
       "2     When great powers quarrel their lesser neighbo...   \n",
       "3     During the Second World War, the Independent S...   \n",
       "4     The aftermath of Hosni Mubarak's forced abdica...   \n",
       "...                                                 ...   \n",
       "6122                                                NaN   \n",
       "6123                                                NaN   \n",
       "6124                                                NaN   \n",
       "6125                                                NaN   \n",
       "6126                                                NaN   \n",
       "\n",
       "                                            Zotero link Date published  \\\n",
       "0     https://www.zotero.org/groups/intelligence_bib...     2024-01-03   \n",
       "1     https://www.zotero.org/groups/intelligence_bib...     2024-02-21   \n",
       "2     https://www.zotero.org/groups/intelligence_bib...        1984/09   \n",
       "3     https://www.zotero.org/groups/intelligence_bib...        2001/12   \n",
       "4     https://www.zotero.org/groups/intelligence_bib...        2013/09   \n",
       "...                                                 ...            ...   \n",
       "6122  https://www.zotero.org/groups/intelligence_bib...           2008   \n",
       "6123  https://www.zotero.org/groups/intelligence_bib...           2013   \n",
       "6124  https://www.zotero.org/groups/intelligence_bib...           2012   \n",
       "6125  https://www.zotero.org/groups/intelligence_bib...           2002   \n",
       "6126  https://www.zotero.org/groups/intelligence_bib...           2012   \n",
       "\n",
       "                           FirstName2                    Publisher  \\\n",
       "0                       Jack Duffield                          NaN   \n",
       "1                         Mike Fowler                          NaN   \n",
       "2                        L. P. Morris                          NaN   \n",
       "3                    Jonathan E. Gumz                          NaN   \n",
       "4         Martyn Frampton, Ehud Rosen                          NaN   \n",
       "...                               ...                          ...   \n",
       "6122  Roger Z. George, James B. Bruce  Georgetown University Press   \n",
       "6123                   Michael Herman                    Routledge   \n",
       "6124               Philip H.J. Davies                      Praeger   \n",
       "6125   Abram N. Shulsky, Gary Schmitt                Potomac Books   \n",
       "6126               Philip H.J. Davies                      Praeger   \n",
       "\n",
       "                                                Journal            Date added  \\\n",
       "0     Intl Journal of Intelligence and Counterintell...  2024-02-23T01:15:15Z   \n",
       "1     Journal of Policing, Intelligence and Counter ...  2024-02-23T01:03:16Z   \n",
       "2                                The Historical Journal  2024-02-22T22:52:38Z   \n",
       "3                                The Historical Journal  2024-02-22T22:51:36Z   \n",
       "4                                The Historical Journal  2024-02-22T22:49:52Z   \n",
       "...                                                 ...                   ...   \n",
       "6122                                                NaN  2020-06-05T10:17:21Z   \n",
       "6123                                                NaN  2020-06-05T10:17:21Z   \n",
       "6124                                                NaN  2020-06-05T10:17:21Z   \n",
       "6125                                                NaN  2020-06-05T10:17:21Z   \n",
       "6126                                                NaN  2020-06-05T10:17:21Z   \n",
       "\n",
       "                       Col key                            DOI  \n",
       "0                 ['7R9UG9WU']  10.1080/08850607.2023.2292944  \n",
       "1                 ['Y959U28A']  10.1080/18335330.2024.2319128  \n",
       "2                 ['9DTPTK46']      10.1017/S0018246X0001801X  \n",
       "3                 ['SCCGXHMZ']      10.1017/S0018246X01001996  \n",
       "4                 ['WHBCJ8GW']      10.1017/S0018246X13000150  \n",
       "...                        ...                            ...  \n",
       "6122              ['HCN8YFI8']                            NaN  \n",
       "6123              ['HCN8YFI8']                            NaN  \n",
       "6124  ['HCN8YFI8', 'DVEM4H4W']                            NaN  \n",
       "6125  ['HCN8YFI8', 'DVEM4H4W']                            NaN  \n",
       "6126  ['HCN8YFI8', 'DVEM4H4W']                            NaN  \n",
       "\n",
       "[6127 rows x 13 columns]"
      ]
     },
     "execution_count": 171,
     "metadata": {},
     "output_type": "execute_result"
    }
   ],
   "source": [
    "test = pd.read_csv('all_items.csv')\n",
    "test"
   ]
  },
  {
   "cell_type": "markdown",
   "metadata": {},
   "source": [
    "# Retrieving citation count and open access status"
   ]
  },
  {
   "cell_type": "code",
   "execution_count": 172,
   "metadata": {},
   "outputs": [
    {
     "name": "stdout",
     "output_type": "stream",
     "text": [
      "This part will be refreshed every Wednesday!\n"
     ]
    },
    {
     "data": {
      "text/html": [
       "<div>\n",
       "<style scoped>\n",
       "    .dataframe tbody tr th:only-of-type {\n",
       "        vertical-align: middle;\n",
       "    }\n",
       "\n",
       "    .dataframe tbody tr th {\n",
       "        vertical-align: top;\n",
       "    }\n",
       "\n",
       "    .dataframe thead th {\n",
       "        text-align: right;\n",
       "    }\n",
       "</style>\n",
       "<table border=\"1\" class=\"dataframe\">\n",
       "  <thead>\n",
       "    <tr style=\"text-align: right;\">\n",
       "      <th></th>\n",
       "      <th>Unnamed: 0</th>\n",
       "      <th>Title</th>\n",
       "      <th>Publication type</th>\n",
       "      <th>Link to publication</th>\n",
       "      <th>Abstract</th>\n",
       "      <th>Zotero link</th>\n",
       "      <th>Date published</th>\n",
       "      <th>FirstName2</th>\n",
       "      <th>Publisher</th>\n",
       "      <th>Journal</th>\n",
       "      <th>Date added</th>\n",
       "      <th>Col key</th>\n",
       "      <th>DOI</th>\n",
       "    </tr>\n",
       "  </thead>\n",
       "  <tbody>\n",
       "    <tr>\n",
       "      <th>0</th>\n",
       "      <td>0</td>\n",
       "      <td>Military Intelligence as a Dual Professional I...</td>\n",
       "      <td>Journal article</td>\n",
       "      <td>https://doi.org/10.1080/08850607.2023.2292944</td>\n",
       "      <td>NaN</td>\n",
       "      <td>https://www.zotero.org/groups/intelligence_bib...</td>\n",
       "      <td>2024-01-03</td>\n",
       "      <td>Jack Duffield</td>\n",
       "      <td>NaN</td>\n",
       "      <td>Intl Journal of Intelligence and Counterintell...</td>\n",
       "      <td>2024-02-23T01:15:15Z</td>\n",
       "      <td>['7R9UG9WU']</td>\n",
       "      <td>10.1080/08850607.2023.2292944</td>\n",
       "    </tr>\n",
       "    <tr>\n",
       "      <th>1</th>\n",
       "      <td>1</td>\n",
       "      <td>Intelligence and operational warning: lessons ...</td>\n",
       "      <td>Journal article</td>\n",
       "      <td>https://doi.org/10.1080/18335330.2024.2319128</td>\n",
       "      <td>This paper examines the challenges of operatio...</td>\n",
       "      <td>https://www.zotero.org/groups/intelligence_bib...</td>\n",
       "      <td>2024-02-21</td>\n",
       "      <td>Mike Fowler</td>\n",
       "      <td>NaN</td>\n",
       "      <td>Journal of Policing, Intelligence and Counter ...</td>\n",
       "      <td>2024-02-23T01:03:16Z</td>\n",
       "      <td>['Y959U28A']</td>\n",
       "      <td>10.1080/18335330.2024.2319128</td>\n",
       "    </tr>\n",
       "    <tr>\n",
       "      <th>2</th>\n",
       "      <td>2</td>\n",
       "      <td>British Secret Service Activity in Khorassan, ...</td>\n",
       "      <td>Journal article</td>\n",
       "      <td>https://www.cambridge.org/core/journals/histor...</td>\n",
       "      <td>When great powers quarrel their lesser neighbo...</td>\n",
       "      <td>https://www.zotero.org/groups/intelligence_bib...</td>\n",
       "      <td>1984/09</td>\n",
       "      <td>L. P. Morris</td>\n",
       "      <td>NaN</td>\n",
       "      <td>The Historical Journal</td>\n",
       "      <td>2024-02-22T22:52:38Z</td>\n",
       "      <td>['9DTPTK46']</td>\n",
       "      <td>10.1017/S0018246X0001801X</td>\n",
       "    </tr>\n",
       "    <tr>\n",
       "      <th>3</th>\n",
       "      <td>3</td>\n",
       "      <td>WEHRMACHT PERCEPTIONS OF MASS VIOLENCE IN CROA...</td>\n",
       "      <td>Journal article</td>\n",
       "      <td>https://www.cambridge.org/core/journals/histor...</td>\n",
       "      <td>During the Second World War, the Independent S...</td>\n",
       "      <td>https://www.zotero.org/groups/intelligence_bib...</td>\n",
       "      <td>2001/12</td>\n",
       "      <td>Jonathan E. Gumz</td>\n",
       "      <td>NaN</td>\n",
       "      <td>The Historical Journal</td>\n",
       "      <td>2024-02-22T22:51:36Z</td>\n",
       "      <td>['SCCGXHMZ']</td>\n",
       "      <td>10.1017/S0018246X01001996</td>\n",
       "    </tr>\n",
       "    <tr>\n",
       "      <th>4</th>\n",
       "      <td>4</td>\n",
       "      <td>READING THE RUNES? THE UNITED STATES AND THE M...</td>\n",
       "      <td>Journal article</td>\n",
       "      <td>https://www.cambridge.org/core/journals/histor...</td>\n",
       "      <td>The aftermath of Hosni Mubarak's forced abdica...</td>\n",
       "      <td>https://www.zotero.org/groups/intelligence_bib...</td>\n",
       "      <td>2013/09</td>\n",
       "      <td>Martyn Frampton, Ehud Rosen</td>\n",
       "      <td>NaN</td>\n",
       "      <td>The Historical Journal</td>\n",
       "      <td>2024-02-22T22:49:52Z</td>\n",
       "      <td>['WHBCJ8GW']</td>\n",
       "      <td>10.1017/S0018246X13000150</td>\n",
       "    </tr>\n",
       "    <tr>\n",
       "      <th>...</th>\n",
       "      <td>...</td>\n",
       "      <td>...</td>\n",
       "      <td>...</td>\n",
       "      <td>...</td>\n",
       "      <td>...</td>\n",
       "      <td>...</td>\n",
       "      <td>...</td>\n",
       "      <td>...</td>\n",
       "      <td>...</td>\n",
       "      <td>...</td>\n",
       "      <td>...</td>\n",
       "      <td>...</td>\n",
       "      <td>...</td>\n",
       "    </tr>\n",
       "    <tr>\n",
       "      <th>6122</th>\n",
       "      <td>6122</td>\n",
       "      <td>Analyzing Intelligence: Origins, Obstacles, an...</td>\n",
       "      <td>Book</td>\n",
       "      <td>NaN</td>\n",
       "      <td>NaN</td>\n",
       "      <td>https://www.zotero.org/groups/intelligence_bib...</td>\n",
       "      <td>2008</td>\n",
       "      <td>Roger Z. George, James B. Bruce</td>\n",
       "      <td>Georgetown University Press</td>\n",
       "      <td>NaN</td>\n",
       "      <td>2020-06-05T10:17:21Z</td>\n",
       "      <td>['HCN8YFI8']</td>\n",
       "      <td>NaN</td>\n",
       "    </tr>\n",
       "    <tr>\n",
       "      <th>6123</th>\n",
       "      <td>6123</td>\n",
       "      <td>Intelligence Services in the Information Age</td>\n",
       "      <td>Book</td>\n",
       "      <td>https://doi.org/10.4324/9780203479667</td>\n",
       "      <td>NaN</td>\n",
       "      <td>https://www.zotero.org/groups/intelligence_bib...</td>\n",
       "      <td>2013</td>\n",
       "      <td>Michael Herman</td>\n",
       "      <td>Routledge</td>\n",
       "      <td>NaN</td>\n",
       "      <td>2020-06-05T10:17:21Z</td>\n",
       "      <td>['HCN8YFI8']</td>\n",
       "      <td>NaN</td>\n",
       "    </tr>\n",
       "    <tr>\n",
       "      <th>6124</th>\n",
       "      <td>6124</td>\n",
       "      <td>Intelligence and Government in Britain and the...</td>\n",
       "      <td>Book</td>\n",
       "      <td>NaN</td>\n",
       "      <td>NaN</td>\n",
       "      <td>https://www.zotero.org/groups/intelligence_bib...</td>\n",
       "      <td>2012</td>\n",
       "      <td>Philip H.J. Davies</td>\n",
       "      <td>Praeger</td>\n",
       "      <td>NaN</td>\n",
       "      <td>2020-06-05T10:17:21Z</td>\n",
       "      <td>['HCN8YFI8', 'DVEM4H4W']</td>\n",
       "      <td>NaN</td>\n",
       "    </tr>\n",
       "    <tr>\n",
       "      <th>6125</th>\n",
       "      <td>6125</td>\n",
       "      <td>Silent Warfare: Understanding the World of Int...</td>\n",
       "      <td>Book</td>\n",
       "      <td>NaN</td>\n",
       "      <td>NaN</td>\n",
       "      <td>https://www.zotero.org/groups/intelligence_bib...</td>\n",
       "      <td>2002</td>\n",
       "      <td>Abram N. Shulsky, Gary Schmitt</td>\n",
       "      <td>Potomac Books</td>\n",
       "      <td>NaN</td>\n",
       "      <td>2020-06-05T10:17:21Z</td>\n",
       "      <td>['HCN8YFI8', 'DVEM4H4W']</td>\n",
       "      <td>NaN</td>\n",
       "    </tr>\n",
       "    <tr>\n",
       "      <th>6126</th>\n",
       "      <td>6126</td>\n",
       "      <td>Intelligence and Government in Britain and the...</td>\n",
       "      <td>Book</td>\n",
       "      <td>NaN</td>\n",
       "      <td>NaN</td>\n",
       "      <td>https://www.zotero.org/groups/intelligence_bib...</td>\n",
       "      <td>2012</td>\n",
       "      <td>Philip H.J. Davies</td>\n",
       "      <td>Praeger</td>\n",
       "      <td>NaN</td>\n",
       "      <td>2020-06-05T10:17:21Z</td>\n",
       "      <td>['HCN8YFI8', 'DVEM4H4W']</td>\n",
       "      <td>NaN</td>\n",
       "    </tr>\n",
       "  </tbody>\n",
       "</table>\n",
       "<p>6127 rows × 13 columns</p>\n",
       "</div>"
      ],
      "text/plain": [
       "      Unnamed: 0                                              Title  \\\n",
       "0              0  Military Intelligence as a Dual Professional I...   \n",
       "1              1  Intelligence and operational warning: lessons ...   \n",
       "2              2  British Secret Service Activity in Khorassan, ...   \n",
       "3              3  WEHRMACHT PERCEPTIONS OF MASS VIOLENCE IN CROA...   \n",
       "4              4  READING THE RUNES? THE UNITED STATES AND THE M...   \n",
       "...          ...                                                ...   \n",
       "6122        6122  Analyzing Intelligence: Origins, Obstacles, an...   \n",
       "6123        6123       Intelligence Services in the Information Age   \n",
       "6124        6124  Intelligence and Government in Britain and the...   \n",
       "6125        6125  Silent Warfare: Understanding the World of Int...   \n",
       "6126        6126  Intelligence and Government in Britain and the...   \n",
       "\n",
       "     Publication type                                Link to publication  \\\n",
       "0     Journal article      https://doi.org/10.1080/08850607.2023.2292944   \n",
       "1     Journal article      https://doi.org/10.1080/18335330.2024.2319128   \n",
       "2     Journal article  https://www.cambridge.org/core/journals/histor...   \n",
       "3     Journal article  https://www.cambridge.org/core/journals/histor...   \n",
       "4     Journal article  https://www.cambridge.org/core/journals/histor...   \n",
       "...               ...                                                ...   \n",
       "6122             Book                                                NaN   \n",
       "6123             Book              https://doi.org/10.4324/9780203479667   \n",
       "6124             Book                                                NaN   \n",
       "6125             Book                                                NaN   \n",
       "6126             Book                                                NaN   \n",
       "\n",
       "                                               Abstract  \\\n",
       "0                                                   NaN   \n",
       "1     This paper examines the challenges of operatio...   \n",
       "2     When great powers quarrel their lesser neighbo...   \n",
       "3     During the Second World War, the Independent S...   \n",
       "4     The aftermath of Hosni Mubarak's forced abdica...   \n",
       "...                                                 ...   \n",
       "6122                                                NaN   \n",
       "6123                                                NaN   \n",
       "6124                                                NaN   \n",
       "6125                                                NaN   \n",
       "6126                                                NaN   \n",
       "\n",
       "                                            Zotero link Date published  \\\n",
       "0     https://www.zotero.org/groups/intelligence_bib...     2024-01-03   \n",
       "1     https://www.zotero.org/groups/intelligence_bib...     2024-02-21   \n",
       "2     https://www.zotero.org/groups/intelligence_bib...        1984/09   \n",
       "3     https://www.zotero.org/groups/intelligence_bib...        2001/12   \n",
       "4     https://www.zotero.org/groups/intelligence_bib...        2013/09   \n",
       "...                                                 ...            ...   \n",
       "6122  https://www.zotero.org/groups/intelligence_bib...           2008   \n",
       "6123  https://www.zotero.org/groups/intelligence_bib...           2013   \n",
       "6124  https://www.zotero.org/groups/intelligence_bib...           2012   \n",
       "6125  https://www.zotero.org/groups/intelligence_bib...           2002   \n",
       "6126  https://www.zotero.org/groups/intelligence_bib...           2012   \n",
       "\n",
       "                           FirstName2                    Publisher  \\\n",
       "0                       Jack Duffield                          NaN   \n",
       "1                         Mike Fowler                          NaN   \n",
       "2                        L. P. Morris                          NaN   \n",
       "3                    Jonathan E. Gumz                          NaN   \n",
       "4         Martyn Frampton, Ehud Rosen                          NaN   \n",
       "...                               ...                          ...   \n",
       "6122  Roger Z. George, James B. Bruce  Georgetown University Press   \n",
       "6123                   Michael Herman                    Routledge   \n",
       "6124               Philip H.J. Davies                      Praeger   \n",
       "6125   Abram N. Shulsky, Gary Schmitt                Potomac Books   \n",
       "6126               Philip H.J. Davies                      Praeger   \n",
       "\n",
       "                                                Journal            Date added  \\\n",
       "0     Intl Journal of Intelligence and Counterintell...  2024-02-23T01:15:15Z   \n",
       "1     Journal of Policing, Intelligence and Counter ...  2024-02-23T01:03:16Z   \n",
       "2                                The Historical Journal  2024-02-22T22:52:38Z   \n",
       "3                                The Historical Journal  2024-02-22T22:51:36Z   \n",
       "4                                The Historical Journal  2024-02-22T22:49:52Z   \n",
       "...                                                 ...                   ...   \n",
       "6122                                                NaN  2020-06-05T10:17:21Z   \n",
       "6123                                                NaN  2020-06-05T10:17:21Z   \n",
       "6124                                                NaN  2020-06-05T10:17:21Z   \n",
       "6125                                                NaN  2020-06-05T10:17:21Z   \n",
       "6126                                                NaN  2020-06-05T10:17:21Z   \n",
       "\n",
       "                       Col key                            DOI  \n",
       "0                 ['7R9UG9WU']  10.1080/08850607.2023.2292944  \n",
       "1                 ['Y959U28A']  10.1080/18335330.2024.2319128  \n",
       "2                 ['9DTPTK46']      10.1017/S0018246X0001801X  \n",
       "3                 ['SCCGXHMZ']      10.1017/S0018246X01001996  \n",
       "4                 ['WHBCJ8GW']      10.1017/S0018246X13000150  \n",
       "...                        ...                            ...  \n",
       "6122              ['HCN8YFI8']                            NaN  \n",
       "6123              ['HCN8YFI8']                            NaN  \n",
       "6124  ['HCN8YFI8', 'DVEM4H4W']                            NaN  \n",
       "6125  ['HCN8YFI8', 'DVEM4H4W']                            NaN  \n",
       "6126  ['HCN8YFI8', 'DVEM4H4W']                            NaN  \n",
       "\n",
       "[6127 rows x 13 columns]"
      ]
     },
     "execution_count": 172,
     "metadata": {},
     "output_type": "execute_result"
    }
   ],
   "source": [
    "df_doi = pd.read_csv('all_items.csv')\n",
    "if datetime.today().weekday() == 3:\n",
    "\n",
    "    df_doi = df_doi[['Zotero link', 'DOI']].dropna()\n",
    "    df_doi = df_doi.drop(df_doi[df_doi['DOI'] == ''].index)\n",
    "    df_doi = df_doi.reset_index(drop=True)\n",
    "    df_doi['DOI'] = df_doi['DOI'].str.replace('https://doi.org/', '')\n",
    "\n",
    "    def fetch_article_metadata(doi):\n",
    "        base_url = 'https://api.openalex.org/works/https://doi.org/'\n",
    "        response = requests.get(base_url + doi)\n",
    "        if response.status_code == 200:\n",
    "            data = response.json()\n",
    "            counts_by_year = data.get('counts_by_year', [])\n",
    "            if counts_by_year:\n",
    "                first_citation_year = min(entry.get('year') for entry in data['counts_by_year'])\n",
    "            else:\n",
    "                first_citation_year = None\n",
    "            if data.get('counts_by_year'):\n",
    "                last_citation_year = max(entry.get('year') for entry in data['counts_by_year'])\n",
    "            else:\n",
    "                last_citation_year = None\n",
    "    \n",
    "            article_metadata = {\n",
    "                'ID': data.get('id'),\n",
    "                'Citation': data.get('cited_by_count'),\n",
    "                'OA status': data.get('open_access', {}).get('is_oa'),\n",
    "                'Citation_list': data.get('cited_by_api_url'),\n",
    "                'First_citation_year': first_citation_year,\n",
    "                'Last_citation_year':last_citation_year,\n",
    "                'Publication_year':data.get('publication_year')\n",
    "            }\n",
    "            return article_metadata\n",
    "        else:\n",
    "            return {'ID': None, 'Citation': None, 'OA status': None, 'First_citation_year': None, 'Last_citation_year':None, 'Publication_year' : None}\n",
    "    df_doi['ID'] = None\n",
    "    df_doi['Citation'] = None\n",
    "    df_doi['OA status'] = None\n",
    "    df_doi['Citation_list'] = None\n",
    "    df_doi['First_citation_year'] = None\n",
    "    df_doi['Last_citation_year']=None\n",
    "    df_doi['Publication_year'] = None\n",
    "\n",
    "    # Iterate over each row in the DataFrame\n",
    "    for index, row in df_doi.iterrows():\n",
    "        doi = row['DOI']\n",
    "        article_metadata = fetch_article_metadata(doi)\n",
    "        if article_metadata:\n",
    "            # Update DataFrame with fetched information\n",
    "            df_doi.at[index, 'ID'] = article_metadata['ID']\n",
    "            df_doi.at[index, 'Citation'] = article_metadata['Citation']\n",
    "            df_doi.at[index, 'OA status'] = article_metadata['OA status']\n",
    "            df_doi.at[index, 'First_citation_year'] = article_metadata['First_citation_year']\n",
    "            df_doi.at[index, 'Last_citation_year'] = article_metadata['Last_citation_year']\n",
    "            if 'Citation_list' in article_metadata:\n",
    "                df_doi.at[index, 'Citation_list'] = article_metadata['Citation_list']\n",
    "            else:\n",
    "                # Set to None if key is not found\n",
    "                df_doi.at[index, 'Citation_list'] = None\n",
    "            df_doi.at[index, 'Publication_year'] = article_metadata['Publication_year']\n",
    "\n",
    "    # Calculate the difference between First_citation_year and Publication_year\n",
    "    df_doi['Year_difference'] = df_doi['First_citation_year'] - df_doi['Publication_year']\n",
    "    df_doi.to_csv('citations.csv')\n",
    "else:\n",
    "    print('This part will be refreshed every Wednesday!')\n",
    "df_doi"
   ]
  },
  {
   "cell_type": "code",
   "execution_count": 173,
   "metadata": {},
   "outputs": [],
   "source": [
    "# ## Remove after the first successful retrieval 2024-02-18\n",
    "\n",
    "# df_doi = pd.read_csv('all_items.csv')\n",
    "# if datetime.today().weekday() == 3:\n",
    "\n",
    "#     df_doi = df_doi[['Zotero link', 'DOI']].dropna()\n",
    "#     df_doi = df_doi.drop(df_doi[df_doi['DOI'] == ''].index)\n",
    "#     df_doi = df_doi.reset_index(drop=True)\n",
    "#     df_doi['DOI'] = df_doi['DOI'].str.replace('https://doi.org/', '')\n",
    "\n",
    "#     def fetch_article_metadata(doi):\n",
    "#         base_url = 'https://api.openalex.org/works/https://doi.org/'\n",
    "#         response = requests.get(base_url + doi)\n",
    "#         if response.status_code == 200:\n",
    "#             data = response.json()\n",
    "#             counts_by_year = data.get('counts_by_year', [])\n",
    "#             if counts_by_year:\n",
    "#                 first_citation_year = min(entry.get('year') for entry in data['counts_by_year'])\n",
    "#             else:\n",
    "#                 first_citation_year = None\n",
    "#             article_metadata = {\n",
    "#                 'ID': data.get('id'),\n",
    "#                 'Citation': data.get('cited_by_count'),\n",
    "#                 'OA status': data.get('open_access', {}).get('is_oa'),\n",
    "#                 'Citation_list': data.get('cited_by_api_url'),\n",
    "#                 'First_citation_year': first_citation_year,\n",
    "#                 'Publication_year':data.get('publication_year')\n",
    "#             }\n",
    "#             return article_metadata\n",
    "#         else:\n",
    "#             return {'ID': None, 'Citation': None, 'OA status': None, 'First_citation_year': None, 'Publication_year' : None}\n",
    "#     df_doi['ID'] = None\n",
    "#     df_doi['Citation'] = None\n",
    "#     df_doi['OA status'] = None\n",
    "#     df_doi['Citation_list'] = None\n",
    "#     df_doi['First_citation_year'] = None\n",
    "#     df_doi['Publication_year'] = None\n",
    "\n",
    "#     # Iterate over each row in the DataFrame\n",
    "#     for index, row in df_doi.iterrows():\n",
    "#         doi = row['DOI']\n",
    "#         article_metadata = fetch_article_metadata(doi)\n",
    "#         if article_metadata:\n",
    "#             # Update DataFrame with fetched information\n",
    "#             df_doi.at[index, 'ID'] = article_metadata['ID']\n",
    "#             df_doi.at[index, 'Citation'] = article_metadata['Citation']\n",
    "#             df_doi.at[index, 'OA status'] = article_metadata['OA status']\n",
    "#             df_doi.at[index, 'First_citation_year'] = article_metadata['First_citation_year']\n",
    "#             if 'Citation_list' in article_metadata:\n",
    "#                 df_doi.at[index, 'Citation_list'] = article_metadata['Citation_list']\n",
    "#             else:\n",
    "#                 # Set to None if key is not found\n",
    "#                 df_doi.at[index, 'Citation_list'] = None\n",
    "#             df_doi.at[index, 'Publication_year'] = article_metadata['Publication_year']\n",
    "\n",
    "#     # Calculate the difference between First_citation_year and Publication_year\n",
    "#     df_doi['Year_difference'] = df_doi['First_citation_year'] - df_doi['Publication_year']\n",
    "#     df_doi.to_csv('citations.csv')\n",
    "# else:\n",
    "#     print('This part will be refreshed every Wednesday!')\n",
    "# df_doi"
   ]
  },
  {
   "cell_type": "code",
   "execution_count": 174,
   "metadata": {},
   "outputs": [],
   "source": [
    "# ## Retrieving citation and open access status without first ciation year\n",
    "# df_doi = pd.read_csv('all_items.csv')\n",
    "# # df_doi = df_doi.head(10)\n",
    "# if datetime.today().weekday() == 5:\n",
    "\n",
    "#     df_doi = df_doi[['Zotero link', 'DOI']].dropna()\n",
    "#     df_doi = df_doi.drop(df_doi[df_doi['DOI']==''].index)\n",
    "#     df_doi = df_doi.reset_index(drop=True)\n",
    "#     df_doi['DOI'] = df_doi['DOI'].str.replace('https://doi.org/', '')\n",
    "#     df_doi\n",
    "\n",
    "#     def fetch_article_metadata(doi):\n",
    "#         base_url = 'https://api.openalex.org/works/https://doi.org/'\n",
    "#         response = requests.get(base_url + doi)\n",
    "#         if response.status_code == 200:\n",
    "#             data = response.json()\n",
    "#             article_metadata = {\n",
    "#                 'ID': data.get('id'),\n",
    "#                 'Citation': data.get('cited_by_count'),\n",
    "#                 'OA status': data.get('open_access', {}).get('is_oa'),\n",
    "#                 'Citation_list':data.get('cited_by_api_url')\n",
    "#             }\n",
    "#             return article_metadata\n",
    "#         else:\n",
    "#             return {'ID': None, 'Citation': None, 'OA status': None}\n",
    "\n",
    "#     df_doi['ID'] = None\n",
    "#     df_doi['Citation'] = None\n",
    "#     df_doi['OA status'] = None\n",
    "#     df_doi['Citation_list'] = None\n",
    "\n",
    "#     # Iterate over each row in the DataFrame\n",
    "#     for index, row in df_doi.iterrows():\n",
    "#         doi = row['DOI']\n",
    "#         article_metadata = fetch_article_metadata(doi)\n",
    "#         if article_metadata:\n",
    "#             # Update DataFrame with fetched information\n",
    "#             df_doi.at[index, 'ID'] = article_metadata['ID']\n",
    "#             df_doi.at[index, 'Citation'] = article_metadata['Citation']\n",
    "#             df_doi.at[index, 'OA status'] = article_metadata['OA status']\n",
    "#             if 'Citation_list' in article_metadata:\n",
    "#                 df_doi.at[index, 'Citation_list'] = article_metadata['Citation_list']\n",
    "#             else:\n",
    "#                 # Set to None if key is not found\n",
    "#                 df_doi.at[index, 'Citation_list'] = None\n",
    "#     df_doi\n",
    "#     df_doi.to_csv('citations.csv')\n",
    "# else:\n",
    "#     print('This part will be refreshed every Wednesday!')"
   ]
  },
  {
   "cell_type": "code",
   "execution_count": 175,
   "metadata": {},
   "outputs": [
    {
     "data": {
      "text/html": [
       "<div>\n",
       "<style scoped>\n",
       "    .dataframe tbody tr th:only-of-type {\n",
       "        vertical-align: middle;\n",
       "    }\n",
       "\n",
       "    .dataframe tbody tr th {\n",
       "        vertical-align: top;\n",
       "    }\n",
       "\n",
       "    .dataframe thead th {\n",
       "        text-align: right;\n",
       "    }\n",
       "</style>\n",
       "<table border=\"1\" class=\"dataframe\">\n",
       "  <thead>\n",
       "    <tr style=\"text-align: right;\">\n",
       "      <th></th>\n",
       "      <th>Unnamed: 0</th>\n",
       "      <th>Title</th>\n",
       "      <th>Publication type</th>\n",
       "      <th>Link to publication</th>\n",
       "      <th>Abstract</th>\n",
       "      <th>Zotero link</th>\n",
       "      <th>Date published</th>\n",
       "      <th>FirstName2</th>\n",
       "      <th>Publisher</th>\n",
       "      <th>Journal</th>\n",
       "      <th>Date added</th>\n",
       "      <th>Col key</th>\n",
       "      <th>DOI</th>\n",
       "    </tr>\n",
       "  </thead>\n",
       "  <tbody>\n",
       "    <tr>\n",
       "      <th>0</th>\n",
       "      <td>0</td>\n",
       "      <td>Military Intelligence as a Dual Professional I...</td>\n",
       "      <td>Journal article</td>\n",
       "      <td>https://doi.org/10.1080/08850607.2023.2292944</td>\n",
       "      <td>NaN</td>\n",
       "      <td>https://www.zotero.org/groups/intelligence_bib...</td>\n",
       "      <td>2024-01-03</td>\n",
       "      <td>Jack Duffield</td>\n",
       "      <td>NaN</td>\n",
       "      <td>Intl Journal of Intelligence and Counterintell...</td>\n",
       "      <td>2024-02-23T01:15:15Z</td>\n",
       "      <td>['7R9UG9WU']</td>\n",
       "      <td>10.1080/08850607.2023.2292944</td>\n",
       "    </tr>\n",
       "    <tr>\n",
       "      <th>1</th>\n",
       "      <td>1</td>\n",
       "      <td>Intelligence and operational warning: lessons ...</td>\n",
       "      <td>Journal article</td>\n",
       "      <td>https://doi.org/10.1080/18335330.2024.2319128</td>\n",
       "      <td>This paper examines the challenges of operatio...</td>\n",
       "      <td>https://www.zotero.org/groups/intelligence_bib...</td>\n",
       "      <td>2024-02-21</td>\n",
       "      <td>Mike Fowler</td>\n",
       "      <td>NaN</td>\n",
       "      <td>Journal of Policing, Intelligence and Counter ...</td>\n",
       "      <td>2024-02-23T01:03:16Z</td>\n",
       "      <td>['Y959U28A']</td>\n",
       "      <td>10.1080/18335330.2024.2319128</td>\n",
       "    </tr>\n",
       "    <tr>\n",
       "      <th>2</th>\n",
       "      <td>2</td>\n",
       "      <td>British Secret Service Activity in Khorassan, ...</td>\n",
       "      <td>Journal article</td>\n",
       "      <td>https://www.cambridge.org/core/journals/histor...</td>\n",
       "      <td>When great powers quarrel their lesser neighbo...</td>\n",
       "      <td>https://www.zotero.org/groups/intelligence_bib...</td>\n",
       "      <td>1984/09</td>\n",
       "      <td>L. P. Morris</td>\n",
       "      <td>NaN</td>\n",
       "      <td>The Historical Journal</td>\n",
       "      <td>2024-02-22T22:52:38Z</td>\n",
       "      <td>['9DTPTK46']</td>\n",
       "      <td>10.1017/S0018246X0001801X</td>\n",
       "    </tr>\n",
       "    <tr>\n",
       "      <th>3</th>\n",
       "      <td>3</td>\n",
       "      <td>WEHRMACHT PERCEPTIONS OF MASS VIOLENCE IN CROA...</td>\n",
       "      <td>Journal article</td>\n",
       "      <td>https://www.cambridge.org/core/journals/histor...</td>\n",
       "      <td>During the Second World War, the Independent S...</td>\n",
       "      <td>https://www.zotero.org/groups/intelligence_bib...</td>\n",
       "      <td>2001/12</td>\n",
       "      <td>Jonathan E. Gumz</td>\n",
       "      <td>NaN</td>\n",
       "      <td>The Historical Journal</td>\n",
       "      <td>2024-02-22T22:51:36Z</td>\n",
       "      <td>['SCCGXHMZ']</td>\n",
       "      <td>10.1017/S0018246X01001996</td>\n",
       "    </tr>\n",
       "    <tr>\n",
       "      <th>4</th>\n",
       "      <td>4</td>\n",
       "      <td>READING THE RUNES? THE UNITED STATES AND THE M...</td>\n",
       "      <td>Journal article</td>\n",
       "      <td>https://www.cambridge.org/core/journals/histor...</td>\n",
       "      <td>The aftermath of Hosni Mubarak's forced abdica...</td>\n",
       "      <td>https://www.zotero.org/groups/intelligence_bib...</td>\n",
       "      <td>2013/09</td>\n",
       "      <td>Martyn Frampton, Ehud Rosen</td>\n",
       "      <td>NaN</td>\n",
       "      <td>The Historical Journal</td>\n",
       "      <td>2024-02-22T22:49:52Z</td>\n",
       "      <td>['WHBCJ8GW']</td>\n",
       "      <td>10.1017/S0018246X13000150</td>\n",
       "    </tr>\n",
       "    <tr>\n",
       "      <th>...</th>\n",
       "      <td>...</td>\n",
       "      <td>...</td>\n",
       "      <td>...</td>\n",
       "      <td>...</td>\n",
       "      <td>...</td>\n",
       "      <td>...</td>\n",
       "      <td>...</td>\n",
       "      <td>...</td>\n",
       "      <td>...</td>\n",
       "      <td>...</td>\n",
       "      <td>...</td>\n",
       "      <td>...</td>\n",
       "      <td>...</td>\n",
       "    </tr>\n",
       "    <tr>\n",
       "      <th>6122</th>\n",
       "      <td>6122</td>\n",
       "      <td>Analyzing Intelligence: Origins, Obstacles, an...</td>\n",
       "      <td>Book</td>\n",
       "      <td>NaN</td>\n",
       "      <td>NaN</td>\n",
       "      <td>https://www.zotero.org/groups/intelligence_bib...</td>\n",
       "      <td>2008</td>\n",
       "      <td>Roger Z. George, James B. Bruce</td>\n",
       "      <td>Georgetown University Press</td>\n",
       "      <td>NaN</td>\n",
       "      <td>2020-06-05T10:17:21Z</td>\n",
       "      <td>['HCN8YFI8']</td>\n",
       "      <td>NaN</td>\n",
       "    </tr>\n",
       "    <tr>\n",
       "      <th>6123</th>\n",
       "      <td>6123</td>\n",
       "      <td>Intelligence Services in the Information Age</td>\n",
       "      <td>Book</td>\n",
       "      <td>https://doi.org/10.4324/9780203479667</td>\n",
       "      <td>NaN</td>\n",
       "      <td>https://www.zotero.org/groups/intelligence_bib...</td>\n",
       "      <td>2013</td>\n",
       "      <td>Michael Herman</td>\n",
       "      <td>Routledge</td>\n",
       "      <td>NaN</td>\n",
       "      <td>2020-06-05T10:17:21Z</td>\n",
       "      <td>['HCN8YFI8']</td>\n",
       "      <td>NaN</td>\n",
       "    </tr>\n",
       "    <tr>\n",
       "      <th>6124</th>\n",
       "      <td>6124</td>\n",
       "      <td>Intelligence and Government in Britain and the...</td>\n",
       "      <td>Book</td>\n",
       "      <td>NaN</td>\n",
       "      <td>NaN</td>\n",
       "      <td>https://www.zotero.org/groups/intelligence_bib...</td>\n",
       "      <td>2012</td>\n",
       "      <td>Philip H.J. Davies</td>\n",
       "      <td>Praeger</td>\n",
       "      <td>NaN</td>\n",
       "      <td>2020-06-05T10:17:21Z</td>\n",
       "      <td>['HCN8YFI8', 'DVEM4H4W']</td>\n",
       "      <td>NaN</td>\n",
       "    </tr>\n",
       "    <tr>\n",
       "      <th>6125</th>\n",
       "      <td>6125</td>\n",
       "      <td>Silent Warfare: Understanding the World of Int...</td>\n",
       "      <td>Book</td>\n",
       "      <td>NaN</td>\n",
       "      <td>NaN</td>\n",
       "      <td>https://www.zotero.org/groups/intelligence_bib...</td>\n",
       "      <td>2002</td>\n",
       "      <td>Abram N. Shulsky, Gary Schmitt</td>\n",
       "      <td>Potomac Books</td>\n",
       "      <td>NaN</td>\n",
       "      <td>2020-06-05T10:17:21Z</td>\n",
       "      <td>['HCN8YFI8', 'DVEM4H4W']</td>\n",
       "      <td>NaN</td>\n",
       "    </tr>\n",
       "    <tr>\n",
       "      <th>6126</th>\n",
       "      <td>6126</td>\n",
       "      <td>Intelligence and Government in Britain and the...</td>\n",
       "      <td>Book</td>\n",
       "      <td>NaN</td>\n",
       "      <td>NaN</td>\n",
       "      <td>https://www.zotero.org/groups/intelligence_bib...</td>\n",
       "      <td>2012</td>\n",
       "      <td>Philip H.J. Davies</td>\n",
       "      <td>Praeger</td>\n",
       "      <td>NaN</td>\n",
       "      <td>2020-06-05T10:17:21Z</td>\n",
       "      <td>['HCN8YFI8', 'DVEM4H4W']</td>\n",
       "      <td>NaN</td>\n",
       "    </tr>\n",
       "  </tbody>\n",
       "</table>\n",
       "<p>6127 rows × 13 columns</p>\n",
       "</div>"
      ],
      "text/plain": [
       "      Unnamed: 0                                              Title  \\\n",
       "0              0  Military Intelligence as a Dual Professional I...   \n",
       "1              1  Intelligence and operational warning: lessons ...   \n",
       "2              2  British Secret Service Activity in Khorassan, ...   \n",
       "3              3  WEHRMACHT PERCEPTIONS OF MASS VIOLENCE IN CROA...   \n",
       "4              4  READING THE RUNES? THE UNITED STATES AND THE M...   \n",
       "...          ...                                                ...   \n",
       "6122        6122  Analyzing Intelligence: Origins, Obstacles, an...   \n",
       "6123        6123       Intelligence Services in the Information Age   \n",
       "6124        6124  Intelligence and Government in Britain and the...   \n",
       "6125        6125  Silent Warfare: Understanding the World of Int...   \n",
       "6126        6126  Intelligence and Government in Britain and the...   \n",
       "\n",
       "     Publication type                                Link to publication  \\\n",
       "0     Journal article      https://doi.org/10.1080/08850607.2023.2292944   \n",
       "1     Journal article      https://doi.org/10.1080/18335330.2024.2319128   \n",
       "2     Journal article  https://www.cambridge.org/core/journals/histor...   \n",
       "3     Journal article  https://www.cambridge.org/core/journals/histor...   \n",
       "4     Journal article  https://www.cambridge.org/core/journals/histor...   \n",
       "...               ...                                                ...   \n",
       "6122             Book                                                NaN   \n",
       "6123             Book              https://doi.org/10.4324/9780203479667   \n",
       "6124             Book                                                NaN   \n",
       "6125             Book                                                NaN   \n",
       "6126             Book                                                NaN   \n",
       "\n",
       "                                               Abstract  \\\n",
       "0                                                   NaN   \n",
       "1     This paper examines the challenges of operatio...   \n",
       "2     When great powers quarrel their lesser neighbo...   \n",
       "3     During the Second World War, the Independent S...   \n",
       "4     The aftermath of Hosni Mubarak's forced abdica...   \n",
       "...                                                 ...   \n",
       "6122                                                NaN   \n",
       "6123                                                NaN   \n",
       "6124                                                NaN   \n",
       "6125                                                NaN   \n",
       "6126                                                NaN   \n",
       "\n",
       "                                            Zotero link Date published  \\\n",
       "0     https://www.zotero.org/groups/intelligence_bib...     2024-01-03   \n",
       "1     https://www.zotero.org/groups/intelligence_bib...     2024-02-21   \n",
       "2     https://www.zotero.org/groups/intelligence_bib...        1984/09   \n",
       "3     https://www.zotero.org/groups/intelligence_bib...        2001/12   \n",
       "4     https://www.zotero.org/groups/intelligence_bib...        2013/09   \n",
       "...                                                 ...            ...   \n",
       "6122  https://www.zotero.org/groups/intelligence_bib...           2008   \n",
       "6123  https://www.zotero.org/groups/intelligence_bib...           2013   \n",
       "6124  https://www.zotero.org/groups/intelligence_bib...           2012   \n",
       "6125  https://www.zotero.org/groups/intelligence_bib...           2002   \n",
       "6126  https://www.zotero.org/groups/intelligence_bib...           2012   \n",
       "\n",
       "                           FirstName2                    Publisher  \\\n",
       "0                       Jack Duffield                          NaN   \n",
       "1                         Mike Fowler                          NaN   \n",
       "2                        L. P. Morris                          NaN   \n",
       "3                    Jonathan E. Gumz                          NaN   \n",
       "4         Martyn Frampton, Ehud Rosen                          NaN   \n",
       "...                               ...                          ...   \n",
       "6122  Roger Z. George, James B. Bruce  Georgetown University Press   \n",
       "6123                   Michael Herman                    Routledge   \n",
       "6124               Philip H.J. Davies                      Praeger   \n",
       "6125   Abram N. Shulsky, Gary Schmitt                Potomac Books   \n",
       "6126               Philip H.J. Davies                      Praeger   \n",
       "\n",
       "                                                Journal            Date added  \\\n",
       "0     Intl Journal of Intelligence and Counterintell...  2024-02-23T01:15:15Z   \n",
       "1     Journal of Policing, Intelligence and Counter ...  2024-02-23T01:03:16Z   \n",
       "2                                The Historical Journal  2024-02-22T22:52:38Z   \n",
       "3                                The Historical Journal  2024-02-22T22:51:36Z   \n",
       "4                                The Historical Journal  2024-02-22T22:49:52Z   \n",
       "...                                                 ...                   ...   \n",
       "6122                                                NaN  2020-06-05T10:17:21Z   \n",
       "6123                                                NaN  2020-06-05T10:17:21Z   \n",
       "6124                                                NaN  2020-06-05T10:17:21Z   \n",
       "6125                                                NaN  2020-06-05T10:17:21Z   \n",
       "6126                                                NaN  2020-06-05T10:17:21Z   \n",
       "\n",
       "                       Col key                            DOI  \n",
       "0                 ['7R9UG9WU']  10.1080/08850607.2023.2292944  \n",
       "1                 ['Y959U28A']  10.1080/18335330.2024.2319128  \n",
       "2                 ['9DTPTK46']      10.1017/S0018246X0001801X  \n",
       "3                 ['SCCGXHMZ']      10.1017/S0018246X01001996  \n",
       "4                 ['WHBCJ8GW']      10.1017/S0018246X13000150  \n",
       "...                        ...                            ...  \n",
       "6122              ['HCN8YFI8']                            NaN  \n",
       "6123              ['HCN8YFI8']                            NaN  \n",
       "6124  ['HCN8YFI8', 'DVEM4H4W']                            NaN  \n",
       "6125  ['HCN8YFI8', 'DVEM4H4W']                            NaN  \n",
       "6126  ['HCN8YFI8', 'DVEM4H4W']                            NaN  \n",
       "\n",
       "[6127 rows x 13 columns]"
      ]
     },
     "execution_count": 175,
     "metadata": {},
     "output_type": "execute_result"
    }
   ],
   "source": [
    "df_doi"
   ]
  },
  {
   "cell_type": "code",
   "execution_count": 176,
   "metadata": {},
   "outputs": [
    {
     "data": {
      "text/html": [
       "<div>\n",
       "<style scoped>\n",
       "    .dataframe tbody tr th:only-of-type {\n",
       "        vertical-align: middle;\n",
       "    }\n",
       "\n",
       "    .dataframe tbody tr th {\n",
       "        vertical-align: top;\n",
       "    }\n",
       "\n",
       "    .dataframe thead th {\n",
       "        text-align: right;\n",
       "    }\n",
       "</style>\n",
       "<table border=\"1\" class=\"dataframe\">\n",
       "  <thead>\n",
       "    <tr style=\"text-align: right;\">\n",
       "      <th></th>\n",
       "      <th>Zotero link</th>\n",
       "      <th>DOI</th>\n",
       "      <th>ID</th>\n",
       "      <th>Citation</th>\n",
       "      <th>OA status</th>\n",
       "      <th>Citation_list</th>\n",
       "      <th>First_citation_year</th>\n",
       "      <th>Last_citation_year</th>\n",
       "      <th>Publication_year</th>\n",
       "      <th>Year_difference</th>\n",
       "    </tr>\n",
       "  </thead>\n",
       "  <tbody>\n",
       "    <tr>\n",
       "      <th>0</th>\n",
       "      <td>https://www.zotero.org/groups/intelligence_bib...</td>\n",
       "      <td>10.1017/S0018246X23000432</td>\n",
       "      <td>https://openalex.org/W4386783954</td>\n",
       "      <td>0.0</td>\n",
       "      <td>True</td>\n",
       "      <td>https://api.openalex.org/works?filter=cites:W4...</td>\n",
       "      <td>NaN</td>\n",
       "      <td>NaN</td>\n",
       "      <td>2023.0</td>\n",
       "      <td>NaN</td>\n",
       "    </tr>\n",
       "    <tr>\n",
       "      <th>1</th>\n",
       "      <td>https://www.zotero.org/groups/intelligence_bib...</td>\n",
       "      <td>10.1017/S0018246X20000278</td>\n",
       "      <td>https://openalex.org/W3047241316</td>\n",
       "      <td>0.0</td>\n",
       "      <td>False</td>\n",
       "      <td>https://api.openalex.org/works?filter=cites:W3...</td>\n",
       "      <td>NaN</td>\n",
       "      <td>NaN</td>\n",
       "      <td>2020.0</td>\n",
       "      <td>NaN</td>\n",
       "    </tr>\n",
       "    <tr>\n",
       "      <th>2</th>\n",
       "      <td>https://www.zotero.org/groups/intelligence_bib...</td>\n",
       "      <td>10.1017/S0018246X00005094</td>\n",
       "      <td>https://openalex.org/W2046435616</td>\n",
       "      <td>10.0</td>\n",
       "      <td>False</td>\n",
       "      <td>https://api.openalex.org/works?filter=cites:W2...</td>\n",
       "      <td>2012.0</td>\n",
       "      <td>2023.0</td>\n",
       "      <td>1985.0</td>\n",
       "      <td>27.0</td>\n",
       "    </tr>\n",
       "    <tr>\n",
       "      <th>3</th>\n",
       "      <td>https://www.zotero.org/groups/intelligence_bib...</td>\n",
       "      <td>10.1017/S0018246X2100008X</td>\n",
       "      <td>https://openalex.org/W3139180790</td>\n",
       "      <td>0.0</td>\n",
       "      <td>True</td>\n",
       "      <td>https://api.openalex.org/works?filter=cites:W3...</td>\n",
       "      <td>NaN</td>\n",
       "      <td>NaN</td>\n",
       "      <td>2021.0</td>\n",
       "      <td>NaN</td>\n",
       "    </tr>\n",
       "    <tr>\n",
       "      <th>4</th>\n",
       "      <td>https://www.zotero.org/groups/intelligence_bib...</td>\n",
       "      <td>10.1017/S0018246X02002546</td>\n",
       "      <td>https://openalex.org/W2100542764</td>\n",
       "      <td>2.0</td>\n",
       "      <td>False</td>\n",
       "      <td>https://api.openalex.org/works?filter=cites:W2...</td>\n",
       "      <td>2021.0</td>\n",
       "      <td>2021.0</td>\n",
       "      <td>2002.0</td>\n",
       "      <td>19.0</td>\n",
       "    </tr>\n",
       "    <tr>\n",
       "      <th>...</th>\n",
       "      <td>...</td>\n",
       "      <td>...</td>\n",
       "      <td>...</td>\n",
       "      <td>...</td>\n",
       "      <td>...</td>\n",
       "      <td>...</td>\n",
       "      <td>...</td>\n",
       "      <td>...</td>\n",
       "      <td>...</td>\n",
       "      <td>...</td>\n",
       "    </tr>\n",
       "    <tr>\n",
       "      <th>3301</th>\n",
       "      <td>https://www.zotero.org/groups/intelligence_bib...</td>\n",
       "      <td>10.1177/1755088217712069</td>\n",
       "      <td>https://openalex.org/W2612406272</td>\n",
       "      <td>4.0</td>\n",
       "      <td>True</td>\n",
       "      <td>https://api.openalex.org/works?filter=cites:W2...</td>\n",
       "      <td>2019.0</td>\n",
       "      <td>2022.0</td>\n",
       "      <td>2017.0</td>\n",
       "      <td>2.0</td>\n",
       "    </tr>\n",
       "    <tr>\n",
       "      <th>3302</th>\n",
       "      <td>https://www.zotero.org/groups/intelligence_bib...</td>\n",
       "      <td>10.1080/08850607.2019.1660951</td>\n",
       "      <td>https://openalex.org/W2996219269</td>\n",
       "      <td>5.0</td>\n",
       "      <td>False</td>\n",
       "      <td>https://api.openalex.org/works?filter=cites:W2...</td>\n",
       "      <td>2021.0</td>\n",
       "      <td>2023.0</td>\n",
       "      <td>2019.0</td>\n",
       "      <td>2.0</td>\n",
       "    </tr>\n",
       "    <tr>\n",
       "      <th>3303</th>\n",
       "      <td>https://www.zotero.org/groups/intelligence_bib...</td>\n",
       "      <td>10.1080/08850607.2012.705186</td>\n",
       "      <td>https://openalex.org/W2033999438</td>\n",
       "      <td>26.0</td>\n",
       "      <td>False</td>\n",
       "      <td>https://api.openalex.org/works?filter=cites:W2...</td>\n",
       "      <td>2013.0</td>\n",
       "      <td>2022.0</td>\n",
       "      <td>2013.0</td>\n",
       "      <td>0.0</td>\n",
       "    </tr>\n",
       "    <tr>\n",
       "      <th>3304</th>\n",
       "      <td>https://www.zotero.org/groups/intelligence_bib...</td>\n",
       "      <td>10.1080/08850607.2020.1748993</td>\n",
       "      <td>https://openalex.org/W3022421216</td>\n",
       "      <td>0.0</td>\n",
       "      <td>False</td>\n",
       "      <td>https://api.openalex.org/works?filter=cites:W3...</td>\n",
       "      <td>NaN</td>\n",
       "      <td>NaN</td>\n",
       "      <td>2020.0</td>\n",
       "      <td>NaN</td>\n",
       "    </tr>\n",
       "    <tr>\n",
       "      <th>3305</th>\n",
       "      <td>https://www.zotero.org/groups/intelligence_bib...</td>\n",
       "      <td>10.1080/0268452042000302949</td>\n",
       "      <td>https://openalex.org/W2069639133</td>\n",
       "      <td>40.0</td>\n",
       "      <td>False</td>\n",
       "      <td>https://api.openalex.org/works?filter=cites:W2...</td>\n",
       "      <td>2012.0</td>\n",
       "      <td>2023.0</td>\n",
       "      <td>2004.0</td>\n",
       "      <td>8.0</td>\n",
       "    </tr>\n",
       "  </tbody>\n",
       "</table>\n",
       "<p>3306 rows × 10 columns</p>\n",
       "</div>"
      ],
      "text/plain": [
       "                                            Zotero link  \\\n",
       "0     https://www.zotero.org/groups/intelligence_bib...   \n",
       "1     https://www.zotero.org/groups/intelligence_bib...   \n",
       "2     https://www.zotero.org/groups/intelligence_bib...   \n",
       "3     https://www.zotero.org/groups/intelligence_bib...   \n",
       "4     https://www.zotero.org/groups/intelligence_bib...   \n",
       "...                                                 ...   \n",
       "3301  https://www.zotero.org/groups/intelligence_bib...   \n",
       "3302  https://www.zotero.org/groups/intelligence_bib...   \n",
       "3303  https://www.zotero.org/groups/intelligence_bib...   \n",
       "3304  https://www.zotero.org/groups/intelligence_bib...   \n",
       "3305  https://www.zotero.org/groups/intelligence_bib...   \n",
       "\n",
       "                                DOI                                ID  \\\n",
       "0         10.1017/S0018246X23000432  https://openalex.org/W4386783954   \n",
       "1         10.1017/S0018246X20000278  https://openalex.org/W3047241316   \n",
       "2         10.1017/S0018246X00005094  https://openalex.org/W2046435616   \n",
       "3         10.1017/S0018246X2100008X  https://openalex.org/W3139180790   \n",
       "4         10.1017/S0018246X02002546  https://openalex.org/W2100542764   \n",
       "...                             ...                               ...   \n",
       "3301       10.1177/1755088217712069  https://openalex.org/W2612406272   \n",
       "3302  10.1080/08850607.2019.1660951  https://openalex.org/W2996219269   \n",
       "3303   10.1080/08850607.2012.705186  https://openalex.org/W2033999438   \n",
       "3304  10.1080/08850607.2020.1748993  https://openalex.org/W3022421216   \n",
       "3305    10.1080/0268452042000302949  https://openalex.org/W2069639133   \n",
       "\n",
       "      Citation OA status                                      Citation_list  \\\n",
       "0          0.0      True  https://api.openalex.org/works?filter=cites:W4...   \n",
       "1          0.0     False  https://api.openalex.org/works?filter=cites:W3...   \n",
       "2         10.0     False  https://api.openalex.org/works?filter=cites:W2...   \n",
       "3          0.0      True  https://api.openalex.org/works?filter=cites:W3...   \n",
       "4          2.0     False  https://api.openalex.org/works?filter=cites:W2...   \n",
       "...        ...       ...                                                ...   \n",
       "3301       4.0      True  https://api.openalex.org/works?filter=cites:W2...   \n",
       "3302       5.0     False  https://api.openalex.org/works?filter=cites:W2...   \n",
       "3303      26.0     False  https://api.openalex.org/works?filter=cites:W2...   \n",
       "3304       0.0     False  https://api.openalex.org/works?filter=cites:W3...   \n",
       "3305      40.0     False  https://api.openalex.org/works?filter=cites:W2...   \n",
       "\n",
       "      First_citation_year  Last_citation_year  Publication_year  \\\n",
       "0                     NaN                 NaN            2023.0   \n",
       "1                     NaN                 NaN            2020.0   \n",
       "2                  2012.0              2023.0            1985.0   \n",
       "3                     NaN                 NaN            2021.0   \n",
       "4                  2021.0              2021.0            2002.0   \n",
       "...                   ...                 ...               ...   \n",
       "3301               2019.0              2022.0            2017.0   \n",
       "3302               2021.0              2023.0            2019.0   \n",
       "3303               2013.0              2022.0            2013.0   \n",
       "3304                  NaN                 NaN            2020.0   \n",
       "3305               2012.0              2023.0            2004.0   \n",
       "\n",
       "      Year_difference  \n",
       "0                 NaN  \n",
       "1                 NaN  \n",
       "2                27.0  \n",
       "3                 NaN  \n",
       "4                19.0  \n",
       "...               ...  \n",
       "3301              2.0  \n",
       "3302              2.0  \n",
       "3303              0.0  \n",
       "3304              NaN  \n",
       "3305              8.0  \n",
       "\n",
       "[3306 rows x 10 columns]"
      ]
     },
     "execution_count": 176,
     "metadata": {},
     "output_type": "execute_result"
    }
   ],
   "source": [
    "df_doi_2 = pd.read_csv('citations.csv', usecols=lambda column: column != 'Unnamed: 0')\n",
    "df_doi_2"
   ]
  },
  {
   "cell_type": "code",
   "execution_count": 177,
   "metadata": {},
   "outputs": [],
   "source": [
    "df_1 = pd.read_csv('all_items.csv', usecols=lambda column: column != 'Unnamed: 0')\n",
    "df_doi_1 = pd.read_csv('citations.csv', usecols=lambda column: column != 'Unnamed: 0')\n",
    "df_doi_1 = df_doi_1.drop(columns=['DOI'])\n",
    "df_1 = pd.merge(df_1, df_doi_1, on='Zotero link', how='left')\n",
    "df_1.to_csv('all_items.csv')"
   ]
  },
  {
   "cell_type": "code",
   "execution_count": 178,
   "metadata": {},
   "outputs": [],
   "source": [
    "df_2 = pd.read_csv('all_items_duplicated.csv', usecols=lambda column: column != 'Unnamed: 0')\n",
    "df_doi_2 = pd.read_csv('citations.csv', usecols=lambda column: column != 'Unnamed: 0')\n",
    "df_doi_2 = df_doi_2.drop(columns=['DOI'])\n",
    "df_2 = pd.merge(df_2, df_doi_2, on='Zotero link', how='left')\n",
    "df_2.to_csv('all_items_duplicated.csv')"
   ]
  },
  {
   "cell_type": "code",
   "execution_count": 179,
   "metadata": {},
   "outputs": [
    {
     "data": {
      "text/html": [
       "<div>\n",
       "<style scoped>\n",
       "    .dataframe tbody tr th:only-of-type {\n",
       "        vertical-align: middle;\n",
       "    }\n",
       "\n",
       "    .dataframe tbody tr th {\n",
       "        vertical-align: top;\n",
       "    }\n",
       "\n",
       "    .dataframe thead th {\n",
       "        text-align: right;\n",
       "    }\n",
       "</style>\n",
       "<table border=\"1\" class=\"dataframe\">\n",
       "  <thead>\n",
       "    <tr style=\"text-align: right;\">\n",
       "      <th></th>\n",
       "      <th>Unnamed: 0</th>\n",
       "      <th>Title</th>\n",
       "      <th>Publication type</th>\n",
       "      <th>Link to publication</th>\n",
       "      <th>Abstract</th>\n",
       "      <th>Zotero link</th>\n",
       "      <th>Date published</th>\n",
       "      <th>FirstName2</th>\n",
       "      <th>Publisher</th>\n",
       "      <th>Journal</th>\n",
       "      <th>...</th>\n",
       "      <th>Collection_Name</th>\n",
       "      <th>Collection_Link</th>\n",
       "      <th>ID</th>\n",
       "      <th>Citation</th>\n",
       "      <th>OA status</th>\n",
       "      <th>Citation_list</th>\n",
       "      <th>First_citation_year</th>\n",
       "      <th>Last_citation_year</th>\n",
       "      <th>Publication_year</th>\n",
       "      <th>Year_difference</th>\n",
       "    </tr>\n",
       "  </thead>\n",
       "  <tbody>\n",
       "    <tr>\n",
       "      <th>0</th>\n",
       "      <td>0</td>\n",
       "      <td>Military Intelligence as a Dual Professional I...</td>\n",
       "      <td>Journal article</td>\n",
       "      <td>https://doi.org/10.1080/08850607.2023.2292944</td>\n",
       "      <td>NaN</td>\n",
       "      <td>https://www.zotero.org/groups/intelligence_bib...</td>\n",
       "      <td>2024-01-03</td>\n",
       "      <td>Jack Duffield</td>\n",
       "      <td>NaN</td>\n",
       "      <td>Intl Journal of Intelligence and Counterintell...</td>\n",
       "      <td>...</td>\n",
       "      <td>02.99 Miscellaneous</td>\n",
       "      <td>https://www.zotero.org/groups/intelligence_bib...</td>\n",
       "      <td>NaN</td>\n",
       "      <td>NaN</td>\n",
       "      <td>NaN</td>\n",
       "      <td>NaN</td>\n",
       "      <td>NaN</td>\n",
       "      <td>NaN</td>\n",
       "      <td>NaN</td>\n",
       "      <td>NaN</td>\n",
       "    </tr>\n",
       "    <tr>\n",
       "      <th>1</th>\n",
       "      <td>1</td>\n",
       "      <td>Intelligence and operational warning: lessons ...</td>\n",
       "      <td>Journal article</td>\n",
       "      <td>https://doi.org/10.1080/18335330.2024.2319128</td>\n",
       "      <td>This paper examines the challenges of operatio...</td>\n",
       "      <td>https://www.zotero.org/groups/intelligence_bib...</td>\n",
       "      <td>2024-02-21</td>\n",
       "      <td>Mike Fowler</td>\n",
       "      <td>NaN</td>\n",
       "      <td>Journal of Policing, Intelligence and Counter ...</td>\n",
       "      <td>...</td>\n",
       "      <td>98.1 War in Ukraine</td>\n",
       "      <td>https://www.zotero.org/groups/intelligence_bib...</td>\n",
       "      <td>NaN</td>\n",
       "      <td>NaN</td>\n",
       "      <td>NaN</td>\n",
       "      <td>NaN</td>\n",
       "      <td>NaN</td>\n",
       "      <td>NaN</td>\n",
       "      <td>NaN</td>\n",
       "      <td>NaN</td>\n",
       "    </tr>\n",
       "    <tr>\n",
       "      <th>2</th>\n",
       "      <td>2</td>\n",
       "      <td>British Secret Service Activity in Khorassan, ...</td>\n",
       "      <td>Journal article</td>\n",
       "      <td>https://www.cambridge.org/core/journals/histor...</td>\n",
       "      <td>When great powers quarrel their lesser neighbo...</td>\n",
       "      <td>https://www.zotero.org/groups/intelligence_bib...</td>\n",
       "      <td>1984/09</td>\n",
       "      <td>L. P. Morris</td>\n",
       "      <td>NaN</td>\n",
       "      <td>The Historical Journal</td>\n",
       "      <td>...</td>\n",
       "      <td>01.3 1800-1914</td>\n",
       "      <td>https://www.zotero.org/groups/intelligence_bib...</td>\n",
       "      <td>NaN</td>\n",
       "      <td>NaN</td>\n",
       "      <td>NaN</td>\n",
       "      <td>NaN</td>\n",
       "      <td>NaN</td>\n",
       "      <td>NaN</td>\n",
       "      <td>NaN</td>\n",
       "      <td>NaN</td>\n",
       "    </tr>\n",
       "    <tr>\n",
       "      <th>3</th>\n",
       "      <td>3</td>\n",
       "      <td>WEHRMACHT PERCEPTIONS OF MASS VIOLENCE IN CROA...</td>\n",
       "      <td>Journal article</td>\n",
       "      <td>https://www.cambridge.org/core/journals/histor...</td>\n",
       "      <td>During the Second World War, the Independent S...</td>\n",
       "      <td>https://www.zotero.org/groups/intelligence_bib...</td>\n",
       "      <td>2001/12</td>\n",
       "      <td>Jonathan E. Gumz</td>\n",
       "      <td>NaN</td>\n",
       "      <td>The Historical Journal</td>\n",
       "      <td>...</td>\n",
       "      <td>01.6 WW2 (Second World War)</td>\n",
       "      <td>https://www.zotero.org/groups/intelligence_bib...</td>\n",
       "      <td>NaN</td>\n",
       "      <td>NaN</td>\n",
       "      <td>NaN</td>\n",
       "      <td>NaN</td>\n",
       "      <td>NaN</td>\n",
       "      <td>NaN</td>\n",
       "      <td>NaN</td>\n",
       "      <td>NaN</td>\n",
       "    </tr>\n",
       "    <tr>\n",
       "      <th>4</th>\n",
       "      <td>4</td>\n",
       "      <td>READING THE RUNES? THE UNITED STATES AND THE M...</td>\n",
       "      <td>Journal article</td>\n",
       "      <td>https://www.cambridge.org/core/journals/histor...</td>\n",
       "      <td>The aftermath of Hosni Mubarak's forced abdica...</td>\n",
       "      <td>https://www.zotero.org/groups/intelligence_bib...</td>\n",
       "      <td>2013/09</td>\n",
       "      <td>Martyn Frampton, Ehud Rosen</td>\n",
       "      <td>NaN</td>\n",
       "      <td>The Historical Journal</td>\n",
       "      <td>...</td>\n",
       "      <td>01.8 Post-Cold War</td>\n",
       "      <td>https://www.zotero.org/groups/intelligence_bib...</td>\n",
       "      <td>NaN</td>\n",
       "      <td>NaN</td>\n",
       "      <td>NaN</td>\n",
       "      <td>NaN</td>\n",
       "      <td>NaN</td>\n",
       "      <td>NaN</td>\n",
       "      <td>NaN</td>\n",
       "      <td>NaN</td>\n",
       "    </tr>\n",
       "    <tr>\n",
       "      <th>...</th>\n",
       "      <td>...</td>\n",
       "      <td>...</td>\n",
       "      <td>...</td>\n",
       "      <td>...</td>\n",
       "      <td>...</td>\n",
       "      <td>...</td>\n",
       "      <td>...</td>\n",
       "      <td>...</td>\n",
       "      <td>...</td>\n",
       "      <td>...</td>\n",
       "      <td>...</td>\n",
       "      <td>...</td>\n",
       "      <td>...</td>\n",
       "      <td>...</td>\n",
       "      <td>...</td>\n",
       "      <td>...</td>\n",
       "      <td>...</td>\n",
       "      <td>...</td>\n",
       "      <td>...</td>\n",
       "      <td>...</td>\n",
       "      <td>...</td>\n",
       "    </tr>\n",
       "    <tr>\n",
       "      <th>9130</th>\n",
       "      <td>9130</td>\n",
       "      <td>Intelligence and Government in Britain and the...</td>\n",
       "      <td>Book</td>\n",
       "      <td>NaN</td>\n",
       "      <td>NaN</td>\n",
       "      <td>https://www.zotero.org/groups/intelligence_bib...</td>\n",
       "      <td>2012</td>\n",
       "      <td>Philip H.J. Davies</td>\n",
       "      <td>Praeger</td>\n",
       "      <td>NaN</td>\n",
       "      <td>...</td>\n",
       "      <td>06 Accountability, oversight, and ethics</td>\n",
       "      <td>https://www.zotero.org/groups/intelligence_bib...</td>\n",
       "      <td>NaN</td>\n",
       "      <td>NaN</td>\n",
       "      <td>NaN</td>\n",
       "      <td>NaN</td>\n",
       "      <td>NaN</td>\n",
       "      <td>NaN</td>\n",
       "      <td>NaN</td>\n",
       "      <td>NaN</td>\n",
       "    </tr>\n",
       "    <tr>\n",
       "      <th>9131</th>\n",
       "      <td>9131</td>\n",
       "      <td>Silent Warfare: Understanding the World of Int...</td>\n",
       "      <td>Book</td>\n",
       "      <td>NaN</td>\n",
       "      <td>NaN</td>\n",
       "      <td>https://www.zotero.org/groups/intelligence_bib...</td>\n",
       "      <td>2002</td>\n",
       "      <td>Abram N. Shulsky, Gary Schmitt</td>\n",
       "      <td>Potomac Books</td>\n",
       "      <td>NaN</td>\n",
       "      <td>...</td>\n",
       "      <td>02 Intelligence studies</td>\n",
       "      <td>https://www.zotero.org/groups/intelligence_bib...</td>\n",
       "      <td>NaN</td>\n",
       "      <td>NaN</td>\n",
       "      <td>NaN</td>\n",
       "      <td>NaN</td>\n",
       "      <td>NaN</td>\n",
       "      <td>NaN</td>\n",
       "      <td>NaN</td>\n",
       "      <td>NaN</td>\n",
       "    </tr>\n",
       "    <tr>\n",
       "      <th>9132</th>\n",
       "      <td>9132</td>\n",
       "      <td>Silent Warfare: Understanding the World of Int...</td>\n",
       "      <td>Book</td>\n",
       "      <td>NaN</td>\n",
       "      <td>NaN</td>\n",
       "      <td>https://www.zotero.org/groups/intelligence_bib...</td>\n",
       "      <td>2002</td>\n",
       "      <td>Abram N. Shulsky, Gary Schmitt</td>\n",
       "      <td>Potomac Books</td>\n",
       "      <td>NaN</td>\n",
       "      <td>...</td>\n",
       "      <td>06 Accountability, oversight, and ethics</td>\n",
       "      <td>https://www.zotero.org/groups/intelligence_bib...</td>\n",
       "      <td>NaN</td>\n",
       "      <td>NaN</td>\n",
       "      <td>NaN</td>\n",
       "      <td>NaN</td>\n",
       "      <td>NaN</td>\n",
       "      <td>NaN</td>\n",
       "      <td>NaN</td>\n",
       "      <td>NaN</td>\n",
       "    </tr>\n",
       "    <tr>\n",
       "      <th>9133</th>\n",
       "      <td>9133</td>\n",
       "      <td>Intelligence and Government in Britain and the...</td>\n",
       "      <td>Book</td>\n",
       "      <td>NaN</td>\n",
       "      <td>NaN</td>\n",
       "      <td>https://www.zotero.org/groups/intelligence_bib...</td>\n",
       "      <td>2012</td>\n",
       "      <td>Philip H.J. Davies</td>\n",
       "      <td>Praeger</td>\n",
       "      <td>NaN</td>\n",
       "      <td>...</td>\n",
       "      <td>02 Intelligence studies</td>\n",
       "      <td>https://www.zotero.org/groups/intelligence_bib...</td>\n",
       "      <td>NaN</td>\n",
       "      <td>NaN</td>\n",
       "      <td>NaN</td>\n",
       "      <td>NaN</td>\n",
       "      <td>NaN</td>\n",
       "      <td>NaN</td>\n",
       "      <td>NaN</td>\n",
       "      <td>NaN</td>\n",
       "    </tr>\n",
       "    <tr>\n",
       "      <th>9134</th>\n",
       "      <td>9134</td>\n",
       "      <td>Intelligence and Government in Britain and the...</td>\n",
       "      <td>Book</td>\n",
       "      <td>NaN</td>\n",
       "      <td>NaN</td>\n",
       "      <td>https://www.zotero.org/groups/intelligence_bib...</td>\n",
       "      <td>2012</td>\n",
       "      <td>Philip H.J. Davies</td>\n",
       "      <td>Praeger</td>\n",
       "      <td>NaN</td>\n",
       "      <td>...</td>\n",
       "      <td>06 Accountability, oversight, and ethics</td>\n",
       "      <td>https://www.zotero.org/groups/intelligence_bib...</td>\n",
       "      <td>NaN</td>\n",
       "      <td>NaN</td>\n",
       "      <td>NaN</td>\n",
       "      <td>NaN</td>\n",
       "      <td>NaN</td>\n",
       "      <td>NaN</td>\n",
       "      <td>NaN</td>\n",
       "      <td>NaN</td>\n",
       "    </tr>\n",
       "  </tbody>\n",
       "</table>\n",
       "<p>9135 rows × 24 columns</p>\n",
       "</div>"
      ],
      "text/plain": [
       "      Unnamed: 0                                              Title  \\\n",
       "0              0  Military Intelligence as a Dual Professional I...   \n",
       "1              1  Intelligence and operational warning: lessons ...   \n",
       "2              2  British Secret Service Activity in Khorassan, ...   \n",
       "3              3  WEHRMACHT PERCEPTIONS OF MASS VIOLENCE IN CROA...   \n",
       "4              4  READING THE RUNES? THE UNITED STATES AND THE M...   \n",
       "...          ...                                                ...   \n",
       "9130        9130  Intelligence and Government in Britain and the...   \n",
       "9131        9131  Silent Warfare: Understanding the World of Int...   \n",
       "9132        9132  Silent Warfare: Understanding the World of Int...   \n",
       "9133        9133  Intelligence and Government in Britain and the...   \n",
       "9134        9134  Intelligence and Government in Britain and the...   \n",
       "\n",
       "     Publication type                                Link to publication  \\\n",
       "0     Journal article      https://doi.org/10.1080/08850607.2023.2292944   \n",
       "1     Journal article      https://doi.org/10.1080/18335330.2024.2319128   \n",
       "2     Journal article  https://www.cambridge.org/core/journals/histor...   \n",
       "3     Journal article  https://www.cambridge.org/core/journals/histor...   \n",
       "4     Journal article  https://www.cambridge.org/core/journals/histor...   \n",
       "...               ...                                                ...   \n",
       "9130             Book                                                NaN   \n",
       "9131             Book                                                NaN   \n",
       "9132             Book                                                NaN   \n",
       "9133             Book                                                NaN   \n",
       "9134             Book                                                NaN   \n",
       "\n",
       "                                               Abstract  \\\n",
       "0                                                   NaN   \n",
       "1     This paper examines the challenges of operatio...   \n",
       "2     When great powers quarrel their lesser neighbo...   \n",
       "3     During the Second World War, the Independent S...   \n",
       "4     The aftermath of Hosni Mubarak's forced abdica...   \n",
       "...                                                 ...   \n",
       "9130                                                NaN   \n",
       "9131                                                NaN   \n",
       "9132                                                NaN   \n",
       "9133                                                NaN   \n",
       "9134                                                NaN   \n",
       "\n",
       "                                            Zotero link Date published  \\\n",
       "0     https://www.zotero.org/groups/intelligence_bib...     2024-01-03   \n",
       "1     https://www.zotero.org/groups/intelligence_bib...     2024-02-21   \n",
       "2     https://www.zotero.org/groups/intelligence_bib...        1984/09   \n",
       "3     https://www.zotero.org/groups/intelligence_bib...        2001/12   \n",
       "4     https://www.zotero.org/groups/intelligence_bib...        2013/09   \n",
       "...                                                 ...            ...   \n",
       "9130  https://www.zotero.org/groups/intelligence_bib...           2012   \n",
       "9131  https://www.zotero.org/groups/intelligence_bib...           2002   \n",
       "9132  https://www.zotero.org/groups/intelligence_bib...           2002   \n",
       "9133  https://www.zotero.org/groups/intelligence_bib...           2012   \n",
       "9134  https://www.zotero.org/groups/intelligence_bib...           2012   \n",
       "\n",
       "                          FirstName2      Publisher  \\\n",
       "0                      Jack Duffield            NaN   \n",
       "1                        Mike Fowler            NaN   \n",
       "2                       L. P. Morris            NaN   \n",
       "3                   Jonathan E. Gumz            NaN   \n",
       "4        Martyn Frampton, Ehud Rosen            NaN   \n",
       "...                              ...            ...   \n",
       "9130              Philip H.J. Davies        Praeger   \n",
       "9131  Abram N. Shulsky, Gary Schmitt  Potomac Books   \n",
       "9132  Abram N. Shulsky, Gary Schmitt  Potomac Books   \n",
       "9133              Philip H.J. Davies        Praeger   \n",
       "9134              Philip H.J. Davies        Praeger   \n",
       "\n",
       "                                                Journal  ...  \\\n",
       "0     Intl Journal of Intelligence and Counterintell...  ...   \n",
       "1     Journal of Policing, Intelligence and Counter ...  ...   \n",
       "2                                The Historical Journal  ...   \n",
       "3                                The Historical Journal  ...   \n",
       "4                                The Historical Journal  ...   \n",
       "...                                                 ...  ...   \n",
       "9130                                                NaN  ...   \n",
       "9131                                                NaN  ...   \n",
       "9132                                                NaN  ...   \n",
       "9133                                                NaN  ...   \n",
       "9134                                                NaN  ...   \n",
       "\n",
       "                               Collection_Name  \\\n",
       "0                          02.99 Miscellaneous   \n",
       "1                          98.1 War in Ukraine   \n",
       "2                               01.3 1800-1914   \n",
       "3                  01.6 WW2 (Second World War)   \n",
       "4                           01.8 Post-Cold War   \n",
       "...                                        ...   \n",
       "9130  06 Accountability, oversight, and ethics   \n",
       "9131                   02 Intelligence studies   \n",
       "9132  06 Accountability, oversight, and ethics   \n",
       "9133                   02 Intelligence studies   \n",
       "9134  06 Accountability, oversight, and ethics   \n",
       "\n",
       "                                        Collection_Link   ID Citation  \\\n",
       "0     https://www.zotero.org/groups/intelligence_bib...  NaN      NaN   \n",
       "1     https://www.zotero.org/groups/intelligence_bib...  NaN      NaN   \n",
       "2     https://www.zotero.org/groups/intelligence_bib...  NaN      NaN   \n",
       "3     https://www.zotero.org/groups/intelligence_bib...  NaN      NaN   \n",
       "4     https://www.zotero.org/groups/intelligence_bib...  NaN      NaN   \n",
       "...                                                 ...  ...      ...   \n",
       "9130  https://www.zotero.org/groups/intelligence_bib...  NaN      NaN   \n",
       "9131  https://www.zotero.org/groups/intelligence_bib...  NaN      NaN   \n",
       "9132  https://www.zotero.org/groups/intelligence_bib...  NaN      NaN   \n",
       "9133  https://www.zotero.org/groups/intelligence_bib...  NaN      NaN   \n",
       "9134  https://www.zotero.org/groups/intelligence_bib...  NaN      NaN   \n",
       "\n",
       "     OA status Citation_list First_citation_year  Last_citation_year  \\\n",
       "0          NaN           NaN                 NaN                 NaN   \n",
       "1          NaN           NaN                 NaN                 NaN   \n",
       "2          NaN           NaN                 NaN                 NaN   \n",
       "3          NaN           NaN                 NaN                 NaN   \n",
       "4          NaN           NaN                 NaN                 NaN   \n",
       "...        ...           ...                 ...                 ...   \n",
       "9130       NaN           NaN                 NaN                 NaN   \n",
       "9131       NaN           NaN                 NaN                 NaN   \n",
       "9132       NaN           NaN                 NaN                 NaN   \n",
       "9133       NaN           NaN                 NaN                 NaN   \n",
       "9134       NaN           NaN                 NaN                 NaN   \n",
       "\n",
       "     Publication_year Year_difference  \n",
       "0                 NaN             NaN  \n",
       "1                 NaN             NaN  \n",
       "2                 NaN             NaN  \n",
       "3                 NaN             NaN  \n",
       "4                 NaN             NaN  \n",
       "...               ...             ...  \n",
       "9130              NaN             NaN  \n",
       "9131              NaN             NaN  \n",
       "9132              NaN             NaN  \n",
       "9133              NaN             NaN  \n",
       "9134              NaN             NaN  \n",
       "\n",
       "[9135 rows x 24 columns]"
      ]
     },
     "execution_count": 179,
     "metadata": {},
     "output_type": "execute_result"
    }
   ],
   "source": [
    "df_2 = pd.read_csv('all_items_duplicated.csv')\n",
    "df_2"
   ]
  },
  {
   "cell_type": "code",
   "execution_count": 180,
   "metadata": {},
   "outputs": [
    {
     "data": {
      "text/html": [
       "<div>\n",
       "<style scoped>\n",
       "    .dataframe tbody tr th:only-of-type {\n",
       "        vertical-align: middle;\n",
       "    }\n",
       "\n",
       "    .dataframe tbody tr th {\n",
       "        vertical-align: top;\n",
       "    }\n",
       "\n",
       "    .dataframe thead th {\n",
       "        text-align: right;\n",
       "    }\n",
       "</style>\n",
       "<table border=\"1\" class=\"dataframe\">\n",
       "  <thead>\n",
       "    <tr style=\"text-align: right;\">\n",
       "      <th></th>\n",
       "      <th>Unnamed: 0</th>\n",
       "      <th>Title</th>\n",
       "      <th>Publication type</th>\n",
       "      <th>Link to publication</th>\n",
       "      <th>Abstract</th>\n",
       "      <th>Zotero link</th>\n",
       "      <th>Date published</th>\n",
       "      <th>FirstName2</th>\n",
       "      <th>Publisher</th>\n",
       "      <th>Journal</th>\n",
       "      <th>...</th>\n",
       "      <th>Collection_Name</th>\n",
       "      <th>Collection_Link</th>\n",
       "      <th>ID</th>\n",
       "      <th>Citation</th>\n",
       "      <th>OA status</th>\n",
       "      <th>Citation_list</th>\n",
       "      <th>First_citation_year</th>\n",
       "      <th>Last_citation_year</th>\n",
       "      <th>Publication_year</th>\n",
       "      <th>Year_difference</th>\n",
       "    </tr>\n",
       "  </thead>\n",
       "  <tbody>\n",
       "    <tr>\n",
       "      <th>9116</th>\n",
       "      <td>9116</td>\n",
       "      <td>Diplomatic Spying: How Useful Is It?</td>\n",
       "      <td>Journal article</td>\n",
       "      <td>https://doi.org/10.1080/08850607.2020.1748993</td>\n",
       "      <td>NaN</td>\n",
       "      <td>https://www.zotero.org/groups/intelligence_bib...</td>\n",
       "      <td>April 30, 2020</td>\n",
       "      <td>John A. Gentry</td>\n",
       "      <td>NaN</td>\n",
       "      <td>Intl Journal of Intelligence and Counterintell...</td>\n",
       "      <td>...</td>\n",
       "      <td>02 Intelligence studies</td>\n",
       "      <td>https://www.zotero.org/groups/intelligence_bib...</td>\n",
       "      <td>https://openalex.org/W3022421216</td>\n",
       "      <td>0.0</td>\n",
       "      <td>False</td>\n",
       "      <td>https://api.openalex.org/works?filter=cites:W3...</td>\n",
       "      <td>NaN</td>\n",
       "      <td>NaN</td>\n",
       "      <td>2020.0</td>\n",
       "      <td>NaN</td>\n",
       "    </tr>\n",
       "  </tbody>\n",
       "</table>\n",
       "<p>1 rows × 24 columns</p>\n",
       "</div>"
      ],
      "text/plain": [
       "      Unnamed: 0                                 Title Publication type  \\\n",
       "9116        9116  Diplomatic Spying: How Useful Is It?  Journal article   \n",
       "\n",
       "                                Link to publication Abstract  \\\n",
       "9116  https://doi.org/10.1080/08850607.2020.1748993      NaN   \n",
       "\n",
       "                                            Zotero link  Date published  \\\n",
       "9116  https://www.zotero.org/groups/intelligence_bib...  April 30, 2020   \n",
       "\n",
       "          FirstName2 Publisher  \\\n",
       "9116  John A. Gentry       NaN   \n",
       "\n",
       "                                                Journal  ...  \\\n",
       "9116  Intl Journal of Intelligence and Counterintell...  ...   \n",
       "\n",
       "              Collection_Name  \\\n",
       "9116  02 Intelligence studies   \n",
       "\n",
       "                                        Collection_Link  \\\n",
       "9116  https://www.zotero.org/groups/intelligence_bib...   \n",
       "\n",
       "                                    ID Citation OA status  \\\n",
       "9116  https://openalex.org/W3022421216      0.0     False   \n",
       "\n",
       "                                          Citation_list First_citation_year  \\\n",
       "9116  https://api.openalex.org/works?filter=cites:W3...                 NaN   \n",
       "\n",
       "      Last_citation_year Publication_year Year_difference  \n",
       "9116                 NaN           2020.0             NaN  \n",
       "\n",
       "[1 rows x 24 columns]"
      ]
     },
     "execution_count": 180,
     "metadata": {},
     "output_type": "execute_result"
    }
   ],
   "source": [
    "ttt = df_2[df_2['DOI']=='10.1080/08850607.2020.1748993']\n",
    "ttt"
   ]
  }
 ],
 "metadata": {
  "kernelspec": {
   "display_name": "Python 3.10.6 64-bit",
   "language": "python",
   "name": "python3"
  },
  "language_info": {
   "codemirror_mode": {
    "name": "ipython",
    "version": 3
   },
   "file_extension": ".py",
   "mimetype": "text/x-python",
   "name": "python",
   "nbconvert_exporter": "python",
   "pygments_lexer": "ipython3",
   "version": "3.10.6"
  },
  "vscode": {
   "interpreter": {
    "hash": "ad80e88e3d0f45253c4e09d27534efe22e9bb02b1c82d05b21d80e484bb90b14"
   }
  }
 },
 "nbformat": 4,
 "nbformat_minor": 2
}
