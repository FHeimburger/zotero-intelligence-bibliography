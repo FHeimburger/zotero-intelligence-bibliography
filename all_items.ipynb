{
 "cells": [
  {
   "attachments": {},
   "cell_type": "markdown",
   "metadata": {},
   "source": [
    "# Importing libraries"
   ]
  },
  {
   "cell_type": "code",
   "execution_count": 130,
   "metadata": {},
   "outputs": [],
   "source": [
    "from pyzotero import zotero\n",
    "import os\n",
    "import tweepy as tw\n",
    "import pandas as pd\n",
    "import datetime\n",
    "import json, sys\n",
    "from datetime import date, timedelta  \n",
    "import datetime\n",
    "import plotly.express as px\n",
    "import pycountry\n",
    "import re\n",
    "import pandas as pd\n",
    "import requests\n",
    "import time\n",
    "from datetime import datetime, timedelta"
   ]
  },
  {
   "cell_type": "code",
   "execution_count": 131,
   "metadata": {},
   "outputs": [
    {
     "data": {
      "text/plain": [
       "2"
      ]
     },
     "execution_count": 131,
     "metadata": {},
     "output_type": "execute_result"
    }
   ],
   "source": [
    "\"# All items in the Zotero Intelligence bibliography library\".index(\"All\")"
   ]
  },
  {
   "cell_type": "code",
   "execution_count": 132,
   "metadata": {},
   "outputs": [],
   "source": [
    "library_id = '2514686'\n",
    "library_type = 'group'\n",
    "api_key = '' # api_key is only needed for private groups and libraries\n",
    "zot = zotero.Zotero(library_id, library_type)\n"
   ]
  },
  {
   "attachments": {},
   "cell_type": "markdown",
   "metadata": {},
   "source": [
    "# All items in the Zotero Intelligence bibliography library"
   ]
  },
  {
   "cell_type": "code",
   "execution_count": 133,
   "metadata": {},
   "outputs": [],
   "source": [
    "items = zot.everything(zot.top())\n",
    "\n",
    "data3=[]\n",
    "columns3=['Title','Publication type', 'Link to publication', 'Abstract', 'Zotero link', 'Date published', 'FirstName2', 'Publisher', 'Journal', 'Date added', 'Col key', 'DOI', 'Book_title', 'Thesis_type', 'University']\n",
    "\n",
    "for item in items:\n",
    "    # Extracting various types of creators\n",
    "    authors = \"\"\n",
    "    if 'creators' in item['data']:\n",
    "        authors_info = item['data']['creators']\n",
    "        author_names = []\n",
    "        for author in authors_info:\n",
    "            creator_type = author.get('creatorType')\n",
    "            valid_types = ['author', 'contributor', 'editor', 'guest', 'podcaster', 'presenter', 'translator', 'programmer']\n",
    "            \n",
    "            if item['data']['itemType'] == 'bookSection' and creator_type == 'editor':\n",
    "                continue  # Skip adding 'editor' for Book chapters\n",
    "            \n",
    "            if creator_type in valid_types:\n",
    "                if 'firstName' in author and 'lastName' in author:\n",
    "                    author_names.append(author['firstName'] + ' ' + author['lastName'])\n",
    "                elif 'name' in author:\n",
    "                    author_names.append(author['name'])\n",
    "                \n",
    "        authors = ', '.join(author_names)\n",
    "        \n",
    "    data3.append((\n",
    "        item['data']['title'], \n",
    "        item['data']['itemType'], \n",
    "        item['data']['url'], \n",
    "        item['data']['abstractNote'], \n",
    "        item['links']['alternate']['href'],\n",
    "        item['data'].get('date'),\n",
    "        authors,  # Add the concatenated authors string\n",
    "        item['data'].get('publisher'),\n",
    "        item['data'].get('publicationTitle'),\n",
    "        item['data']['dateAdded'],\n",
    "        item['data']['collections'],\n",
    "        item['data'].get('DOI'),\n",
    "        item['data'].get('bookTitle'),\n",
    "        item['data'].get('thesisType', ''),\n",
    "        item['data'].get('university', '')\n",
    "        ))\n",
    "# pd.set_option('display.max_colwidth', None)\n",
    "\n",
    "df = pd.DataFrame(data3, columns=columns3)\n",
    "\n",
    "mapping_types = {\n",
    "    'thesis': 'Thesis',\n",
    "    'journalArticle': 'Journal article',\n",
    "    'book': 'Book',\n",
    "    'bookSection': 'Book chapter',\n",
    "    'blogPost': 'Blog post',\n",
    "    'videoRecording': 'Video',\n",
    "    'podcast': 'Podcast',\n",
    "    'magazineArticle': 'Magazine article',\n",
    "    'webpage': 'Webpage',\n",
    "    'newspaperArticle': 'Newspaper article',\n",
    "    'report': 'Report',\n",
    "    'forumPost': 'Forum post',\n",
    "    'manuscript': 'Manuscript',\n",
    "    'document': 'Document',\n",
    "    'conferencePaper': 'Conference paper',\n",
    "    'film': 'Film',\n",
    "    'presentation': 'Presentation',\n",
    "    'audioRecording':'Podcast',\n",
    "    'preprint':'Preprint',\n",
    "    'hearing':'Hearing',\n",
    "    'computerProgram':'Computer program'\n",
    "}\n",
    "df['Publication type'] = df['Publication type'].replace(mapping_types)\n",
    "\n",
    "mapping_publisher = {\n",
    "    'Taylor & Francis Group': 'Taylor and Francis',\n",
    "    'Taylor and Francis': 'Taylor and Francis',\n",
    "    'Taylor & Francis': 'Taylor and Francis',\n",
    "    'Routledge': 'Routledge',\n",
    "    'Routledge Handbooks Online': 'Routledge',\n",
    "    'Praeger Security International': 'Praeger',\n",
    "    'Praeger': 'Praeger'\n",
    "}\n",
    "df['Publisher'] = df['Publisher'].replace(mapping_publisher)\n",
    "\n",
    "# df['Publisher'] = df['Publisher'].replace(['Taylor & Francis Group', 'Taylor and Francis', 'Taylor & Francis'], 'Taylor and Francis')\n",
    "# df['Publisher'] = df['Publisher'].replace(['Routledge', 'Routledge Handbooks Online'], 'Routledge')\n",
    "# df['Publisher'] = df['Publisher'].replace(['Praeger Security International', 'Praeger'], 'Praeger')\n",
    "\n",
    "mapping_journal = {\n",
    "    'International Journal of Intelligence and Counterintelligence': 'Intl Journal of Intelligence and Counterintelligence',\n",
    "    'International Journal of Intelligence and CounterIntelligence': 'Intl Journal of Intelligence and Counterintelligence',\n",
    "    'International Journal of Intelligence and Counter Intelligence': 'Intl Journal of Intelligence and Counterintelligence',\n",
    "    'Intelligence and national security': 'Intelligence and National Security',\n",
    "    'Intelligence and National Security': 'Intelligence and National Security',\n",
    "    'Intelligence & National Security': 'Intelligence and National Security'\n",
    "}\n",
    "\n",
    "df['Journal'] = df['Journal'].replace(mapping_journal)\n",
    "\n",
    "mapping_thesis_type ={\n",
    "    \"MA Thesis\": \"Master's Thesis\",\n",
    "    \"PhD Thesis\": \"PhD Thesis\",\n",
    "    \"Master Thesis\": \"Master's Thesis\",\n",
    "    \"Thesis\": \"Master's Thesis\",  # Assuming 'Thesis' refers to Master's Thesis here, adjust if necessary\n",
    "    \"Ph.D.\": \"PhD Thesis\",\n",
    "    \"Master's Dissertation\": \"Master's Thesis\",\n",
    "    \"Undergraduate Theses\": \"Undergraduate Thesis\",\n",
    "    \"MPhil\": \"MPhil Thesis\",\n",
    "    \"A.L.M.\": \"Master's Thesis\",  # Assuming A.L.M. (Master of Liberal Arts) maps to Master's Thesis\n",
    "    \"doctoralThesis\": \"PhD Thesis\",\n",
    "    \"PhD\": \"PhD Thesis\",\n",
    "    \"Masters\": \"Master's Thesis\",\n",
    "    \"PhD thesis\": \"PhD Thesis\",\n",
    "    \"phd\": \"PhD Thesis\",\n",
    "    \"doctoral\": \"PhD Thesis\",\n",
    "    \"Doctoral\": \"PhD Thesis\",\n",
    "    \"Master of Arts Dissertation\": \"Master's Thesis\"\n",
    "}\n",
    "df['Thesis_type'] = df['Thesis_type'].replace(mapping_thesis_type)\n",
    "# df['Journal'] = df['Journal'].replace(['International Journal of Intelligence and Counterintelligence', 'International Journal of Intelligence and CounterIntelligence'], 'Intl Journal of Intelligence and Counterintelligence')\n",
    "# df['Journal'] = df['Journal'].replace(['Intelligence and national security', 'Intelligence and National Security', 'Intelligence & National Security'], 'Intelligence and National Security')"
   ]
  },
  {
   "cell_type": "code",
   "execution_count": 134,
   "metadata": {},
   "outputs": [
    {
     "data": {
      "text/html": [
       "<div>\n",
       "<style scoped>\n",
       "    .dataframe tbody tr th:only-of-type {\n",
       "        vertical-align: middle;\n",
       "    }\n",
       "\n",
       "    .dataframe tbody tr th {\n",
       "        vertical-align: top;\n",
       "    }\n",
       "\n",
       "    .dataframe thead th {\n",
       "        text-align: right;\n",
       "    }\n",
       "</style>\n",
       "<table border=\"1\" class=\"dataframe\">\n",
       "  <thead>\n",
       "    <tr style=\"text-align: right;\">\n",
       "      <th></th>\n",
       "      <th>Title</th>\n",
       "      <th>Publication type</th>\n",
       "      <th>Link to publication</th>\n",
       "      <th>Abstract</th>\n",
       "      <th>Zotero link</th>\n",
       "      <th>Date published</th>\n",
       "      <th>FirstName2</th>\n",
       "      <th>Publisher</th>\n",
       "      <th>Journal</th>\n",
       "      <th>Date added</th>\n",
       "      <th>Col key</th>\n",
       "      <th>DOI</th>\n",
       "      <th>Book_title</th>\n",
       "      <th>Thesis_type</th>\n",
       "      <th>University</th>\n",
       "    </tr>\n",
       "  </thead>\n",
       "  <tbody>\n",
       "    <tr>\n",
       "      <th>1108</th>\n",
       "      <td>Intelligence Practice and Democratic Oversight</td>\n",
       "      <td>Report</td>\n",
       "      <td>https://www.dcaf.ch/intelligence-practice-and-...</td>\n",
       "      <td></td>\n",
       "      <td>https://www.zotero.org/groups/intelligence_bib...</td>\n",
       "      <td>2003-07-01</td>\n",
       "      <td>Geneva Centre for Security Sector Governance</td>\n",
       "      <td>None</td>\n",
       "      <td>None</td>\n",
       "      <td>2024-02-19T11:03:09Z</td>\n",
       "      <td>[DVEM4H4W]</td>\n",
       "      <td>None</td>\n",
       "      <td>None</td>\n",
       "      <td></td>\n",
       "      <td></td>\n",
       "    </tr>\n",
       "  </tbody>\n",
       "</table>\n",
       "</div>"
      ],
      "text/plain": [
       "                                               Title Publication type  \\\n",
       "1108  Intelligence Practice and Democratic Oversight           Report   \n",
       "\n",
       "                                    Link to publication Abstract  \\\n",
       "1108  https://www.dcaf.ch/intelligence-practice-and-...            \n",
       "\n",
       "                                            Zotero link Date published  \\\n",
       "1108  https://www.zotero.org/groups/intelligence_bib...     2003-07-01   \n",
       "\n",
       "                                        FirstName2 Publisher Journal  \\\n",
       "1108  Geneva Centre for Security Sector Governance      None    None   \n",
       "\n",
       "                Date added     Col key   DOI Book_title Thesis_type University  \n",
       "1108  2024-02-19T11:03:09Z  [DVEM4H4W]  None       None                         "
      ]
     },
     "execution_count": 134,
     "metadata": {},
     "output_type": "execute_result"
    }
   ],
   "source": [
    "df_test = df[df['Title']=='Intelligence Practice and Democratic Oversight']\n",
    "df_test"
   ]
  },
  {
   "cell_type": "code",
   "execution_count": 135,
   "metadata": {},
   "outputs": [],
   "source": [
    "# items = zot.everything(zot.top())\n",
    "\n",
    "# data3=[]\n",
    "# columns3=['Title','Publication type', 'Link to publication', 'Abstract', 'Zotero link', 'Date published', 'FirstName2', 'Publisher', 'Journal', 'Date added', 'Col key']\n",
    "\n",
    "# for item in items:\n",
    "#     # Extracting various types of creators\n",
    "#     authors = \"\"\n",
    "#     if 'creators' in item['data']:\n",
    "#         authors_info = item['data']['creators']\n",
    "#         author_names = []\n",
    "#         for author in authors_info:\n",
    "#             creator_type = author.get('creatorType')\n",
    "#             valid_types = ['author', 'contributor', 'editor', 'guest', 'podcaster']\n",
    "#             if creator_type in valid_types:  # Include all identified creator types\n",
    "#                 if 'firstName' in author and 'lastName' in author:\n",
    "#                     author_names.append(author['firstName'] + ' ' + author['lastName'])\n",
    "#                 elif 'name' in author:\n",
    "#                     author_names.append(author['name'])  # Handling cases where 'firstName' and 'lastName' are absent\n",
    "                \n",
    "#         authors = ', '.join(author_names)\n",
    "        \n",
    "#     data3.append((\n",
    "#         item['data']['title'], \n",
    "#         item['data']['itemType'], \n",
    "#         item['data']['url'], \n",
    "#         item['data']['abstractNote'], \n",
    "#         item['links']['alternate']['href'],\n",
    "#         item['data'].get('date'),\n",
    "#         authors,  # Add the concatenated authors string\n",
    "#         item['data'].get('publisher'),\n",
    "#         item['data'].get('publicationTitle'),\n",
    "#         item['data']['dateAdded'],\n",
    "#         item['data']['collections']\n",
    "#         )) \n",
    "# # pd.set_option('display.max_colwidth', None)\n",
    "\n",
    "# df = pd.DataFrame(data3, columns=columns3)\n",
    "\n",
    "# mapping_types = {\n",
    "#     'thesis': 'Thesis',\n",
    "#     'journalArticle': 'Journal article',\n",
    "#     'book': 'Book',\n",
    "#     'bookSection': 'Book chapter',\n",
    "#     'blogPost': 'Blog post',\n",
    "#     'videoRecording': 'Video',\n",
    "#     'podcast': 'Podcast',\n",
    "#     'magazineArticle': 'Magazine article',\n",
    "#     'webpage': 'Webpage',\n",
    "#     'newspaperArticle': 'Newspaper article',\n",
    "#     'report': 'Report',\n",
    "#     'forumPost': 'Forum post',\n",
    "#     'manuscript': 'Manuscript',\n",
    "#     'document': 'Document',\n",
    "#     'conferencePaper': 'Conference paper',\n",
    "#     'film': 'Film',\n",
    "#     'presentation': 'Presentation',\n",
    "#     'audioRecording':'Podcast'\n",
    "# }\n",
    "# df['Publication type'] = df['Publication type'].replace(mapping_types)\n",
    "\n",
    "# mapping_publisher = {\n",
    "#     'Taylor & Francis Group': 'Taylor and Francis',\n",
    "#     'Taylor and Francis': 'Taylor and Francis',\n",
    "#     'Taylor & Francis': 'Taylor and Francis',\n",
    "#     'Routledge': 'Routledge',\n",
    "#     'Routledge Handbooks Online': 'Routledge',\n",
    "#     'Praeger Security International': 'Praeger',\n",
    "#     'Praeger': 'Praeger'\n",
    "# }\n",
    "# df['Publisher'] = df['Publisher'].replace(mapping_publisher)\n",
    "\n",
    "# # df['Publisher'] = df['Publisher'].replace(['Taylor & Francis Group', 'Taylor and Francis', 'Taylor & Francis'], 'Taylor and Francis')\n",
    "# # df['Publisher'] = df['Publisher'].replace(['Routledge', 'Routledge Handbooks Online'], 'Routledge')\n",
    "# # df['Publisher'] = df['Publisher'].replace(['Praeger Security International', 'Praeger'], 'Praeger')\n",
    "\n",
    "# mapping_journal = {\n",
    "#     'International Journal of Intelligence and Counterintelligence': 'Intl Journal of Intelligence and Counterintelligence',\n",
    "#     'International Journal of Intelligence and CounterIntelligence': 'Intl Journal of Intelligence and Counterintelligence',\n",
    "#     'Intelligence and national security': 'Intelligence and National Security',\n",
    "#     'Intelligence and National Security': 'Intelligence and National Security',\n",
    "#     'Intelligence & National Security': 'Intelligence and National Security'\n",
    "# }\n",
    "\n",
    "# df['Journal'] = df['Journal'].replace(mapping_journal)\n",
    "\n",
    "# # df['Journal'] = df['Journal'].replace(['International Journal of Intelligence and Counterintelligence', 'International Journal of Intelligence and CounterIntelligence'], 'Intl Journal of Intelligence and Counterintelligence')\n",
    "# # df['Journal'] = df['Journal'].replace(['Intelligence and national security', 'Intelligence and National Security', 'Intelligence & National Security'], 'Intelligence and National Security')"
   ]
  },
  {
   "cell_type": "code",
   "execution_count": 136,
   "metadata": {},
   "outputs": [],
   "source": [
    "def zotero_collections2(library_id, library_type):\n",
    "    collections = zot.collections()\n",
    "    data = [(item['data']['key'], item['data']['name'], item['meta']['numItems'], item['links']['alternate']['href']) for item in collections]\n",
    "    df_collections = pd.DataFrame(data, columns=['Key', 'Name', 'Number', 'Link'])\n",
    "    return df_collections\n",
    "df_collections_2 = zotero_collections2(library_id, library_type)"
   ]
  },
  {
   "cell_type": "code",
   "execution_count": 137,
   "metadata": {},
   "outputs": [],
   "source": [
    "def duplicate_rows_by_col_key(df, df_collections):\n",
    "    # Duplicate rows based on 'Col key'\n",
    "    duplicated_rows = []\n",
    "    for index, row in df.iterrows():\n",
    "        if isinstance(row['Col key'], list):\n",
    "            for key in row['Col key']:\n",
    "                new_row = row.copy()\n",
    "                collection_info = df_collections[df_collections['Key'] == key]\n",
    "                if not collection_info.empty:\n",
    "                    new_row['Collection_Key'] = key\n",
    "                    new_row['Collection_Name'] = collection_info.iloc[0]['Name']\n",
    "                    new_row['Collection_Link'] = collection_info.iloc[0]['Link']\n",
    "                    duplicated_rows.append(new_row)\n",
    "        else:\n",
    "            key = row['Col key']\n",
    "            new_row = row.copy()\n",
    "            collection_info = df_collections[df_collections['Key'] == key]\n",
    "            if not collection_info.empty:\n",
    "                new_row['Collection_Key'] = key\n",
    "                new_row['Collection_Name'] = collection_info.iloc[0]['Name']\n",
    "                new_row['Collection_Link'] = collection_info.iloc[0]['Link']\n",
    "                duplicated_rows.append(new_row)\n",
    "\n",
    "    # Create a new DataFrame with duplicated rows\n",
    "    duplicated_df = pd.DataFrame(duplicated_rows)\n",
    "\n",
    "    return duplicated_df\n",
    "\n",
    "# Duplicating rows based on 'Col key' and collections information\n",
    "duplicated_df = duplicate_rows_by_col_key(df, df_collections_2)"
   ]
  },
  {
   "cell_type": "code",
   "execution_count": 138,
   "metadata": {},
   "outputs": [],
   "source": [
    "# day_allitems = datetime.date.today().isoformat()"
   ]
  },
  {
   "cell_type": "code",
   "execution_count": 139,
   "metadata": {},
   "outputs": [],
   "source": [
    "# df_fa = df['FirstName2']\n",
    "# df_fa = pd.DataFrame(df_fa.tolist())\n",
    "# df_fa = df_fa[0]\n",
    "# df_fa = df_fa.apply(lambda x: {} if pd.isna(x) else x)\n",
    "# df_new = pd.json_normalize(df_fa, errors='ignore') \n",
    "# df = pd.concat([df, df_new], axis=1)\n",
    "# df['firstName'] = df['firstName'].fillna('null')\n",
    "# df['lastName'] = df['lastName'].fillna('null')"
   ]
  },
  {
   "cell_type": "code",
   "execution_count": 140,
   "metadata": {},
   "outputs": [],
   "source": [
    "df.to_csv('all_items.csv')\n",
    "duplicated_df.to_csv('all_items_duplicated.csv')"
   ]
  },
  {
   "cell_type": "code",
   "execution_count": 141,
   "metadata": {},
   "outputs": [],
   "source": [
    "import psycopg2\n",
    "from sqlalchemy import create_engine\n",
    "import psycopg2.extras as extras"
   ]
  },
  {
   "attachments": {},
   "cell_type": "markdown",
   "metadata": {},
   "source": [
    "# Countries "
   ]
  },
  {
   "cell_type": "code",
   "execution_count": 142,
   "metadata": {},
   "outputs": [],
   "source": [
    "# Read the csv file into a pandas dataframe\n",
    "df = pd.read_csv('https://raw.githubusercontent.com/YusufAliOzkan/zotero-intelligence-bibliography/main/all_items.csv')\n",
    "\n",
    "# Dictionary to map non-proper country names to their proper names\n",
    "country_map = {\n",
    "    'british': 'UK',\n",
    "    'great britain': 'UK',\n",
    "    'UK' : 'UK', \n",
    "    'america' : 'United States',\n",
    "    'United States of America' : 'United States',\n",
    "    'Soviet Union': 'Russia', \n",
    "    'american' : 'United States',\n",
    "    'United States' : 'United States',\n",
    "    'russian' : 'Russia'\n",
    "    # Add more mappings as needed\n",
    "}\n",
    "\n",
    "# Find the country names in the \"title\" column of the dataframe\n",
    "found_countries = {}\n",
    "for i, row in df.iterrows():\n",
    "    title = str(row['Title']).lower()\n",
    "    for country in pycountry.countries:\n",
    "        name = country.name.lower()\n",
    "        if name in title or (name + 's') in title:  # Check for singular and plural forms of country names\n",
    "            proper_name = country.name\n",
    "            found_countries[proper_name] = found_countries.get(proper_name, 0) + 1\n",
    "    for non_proper, proper in country_map.items():\n",
    "        if non_proper in title:\n",
    "            found_countries[proper] = found_countries.get(proper, 0) + title.count(non_proper)\n",
    "\n",
    "# Create a new dataframe containing the found countries and their counts\n",
    "df_countries = pd.DataFrame({'Country': list(found_countries.keys()), 'Count': list(found_countries.values())})"
   ]
  },
  {
   "cell_type": "code",
   "execution_count": 143,
   "metadata": {},
   "outputs": [
    {
     "data": {
      "application/vnd.plotly.v1+json": {
       "config": {
        "plotlyServerURL": "https://plot.ly"
       },
       "data": [
        {
         "coloraxis": "coloraxis",
         "geo": "geo",
         "hovertemplate": "Country=%{location}<br>Count=%{z}<extra></extra>",
         "locationmode": "country names",
         "locations": [
          "UK",
          "Spain",
          "Greece",
          "Portugal",
          "Oman",
          "Romania",
          "Ukraine",
          "Niger",
          "Nigeria",
          "Uganda",
          "Kenya",
          "Congo",
          "Mali",
          "Somalia",
          "Ghana",
          "Morocco",
          "Sudan",
          "United States",
          "Australia",
          "India",
          "Germany",
          "Georgia",
          "Serbia",
          "China",
          "Israel",
          "Russia",
          "Ireland",
          "France",
          "Denmark",
          "Sweden",
          "Afghanistan",
          "Canada",
          "British Indian Ocean Territory",
          "United Kingdom",
          "Cuba",
          "Bahamas",
          "Jamaica",
          "El Salvador",
          "Paraguay",
          "Guatemala",
          "Costa Rica",
          "Ecuador",
          "Argentina",
          "Mexico",
          "Colombia",
          "Uruguay",
          "Peru",
          "Chile",
          "Brazil",
          "Switzerland",
          "New Zealand",
          "Austria",
          "Pakistan",
          "Indonesia",
          "Poland",
          "Iraq",
          "Sri Lanka",
          "Finland",
          "Zimbabwe",
          "Zambia",
          "Tunisia",
          "Togo",
          "South Sudan",
          "South Africa",
          "Sierra Leone",
          "Seychelles",
          "Senegal",
          "Namibia",
          "Mozambique",
          "Mauritius",
          "Mauritania",
          "Madagascar",
          "Lesotho",
          "Guinea",
          "Guinea-Bissau",
          "Gambia",
          "Gabon",
          "Ethiopia",
          "Eswatini",
          "Eritrea",
          "Equatorial Guinea",
          "Egypt",
          "Comoros",
          "Chad",
          "Central African Republic",
          "Cameroon",
          "Cabo Verde",
          "Burundi",
          "Botswana",
          "Benin",
          "Algeria",
          "Angola",
          "Japan",
          "Norway",
          "Slovakia",
          "Croatia",
          "Lebanon",
          "Estonia",
          "Kuwait",
          "Thailand",
          "Lithuania",
          "Netherlands",
          "Albania",
          "Libya",
          "Bangladesh",
          "Jordan",
          "Bulgaria",
          "Latvia",
          "Turkey",
          "Bosnia and Herzegovina",
          "Hungary",
          "Italy",
          "Hong Kong",
          "Haiti",
          "Cyprus",
          "Saudi Arabia",
          "Cambodia",
          "Singapore",
          "Yemen",
          "Malaysia",
          "Tajikistan",
          "Myanmar",
          "Kazakhstan",
          "Mongolia",
          "Slovenia",
          "Nicaragua",
          "Dominica",
          "Gibraltar",
          "Philippines",
          "Belgium",
          "Rwanda",
          "Antarctica",
          "North Macedonia",
          "Dominican Republic",
          "United Arab Emirates",
          "Nepal"
         ],
         "name": "",
         "type": "choropleth",
         "z": [
          469,
          16,
          12,
          5,
          70,
          29,
          126,
          6,
          5,
          5,
          5,
          9,
          13,
          3,
          5,
          5,
          8,
          690,
          79,
          60,
          83,
          3,
          5,
          79,
          150,
          149,
          36,
          49,
          7,
          12,
          20,
          69,
          1,
          20,
          41,
          1,
          1,
          2,
          1,
          4,
          2,
          3,
          6,
          8,
          10,
          2,
          5,
          9,
          29,
          7,
          20,
          12,
          16,
          11,
          11,
          65,
          3,
          6,
          2,
          1,
          4,
          1,
          4,
          24,
          1,
          1,
          1,
          2,
          2,
          1,
          1,
          1,
          1,
          4,
          1,
          1,
          1,
          2,
          1,
          1,
          1,
          28,
          1,
          1,
          1,
          1,
          1,
          1,
          1,
          1,
          7,
          2,
          111,
          11,
          12,
          1,
          9,
          1,
          2,
          5,
          3,
          11,
          10,
          6,
          15,
          6,
          4,
          4,
          16,
          4,
          3,
          12,
          4,
          2,
          10,
          4,
          2,
          6,
          5,
          3,
          1,
          2,
          1,
          1,
          1,
          1,
          2,
          3,
          2,
          6,
          1,
          1,
          1,
          1,
          1,
          1
         ]
        }
       ],
       "layout": {
        "coloraxis": {
         "colorbar": {
          "title": {
           "text": "Count"
          }
         },
         "colorscale": [
          [
           0,
           "#440154"
          ],
          [
           0.1111111111111111,
           "#482878"
          ],
          [
           0.2222222222222222,
           "#3e4989"
          ],
          [
           0.3333333333333333,
           "#31688e"
          ],
          [
           0.4444444444444444,
           "#26828e"
          ],
          [
           0.5555555555555556,
           "#1f9e89"
          ],
          [
           0.6666666666666666,
           "#35b779"
          ],
          [
           0.7777777777777778,
           "#6ece58"
          ],
          [
           0.8888888888888888,
           "#b5de2b"
          ],
          [
           1,
           "#fde725"
          ]
         ]
        },
        "geo": {
         "center": {},
         "domain": {
          "x": [
           0,
           1
          ],
          "y": [
           0,
           1
          ]
         }
        },
        "height": 700,
        "legend": {
         "tracegroupgap": 0
        },
        "template": {
         "data": {
          "bar": [
           {
            "error_x": {
             "color": "#2a3f5f"
            },
            "error_y": {
             "color": "#2a3f5f"
            },
            "marker": {
             "line": {
              "color": "#E5ECF6",
              "width": 0.5
             },
             "pattern": {
              "fillmode": "overlay",
              "size": 10,
              "solidity": 0.2
             }
            },
            "type": "bar"
           }
          ],
          "barpolar": [
           {
            "marker": {
             "line": {
              "color": "#E5ECF6",
              "width": 0.5
             },
             "pattern": {
              "fillmode": "overlay",
              "size": 10,
              "solidity": 0.2
             }
            },
            "type": "barpolar"
           }
          ],
          "carpet": [
           {
            "aaxis": {
             "endlinecolor": "#2a3f5f",
             "gridcolor": "white",
             "linecolor": "white",
             "minorgridcolor": "white",
             "startlinecolor": "#2a3f5f"
            },
            "baxis": {
             "endlinecolor": "#2a3f5f",
             "gridcolor": "white",
             "linecolor": "white",
             "minorgridcolor": "white",
             "startlinecolor": "#2a3f5f"
            },
            "type": "carpet"
           }
          ],
          "choropleth": [
           {
            "colorbar": {
             "outlinewidth": 0,
             "ticks": ""
            },
            "type": "choropleth"
           }
          ],
          "contour": [
           {
            "colorbar": {
             "outlinewidth": 0,
             "ticks": ""
            },
            "colorscale": [
             [
              0,
              "#0d0887"
             ],
             [
              0.1111111111111111,
              "#46039f"
             ],
             [
              0.2222222222222222,
              "#7201a8"
             ],
             [
              0.3333333333333333,
              "#9c179e"
             ],
             [
              0.4444444444444444,
              "#bd3786"
             ],
             [
              0.5555555555555556,
              "#d8576b"
             ],
             [
              0.6666666666666666,
              "#ed7953"
             ],
             [
              0.7777777777777778,
              "#fb9f3a"
             ],
             [
              0.8888888888888888,
              "#fdca26"
             ],
             [
              1,
              "#f0f921"
             ]
            ],
            "type": "contour"
           }
          ],
          "contourcarpet": [
           {
            "colorbar": {
             "outlinewidth": 0,
             "ticks": ""
            },
            "type": "contourcarpet"
           }
          ],
          "heatmap": [
           {
            "colorbar": {
             "outlinewidth": 0,
             "ticks": ""
            },
            "colorscale": [
             [
              0,
              "#0d0887"
             ],
             [
              0.1111111111111111,
              "#46039f"
             ],
             [
              0.2222222222222222,
              "#7201a8"
             ],
             [
              0.3333333333333333,
              "#9c179e"
             ],
             [
              0.4444444444444444,
              "#bd3786"
             ],
             [
              0.5555555555555556,
              "#d8576b"
             ],
             [
              0.6666666666666666,
              "#ed7953"
             ],
             [
              0.7777777777777778,
              "#fb9f3a"
             ],
             [
              0.8888888888888888,
              "#fdca26"
             ],
             [
              1,
              "#f0f921"
             ]
            ],
            "type": "heatmap"
           }
          ],
          "heatmapgl": [
           {
            "colorbar": {
             "outlinewidth": 0,
             "ticks": ""
            },
            "colorscale": [
             [
              0,
              "#0d0887"
             ],
             [
              0.1111111111111111,
              "#46039f"
             ],
             [
              0.2222222222222222,
              "#7201a8"
             ],
             [
              0.3333333333333333,
              "#9c179e"
             ],
             [
              0.4444444444444444,
              "#bd3786"
             ],
             [
              0.5555555555555556,
              "#d8576b"
             ],
             [
              0.6666666666666666,
              "#ed7953"
             ],
             [
              0.7777777777777778,
              "#fb9f3a"
             ],
             [
              0.8888888888888888,
              "#fdca26"
             ],
             [
              1,
              "#f0f921"
             ]
            ],
            "type": "heatmapgl"
           }
          ],
          "histogram": [
           {
            "marker": {
             "pattern": {
              "fillmode": "overlay",
              "size": 10,
              "solidity": 0.2
             }
            },
            "type": "histogram"
           }
          ],
          "histogram2d": [
           {
            "colorbar": {
             "outlinewidth": 0,
             "ticks": ""
            },
            "colorscale": [
             [
              0,
              "#0d0887"
             ],
             [
              0.1111111111111111,
              "#46039f"
             ],
             [
              0.2222222222222222,
              "#7201a8"
             ],
             [
              0.3333333333333333,
              "#9c179e"
             ],
             [
              0.4444444444444444,
              "#bd3786"
             ],
             [
              0.5555555555555556,
              "#d8576b"
             ],
             [
              0.6666666666666666,
              "#ed7953"
             ],
             [
              0.7777777777777778,
              "#fb9f3a"
             ],
             [
              0.8888888888888888,
              "#fdca26"
             ],
             [
              1,
              "#f0f921"
             ]
            ],
            "type": "histogram2d"
           }
          ],
          "histogram2dcontour": [
           {
            "colorbar": {
             "outlinewidth": 0,
             "ticks": ""
            },
            "colorscale": [
             [
              0,
              "#0d0887"
             ],
             [
              0.1111111111111111,
              "#46039f"
             ],
             [
              0.2222222222222222,
              "#7201a8"
             ],
             [
              0.3333333333333333,
              "#9c179e"
             ],
             [
              0.4444444444444444,
              "#bd3786"
             ],
             [
              0.5555555555555556,
              "#d8576b"
             ],
             [
              0.6666666666666666,
              "#ed7953"
             ],
             [
              0.7777777777777778,
              "#fb9f3a"
             ],
             [
              0.8888888888888888,
              "#fdca26"
             ],
             [
              1,
              "#f0f921"
             ]
            ],
            "type": "histogram2dcontour"
           }
          ],
          "mesh3d": [
           {
            "colorbar": {
             "outlinewidth": 0,
             "ticks": ""
            },
            "type": "mesh3d"
           }
          ],
          "parcoords": [
           {
            "line": {
             "colorbar": {
              "outlinewidth": 0,
              "ticks": ""
             }
            },
            "type": "parcoords"
           }
          ],
          "pie": [
           {
            "automargin": true,
            "type": "pie"
           }
          ],
          "scatter": [
           {
            "fillpattern": {
             "fillmode": "overlay",
             "size": 10,
             "solidity": 0.2
            },
            "type": "scatter"
           }
          ],
          "scatter3d": [
           {
            "line": {
             "colorbar": {
              "outlinewidth": 0,
              "ticks": ""
             }
            },
            "marker": {
             "colorbar": {
              "outlinewidth": 0,
              "ticks": ""
             }
            },
            "type": "scatter3d"
           }
          ],
          "scattercarpet": [
           {
            "marker": {
             "colorbar": {
              "outlinewidth": 0,
              "ticks": ""
             }
            },
            "type": "scattercarpet"
           }
          ],
          "scattergeo": [
           {
            "marker": {
             "colorbar": {
              "outlinewidth": 0,
              "ticks": ""
             }
            },
            "type": "scattergeo"
           }
          ],
          "scattergl": [
           {
            "marker": {
             "colorbar": {
              "outlinewidth": 0,
              "ticks": ""
             }
            },
            "type": "scattergl"
           }
          ],
          "scattermapbox": [
           {
            "marker": {
             "colorbar": {
              "outlinewidth": 0,
              "ticks": ""
             }
            },
            "type": "scattermapbox"
           }
          ],
          "scatterpolar": [
           {
            "marker": {
             "colorbar": {
              "outlinewidth": 0,
              "ticks": ""
             }
            },
            "type": "scatterpolar"
           }
          ],
          "scatterpolargl": [
           {
            "marker": {
             "colorbar": {
              "outlinewidth": 0,
              "ticks": ""
             }
            },
            "type": "scatterpolargl"
           }
          ],
          "scatterternary": [
           {
            "marker": {
             "colorbar": {
              "outlinewidth": 0,
              "ticks": ""
             }
            },
            "type": "scatterternary"
           }
          ],
          "surface": [
           {
            "colorbar": {
             "outlinewidth": 0,
             "ticks": ""
            },
            "colorscale": [
             [
              0,
              "#0d0887"
             ],
             [
              0.1111111111111111,
              "#46039f"
             ],
             [
              0.2222222222222222,
              "#7201a8"
             ],
             [
              0.3333333333333333,
              "#9c179e"
             ],
             [
              0.4444444444444444,
              "#bd3786"
             ],
             [
              0.5555555555555556,
              "#d8576b"
             ],
             [
              0.6666666666666666,
              "#ed7953"
             ],
             [
              0.7777777777777778,
              "#fb9f3a"
             ],
             [
              0.8888888888888888,
              "#fdca26"
             ],
             [
              1,
              "#f0f921"
             ]
            ],
            "type": "surface"
           }
          ],
          "table": [
           {
            "cells": {
             "fill": {
              "color": "#EBF0F8"
             },
             "line": {
              "color": "white"
             }
            },
            "header": {
             "fill": {
              "color": "#C8D4E3"
             },
             "line": {
              "color": "white"
             }
            },
            "type": "table"
           }
          ]
         },
         "layout": {
          "annotationdefaults": {
           "arrowcolor": "#2a3f5f",
           "arrowhead": 0,
           "arrowwidth": 1
          },
          "autotypenumbers": "strict",
          "coloraxis": {
           "colorbar": {
            "outlinewidth": 0,
            "ticks": ""
           }
          },
          "colorscale": {
           "diverging": [
            [
             0,
             "#8e0152"
            ],
            [
             0.1,
             "#c51b7d"
            ],
            [
             0.2,
             "#de77ae"
            ],
            [
             0.3,
             "#f1b6da"
            ],
            [
             0.4,
             "#fde0ef"
            ],
            [
             0.5,
             "#f7f7f7"
            ],
            [
             0.6,
             "#e6f5d0"
            ],
            [
             0.7,
             "#b8e186"
            ],
            [
             0.8,
             "#7fbc41"
            ],
            [
             0.9,
             "#4d9221"
            ],
            [
             1,
             "#276419"
            ]
           ],
           "sequential": [
            [
             0,
             "#0d0887"
            ],
            [
             0.1111111111111111,
             "#46039f"
            ],
            [
             0.2222222222222222,
             "#7201a8"
            ],
            [
             0.3333333333333333,
             "#9c179e"
            ],
            [
             0.4444444444444444,
             "#bd3786"
            ],
            [
             0.5555555555555556,
             "#d8576b"
            ],
            [
             0.6666666666666666,
             "#ed7953"
            ],
            [
             0.7777777777777778,
             "#fb9f3a"
            ],
            [
             0.8888888888888888,
             "#fdca26"
            ],
            [
             1,
             "#f0f921"
            ]
           ],
           "sequentialminus": [
            [
             0,
             "#0d0887"
            ],
            [
             0.1111111111111111,
             "#46039f"
            ],
            [
             0.2222222222222222,
             "#7201a8"
            ],
            [
             0.3333333333333333,
             "#9c179e"
            ],
            [
             0.4444444444444444,
             "#bd3786"
            ],
            [
             0.5555555555555556,
             "#d8576b"
            ],
            [
             0.6666666666666666,
             "#ed7953"
            ],
            [
             0.7777777777777778,
             "#fb9f3a"
            ],
            [
             0.8888888888888888,
             "#fdca26"
            ],
            [
             1,
             "#f0f921"
            ]
           ]
          },
          "colorway": [
           "#636efa",
           "#EF553B",
           "#00cc96",
           "#ab63fa",
           "#FFA15A",
           "#19d3f3",
           "#FF6692",
           "#B6E880",
           "#FF97FF",
           "#FECB52"
          ],
          "font": {
           "color": "#2a3f5f"
          },
          "geo": {
           "bgcolor": "white",
           "lakecolor": "white",
           "landcolor": "#E5ECF6",
           "showlakes": true,
           "showland": true,
           "subunitcolor": "white"
          },
          "hoverlabel": {
           "align": "left"
          },
          "hovermode": "closest",
          "mapbox": {
           "style": "light"
          },
          "paper_bgcolor": "white",
          "plot_bgcolor": "#E5ECF6",
          "polar": {
           "angularaxis": {
            "gridcolor": "white",
            "linecolor": "white",
            "ticks": ""
           },
           "bgcolor": "#E5ECF6",
           "radialaxis": {
            "gridcolor": "white",
            "linecolor": "white",
            "ticks": ""
           }
          },
          "scene": {
           "xaxis": {
            "backgroundcolor": "#E5ECF6",
            "gridcolor": "white",
            "gridwidth": 2,
            "linecolor": "white",
            "showbackground": true,
            "ticks": "",
            "zerolinecolor": "white"
           },
           "yaxis": {
            "backgroundcolor": "#E5ECF6",
            "gridcolor": "white",
            "gridwidth": 2,
            "linecolor": "white",
            "showbackground": true,
            "ticks": "",
            "zerolinecolor": "white"
           },
           "zaxis": {
            "backgroundcolor": "#E5ECF6",
            "gridcolor": "white",
            "gridwidth": 2,
            "linecolor": "white",
            "showbackground": true,
            "ticks": "",
            "zerolinecolor": "white"
           }
          },
          "shapedefaults": {
           "line": {
            "color": "#2a3f5f"
           }
          },
          "ternary": {
           "aaxis": {
            "gridcolor": "white",
            "linecolor": "white",
            "ticks": ""
           },
           "baxis": {
            "gridcolor": "white",
            "linecolor": "white",
            "ticks": ""
           },
           "bgcolor": "#E5ECF6",
           "caxis": {
            "gridcolor": "white",
            "linecolor": "white",
            "ticks": ""
           }
          },
          "title": {
           "x": 0.05
          },
          "xaxis": {
           "automargin": true,
           "gridcolor": "white",
           "linecolor": "white",
           "ticks": "",
           "title": {
            "standoff": 15
           },
           "zerolinecolor": "white",
           "zerolinewidth": 2
          },
          "yaxis": {
           "automargin": true,
           "gridcolor": "white",
           "linecolor": "white",
           "ticks": "",
           "title": {
            "standoff": 15
           },
           "zerolinecolor": "white",
           "zerolinewidth": 2
          }
         }
        },
        "title": {
         "text": "Country mentions in titles"
        },
        "width": 1100
       }
      }
     },
     "metadata": {},
     "output_type": "display_data"
    }
   ],
   "source": [
    "fig = px.choropleth(df_countries, locations='Country', locationmode='country names', color='Count', \n",
    "                    title='Country mentions in titles', color_continuous_scale='Viridis',\n",
    "                    width=1100, height=700) # Adjust the size of the map here\n",
    "\n",
    "# Display the map\n",
    "fig.show()"
   ]
  },
  {
   "cell_type": "code",
   "execution_count": 144,
   "metadata": {},
   "outputs": [
    {
     "data": {
      "text/html": [
       "<div>\n",
       "<style scoped>\n",
       "    .dataframe tbody tr th:only-of-type {\n",
       "        vertical-align: middle;\n",
       "    }\n",
       "\n",
       "    .dataframe tbody tr th {\n",
       "        vertical-align: top;\n",
       "    }\n",
       "\n",
       "    .dataframe thead th {\n",
       "        text-align: right;\n",
       "    }\n",
       "</style>\n",
       "<table border=\"1\" class=\"dataframe\">\n",
       "  <thead>\n",
       "    <tr style=\"text-align: right;\">\n",
       "      <th></th>\n",
       "      <th>Country</th>\n",
       "      <th>Count</th>\n",
       "    </tr>\n",
       "  </thead>\n",
       "  <tbody>\n",
       "    <tr>\n",
       "      <th>0</th>\n",
       "      <td>United States</td>\n",
       "      <td>690</td>\n",
       "    </tr>\n",
       "    <tr>\n",
       "      <th>1</th>\n",
       "      <td>UK</td>\n",
       "      <td>469</td>\n",
       "    </tr>\n",
       "    <tr>\n",
       "      <th>2</th>\n",
       "      <td>Israel</td>\n",
       "      <td>150</td>\n",
       "    </tr>\n",
       "    <tr>\n",
       "      <th>3</th>\n",
       "      <td>Russia</td>\n",
       "      <td>149</td>\n",
       "    </tr>\n",
       "    <tr>\n",
       "      <th>4</th>\n",
       "      <td>Ukraine</td>\n",
       "      <td>126</td>\n",
       "    </tr>\n",
       "    <tr>\n",
       "      <th>...</th>\n",
       "      <td>...</td>\n",
       "      <td>...</td>\n",
       "    </tr>\n",
       "    <tr>\n",
       "      <th>131</th>\n",
       "      <td>Lesotho</td>\n",
       "      <td>1</td>\n",
       "    </tr>\n",
       "    <tr>\n",
       "      <th>132</th>\n",
       "      <td>Madagascar</td>\n",
       "      <td>1</td>\n",
       "    </tr>\n",
       "    <tr>\n",
       "      <th>133</th>\n",
       "      <td>Mauritania</td>\n",
       "      <td>1</td>\n",
       "    </tr>\n",
       "    <tr>\n",
       "      <th>134</th>\n",
       "      <td>Mauritius</td>\n",
       "      <td>1</td>\n",
       "    </tr>\n",
       "    <tr>\n",
       "      <th>135</th>\n",
       "      <td>Nepal</td>\n",
       "      <td>1</td>\n",
       "    </tr>\n",
       "  </tbody>\n",
       "</table>\n",
       "<p>136 rows × 2 columns</p>\n",
       "</div>"
      ],
      "text/plain": [
       "           Country  Count\n",
       "0    United States    690\n",
       "1               UK    469\n",
       "2           Israel    150\n",
       "3           Russia    149\n",
       "4          Ukraine    126\n",
       "..             ...    ...\n",
       "131        Lesotho      1\n",
       "132     Madagascar      1\n",
       "133     Mauritania      1\n",
       "134      Mauritius      1\n",
       "135          Nepal      1\n",
       "\n",
       "[136 rows x 2 columns]"
      ]
     },
     "execution_count": 144,
     "metadata": {},
     "output_type": "execute_result"
    }
   ],
   "source": [
    "df_countries=df_countries.sort_values(by='Count', ascending=False)\n",
    "df_countries.reset_index(drop=True)"
   ]
  },
  {
   "cell_type": "code",
   "execution_count": 145,
   "metadata": {},
   "outputs": [
    {
     "data": {
      "application/vnd.plotly.v1+json": {
       "config": {
        "plotlyServerURL": "https://plot.ly"
       },
       "data": [
        {
         "coloraxis": "coloraxis",
         "geo": "geo",
         "hovertemplate": "Country=%{location}<br>Count=%{z}<extra></extra>",
         "locationmode": "country names",
         "locations": [
          "United States",
          "UK",
          "Israel",
          "Russia",
          "Ukraine",
          "Japan",
          "Germany",
          "China",
          "Australia",
          "Oman",
          "Canada",
          "Iraq",
          "India",
          "France",
          "Cuba",
          "Ireland",
          "Romania",
          "Brazil",
          "Egypt",
          "South Africa",
          "United Kingdom",
          "Afghanistan",
          "New Zealand",
          "Turkey",
          "Spain",
          "Pakistan",
          "Bangladesh",
          "Mali",
          "Slovakia",
          "Sweden",
          "Greece",
          "Italy",
          "Austria",
          "Norway",
          "Netherlands",
          "Poland",
          "Indonesia",
          "Cyprus",
          "Albania",
          "Colombia",
          "Lebanon",
          "Congo",
          "Chile",
          "Mexico",
          "Sudan",
          "Algeria",
          "Switzerland",
          "Denmark",
          "Singapore",
          "Libya",
          "Finland",
          "Belgium",
          "Jordan",
          "Niger",
          "Argentina",
          "Nigeria",
          "Ghana",
          "Morocco",
          "Yemen",
          "Kenya",
          "Serbia",
          "Uganda",
          "Peru",
          "Thailand",
          "Portugal",
          "Saudi Arabia",
          "South Sudan",
          "Bulgaria",
          "Tunisia",
          "Hong Kong",
          "Guatemala",
          "Bosnia and Herzegovina",
          "Latvia",
          "Guinea",
          "Lithuania",
          "Malaysia",
          "Georgia",
          "Somalia",
          "Hungary",
          "Ecuador",
          "Sri Lanka",
          "Gibraltar",
          "Haiti",
          "Cambodia",
          "Kuwait",
          "Philippines",
          "Dominica",
          "Myanmar",
          "Angola",
          "Mozambique",
          "Ethiopia",
          "Namibia",
          "Zimbabwe",
          "Uruguay",
          "Costa Rica",
          "El Salvador",
          "Benin",
          "Zambia",
          "Tajikistan",
          "Paraguay",
          "Kazakhstan",
          "Mongolia",
          "Slovenia",
          "Sierra Leone",
          "Nicaragua",
          "Jamaica",
          "Bahamas",
          "British Indian Ocean Territory",
          "Rwanda",
          "Antarctica",
          "North Macedonia",
          "Dominican Republic",
          "United Arab Emirates",
          "Togo",
          "Seychelles",
          "Botswana",
          "Equatorial Guinea",
          "Burundi",
          "Cabo Verde",
          "Cameroon",
          "Croatia",
          "Central African Republic",
          "Estonia",
          "Chad",
          "Comoros",
          "Eritrea",
          "Senegal",
          "Eswatini",
          "Gabon",
          "Gambia",
          "Guinea-Bissau",
          "Lesotho",
          "Madagascar",
          "Mauritania",
          "Mauritius",
          "Nepal"
         ],
         "name": "",
         "type": "choropleth",
         "z": [
          690,
          469,
          150,
          149,
          126,
          111,
          83,
          79,
          79,
          70,
          69,
          65,
          60,
          49,
          41,
          36,
          29,
          29,
          28,
          24,
          20,
          20,
          20,
          16,
          16,
          16,
          15,
          13,
          12,
          12,
          12,
          12,
          12,
          11,
          11,
          11,
          11,
          10,
          10,
          10,
          9,
          9,
          9,
          8,
          8,
          7,
          7,
          7,
          6,
          6,
          6,
          6,
          6,
          6,
          6,
          5,
          5,
          5,
          5,
          5,
          5,
          5,
          5,
          5,
          5,
          4,
          4,
          4,
          4,
          4,
          4,
          4,
          4,
          4,
          3,
          3,
          3,
          3,
          3,
          3,
          3,
          3,
          2,
          2,
          2,
          2,
          2,
          2,
          2,
          2,
          2,
          2,
          2,
          2,
          2,
          2,
          1,
          1,
          1,
          1,
          1,
          1,
          1,
          1,
          1,
          1,
          1,
          1,
          1,
          1,
          1,
          1,
          1,
          1,
          1,
          1,
          1,
          1,
          1,
          1,
          1,
          1,
          1,
          1,
          1,
          1,
          1,
          1,
          1,
          1,
          1,
          1,
          1,
          1,
          1,
          1
         ]
        }
       ],
       "layout": {
        "coloraxis": {
         "colorbar": {
          "title": {
           "text": "Count"
          }
         },
         "colorscale": [
          [
           0,
           "#440154"
          ],
          [
           0.1111111111111111,
           "#482878"
          ],
          [
           0.2222222222222222,
           "#3e4989"
          ],
          [
           0.3333333333333333,
           "#31688e"
          ],
          [
           0.4444444444444444,
           "#26828e"
          ],
          [
           0.5555555555555556,
           "#1f9e89"
          ],
          [
           0.6666666666666666,
           "#35b779"
          ],
          [
           0.7777777777777778,
           "#6ece58"
          ],
          [
           0.8888888888888888,
           "#b5de2b"
          ],
          [
           1,
           "#fde725"
          ]
         ]
        },
        "geo": {
         "center": {},
         "domain": {
          "x": [
           0,
           1
          ],
          "y": [
           0,
           1
          ]
         }
        },
        "height": 700,
        "legend": {
         "tracegroupgap": 0
        },
        "template": {
         "data": {
          "bar": [
           {
            "error_x": {
             "color": "#2a3f5f"
            },
            "error_y": {
             "color": "#2a3f5f"
            },
            "marker": {
             "line": {
              "color": "#E5ECF6",
              "width": 0.5
             },
             "pattern": {
              "fillmode": "overlay",
              "size": 10,
              "solidity": 0.2
             }
            },
            "type": "bar"
           }
          ],
          "barpolar": [
           {
            "marker": {
             "line": {
              "color": "#E5ECF6",
              "width": 0.5
             },
             "pattern": {
              "fillmode": "overlay",
              "size": 10,
              "solidity": 0.2
             }
            },
            "type": "barpolar"
           }
          ],
          "carpet": [
           {
            "aaxis": {
             "endlinecolor": "#2a3f5f",
             "gridcolor": "white",
             "linecolor": "white",
             "minorgridcolor": "white",
             "startlinecolor": "#2a3f5f"
            },
            "baxis": {
             "endlinecolor": "#2a3f5f",
             "gridcolor": "white",
             "linecolor": "white",
             "minorgridcolor": "white",
             "startlinecolor": "#2a3f5f"
            },
            "type": "carpet"
           }
          ],
          "choropleth": [
           {
            "colorbar": {
             "outlinewidth": 0,
             "ticks": ""
            },
            "type": "choropleth"
           }
          ],
          "contour": [
           {
            "colorbar": {
             "outlinewidth": 0,
             "ticks": ""
            },
            "colorscale": [
             [
              0,
              "#0d0887"
             ],
             [
              0.1111111111111111,
              "#46039f"
             ],
             [
              0.2222222222222222,
              "#7201a8"
             ],
             [
              0.3333333333333333,
              "#9c179e"
             ],
             [
              0.4444444444444444,
              "#bd3786"
             ],
             [
              0.5555555555555556,
              "#d8576b"
             ],
             [
              0.6666666666666666,
              "#ed7953"
             ],
             [
              0.7777777777777778,
              "#fb9f3a"
             ],
             [
              0.8888888888888888,
              "#fdca26"
             ],
             [
              1,
              "#f0f921"
             ]
            ],
            "type": "contour"
           }
          ],
          "contourcarpet": [
           {
            "colorbar": {
             "outlinewidth": 0,
             "ticks": ""
            },
            "type": "contourcarpet"
           }
          ],
          "heatmap": [
           {
            "colorbar": {
             "outlinewidth": 0,
             "ticks": ""
            },
            "colorscale": [
             [
              0,
              "#0d0887"
             ],
             [
              0.1111111111111111,
              "#46039f"
             ],
             [
              0.2222222222222222,
              "#7201a8"
             ],
             [
              0.3333333333333333,
              "#9c179e"
             ],
             [
              0.4444444444444444,
              "#bd3786"
             ],
             [
              0.5555555555555556,
              "#d8576b"
             ],
             [
              0.6666666666666666,
              "#ed7953"
             ],
             [
              0.7777777777777778,
              "#fb9f3a"
             ],
             [
              0.8888888888888888,
              "#fdca26"
             ],
             [
              1,
              "#f0f921"
             ]
            ],
            "type": "heatmap"
           }
          ],
          "heatmapgl": [
           {
            "colorbar": {
             "outlinewidth": 0,
             "ticks": ""
            },
            "colorscale": [
             [
              0,
              "#0d0887"
             ],
             [
              0.1111111111111111,
              "#46039f"
             ],
             [
              0.2222222222222222,
              "#7201a8"
             ],
             [
              0.3333333333333333,
              "#9c179e"
             ],
             [
              0.4444444444444444,
              "#bd3786"
             ],
             [
              0.5555555555555556,
              "#d8576b"
             ],
             [
              0.6666666666666666,
              "#ed7953"
             ],
             [
              0.7777777777777778,
              "#fb9f3a"
             ],
             [
              0.8888888888888888,
              "#fdca26"
             ],
             [
              1,
              "#f0f921"
             ]
            ],
            "type": "heatmapgl"
           }
          ],
          "histogram": [
           {
            "marker": {
             "pattern": {
              "fillmode": "overlay",
              "size": 10,
              "solidity": 0.2
             }
            },
            "type": "histogram"
           }
          ],
          "histogram2d": [
           {
            "colorbar": {
             "outlinewidth": 0,
             "ticks": ""
            },
            "colorscale": [
             [
              0,
              "#0d0887"
             ],
             [
              0.1111111111111111,
              "#46039f"
             ],
             [
              0.2222222222222222,
              "#7201a8"
             ],
             [
              0.3333333333333333,
              "#9c179e"
             ],
             [
              0.4444444444444444,
              "#bd3786"
             ],
             [
              0.5555555555555556,
              "#d8576b"
             ],
             [
              0.6666666666666666,
              "#ed7953"
             ],
             [
              0.7777777777777778,
              "#fb9f3a"
             ],
             [
              0.8888888888888888,
              "#fdca26"
             ],
             [
              1,
              "#f0f921"
             ]
            ],
            "type": "histogram2d"
           }
          ],
          "histogram2dcontour": [
           {
            "colorbar": {
             "outlinewidth": 0,
             "ticks": ""
            },
            "colorscale": [
             [
              0,
              "#0d0887"
             ],
             [
              0.1111111111111111,
              "#46039f"
             ],
             [
              0.2222222222222222,
              "#7201a8"
             ],
             [
              0.3333333333333333,
              "#9c179e"
             ],
             [
              0.4444444444444444,
              "#bd3786"
             ],
             [
              0.5555555555555556,
              "#d8576b"
             ],
             [
              0.6666666666666666,
              "#ed7953"
             ],
             [
              0.7777777777777778,
              "#fb9f3a"
             ],
             [
              0.8888888888888888,
              "#fdca26"
             ],
             [
              1,
              "#f0f921"
             ]
            ],
            "type": "histogram2dcontour"
           }
          ],
          "mesh3d": [
           {
            "colorbar": {
             "outlinewidth": 0,
             "ticks": ""
            },
            "type": "mesh3d"
           }
          ],
          "parcoords": [
           {
            "line": {
             "colorbar": {
              "outlinewidth": 0,
              "ticks": ""
             }
            },
            "type": "parcoords"
           }
          ],
          "pie": [
           {
            "automargin": true,
            "type": "pie"
           }
          ],
          "scatter": [
           {
            "fillpattern": {
             "fillmode": "overlay",
             "size": 10,
             "solidity": 0.2
            },
            "type": "scatter"
           }
          ],
          "scatter3d": [
           {
            "line": {
             "colorbar": {
              "outlinewidth": 0,
              "ticks": ""
             }
            },
            "marker": {
             "colorbar": {
              "outlinewidth": 0,
              "ticks": ""
             }
            },
            "type": "scatter3d"
           }
          ],
          "scattercarpet": [
           {
            "marker": {
             "colorbar": {
              "outlinewidth": 0,
              "ticks": ""
             }
            },
            "type": "scattercarpet"
           }
          ],
          "scattergeo": [
           {
            "marker": {
             "colorbar": {
              "outlinewidth": 0,
              "ticks": ""
             }
            },
            "type": "scattergeo"
           }
          ],
          "scattergl": [
           {
            "marker": {
             "colorbar": {
              "outlinewidth": 0,
              "ticks": ""
             }
            },
            "type": "scattergl"
           }
          ],
          "scattermapbox": [
           {
            "marker": {
             "colorbar": {
              "outlinewidth": 0,
              "ticks": ""
             }
            },
            "type": "scattermapbox"
           }
          ],
          "scatterpolar": [
           {
            "marker": {
             "colorbar": {
              "outlinewidth": 0,
              "ticks": ""
             }
            },
            "type": "scatterpolar"
           }
          ],
          "scatterpolargl": [
           {
            "marker": {
             "colorbar": {
              "outlinewidth": 0,
              "ticks": ""
             }
            },
            "type": "scatterpolargl"
           }
          ],
          "scatterternary": [
           {
            "marker": {
             "colorbar": {
              "outlinewidth": 0,
              "ticks": ""
             }
            },
            "type": "scatterternary"
           }
          ],
          "surface": [
           {
            "colorbar": {
             "outlinewidth": 0,
             "ticks": ""
            },
            "colorscale": [
             [
              0,
              "#0d0887"
             ],
             [
              0.1111111111111111,
              "#46039f"
             ],
             [
              0.2222222222222222,
              "#7201a8"
             ],
             [
              0.3333333333333333,
              "#9c179e"
             ],
             [
              0.4444444444444444,
              "#bd3786"
             ],
             [
              0.5555555555555556,
              "#d8576b"
             ],
             [
              0.6666666666666666,
              "#ed7953"
             ],
             [
              0.7777777777777778,
              "#fb9f3a"
             ],
             [
              0.8888888888888888,
              "#fdca26"
             ],
             [
              1,
              "#f0f921"
             ]
            ],
            "type": "surface"
           }
          ],
          "table": [
           {
            "cells": {
             "fill": {
              "color": "#EBF0F8"
             },
             "line": {
              "color": "white"
             }
            },
            "header": {
             "fill": {
              "color": "#C8D4E3"
             },
             "line": {
              "color": "white"
             }
            },
            "type": "table"
           }
          ]
         },
         "layout": {
          "annotationdefaults": {
           "arrowcolor": "#2a3f5f",
           "arrowhead": 0,
           "arrowwidth": 1
          },
          "autotypenumbers": "strict",
          "coloraxis": {
           "colorbar": {
            "outlinewidth": 0,
            "ticks": ""
           }
          },
          "colorscale": {
           "diverging": [
            [
             0,
             "#8e0152"
            ],
            [
             0.1,
             "#c51b7d"
            ],
            [
             0.2,
             "#de77ae"
            ],
            [
             0.3,
             "#f1b6da"
            ],
            [
             0.4,
             "#fde0ef"
            ],
            [
             0.5,
             "#f7f7f7"
            ],
            [
             0.6,
             "#e6f5d0"
            ],
            [
             0.7,
             "#b8e186"
            ],
            [
             0.8,
             "#7fbc41"
            ],
            [
             0.9,
             "#4d9221"
            ],
            [
             1,
             "#276419"
            ]
           ],
           "sequential": [
            [
             0,
             "#0d0887"
            ],
            [
             0.1111111111111111,
             "#46039f"
            ],
            [
             0.2222222222222222,
             "#7201a8"
            ],
            [
             0.3333333333333333,
             "#9c179e"
            ],
            [
             0.4444444444444444,
             "#bd3786"
            ],
            [
             0.5555555555555556,
             "#d8576b"
            ],
            [
             0.6666666666666666,
             "#ed7953"
            ],
            [
             0.7777777777777778,
             "#fb9f3a"
            ],
            [
             0.8888888888888888,
             "#fdca26"
            ],
            [
             1,
             "#f0f921"
            ]
           ],
           "sequentialminus": [
            [
             0,
             "#0d0887"
            ],
            [
             0.1111111111111111,
             "#46039f"
            ],
            [
             0.2222222222222222,
             "#7201a8"
            ],
            [
             0.3333333333333333,
             "#9c179e"
            ],
            [
             0.4444444444444444,
             "#bd3786"
            ],
            [
             0.5555555555555556,
             "#d8576b"
            ],
            [
             0.6666666666666666,
             "#ed7953"
            ],
            [
             0.7777777777777778,
             "#fb9f3a"
            ],
            [
             0.8888888888888888,
             "#fdca26"
            ],
            [
             1,
             "#f0f921"
            ]
           ]
          },
          "colorway": [
           "#636efa",
           "#EF553B",
           "#00cc96",
           "#ab63fa",
           "#FFA15A",
           "#19d3f3",
           "#FF6692",
           "#B6E880",
           "#FF97FF",
           "#FECB52"
          ],
          "font": {
           "color": "#2a3f5f"
          },
          "geo": {
           "bgcolor": "white",
           "lakecolor": "white",
           "landcolor": "#E5ECF6",
           "showlakes": true,
           "showland": true,
           "subunitcolor": "white"
          },
          "hoverlabel": {
           "align": "left"
          },
          "hovermode": "closest",
          "mapbox": {
           "style": "light"
          },
          "paper_bgcolor": "white",
          "plot_bgcolor": "#E5ECF6",
          "polar": {
           "angularaxis": {
            "gridcolor": "white",
            "linecolor": "white",
            "ticks": ""
           },
           "bgcolor": "#E5ECF6",
           "radialaxis": {
            "gridcolor": "white",
            "linecolor": "white",
            "ticks": ""
           }
          },
          "scene": {
           "xaxis": {
            "backgroundcolor": "#E5ECF6",
            "gridcolor": "white",
            "gridwidth": 2,
            "linecolor": "white",
            "showbackground": true,
            "ticks": "",
            "zerolinecolor": "white"
           },
           "yaxis": {
            "backgroundcolor": "#E5ECF6",
            "gridcolor": "white",
            "gridwidth": 2,
            "linecolor": "white",
            "showbackground": true,
            "ticks": "",
            "zerolinecolor": "white"
           },
           "zaxis": {
            "backgroundcolor": "#E5ECF6",
            "gridcolor": "white",
            "gridwidth": 2,
            "linecolor": "white",
            "showbackground": true,
            "ticks": "",
            "zerolinecolor": "white"
           }
          },
          "shapedefaults": {
           "line": {
            "color": "#2a3f5f"
           }
          },
          "ternary": {
           "aaxis": {
            "gridcolor": "white",
            "linecolor": "white",
            "ticks": ""
           },
           "baxis": {
            "gridcolor": "white",
            "linecolor": "white",
            "ticks": ""
           },
           "bgcolor": "#E5ECF6",
           "caxis": {
            "gridcolor": "white",
            "linecolor": "white",
            "ticks": ""
           }
          },
          "title": {
           "x": 0.05
          },
          "xaxis": {
           "automargin": true,
           "gridcolor": "white",
           "linecolor": "white",
           "ticks": "",
           "title": {
            "standoff": 15
           },
           "zerolinecolor": "white",
           "zerolinewidth": 2
          },
          "yaxis": {
           "automargin": true,
           "gridcolor": "white",
           "linecolor": "white",
           "ticks": "",
           "title": {
            "standoff": 15
           },
           "zerolinecolor": "white",
           "zerolinewidth": 2
          }
         }
        },
        "title": {
         "text": "Country mentions in titles"
        },
        "width": 1100
       }
      }
     },
     "metadata": {},
     "output_type": "display_data"
    }
   ],
   "source": [
    "fig = px.choropleth(df_countries, locations='Country', locationmode='country names', color='Count', \n",
    "                    title='Country mentions in titles', color_continuous_scale='Viridis',\n",
    "                    width=1100, height=700) # Adjust the size of the map here\n",
    "\n",
    "# Display the map\n",
    "fig.show()"
   ]
  },
  {
   "cell_type": "code",
   "execution_count": 146,
   "metadata": {},
   "outputs": [],
   "source": [
    "df_countries.to_csv('countries.csv',index=False)"
   ]
  },
  {
   "attachments": {},
   "cell_type": "markdown",
   "metadata": {},
   "source": [
    "# NER analysis"
   ]
  },
  {
   "cell_type": "code",
   "execution_count": 147,
   "metadata": {},
   "outputs": [],
   "source": [
    "import spacy\n",
    "import nltk\n",
    "import ast\n",
    "from spacy.pipeline import EntityRecognizer"
   ]
  },
  {
   "cell_type": "code",
   "execution_count": 148,
   "metadata": {},
   "outputs": [
    {
     "name": "stderr",
     "output_type": "stream",
     "text": [
      "[nltk_data] Downloading package punkt to\n",
      "[nltk_data]     C:\\Users\\yaozk\\AppData\\Roaming\\nltk_data...\n",
      "[nltk_data]   Package punkt is already up-to-date!\n",
      "[nltk_data] Downloading package averaged_perceptron_tagger to\n",
      "[nltk_data]     C:\\Users\\yaozk\\AppData\\Roaming\\nltk_data...\n",
      "[nltk_data]   Package averaged_perceptron_tagger is already up-to-\n",
      "[nltk_data]       date!\n",
      "[nltk_data] Downloading package maxent_ne_chunker to\n",
      "[nltk_data]     C:\\Users\\yaozk\\AppData\\Roaming\\nltk_data...\n",
      "[nltk_data]   Package maxent_ne_chunker is already up-to-date!\n",
      "[nltk_data] Downloading package words to\n",
      "[nltk_data]     C:\\Users\\yaozk\\AppData\\Roaming\\nltk_data...\n",
      "[nltk_data]   Package words is already up-to-date!\n",
      "c:\\Users\\yaozk\\AppData\\Local\\Programs\\Python\\Python310\\lib\\site-packages\\spacy\\util.py:865: UserWarning:\n",
      "\n",
      "[W095] Model 'en_core_web_sm' (3.5.0) was trained with spaCy v3.5 and may not be 100% compatible with the current version (3.4.1). If you see errors or degraded performance, download a newer compatible model or retrain your custom model with the current spaCy version. For more details and available updates, run: python -m spacy validate\n",
      "\n"
     ]
    }
   ],
   "source": [
    "nltk.download('punkt')\n",
    "nltk.download('averaged_perceptron_tagger')\n",
    "nltk.download('maxent_ne_chunker')\n",
    "nltk.download('words')\n",
    "df = pd.read_csv('https://raw.githubusercontent.com/YusufAliOzkan/zotero-intelligence-bibliography/main/all_items.csv')\n",
    "nlp = spacy.load(\"en_core_web_sm\")\n",
    "ruler = nlp.add_pipe(\"entity_ruler\")\n",
    "patterns = [{\"label\": \"ORG\", \"pattern\": \"MI6\"}]\n",
    "ruler.add_patterns(patterns)"
   ]
  },
  {
   "cell_type": "code",
   "execution_count": 149,
   "metadata": {},
   "outputs": [],
   "source": [
    "def extract_entities(text):\n",
    "    doc = nlp(text)\n",
    "    orgs = []\n",
    "    gpes = []\n",
    "    people = []\n",
    "    for entity in doc.ents:\n",
    "        if entity.label_ == 'ORG':\n",
    "            orgs.append(entity.text)\n",
    "        elif entity.label_ == 'GPE':\n",
    "            gpes.append(entity.text)\n",
    "        elif entity.label_ == 'PERSON':\n",
    "            people.append(entity.text)\n",
    "    return pd.Series({'ORG': orgs, 'GPE': gpes, 'PERSON': people})"
   ]
  },
  {
   "cell_type": "code",
   "execution_count": 150,
   "metadata": {},
   "outputs": [],
   "source": [
    "df_title = df[['Title']].copy()\n",
    "df_title = df_title.rename(columns={'Title':'Text'})\n",
    "df_abstract = df[['Abstract']].copy()\n",
    "df_abstract = df_abstract.rename(columns={'Abstract':'Text'})\n",
    "df_one = pd.concat([df_title, df_abstract], ignore_index=True)\n",
    "df_one['Text'] = df_one['Text'].fillna('')"
   ]
  },
  {
   "cell_type": "code",
   "execution_count": 151,
   "metadata": {},
   "outputs": [],
   "source": [
    "df_one = pd.concat([df_one[['Text']], df_one['Text'].apply(extract_entities)], axis=1)\n",
    "df_one = df_one.explode('GPE').reset_index(drop=True)\n",
    "df_one = df_one.explode('ORG').reset_index(drop=True)\n",
    "df_one = df_one.explode('PERSON').reset_index(drop=True)"
   ]
  },
  {
   "cell_type": "code",
   "execution_count": 152,
   "metadata": {},
   "outputs": [
    {
     "data": {
      "text/html": [
       "<div>\n",
       "<style scoped>\n",
       "    .dataframe tbody tr th:only-of-type {\n",
       "        vertical-align: middle;\n",
       "    }\n",
       "\n",
       "    .dataframe tbody tr th {\n",
       "        vertical-align: top;\n",
       "    }\n",
       "\n",
       "    .dataframe thead th {\n",
       "        text-align: right;\n",
       "    }\n",
       "</style>\n",
       "<table border=\"1\" class=\"dataframe\">\n",
       "  <thead>\n",
       "    <tr style=\"text-align: right;\">\n",
       "      <th></th>\n",
       "      <th>GPE</th>\n",
       "      <th>count</th>\n",
       "    </tr>\n",
       "  </thead>\n",
       "  <tbody>\n",
       "    <tr>\n",
       "      <th>0</th>\n",
       "      <td>USA</td>\n",
       "      <td>1473</td>\n",
       "    </tr>\n",
       "    <tr>\n",
       "      <th>1</th>\n",
       "      <td>UK</td>\n",
       "      <td>759</td>\n",
       "    </tr>\n",
       "    <tr>\n",
       "      <th>2</th>\n",
       "      <td>Russia</td>\n",
       "      <td>557</td>\n",
       "    </tr>\n",
       "    <tr>\n",
       "      <th>3</th>\n",
       "      <td>Germany</td>\n",
       "      <td>229</td>\n",
       "    </tr>\n",
       "    <tr>\n",
       "      <th>4</th>\n",
       "      <td>Ukraine</td>\n",
       "      <td>225</td>\n",
       "    </tr>\n",
       "    <tr>\n",
       "      <th>5</th>\n",
       "      <td>Israel</td>\n",
       "      <td>185</td>\n",
       "    </tr>\n",
       "    <tr>\n",
       "      <th>6</th>\n",
       "      <td>China</td>\n",
       "      <td>173</td>\n",
       "    </tr>\n",
       "    <tr>\n",
       "      <th>7</th>\n",
       "      <td>France</td>\n",
       "      <td>153</td>\n",
       "    </tr>\n",
       "    <tr>\n",
       "      <th>8</th>\n",
       "      <td>Canada</td>\n",
       "      <td>148</td>\n",
       "    </tr>\n",
       "    <tr>\n",
       "      <th>9</th>\n",
       "      <td>Iraq</td>\n",
       "      <td>137</td>\n",
       "    </tr>\n",
       "    <tr>\n",
       "      <th>10</th>\n",
       "      <td>London</td>\n",
       "      <td>133</td>\n",
       "    </tr>\n",
       "    <tr>\n",
       "      <th>11</th>\n",
       "      <td>Australia</td>\n",
       "      <td>112</td>\n",
       "    </tr>\n",
       "    <tr>\n",
       "      <th>12</th>\n",
       "      <td>Moscow</td>\n",
       "      <td>103</td>\n",
       "    </tr>\n",
       "    <tr>\n",
       "      <th>13</th>\n",
       "      <td>Washington</td>\n",
       "      <td>101</td>\n",
       "    </tr>\n",
       "    <tr>\n",
       "      <th>14</th>\n",
       "      <td>Japan</td>\n",
       "      <td>98</td>\n",
       "    </tr>\n",
       "  </tbody>\n",
       "</table>\n",
       "</div>"
      ],
      "text/plain": [
       "           GPE  count\n",
       "0          USA   1473\n",
       "1           UK    759\n",
       "2       Russia    557\n",
       "3      Germany    229\n",
       "4      Ukraine    225\n",
       "5       Israel    185\n",
       "6        China    173\n",
       "7       France    153\n",
       "8       Canada    148\n",
       "9         Iraq    137\n",
       "10      London    133\n",
       "11   Australia    112\n",
       "12      Moscow    103\n",
       "13  Washington    101\n",
       "14       Japan     98"
      ]
     },
     "execution_count": 152,
     "metadata": {},
     "output_type": "execute_result"
    }
   ],
   "source": [
    "df_one_g = df_one.copy()\n",
    "df_one_g = df_one[['Text', 'GPE']]\n",
    "# df_one_g = df_one_g.fillna('')\n",
    "df_one_g = df_one_g.drop_duplicates(subset=['Text', 'GPE'])\n",
    "\n",
    "gpe_counts = df_one_g['GPE'].value_counts().reset_index()\n",
    "gpe_counts.columns = ['GPE', 'count']\n",
    "\n",
    "# pd.options.display.max_rows = None\n",
    "\n",
    "\n",
    "mapping_locations = {\n",
    "    'the United States': 'USA',\n",
    "    'The United States': 'USA',\n",
    "    'US': 'USA',\n",
    "    'U.S.': 'USA',\n",
    "    'United States' : 'USA',\n",
    "    'America' : 'USA',\n",
    "    'the United States of America' : 'USA',\n",
    "    'Britain' : 'UK',\n",
    "    'the United Kingdom': 'UK',\n",
    "    'U.K.' : 'UK',\n",
    "    'Global Britain' : 'UK',\n",
    "    'United Kingdom' : 'UK', \n",
    "    'the Soviet Union' : 'Russia',\n",
    "    'The Soviet Union' : 'Russia',\n",
    "    'USSR' : 'Russia',\n",
    "    'Ukraine - Perspective' : 'Ukraine',\n",
    "    'Ukrainian' : 'Ukraine',\n",
    "    'Great Britain' : 'UK',\n",
    "    'Ottoman Empire' : 'Turkey'\n",
    "}\n",
    "gpe_counts['GPE'] =gpe_counts['GPE'].replace(mapping_locations)\n",
    "gpe_counts = gpe_counts.groupby('GPE').sum().reset_index()\n",
    "gpe_counts.sort_values('count', ascending=False, inplace=True)\n",
    "gpe_counts = gpe_counts.reset_index(drop=True)\n",
    "gpe_counts.head(15)"
   ]
  },
  {
   "cell_type": "code",
   "execution_count": 153,
   "metadata": {},
   "outputs": [
    {
     "data": {
      "text/html": [
       "<div>\n",
       "<style scoped>\n",
       "    .dataframe tbody tr th:only-of-type {\n",
       "        vertical-align: middle;\n",
       "    }\n",
       "\n",
       "    .dataframe tbody tr th {\n",
       "        vertical-align: top;\n",
       "    }\n",
       "\n",
       "    .dataframe thead th {\n",
       "        text-align: right;\n",
       "    }\n",
       "</style>\n",
       "<table border=\"1\" class=\"dataframe\">\n",
       "  <thead>\n",
       "    <tr style=\"text-align: right;\">\n",
       "      <th></th>\n",
       "      <th>PERSON</th>\n",
       "      <th>count</th>\n",
       "    </tr>\n",
       "  </thead>\n",
       "  <tbody>\n",
       "    <tr>\n",
       "      <th>0</th>\n",
       "      <td>Adolf Hitler</td>\n",
       "      <td>89</td>\n",
       "    </tr>\n",
       "    <tr>\n",
       "      <th>1</th>\n",
       "      <td>Vladimir Putin</td>\n",
       "      <td>78</td>\n",
       "    </tr>\n",
       "    <tr>\n",
       "      <th>2</th>\n",
       "      <td>Winston Churchill</td>\n",
       "      <td>57</td>\n",
       "    </tr>\n",
       "    <tr>\n",
       "      <th>3</th>\n",
       "      <td>Andrew Hammond</td>\n",
       "      <td>53</td>\n",
       "    </tr>\n",
       "    <tr>\n",
       "      <th>4</th>\n",
       "      <td>Stalin</td>\n",
       "      <td>43</td>\n",
       "    </tr>\n",
       "    <tr>\n",
       "      <th>5</th>\n",
       "      <td>James Bond</td>\n",
       "      <td>30</td>\n",
       "    </tr>\n",
       "    <tr>\n",
       "      <th>6</th>\n",
       "      <td>Eisenhower</td>\n",
       "      <td>29</td>\n",
       "    </tr>\n",
       "    <tr>\n",
       "      <th>7</th>\n",
       "      <td>Bush</td>\n",
       "      <td>28</td>\n",
       "    </tr>\n",
       "    <tr>\n",
       "      <th>8</th>\n",
       "      <td>Mujibur Rahman</td>\n",
       "      <td>28</td>\n",
       "    </tr>\n",
       "    <tr>\n",
       "      <th>9</th>\n",
       "      <td>John le Carré</td>\n",
       "      <td>26</td>\n",
       "    </tr>\n",
       "    <tr>\n",
       "      <th>10</th>\n",
       "      <td>Andrew</td>\n",
       "      <td>20</td>\n",
       "    </tr>\n",
       "    <tr>\n",
       "      <th>11</th>\n",
       "      <td>Reagan</td>\n",
       "      <td>20</td>\n",
       "    </tr>\n",
       "    <tr>\n",
       "      <th>12</th>\n",
       "      <td>Kennedy</td>\n",
       "      <td>19</td>\n",
       "    </tr>\n",
       "    <tr>\n",
       "      <th>13</th>\n",
       "      <td>Brexit</td>\n",
       "      <td>18</td>\n",
       "    </tr>\n",
       "    <tr>\n",
       "      <th>14</th>\n",
       "      <td>Roosevelt</td>\n",
       "      <td>18</td>\n",
       "    </tr>\n",
       "  </tbody>\n",
       "</table>\n",
       "</div>"
      ],
      "text/plain": [
       "               PERSON  count\n",
       "0        Adolf Hitler     89\n",
       "1      Vladimir Putin     78\n",
       "2   Winston Churchill     57\n",
       "3      Andrew Hammond     53\n",
       "4              Stalin     43\n",
       "5          James Bond     30\n",
       "6          Eisenhower     29\n",
       "7                Bush     28\n",
       "8      Mujibur Rahman     28\n",
       "9       John le Carré     26\n",
       "10             Andrew     20\n",
       "11             Reagan     20\n",
       "12            Kennedy     19\n",
       "13             Brexit     18\n",
       "14          Roosevelt     18"
      ]
     },
     "execution_count": 153,
     "metadata": {},
     "output_type": "execute_result"
    }
   ],
   "source": [
    "df_one_p = df_one.copy()\n",
    "df_one_p = df_one[['Text', 'PERSON']]\n",
    "# df_one_p = df_one_g.fillna('')\n",
    "df_one_p = df_one_p.drop_duplicates(subset=['Text', 'PERSON'])\n",
    "\n",
    "person_counts = df_one_p['PERSON'].value_counts().reset_index()\n",
    "person_counts.columns = ['PERSON', 'count']\n",
    "\n",
    "mapping_person = {\n",
    "    'Putin' : 'Vladimir Putin',\n",
    "    'Vladimir Putin' : 'Vladimir Putin',\n",
    "    'Churchill' : 'Winston Churchill',\n",
    "    'Hitler' : 'Adolf Hitler',\n",
    "    'Biden' : 'Joe Biden',\n",
    "    \"John le Carré’s\" : \"John le Carré\"\n",
    "}\n",
    "\n",
    "person_counts['PERSON'] =person_counts['PERSON'].replace(mapping_person)\n",
    "person_counts = person_counts.groupby('PERSON').sum().reset_index()\n",
    "person_counts.sort_values('count', ascending=False, inplace=True)\n",
    "\n",
    "remove_person = ['MI6', 'Twitter', 'GRU'\n",
    "          ]\n",
    "person_counts = person_counts[~person_counts['PERSON'].isin(remove_person)]\n",
    "person_counts = person_counts.reset_index(drop=True)\n",
    "\n",
    "person_counts.head(15)"
   ]
  },
  {
   "cell_type": "code",
   "execution_count": 154,
   "metadata": {},
   "outputs": [
    {
     "data": {
      "text/html": [
       "<div>\n",
       "<style scoped>\n",
       "    .dataframe tbody tr th:only-of-type {\n",
       "        vertical-align: middle;\n",
       "    }\n",
       "\n",
       "    .dataframe tbody tr th {\n",
       "        vertical-align: top;\n",
       "    }\n",
       "\n",
       "    .dataframe thead th {\n",
       "        text-align: right;\n",
       "    }\n",
       "</style>\n",
       "<table border=\"1\" class=\"dataframe\">\n",
       "  <thead>\n",
       "    <tr style=\"text-align: right;\">\n",
       "      <th></th>\n",
       "      <th>ORG</th>\n",
       "      <th>count</th>\n",
       "    </tr>\n",
       "  </thead>\n",
       "  <tbody>\n",
       "    <tr>\n",
       "      <th>0</th>\n",
       "      <td>CIA</td>\n",
       "      <td>744</td>\n",
       "    </tr>\n",
       "    <tr>\n",
       "      <th>1</th>\n",
       "      <td>KGB</td>\n",
       "      <td>151</td>\n",
       "    </tr>\n",
       "    <tr>\n",
       "      <th>2</th>\n",
       "      <td>FBI</td>\n",
       "      <td>108</td>\n",
       "    </tr>\n",
       "    <tr>\n",
       "      <th>3</th>\n",
       "      <td>Allied</td>\n",
       "      <td>104</td>\n",
       "    </tr>\n",
       "    <tr>\n",
       "      <th>4</th>\n",
       "      <td>Congress</td>\n",
       "      <td>79</td>\n",
       "    </tr>\n",
       "    <tr>\n",
       "      <th>5</th>\n",
       "      <td>SIS</td>\n",
       "      <td>69</td>\n",
       "    </tr>\n",
       "    <tr>\n",
       "      <th>6</th>\n",
       "      <td>SOE</td>\n",
       "      <td>67</td>\n",
       "    </tr>\n",
       "    <tr>\n",
       "      <th>7</th>\n",
       "      <td>the Intelligence Community</td>\n",
       "      <td>65</td>\n",
       "    </tr>\n",
       "    <tr>\n",
       "      <th>8</th>\n",
       "      <td>NATO</td>\n",
       "      <td>65</td>\n",
       "    </tr>\n",
       "    <tr>\n",
       "      <th>9</th>\n",
       "      <td>EU</td>\n",
       "      <td>58</td>\n",
       "    </tr>\n",
       "    <tr>\n",
       "      <th>10</th>\n",
       "      <td>OSS</td>\n",
       "      <td>56</td>\n",
       "    </tr>\n",
       "    <tr>\n",
       "      <th>11</th>\n",
       "      <td>NSA</td>\n",
       "      <td>48</td>\n",
       "    </tr>\n",
       "    <tr>\n",
       "      <th>12</th>\n",
       "      <td>British Intelligence</td>\n",
       "      <td>48</td>\n",
       "    </tr>\n",
       "    <tr>\n",
       "      <th>13</th>\n",
       "      <td>AI</td>\n",
       "      <td>44</td>\n",
       "    </tr>\n",
       "    <tr>\n",
       "      <th>14</th>\n",
       "      <td>Hamas</td>\n",
       "      <td>40</td>\n",
       "    </tr>\n",
       "  </tbody>\n",
       "</table>\n",
       "</div>"
      ],
      "text/plain": [
       "                           ORG  count\n",
       "0                          CIA    744\n",
       "1                          KGB    151\n",
       "2                          FBI    108\n",
       "3                       Allied    104\n",
       "4                     Congress     79\n",
       "5                          SIS     69\n",
       "6                          SOE     67\n",
       "7   the Intelligence Community     65\n",
       "8                         NATO     65\n",
       "9                           EU     58\n",
       "10                         OSS     56\n",
       "11                         NSA     48\n",
       "12        British Intelligence     48\n",
       "13                          AI     44\n",
       "14                       Hamas     40"
      ]
     },
     "execution_count": 154,
     "metadata": {},
     "output_type": "execute_result"
    }
   ],
   "source": [
    "df_one_o = df_one.copy()\n",
    "df_one_o = df_one[['Text', 'ORG']]\n",
    "# df_one_p = df_one_g.fillna('')\n",
    "df_one_o = df_one_o.drop_duplicates(subset=['Text', 'ORG'])\n",
    "\n",
    "org_counts = df_one_o['ORG'].value_counts().reset_index()\n",
    "org_counts.columns = ['ORG', 'count']\n",
    "\n",
    "mapping_organisations = {\n",
    "    'The British Secret Intelligence Service' : 'SIS',\n",
    "    'the British Secret Intelligence Service' : 'SIS',\n",
    "    'The Joint Intelligence Committee' : 'Joint Intelligence Committee',\n",
    "    'the Joint Intelligence Committee' : 'Joint Intelligence Committee',\n",
    "    'Joint Intelligence Committee' : 'Joint Intelligence Committee',\n",
    "    'the Joint Intelligence Committee - History' : 'Joint Intelligence Committee',\n",
    "    'Central Intelligence Agency' : 'CIA',\n",
    "    'the Central Intelligence Agency' : 'CIA',\n",
    "    'the Foreign Office' : 'Foreign Office',\n",
    "    'Schar School' : 'Schar School of Policy and Government',\n",
    "    'the Secret Intelligence Service' : 'SIS',\n",
    "    \"George Mason University's\" : \"George Mason University\",\n",
    "    'JIC' : 'Joint Intelligence Committee'\n",
    "}\n",
    "org_counts['ORG'] =org_counts['ORG'].replace(mapping_organisations)\n",
    "org_counts = org_counts.groupby('ORG').sum().reset_index()\n",
    "org_counts.sort_values('count', ascending=False, inplace=True)\n",
    "\n",
    "remove_orgs = ['Intelligence', 'Kremlin', 'Ultra', 'International Security', 'Intelligence Studies', 'Intelligence Analysis', 'OSINT']\n",
    "org_counts = org_counts[~org_counts['ORG'].isin(remove_orgs)]\n",
    "org_counts = org_counts.reset_index(drop=True)\n",
    "\n",
    "org_counts.head(15)"
   ]
  },
  {
   "cell_type": "code",
   "execution_count": 155,
   "metadata": {},
   "outputs": [],
   "source": [
    "gpe_counts.head(15).to_csv('gpe.csv')\n",
    "person_counts.head(15).to_csv('person.csv')\n",
    "org_counts.head(15).to_csv('org.csv')"
   ]
  },
  {
   "cell_type": "code",
   "execution_count": 156,
   "metadata": {},
   "outputs": [
    {
     "data": {
      "text/html": [
       "<div>\n",
       "<style scoped>\n",
       "    .dataframe tbody tr th:only-of-type {\n",
       "        vertical-align: middle;\n",
       "    }\n",
       "\n",
       "    .dataframe tbody tr th {\n",
       "        vertical-align: top;\n",
       "    }\n",
       "\n",
       "    .dataframe thead th {\n",
       "        text-align: right;\n",
       "    }\n",
       "</style>\n",
       "<table border=\"1\" class=\"dataframe\">\n",
       "  <thead>\n",
       "    <tr style=\"text-align: right;\">\n",
       "      <th></th>\n",
       "      <th>Unnamed: 0</th>\n",
       "      <th>Title</th>\n",
       "      <th>Publication type</th>\n",
       "      <th>Link to publication</th>\n",
       "      <th>Abstract</th>\n",
       "      <th>Zotero link</th>\n",
       "      <th>Date published</th>\n",
       "      <th>FirstName2</th>\n",
       "      <th>Publisher</th>\n",
       "      <th>Journal</th>\n",
       "      <th>Date added</th>\n",
       "      <th>Col key</th>\n",
       "      <th>DOI</th>\n",
       "      <th>Book_title</th>\n",
       "      <th>Thesis_type</th>\n",
       "      <th>University</th>\n",
       "    </tr>\n",
       "  </thead>\n",
       "  <tbody>\n",
       "    <tr>\n",
       "      <th>0</th>\n",
       "      <td>0</td>\n",
       "      <td>Post-Cold War Russian Revisionism and Conspira...</td>\n",
       "      <td>Thesis</td>\n",
       "      <td>http://jhir.library.jhu.edu/handle/1774.2/62090</td>\n",
       "      <td>The purpose of this research study is to draw ...</td>\n",
       "      <td>https://www.zotero.org/groups/intelligence_bib...</td>\n",
       "      <td>2019-08-29</td>\n",
       "      <td>Trina Marie Scheie</td>\n",
       "      <td>NaN</td>\n",
       "      <td>NaN</td>\n",
       "      <td>2024-07-01T14:08:00Z</td>\n",
       "      <td>['WHBCJ8GW']</td>\n",
       "      <td>NaN</td>\n",
       "      <td>NaN</td>\n",
       "      <td>MA Thesis</td>\n",
       "      <td>Johns Hopkins University</td>\n",
       "    </tr>\n",
       "    <tr>\n",
       "      <th>1</th>\n",
       "      <td>1</td>\n",
       "      <td>The Birth of Psychological War: Propaganda, Es...</td>\n",
       "      <td>Book</td>\n",
       "      <td>https://global.oup.com/academic/product/the-bi...</td>\n",
       "      <td>The Birth of Psychological War explores the hi...</td>\n",
       "      <td>https://www.zotero.org/groups/intelligence_bib...</td>\n",
       "      <td>2023-07-19</td>\n",
       "      <td>Jeffrey Whyte</td>\n",
       "      <td>Oxford University Press</td>\n",
       "      <td>NaN</td>\n",
       "      <td>2024-07-01T14:16:27Z</td>\n",
       "      <td>['CZT6L9T7', 'SCCGXHMZ', 'BHVIFBRH']</td>\n",
       "      <td>NaN</td>\n",
       "      <td>NaN</td>\n",
       "      <td>NaN</td>\n",
       "      <td>NaN</td>\n",
       "    </tr>\n",
       "    <tr>\n",
       "      <th>2</th>\n",
       "      <td>2</td>\n",
       "      <td>“A Serpent, in the Shape of a Spy”</td>\n",
       "      <td>Book chapter</td>\n",
       "      <td>https://doi.org/10.1093/oso/9780197628591.003....</td>\n",
       "      <td>In 1811 and 1812, former British spy John Henr...</td>\n",
       "      <td>https://www.zotero.org/groups/intelligence_bib...</td>\n",
       "      <td>2024-07-01</td>\n",
       "      <td>Tyson Reeder</td>\n",
       "      <td>Oxford University Press</td>\n",
       "      <td>NaN</td>\n",
       "      <td>2024-07-01T14:16:01Z</td>\n",
       "      <td>['9DTPTK46']</td>\n",
       "      <td>NaN</td>\n",
       "      <td>Serpent in Eden: Foreign Meddling and Partisan...</td>\n",
       "      <td>NaN</td>\n",
       "      <td>NaN</td>\n",
       "    </tr>\n",
       "    <tr>\n",
       "      <th>3</th>\n",
       "      <td>3</td>\n",
       "      <td>Cuba's Nation Brand: War and Intelligence in t...</td>\n",
       "      <td>Thesis</td>\n",
       "      <td>http://jhir.library.jhu.edu/handle/1774.2/63471</td>\n",
       "      <td>The use of notable public intellectuals as opi...</td>\n",
       "      <td>https://www.zotero.org/groups/intelligence_bib...</td>\n",
       "      <td>2020-06-19</td>\n",
       "      <td>Alfredo Cumerma</td>\n",
       "      <td>NaN</td>\n",
       "      <td>NaN</td>\n",
       "      <td>2024-07-01T14:08:26Z</td>\n",
       "      <td>['WHBCJ8GW']</td>\n",
       "      <td>NaN</td>\n",
       "      <td>NaN</td>\n",
       "      <td>PhD Thesis</td>\n",
       "      <td>Johns Hopkins University</td>\n",
       "    </tr>\n",
       "    <tr>\n",
       "      <th>4</th>\n",
       "      <td>4</td>\n",
       "      <td>The Missing Piece: Why Intelligence Reform Fai...</td>\n",
       "      <td>Thesis</td>\n",
       "      <td>https://repository.library.georgetown.edu/hand...</td>\n",
       "      <td>On September 11, 2001, the U.S. government fai...</td>\n",
       "      <td>https://www.zotero.org/groups/intelligence_bib...</td>\n",
       "      <td>2008</td>\n",
       "      <td>Catherine Lotrionte</td>\n",
       "      <td>NaN</td>\n",
       "      <td>NaN</td>\n",
       "      <td>2024-07-01T08:30:59Z</td>\n",
       "      <td>['D7XFV7JL', '7R9UG9WU']</td>\n",
       "      <td>NaN</td>\n",
       "      <td>NaN</td>\n",
       "      <td>MA Thesis</td>\n",
       "      <td>Georgetown University</td>\n",
       "    </tr>\n",
       "    <tr>\n",
       "      <th>...</th>\n",
       "      <td>...</td>\n",
       "      <td>...</td>\n",
       "      <td>...</td>\n",
       "      <td>...</td>\n",
       "      <td>...</td>\n",
       "      <td>...</td>\n",
       "      <td>...</td>\n",
       "      <td>...</td>\n",
       "      <td>...</td>\n",
       "      <td>...</td>\n",
       "      <td>...</td>\n",
       "      <td>...</td>\n",
       "      <td>...</td>\n",
       "      <td>...</td>\n",
       "      <td>...</td>\n",
       "      <td>...</td>\n",
       "    </tr>\n",
       "    <tr>\n",
       "      <th>6996</th>\n",
       "      <td>6996</td>\n",
       "      <td>The Uses and Limits of Intelligence</td>\n",
       "      <td>Book</td>\n",
       "      <td>https://doi.org/10.4324/9781351302128</td>\n",
       "      <td>NaN</td>\n",
       "      <td>https://www.zotero.org/groups/intelligence_bib...</td>\n",
       "      <td>2017</td>\n",
       "      <td>Walter Laqueur</td>\n",
       "      <td>Routledge</td>\n",
       "      <td>NaN</td>\n",
       "      <td>2020-06-05T10:17:21Z</td>\n",
       "      <td>['HCN8YFI8', 'DVEM4H4W']</td>\n",
       "      <td>NaN</td>\n",
       "      <td>NaN</td>\n",
       "      <td>NaN</td>\n",
       "      <td>NaN</td>\n",
       "    </tr>\n",
       "    <tr>\n",
       "      <th>6997</th>\n",
       "      <td>6997</td>\n",
       "      <td>Analyzing Intelligence: Origins, Obstacles, an...</td>\n",
       "      <td>Book</td>\n",
       "      <td>NaN</td>\n",
       "      <td>NaN</td>\n",
       "      <td>https://www.zotero.org/groups/intelligence_bib...</td>\n",
       "      <td>2008</td>\n",
       "      <td>Roger Z. George, James B. Bruce</td>\n",
       "      <td>Georgetown University Press</td>\n",
       "      <td>NaN</td>\n",
       "      <td>2020-06-05T10:17:21Z</td>\n",
       "      <td>['HCN8YFI8']</td>\n",
       "      <td>NaN</td>\n",
       "      <td>NaN</td>\n",
       "      <td>NaN</td>\n",
       "      <td>NaN</td>\n",
       "    </tr>\n",
       "    <tr>\n",
       "      <th>6998</th>\n",
       "      <td>6998</td>\n",
       "      <td>Intelligence Services in the Information Age</td>\n",
       "      <td>Book</td>\n",
       "      <td>https://doi.org/10.4324/9780203479667</td>\n",
       "      <td>NaN</td>\n",
       "      <td>https://www.zotero.org/groups/intelligence_bib...</td>\n",
       "      <td>2013</td>\n",
       "      <td>Michael Herman</td>\n",
       "      <td>Routledge</td>\n",
       "      <td>NaN</td>\n",
       "      <td>2020-06-05T10:17:21Z</td>\n",
       "      <td>['HCN8YFI8']</td>\n",
       "      <td>NaN</td>\n",
       "      <td>NaN</td>\n",
       "      <td>NaN</td>\n",
       "      <td>NaN</td>\n",
       "    </tr>\n",
       "    <tr>\n",
       "      <th>6999</th>\n",
       "      <td>6999</td>\n",
       "      <td>Intelligence and Government in Britain and the...</td>\n",
       "      <td>Book</td>\n",
       "      <td>NaN</td>\n",
       "      <td>NaN</td>\n",
       "      <td>https://www.zotero.org/groups/intelligence_bib...</td>\n",
       "      <td>2012</td>\n",
       "      <td>Philip H.J. Davies</td>\n",
       "      <td>Praeger</td>\n",
       "      <td>NaN</td>\n",
       "      <td>2020-06-05T10:17:21Z</td>\n",
       "      <td>['HCN8YFI8', 'DVEM4H4W']</td>\n",
       "      <td>NaN</td>\n",
       "      <td>NaN</td>\n",
       "      <td>NaN</td>\n",
       "      <td>NaN</td>\n",
       "    </tr>\n",
       "    <tr>\n",
       "      <th>7000</th>\n",
       "      <td>7000</td>\n",
       "      <td>Intelligence and Government in Britain and the...</td>\n",
       "      <td>Book</td>\n",
       "      <td>NaN</td>\n",
       "      <td>NaN</td>\n",
       "      <td>https://www.zotero.org/groups/intelligence_bib...</td>\n",
       "      <td>2012</td>\n",
       "      <td>Philip H.J. Davies</td>\n",
       "      <td>Praeger</td>\n",
       "      <td>NaN</td>\n",
       "      <td>2020-06-05T10:17:21Z</td>\n",
       "      <td>['HCN8YFI8', 'DVEM4H4W']</td>\n",
       "      <td>NaN</td>\n",
       "      <td>NaN</td>\n",
       "      <td>NaN</td>\n",
       "      <td>NaN</td>\n",
       "    </tr>\n",
       "  </tbody>\n",
       "</table>\n",
       "<p>7001 rows × 16 columns</p>\n",
       "</div>"
      ],
      "text/plain": [
       "      Unnamed: 0                                              Title  \\\n",
       "0              0  Post-Cold War Russian Revisionism and Conspira...   \n",
       "1              1  The Birth of Psychological War: Propaganda, Es...   \n",
       "2              2                 “A Serpent, in the Shape of a Spy”   \n",
       "3              3  Cuba's Nation Brand: War and Intelligence in t...   \n",
       "4              4  The Missing Piece: Why Intelligence Reform Fai...   \n",
       "...          ...                                                ...   \n",
       "6996        6996                The Uses and Limits of Intelligence   \n",
       "6997        6997  Analyzing Intelligence: Origins, Obstacles, an...   \n",
       "6998        6998       Intelligence Services in the Information Age   \n",
       "6999        6999  Intelligence and Government in Britain and the...   \n",
       "7000        7000  Intelligence and Government in Britain and the...   \n",
       "\n",
       "     Publication type                                Link to publication  \\\n",
       "0              Thesis    http://jhir.library.jhu.edu/handle/1774.2/62090   \n",
       "1                Book  https://global.oup.com/academic/product/the-bi...   \n",
       "2        Book chapter  https://doi.org/10.1093/oso/9780197628591.003....   \n",
       "3              Thesis    http://jhir.library.jhu.edu/handle/1774.2/63471   \n",
       "4              Thesis  https://repository.library.georgetown.edu/hand...   \n",
       "...               ...                                                ...   \n",
       "6996             Book              https://doi.org/10.4324/9781351302128   \n",
       "6997             Book                                                NaN   \n",
       "6998             Book              https://doi.org/10.4324/9780203479667   \n",
       "6999             Book                                                NaN   \n",
       "7000             Book                                                NaN   \n",
       "\n",
       "                                               Abstract  \\\n",
       "0     The purpose of this research study is to draw ...   \n",
       "1     The Birth of Psychological War explores the hi...   \n",
       "2     In 1811 and 1812, former British spy John Henr...   \n",
       "3     The use of notable public intellectuals as opi...   \n",
       "4     On September 11, 2001, the U.S. government fai...   \n",
       "...                                                 ...   \n",
       "6996                                                NaN   \n",
       "6997                                                NaN   \n",
       "6998                                                NaN   \n",
       "6999                                                NaN   \n",
       "7000                                                NaN   \n",
       "\n",
       "                                            Zotero link Date published  \\\n",
       "0     https://www.zotero.org/groups/intelligence_bib...     2019-08-29   \n",
       "1     https://www.zotero.org/groups/intelligence_bib...     2023-07-19   \n",
       "2     https://www.zotero.org/groups/intelligence_bib...     2024-07-01   \n",
       "3     https://www.zotero.org/groups/intelligence_bib...     2020-06-19   \n",
       "4     https://www.zotero.org/groups/intelligence_bib...           2008   \n",
       "...                                                 ...            ...   \n",
       "6996  https://www.zotero.org/groups/intelligence_bib...           2017   \n",
       "6997  https://www.zotero.org/groups/intelligence_bib...           2008   \n",
       "6998  https://www.zotero.org/groups/intelligence_bib...           2013   \n",
       "6999  https://www.zotero.org/groups/intelligence_bib...           2012   \n",
       "7000  https://www.zotero.org/groups/intelligence_bib...           2012   \n",
       "\n",
       "                           FirstName2                    Publisher Journal  \\\n",
       "0                  Trina Marie Scheie                          NaN     NaN   \n",
       "1                       Jeffrey Whyte      Oxford University Press     NaN   \n",
       "2                        Tyson Reeder      Oxford University Press     NaN   \n",
       "3                     Alfredo Cumerma                          NaN     NaN   \n",
       "4                 Catherine Lotrionte                          NaN     NaN   \n",
       "...                               ...                          ...     ...   \n",
       "6996                   Walter Laqueur                    Routledge     NaN   \n",
       "6997  Roger Z. George, James B. Bruce  Georgetown University Press     NaN   \n",
       "6998                   Michael Herman                    Routledge     NaN   \n",
       "6999               Philip H.J. Davies                      Praeger     NaN   \n",
       "7000               Philip H.J. Davies                      Praeger     NaN   \n",
       "\n",
       "                Date added                               Col key  DOI  \\\n",
       "0     2024-07-01T14:08:00Z                          ['WHBCJ8GW']  NaN   \n",
       "1     2024-07-01T14:16:27Z  ['CZT6L9T7', 'SCCGXHMZ', 'BHVIFBRH']  NaN   \n",
       "2     2024-07-01T14:16:01Z                          ['9DTPTK46']  NaN   \n",
       "3     2024-07-01T14:08:26Z                          ['WHBCJ8GW']  NaN   \n",
       "4     2024-07-01T08:30:59Z              ['D7XFV7JL', '7R9UG9WU']  NaN   \n",
       "...                    ...                                   ...  ...   \n",
       "6996  2020-06-05T10:17:21Z              ['HCN8YFI8', 'DVEM4H4W']  NaN   \n",
       "6997  2020-06-05T10:17:21Z                          ['HCN8YFI8']  NaN   \n",
       "6998  2020-06-05T10:17:21Z                          ['HCN8YFI8']  NaN   \n",
       "6999  2020-06-05T10:17:21Z              ['HCN8YFI8', 'DVEM4H4W']  NaN   \n",
       "7000  2020-06-05T10:17:21Z              ['HCN8YFI8', 'DVEM4H4W']  NaN   \n",
       "\n",
       "                                             Book_title Thesis_type  \\\n",
       "0                                                   NaN   MA Thesis   \n",
       "1                                                   NaN         NaN   \n",
       "2     Serpent in Eden: Foreign Meddling and Partisan...         NaN   \n",
       "3                                                   NaN  PhD Thesis   \n",
       "4                                                   NaN   MA Thesis   \n",
       "...                                                 ...         ...   \n",
       "6996                                                NaN         NaN   \n",
       "6997                                                NaN         NaN   \n",
       "6998                                                NaN         NaN   \n",
       "6999                                                NaN         NaN   \n",
       "7000                                                NaN         NaN   \n",
       "\n",
       "                    University  \n",
       "0     Johns Hopkins University  \n",
       "1                          NaN  \n",
       "2                          NaN  \n",
       "3     Johns Hopkins University  \n",
       "4        Georgetown University  \n",
       "...                        ...  \n",
       "6996                       NaN  \n",
       "6997                       NaN  \n",
       "6998                       NaN  \n",
       "6999                       NaN  \n",
       "7000                       NaN  \n",
       "\n",
       "[7001 rows x 16 columns]"
      ]
     },
     "execution_count": 156,
     "metadata": {},
     "output_type": "execute_result"
    }
   ],
   "source": [
    "test = pd.read_csv('all_items.csv')\n",
    "test"
   ]
  },
  {
   "cell_type": "markdown",
   "metadata": {},
   "source": [
    "# Retrieving citation count and open access status"
   ]
  },
  {
   "cell_type": "code",
   "execution_count": 157,
   "metadata": {},
   "outputs": [
    {
     "name": "stdout",
     "output_type": "stream",
     "text": [
      "This part will be refreshed every Wednesday!\n"
     ]
    },
    {
     "data": {
      "text/html": [
       "<div>\n",
       "<style scoped>\n",
       "    .dataframe tbody tr th:only-of-type {\n",
       "        vertical-align: middle;\n",
       "    }\n",
       "\n",
       "    .dataframe tbody tr th {\n",
       "        vertical-align: top;\n",
       "    }\n",
       "\n",
       "    .dataframe thead th {\n",
       "        text-align: right;\n",
       "    }\n",
       "</style>\n",
       "<table border=\"1\" class=\"dataframe\">\n",
       "  <thead>\n",
       "    <tr style=\"text-align: right;\">\n",
       "      <th></th>\n",
       "      <th>Unnamed: 0</th>\n",
       "      <th>Title</th>\n",
       "      <th>Publication type</th>\n",
       "      <th>Link to publication</th>\n",
       "      <th>Abstract</th>\n",
       "      <th>Zotero link</th>\n",
       "      <th>Date published</th>\n",
       "      <th>FirstName2</th>\n",
       "      <th>Publisher</th>\n",
       "      <th>Journal</th>\n",
       "      <th>Date added</th>\n",
       "      <th>Col key</th>\n",
       "      <th>DOI</th>\n",
       "      <th>Book_title</th>\n",
       "      <th>Thesis_type</th>\n",
       "      <th>University</th>\n",
       "    </tr>\n",
       "  </thead>\n",
       "  <tbody>\n",
       "    <tr>\n",
       "      <th>0</th>\n",
       "      <td>0</td>\n",
       "      <td>Post-Cold War Russian Revisionism and Conspira...</td>\n",
       "      <td>Thesis</td>\n",
       "      <td>http://jhir.library.jhu.edu/handle/1774.2/62090</td>\n",
       "      <td>The purpose of this research study is to draw ...</td>\n",
       "      <td>https://www.zotero.org/groups/intelligence_bib...</td>\n",
       "      <td>2019-08-29</td>\n",
       "      <td>Trina Marie Scheie</td>\n",
       "      <td>NaN</td>\n",
       "      <td>NaN</td>\n",
       "      <td>2024-07-01T14:08:00Z</td>\n",
       "      <td>['WHBCJ8GW']</td>\n",
       "      <td>NaN</td>\n",
       "      <td>NaN</td>\n",
       "      <td>MA Thesis</td>\n",
       "      <td>Johns Hopkins University</td>\n",
       "    </tr>\n",
       "    <tr>\n",
       "      <th>1</th>\n",
       "      <td>1</td>\n",
       "      <td>The Birth of Psychological War: Propaganda, Es...</td>\n",
       "      <td>Book</td>\n",
       "      <td>https://global.oup.com/academic/product/the-bi...</td>\n",
       "      <td>The Birth of Psychological War explores the hi...</td>\n",
       "      <td>https://www.zotero.org/groups/intelligence_bib...</td>\n",
       "      <td>2023-07-19</td>\n",
       "      <td>Jeffrey Whyte</td>\n",
       "      <td>Oxford University Press</td>\n",
       "      <td>NaN</td>\n",
       "      <td>2024-07-01T14:16:27Z</td>\n",
       "      <td>['CZT6L9T7', 'SCCGXHMZ', 'BHVIFBRH']</td>\n",
       "      <td>NaN</td>\n",
       "      <td>NaN</td>\n",
       "      <td>NaN</td>\n",
       "      <td>NaN</td>\n",
       "    </tr>\n",
       "    <tr>\n",
       "      <th>2</th>\n",
       "      <td>2</td>\n",
       "      <td>“A Serpent, in the Shape of a Spy”</td>\n",
       "      <td>Book chapter</td>\n",
       "      <td>https://doi.org/10.1093/oso/9780197628591.003....</td>\n",
       "      <td>In 1811 and 1812, former British spy John Henr...</td>\n",
       "      <td>https://www.zotero.org/groups/intelligence_bib...</td>\n",
       "      <td>2024-07-01</td>\n",
       "      <td>Tyson Reeder</td>\n",
       "      <td>Oxford University Press</td>\n",
       "      <td>NaN</td>\n",
       "      <td>2024-07-01T14:16:01Z</td>\n",
       "      <td>['9DTPTK46']</td>\n",
       "      <td>NaN</td>\n",
       "      <td>Serpent in Eden: Foreign Meddling and Partisan...</td>\n",
       "      <td>NaN</td>\n",
       "      <td>NaN</td>\n",
       "    </tr>\n",
       "    <tr>\n",
       "      <th>3</th>\n",
       "      <td>3</td>\n",
       "      <td>Cuba's Nation Brand: War and Intelligence in t...</td>\n",
       "      <td>Thesis</td>\n",
       "      <td>http://jhir.library.jhu.edu/handle/1774.2/63471</td>\n",
       "      <td>The use of notable public intellectuals as opi...</td>\n",
       "      <td>https://www.zotero.org/groups/intelligence_bib...</td>\n",
       "      <td>2020-06-19</td>\n",
       "      <td>Alfredo Cumerma</td>\n",
       "      <td>NaN</td>\n",
       "      <td>NaN</td>\n",
       "      <td>2024-07-01T14:08:26Z</td>\n",
       "      <td>['WHBCJ8GW']</td>\n",
       "      <td>NaN</td>\n",
       "      <td>NaN</td>\n",
       "      <td>PhD Thesis</td>\n",
       "      <td>Johns Hopkins University</td>\n",
       "    </tr>\n",
       "    <tr>\n",
       "      <th>4</th>\n",
       "      <td>4</td>\n",
       "      <td>The Missing Piece: Why Intelligence Reform Fai...</td>\n",
       "      <td>Thesis</td>\n",
       "      <td>https://repository.library.georgetown.edu/hand...</td>\n",
       "      <td>On September 11, 2001, the U.S. government fai...</td>\n",
       "      <td>https://www.zotero.org/groups/intelligence_bib...</td>\n",
       "      <td>2008</td>\n",
       "      <td>Catherine Lotrionte</td>\n",
       "      <td>NaN</td>\n",
       "      <td>NaN</td>\n",
       "      <td>2024-07-01T08:30:59Z</td>\n",
       "      <td>['D7XFV7JL', '7R9UG9WU']</td>\n",
       "      <td>NaN</td>\n",
       "      <td>NaN</td>\n",
       "      <td>MA Thesis</td>\n",
       "      <td>Georgetown University</td>\n",
       "    </tr>\n",
       "    <tr>\n",
       "      <th>...</th>\n",
       "      <td>...</td>\n",
       "      <td>...</td>\n",
       "      <td>...</td>\n",
       "      <td>...</td>\n",
       "      <td>...</td>\n",
       "      <td>...</td>\n",
       "      <td>...</td>\n",
       "      <td>...</td>\n",
       "      <td>...</td>\n",
       "      <td>...</td>\n",
       "      <td>...</td>\n",
       "      <td>...</td>\n",
       "      <td>...</td>\n",
       "      <td>...</td>\n",
       "      <td>...</td>\n",
       "      <td>...</td>\n",
       "    </tr>\n",
       "    <tr>\n",
       "      <th>6996</th>\n",
       "      <td>6996</td>\n",
       "      <td>The Uses and Limits of Intelligence</td>\n",
       "      <td>Book</td>\n",
       "      <td>https://doi.org/10.4324/9781351302128</td>\n",
       "      <td>NaN</td>\n",
       "      <td>https://www.zotero.org/groups/intelligence_bib...</td>\n",
       "      <td>2017</td>\n",
       "      <td>Walter Laqueur</td>\n",
       "      <td>Routledge</td>\n",
       "      <td>NaN</td>\n",
       "      <td>2020-06-05T10:17:21Z</td>\n",
       "      <td>['HCN8YFI8', 'DVEM4H4W']</td>\n",
       "      <td>NaN</td>\n",
       "      <td>NaN</td>\n",
       "      <td>NaN</td>\n",
       "      <td>NaN</td>\n",
       "    </tr>\n",
       "    <tr>\n",
       "      <th>6997</th>\n",
       "      <td>6997</td>\n",
       "      <td>Analyzing Intelligence: Origins, Obstacles, an...</td>\n",
       "      <td>Book</td>\n",
       "      <td>NaN</td>\n",
       "      <td>NaN</td>\n",
       "      <td>https://www.zotero.org/groups/intelligence_bib...</td>\n",
       "      <td>2008</td>\n",
       "      <td>Roger Z. George, James B. Bruce</td>\n",
       "      <td>Georgetown University Press</td>\n",
       "      <td>NaN</td>\n",
       "      <td>2020-06-05T10:17:21Z</td>\n",
       "      <td>['HCN8YFI8']</td>\n",
       "      <td>NaN</td>\n",
       "      <td>NaN</td>\n",
       "      <td>NaN</td>\n",
       "      <td>NaN</td>\n",
       "    </tr>\n",
       "    <tr>\n",
       "      <th>6998</th>\n",
       "      <td>6998</td>\n",
       "      <td>Intelligence Services in the Information Age</td>\n",
       "      <td>Book</td>\n",
       "      <td>https://doi.org/10.4324/9780203479667</td>\n",
       "      <td>NaN</td>\n",
       "      <td>https://www.zotero.org/groups/intelligence_bib...</td>\n",
       "      <td>2013</td>\n",
       "      <td>Michael Herman</td>\n",
       "      <td>Routledge</td>\n",
       "      <td>NaN</td>\n",
       "      <td>2020-06-05T10:17:21Z</td>\n",
       "      <td>['HCN8YFI8']</td>\n",
       "      <td>NaN</td>\n",
       "      <td>NaN</td>\n",
       "      <td>NaN</td>\n",
       "      <td>NaN</td>\n",
       "    </tr>\n",
       "    <tr>\n",
       "      <th>6999</th>\n",
       "      <td>6999</td>\n",
       "      <td>Intelligence and Government in Britain and the...</td>\n",
       "      <td>Book</td>\n",
       "      <td>NaN</td>\n",
       "      <td>NaN</td>\n",
       "      <td>https://www.zotero.org/groups/intelligence_bib...</td>\n",
       "      <td>2012</td>\n",
       "      <td>Philip H.J. Davies</td>\n",
       "      <td>Praeger</td>\n",
       "      <td>NaN</td>\n",
       "      <td>2020-06-05T10:17:21Z</td>\n",
       "      <td>['HCN8YFI8', 'DVEM4H4W']</td>\n",
       "      <td>NaN</td>\n",
       "      <td>NaN</td>\n",
       "      <td>NaN</td>\n",
       "      <td>NaN</td>\n",
       "    </tr>\n",
       "    <tr>\n",
       "      <th>7000</th>\n",
       "      <td>7000</td>\n",
       "      <td>Intelligence and Government in Britain and the...</td>\n",
       "      <td>Book</td>\n",
       "      <td>NaN</td>\n",
       "      <td>NaN</td>\n",
       "      <td>https://www.zotero.org/groups/intelligence_bib...</td>\n",
       "      <td>2012</td>\n",
       "      <td>Philip H.J. Davies</td>\n",
       "      <td>Praeger</td>\n",
       "      <td>NaN</td>\n",
       "      <td>2020-06-05T10:17:21Z</td>\n",
       "      <td>['HCN8YFI8', 'DVEM4H4W']</td>\n",
       "      <td>NaN</td>\n",
       "      <td>NaN</td>\n",
       "      <td>NaN</td>\n",
       "      <td>NaN</td>\n",
       "    </tr>\n",
       "  </tbody>\n",
       "</table>\n",
       "<p>7001 rows × 16 columns</p>\n",
       "</div>"
      ],
      "text/plain": [
       "      Unnamed: 0                                              Title  \\\n",
       "0              0  Post-Cold War Russian Revisionism and Conspira...   \n",
       "1              1  The Birth of Psychological War: Propaganda, Es...   \n",
       "2              2                 “A Serpent, in the Shape of a Spy”   \n",
       "3              3  Cuba's Nation Brand: War and Intelligence in t...   \n",
       "4              4  The Missing Piece: Why Intelligence Reform Fai...   \n",
       "...          ...                                                ...   \n",
       "6996        6996                The Uses and Limits of Intelligence   \n",
       "6997        6997  Analyzing Intelligence: Origins, Obstacles, an...   \n",
       "6998        6998       Intelligence Services in the Information Age   \n",
       "6999        6999  Intelligence and Government in Britain and the...   \n",
       "7000        7000  Intelligence and Government in Britain and the...   \n",
       "\n",
       "     Publication type                                Link to publication  \\\n",
       "0              Thesis    http://jhir.library.jhu.edu/handle/1774.2/62090   \n",
       "1                Book  https://global.oup.com/academic/product/the-bi...   \n",
       "2        Book chapter  https://doi.org/10.1093/oso/9780197628591.003....   \n",
       "3              Thesis    http://jhir.library.jhu.edu/handle/1774.2/63471   \n",
       "4              Thesis  https://repository.library.georgetown.edu/hand...   \n",
       "...               ...                                                ...   \n",
       "6996             Book              https://doi.org/10.4324/9781351302128   \n",
       "6997             Book                                                NaN   \n",
       "6998             Book              https://doi.org/10.4324/9780203479667   \n",
       "6999             Book                                                NaN   \n",
       "7000             Book                                                NaN   \n",
       "\n",
       "                                               Abstract  \\\n",
       "0     The purpose of this research study is to draw ...   \n",
       "1     The Birth of Psychological War explores the hi...   \n",
       "2     In 1811 and 1812, former British spy John Henr...   \n",
       "3     The use of notable public intellectuals as opi...   \n",
       "4     On September 11, 2001, the U.S. government fai...   \n",
       "...                                                 ...   \n",
       "6996                                                NaN   \n",
       "6997                                                NaN   \n",
       "6998                                                NaN   \n",
       "6999                                                NaN   \n",
       "7000                                                NaN   \n",
       "\n",
       "                                            Zotero link Date published  \\\n",
       "0     https://www.zotero.org/groups/intelligence_bib...     2019-08-29   \n",
       "1     https://www.zotero.org/groups/intelligence_bib...     2023-07-19   \n",
       "2     https://www.zotero.org/groups/intelligence_bib...     2024-07-01   \n",
       "3     https://www.zotero.org/groups/intelligence_bib...     2020-06-19   \n",
       "4     https://www.zotero.org/groups/intelligence_bib...           2008   \n",
       "...                                                 ...            ...   \n",
       "6996  https://www.zotero.org/groups/intelligence_bib...           2017   \n",
       "6997  https://www.zotero.org/groups/intelligence_bib...           2008   \n",
       "6998  https://www.zotero.org/groups/intelligence_bib...           2013   \n",
       "6999  https://www.zotero.org/groups/intelligence_bib...           2012   \n",
       "7000  https://www.zotero.org/groups/intelligence_bib...           2012   \n",
       "\n",
       "                           FirstName2                    Publisher Journal  \\\n",
       "0                  Trina Marie Scheie                          NaN     NaN   \n",
       "1                       Jeffrey Whyte      Oxford University Press     NaN   \n",
       "2                        Tyson Reeder      Oxford University Press     NaN   \n",
       "3                     Alfredo Cumerma                          NaN     NaN   \n",
       "4                 Catherine Lotrionte                          NaN     NaN   \n",
       "...                               ...                          ...     ...   \n",
       "6996                   Walter Laqueur                    Routledge     NaN   \n",
       "6997  Roger Z. George, James B. Bruce  Georgetown University Press     NaN   \n",
       "6998                   Michael Herman                    Routledge     NaN   \n",
       "6999               Philip H.J. Davies                      Praeger     NaN   \n",
       "7000               Philip H.J. Davies                      Praeger     NaN   \n",
       "\n",
       "                Date added                               Col key  DOI  \\\n",
       "0     2024-07-01T14:08:00Z                          ['WHBCJ8GW']  NaN   \n",
       "1     2024-07-01T14:16:27Z  ['CZT6L9T7', 'SCCGXHMZ', 'BHVIFBRH']  NaN   \n",
       "2     2024-07-01T14:16:01Z                          ['9DTPTK46']  NaN   \n",
       "3     2024-07-01T14:08:26Z                          ['WHBCJ8GW']  NaN   \n",
       "4     2024-07-01T08:30:59Z              ['D7XFV7JL', '7R9UG9WU']  NaN   \n",
       "...                    ...                                   ...  ...   \n",
       "6996  2020-06-05T10:17:21Z              ['HCN8YFI8', 'DVEM4H4W']  NaN   \n",
       "6997  2020-06-05T10:17:21Z                          ['HCN8YFI8']  NaN   \n",
       "6998  2020-06-05T10:17:21Z                          ['HCN8YFI8']  NaN   \n",
       "6999  2020-06-05T10:17:21Z              ['HCN8YFI8', 'DVEM4H4W']  NaN   \n",
       "7000  2020-06-05T10:17:21Z              ['HCN8YFI8', 'DVEM4H4W']  NaN   \n",
       "\n",
       "                                             Book_title Thesis_type  \\\n",
       "0                                                   NaN   MA Thesis   \n",
       "1                                                   NaN         NaN   \n",
       "2     Serpent in Eden: Foreign Meddling and Partisan...         NaN   \n",
       "3                                                   NaN  PhD Thesis   \n",
       "4                                                   NaN   MA Thesis   \n",
       "...                                                 ...         ...   \n",
       "6996                                                NaN         NaN   \n",
       "6997                                                NaN         NaN   \n",
       "6998                                                NaN         NaN   \n",
       "6999                                                NaN         NaN   \n",
       "7000                                                NaN         NaN   \n",
       "\n",
       "                    University  \n",
       "0     Johns Hopkins University  \n",
       "1                          NaN  \n",
       "2                          NaN  \n",
       "3     Johns Hopkins University  \n",
       "4        Georgetown University  \n",
       "...                        ...  \n",
       "6996                       NaN  \n",
       "6997                       NaN  \n",
       "6998                       NaN  \n",
       "6999                       NaN  \n",
       "7000                       NaN  \n",
       "\n",
       "[7001 rows x 16 columns]"
      ]
     },
     "execution_count": 157,
     "metadata": {},
     "output_type": "execute_result"
    }
   ],
   "source": [
    "df_doi = pd.read_csv('all_items.csv')\n",
    "if datetime.today().weekday() == 6:\n",
    "\n",
    "    df_doi = df_doi[['Zotero link', 'DOI']].dropna()\n",
    "    df_doi = df_doi.drop(df_doi[df_doi['DOI'] == ''].index)\n",
    "    df_doi = df_doi.reset_index(drop=True)\n",
    "    df_doi['DOI'] = df_doi['DOI'].str.replace('https://doi.org/', '')\n",
    "\n",
    "    def fetch_article_metadata(doi):\n",
    "        base_url = 'https://api.openalex.org/works/https://doi.org/'\n",
    "        response = requests.get(base_url + doi)\n",
    "        if response.status_code == 200:\n",
    "            data = response.json()\n",
    "            counts_by_year = data.get('counts_by_year', [])\n",
    "            if counts_by_year:\n",
    "                first_citation_year = min(entry.get('year') for entry in data['counts_by_year'])\n",
    "            else:\n",
    "                first_citation_year = None\n",
    "            if data.get('counts_by_year'):\n",
    "                last_citation_year = max(entry.get('year') for entry in data['counts_by_year'])\n",
    "            else:\n",
    "                last_citation_year = None\n",
    "    \n",
    "            article_metadata = {\n",
    "                'ID': data.get('id'),\n",
    "                'Citation': data.get('cited_by_count'),\n",
    "                'OA status': data.get('open_access', {}).get('is_oa'),\n",
    "                'Citation_list': data.get('cited_by_api_url'),\n",
    "                'First_citation_year': first_citation_year,\n",
    "                'Last_citation_year':last_citation_year,\n",
    "                'Publication_year':data.get('publication_year'),\n",
    "                'OA_link':data.get('open_access', {}).get('oa_url')\n",
    "            }\n",
    "            return article_metadata\n",
    "        else:\n",
    "            return {'ID': None, 'Citation': None, 'OA status': None, 'First_citation_year': None, 'Last_citation_year':None, 'Publication_year' : None, 'OA_link':None}\n",
    "    df_doi['ID'] = None\n",
    "    df_doi['Citation'] = None\n",
    "    df_doi['OA status'] = None\n",
    "    df_doi['Citation_list'] = None\n",
    "    df_doi['First_citation_year'] = None\n",
    "    df_doi['Last_citation_year']=None\n",
    "    df_doi['Publication_year'] = None\n",
    "    df_doi['OA_link'] = None\n",
    "\n",
    "    # Iterate over each row in the DataFrame\n",
    "    for index, row in df_doi.iterrows():\n",
    "        doi = row['DOI']\n",
    "        article_metadata = fetch_article_metadata(doi)\n",
    "        if article_metadata:\n",
    "            # Update DataFrame with fetched information\n",
    "            df_doi.at[index, 'ID'] = article_metadata['ID']\n",
    "            df_doi.at[index, 'Citation'] = article_metadata['Citation']\n",
    "            df_doi.at[index, 'OA status'] = article_metadata['OA status']\n",
    "            df_doi.at[index, 'First_citation_year'] = article_metadata['First_citation_year']\n",
    "            df_doi.at[index, 'Last_citation_year'] = article_metadata['Last_citation_year']\n",
    "            if 'Citation_list' in article_metadata:\n",
    "                df_doi.at[index, 'Citation_list'] = article_metadata['Citation_list']\n",
    "            else:\n",
    "                # Set to None if key is not found\n",
    "                df_doi.at[index, 'Citation_list'] = None\n",
    "            df_doi.at[index, 'Publication_year'] = article_metadata['Publication_year']\n",
    "            if 'OA_link' in article_metadata:\n",
    "                df_doi.at[index, 'OA_link'] = article_metadata['OA_link']\n",
    "            else:\n",
    "                # Set to None if key is not found\n",
    "                df_doi.at[index, 'OA_link'] = None\n",
    "\n",
    "    # Calculate the difference between First_citation_year and Publication_year\n",
    "    df_doi['Year_difference'] = df_doi['First_citation_year'] - df_doi['Publication_year']\n",
    "    df_doi.to_csv('citations.csv')\n",
    "else:\n",
    "    print('This part will be refreshed every Wednesday!')\n",
    "df_doi"
   ]
  },
  {
   "cell_type": "code",
   "execution_count": 158,
   "metadata": {},
   "outputs": [],
   "source": [
    "# ## Remove after the first successful retrieval 2024-02-18\n",
    "\n",
    "# df_doi = pd.read_csv('all_items.csv')\n",
    "# if datetime.today().weekday() == 3:\n",
    "\n",
    "#     df_doi = df_doi[['Zotero link', 'DOI']].dropna()\n",
    "#     df_doi = df_doi.drop(df_doi[df_doi['DOI'] == ''].index)\n",
    "#     df_doi = df_doi.reset_index(drop=True)\n",
    "#     df_doi['DOI'] = df_doi['DOI'].str.replace('https://doi.org/', '')\n",
    "\n",
    "#     def fetch_article_metadata(doi):\n",
    "#         base_url = 'https://api.openalex.org/works/https://doi.org/'\n",
    "#         response = requests.get(base_url + doi)\n",
    "#         if response.status_code == 200:\n",
    "#             data = response.json()\n",
    "#             counts_by_year = data.get('counts_by_year', [])\n",
    "#             if counts_by_year:\n",
    "#                 first_citation_year = min(entry.get('year') for entry in data['counts_by_year'])\n",
    "#             else:\n",
    "#                 first_citation_year = None\n",
    "#             article_metadata = {\n",
    "#                 'ID': data.get('id'),\n",
    "#                 'Citation': data.get('cited_by_count'),\n",
    "#                 'OA status': data.get('open_access', {}).get('is_oa'),\n",
    "#                 'Citation_list': data.get('cited_by_api_url'),\n",
    "#                 'First_citation_year': first_citation_year,\n",
    "#                 'Publication_year':data.get('publication_year')\n",
    "#             }\n",
    "#             return article_metadata\n",
    "#         else:\n",
    "#             return {'ID': None, 'Citation': None, 'OA status': None, 'First_citation_year': None, 'Publication_year' : None}\n",
    "#     df_doi['ID'] = None\n",
    "#     df_doi['Citation'] = None\n",
    "#     df_doi['OA status'] = None\n",
    "#     df_doi['Citation_list'] = None\n",
    "#     df_doi['First_citation_year'] = None\n",
    "#     df_doi['Publication_year'] = None\n",
    "\n",
    "#     # Iterate over each row in the DataFrame\n",
    "#     for index, row in df_doi.iterrows():\n",
    "#         doi = row['DOI']\n",
    "#         article_metadata = fetch_article_metadata(doi)\n",
    "#         if article_metadata:\n",
    "#             # Update DataFrame with fetched information\n",
    "#             df_doi.at[index, 'ID'] = article_metadata['ID']\n",
    "#             df_doi.at[index, 'Citation'] = article_metadata['Citation']\n",
    "#             df_doi.at[index, 'OA status'] = article_metadata['OA status']\n",
    "#             df_doi.at[index, 'First_citation_year'] = article_metadata['First_citation_year']\n",
    "#             if 'Citation_list' in article_metadata:\n",
    "#                 df_doi.at[index, 'Citation_list'] = article_metadata['Citation_list']\n",
    "#             else:\n",
    "#                 # Set to None if key is not found\n",
    "#                 df_doi.at[index, 'Citation_list'] = None\n",
    "#             df_doi.at[index, 'Publication_year'] = article_metadata['Publication_year']\n",
    "\n",
    "#     # Calculate the difference between First_citation_year and Publication_year\n",
    "#     df_doi['Year_difference'] = df_doi['First_citation_year'] - df_doi['Publication_year']\n",
    "#     df_doi.to_csv('citations.csv')\n",
    "# else:\n",
    "#     print('This part will be refreshed every Wednesday!')\n",
    "# df_doi"
   ]
  },
  {
   "cell_type": "code",
   "execution_count": 159,
   "metadata": {},
   "outputs": [],
   "source": [
    "# ## Retrieving citation and open access status without first ciation year\n",
    "# df_doi = pd.read_csv('all_items.csv')\n",
    "# # df_doi = df_doi.head(10)\n",
    "# if datetime.today().weekday() == 5:\n",
    "\n",
    "#     df_doi = df_doi[['Zotero link', 'DOI']].dropna()\n",
    "#     df_doi = df_doi.drop(df_doi[df_doi['DOI']==''].index)\n",
    "#     df_doi = df_doi.reset_index(drop=True)\n",
    "#     df_doi['DOI'] = df_doi['DOI'].str.replace('https://doi.org/', '')\n",
    "#     df_doi\n",
    "\n",
    "#     def fetch_article_metadata(doi):\n",
    "#         base_url = 'https://api.openalex.org/works/https://doi.org/'\n",
    "#         response = requests.get(base_url + doi)\n",
    "#         if response.status_code == 200:\n",
    "#             data = response.json()\n",
    "#             article_metadata = {\n",
    "#                 'ID': data.get('id'),\n",
    "#                 'Citation': data.get('cited_by_count'),\n",
    "#                 'OA status': data.get('open_access', {}).get('is_oa'),\n",
    "#                 'Citation_list':data.get('cited_by_api_url')\n",
    "#             }\n",
    "#             return article_metadata\n",
    "#         else:\n",
    "#             return {'ID': None, 'Citation': None, 'OA status': None}\n",
    "\n",
    "#     df_doi['ID'] = None\n",
    "#     df_doi['Citation'] = None\n",
    "#     df_doi['OA status'] = None\n",
    "#     df_doi['Citation_list'] = None\n",
    "\n",
    "#     # Iterate over each row in the DataFrame\n",
    "#     for index, row in df_doi.iterrows():\n",
    "#         doi = row['DOI']\n",
    "#         article_metadata = fetch_article_metadata(doi)\n",
    "#         if article_metadata:\n",
    "#             # Update DataFrame with fetched information\n",
    "#             df_doi.at[index, 'ID'] = article_metadata['ID']\n",
    "#             df_doi.at[index, 'Citation'] = article_metadata['Citation']\n",
    "#             df_doi.at[index, 'OA status'] = article_metadata['OA status']\n",
    "#             if 'Citation_list' in article_metadata:\n",
    "#                 df_doi.at[index, 'Citation_list'] = article_metadata['Citation_list']\n",
    "#             else:\n",
    "#                 # Set to None if key is not found\n",
    "#                 df_doi.at[index, 'Citation_list'] = None\n",
    "#     df_doi\n",
    "#     df_doi.to_csv('citations.csv')\n",
    "# else:\n",
    "#     print('This part will be refreshed every Wednesday!')"
   ]
  },
  {
   "cell_type": "code",
   "execution_count": 160,
   "metadata": {},
   "outputs": [
    {
     "data": {
      "text/html": [
       "<div>\n",
       "<style scoped>\n",
       "    .dataframe tbody tr th:only-of-type {\n",
       "        vertical-align: middle;\n",
       "    }\n",
       "\n",
       "    .dataframe tbody tr th {\n",
       "        vertical-align: top;\n",
       "    }\n",
       "\n",
       "    .dataframe thead th {\n",
       "        text-align: right;\n",
       "    }\n",
       "</style>\n",
       "<table border=\"1\" class=\"dataframe\">\n",
       "  <thead>\n",
       "    <tr style=\"text-align: right;\">\n",
       "      <th></th>\n",
       "      <th>Unnamed: 0</th>\n",
       "      <th>Title</th>\n",
       "      <th>Publication type</th>\n",
       "      <th>Link to publication</th>\n",
       "      <th>Abstract</th>\n",
       "      <th>Zotero link</th>\n",
       "      <th>Date published</th>\n",
       "      <th>FirstName2</th>\n",
       "      <th>Publisher</th>\n",
       "      <th>Journal</th>\n",
       "      <th>Date added</th>\n",
       "      <th>Col key</th>\n",
       "      <th>DOI</th>\n",
       "      <th>Book_title</th>\n",
       "      <th>Thesis_type</th>\n",
       "      <th>University</th>\n",
       "    </tr>\n",
       "  </thead>\n",
       "  <tbody>\n",
       "    <tr>\n",
       "      <th>0</th>\n",
       "      <td>0</td>\n",
       "      <td>Post-Cold War Russian Revisionism and Conspira...</td>\n",
       "      <td>Thesis</td>\n",
       "      <td>http://jhir.library.jhu.edu/handle/1774.2/62090</td>\n",
       "      <td>The purpose of this research study is to draw ...</td>\n",
       "      <td>https://www.zotero.org/groups/intelligence_bib...</td>\n",
       "      <td>2019-08-29</td>\n",
       "      <td>Trina Marie Scheie</td>\n",
       "      <td>NaN</td>\n",
       "      <td>NaN</td>\n",
       "      <td>2024-07-01T14:08:00Z</td>\n",
       "      <td>['WHBCJ8GW']</td>\n",
       "      <td>NaN</td>\n",
       "      <td>NaN</td>\n",
       "      <td>MA Thesis</td>\n",
       "      <td>Johns Hopkins University</td>\n",
       "    </tr>\n",
       "    <tr>\n",
       "      <th>1</th>\n",
       "      <td>1</td>\n",
       "      <td>The Birth of Psychological War: Propaganda, Es...</td>\n",
       "      <td>Book</td>\n",
       "      <td>https://global.oup.com/academic/product/the-bi...</td>\n",
       "      <td>The Birth of Psychological War explores the hi...</td>\n",
       "      <td>https://www.zotero.org/groups/intelligence_bib...</td>\n",
       "      <td>2023-07-19</td>\n",
       "      <td>Jeffrey Whyte</td>\n",
       "      <td>Oxford University Press</td>\n",
       "      <td>NaN</td>\n",
       "      <td>2024-07-01T14:16:27Z</td>\n",
       "      <td>['CZT6L9T7', 'SCCGXHMZ', 'BHVIFBRH']</td>\n",
       "      <td>NaN</td>\n",
       "      <td>NaN</td>\n",
       "      <td>NaN</td>\n",
       "      <td>NaN</td>\n",
       "    </tr>\n",
       "    <tr>\n",
       "      <th>2</th>\n",
       "      <td>2</td>\n",
       "      <td>“A Serpent, in the Shape of a Spy”</td>\n",
       "      <td>Book chapter</td>\n",
       "      <td>https://doi.org/10.1093/oso/9780197628591.003....</td>\n",
       "      <td>In 1811 and 1812, former British spy John Henr...</td>\n",
       "      <td>https://www.zotero.org/groups/intelligence_bib...</td>\n",
       "      <td>2024-07-01</td>\n",
       "      <td>Tyson Reeder</td>\n",
       "      <td>Oxford University Press</td>\n",
       "      <td>NaN</td>\n",
       "      <td>2024-07-01T14:16:01Z</td>\n",
       "      <td>['9DTPTK46']</td>\n",
       "      <td>NaN</td>\n",
       "      <td>Serpent in Eden: Foreign Meddling and Partisan...</td>\n",
       "      <td>NaN</td>\n",
       "      <td>NaN</td>\n",
       "    </tr>\n",
       "    <tr>\n",
       "      <th>3</th>\n",
       "      <td>3</td>\n",
       "      <td>Cuba's Nation Brand: War and Intelligence in t...</td>\n",
       "      <td>Thesis</td>\n",
       "      <td>http://jhir.library.jhu.edu/handle/1774.2/63471</td>\n",
       "      <td>The use of notable public intellectuals as opi...</td>\n",
       "      <td>https://www.zotero.org/groups/intelligence_bib...</td>\n",
       "      <td>2020-06-19</td>\n",
       "      <td>Alfredo Cumerma</td>\n",
       "      <td>NaN</td>\n",
       "      <td>NaN</td>\n",
       "      <td>2024-07-01T14:08:26Z</td>\n",
       "      <td>['WHBCJ8GW']</td>\n",
       "      <td>NaN</td>\n",
       "      <td>NaN</td>\n",
       "      <td>PhD Thesis</td>\n",
       "      <td>Johns Hopkins University</td>\n",
       "    </tr>\n",
       "    <tr>\n",
       "      <th>4</th>\n",
       "      <td>4</td>\n",
       "      <td>The Missing Piece: Why Intelligence Reform Fai...</td>\n",
       "      <td>Thesis</td>\n",
       "      <td>https://repository.library.georgetown.edu/hand...</td>\n",
       "      <td>On September 11, 2001, the U.S. government fai...</td>\n",
       "      <td>https://www.zotero.org/groups/intelligence_bib...</td>\n",
       "      <td>2008</td>\n",
       "      <td>Catherine Lotrionte</td>\n",
       "      <td>NaN</td>\n",
       "      <td>NaN</td>\n",
       "      <td>2024-07-01T08:30:59Z</td>\n",
       "      <td>['D7XFV7JL', '7R9UG9WU']</td>\n",
       "      <td>NaN</td>\n",
       "      <td>NaN</td>\n",
       "      <td>MA Thesis</td>\n",
       "      <td>Georgetown University</td>\n",
       "    </tr>\n",
       "    <tr>\n",
       "      <th>...</th>\n",
       "      <td>...</td>\n",
       "      <td>...</td>\n",
       "      <td>...</td>\n",
       "      <td>...</td>\n",
       "      <td>...</td>\n",
       "      <td>...</td>\n",
       "      <td>...</td>\n",
       "      <td>...</td>\n",
       "      <td>...</td>\n",
       "      <td>...</td>\n",
       "      <td>...</td>\n",
       "      <td>...</td>\n",
       "      <td>...</td>\n",
       "      <td>...</td>\n",
       "      <td>...</td>\n",
       "      <td>...</td>\n",
       "    </tr>\n",
       "    <tr>\n",
       "      <th>6996</th>\n",
       "      <td>6996</td>\n",
       "      <td>The Uses and Limits of Intelligence</td>\n",
       "      <td>Book</td>\n",
       "      <td>https://doi.org/10.4324/9781351302128</td>\n",
       "      <td>NaN</td>\n",
       "      <td>https://www.zotero.org/groups/intelligence_bib...</td>\n",
       "      <td>2017</td>\n",
       "      <td>Walter Laqueur</td>\n",
       "      <td>Routledge</td>\n",
       "      <td>NaN</td>\n",
       "      <td>2020-06-05T10:17:21Z</td>\n",
       "      <td>['HCN8YFI8', 'DVEM4H4W']</td>\n",
       "      <td>NaN</td>\n",
       "      <td>NaN</td>\n",
       "      <td>NaN</td>\n",
       "      <td>NaN</td>\n",
       "    </tr>\n",
       "    <tr>\n",
       "      <th>6997</th>\n",
       "      <td>6997</td>\n",
       "      <td>Analyzing Intelligence: Origins, Obstacles, an...</td>\n",
       "      <td>Book</td>\n",
       "      <td>NaN</td>\n",
       "      <td>NaN</td>\n",
       "      <td>https://www.zotero.org/groups/intelligence_bib...</td>\n",
       "      <td>2008</td>\n",
       "      <td>Roger Z. George, James B. Bruce</td>\n",
       "      <td>Georgetown University Press</td>\n",
       "      <td>NaN</td>\n",
       "      <td>2020-06-05T10:17:21Z</td>\n",
       "      <td>['HCN8YFI8']</td>\n",
       "      <td>NaN</td>\n",
       "      <td>NaN</td>\n",
       "      <td>NaN</td>\n",
       "      <td>NaN</td>\n",
       "    </tr>\n",
       "    <tr>\n",
       "      <th>6998</th>\n",
       "      <td>6998</td>\n",
       "      <td>Intelligence Services in the Information Age</td>\n",
       "      <td>Book</td>\n",
       "      <td>https://doi.org/10.4324/9780203479667</td>\n",
       "      <td>NaN</td>\n",
       "      <td>https://www.zotero.org/groups/intelligence_bib...</td>\n",
       "      <td>2013</td>\n",
       "      <td>Michael Herman</td>\n",
       "      <td>Routledge</td>\n",
       "      <td>NaN</td>\n",
       "      <td>2020-06-05T10:17:21Z</td>\n",
       "      <td>['HCN8YFI8']</td>\n",
       "      <td>NaN</td>\n",
       "      <td>NaN</td>\n",
       "      <td>NaN</td>\n",
       "      <td>NaN</td>\n",
       "    </tr>\n",
       "    <tr>\n",
       "      <th>6999</th>\n",
       "      <td>6999</td>\n",
       "      <td>Intelligence and Government in Britain and the...</td>\n",
       "      <td>Book</td>\n",
       "      <td>NaN</td>\n",
       "      <td>NaN</td>\n",
       "      <td>https://www.zotero.org/groups/intelligence_bib...</td>\n",
       "      <td>2012</td>\n",
       "      <td>Philip H.J. Davies</td>\n",
       "      <td>Praeger</td>\n",
       "      <td>NaN</td>\n",
       "      <td>2020-06-05T10:17:21Z</td>\n",
       "      <td>['HCN8YFI8', 'DVEM4H4W']</td>\n",
       "      <td>NaN</td>\n",
       "      <td>NaN</td>\n",
       "      <td>NaN</td>\n",
       "      <td>NaN</td>\n",
       "    </tr>\n",
       "    <tr>\n",
       "      <th>7000</th>\n",
       "      <td>7000</td>\n",
       "      <td>Intelligence and Government in Britain and the...</td>\n",
       "      <td>Book</td>\n",
       "      <td>NaN</td>\n",
       "      <td>NaN</td>\n",
       "      <td>https://www.zotero.org/groups/intelligence_bib...</td>\n",
       "      <td>2012</td>\n",
       "      <td>Philip H.J. Davies</td>\n",
       "      <td>Praeger</td>\n",
       "      <td>NaN</td>\n",
       "      <td>2020-06-05T10:17:21Z</td>\n",
       "      <td>['HCN8YFI8', 'DVEM4H4W']</td>\n",
       "      <td>NaN</td>\n",
       "      <td>NaN</td>\n",
       "      <td>NaN</td>\n",
       "      <td>NaN</td>\n",
       "    </tr>\n",
       "  </tbody>\n",
       "</table>\n",
       "<p>7001 rows × 16 columns</p>\n",
       "</div>"
      ],
      "text/plain": [
       "      Unnamed: 0                                              Title  \\\n",
       "0              0  Post-Cold War Russian Revisionism and Conspira...   \n",
       "1              1  The Birth of Psychological War: Propaganda, Es...   \n",
       "2              2                 “A Serpent, in the Shape of a Spy”   \n",
       "3              3  Cuba's Nation Brand: War and Intelligence in t...   \n",
       "4              4  The Missing Piece: Why Intelligence Reform Fai...   \n",
       "...          ...                                                ...   \n",
       "6996        6996                The Uses and Limits of Intelligence   \n",
       "6997        6997  Analyzing Intelligence: Origins, Obstacles, an...   \n",
       "6998        6998       Intelligence Services in the Information Age   \n",
       "6999        6999  Intelligence and Government in Britain and the...   \n",
       "7000        7000  Intelligence and Government in Britain and the...   \n",
       "\n",
       "     Publication type                                Link to publication  \\\n",
       "0              Thesis    http://jhir.library.jhu.edu/handle/1774.2/62090   \n",
       "1                Book  https://global.oup.com/academic/product/the-bi...   \n",
       "2        Book chapter  https://doi.org/10.1093/oso/9780197628591.003....   \n",
       "3              Thesis    http://jhir.library.jhu.edu/handle/1774.2/63471   \n",
       "4              Thesis  https://repository.library.georgetown.edu/hand...   \n",
       "...               ...                                                ...   \n",
       "6996             Book              https://doi.org/10.4324/9781351302128   \n",
       "6997             Book                                                NaN   \n",
       "6998             Book              https://doi.org/10.4324/9780203479667   \n",
       "6999             Book                                                NaN   \n",
       "7000             Book                                                NaN   \n",
       "\n",
       "                                               Abstract  \\\n",
       "0     The purpose of this research study is to draw ...   \n",
       "1     The Birth of Psychological War explores the hi...   \n",
       "2     In 1811 and 1812, former British spy John Henr...   \n",
       "3     The use of notable public intellectuals as opi...   \n",
       "4     On September 11, 2001, the U.S. government fai...   \n",
       "...                                                 ...   \n",
       "6996                                                NaN   \n",
       "6997                                                NaN   \n",
       "6998                                                NaN   \n",
       "6999                                                NaN   \n",
       "7000                                                NaN   \n",
       "\n",
       "                                            Zotero link Date published  \\\n",
       "0     https://www.zotero.org/groups/intelligence_bib...     2019-08-29   \n",
       "1     https://www.zotero.org/groups/intelligence_bib...     2023-07-19   \n",
       "2     https://www.zotero.org/groups/intelligence_bib...     2024-07-01   \n",
       "3     https://www.zotero.org/groups/intelligence_bib...     2020-06-19   \n",
       "4     https://www.zotero.org/groups/intelligence_bib...           2008   \n",
       "...                                                 ...            ...   \n",
       "6996  https://www.zotero.org/groups/intelligence_bib...           2017   \n",
       "6997  https://www.zotero.org/groups/intelligence_bib...           2008   \n",
       "6998  https://www.zotero.org/groups/intelligence_bib...           2013   \n",
       "6999  https://www.zotero.org/groups/intelligence_bib...           2012   \n",
       "7000  https://www.zotero.org/groups/intelligence_bib...           2012   \n",
       "\n",
       "                           FirstName2                    Publisher Journal  \\\n",
       "0                  Trina Marie Scheie                          NaN     NaN   \n",
       "1                       Jeffrey Whyte      Oxford University Press     NaN   \n",
       "2                        Tyson Reeder      Oxford University Press     NaN   \n",
       "3                     Alfredo Cumerma                          NaN     NaN   \n",
       "4                 Catherine Lotrionte                          NaN     NaN   \n",
       "...                               ...                          ...     ...   \n",
       "6996                   Walter Laqueur                    Routledge     NaN   \n",
       "6997  Roger Z. George, James B. Bruce  Georgetown University Press     NaN   \n",
       "6998                   Michael Herman                    Routledge     NaN   \n",
       "6999               Philip H.J. Davies                      Praeger     NaN   \n",
       "7000               Philip H.J. Davies                      Praeger     NaN   \n",
       "\n",
       "                Date added                               Col key  DOI  \\\n",
       "0     2024-07-01T14:08:00Z                          ['WHBCJ8GW']  NaN   \n",
       "1     2024-07-01T14:16:27Z  ['CZT6L9T7', 'SCCGXHMZ', 'BHVIFBRH']  NaN   \n",
       "2     2024-07-01T14:16:01Z                          ['9DTPTK46']  NaN   \n",
       "3     2024-07-01T14:08:26Z                          ['WHBCJ8GW']  NaN   \n",
       "4     2024-07-01T08:30:59Z              ['D7XFV7JL', '7R9UG9WU']  NaN   \n",
       "...                    ...                                   ...  ...   \n",
       "6996  2020-06-05T10:17:21Z              ['HCN8YFI8', 'DVEM4H4W']  NaN   \n",
       "6997  2020-06-05T10:17:21Z                          ['HCN8YFI8']  NaN   \n",
       "6998  2020-06-05T10:17:21Z                          ['HCN8YFI8']  NaN   \n",
       "6999  2020-06-05T10:17:21Z              ['HCN8YFI8', 'DVEM4H4W']  NaN   \n",
       "7000  2020-06-05T10:17:21Z              ['HCN8YFI8', 'DVEM4H4W']  NaN   \n",
       "\n",
       "                                             Book_title Thesis_type  \\\n",
       "0                                                   NaN   MA Thesis   \n",
       "1                                                   NaN         NaN   \n",
       "2     Serpent in Eden: Foreign Meddling and Partisan...         NaN   \n",
       "3                                                   NaN  PhD Thesis   \n",
       "4                                                   NaN   MA Thesis   \n",
       "...                                                 ...         ...   \n",
       "6996                                                NaN         NaN   \n",
       "6997                                                NaN         NaN   \n",
       "6998                                                NaN         NaN   \n",
       "6999                                                NaN         NaN   \n",
       "7000                                                NaN         NaN   \n",
       "\n",
       "                    University  \n",
       "0     Johns Hopkins University  \n",
       "1                          NaN  \n",
       "2                          NaN  \n",
       "3     Johns Hopkins University  \n",
       "4        Georgetown University  \n",
       "...                        ...  \n",
       "6996                       NaN  \n",
       "6997                       NaN  \n",
       "6998                       NaN  \n",
       "6999                       NaN  \n",
       "7000                       NaN  \n",
       "\n",
       "[7001 rows x 16 columns]"
      ]
     },
     "execution_count": 160,
     "metadata": {},
     "output_type": "execute_result"
    }
   ],
   "source": [
    "df_doi"
   ]
  },
  {
   "cell_type": "code",
   "execution_count": 161,
   "metadata": {},
   "outputs": [
    {
     "data": {
      "text/html": [
       "<div>\n",
       "<style scoped>\n",
       "    .dataframe tbody tr th:only-of-type {\n",
       "        vertical-align: middle;\n",
       "    }\n",
       "\n",
       "    .dataframe tbody tr th {\n",
       "        vertical-align: top;\n",
       "    }\n",
       "\n",
       "    .dataframe thead th {\n",
       "        text-align: right;\n",
       "    }\n",
       "</style>\n",
       "<table border=\"1\" class=\"dataframe\">\n",
       "  <thead>\n",
       "    <tr style=\"text-align: right;\">\n",
       "      <th></th>\n",
       "      <th>Zotero link</th>\n",
       "      <th>DOI</th>\n",
       "      <th>ID</th>\n",
       "      <th>Citation</th>\n",
       "      <th>OA status</th>\n",
       "      <th>Citation_list</th>\n",
       "      <th>First_citation_year</th>\n",
       "      <th>Last_citation_year</th>\n",
       "      <th>Publication_year</th>\n",
       "      <th>OA_link</th>\n",
       "      <th>Year_difference</th>\n",
       "    </tr>\n",
       "  </thead>\n",
       "  <tbody>\n",
       "    <tr>\n",
       "      <th>0</th>\n",
       "      <td>https://www.zotero.org/groups/intelligence_bib...</td>\n",
       "      <td>10.1080/02684527.2024.2370133</td>\n",
       "      <td>https://openalex.org/W4400112663</td>\n",
       "      <td>0.0</td>\n",
       "      <td>True</td>\n",
       "      <td>https://api.openalex.org/works?filter=cites:W4...</td>\n",
       "      <td>NaN</td>\n",
       "      <td>NaN</td>\n",
       "      <td>2024.0</td>\n",
       "      <td>https://doi.org/10.1080/02684527.2024.2370133</td>\n",
       "      <td>NaN</td>\n",
       "    </tr>\n",
       "    <tr>\n",
       "      <th>1</th>\n",
       "      <td>https://www.zotero.org/groups/intelligence_bib...</td>\n",
       "      <td>10.1080/02684527.2024.2370132</td>\n",
       "      <td>https://openalex.org/W4400112540</td>\n",
       "      <td>0.0</td>\n",
       "      <td>True</td>\n",
       "      <td>https://api.openalex.org/works?filter=cites:W4...</td>\n",
       "      <td>NaN</td>\n",
       "      <td>NaN</td>\n",
       "      <td>2024.0</td>\n",
       "      <td>https://doi.org/10.1080/02684527.2024.2370132</td>\n",
       "      <td>NaN</td>\n",
       "    </tr>\n",
       "    <tr>\n",
       "      <th>2</th>\n",
       "      <td>https://www.zotero.org/groups/intelligence_bib...</td>\n",
       "      <td>10.1080/01629778.2024.2372049</td>\n",
       "      <td>https://openalex.org/W4400012792</td>\n",
       "      <td>0.0</td>\n",
       "      <td>True</td>\n",
       "      <td>https://api.openalex.org/works?filter=cites:W4...</td>\n",
       "      <td>NaN</td>\n",
       "      <td>NaN</td>\n",
       "      <td>2024.0</td>\n",
       "      <td>https://www.tandfonline.com/doi/pdf/10.1080/01...</td>\n",
       "      <td>NaN</td>\n",
       "    </tr>\n",
       "    <tr>\n",
       "      <th>3</th>\n",
       "      <td>https://www.zotero.org/groups/intelligence_bib...</td>\n",
       "      <td>10.1162/jcws_a_01211</td>\n",
       "      <td>https://openalex.org/W4399881160</td>\n",
       "      <td>0.0</td>\n",
       "      <td>False</td>\n",
       "      <td>https://api.openalex.org/works?filter=cites:W4...</td>\n",
       "      <td>NaN</td>\n",
       "      <td>NaN</td>\n",
       "      <td>2024.0</td>\n",
       "      <td>NaN</td>\n",
       "      <td>NaN</td>\n",
       "    </tr>\n",
       "    <tr>\n",
       "      <th>4</th>\n",
       "      <td>https://www.zotero.org/groups/intelligence_bib...</td>\n",
       "      <td>10.1162/jcws_r_01214</td>\n",
       "      <td>https://openalex.org/W4399881126</td>\n",
       "      <td>0.0</td>\n",
       "      <td>False</td>\n",
       "      <td>https://api.openalex.org/works?filter=cites:W4...</td>\n",
       "      <td>NaN</td>\n",
       "      <td>NaN</td>\n",
       "      <td>2024.0</td>\n",
       "      <td>NaN</td>\n",
       "      <td>NaN</td>\n",
       "    </tr>\n",
       "    <tr>\n",
       "      <th>...</th>\n",
       "      <td>...</td>\n",
       "      <td>...</td>\n",
       "      <td>...</td>\n",
       "      <td>...</td>\n",
       "      <td>...</td>\n",
       "      <td>...</td>\n",
       "      <td>...</td>\n",
       "      <td>...</td>\n",
       "      <td>...</td>\n",
       "      <td>...</td>\n",
       "      <td>...</td>\n",
       "    </tr>\n",
       "    <tr>\n",
       "      <th>3617</th>\n",
       "      <td>https://www.zotero.org/groups/intelligence_bib...</td>\n",
       "      <td>10.1177/1755088217712069</td>\n",
       "      <td>https://openalex.org/W2612406272</td>\n",
       "      <td>6.0</td>\n",
       "      <td>True</td>\n",
       "      <td>https://api.openalex.org/works?filter=cites:W2...</td>\n",
       "      <td>2019.0</td>\n",
       "      <td>2024.0</td>\n",
       "      <td>2017.0</td>\n",
       "      <td>https://journals.sagepub.com/doi/pdf/10.1177/1...</td>\n",
       "      <td>2.0</td>\n",
       "    </tr>\n",
       "    <tr>\n",
       "      <th>3618</th>\n",
       "      <td>https://www.zotero.org/groups/intelligence_bib...</td>\n",
       "      <td>10.1080/08850607.2019.1660951</td>\n",
       "      <td>https://openalex.org/W2996219269</td>\n",
       "      <td>5.0</td>\n",
       "      <td>False</td>\n",
       "      <td>https://api.openalex.org/works?filter=cites:W2...</td>\n",
       "      <td>2021.0</td>\n",
       "      <td>2023.0</td>\n",
       "      <td>2019.0</td>\n",
       "      <td>NaN</td>\n",
       "      <td>2.0</td>\n",
       "    </tr>\n",
       "    <tr>\n",
       "      <th>3619</th>\n",
       "      <td>https://www.zotero.org/groups/intelligence_bib...</td>\n",
       "      <td>10.1080/08850607.2012.705186</td>\n",
       "      <td>https://openalex.org/W2033999438</td>\n",
       "      <td>26.0</td>\n",
       "      <td>False</td>\n",
       "      <td>https://api.openalex.org/works?filter=cites:W2...</td>\n",
       "      <td>2013.0</td>\n",
       "      <td>2022.0</td>\n",
       "      <td>2013.0</td>\n",
       "      <td>NaN</td>\n",
       "      <td>0.0</td>\n",
       "    </tr>\n",
       "    <tr>\n",
       "      <th>3620</th>\n",
       "      <td>https://www.zotero.org/groups/intelligence_bib...</td>\n",
       "      <td>10.1080/08850607.2020.1748993</td>\n",
       "      <td>https://openalex.org/W3022421216</td>\n",
       "      <td>1.0</td>\n",
       "      <td>False</td>\n",
       "      <td>https://api.openalex.org/works?filter=cites:W3...</td>\n",
       "      <td>2024.0</td>\n",
       "      <td>2024.0</td>\n",
       "      <td>2020.0</td>\n",
       "      <td>NaN</td>\n",
       "      <td>4.0</td>\n",
       "    </tr>\n",
       "    <tr>\n",
       "      <th>3621</th>\n",
       "      <td>https://www.zotero.org/groups/intelligence_bib...</td>\n",
       "      <td>10.1080/0268452042000302949</td>\n",
       "      <td>https://openalex.org/W2069639133</td>\n",
       "      <td>64.0</td>\n",
       "      <td>False</td>\n",
       "      <td>https://api.openalex.org/works?filter=cites:W2...</td>\n",
       "      <td>2012.0</td>\n",
       "      <td>2024.0</td>\n",
       "      <td>2004.0</td>\n",
       "      <td>NaN</td>\n",
       "      <td>8.0</td>\n",
       "    </tr>\n",
       "  </tbody>\n",
       "</table>\n",
       "<p>3622 rows × 11 columns</p>\n",
       "</div>"
      ],
      "text/plain": [
       "                                            Zotero link  \\\n",
       "0     https://www.zotero.org/groups/intelligence_bib...   \n",
       "1     https://www.zotero.org/groups/intelligence_bib...   \n",
       "2     https://www.zotero.org/groups/intelligence_bib...   \n",
       "3     https://www.zotero.org/groups/intelligence_bib...   \n",
       "4     https://www.zotero.org/groups/intelligence_bib...   \n",
       "...                                                 ...   \n",
       "3617  https://www.zotero.org/groups/intelligence_bib...   \n",
       "3618  https://www.zotero.org/groups/intelligence_bib...   \n",
       "3619  https://www.zotero.org/groups/intelligence_bib...   \n",
       "3620  https://www.zotero.org/groups/intelligence_bib...   \n",
       "3621  https://www.zotero.org/groups/intelligence_bib...   \n",
       "\n",
       "                                DOI                                ID  \\\n",
       "0     10.1080/02684527.2024.2370133  https://openalex.org/W4400112663   \n",
       "1     10.1080/02684527.2024.2370132  https://openalex.org/W4400112540   \n",
       "2     10.1080/01629778.2024.2372049  https://openalex.org/W4400012792   \n",
       "3              10.1162/jcws_a_01211  https://openalex.org/W4399881160   \n",
       "4              10.1162/jcws_r_01214  https://openalex.org/W4399881126   \n",
       "...                             ...                               ...   \n",
       "3617       10.1177/1755088217712069  https://openalex.org/W2612406272   \n",
       "3618  10.1080/08850607.2019.1660951  https://openalex.org/W2996219269   \n",
       "3619   10.1080/08850607.2012.705186  https://openalex.org/W2033999438   \n",
       "3620  10.1080/08850607.2020.1748993  https://openalex.org/W3022421216   \n",
       "3621    10.1080/0268452042000302949  https://openalex.org/W2069639133   \n",
       "\n",
       "      Citation OA status                                      Citation_list  \\\n",
       "0          0.0      True  https://api.openalex.org/works?filter=cites:W4...   \n",
       "1          0.0      True  https://api.openalex.org/works?filter=cites:W4...   \n",
       "2          0.0      True  https://api.openalex.org/works?filter=cites:W4...   \n",
       "3          0.0     False  https://api.openalex.org/works?filter=cites:W4...   \n",
       "4          0.0     False  https://api.openalex.org/works?filter=cites:W4...   \n",
       "...        ...       ...                                                ...   \n",
       "3617       6.0      True  https://api.openalex.org/works?filter=cites:W2...   \n",
       "3618       5.0     False  https://api.openalex.org/works?filter=cites:W2...   \n",
       "3619      26.0     False  https://api.openalex.org/works?filter=cites:W2...   \n",
       "3620       1.0     False  https://api.openalex.org/works?filter=cites:W3...   \n",
       "3621      64.0     False  https://api.openalex.org/works?filter=cites:W2...   \n",
       "\n",
       "      First_citation_year  Last_citation_year  Publication_year  \\\n",
       "0                     NaN                 NaN            2024.0   \n",
       "1                     NaN                 NaN            2024.0   \n",
       "2                     NaN                 NaN            2024.0   \n",
       "3                     NaN                 NaN            2024.0   \n",
       "4                     NaN                 NaN            2024.0   \n",
       "...                   ...                 ...               ...   \n",
       "3617               2019.0              2024.0            2017.0   \n",
       "3618               2021.0              2023.0            2019.0   \n",
       "3619               2013.0              2022.0            2013.0   \n",
       "3620               2024.0              2024.0            2020.0   \n",
       "3621               2012.0              2024.0            2004.0   \n",
       "\n",
       "                                                OA_link  Year_difference  \n",
       "0         https://doi.org/10.1080/02684527.2024.2370133              NaN  \n",
       "1         https://doi.org/10.1080/02684527.2024.2370132              NaN  \n",
       "2     https://www.tandfonline.com/doi/pdf/10.1080/01...              NaN  \n",
       "3                                                   NaN              NaN  \n",
       "4                                                   NaN              NaN  \n",
       "...                                                 ...              ...  \n",
       "3617  https://journals.sagepub.com/doi/pdf/10.1177/1...              2.0  \n",
       "3618                                                NaN              2.0  \n",
       "3619                                                NaN              0.0  \n",
       "3620                                                NaN              4.0  \n",
       "3621                                                NaN              8.0  \n",
       "\n",
       "[3622 rows x 11 columns]"
      ]
     },
     "execution_count": 161,
     "metadata": {},
     "output_type": "execute_result"
    }
   ],
   "source": [
    "df_doi_2 = pd.read_csv('citations.csv', usecols=lambda column: column != 'Unnamed: 0')\n",
    "df_doi_2"
   ]
  },
  {
   "cell_type": "code",
   "execution_count": 162,
   "metadata": {},
   "outputs": [],
   "source": [
    "df_1 = pd.read_csv('all_items.csv', usecols=lambda column: column != 'Unnamed: 0')\n",
    "df_doi_1 = pd.read_csv('citations.csv', usecols=lambda column: column != 'Unnamed: 0')\n",
    "df_doi_1 = df_doi_1.drop(columns=['DOI'])\n",
    "df_1 = pd.merge(df_1, df_doi_1, on='Zotero link', how='left')\n",
    "df_1.to_csv('all_items.csv')"
   ]
  },
  {
   "cell_type": "code",
   "execution_count": 163,
   "metadata": {},
   "outputs": [],
   "source": [
    "df_2 = pd.read_csv('all_items_duplicated.csv', usecols=lambda column: column != 'Unnamed: 0')\n",
    "df_doi_2 = pd.read_csv('citations.csv', usecols=lambda column: column != 'Unnamed: 0')\n",
    "df_doi_2 = df_doi_2.drop(columns=['DOI'])\n",
    "df_2 = pd.merge(df_2, df_doi_2, on='Zotero link', how='left')\n",
    "df_2.to_csv('all_items_duplicated.csv')"
   ]
  },
  {
   "cell_type": "code",
   "execution_count": 164,
   "metadata": {},
   "outputs": [
    {
     "data": {
      "text/html": [
       "<div>\n",
       "<style scoped>\n",
       "    .dataframe tbody tr th:only-of-type {\n",
       "        vertical-align: middle;\n",
       "    }\n",
       "\n",
       "    .dataframe tbody tr th {\n",
       "        vertical-align: top;\n",
       "    }\n",
       "\n",
       "    .dataframe thead th {\n",
       "        text-align: right;\n",
       "    }\n",
       "</style>\n",
       "<table border=\"1\" class=\"dataframe\">\n",
       "  <thead>\n",
       "    <tr style=\"text-align: right;\">\n",
       "      <th></th>\n",
       "      <th>Unnamed: 0</th>\n",
       "      <th>Title</th>\n",
       "      <th>Publication type</th>\n",
       "      <th>Link to publication</th>\n",
       "      <th>Abstract</th>\n",
       "      <th>Zotero link</th>\n",
       "      <th>Date published</th>\n",
       "      <th>FirstName2</th>\n",
       "      <th>Publisher</th>\n",
       "      <th>Journal</th>\n",
       "      <th>...</th>\n",
       "      <th>Collection_Link</th>\n",
       "      <th>ID</th>\n",
       "      <th>Citation</th>\n",
       "      <th>OA status</th>\n",
       "      <th>Citation_list</th>\n",
       "      <th>First_citation_year</th>\n",
       "      <th>Last_citation_year</th>\n",
       "      <th>Publication_year</th>\n",
       "      <th>OA_link</th>\n",
       "      <th>Year_difference</th>\n",
       "    </tr>\n",
       "  </thead>\n",
       "  <tbody>\n",
       "    <tr>\n",
       "      <th>0</th>\n",
       "      <td>0</td>\n",
       "      <td>Post-Cold War Russian Revisionism and Conspira...</td>\n",
       "      <td>Thesis</td>\n",
       "      <td>http://jhir.library.jhu.edu/handle/1774.2/62090</td>\n",
       "      <td>The purpose of this research study is to draw ...</td>\n",
       "      <td>https://www.zotero.org/groups/intelligence_bib...</td>\n",
       "      <td>2019-08-29</td>\n",
       "      <td>Trina Marie Scheie</td>\n",
       "      <td>NaN</td>\n",
       "      <td>NaN</td>\n",
       "      <td>...</td>\n",
       "      <td>https://www.zotero.org/groups/intelligence_bib...</td>\n",
       "      <td>NaN</td>\n",
       "      <td>NaN</td>\n",
       "      <td>NaN</td>\n",
       "      <td>NaN</td>\n",
       "      <td>NaN</td>\n",
       "      <td>NaN</td>\n",
       "      <td>NaN</td>\n",
       "      <td>NaN</td>\n",
       "      <td>NaN</td>\n",
       "    </tr>\n",
       "    <tr>\n",
       "      <th>1</th>\n",
       "      <td>1</td>\n",
       "      <td>The Birth of Psychological War: Propaganda, Es...</td>\n",
       "      <td>Book</td>\n",
       "      <td>https://global.oup.com/academic/product/the-bi...</td>\n",
       "      <td>The Birth of Psychological War explores the hi...</td>\n",
       "      <td>https://www.zotero.org/groups/intelligence_bib...</td>\n",
       "      <td>2023-07-19</td>\n",
       "      <td>Jeffrey Whyte</td>\n",
       "      <td>Oxford University Press</td>\n",
       "      <td>NaN</td>\n",
       "      <td>...</td>\n",
       "      <td>https://www.zotero.org/groups/intelligence_bib...</td>\n",
       "      <td>NaN</td>\n",
       "      <td>NaN</td>\n",
       "      <td>NaN</td>\n",
       "      <td>NaN</td>\n",
       "      <td>NaN</td>\n",
       "      <td>NaN</td>\n",
       "      <td>NaN</td>\n",
       "      <td>NaN</td>\n",
       "      <td>NaN</td>\n",
       "    </tr>\n",
       "    <tr>\n",
       "      <th>2</th>\n",
       "      <td>2</td>\n",
       "      <td>The Birth of Psychological War: Propaganda, Es...</td>\n",
       "      <td>Book</td>\n",
       "      <td>https://global.oup.com/academic/product/the-bi...</td>\n",
       "      <td>The Birth of Psychological War explores the hi...</td>\n",
       "      <td>https://www.zotero.org/groups/intelligence_bib...</td>\n",
       "      <td>2023-07-19</td>\n",
       "      <td>Jeffrey Whyte</td>\n",
       "      <td>Oxford University Press</td>\n",
       "      <td>NaN</td>\n",
       "      <td>...</td>\n",
       "      <td>https://www.zotero.org/groups/intelligence_bib...</td>\n",
       "      <td>NaN</td>\n",
       "      <td>NaN</td>\n",
       "      <td>NaN</td>\n",
       "      <td>NaN</td>\n",
       "      <td>NaN</td>\n",
       "      <td>NaN</td>\n",
       "      <td>NaN</td>\n",
       "      <td>NaN</td>\n",
       "      <td>NaN</td>\n",
       "    </tr>\n",
       "    <tr>\n",
       "      <th>3</th>\n",
       "      <td>3</td>\n",
       "      <td>The Birth of Psychological War: Propaganda, Es...</td>\n",
       "      <td>Book</td>\n",
       "      <td>https://global.oup.com/academic/product/the-bi...</td>\n",
       "      <td>The Birth of Psychological War explores the hi...</td>\n",
       "      <td>https://www.zotero.org/groups/intelligence_bib...</td>\n",
       "      <td>2023-07-19</td>\n",
       "      <td>Jeffrey Whyte</td>\n",
       "      <td>Oxford University Press</td>\n",
       "      <td>NaN</td>\n",
       "      <td>...</td>\n",
       "      <td>https://www.zotero.org/groups/intelligence_bib...</td>\n",
       "      <td>NaN</td>\n",
       "      <td>NaN</td>\n",
       "      <td>NaN</td>\n",
       "      <td>NaN</td>\n",
       "      <td>NaN</td>\n",
       "      <td>NaN</td>\n",
       "      <td>NaN</td>\n",
       "      <td>NaN</td>\n",
       "      <td>NaN</td>\n",
       "    </tr>\n",
       "    <tr>\n",
       "      <th>4</th>\n",
       "      <td>4</td>\n",
       "      <td>“A Serpent, in the Shape of a Spy”</td>\n",
       "      <td>Book chapter</td>\n",
       "      <td>https://doi.org/10.1093/oso/9780197628591.003....</td>\n",
       "      <td>In 1811 and 1812, former British spy John Henr...</td>\n",
       "      <td>https://www.zotero.org/groups/intelligence_bib...</td>\n",
       "      <td>2024-07-01</td>\n",
       "      <td>Tyson Reeder</td>\n",
       "      <td>Oxford University Press</td>\n",
       "      <td>NaN</td>\n",
       "      <td>...</td>\n",
       "      <td>https://www.zotero.org/groups/intelligence_bib...</td>\n",
       "      <td>NaN</td>\n",
       "      <td>NaN</td>\n",
       "      <td>NaN</td>\n",
       "      <td>NaN</td>\n",
       "      <td>NaN</td>\n",
       "      <td>NaN</td>\n",
       "      <td>NaN</td>\n",
       "      <td>NaN</td>\n",
       "      <td>NaN</td>\n",
       "    </tr>\n",
       "    <tr>\n",
       "      <th>...</th>\n",
       "      <td>...</td>\n",
       "      <td>...</td>\n",
       "      <td>...</td>\n",
       "      <td>...</td>\n",
       "      <td>...</td>\n",
       "      <td>...</td>\n",
       "      <td>...</td>\n",
       "      <td>...</td>\n",
       "      <td>...</td>\n",
       "      <td>...</td>\n",
       "      <td>...</td>\n",
       "      <td>...</td>\n",
       "      <td>...</td>\n",
       "      <td>...</td>\n",
       "      <td>...</td>\n",
       "      <td>...</td>\n",
       "      <td>...</td>\n",
       "      <td>...</td>\n",
       "      <td>...</td>\n",
       "      <td>...</td>\n",
       "      <td>...</td>\n",
       "    </tr>\n",
       "    <tr>\n",
       "      <th>10448</th>\n",
       "      <td>10448</td>\n",
       "      <td>Intelligence Services in the Information Age</td>\n",
       "      <td>Book</td>\n",
       "      <td>https://doi.org/10.4324/9780203479667</td>\n",
       "      <td>NaN</td>\n",
       "      <td>https://www.zotero.org/groups/intelligence_bib...</td>\n",
       "      <td>2013</td>\n",
       "      <td>Michael Herman</td>\n",
       "      <td>Routledge</td>\n",
       "      <td>NaN</td>\n",
       "      <td>...</td>\n",
       "      <td>https://www.zotero.org/groups/intelligence_bib...</td>\n",
       "      <td>NaN</td>\n",
       "      <td>NaN</td>\n",
       "      <td>NaN</td>\n",
       "      <td>NaN</td>\n",
       "      <td>NaN</td>\n",
       "      <td>NaN</td>\n",
       "      <td>NaN</td>\n",
       "      <td>NaN</td>\n",
       "      <td>NaN</td>\n",
       "    </tr>\n",
       "    <tr>\n",
       "      <th>10449</th>\n",
       "      <td>10449</td>\n",
       "      <td>Intelligence and Government in Britain and the...</td>\n",
       "      <td>Book</td>\n",
       "      <td>NaN</td>\n",
       "      <td>NaN</td>\n",
       "      <td>https://www.zotero.org/groups/intelligence_bib...</td>\n",
       "      <td>2012</td>\n",
       "      <td>Philip H.J. Davies</td>\n",
       "      <td>Praeger</td>\n",
       "      <td>NaN</td>\n",
       "      <td>...</td>\n",
       "      <td>https://www.zotero.org/groups/intelligence_bib...</td>\n",
       "      <td>NaN</td>\n",
       "      <td>NaN</td>\n",
       "      <td>NaN</td>\n",
       "      <td>NaN</td>\n",
       "      <td>NaN</td>\n",
       "      <td>NaN</td>\n",
       "      <td>NaN</td>\n",
       "      <td>NaN</td>\n",
       "      <td>NaN</td>\n",
       "    </tr>\n",
       "    <tr>\n",
       "      <th>10450</th>\n",
       "      <td>10450</td>\n",
       "      <td>Intelligence and Government in Britain and the...</td>\n",
       "      <td>Book</td>\n",
       "      <td>NaN</td>\n",
       "      <td>NaN</td>\n",
       "      <td>https://www.zotero.org/groups/intelligence_bib...</td>\n",
       "      <td>2012</td>\n",
       "      <td>Philip H.J. Davies</td>\n",
       "      <td>Praeger</td>\n",
       "      <td>NaN</td>\n",
       "      <td>...</td>\n",
       "      <td>https://www.zotero.org/groups/intelligence_bib...</td>\n",
       "      <td>NaN</td>\n",
       "      <td>NaN</td>\n",
       "      <td>NaN</td>\n",
       "      <td>NaN</td>\n",
       "      <td>NaN</td>\n",
       "      <td>NaN</td>\n",
       "      <td>NaN</td>\n",
       "      <td>NaN</td>\n",
       "      <td>NaN</td>\n",
       "    </tr>\n",
       "    <tr>\n",
       "      <th>10451</th>\n",
       "      <td>10451</td>\n",
       "      <td>Intelligence and Government in Britain and the...</td>\n",
       "      <td>Book</td>\n",
       "      <td>NaN</td>\n",
       "      <td>NaN</td>\n",
       "      <td>https://www.zotero.org/groups/intelligence_bib...</td>\n",
       "      <td>2012</td>\n",
       "      <td>Philip H.J. Davies</td>\n",
       "      <td>Praeger</td>\n",
       "      <td>NaN</td>\n",
       "      <td>...</td>\n",
       "      <td>https://www.zotero.org/groups/intelligence_bib...</td>\n",
       "      <td>NaN</td>\n",
       "      <td>NaN</td>\n",
       "      <td>NaN</td>\n",
       "      <td>NaN</td>\n",
       "      <td>NaN</td>\n",
       "      <td>NaN</td>\n",
       "      <td>NaN</td>\n",
       "      <td>NaN</td>\n",
       "      <td>NaN</td>\n",
       "    </tr>\n",
       "    <tr>\n",
       "      <th>10452</th>\n",
       "      <td>10452</td>\n",
       "      <td>Intelligence and Government in Britain and the...</td>\n",
       "      <td>Book</td>\n",
       "      <td>NaN</td>\n",
       "      <td>NaN</td>\n",
       "      <td>https://www.zotero.org/groups/intelligence_bib...</td>\n",
       "      <td>2012</td>\n",
       "      <td>Philip H.J. Davies</td>\n",
       "      <td>Praeger</td>\n",
       "      <td>NaN</td>\n",
       "      <td>...</td>\n",
       "      <td>https://www.zotero.org/groups/intelligence_bib...</td>\n",
       "      <td>NaN</td>\n",
       "      <td>NaN</td>\n",
       "      <td>NaN</td>\n",
       "      <td>NaN</td>\n",
       "      <td>NaN</td>\n",
       "      <td>NaN</td>\n",
       "      <td>NaN</td>\n",
       "      <td>NaN</td>\n",
       "      <td>NaN</td>\n",
       "    </tr>\n",
       "  </tbody>\n",
       "</table>\n",
       "<p>10453 rows × 28 columns</p>\n",
       "</div>"
      ],
      "text/plain": [
       "       Unnamed: 0                                              Title  \\\n",
       "0               0  Post-Cold War Russian Revisionism and Conspira...   \n",
       "1               1  The Birth of Psychological War: Propaganda, Es...   \n",
       "2               2  The Birth of Psychological War: Propaganda, Es...   \n",
       "3               3  The Birth of Psychological War: Propaganda, Es...   \n",
       "4               4                 “A Serpent, in the Shape of a Spy”   \n",
       "...           ...                                                ...   \n",
       "10448       10448       Intelligence Services in the Information Age   \n",
       "10449       10449  Intelligence and Government in Britain and the...   \n",
       "10450       10450  Intelligence and Government in Britain and the...   \n",
       "10451       10451  Intelligence and Government in Britain and the...   \n",
       "10452       10452  Intelligence and Government in Britain and the...   \n",
       "\n",
       "      Publication type                                Link to publication  \\\n",
       "0               Thesis    http://jhir.library.jhu.edu/handle/1774.2/62090   \n",
       "1                 Book  https://global.oup.com/academic/product/the-bi...   \n",
       "2                 Book  https://global.oup.com/academic/product/the-bi...   \n",
       "3                 Book  https://global.oup.com/academic/product/the-bi...   \n",
       "4         Book chapter  https://doi.org/10.1093/oso/9780197628591.003....   \n",
       "...                ...                                                ...   \n",
       "10448             Book              https://doi.org/10.4324/9780203479667   \n",
       "10449             Book                                                NaN   \n",
       "10450             Book                                                NaN   \n",
       "10451             Book                                                NaN   \n",
       "10452             Book                                                NaN   \n",
       "\n",
       "                                                Abstract  \\\n",
       "0      The purpose of this research study is to draw ...   \n",
       "1      The Birth of Psychological War explores the hi...   \n",
       "2      The Birth of Psychological War explores the hi...   \n",
       "3      The Birth of Psychological War explores the hi...   \n",
       "4      In 1811 and 1812, former British spy John Henr...   \n",
       "...                                                  ...   \n",
       "10448                                                NaN   \n",
       "10449                                                NaN   \n",
       "10450                                                NaN   \n",
       "10451                                                NaN   \n",
       "10452                                                NaN   \n",
       "\n",
       "                                             Zotero link Date published  \\\n",
       "0      https://www.zotero.org/groups/intelligence_bib...     2019-08-29   \n",
       "1      https://www.zotero.org/groups/intelligence_bib...     2023-07-19   \n",
       "2      https://www.zotero.org/groups/intelligence_bib...     2023-07-19   \n",
       "3      https://www.zotero.org/groups/intelligence_bib...     2023-07-19   \n",
       "4      https://www.zotero.org/groups/intelligence_bib...     2024-07-01   \n",
       "...                                                  ...            ...   \n",
       "10448  https://www.zotero.org/groups/intelligence_bib...           2013   \n",
       "10449  https://www.zotero.org/groups/intelligence_bib...           2012   \n",
       "10450  https://www.zotero.org/groups/intelligence_bib...           2012   \n",
       "10451  https://www.zotero.org/groups/intelligence_bib...           2012   \n",
       "10452  https://www.zotero.org/groups/intelligence_bib...           2012   \n",
       "\n",
       "               FirstName2                Publisher Journal  ...  \\\n",
       "0      Trina Marie Scheie                      NaN     NaN  ...   \n",
       "1           Jeffrey Whyte  Oxford University Press     NaN  ...   \n",
       "2           Jeffrey Whyte  Oxford University Press     NaN  ...   \n",
       "3           Jeffrey Whyte  Oxford University Press     NaN  ...   \n",
       "4            Tyson Reeder  Oxford University Press     NaN  ...   \n",
       "...                   ...                      ...     ...  ...   \n",
       "10448      Michael Herman                Routledge     NaN  ...   \n",
       "10449  Philip H.J. Davies                  Praeger     NaN  ...   \n",
       "10450  Philip H.J. Davies                  Praeger     NaN  ...   \n",
       "10451  Philip H.J. Davies                  Praeger     NaN  ...   \n",
       "10452  Philip H.J. Davies                  Praeger     NaN  ...   \n",
       "\n",
       "                                         Collection_Link   ID Citation  \\\n",
       "0      https://www.zotero.org/groups/intelligence_bib...  NaN      NaN   \n",
       "1      https://www.zotero.org/groups/intelligence_bib...  NaN      NaN   \n",
       "2      https://www.zotero.org/groups/intelligence_bib...  NaN      NaN   \n",
       "3      https://www.zotero.org/groups/intelligence_bib...  NaN      NaN   \n",
       "4      https://www.zotero.org/groups/intelligence_bib...  NaN      NaN   \n",
       "...                                                  ...  ...      ...   \n",
       "10448  https://www.zotero.org/groups/intelligence_bib...  NaN      NaN   \n",
       "10449  https://www.zotero.org/groups/intelligence_bib...  NaN      NaN   \n",
       "10450  https://www.zotero.org/groups/intelligence_bib...  NaN      NaN   \n",
       "10451  https://www.zotero.org/groups/intelligence_bib...  NaN      NaN   \n",
       "10452  https://www.zotero.org/groups/intelligence_bib...  NaN      NaN   \n",
       "\n",
       "      OA status Citation_list First_citation_year Last_citation_year  \\\n",
       "0           NaN           NaN                 NaN                NaN   \n",
       "1           NaN           NaN                 NaN                NaN   \n",
       "2           NaN           NaN                 NaN                NaN   \n",
       "3           NaN           NaN                 NaN                NaN   \n",
       "4           NaN           NaN                 NaN                NaN   \n",
       "...         ...           ...                 ...                ...   \n",
       "10448       NaN           NaN                 NaN                NaN   \n",
       "10449       NaN           NaN                 NaN                NaN   \n",
       "10450       NaN           NaN                 NaN                NaN   \n",
       "10451       NaN           NaN                 NaN                NaN   \n",
       "10452       NaN           NaN                 NaN                NaN   \n",
       "\n",
       "      Publication_year OA_link Year_difference  \n",
       "0                  NaN     NaN             NaN  \n",
       "1                  NaN     NaN             NaN  \n",
       "2                  NaN     NaN             NaN  \n",
       "3                  NaN     NaN             NaN  \n",
       "4                  NaN     NaN             NaN  \n",
       "...                ...     ...             ...  \n",
       "10448              NaN     NaN             NaN  \n",
       "10449              NaN     NaN             NaN  \n",
       "10450              NaN     NaN             NaN  \n",
       "10451              NaN     NaN             NaN  \n",
       "10452              NaN     NaN             NaN  \n",
       "\n",
       "[10453 rows x 28 columns]"
      ]
     },
     "execution_count": 164,
     "metadata": {},
     "output_type": "execute_result"
    }
   ],
   "source": [
    "df_2 = pd.read_csv('all_items_duplicated.csv')\n",
    "df_2"
   ]
  },
  {
   "cell_type": "code",
   "execution_count": 165,
   "metadata": {},
   "outputs": [
    {
     "data": {
      "text/html": [
       "<div>\n",
       "<style scoped>\n",
       "    .dataframe tbody tr th:only-of-type {\n",
       "        vertical-align: middle;\n",
       "    }\n",
       "\n",
       "    .dataframe tbody tr th {\n",
       "        vertical-align: top;\n",
       "    }\n",
       "\n",
       "    .dataframe thead th {\n",
       "        text-align: right;\n",
       "    }\n",
       "</style>\n",
       "<table border=\"1\" class=\"dataframe\">\n",
       "  <thead>\n",
       "    <tr style=\"text-align: right;\">\n",
       "      <th></th>\n",
       "      <th>Unnamed: 0</th>\n",
       "      <th>Title</th>\n",
       "      <th>Publication type</th>\n",
       "      <th>Link to publication</th>\n",
       "      <th>Abstract</th>\n",
       "      <th>Zotero link</th>\n",
       "      <th>Date published</th>\n",
       "      <th>FirstName2</th>\n",
       "      <th>Publisher</th>\n",
       "      <th>Journal</th>\n",
       "      <th>...</th>\n",
       "      <th>Collection_Link</th>\n",
       "      <th>ID</th>\n",
       "      <th>Citation</th>\n",
       "      <th>OA status</th>\n",
       "      <th>Citation_list</th>\n",
       "      <th>First_citation_year</th>\n",
       "      <th>Last_citation_year</th>\n",
       "      <th>Publication_year</th>\n",
       "      <th>OA_link</th>\n",
       "      <th>Year_difference</th>\n",
       "    </tr>\n",
       "  </thead>\n",
       "  <tbody>\n",
       "    <tr>\n",
       "      <th>7800</th>\n",
       "      <td>7800</td>\n",
       "      <td>Modeling an Intelligence Analysis Profession o...</td>\n",
       "      <td>Journal article</td>\n",
       "      <td>https://doi.org/10.1080/08850600600829882</td>\n",
       "      <td>NaN</td>\n",
       "      <td>https://www.zotero.org/groups/intelligence_bib...</td>\n",
       "      <td>2006-12-01</td>\n",
       "      <td>Stephen Marrin, Jonathan D. Clemente</td>\n",
       "      <td>NaN</td>\n",
       "      <td>Intl Journal of Intelligence and Counterintell...</td>\n",
       "      <td>...</td>\n",
       "      <td>https://www.zotero.org/groups/intelligence_bib...</td>\n",
       "      <td>https://openalex.org/W2074061346</td>\n",
       "      <td>16.0</td>\n",
       "      <td>True</td>\n",
       "      <td>https://api.openalex.org/works?filter=cites:W2...</td>\n",
       "      <td>2012.0</td>\n",
       "      <td>2023.0</td>\n",
       "      <td>2006.0</td>\n",
       "      <td>http://www.stuart-hall.com/ftp/IJIC--Vol19No4-...</td>\n",
       "      <td>6.0</td>\n",
       "    </tr>\n",
       "  </tbody>\n",
       "</table>\n",
       "<p>1 rows × 28 columns</p>\n",
       "</div>"
      ],
      "text/plain": [
       "      Unnamed: 0                                              Title  \\\n",
       "7800        7800  Modeling an Intelligence Analysis Profession o...   \n",
       "\n",
       "     Publication type                        Link to publication Abstract  \\\n",
       "7800  Journal article  https://doi.org/10.1080/08850600600829882      NaN   \n",
       "\n",
       "                                            Zotero link Date published  \\\n",
       "7800  https://www.zotero.org/groups/intelligence_bib...     2006-12-01   \n",
       "\n",
       "                                FirstName2 Publisher  \\\n",
       "7800  Stephen Marrin, Jonathan D. Clemente       NaN   \n",
       "\n",
       "                                                Journal  ...  \\\n",
       "7800  Intl Journal of Intelligence and Counterintell...  ...   \n",
       "\n",
       "                                        Collection_Link  \\\n",
       "7800  https://www.zotero.org/groups/intelligence_bib...   \n",
       "\n",
       "                                    ID Citation OA status  \\\n",
       "7800  https://openalex.org/W2074061346     16.0      True   \n",
       "\n",
       "                                          Citation_list First_citation_year  \\\n",
       "7800  https://api.openalex.org/works?filter=cites:W2...              2012.0   \n",
       "\n",
       "     Last_citation_year Publication_year  \\\n",
       "7800             2023.0           2006.0   \n",
       "\n",
       "                                                OA_link Year_difference  \n",
       "7800  http://www.stuart-hall.com/ftp/IJIC--Vol19No4-...             6.0  \n",
       "\n",
       "[1 rows x 28 columns]"
      ]
     },
     "execution_count": 165,
     "metadata": {},
     "output_type": "execute_result"
    }
   ],
   "source": [
    "ttt = df_2[df_2['DOI']=='10.1080/08850600600829882']\n",
    "ttt"
   ]
  },
  {
   "cell_type": "code",
   "execution_count": 166,
   "metadata": {},
   "outputs": [],
   "source": [
    "# df_zotero_id = df_2[['Zotero link']].copy()\n",
    "# df_zotero_id['Zotero link'] = df_zotero_id['Zotero link'].str.replace(\n",
    "#     'https://www.zotero.org/groups/intelligence_bibliography/items/', ''\n",
    "# )\n",
    "# df_zotero_id = df_zotero_id.drop_duplicates(subset='Zotero link').reset_index(drop=True)\n",
    "# df_zotero_id = df_zotero_id.rename(columns={'Zotero link':'zotero_item_key'})\n",
    "# # df_zotero_id = df_zotero_id.head(100)\n",
    "# df_zotero_id"
   ]
  },
  {
   "cell_type": "code",
   "execution_count": 167,
   "metadata": {},
   "outputs": [
    {
     "name": "stderr",
     "output_type": "stream",
     "text": [
      "C:\\Users\\yaozk\\AppData\\Local\\Temp\\ipykernel_50828\\1839613883.py:4: FutureWarning:\n",
      "\n",
      "The default value of regex will change from True to False in a future version.\n",
      "\n"
     ]
    },
    {
     "data": {
      "text/html": [
       "<div>\n",
       "<style scoped>\n",
       "    .dataframe tbody tr th:only-of-type {\n",
       "        vertical-align: middle;\n",
       "    }\n",
       "\n",
       "    .dataframe tbody tr th {\n",
       "        vertical-align: top;\n",
       "    }\n",
       "\n",
       "    .dataframe thead th {\n",
       "        text-align: right;\n",
       "    }\n",
       "</style>\n",
       "<table border=\"1\" class=\"dataframe\">\n",
       "  <thead>\n",
       "    <tr style=\"text-align: right;\">\n",
       "      <th></th>\n",
       "      <th>zotero_item_key</th>\n",
       "    </tr>\n",
       "  </thead>\n",
       "  <tbody>\n",
       "    <tr>\n",
       "      <th>0</th>\n",
       "      <td>YZ8ZXURG</td>\n",
       "    </tr>\n",
       "    <tr>\n",
       "      <th>1</th>\n",
       "      <td>3YEC87VF</td>\n",
       "    </tr>\n",
       "    <tr>\n",
       "      <th>2</th>\n",
       "      <td>URSG98FG</td>\n",
       "    </tr>\n",
       "    <tr>\n",
       "      <th>3</th>\n",
       "      <td>D6SRYB62</td>\n",
       "    </tr>\n",
       "    <tr>\n",
       "      <th>4</th>\n",
       "      <td>JYWH3EV8</td>\n",
       "    </tr>\n",
       "    <tr>\n",
       "      <th>5</th>\n",
       "      <td>JXVZW6J9</td>\n",
       "    </tr>\n",
       "    <tr>\n",
       "      <th>6</th>\n",
       "      <td>ZWTFUX2U</td>\n",
       "    </tr>\n",
       "    <tr>\n",
       "      <th>7</th>\n",
       "      <td>9AJEHXHI</td>\n",
       "    </tr>\n",
       "    <tr>\n",
       "      <th>8</th>\n",
       "      <td>5DV2YW4J</td>\n",
       "    </tr>\n",
       "    <tr>\n",
       "      <th>9</th>\n",
       "      <td>XFHCNHTT</td>\n",
       "    </tr>\n",
       "    <tr>\n",
       "      <th>10</th>\n",
       "      <td>38F4LZFT</td>\n",
       "    </tr>\n",
       "    <tr>\n",
       "      <th>11</th>\n",
       "      <td>C9W48M4B</td>\n",
       "    </tr>\n",
       "    <tr>\n",
       "      <th>12</th>\n",
       "      <td>83CD7TYI</td>\n",
       "    </tr>\n",
       "    <tr>\n",
       "      <th>13</th>\n",
       "      <td>Y9Y3HPV7</td>\n",
       "    </tr>\n",
       "    <tr>\n",
       "      <th>14</th>\n",
       "      <td>IDYW3I3Q</td>\n",
       "    </tr>\n",
       "    <tr>\n",
       "      <th>15</th>\n",
       "      <td>9DES4FX5</td>\n",
       "    </tr>\n",
       "    <tr>\n",
       "      <th>16</th>\n",
       "      <td>ETMVSMRZ</td>\n",
       "    </tr>\n",
       "    <tr>\n",
       "      <th>17</th>\n",
       "      <td>VBH9NM6R</td>\n",
       "    </tr>\n",
       "    <tr>\n",
       "      <th>18</th>\n",
       "      <td>DPIY7EP8</td>\n",
       "    </tr>\n",
       "    <tr>\n",
       "      <th>19</th>\n",
       "      <td>INENT9MA</td>\n",
       "    </tr>\n",
       "    <tr>\n",
       "      <th>20</th>\n",
       "      <td>GMJW5WFS</td>\n",
       "    </tr>\n",
       "    <tr>\n",
       "      <th>21</th>\n",
       "      <td>R7RWMGPC</td>\n",
       "    </tr>\n",
       "    <tr>\n",
       "      <th>22</th>\n",
       "      <td>B3LAW2KE</td>\n",
       "    </tr>\n",
       "    <tr>\n",
       "      <th>23</th>\n",
       "      <td>4VMM5744</td>\n",
       "    </tr>\n",
       "    <tr>\n",
       "      <th>24</th>\n",
       "      <td>5F96X4DN</td>\n",
       "    </tr>\n",
       "    <tr>\n",
       "      <th>25</th>\n",
       "      <td>3BN2MGKN</td>\n",
       "    </tr>\n",
       "    <tr>\n",
       "      <th>26</th>\n",
       "      <td>5A2CR9MY</td>\n",
       "    </tr>\n",
       "    <tr>\n",
       "      <th>27</th>\n",
       "      <td>9W3ME76L</td>\n",
       "    </tr>\n",
       "    <tr>\n",
       "      <th>28</th>\n",
       "      <td>89EA58NH</td>\n",
       "    </tr>\n",
       "    <tr>\n",
       "      <th>29</th>\n",
       "      <td>E5JEC9Y4</td>\n",
       "    </tr>\n",
       "    <tr>\n",
       "      <th>30</th>\n",
       "      <td>Q84JCURM</td>\n",
       "    </tr>\n",
       "    <tr>\n",
       "      <th>31</th>\n",
       "      <td>WRTRLYAY</td>\n",
       "    </tr>\n",
       "    <tr>\n",
       "      <th>32</th>\n",
       "      <td>UDAYLQML</td>\n",
       "    </tr>\n",
       "    <tr>\n",
       "      <th>33</th>\n",
       "      <td>33HFC2A7</td>\n",
       "    </tr>\n",
       "    <tr>\n",
       "      <th>34</th>\n",
       "      <td>LZ2BWV2I</td>\n",
       "    </tr>\n",
       "    <tr>\n",
       "      <th>35</th>\n",
       "      <td>AW4DDMEQ</td>\n",
       "    </tr>\n",
       "    <tr>\n",
       "      <th>36</th>\n",
       "      <td>TRW95A27</td>\n",
       "    </tr>\n",
       "    <tr>\n",
       "      <th>37</th>\n",
       "      <td>GZITNM4B</td>\n",
       "    </tr>\n",
       "    <tr>\n",
       "      <th>38</th>\n",
       "      <td>CK26FDIF</td>\n",
       "    </tr>\n",
       "    <tr>\n",
       "      <th>39</th>\n",
       "      <td>8W2B6YUW</td>\n",
       "    </tr>\n",
       "    <tr>\n",
       "      <th>40</th>\n",
       "      <td>6X4J4ETE</td>\n",
       "    </tr>\n",
       "    <tr>\n",
       "      <th>41</th>\n",
       "      <td>WWJRPHMV</td>\n",
       "    </tr>\n",
       "    <tr>\n",
       "      <th>42</th>\n",
       "      <td>NQWJ9QPG</td>\n",
       "    </tr>\n",
       "    <tr>\n",
       "      <th>43</th>\n",
       "      <td>U39ZPNMM</td>\n",
       "    </tr>\n",
       "    <tr>\n",
       "      <th>44</th>\n",
       "      <td>2G66LX33</td>\n",
       "    </tr>\n",
       "    <tr>\n",
       "      <th>45</th>\n",
       "      <td>F9NUWFLR</td>\n",
       "    </tr>\n",
       "    <tr>\n",
       "      <th>46</th>\n",
       "      <td>DG3Q6KX5</td>\n",
       "    </tr>\n",
       "    <tr>\n",
       "      <th>47</th>\n",
       "      <td>8JHPRYYC</td>\n",
       "    </tr>\n",
       "  </tbody>\n",
       "</table>\n",
       "</div>"
      ],
      "text/plain": [
       "   zotero_item_key\n",
       "0         YZ8ZXURG\n",
       "1         3YEC87VF\n",
       "2         URSG98FG\n",
       "3         D6SRYB62\n",
       "4         JYWH3EV8\n",
       "5         JXVZW6J9\n",
       "6         ZWTFUX2U\n",
       "7         9AJEHXHI\n",
       "8         5DV2YW4J\n",
       "9         XFHCNHTT\n",
       "10        38F4LZFT\n",
       "11        C9W48M4B\n",
       "12        83CD7TYI\n",
       "13        Y9Y3HPV7\n",
       "14        IDYW3I3Q\n",
       "15        9DES4FX5\n",
       "16        ETMVSMRZ\n",
       "17        VBH9NM6R\n",
       "18        DPIY7EP8\n",
       "19        INENT9MA\n",
       "20        GMJW5WFS\n",
       "21        R7RWMGPC\n",
       "22        B3LAW2KE\n",
       "23        4VMM5744\n",
       "24        5F96X4DN\n",
       "25        3BN2MGKN\n",
       "26        5A2CR9MY\n",
       "27        9W3ME76L\n",
       "28        89EA58NH\n",
       "29        E5JEC9Y4\n",
       "30        Q84JCURM\n",
       "31        WRTRLYAY\n",
       "32        UDAYLQML\n",
       "33        33HFC2A7\n",
       "34        LZ2BWV2I\n",
       "35        AW4DDMEQ\n",
       "36        TRW95A27\n",
       "37        GZITNM4B\n",
       "38        CK26FDIF\n",
       "39        8W2B6YUW\n",
       "40        6X4J4ETE\n",
       "41        WWJRPHMV\n",
       "42        NQWJ9QPG\n",
       "43        U39ZPNMM\n",
       "44        2G66LX33\n",
       "45        F9NUWFLR\n",
       "46        DG3Q6KX5\n",
       "47        8JHPRYYC"
      ]
     },
     "execution_count": 167,
     "metadata": {},
     "output_type": "execute_result"
    }
   ],
   "source": [
    "df_zotero_id = pd.read_csv('https://raw.githubusercontent.com/yusufaliozkan/zotero-intelligence-bibliography/main/zotero_citation_format.csv')\n",
    "df_all = pd.read_csv('all_items.csv')\n",
    "df_all = df_all[['Zotero link']]\n",
    "df_all['zotero_item_key'] = df_all['Zotero link'].str.replace('https://www.zotero.org/groups/intelligence_bibliography/items/', '')\n",
    "df_all = df_all.drop_duplicates()\n",
    "df_not_zotero_id = df_all[~df_all['zotero_item_key'].isin(df_zotero_id['zotero_item_key'])]\n",
    "df_not_zotero_id = df_not_zotero_id[['zotero_item_key']].reset_index(drop=True)\n",
    "df_not_zotero_id"
   ]
  },
  {
   "cell_type": "code",
   "execution_count": 168,
   "metadata": {},
   "outputs": [
    {
     "data": {
      "text/html": [
       "<div>\n",
       "<style scoped>\n",
       "    .dataframe tbody tr th:only-of-type {\n",
       "        vertical-align: middle;\n",
       "    }\n",
       "\n",
       "    .dataframe tbody tr th {\n",
       "        vertical-align: top;\n",
       "    }\n",
       "\n",
       "    .dataframe thead th {\n",
       "        text-align: right;\n",
       "    }\n",
       "</style>\n",
       "<table border=\"1\" class=\"dataframe\">\n",
       "  <thead>\n",
       "    <tr style=\"text-align: right;\">\n",
       "      <th></th>\n",
       "      <th>zotero_item_key</th>\n",
       "      <th>bibliography</th>\n",
       "    </tr>\n",
       "  </thead>\n",
       "  <tbody>\n",
       "    <tr>\n",
       "      <th>0</th>\n",
       "      <td>YZ8ZXURG</td>\n",
       "      <td>&lt;?xml version=\"1.0\"?&gt;\\n&lt;div class=\"csl-bib-bod...</td>\n",
       "    </tr>\n",
       "    <tr>\n",
       "      <th>1</th>\n",
       "      <td>3YEC87VF</td>\n",
       "      <td>&lt;?xml version=\"1.0\"?&gt;\\n&lt;div class=\"csl-bib-bod...</td>\n",
       "    </tr>\n",
       "    <tr>\n",
       "      <th>2</th>\n",
       "      <td>URSG98FG</td>\n",
       "      <td>&lt;?xml version=\"1.0\"?&gt;\\n&lt;div class=\"csl-bib-bod...</td>\n",
       "    </tr>\n",
       "    <tr>\n",
       "      <th>3</th>\n",
       "      <td>D6SRYB62</td>\n",
       "      <td>&lt;?xml version=\"1.0\"?&gt;\\n&lt;div class=\"csl-bib-bod...</td>\n",
       "    </tr>\n",
       "    <tr>\n",
       "      <th>4</th>\n",
       "      <td>JYWH3EV8</td>\n",
       "      <td>&lt;?xml version=\"1.0\"?&gt;\\n&lt;div class=\"csl-bib-bod...</td>\n",
       "    </tr>\n",
       "    <tr>\n",
       "      <th>5</th>\n",
       "      <td>JXVZW6J9</td>\n",
       "      <td>&lt;?xml version=\"1.0\"?&gt;\\n&lt;div class=\"csl-bib-bod...</td>\n",
       "    </tr>\n",
       "    <tr>\n",
       "      <th>6</th>\n",
       "      <td>ZWTFUX2U</td>\n",
       "      <td>&lt;?xml version=\"1.0\"?&gt;\\n&lt;div class=\"csl-bib-bod...</td>\n",
       "    </tr>\n",
       "    <tr>\n",
       "      <th>7</th>\n",
       "      <td>9AJEHXHI</td>\n",
       "      <td>&lt;?xml version=\"1.0\"?&gt;\\n&lt;div class=\"csl-bib-bod...</td>\n",
       "    </tr>\n",
       "    <tr>\n",
       "      <th>8</th>\n",
       "      <td>5DV2YW4J</td>\n",
       "      <td>&lt;?xml version=\"1.0\"?&gt;\\n&lt;div class=\"csl-bib-bod...</td>\n",
       "    </tr>\n",
       "    <tr>\n",
       "      <th>9</th>\n",
       "      <td>XFHCNHTT</td>\n",
       "      <td>&lt;?xml version=\"1.0\"?&gt;\\n&lt;div class=\"csl-bib-bod...</td>\n",
       "    </tr>\n",
       "    <tr>\n",
       "      <th>10</th>\n",
       "      <td>38F4LZFT</td>\n",
       "      <td>&lt;?xml version=\"1.0\"?&gt;\\n&lt;div class=\"csl-bib-bod...</td>\n",
       "    </tr>\n",
       "    <tr>\n",
       "      <th>11</th>\n",
       "      <td>C9W48M4B</td>\n",
       "      <td>&lt;?xml version=\"1.0\"?&gt;\\n&lt;div class=\"csl-bib-bod...</td>\n",
       "    </tr>\n",
       "    <tr>\n",
       "      <th>12</th>\n",
       "      <td>83CD7TYI</td>\n",
       "      <td>&lt;?xml version=\"1.0\"?&gt;\\n&lt;div class=\"csl-bib-bod...</td>\n",
       "    </tr>\n",
       "    <tr>\n",
       "      <th>13</th>\n",
       "      <td>Y9Y3HPV7</td>\n",
       "      <td>&lt;?xml version=\"1.0\"?&gt;\\n&lt;div class=\"csl-bib-bod...</td>\n",
       "    </tr>\n",
       "    <tr>\n",
       "      <th>14</th>\n",
       "      <td>IDYW3I3Q</td>\n",
       "      <td>&lt;?xml version=\"1.0\"?&gt;\\n&lt;div class=\"csl-bib-bod...</td>\n",
       "    </tr>\n",
       "    <tr>\n",
       "      <th>15</th>\n",
       "      <td>9DES4FX5</td>\n",
       "      <td>&lt;?xml version=\"1.0\"?&gt;\\n&lt;div class=\"csl-bib-bod...</td>\n",
       "    </tr>\n",
       "    <tr>\n",
       "      <th>16</th>\n",
       "      <td>ETMVSMRZ</td>\n",
       "      <td>&lt;?xml version=\"1.0\"?&gt;\\n&lt;div class=\"csl-bib-bod...</td>\n",
       "    </tr>\n",
       "    <tr>\n",
       "      <th>17</th>\n",
       "      <td>VBH9NM6R</td>\n",
       "      <td>&lt;?xml version=\"1.0\"?&gt;\\n&lt;div class=\"csl-bib-bod...</td>\n",
       "    </tr>\n",
       "    <tr>\n",
       "      <th>18</th>\n",
       "      <td>DPIY7EP8</td>\n",
       "      <td>&lt;?xml version=\"1.0\"?&gt;\\n&lt;div class=\"csl-bib-bod...</td>\n",
       "    </tr>\n",
       "    <tr>\n",
       "      <th>19</th>\n",
       "      <td>INENT9MA</td>\n",
       "      <td>&lt;?xml version=\"1.0\"?&gt;\\n&lt;div class=\"csl-bib-bod...</td>\n",
       "    </tr>\n",
       "    <tr>\n",
       "      <th>20</th>\n",
       "      <td>GMJW5WFS</td>\n",
       "      <td>&lt;?xml version=\"1.0\"?&gt;\\n&lt;div class=\"csl-bib-bod...</td>\n",
       "    </tr>\n",
       "    <tr>\n",
       "      <th>21</th>\n",
       "      <td>R7RWMGPC</td>\n",
       "      <td>&lt;?xml version=\"1.0\"?&gt;\\n&lt;div class=\"csl-bib-bod...</td>\n",
       "    </tr>\n",
       "    <tr>\n",
       "      <th>22</th>\n",
       "      <td>B3LAW2KE</td>\n",
       "      <td>&lt;?xml version=\"1.0\"?&gt;\\n&lt;div class=\"csl-bib-bod...</td>\n",
       "    </tr>\n",
       "    <tr>\n",
       "      <th>23</th>\n",
       "      <td>4VMM5744</td>\n",
       "      <td>&lt;?xml version=\"1.0\"?&gt;\\n&lt;div class=\"csl-bib-bod...</td>\n",
       "    </tr>\n",
       "    <tr>\n",
       "      <th>24</th>\n",
       "      <td>5F96X4DN</td>\n",
       "      <td>&lt;?xml version=\"1.0\"?&gt;\\n&lt;div class=\"csl-bib-bod...</td>\n",
       "    </tr>\n",
       "    <tr>\n",
       "      <th>25</th>\n",
       "      <td>3BN2MGKN</td>\n",
       "      <td>&lt;?xml version=\"1.0\"?&gt;\\n&lt;div class=\"csl-bib-bod...</td>\n",
       "    </tr>\n",
       "    <tr>\n",
       "      <th>26</th>\n",
       "      <td>5A2CR9MY</td>\n",
       "      <td>&lt;?xml version=\"1.0\"?&gt;\\n&lt;div class=\"csl-bib-bod...</td>\n",
       "    </tr>\n",
       "    <tr>\n",
       "      <th>27</th>\n",
       "      <td>9W3ME76L</td>\n",
       "      <td>&lt;?xml version=\"1.0\"?&gt;\\n&lt;div class=\"csl-bib-bod...</td>\n",
       "    </tr>\n",
       "    <tr>\n",
       "      <th>28</th>\n",
       "      <td>89EA58NH</td>\n",
       "      <td>&lt;?xml version=\"1.0\"?&gt;\\n&lt;div class=\"csl-bib-bod...</td>\n",
       "    </tr>\n",
       "    <tr>\n",
       "      <th>29</th>\n",
       "      <td>E5JEC9Y4</td>\n",
       "      <td>&lt;?xml version=\"1.0\"?&gt;\\n&lt;div class=\"csl-bib-bod...</td>\n",
       "    </tr>\n",
       "    <tr>\n",
       "      <th>30</th>\n",
       "      <td>Q84JCURM</td>\n",
       "      <td>&lt;?xml version=\"1.0\"?&gt;\\n&lt;div class=\"csl-bib-bod...</td>\n",
       "    </tr>\n",
       "    <tr>\n",
       "      <th>31</th>\n",
       "      <td>WRTRLYAY</td>\n",
       "      <td>&lt;?xml version=\"1.0\"?&gt;\\n&lt;div class=\"csl-bib-bod...</td>\n",
       "    </tr>\n",
       "    <tr>\n",
       "      <th>32</th>\n",
       "      <td>UDAYLQML</td>\n",
       "      <td>&lt;?xml version=\"1.0\"?&gt;\\n&lt;div class=\"csl-bib-bod...</td>\n",
       "    </tr>\n",
       "    <tr>\n",
       "      <th>33</th>\n",
       "      <td>33HFC2A7</td>\n",
       "      <td>&lt;?xml version=\"1.0\"?&gt;\\n&lt;div class=\"csl-bib-bod...</td>\n",
       "    </tr>\n",
       "    <tr>\n",
       "      <th>34</th>\n",
       "      <td>LZ2BWV2I</td>\n",
       "      <td>&lt;?xml version=\"1.0\"?&gt;\\n&lt;div class=\"csl-bib-bod...</td>\n",
       "    </tr>\n",
       "    <tr>\n",
       "      <th>35</th>\n",
       "      <td>AW4DDMEQ</td>\n",
       "      <td>&lt;?xml version=\"1.0\"?&gt;\\n&lt;div class=\"csl-bib-bod...</td>\n",
       "    </tr>\n",
       "    <tr>\n",
       "      <th>36</th>\n",
       "      <td>TRW95A27</td>\n",
       "      <td>&lt;?xml version=\"1.0\"?&gt;\\n&lt;div class=\"csl-bib-bod...</td>\n",
       "    </tr>\n",
       "    <tr>\n",
       "      <th>37</th>\n",
       "      <td>GZITNM4B</td>\n",
       "      <td>&lt;?xml version=\"1.0\"?&gt;\\n&lt;div class=\"csl-bib-bod...</td>\n",
       "    </tr>\n",
       "    <tr>\n",
       "      <th>38</th>\n",
       "      <td>CK26FDIF</td>\n",
       "      <td>&lt;?xml version=\"1.0\"?&gt;\\n&lt;div class=\"csl-bib-bod...</td>\n",
       "    </tr>\n",
       "    <tr>\n",
       "      <th>39</th>\n",
       "      <td>8W2B6YUW</td>\n",
       "      <td>&lt;?xml version=\"1.0\"?&gt;\\n&lt;div class=\"csl-bib-bod...</td>\n",
       "    </tr>\n",
       "    <tr>\n",
       "      <th>40</th>\n",
       "      <td>6X4J4ETE</td>\n",
       "      <td>&lt;?xml version=\"1.0\"?&gt;\\n&lt;div class=\"csl-bib-bod...</td>\n",
       "    </tr>\n",
       "    <tr>\n",
       "      <th>41</th>\n",
       "      <td>WWJRPHMV</td>\n",
       "      <td>&lt;?xml version=\"1.0\"?&gt;\\n&lt;div class=\"csl-bib-bod...</td>\n",
       "    </tr>\n",
       "    <tr>\n",
       "      <th>42</th>\n",
       "      <td>NQWJ9QPG</td>\n",
       "      <td>&lt;?xml version=\"1.0\"?&gt;\\n&lt;div class=\"csl-bib-bod...</td>\n",
       "    </tr>\n",
       "    <tr>\n",
       "      <th>43</th>\n",
       "      <td>U39ZPNMM</td>\n",
       "      <td>&lt;?xml version=\"1.0\"?&gt;\\n&lt;div class=\"csl-bib-bod...</td>\n",
       "    </tr>\n",
       "    <tr>\n",
       "      <th>44</th>\n",
       "      <td>2G66LX33</td>\n",
       "      <td>&lt;?xml version=\"1.0\"?&gt;\\n&lt;div class=\"csl-bib-bod...</td>\n",
       "    </tr>\n",
       "    <tr>\n",
       "      <th>45</th>\n",
       "      <td>F9NUWFLR</td>\n",
       "      <td>&lt;?xml version=\"1.0\"?&gt;\\n&lt;div class=\"csl-bib-bod...</td>\n",
       "    </tr>\n",
       "    <tr>\n",
       "      <th>46</th>\n",
       "      <td>DG3Q6KX5</td>\n",
       "      <td>&lt;?xml version=\"1.0\"?&gt;\\n&lt;div class=\"csl-bib-bod...</td>\n",
       "    </tr>\n",
       "    <tr>\n",
       "      <th>47</th>\n",
       "      <td>8JHPRYYC</td>\n",
       "      <td>&lt;?xml version=\"1.0\"?&gt;\\n&lt;div class=\"csl-bib-bod...</td>\n",
       "    </tr>\n",
       "  </tbody>\n",
       "</table>\n",
       "</div>"
      ],
      "text/plain": [
       "   zotero_item_key                                       bibliography\n",
       "0         YZ8ZXURG  <?xml version=\"1.0\"?>\\n<div class=\"csl-bib-bod...\n",
       "1         3YEC87VF  <?xml version=\"1.0\"?>\\n<div class=\"csl-bib-bod...\n",
       "2         URSG98FG  <?xml version=\"1.0\"?>\\n<div class=\"csl-bib-bod...\n",
       "3         D6SRYB62  <?xml version=\"1.0\"?>\\n<div class=\"csl-bib-bod...\n",
       "4         JYWH3EV8  <?xml version=\"1.0\"?>\\n<div class=\"csl-bib-bod...\n",
       "5         JXVZW6J9  <?xml version=\"1.0\"?>\\n<div class=\"csl-bib-bod...\n",
       "6         ZWTFUX2U  <?xml version=\"1.0\"?>\\n<div class=\"csl-bib-bod...\n",
       "7         9AJEHXHI  <?xml version=\"1.0\"?>\\n<div class=\"csl-bib-bod...\n",
       "8         5DV2YW4J  <?xml version=\"1.0\"?>\\n<div class=\"csl-bib-bod...\n",
       "9         XFHCNHTT  <?xml version=\"1.0\"?>\\n<div class=\"csl-bib-bod...\n",
       "10        38F4LZFT  <?xml version=\"1.0\"?>\\n<div class=\"csl-bib-bod...\n",
       "11        C9W48M4B  <?xml version=\"1.0\"?>\\n<div class=\"csl-bib-bod...\n",
       "12        83CD7TYI  <?xml version=\"1.0\"?>\\n<div class=\"csl-bib-bod...\n",
       "13        Y9Y3HPV7  <?xml version=\"1.0\"?>\\n<div class=\"csl-bib-bod...\n",
       "14        IDYW3I3Q  <?xml version=\"1.0\"?>\\n<div class=\"csl-bib-bod...\n",
       "15        9DES4FX5  <?xml version=\"1.0\"?>\\n<div class=\"csl-bib-bod...\n",
       "16        ETMVSMRZ  <?xml version=\"1.0\"?>\\n<div class=\"csl-bib-bod...\n",
       "17        VBH9NM6R  <?xml version=\"1.0\"?>\\n<div class=\"csl-bib-bod...\n",
       "18        DPIY7EP8  <?xml version=\"1.0\"?>\\n<div class=\"csl-bib-bod...\n",
       "19        INENT9MA  <?xml version=\"1.0\"?>\\n<div class=\"csl-bib-bod...\n",
       "20        GMJW5WFS  <?xml version=\"1.0\"?>\\n<div class=\"csl-bib-bod...\n",
       "21        R7RWMGPC  <?xml version=\"1.0\"?>\\n<div class=\"csl-bib-bod...\n",
       "22        B3LAW2KE  <?xml version=\"1.0\"?>\\n<div class=\"csl-bib-bod...\n",
       "23        4VMM5744  <?xml version=\"1.0\"?>\\n<div class=\"csl-bib-bod...\n",
       "24        5F96X4DN  <?xml version=\"1.0\"?>\\n<div class=\"csl-bib-bod...\n",
       "25        3BN2MGKN  <?xml version=\"1.0\"?>\\n<div class=\"csl-bib-bod...\n",
       "26        5A2CR9MY  <?xml version=\"1.0\"?>\\n<div class=\"csl-bib-bod...\n",
       "27        9W3ME76L  <?xml version=\"1.0\"?>\\n<div class=\"csl-bib-bod...\n",
       "28        89EA58NH  <?xml version=\"1.0\"?>\\n<div class=\"csl-bib-bod...\n",
       "29        E5JEC9Y4  <?xml version=\"1.0\"?>\\n<div class=\"csl-bib-bod...\n",
       "30        Q84JCURM  <?xml version=\"1.0\"?>\\n<div class=\"csl-bib-bod...\n",
       "31        WRTRLYAY  <?xml version=\"1.0\"?>\\n<div class=\"csl-bib-bod...\n",
       "32        UDAYLQML  <?xml version=\"1.0\"?>\\n<div class=\"csl-bib-bod...\n",
       "33        33HFC2A7  <?xml version=\"1.0\"?>\\n<div class=\"csl-bib-bod...\n",
       "34        LZ2BWV2I  <?xml version=\"1.0\"?>\\n<div class=\"csl-bib-bod...\n",
       "35        AW4DDMEQ  <?xml version=\"1.0\"?>\\n<div class=\"csl-bib-bod...\n",
       "36        TRW95A27  <?xml version=\"1.0\"?>\\n<div class=\"csl-bib-bod...\n",
       "37        GZITNM4B  <?xml version=\"1.0\"?>\\n<div class=\"csl-bib-bod...\n",
       "38        CK26FDIF  <?xml version=\"1.0\"?>\\n<div class=\"csl-bib-bod...\n",
       "39        8W2B6YUW  <?xml version=\"1.0\"?>\\n<div class=\"csl-bib-bod...\n",
       "40        6X4J4ETE  <?xml version=\"1.0\"?>\\n<div class=\"csl-bib-bod...\n",
       "41        WWJRPHMV  <?xml version=\"1.0\"?>\\n<div class=\"csl-bib-bod...\n",
       "42        NQWJ9QPG  <?xml version=\"1.0\"?>\\n<div class=\"csl-bib-bod...\n",
       "43        U39ZPNMM  <?xml version=\"1.0\"?>\\n<div class=\"csl-bib-bod...\n",
       "44        2G66LX33  <?xml version=\"1.0\"?>\\n<div class=\"csl-bib-bod...\n",
       "45        F9NUWFLR  <?xml version=\"1.0\"?>\\n<div class=\"csl-bib-bod...\n",
       "46        DG3Q6KX5  <?xml version=\"1.0\"?>\\n<div class=\"csl-bib-bod...\n",
       "47        8JHPRYYC  <?xml version=\"1.0\"?>\\n<div class=\"csl-bib-bod..."
      ]
     },
     "execution_count": 168,
     "metadata": {},
     "output_type": "execute_result"
    }
   ],
   "source": [
    "user_id = '2514686'\n",
    "\n",
    "# Base URL for Zotero API\n",
    "base_url = 'https://api.zotero.org'\n",
    "\n",
    "# Initialize an empty string to accumulate bibliographies\n",
    "all_bibliographies = \"\"\n",
    "\n",
    "# List to store bibliographies\n",
    "bibliographies = []\n",
    "\n",
    "# Iterate through each item key in the DataFrame\n",
    "for item_key in df_not_zotero_id['zotero_item_key']:\n",
    "    # Endpoint to get item bibliography\n",
    "    endpoint = f'/groups/{user_id}/items/{item_key}'\n",
    "\n",
    "    # Parameters for the request\n",
    "    params = {\n",
    "        'format': 'bib',\n",
    "        'linkwrap': 1\n",
    "    }\n",
    "\n",
    "    # Make GET request to Zotero API\n",
    "    response = requests.get(base_url + endpoint, params=params)\n",
    "\n",
    "    # Check if request was successful\n",
    "    if response.status_code == 200:\n",
    "        bibliography = response.text.strip()  # Strip any leading/trailing whitespace\n",
    "        bibliographies.append(bibliography)\n",
    "        all_bibliographies += f'<p>{bibliography}</p><br><br>'  # Append bibliography with two newlines for separation\n",
    "    else:\n",
    "        error_message = f'Error fetching bibliography for item {item_key}: Status Code {response.status_code}'\n",
    "        bibliographies.append(error_message)\n",
    "        all_bibliographies += f'<p>{error_message}</p><br><br>'\n",
    "\n",
    "# Add bibliographies to the original DataFrame\n",
    "df_not_zotero_id['bibliography'] = bibliography\n",
    "df_not_zotero_id"
   ]
  },
  {
   "cell_type": "code",
   "execution_count": 169,
   "metadata": {},
   "outputs": [
    {
     "data": {
      "text/plain": [
       "['<?xml version=\"1.0\"?>\\n<div class=\"csl-bib-body\" style=\"line-height: 1.35; padding-left: 1em; text-indent:-1em;\">\\n  <div class=\"csl-entry\">Scheie, Trina Marie. &#x201C;Post-Cold War Russian Revisionism and Conspiratorial Thinking: Revealing Centuries of State Security and Intelligence Dependence.&#x201D; MA Thesis, Johns Hopkins University, 2019. <a href=\"http://jhir.library.jhu.edu/handle/1774.2/62090\">http://jhir.library.jhu.edu/handle/1774.2/62090</a>.</div>\\n</div>',\n",
       " '<?xml version=\"1.0\"?>\\n<div class=\"csl-bib-body\" style=\"line-height: 1.35; padding-left: 1em; text-indent:-1em;\">\\n  <div class=\"csl-entry\">Whyte, Jeffrey. <i>The Birth of Psychological War: Propaganda, Espionage, and Military Violence from WWII to the Vietnam War</i>. British Academy Monographs. Oxford, New York: Oxford University Press, 2023. <a href=\"https://global.oup.com/academic/product/the-birth-of-psychological-war-9780197267493?cc=gb&amp;lang=en&amp;\">https://global.oup.com/academic/product/the-birth-of-psychological-war-9780197267493?cc=gb&amp;lang=en&amp;</a>.</div>\\n</div>',\n",
       " 'Error fetching bibliography for item URSG98FG: Status Code 500',\n",
       " '<?xml version=\"1.0\"?>\\n<div class=\"csl-bib-body\" style=\"line-height: 1.35; padding-left: 1em; text-indent:-1em;\">\\n  <div class=\"csl-entry\">Cumerma, Alfredo. &#x201C;Cuba&#x2019;s Nation Brand: War and Intelligence in the Fiction of Norberto Fuentes.&#x201D; PhD Thesis, Johns Hopkins University, 2020. <a href=\"http://jhir.library.jhu.edu/handle/1774.2/63471\">http://jhir.library.jhu.edu/handle/1774.2/63471</a>.</div>\\n</div>',\n",
       " '<?xml version=\"1.0\"?>\\n<div class=\"csl-bib-body\" style=\"line-height: 1.35; padding-left: 1em; text-indent:-1em;\">\\n  <div class=\"csl-entry\">Lotrionte, Catherine. &#x201C;The Missing Piece: Why Intelligence Reform Failed After 9/11.&#x201D; MA Thesis, Georgetown University, 2008. <a href=\"https://repository.library.georgetown.edu/handle/10822/558203\">https://repository.library.georgetown.edu/handle/10822/558203</a>.</div>\\n</div>',\n",
       " '<?xml version=\"1.0\"?>\\n<div class=\"csl-bib-body\" style=\"line-height: 1.35; padding-left: 1em; text-indent:-1em;\">\\n  <div class=\"csl-entry\">Grigorian, David A. &#x201C;Russia&#x2019;s Influence and Disinformation Campaign in Armenia.&#x201D; <i>European Centre for International Political Economy (ECIPE)</i> (blog), June 1, 2024. <a href=\"https://ecipe.org/publications/russias-influence-disinformation-campaign-in-armenia/\">https://ecipe.org/publications/russias-influence-disinformation-campaign-in-armenia/</a>.</div>\\n</div>',\n",
       " '<?xml version=\"1.0\"?>\\n<div class=\"csl-bib-body\" style=\"line-height: 1.35; padding-left: 1em; text-indent:-1em;\">\\n  <div class=\"csl-entry\">Scheie, Trina Marie. &#x201C;Post-Cold War Russian Revisionism and Conspiratorial Thinking: Revealing Centuries of State Security and Intelligence Dependence.&#x201D; MA Thesis, Johns Hopkins University, 2019. <a href=\"http://jhir.library.jhu.edu/handle/1774.2/62090\">http://jhir.library.jhu.edu/handle/1774.2/62090</a>.</div>\\n</div>',\n",
       " '<?xml version=\"1.0\"?>\\n<div class=\"csl-bib-body\" style=\"line-height: 1.35; padding-left: 1em; text-indent:-1em;\">\\n  <div class=\"csl-entry\">Homburg, Michael B. &#x201C;INTELLIGENCE OVERSIGHT: IMPROVEMENT THROUGH CONTINUAL EVALUATION.&#x201D; MA Thesis, Johns Hopkins University, 2015. <a href=\"http://jhir.library.jhu.edu/handle/1774.2/39432\">http://jhir.library.jhu.edu/handle/1774.2/39432</a>.</div>\\n</div>',\n",
       " '<?xml version=\"1.0\"?>\\n<div class=\"csl-bib-body\" style=\"line-height: 1.35; padding-left: 1em; text-indent:-1em;\">\\n  <div class=\"csl-entry\">Hyek, George S. &#x201C;A HOLISTIC APPROACH TO PROTECTING NATIONAL SECURITY: INTEGRATING INTELLIGENCE AND RISK MANAGEMENT TO REDUCE INSIDER THREATS.&#x201D; MA Thesis, Johns Hopkins University, 2020. <a href=\"http://jhir.library.jhu.edu/handle/1774.2/63837\">http://jhir.library.jhu.edu/handle/1774.2/63837</a>.</div>\\n</div>',\n",
       " '<?xml version=\"1.0\"?>\\n<div class=\"csl-bib-body\" style=\"line-height: 1.35; padding-left: 1em; text-indent:-1em;\">\\n  <div class=\"csl-entry\">Hoang, Amanda Mae. &#x201C;INTELLIGENCE OVERSIGHT: NATIONAL SECURITY HANGING IN THE BALANCE OF LEGISLATIVE INCENTIVES AND PUBLIC OPINION.&#x201D; MA Thesis, Johns Hopkins University, 2014. <a href=\"http://jhir.library.jhu.edu/handle/1774.2/37251\">http://jhir.library.jhu.edu/handle/1774.2/37251</a>.</div>\\n</div>',\n",
       " '<?xml version=\"1.0\"?>\\n<div class=\"csl-bib-body\" style=\"line-height: 1.35; padding-left: 1em; text-indent:-1em;\">\\n  <div class=\"csl-entry\">Such, Lauryn. &#x201C;CLIMATE CHANGE IN THE DEPARTMENT OF DEFENSE.&#x201D; MA Thesis, Johns Hopkins University, 2022. <a href=\"http://jhir.library.jhu.edu/handle/1774.2/67804\">http://jhir.library.jhu.edu/handle/1774.2/67804</a>.</div>\\n</div>',\n",
       " '<?xml version=\"1.0\"?>\\n<div class=\"csl-bib-body\" style=\"line-height: 1.35; padding-left: 1em; text-indent:-1em;\">\\n  <div class=\"csl-entry\">Vogt, Edwin T. &#x201C;IS CONGRESSIONAL OVERSIGHT OF THE INTELLIGENCE COMMUNITY EFFECCTIVE.&#x201D; MA Thesis, Johns Hopkins University, 2015. <a href=\"http://jhir.library.jhu.edu/handle/1774.2/39433\">http://jhir.library.jhu.edu/handle/1774.2/39433</a>.</div>\\n</div>',\n",
       " '<?xml version=\"1.0\"?>\\n<div class=\"csl-bib-body\" style=\"line-height: 1.35; padding-left: 1em; text-indent:-1em;\">\\n  <div class=\"csl-entry\">Valverde, Isabel. &#x201C;Geospatial Intelligence and Reducing and Mitigating the Spread of the Coronavirus in Marion County Indiana.&#x201D; MA Thesis, Johns Hopkins University, 2020. <a href=\"http://jhir.library.jhu.edu/handle/1774.2/63116\">http://jhir.library.jhu.edu/handle/1774.2/63116</a>.</div>\\n</div>',\n",
       " '<?xml version=\"1.0\"?>\\n<div class=\"csl-bib-body\" style=\"line-height: 1.35; padding-left: 1em; text-indent:-1em;\">\\n  <div class=\"csl-entry\">Adamcheck, Rebecca. &#x201C;SUFFICIENCY AND RELATIVE VALUE OF INTELLIGENCE COLLECTION METHODS.&#x201D; MA Thesis, Johns Hopkins University, 2021. <a href=\"http://jhir.library.jhu.edu/handle/1774.2/64280\">http://jhir.library.jhu.edu/handle/1774.2/64280</a>.</div>\\n</div>',\n",
       " '<?xml version=\"1.0\"?>\\n<div class=\"csl-bib-body\" style=\"line-height: 1.35; padding-left: 1em; text-indent:-1em;\">\\n  <div class=\"csl-entry\">Rossi, Amanda. &#x201C;SHARING SECRETS: OPTIMIZING INTERNATIONAL INTELLIGENCE COOPERATION TO COUNTER TERRORISM &amp; RISING THREATS.&#x201D; MA Thesis, Johns Hopkins University, 2014. <a href=\"http://jhir.library.jhu.edu/handle/1774.2/37307\">http://jhir.library.jhu.edu/handle/1774.2/37307</a>.</div>\\n</div>',\n",
       " '<?xml version=\"1.0\"?>\\n<div class=\"csl-bib-body\" style=\"line-height: 1.35; padding-left: 1em; text-indent:-1em;\">\\n  <div class=\"csl-entry\">De Graaf, Anna. &#x201C;Conceptual Metaphors and Their Effect on Intelligence Analysis.&#x201D; MA Thesis, Johns Hopkins University, 2020. <a href=\"http://jhir.library.jhu.edu/handle/1774.2/62704\">http://jhir.library.jhu.edu/handle/1774.2/62704</a>.</div>\\n</div>',\n",
       " '<?xml version=\"1.0\"?>\\n<div class=\"csl-bib-body\" style=\"line-height: 1.35; padding-left: 1em; text-indent:-1em;\">\\n  <div class=\"csl-entry\">Cichoracki, Caitlin Ashleigh. &#x201C;THE EFFECTIVENESS OF INTELLIGENCE LED POLICING IN COUNTERING TERRORISM ON GLOBAL, NATIONAL, LOCAL, &amp; CYBER FRONTS.&#x201D; MA Thesis, Johns Hopkins University, 2020. <a href=\"http://jhir.library.jhu.edu/handle/1774.2/62722\">http://jhir.library.jhu.edu/handle/1774.2/62722</a>.</div>\\n</div>',\n",
       " '<?xml version=\"1.0\"?>\\n<div class=\"csl-bib-body\" style=\"line-height: 1.35; padding-left: 1em; text-indent:-1em;\">\\n  <div class=\"csl-entry\">Ogar, Sarah. &#x201C;Covert Networks: A Comparative Study of Intelligence Techniques Used By Foreign Intelligence Agencies to Weaponize Social Media.&#x201D; MA Thesis, Johns Hopkins University, 2019. <a href=\"http://jhir.library.jhu.edu/handle/1774.2/62325\">http://jhir.library.jhu.edu/handle/1774.2/62325</a>.</div>\\n</div>',\n",
       " '<?xml version=\"1.0\"?>\\n<div class=\"csl-bib-body\" style=\"line-height: 1.35; padding-left: 1em; text-indent:-1em;\">\\n  <div class=\"csl-entry\">Corey, Ralph. &#x201C;Crossing the Rubicon: Investigating Congressional Oversight of the Intelligence Community.&#x201D; MA Thesis, Johns Hopkins University, 2014. <a href=\"http://jhir.library.jhu.edu/handle/1774.2/37319\">http://jhir.library.jhu.edu/handle/1774.2/37319</a>.</div>\\n</div>',\n",
       " '<?xml version=\"1.0\"?>\\n<div class=\"csl-bib-body\" style=\"line-height: 1.35; padding-left: 1em; text-indent:-1em;\">\\n  <div class=\"csl-entry\">Est, Lauren. &#x201C;COCA CULTIVATION IN PERU: A GEOSPATIAL INTELLIGENCE COLLECTION PLAN.&#x201D; MA Thesis, Johns Hopkins University, 2022. <a href=\"http://jhir.library.jhu.edu/handle/1774.2/67818\">http://jhir.library.jhu.edu/handle/1774.2/67818</a>.</div>\\n</div>',\n",
       " '<?xml version=\"1.0\"?>\\n<div class=\"csl-bib-body\" style=\"line-height: 1.35; padding-left: 1em; text-indent:-1em;\">\\n  <div class=\"csl-entry\">Franklin, Fletcher. &#x201C;The Wide-Reaching Impacts of Intelligence Activities.&#x201D; MA Thesis, Johns Hopkins University, 2017. <a href=\"http://jhir.library.jhu.edu/handle/1774.2/44656\">http://jhir.library.jhu.edu/handle/1774.2/44656</a>.</div>\\n</div>',\n",
       " '<?xml version=\"1.0\"?>\\n<div class=\"csl-bib-body\" style=\"line-height: 1.35; padding-left: 1em; text-indent:-1em;\">\\n  <div class=\"csl-entry\">Hollenbeck, Charles. &#x201C;INTERDISCIPLINARY APPLICATIONS OF SOCIAL SCIENCE WITHIN INTELLIGENCE AND SECURITY: AN EXPLORATION OF IMPACTS MADE WITHIN DOMAINS BOTH FOREIGN AND DOMESTIC.&#x201D; Johns Hopkins University, 2020. <a href=\"http://jhir.library.jhu.edu/handle/1774.2/63297\">http://jhir.library.jhu.edu/handle/1774.2/63297</a>.</div>\\n</div>',\n",
       " '<?xml version=\"1.0\"?>\\n<div class=\"csl-bib-body\" style=\"line-height: 1.35; padding-left: 1em; text-indent:-1em;\">\\n  <div class=\"csl-entry\">Sullivan, Raymond J. &#x201C;&#x2018;TO CATCH HIGH LEVEL ATTENTION&#x2019; HOW INTELLIGENCE INFLUENCES PEACETIME FORCE DEVELOPMENT IN THE U.S. MILITARY.&#x201D; Johns Hopkins University, 2022. <a href=\"http://jhir.library.jhu.edu/handle/1774.2/67341\">http://jhir.library.jhu.edu/handle/1774.2/67341</a>.</div>\\n</div>',\n",
       " '<?xml version=\"1.0\"?>\\n<div class=\"csl-bib-body\" style=\"line-height: 1.35; padding-left: 1em; text-indent:-1em;\">\\n  <div class=\"csl-entry\">Hammond, Claudia. &#x201C;EXAMINING THE FBI&#x2019;S EARLY INSTITUTIONAL HISTORY ON INTER-AGENCY INTELLIGENCE SHARING: A COMPARATIVE ANALYSIS OF COOPERATION WITHIN THE UNITED STATES INTELLIGENCE COMMUNITY BETWEEN 1947 AND 1969.&#x201D; Master Thesis, Johns Hopkins University, 2021. <a href=\"http://jhir.library.jhu.edu/handle/1774.2/64264\">http://jhir.library.jhu.edu/handle/1774.2/64264</a>.</div>\\n</div>',\n",
       " '<?xml version=\"1.0\"?>\\n<div class=\"csl-bib-body\" style=\"line-height: 1.35; padding-left: 1em; text-indent:-1em;\">\\n  <div class=\"csl-entry\">Artiaga, Anthony James. &#x201C;INTELLIGENCE FAILURES, STRATEGIC SURPRISE, AND &#x2018;REDUCING UNCERTAINTY&#x2019;: RESHAPING INFORMATION SHARING AND THE INTELLIGENCE CYCLE IN THE UNITED STATES INTELLIGENCE COMMUNITY.&#x201D; Master Thesis, Johns Hopkins University, 2023. <a href=\"http://jhir.library.jhu.edu/handle/1774.2/68510\">http://jhir.library.jhu.edu/handle/1774.2/68510</a>.</div>\\n</div>',\n",
       " '<?xml version=\"1.0\"?>\\n<div class=\"csl-bib-body\" style=\"line-height: 1.35; padding-left: 1em; text-indent:-1em;\">\\n  <div class=\"csl-entry\">Tarino, Danielle. &#x201C;Towards a Theory in Counternarcotics Intelligence: Building a Framework for Security in America.&#x201D; MA Thesis, Georgetown University, 2018. <a href=\"https://repository.library.georgetown.edu/handle/10822/1054958\">https://repository.library.georgetown.edu/handle/10822/1054958</a>.</div>\\n</div>',\n",
       " '<?xml version=\"1.0\"?>\\n<div class=\"csl-bib-body\" style=\"line-height: 1.35; padding-left: 1em; text-indent:-1em;\">\\n  <div class=\"csl-entry\">Harris, Victor Hugo. &#x201C;Does Intelligence Oversight Support or Hinder Counterinsurgency (COIN) and Homeland Defense Operations?&#x201D; MA Thesis, Georgetown University, 2010. <a href=\"https://repository.library.georgetown.edu/handle/10822/553331\">https://repository.library.georgetown.edu/handle/10822/553331</a>.</div>\\n</div>',\n",
       " '<?xml version=\"1.0\"?>\\n<div class=\"csl-bib-body\" style=\"line-height: 1.35; padding-left: 1em; text-indent:-1em;\">\\n  <div class=\"csl-entry\">Montgomery, Alexander E. &#x201C;ORGANIZATIONAL CULTURE&#x2019;S EFFECTS ON INFORMATION SHARING WITHIN THE UNITED STATES INTELLIGENCE COMMUNITY.&#x201D; MA Thesis, Georgetown University, 2012. <a href=\"https://repository.library.georgetown.edu/handle/10822/557636\">https://repository.library.georgetown.edu/handle/10822/557636</a>.</div>\\n</div>',\n",
       " '<?xml version=\"1.0\"?>\\n<div class=\"csl-bib-body\" style=\"line-height: 1.35; padding-left: 1em; text-indent:-1em;\">\\n  <div class=\"csl-entry\">Brunson, Dione. &#x201C;2003 Iraq War&#x202F;: Intelligence or Political Failure?&#x201D; MA Thesis, Georgetown University, 2011. <a href=\"https://repository.library.georgetown.edu/handle/10822/553294\">https://repository.library.georgetown.edu/handle/10822/553294</a>.</div>\\n</div>',\n",
       " '<?xml version=\"1.0\"?>\\n<div class=\"csl-bib-body\" style=\"line-height: 1.35; padding-left: 1em; text-indent:-1em;\">\\n  <div class=\"csl-entry\">Gale, Jacob Benjamin. &#x201C;Intelligence Outsourcing in the U.S. Department of Defense&#x202F;: Theory, Practice, and Implications.&#x201D; MA Thesis, Georgetown University, 2011. <a href=\"https://repository.library.georgetown.edu/handle/10822/553492\">https://repository.library.georgetown.edu/handle/10822/553492</a>.</div>\\n</div>',\n",
       " '<?xml version=\"1.0\"?>\\n<div class=\"csl-bib-body\" style=\"line-height: 1.35; padding-left: 1em; text-indent:-1em;\">\\n  <div class=\"csl-entry\">Cherry, Philip Jason. &#x201C;U.S. Intelligence and the Shah 1957-1979&#x202F;: A Case Study of Asymmetric Intelligence Liaison.&#x201D; MA Thesis, Georgetown University, 2010. <a href=\"https://repository.library.georgetown.edu/handle/10822/553466\">https://repository.library.georgetown.edu/handle/10822/553466</a>.</div>\\n</div>',\n",
       " '<?xml version=\"1.0\"?>\\n<div class=\"csl-bib-body\" style=\"line-height: 1.35; padding-left: 1em; text-indent:-1em;\">\\n  <div class=\"csl-entry\">Lelewel, Stefan. &#x201C;International Intelligence Cooperation in Counter-Terrorism&#x202F;: Causes, Complications and Consequences.&#x201D; MA Thesis, Georgetown University, 2009. <a href=\"https://repository.library.georgetown.edu/handle/10822/553538\">https://repository.library.georgetown.edu/handle/10822/553538</a>.</div>\\n</div>',\n",
       " '<?xml version=\"1.0\"?>\\n<div class=\"csl-bib-body\" style=\"line-height: 1.35; padding-left: 1em; text-indent:-1em;\">\\n  <div class=\"csl-entry\">Brown, Amy Elizabeth. &#x201C;Directed or Diffuse?&#x202F;: Chinese Human Intelligence Targeting of US Defense Technology.&#x201D; MA Thesis, Georgetown University, 2009. <a href=\"https://repository.library.georgetown.edu/handle/10822/553457\">https://repository.library.georgetown.edu/handle/10822/553457</a>.</div>\\n</div>',\n",
       " '<?xml version=\"1.0\"?>\\n<div class=\"csl-bib-body\" style=\"line-height: 1.35; padding-left: 1em; text-indent:-1em;\">\\n  <div class=\"csl-entry\">Gheorghe, Rodica Eliza. &#x201C;The Romanian Intelligence Services during the Cold War&#x202F;: How Small Powers Can Sometimes Be Strong.&#x201D; MA Thesis, Georgetown University, 2010. <a href=\"https://repository.library.georgetown.edu/handle/10822/553496\">https://repository.library.georgetown.edu/handle/10822/553496</a>.</div>\\n</div>',\n",
       " '<?xml version=\"1.0\"?>\\n<div class=\"csl-bib-body\" style=\"line-height: 1.35; padding-left: 1em; text-indent:-1em;\">\\n  <div class=\"csl-entry\">Piotrowicz, Edward J. &#x201C;The Battle for Intelligence&#x202F;: How a New Understanding of Intelligence Illuminates Victory and Defeat in World War II.&#x201D; MA Thesis, Georgetown University, 2011. <a href=\"https://repository.library.georgetown.edu/handle/10822/553559\">https://repository.library.georgetown.edu/handle/10822/553559</a>.</div>\\n</div>',\n",
       " '<?xml version=\"1.0\"?>\\n<div class=\"csl-bib-body\" style=\"line-height: 1.35; padding-left: 1em; text-indent:-1em;\">\\n  <div class=\"csl-entry\">Heather, Randall William. &#x201C;Counterinsurgency and Intelligence in Kenya&#x202F;: 1952-56.&#x201D; PhD Thesis, University of Cambridge, 1994. <a href=\"https://www.repository.cam.ac.uk/handle/1810/251561\">https://www.repository.cam.ac.uk/handle/1810/251561</a>.</div>\\n</div>',\n",
       " '<?xml version=\"1.0\"?>\\n<div class=\"csl-bib-body\" style=\"line-height: 1.35; padding-left: 1em; text-indent:-1em;\">\\n  <div class=\"csl-entry\">Henry, Hugh G. &#x201C;The Planning, Intelligence, Execution and Aftermath of the Dieppe Raid, 19 August 1942,&#x201D; 1996. <a href=\"https://www.repository.cam.ac.uk/handle/1810/272503\">https://www.repository.cam.ac.uk/handle/1810/272503</a>.</div>\\n</div>',\n",
       " '<?xml version=\"1.0\"?>\\n<div class=\"csl-bib-body\" style=\"line-height: 1.35; padding-left: 1em; text-indent:-1em;\">\\n  <div class=\"csl-entry\">Bergman, Ronen. &#x201C;Israel and Africa&#x202F;: Military and Intelligence Liasons,&#x201D; 2007. <a href=\"https://www.repository.cam.ac.uk/handle/1810/252040\">https://www.repository.cam.ac.uk/handle/1810/252040</a>.</div>\\n</div>',\n",
       " '<?xml version=\"1.0\"?>\\n<div class=\"csl-bib-body\" style=\"line-height: 1.35; padding-left: 1em; text-indent:-1em;\">\\n  <div class=\"csl-entry\">Sfetcu, Nicolae. &#x201C;Epistemology of Intelligence Agencies.&#x201D; SSRN Scholarly Paper. Rochester, NY, April 7, 2019. <a href=\"https://doi.org/10.2139/ssrn.4597003\">https://doi.org/10.2139/ssrn.4597003</a>.</div>\\n</div>',\n",
       " '<?xml version=\"1.0\"?>\\n<div class=\"csl-bib-body\" style=\"line-height: 1.35; padding-left: 1em; text-indent:-1em;\">\\n  <div class=\"csl-entry\">Quinlan, Kevin Patrick. &#x201C;Human Intelligence Tradecraft and MI5 Operations in Britain, 1919-1940.&#x201D; PhD Thesis, University of Cambridge, 2008. <a href=\"https://www.repository.cam.ac.uk/handle/1810/252117\">https://www.repository.cam.ac.uk/handle/1810/252117</a>.</div>\\n</div>',\n",
       " '<?xml version=\"1.0\"?>\\n<div class=\"csl-bib-body\" style=\"line-height: 1.35; padding-left: 1em; text-indent:-1em;\">\\n  <div class=\"csl-entry\">Wilkinson, Mark. &#x201C;Playing the Long Game&#x202F;: UK Secret Intelligence and Its Relationship with Chemical and Biological Weapons Related Foreign Policy.&#x201D; PhD Thesis, University of Warwick, 2009. <a href=\"https://wrap.warwick.ac.uk/id/eprint/3373/\">https://wrap.warwick.ac.uk/id/eprint/3373/</a>.</div>\\n</div>',\n",
       " '<?xml version=\"1.0\"?>\\n<div class=\"csl-bib-body\" style=\"line-height: 1.35; padding-left: 1em; text-indent:-1em;\">\\n  <div class=\"csl-entry\">Vernon, Christopher D. &#x201C;News, Intelligence and &#x2019;little Lies&#x2019;&#x202F;: Rumours between the Cherokees and the British 1740-1785.&#x201D; PhD Thesis, University of Warwick, 2012. <a href=\"http://webcat.warwick.ac.uk/record=b2683328~S1\">http://webcat.warwick.ac.uk/record=b2683328~S1</a>.</div>\\n</div>',\n",
       " '<?xml version=\"1.0\"?>\\n<div class=\"csl-bib-body\" style=\"line-height: 1.35; padding-left: 1em; text-indent:-1em;\">\\n  <div class=\"csl-entry\">Rahman, Syed S. &#x201C;Data Fusion for Human Intelligence and Crisis Management&#x202F;: Handling Information from Untrusted Sources.&#x201D; PhD Thesis, University of Warwick, 2014. <a href=\"http://webcat.warwick.ac.uk/record=b2812779~S1\">http://webcat.warwick.ac.uk/record=b2812779~S1</a>.</div>\\n</div>',\n",
       " '<?xml version=\"1.0\"?>\\n<div class=\"csl-bib-body\" style=\"line-height: 1.35; padding-left: 1em; text-indent:-1em;\">\\n  <div class=\"csl-entry\">Shah, Nikita. &#x201C;&#x2018;Secret Towns&#x2019;&#x202F;: British Intelligence in Asia during the Cold War.&#x201D; PhD Thesis, University of Warwick, 2016. <a href=\"http://webcat.warwick.ac.uk/record=b2933583~S1\">http://webcat.warwick.ac.uk/record=b2933583~S1</a>.</div>\\n</div>',\n",
       " '<?xml version=\"1.0\"?>\\n<div class=\"csl-bib-body\" style=\"line-height: 1.35; padding-left: 1em; text-indent:-1em;\">\\n  <div class=\"csl-entry\">Work, J. D. &#x201C;The Evolving Relationship of Intelligence in Support of Cyber Operations.&#x201D; PhD Thesis, University of Warwick, 2023. <a href=\"http://webcat.warwick.ac.uk/record=b3985085\">http://webcat.warwick.ac.uk/record=b3985085</a>.</div>\\n</div>',\n",
       " '<?xml version=\"1.0\"?>\\n<div class=\"csl-bib-body\" style=\"line-height: 1.35; padding-left: 1em; text-indent:-1em;\">\\n  <div class=\"csl-entry\">Heath-Kelly, Charlotte. &#x201C;Multi-Agency Counter-Terrorism in Britain and Norway&#x202F;: Intelligence Agencies and the Administration of Welfare.&#x201D; <i>Security Dialogue</i>, May 1, 2024. <a href=\"https://doi.org/10.1177/09670106241234203\">https://doi.org/10.1177/09670106241234203</a>.</div>\\n</div>',\n",
       " '<?xml version=\"1.0\"?>\\n<div class=\"csl-bib-body\" style=\"line-height: 1.35; padding-left: 1em; text-indent:-1em;\">\\n  <div class=\"csl-entry\">Kagan, Neil, and Stephen G. Hyslop. <i>THE SECRET HISTORY OF WORLD WAR II: Spies, Code Breakers, &amp; Covert Operations</i>. United States: National Geographic Partners LLC, 2016. <a href=\"https://nationalgeographicpartners.com/2016/10/the-secret-history-of-world-war-ii-spies-code-breakers-covert-operations/\">https://nationalgeographicpartners.com/2016/10/the-secret-history-of-world-war-ii-spies-code-breakers-covert-operations/</a>.</div>\\n</div>',\n",
       " '<?xml version=\"1.0\"?>\\n<div class=\"csl-bib-body\" style=\"line-height: 1.35; padding-left: 1em; text-indent:-1em;\">\\n  <div class=\"csl-entry\">Ferguson, Donna. &#x201C;Uncovered: 428-Year-Old Secret Dossier Reveals Elizabeth I&#x2019;s Network of Spies.&#x201D; <i>The Guardian</i>, June 29, 2024, sec. World news. <a href=\"https://www.theguardian.com/world/article/2024/jun/29/uncovered-428-year-old-secret-dossier-reveals-elizabeth-is-network-of-spies\">https://www.theguardian.com/world/article/2024/jun/29/uncovered-428-year-old-secret-dossier-reveals-elizabeth-is-network-of-spies</a>.</div>\\n</div>']"
      ]
     },
     "execution_count": 169,
     "metadata": {},
     "output_type": "execute_result"
    }
   ],
   "source": [
    "bibliographies"
   ]
  },
  {
   "cell_type": "code",
   "execution_count": 170,
   "metadata": {},
   "outputs": [
    {
     "data": {
      "text/html": [
       "<div>\n",
       "<style scoped>\n",
       "    .dataframe tbody tr th:only-of-type {\n",
       "        vertical-align: middle;\n",
       "    }\n",
       "\n",
       "    .dataframe tbody tr th {\n",
       "        vertical-align: top;\n",
       "    }\n",
       "\n",
       "    .dataframe thead th {\n",
       "        text-align: right;\n",
       "    }\n",
       "</style>\n",
       "<table border=\"1\" class=\"dataframe\">\n",
       "  <thead>\n",
       "    <tr style=\"text-align: right;\">\n",
       "      <th></th>\n",
       "      <th>zotero_item_key</th>\n",
       "      <th>bibliography</th>\n",
       "    </tr>\n",
       "  </thead>\n",
       "  <tbody>\n",
       "    <tr>\n",
       "      <th>0</th>\n",
       "      <td>MM95S3LQ</td>\n",
       "      <td>&lt;?xml version=\"1.0\"?&gt;\\n&lt;div class=\"csl-bib-bod...</td>\n",
       "    </tr>\n",
       "    <tr>\n",
       "      <th>1</th>\n",
       "      <td>AN5YI8EM</td>\n",
       "      <td>&lt;?xml version=\"1.0\"?&gt;\\n&lt;div class=\"csl-bib-bod...</td>\n",
       "    </tr>\n",
       "    <tr>\n",
       "      <th>2</th>\n",
       "      <td>UYS2PIFQ</td>\n",
       "      <td>&lt;?xml version=\"1.0\"?&gt;\\n&lt;div class=\"csl-bib-bod...</td>\n",
       "    </tr>\n",
       "    <tr>\n",
       "      <th>3</th>\n",
       "      <td>55Z2ZJDM</td>\n",
       "      <td>&lt;?xml version=\"1.0\"?&gt;\\n&lt;div class=\"csl-bib-bod...</td>\n",
       "    </tr>\n",
       "    <tr>\n",
       "      <th>4</th>\n",
       "      <td>GMC4REMY</td>\n",
       "      <td>&lt;?xml version=\"1.0\"?&gt;\\n&lt;div class=\"csl-bib-bod...</td>\n",
       "    </tr>\n",
       "    <tr>\n",
       "      <th>...</th>\n",
       "      <td>...</td>\n",
       "      <td>...</td>\n",
       "    </tr>\n",
       "    <tr>\n",
       "      <th>7000</th>\n",
       "      <td>U39ZPNMM</td>\n",
       "      <td>&lt;?xml version=\"1.0\"?&gt;\\n&lt;div class=\"csl-bib-bod...</td>\n",
       "    </tr>\n",
       "    <tr>\n",
       "      <th>7001</th>\n",
       "      <td>2G66LX33</td>\n",
       "      <td>&lt;?xml version=\"1.0\"?&gt;\\n&lt;div class=\"csl-bib-bod...</td>\n",
       "    </tr>\n",
       "    <tr>\n",
       "      <th>7002</th>\n",
       "      <td>F9NUWFLR</td>\n",
       "      <td>&lt;?xml version=\"1.0\"?&gt;\\n&lt;div class=\"csl-bib-bod...</td>\n",
       "    </tr>\n",
       "    <tr>\n",
       "      <th>7003</th>\n",
       "      <td>DG3Q6KX5</td>\n",
       "      <td>&lt;?xml version=\"1.0\"?&gt;\\n&lt;div class=\"csl-bib-bod...</td>\n",
       "    </tr>\n",
       "    <tr>\n",
       "      <th>7004</th>\n",
       "      <td>8JHPRYYC</td>\n",
       "      <td>&lt;?xml version=\"1.0\"?&gt;\\n&lt;div class=\"csl-bib-bod...</td>\n",
       "    </tr>\n",
       "  </tbody>\n",
       "</table>\n",
       "<p>7005 rows × 2 columns</p>\n",
       "</div>"
      ],
      "text/plain": [
       "     zotero_item_key                                       bibliography\n",
       "0           MM95S3LQ  <?xml version=\"1.0\"?>\\n<div class=\"csl-bib-bod...\n",
       "1           AN5YI8EM  <?xml version=\"1.0\"?>\\n<div class=\"csl-bib-bod...\n",
       "2           UYS2PIFQ  <?xml version=\"1.0\"?>\\n<div class=\"csl-bib-bod...\n",
       "3           55Z2ZJDM  <?xml version=\"1.0\"?>\\n<div class=\"csl-bib-bod...\n",
       "4           GMC4REMY  <?xml version=\"1.0\"?>\\n<div class=\"csl-bib-bod...\n",
       "...              ...                                                ...\n",
       "7000        U39ZPNMM  <?xml version=\"1.0\"?>\\n<div class=\"csl-bib-bod...\n",
       "7001        2G66LX33  <?xml version=\"1.0\"?>\\n<div class=\"csl-bib-bod...\n",
       "7002        F9NUWFLR  <?xml version=\"1.0\"?>\\n<div class=\"csl-bib-bod...\n",
       "7003        DG3Q6KX5  <?xml version=\"1.0\"?>\\n<div class=\"csl-bib-bod...\n",
       "7004        8JHPRYYC  <?xml version=\"1.0\"?>\\n<div class=\"csl-bib-bod...\n",
       "\n",
       "[7005 rows x 2 columns]"
      ]
     },
     "execution_count": 170,
     "metadata": {},
     "output_type": "execute_result"
    }
   ],
   "source": [
    "df_zotero_id = pd.read_csv('https://raw.githubusercontent.com/yusufaliozkan/zotero-intelligence-bibliography/main/zotero_citation_format.csv', index_col=False)\n",
    "df_zotero_id = df_zotero_id.drop(columns={'Unnamed: 0'})\n",
    "df_zotero_id = pd.concat([df_zotero_id, df_not_zotero_id]).reset_index(drop=True)\n",
    "df_zotero_id"
   ]
  },
  {
   "cell_type": "code",
   "execution_count": 171,
   "metadata": {},
   "outputs": [],
   "source": [
    "df_zotero_id.to_csv('zotero_citation_format.csv')"
   ]
  }
 ],
 "metadata": {
  "kernelspec": {
   "display_name": "Python 3.10.6 64-bit",
   "language": "python",
   "name": "python3"
  },
  "language_info": {
   "codemirror_mode": {
    "name": "ipython",
    "version": 3
   },
   "file_extension": ".py",
   "mimetype": "text/x-python",
   "name": "python",
   "nbconvert_exporter": "python",
   "pygments_lexer": "ipython3",
   "version": "3.10.6"
  },
  "vscode": {
   "interpreter": {
    "hash": "ad80e88e3d0f45253c4e09d27534efe22e9bb02b1c82d05b21d80e484bb90b14"
   }
  }
 },
 "nbformat": 4,
 "nbformat_minor": 2
}
